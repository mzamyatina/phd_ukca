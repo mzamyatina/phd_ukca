{
 "cells": [
  {
   "cell_type": "code",
   "execution_count": 1,
   "metadata": {},
   "outputs": [],
   "source": [
    "import iris\n",
    "import iris.coord_categorisation\n",
    "import datetime\n",
    "import numpy as np\n",
    "import pandas as pd\n",
    "from pathlib import Path\n",
    "import matplotlib.pyplot as plt\n",
    "from pandas.plotting import register_matplotlib_converters\n",
    "register_matplotlib_converters() # for tstamps\n",
    "plt.rcParams['mathtext.default'] = 'regular'"
   ]
  },
  {
   "cell_type": "code",
   "execution_count": 2,
   "metadata": {},
   "outputs": [],
   "source": [
    "# Choose a job\n",
    "job = 'xojnh'\n",
    "if job == 'xojnd': exp = 'BASE';\n",
    "elif job == 'xojnh': exp = 'CHEM'; # used to be xojne\n",
    "elif job == 'xojnb': exp = 'OCEAN';\n",
    "elif job == 'xojnc': exp = 'BB';\n",
    "elif job == '??': exp = 'ALL'"
   ]
  },
  {
   "cell_type": "code",
   "execution_count": 14,
   "metadata": {},
   "outputs": [
    {
     "name": "stderr",
     "output_type": "stream",
     "text": [
      "/local/mwe14avu/anaconda3/lib/python3.6/site-packages/iris/fileformats/rules.py:334: UserWarning: Unable to create instance of HybridHeightFactory. The source data contains no field(s) for 'orography'.\n",
      "  warnings.warn(msg.format(factory=factory_name))\n"
     ]
    },
    {
     "ename": "ConstraintMismatchError",
     "evalue": "Got 0 cubes for constraint AttributeConstraint({'STASH': 'm01s34i098'}), expecting 1.",
     "output_type": "error",
     "traceback": [
      "\u001b[0;31m---------------------------------------------------------------------------\u001b[0m",
      "\u001b[0;31mConstraintMismatchError\u001b[0m                   Traceback (most recent call last)",
      "\u001b[0;32m<ipython-input-14-a10803d46b1a>\u001b[0m in \u001b[0;36m<module>\u001b[0;34m\u001b[0m\n\u001b[1;32m      8\u001b[0m \u001b[0metono2\u001b[0m \u001b[0;34m=\u001b[0m \u001b[0mcubelist\u001b[0m\u001b[0;34m.\u001b[0m\u001b[0mextract_strict\u001b[0m\u001b[0;34m(\u001b[0m\u001b[0miris\u001b[0m\u001b[0;34m.\u001b[0m\u001b[0mAttributeConstraint\u001b[0m\u001b[0;34m(\u001b[0m\u001b[0mSTASH\u001b[0m\u001b[0;34m=\u001b[0m\u001b[0;34m'm01s34i096'\u001b[0m\u001b[0;34m)\u001b[0m\u001b[0;34m)\u001b[0m\u001b[0;34m\u001b[0m\u001b[0;34m\u001b[0m\u001b[0m\n\u001b[1;32m      9\u001b[0m \u001b[0mnprono2\u001b[0m \u001b[0;34m=\u001b[0m \u001b[0mcubelist\u001b[0m\u001b[0;34m.\u001b[0m\u001b[0mextract_strict\u001b[0m\u001b[0;34m(\u001b[0m\u001b[0miris\u001b[0m\u001b[0;34m.\u001b[0m\u001b[0mAttributeConstraint\u001b[0m\u001b[0;34m(\u001b[0m\u001b[0mSTASH\u001b[0m\u001b[0;34m=\u001b[0m\u001b[0;34m'm01s34i097'\u001b[0m\u001b[0;34m)\u001b[0m\u001b[0;34m)\u001b[0m\u001b[0;34m\u001b[0m\u001b[0;34m\u001b[0m\u001b[0m\n\u001b[0;32m---> 10\u001b[0;31m \u001b[0miprono2\u001b[0m \u001b[0;34m=\u001b[0m \u001b[0mcubelist\u001b[0m\u001b[0;34m.\u001b[0m\u001b[0mextract_strict\u001b[0m\u001b[0;34m(\u001b[0m\u001b[0miris\u001b[0m\u001b[0;34m.\u001b[0m\u001b[0mAttributeConstraint\u001b[0m\u001b[0;34m(\u001b[0m\u001b[0mSTASH\u001b[0m\u001b[0;34m=\u001b[0m\u001b[0;34m'm01s34i098'\u001b[0m\u001b[0;34m)\u001b[0m\u001b[0;34m)\u001b[0m\u001b[0;34m\u001b[0m\u001b[0;34m\u001b[0m\u001b[0m\n\u001b[0m\u001b[1;32m     11\u001b[0m \u001b[0mtemp\u001b[0m \u001b[0;34m=\u001b[0m \u001b[0mcubelist\u001b[0m\u001b[0;34m.\u001b[0m\u001b[0mextract_strict\u001b[0m\u001b[0;34m(\u001b[0m\u001b[0;34m'air_temperature'\u001b[0m\u001b[0;34m)\u001b[0m\u001b[0;34m\u001b[0m\u001b[0;34m\u001b[0m\u001b[0m\n\u001b[1;32m     12\u001b[0m \u001b[0mair_mass\u001b[0m \u001b[0;34m=\u001b[0m \u001b[0mcubelist\u001b[0m\u001b[0;34m.\u001b[0m\u001b[0mextract_strict\u001b[0m\u001b[0;34m(\u001b[0m\u001b[0miris\u001b[0m\u001b[0;34m.\u001b[0m\u001b[0mAttributeConstraint\u001b[0m\u001b[0;34m(\u001b[0m\u001b[0mSTASH\u001b[0m\u001b[0;34m=\u001b[0m\u001b[0;34m'm01s34i363'\u001b[0m\u001b[0;34m)\u001b[0m\u001b[0;34m)\u001b[0m \u001b[0;31m# air mass [kg]\u001b[0m\u001b[0;34m\u001b[0m\u001b[0;34m\u001b[0m\u001b[0m\n",
      "\u001b[0;32m~/anaconda3/lib/python3.6/site-packages/iris/cube.py\u001b[0m in \u001b[0;36mextract_strict\u001b[0;34m(self, constraints)\u001b[0m\n\u001b[1;32m    317\u001b[0m \u001b[0;34m\u001b[0m\u001b[0m\n\u001b[1;32m    318\u001b[0m         \"\"\"\n\u001b[0;32m--> 319\u001b[0;31m         \u001b[0;32mreturn\u001b[0m \u001b[0mself\u001b[0m\u001b[0;34m.\u001b[0m\u001b[0mextract\u001b[0m\u001b[0;34m(\u001b[0m\u001b[0mconstraints\u001b[0m\u001b[0;34m,\u001b[0m \u001b[0mstrict\u001b[0m\u001b[0;34m=\u001b[0m\u001b[0;32mTrue\u001b[0m\u001b[0;34m)\u001b[0m\u001b[0;34m\u001b[0m\u001b[0;34m\u001b[0m\u001b[0m\n\u001b[0m\u001b[1;32m    320\u001b[0m \u001b[0;34m\u001b[0m\u001b[0m\n\u001b[1;32m    321\u001b[0m     \u001b[0;32mdef\u001b[0m \u001b[0mextract_overlapping\u001b[0m\u001b[0;34m(\u001b[0m\u001b[0mself\u001b[0m\u001b[0;34m,\u001b[0m \u001b[0mcoord_names\u001b[0m\u001b[0;34m)\u001b[0m\u001b[0;34m:\u001b[0m\u001b[0;34m\u001b[0m\u001b[0;34m\u001b[0m\u001b[0m\n",
      "\u001b[0;32m~/anaconda3/lib/python3.6/site-packages/iris/cube.py\u001b[0m in \u001b[0;36mextract\u001b[0;34m(self, constraints, strict)\u001b[0m\n\u001b[1;32m    276\u001b[0m         \"\"\"\n\u001b[1;32m    277\u001b[0m         return self._extract_and_merge(self, constraints, strict,\n\u001b[0;32m--> 278\u001b[0;31m                                        merge_unique=None)\n\u001b[0m\u001b[1;32m    279\u001b[0m \u001b[0;34m\u001b[0m\u001b[0m\n\u001b[1;32m    280\u001b[0m     \u001b[0;34m@\u001b[0m\u001b[0mstaticmethod\u001b[0m\u001b[0;34m\u001b[0m\u001b[0;34m\u001b[0m\u001b[0m\n",
      "\u001b[0;32m~/anaconda3/lib/python3.6/site-packages/iris/cube.py\u001b[0m in \u001b[0;36m_extract_and_merge\u001b[0;34m(cubes, constraints, strict, merge_unique)\u001b[0m\n\u001b[1;32m    304\u001b[0m                 \u001b[0mmsg\u001b[0m \u001b[0;34m=\u001b[0m \u001b[0;34m'Got %s cubes for constraint %r, '\u001b[0m\u001b[0;31m \u001b[0m\u001b[0;31m\\\u001b[0m\u001b[0;34m\u001b[0m\u001b[0;34m\u001b[0m\u001b[0m\n\u001b[1;32m    305\u001b[0m                       \u001b[0;34m'expecting 1.'\u001b[0m \u001b[0;34m%\u001b[0m \u001b[0;34m(\u001b[0m\u001b[0mlen\u001b[0m\u001b[0;34m(\u001b[0m\u001b[0mconstraint_cubes\u001b[0m\u001b[0;34m)\u001b[0m\u001b[0;34m,\u001b[0m \u001b[0mconstraint\u001b[0m\u001b[0;34m)\u001b[0m\u001b[0;34m\u001b[0m\u001b[0;34m\u001b[0m\u001b[0m\n\u001b[0;32m--> 306\u001b[0;31m                 \u001b[0;32mraise\u001b[0m \u001b[0miris\u001b[0m\u001b[0;34m.\u001b[0m\u001b[0mexceptions\u001b[0m\u001b[0;34m.\u001b[0m\u001b[0mConstraintMismatchError\u001b[0m\u001b[0;34m(\u001b[0m\u001b[0mmsg\u001b[0m\u001b[0;34m)\u001b[0m\u001b[0;34m\u001b[0m\u001b[0;34m\u001b[0m\u001b[0m\n\u001b[0m\u001b[1;32m    307\u001b[0m             \u001b[0mresult\u001b[0m\u001b[0;34m.\u001b[0m\u001b[0mextend\u001b[0m\u001b[0;34m(\u001b[0m\u001b[0mconstraint_cubes\u001b[0m\u001b[0;34m)\u001b[0m\u001b[0;34m\u001b[0m\u001b[0;34m\u001b[0m\u001b[0m\n\u001b[1;32m    308\u001b[0m \u001b[0;34m\u001b[0m\u001b[0m\n",
      "\u001b[0;31mConstraintMismatchError\u001b[0m: Got 0 cubes for constraint AttributeConstraint({'STASH': 'm01s34i098'}), expecting 1."
     ]
    }
   ],
   "source": [
    "# Load data\n",
    "path_to_ukca = Path(f'../data/{job}')\n",
    "cubelist = iris.load(str(path_to_ukca / f'{job}_chem_2yrs.pp'))\n",
    "o3 = cubelist.extract_strict('mass_fraction_of_ozone_in_air')\n",
    "oh = cubelist.extract_strict('mass_fraction_of_hydroxyl_radical_in_air')\n",
    "ch4 = cubelist.extract_strict('mass_fraction_of_methane_in_air')\n",
    "meono2 = cubelist.extract_strict('mass_fraction_of_methyl_nitrate_in_air')\n",
    "etono2 = cubelist.extract_strict(iris.AttributeConstraint(STASH='m01s34i096'))\n",
    "nprono2 = cubelist.extract_strict(iris.AttributeConstraint(STASH='m01s34i097'))\n",
    "# iprono2 = cubelist.extract_strict(iris.AttributeConstraint(STASH='m01s34i098'))\n",
    "temp = cubelist.extract_strict('air_temperature')\n",
    "air_mass = cubelist.extract_strict(iris.AttributeConstraint(STASH='m01s34i363')) # air mass [kg]\n",
    "gridbox_vol = iris.load_cube(str(path_to_ukca.parent / 'ukca_n48_l60_geovol.nc'), 'vol_theta') # UKCA grid box volume [m3]\n",
    "# Path to figures\n",
    "path_to_figs = Path('../../../results') / job / 'metrics'\n",
    "path_to_figs.mkdir(exist_ok=True)"
   ]
  },
  {
   "cell_type": "code",
   "execution_count": 4,
   "metadata": {},
   "outputs": [
    {
     "data": {
      "text/plain": [
       "AuxCoord(array(['Dec', 'Jan', 'Feb', 'Mar', 'Apr', 'May', 'Jun', 'Jul', 'Aug',\n",
       "       'Sep', 'Oct', 'Nov', 'Dec', 'Jan', 'Feb', 'Mar', 'Apr', 'May',\n",
       "       'Jun', 'Jul', 'Aug', 'Sep', 'Oct', 'Nov', 'Dec', 'Jan', 'Feb',\n",
       "       'Mar', 'Apr', 'May'], dtype='<U64'), standard_name=None, units=Unit('no_unit'), long_name='month')"
      ]
     },
     "execution_count": 4,
     "metadata": {},
     "output_type": "execute_result"
    }
   ],
   "source": [
    "# Specify variable units using info from the documentation\n",
    "air_mass.units = 'kg'\n",
    "gridbox_vol.units = 'm3'\n",
    "# Check if Dec is the first month\n",
    "cb = o3.copy()\n",
    "n_yrs = int(cb.coord('time').points.shape[0]/12) # count number of years, year starts from Dec!\n",
    "iris.coord_categorisation.add_year(cb, 'time', name='year')\n",
    "iris.coord_categorisation.add_month(cb, 'time', name='month')\n",
    "cb.coord('month')"
   ]
  },
  {
   "cell_type": "code",
   "execution_count": 5,
   "metadata": {},
   "outputs": [],
   "source": [
    "# Create datetime coordinate for plotting\n",
    "tstamp0 = datetime.datetime.strptime(f\"{cb.coord('year').points[0]} \"+cb.coord('month').points[0], \"%Y %b\")\n",
    "tstamp1 = datetime.datetime.strptime(f\"{cb.coord('year').points[-1]} \"+cb.coord('month').points[-1], \"%Y %b\")\n",
    "tstamps = pd.date_range(tstamp0, tstamp1, freq='MS')"
   ]
  },
  {
   "cell_type": "markdown",
   "metadata": {},
   "source": [
    "#### Define troposphere"
   ]
  },
  {
   "cell_type": "code",
   "execution_count": 6,
   "metadata": {},
   "outputs": [],
   "source": [
    "trop_def = 'chemical'\n",
    "if trop_def == 'diagnostic':\n",
    "    # Use tropospheric mask fraction [no units]\n",
    "    trop_mask = cubelist.extract_strict(iris.AttributeConstraint(STASH='m01s34i362'))\n",
    "elif trop_def == 'chemical':\n",
    "    # Define chemical troposphere as one where O3 is less than 125 ppb\n",
    "    molar_mass_air = iris.coords.AuxCoord(28.9644, units='g mol-1')\n",
    "    molar_mass_o3 = iris.coords.AuxCoord(47.9982, units='g mol-1')\n",
    "    coeff_o3 = molar_mass_air.points[0]/molar_mass_o3.points[0]*1e9\n",
    "    trop_mask_bool = np.ma.masked_less(o3.data*coeff_o3, 125).mask\n",
    "    trop_mask = o3.copy(data=trop_mask_bool)\n",
    "    trop_mask.rename('chemical troposphere')\n",
    "trop_mask.units = '1'"
   ]
  },
  {
   "cell_type": "code",
   "execution_count": 7,
   "metadata": {},
   "outputs": [],
   "source": [
    "# 60S-60N constraint\n",
    "S60N60 = False\n",
    "if S60N60:\n",
    "    S60N60_constraint = iris.Constraint(latitude=lambda cell: -60 <= cell <= 60)\n",
    "    o3 = o3.extract(S60N60_constraint)\n",
    "    oh = oh.extract(S60N60_constraint)\n",
    "    ch4 = ch4.extract(S60N60_constraint)\n",
    "#     meono2 = meono2.extract(S60N60_constraint)\n",
    "#     etono2 = etono2.extract(S60N60_constraint)\n",
    "#     nprono2 = nprono2.extract(S60N60_constraint)\n",
    "#     iprono2 = iprono2.extract(S60N60_constraint)\n",
    "    temp = temp.extract(S60N60_constraint)\n",
    "    air_mass = air_mass.extract(S60N60_constraint)\n",
    "    trop_mask = trop_mask.extract(S60N60_constraint)\n",
    "    gridbox_vol = gridbox_vol.extract(S60N60_constraint)"
   ]
  },
  {
   "cell_type": "markdown",
   "metadata": {},
   "source": [
    "#### Tropospheric RONO2 burdens"
   ]
  },
  {
   "cell_type": "code",
   "execution_count": 8,
   "metadata": {},
   "outputs": [
    {
     "name": "stderr",
     "output_type": "stream",
     "text": [
      "/local/mwe14avu/anaconda3/lib/python3.6/site-packages/iris/cube.py:3180: UserWarning: Collapsing spatial coordinate 'latitude' without weighting\n",
      "  warnings.warn(msg.format(coord.name()))\n",
      "/local/mwe14avu/anaconda3/lib/python3.6/site-packages/iris/coords.py:1355: UserWarning: Collapsing a non-contiguous coordinate. Metadata may not be fully descriptive for 'model_level_number'.\n",
      "  warnings.warn(msg.format(self.name()))\n",
      "/local/mwe14avu/anaconda3/lib/python3.6/site-packages/iris/coords.py:1355: UserWarning: Collapsing a non-contiguous coordinate. Metadata may not be fully descriptive for 'latitude'.\n",
      "  warnings.warn(msg.format(self.name()))\n",
      "/local/mwe14avu/anaconda3/lib/python3.6/site-packages/iris/coords.py:1355: UserWarning: Collapsing a non-contiguous coordinate. Metadata may not be fully descriptive for 'longitude'.\n",
      "  warnings.warn(msg.format(self.name()))\n"
     ]
    },
    {
     "name": "stdout",
     "output_type": "stream",
     "text": [
      "73.40±1.67 Gg\n"
     ]
    }
   ],
   "source": [
    "# Calculate MeONO2 burden per month\n",
    "meono2_burden = (meono2*air_mass*trop_mask).collapsed(['latitude', 'longitude', 'level_height'], iris.analysis.SUM)\n",
    "meono2_burden.convert_units('Gg')\n",
    "# Calculate annual mean MeONO2 burden\n",
    "meono2_burden_annual_mean = meono2_burden[0:24].data.reshape(n_yrs,12).mean(axis=1)\n",
    "print(f'{np.mean(meono2_burden_annual_mean.data):1.2f}\\u00B1{np.std(meono2_burden_annual_mean.data):1.2f} Gg')"
   ]
  },
  {
   "cell_type": "code",
   "execution_count": 9,
   "metadata": {},
   "outputs": [
    {
     "data": {
      "image/png": "[encoded data removed]",
      "text/plain": [
       "<Figure size 432x288 with 1 Axes>"
      ]
     },
     "metadata": {
      "needs_background": "light"
     },
     "output_type": "display_data"
    }
   ],
   "source": [
    "fig, ax = plt.subplots()\n",
    "ax.plot(tstamps[0:24], meono2_burden[0:24].data)\n",
    "ax.set_title(f'{exp}\\n', loc='left', weight='bold')\n",
    "ax.set_xlabel('Time, yr')\n",
    "ax.set_ylabel('Gg')\n",
    "# Format xticklabels\n",
    "plt.draw() # force ticklabels to be generated\n",
    "# new_labels = [int(i.get_text())-cb.coord('year').points[0] for i in ax.get_xticklabels(which='both')]\n",
    "# ax.set_xticklabels(new_labels);\n",
    "if trop_def == 'chemical' and S60N60:\n",
    "    ax.set_title('Tropospheric $MeONO_2$ burden\\n(60\\u00B0S-60\\u00B0N using 125 ppb ozonopause)', loc='right')\n",
    "    fig.savefig(path_to_figs / f'{job}_meono2_burden_chemtrop_60S60N.png')\n",
    "if trop_def == 'chemical' and not S60N60:\n",
    "    ax.set_title('Tropospheric $MeONO_2$ burden\\n(using 125 ppb ozonopause)', loc='right')\n",
    "    fig.savefig(path_to_figs / f'{job}_meono2_burden_chemtrop.png')"
   ]
  },
  {
   "cell_type": "code",
   "execution_count": 10,
   "metadata": {},
   "outputs": [
    {
     "name": "stdout",
     "output_type": "stream",
     "text": [
      "18.28±1.00 Gg\n"
     ]
    }
   ],
   "source": [
    "# Calculate EtONO2 burden per month\n",
    "etono2_burden = (etono2*air_mass*trop_mask).collapsed(['latitude', 'longitude', 'level_height'], iris.analysis.SUM)\n",
    "etono2_burden.convert_units('Gg')\n",
    "# Calculate annual mean EtONO2 burden\n",
    "etono2_burden_annual_mean = etono2_burden[0:24].data.reshape(n_yrs,12).mean(axis=1)\n",
    "print(f'{np.mean(etono2_burden_annual_mean.data):1.2f}\\u00B1{np.std(etono2_burden_annual_mean.data):1.2f} Gg')"
   ]
  },
  {
   "cell_type": "code",
   "execution_count": 11,
   "metadata": {},
   "outputs": [
    {
     "data": {
      "image/png": "[encoded data removed]",
      "text/plain": [
       "<Figure size 432x288 with 1 Axes>"
      ]
     },
     "metadata": {
      "needs_background": "light"
     },
     "output_type": "display_data"
    }
   ],
   "source": [
    "fig, ax = plt.subplots()\n",
    "ax.plot(tstamps[0:24], etono2_burden[0:24].data)\n",
    "ax.set_title(f'{exp}\\n', loc='left', weight='bold')\n",
    "ax.set_xlabel('Time, yr')\n",
    "ax.set_ylabel('Gg')\n",
    "# Format xticklabels\n",
    "plt.draw() # force ticklabels to be generated\n",
    "# new_labels = [int(i.get_text())-cb.coord('year').points[0] for i in ax.get_xticklabels(which='both')]\n",
    "# ax.set_xticklabels(new_labels);\n",
    "if trop_def == 'chemical' and S60N60:\n",
    "    ax.set_title('Tropospheric $EtONO_2$ burden\\n(60\\u00B0S-60\\u00B0N using 125 ppb ozonopause)', loc='right')\n",
    "    fig.savefig(path_to_figs / f'{job}_etono2_burden_chemtrop_60S60N.png')\n",
    "if trop_def == 'chemical' and not S60N60:\n",
    "    ax.set_title('Tropospheric $EtONO_2$ burden\\n(using 125 ppb ozonopause)', loc='right')\n",
    "    fig.savefig(path_to_figs / f'{job}_etono2_burden_chemtrop.png')"
   ]
  },
  {
   "cell_type": "code",
   "execution_count": 12,
   "metadata": {},
   "outputs": [
    {
     "name": "stdout",
     "output_type": "stream",
     "text": [
      "1.668±0.070 Gg\n"
     ]
    }
   ],
   "source": [
    "# Calculate nPrONO2 burden per month\n",
    "nprono2_burden = (nprono2*air_mass*trop_mask).collapsed(['latitude', 'longitude', 'level_height'], iris.analysis.SUM)\n",
    "nprono2_burden.convert_units('Gg')\n",
    "# Calculate annual mean nPrONO2 burden\n",
    "nprono2_burden_annual_mean = nprono2_burden[0:24].data.reshape(n_yrs,12).mean(axis=1)\n",
    "print(f'{np.mean(nprono2_burden_annual_mean.data):1.3f}\\u00B1{np.std(nprono2_burden_annual_mean.data):1.3f} Gg')"
   ]
  },
  {
   "cell_type": "code",
   "execution_count": 13,
   "metadata": {},
   "outputs": [
    {
     "data": {
      "image/png": "[encoded data removed]",
      "text/plain": [
       "<Figure size 432x288 with 1 Axes>"
      ]
     },
     "metadata": {
      "needs_background": "light"
     },
     "output_type": "display_data"
    }
   ],
   "source": [
    "fig, ax = plt.subplots()\n",
    "ax.plot(tstamps[0:24], nprono2_burden[0:24].data)\n",
    "ax.set_title(f'{exp}\\n', loc='left', weight='bold')\n",
    "ax.set_xlabel('Time, yr')\n",
    "ax.set_ylabel('Gg')\n",
    "# Format xticklabels\n",
    "plt.draw() # force ticklabels to be generated\n",
    "# new_labels = [int(i.get_text())-cb.coord('year').points[0] for i in ax.get_xticklabels(which='both')]\n",
    "# ax.set_xticklabels(new_labels);\n",
    "if trop_def == 'chemical' and S60N60:\n",
    "    ax.set_title('Tropospheric $nPrONO_2$ burden\\n(60\\u00B0S-60\\u00B0N using 125 ppb ozonopause)', loc='right')\n",
    "    fig.savefig(path_to_figs / f'{job}_nprono2_burden_chemtrop_60S60N.png')\n",
    "if trop_def == 'chemical' and not S60N60:\n",
    "    ax.set_title('Tropospheric $nPrONO_2$ burden\\n(using 125 ppb ozonopause)', loc='right')\n",
    "    fig.savefig(path_to_figs / f'{job}_nprono2_burden_chemtrop.png')"
   ]
  },
  {
   "cell_type": "markdown",
   "metadata": {},
   "source": [
    "#### Tropospheric O3 burden"
   ]
  },
  {
   "cell_type": "code",
   "execution_count": null,
   "metadata": {},
   "outputs": [],
   "source": [
    "# Calculate O3 burden per month\n",
    "o3_burden = (o3*air_mass*trop_mask).collapsed(['latitude', 'longitude', 'level_height'], iris.analysis.SUM)\n",
    "o3_burden.convert_units('Tg')\n",
    "# Calculate annual mean O3 burden\n",
    "o3_burden_annual_mean = o3_burden[0:24].data.reshape(n_yrs,12).mean(axis=1)\n",
    "print(f'{np.mean(o3_burden_annual_mean.data):1.2f}\\u00B1{np.std(o3_burden_annual_mean.data):1.2f} Tg')"
   ]
  },
  {
   "cell_type": "code",
   "execution_count": null,
   "metadata": {},
   "outputs": [],
   "source": [
    "fig, ax = plt.subplots()\n",
    "ax.plot(tstamps[0:24], o3_burden[0:24].data)\n",
    "ax.set_title(f'{exp}\\n', loc='left', weight='bold')\n",
    "ax.set_xlabel('Time, yr')\n",
    "ax.set_ylabel('Tg')\n",
    "# Format xticklabels\n",
    "plt.draw() # force ticklabels to be generated\n",
    "# new_labels = [int(i.get_text())-cb.coord('year').points[0] for i in ax.get_xticklabels(which='both')]\n",
    "# ax.set_xticklabels(new_labels);\n",
    "if trop_def == 'chemical' and S60N60:\n",
    "    ax.set_title('Tropospheric $O_3$ burden\\n(60\\u00B0S-60\\u00B0N using 125 ppb ozonopause)', loc='right')\n",
    "    fig.savefig(path_to_figs / f'{job}_o3_burden_chemtrop_60S60N.png')\n",
    "if trop_def == 'chemical' and not S60N60:\n",
    "    ax.set_title('Tropospheric $O_3$ burden\\n(using 125 ppb ozonopause)', loc='right')\n",
    "    fig.savefig(path_to_figs / f'{job}_o3_burden_chemtrop.png')"
   ]
  },
  {
   "cell_type": "markdown",
   "metadata": {},
   "source": [
    "#### Tropospheric CH4 burden"
   ]
  },
  {
   "cell_type": "code",
   "execution_count": null,
   "metadata": {},
   "outputs": [],
   "source": [
    "# Calculate CH4 burden per month\n",
    "ch4_burden = (ch4*air_mass*trop_mask).collapsed(['latitude', 'longitude', 'level_height'], iris.analysis.SUM)\n",
    "ch4_burden.convert_units('Tg')\n",
    "# Calculate annual mean CH4 burden\n",
    "ch4_burden_annual_mean = ch4_burden[0:24].data.reshape(n_yrs,12).mean(axis=1)\n",
    "print(f'{np.mean(ch4_burden_annual_mean.data):1.2f}\\u00B1{np.std(ch4_burden_annual_mean.data):1.2f} Tg')"
   ]
  },
  {
   "cell_type": "code",
   "execution_count": null,
   "metadata": {},
   "outputs": [],
   "source": [
    "fig, ax = plt.subplots()\n",
    "ax.plot(tstamps[0:24], ch4_burden[0:24].data)\n",
    "ax.set_title(f'{exp}\\n', loc='left', weight='bold')\n",
    "ax.set_xlabel('Time, yr')\n",
    "ax.set_ylabel('Tg')\n",
    "# Format xticklabels\n",
    "plt.draw() # force ticklabels to be generated\n",
    "# new_labels = [int(i.get_text())-cb.coord('year').points[0] for i in ax.get_xticklabels(which='both')]\n",
    "# ax.set_xticklabels(new_labels);\n",
    "if trop_def == 'chemical' and S60N60:\n",
    "    ax.set_title('Tropospheric $CH_4$ burden\\n(60\\u00B0S-60\\u00B0N using 125 ppb ozonopause)', loc='right')\n",
    "    fig.savefig(path_to_figs / f'{job}_ch4_burden_chemtrop_60S60N.png')\n",
    "if trop_def == 'chemical' and not S60N60:\n",
    "    ax.set_title('Tropospheric $CH_4$ burden\\n(using 125 ppb ozonopause)', loc='right')\n",
    "    fig.savefig(path_to_figs / f'{job}_ch4_burden_chemtrop.png')"
   ]
  },
  {
   "cell_type": "markdown",
   "metadata": {},
   "source": [
    "#### CH4 lifetime"
   ]
  },
  {
   "cell_type": "code",
   "execution_count": null,
   "metadata": {},
   "outputs": [],
   "source": [
    "# Constants\n",
    "k_ch4_oh = temp.copy(data=1.85e-12*np.exp(-1690/temp.data))\n",
    "k_ch4_oh.rename('CH4+OH reaction rate coefficient')\n",
    "k_ch4_oh.units='cm3 s-1'\n",
    "molar_mass_oh = iris.coords.AuxCoord(17.007, units='g mol-1')\n",
    "molar_mass_ch4 = iris.coords.AuxCoord(16.0425, units='g mol-1')\n",
    "avogadro_number = iris.coords.AuxCoord(6.022*1e23, units='mol-1', long_name='avogadro_number')"
   ]
  },
  {
   "cell_type": "code",
   "execution_count": null,
   "metadata": {},
   "outputs": [],
   "source": [
    "# Find number of OH and CH4 molecules per grid box in the troposphere (tropospheric burden in molecules, not kg)\n",
    "oh_molecules_per_gridbox = oh * air_mass * trop_mask / molar_mass_oh * avogadro_number\n",
    "ch4_molecules_per_gridbox = ch4 * air_mass * trop_mask / molar_mass_ch4 * avogadro_number"
   ]
  },
  {
   "cell_type": "code",
   "execution_count": null,
   "metadata": {},
   "outputs": [],
   "source": [
    "## Prepare gridbox_vol cube for later multiplication by oh_molecules_per_gridbox cube\n",
    "# Get rid of time coordinate\n",
    "gridbox_vol = iris.util.squeeze(gridbox_vol) \n",
    "gridbox_vol.remove_coord('t')\n",
    "# Copy oh_molecules_per_gridbox metadata to gridbox_vol cube\n",
    "_var_name, _units = gridbox_vol.var_name, gridbox_vol.units\n",
    "gridbox_vol = oh_molecules_per_gridbox[0, ...].copy(data=gridbox_vol.data)\n",
    "gridbox_vol.rename(_var_name)\n",
    "gridbox_vol.units = _units\n",
    "gridbox_vol.remove_coord('forecast_reference_time')"
   ]
  },
  {
   "cell_type": "code",
   "execution_count": null,
   "metadata": {},
   "outputs": [],
   "source": [
    "# Calculate CH4 loss in molecules s-1\n",
    "loss_ch4_oh = k_ch4_oh * ch4_molecules_per_gridbox * oh_molecules_per_gridbox / gridbox_vol"
   ]
  },
  {
   "cell_type": "code",
   "execution_count": null,
   "metadata": {},
   "outputs": [],
   "source": [
    "# Calculate CH4 lifetime\n",
    "volume_sum = (['latitude', 'longitude', 'level_height'], iris.analysis.SUM)\n",
    "ch4_lifetime = ch4_molecules_per_gridbox.collapsed(*volume_sum) / loss_ch4_oh.collapsed(*volume_sum)\n",
    "ch4_lifetime.convert_units('360 day')\n",
    "# Calculate annual mean CH4 lifetime\n",
    "ch4_lifetime_annual_mean = ch4_lifetime[0:24].data.reshape(n_yrs,12).mean(axis=1)\n",
    "print(f'{np.mean(ch4_lifetime_annual_mean.data):1.3f}\\u00B1{np.std(ch4_lifetime_annual_mean.data):1.3f} yr')"
   ]
  },
  {
   "cell_type": "code",
   "execution_count": null,
   "metadata": {},
   "outputs": [],
   "source": [
    "fig, ax = plt.subplots()\n",
    "ax.plot(tstamps[0:24], ch4_lifetime[0:24].data)\n",
    "ax.set_title(f'{exp}\\n', loc='left', weight='bold')\n",
    "ax.set_xlabel('Time, yr')\n",
    "ax.set_ylabel('yr')\n",
    "# Format xticklabels\n",
    "plt.draw() # force ticklabels to be generated\n",
    "# new_labels = [int(i.get_text())-cb.coord('year').points[0] for i in ax.get_xticklabels(which='both')]\n",
    "# ax.set_xticklabels(new_labels);\n",
    "if trop_def == 'chemical' and S60N60:\n",
    "    ax.set_title('Tropospheric $CH_4$ lifetime\\n(60\\u00B0S-60\\u00B0N using 125 ppb ozonopause)', loc='right')\n",
    "    fig.savefig(path_to_figs / f'{job}_ch4_lifetime_chemtrop_60S60N.png');\n",
    "if trop_def == 'chemical' and not S60N60:\n",
    "    ax.set_title('Tropospheric $CH_4$ lifetime\\n(using 125 ppb ozonopause)', loc='right')\n",
    "    fig.savefig(path_to_figs / f'{job}_ch4_lifetime_chemtrop.png');"
   ]
  },
  {
   "cell_type": "markdown",
   "metadata": {},
   "source": [
    "#### NH/SH air mass averaged tropospheric OH ratio"
   ]
  },
  {
   "cell_type": "code",
   "execution_count": null,
   "metadata": {},
   "outputs": [],
   "source": [
    "# Calculate OH in molecules per cm3\n",
    "oh_molecules_per_cm3 = oh_molecules_per_gridbox/gridbox_vol\n",
    "oh_molecules_per_cm3.convert_units('cm-3')"
   ]
  },
  {
   "cell_type": "code",
   "execution_count": null,
   "metadata": {},
   "outputs": [],
   "source": [
    "# Weight OH in each hemisphere by mass of air in each hemisphere\n",
    "nh_constraint = iris.Constraint(latitude=lambda x: x>=0)\n",
    "sh_constraint = iris.Constraint(latitude=lambda x: x<=0)\n",
    "averaging_args = (['longitude', 'latitude', 'level_height'], iris.analysis.MEAN)\n",
    "oh_nh = (oh_molecules_per_cm3*air_mass).extract(nh_constraint).collapsed(*averaging_args)/air_mass.extract(nh_constraint).collapsed(*averaging_args)\n",
    "oh_sh = (oh_molecules_per_cm3*air_mass).extract(sh_constraint).collapsed(*averaging_args)/air_mass.extract(sh_constraint).collapsed(*averaging_args)"
   ]
  },
  {
   "cell_type": "code",
   "execution_count": null,
   "metadata": {},
   "outputs": [],
   "source": [
    "# Calculate annual mean OH ratio\n",
    "oh_nh_annual_mean = oh_nh.data.reshape(n_yrs,12).mean(axis=1)\n",
    "oh_sh_annual_mean = oh_sh.data.reshape(n_yrs,12).mean(axis=1)\n",
    "print(f'{np.mean(oh_nh_annual_mean/oh_sh_annual_mean):1.2f}\\u00B1{np.std(oh_nh_annual_mean/oh_sh_annual_mean):1.2f}')"
   ]
  },
  {
   "cell_type": "code",
   "execution_count": null,
   "metadata": {},
   "outputs": [],
   "source": [
    "# Plot annual mean ratio of OH in the Northern Hemisphere to OH in the Southern Hemisphere\n",
    "fig, ax = plt.subplots()\n",
    "ax.bar(np.arange(1,n_yrs+1), oh_nh_annual_mean/oh_sh_annual_mean)\n",
    "ax.set_title(f'{exp}\\n', loc='left', weight='bold')\n",
    "ax.set_xlabel('Time, years');\n",
    "if trop_def == 'chemical' and S60N60:\n",
    "    ax.set_title('NH/SH annual mean tropospheric OH ratio\\n(60\\u00B0S-60\\u00B0N using 125 ppb ozonopause)', loc='right')\n",
    "    fig.savefig(path_to_figs / f'{job}_oh_ratio_annual_mean_airmass_averaged_chemtrop_60S60N.png');\n",
    "if trop_def == 'chemical' and not S60N60:\n",
    "    ax.set_title('NH/SH annual mean tropospheric OH ratio\\n(using 125 ppb ozonopause)', loc='right')\n",
    "    fig.savefig(path_to_figs / f'{job}_oh_ratio_annual_mean_airmass_averaged_chemtrop.png');"
   ]
  },
  {
   "cell_type": "code",
   "execution_count": null,
   "metadata": {},
   "outputs": [],
   "source": [
    "break"
   ]
  },
  {
   "cell_type": "markdown",
   "metadata": {},
   "source": [
    "#### Plot surface CH4"
   ]
  },
  {
   "cell_type": "code",
   "execution_count": null,
   "metadata": {},
   "outputs": [],
   "source": [
    "import cartopy.util\n",
    "import cartopy.crs as ccrs"
   ]
  },
  {
   "cell_type": "code",
   "execution_count": null,
   "metadata": {},
   "outputs": [],
   "source": [
    "ch4_vmr = ch4*coeff_ch4\n",
    "ch4_vmr_cyc, lons_cyc = cartopy.util.add_cyclic_point(ch4_vmr.data, coord=ch4_vmr.coord('longitude').points)"
   ]
  },
  {
   "cell_type": "code",
   "execution_count": null,
   "metadata": {},
   "outputs": [],
   "source": [
    "fig, ax = plt.subplots(figsize=(10,10), subplot_kw=dict(projection=ccrs.Robinson(central_longitude=0)))\n",
    "p0 = ax.pcolormesh(lons_cyc, ch4.coord('latitude').points, ch4_vmr_cyc[12,0,...].data, \n",
    "                   vmin = ch4_vmr_cyc.min(), vmax = ch4_vmr_cyc.max(), transform=ccrs.PlateCarree())\n",
    "ax.set_title('Surface $CH_4$, Dec')\n",
    "ax.coastlines()\n",
    "fig.colorbar(p0, shrink=0.4, label='ppbv');\n",
    "fig.savefig('/local/mwe14avu/Desktop/new/ch4_surf_12.png', bbox_inches='tight')"
   ]
  }
 ],
 "metadata": {
  "@deathbeds/jupyterlab-fonts": {
   "styles": {
    ":root": {
     "--jp-code-font-size": "12px"
    }
   }
  },
  "kernelspec": {
   "display_name": "Python 3",
   "language": "python",
   "name": "python3"
  },
  "language_info": {
   "codemirror_mode": {
    "name": "ipython",
    "version": 3
   },
   "file_extension": ".py",
   "mimetype": "text/x-python",
   "name": "python",
   "nbconvert_exporter": "python",
   "pygments_lexer": "ipython3",
   "version": "3.6.8"
  }
 },
 "nbformat": 4,
 "nbformat_minor": 2
}
