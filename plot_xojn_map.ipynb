{
 "cells": [
  {
   "cell_type": "code",
   "execution_count": null,
   "metadata": {},
   "outputs": [],
   "source": [
    "# Data processing\n",
    "import iris\n",
    "import iris.analysis\n",
    "import iris.coord_categorisation\n",
    "import warnings\n",
    "warnings.filterwarnings('ignore', module='iris')\n",
    "import numpy as np\n",
    "from pathlib import Path\n",
    "from scipy import stats\n",
    "# Visualization\n",
    "import cartopy.util\n",
    "import cartopy.crs as ccrs\n",
    "import matplotlib as mpl\n",
    "import matplotlib.pyplot as plt\n",
    "import matplotlib.colors as colors\n",
    "from matplotlib.ticker import FuncFormatter\n",
    "class MidpointNormalize(colors.Normalize):\n",
    "    def __init__(self, vmin=None, vmax=None, midpoint=None, clip=False):\n",
    "        self.midpoint = midpoint\n",
    "        colors.Normalize.__init__(self, vmin, vmax, clip)\n",
    "    def __call__(self, value, clip=None):\n",
    "        x, y = [self.vmin, self.midpoint, self.vmax], [0, 0.5, 1]\n",
    "        return np.ma.masked_array(np.interp(value, x, y))\n",
    "def m2km(x, pos):\n",
    "    '''Convert meters to kilometers when plotting axis labels'''\n",
    "    return int(x*1e-3)\n",
    "def custom_ctcklbls(x, pos):\n",
    "    '''Custom format for colorbar tick labels'''\n",
    "    return '{:1.1f}'.format(x)\n",
    "plt.rcParams['mathtext.default'] = 'regular'"
   ]
  },
  {
   "cell_type": "code",
   "execution_count": null,
   "metadata": {},
   "outputs": [],
   "source": [
    "# Choose variable\n",
    "dir_var = 'meono2'\n",
    "str_var = '$MeONO_2$'\n",
    "coeff_var = (28.97/77.0394)*1e12 # coeff to convert mass mixing ratio to volume mixing ratio where M dry air = 28.97 [g mol-1]\n",
    "# Choose jobs\n",
    "job = 'xojnh'\n",
    "if job == 'xojng': exp = 'BASE'\n",
    "elif job == 'xojnh': exp = 'CHEM'\n",
    "elif job == 'xojni': exp = 'OCEAN'\n",
    "elif job == 'xojnc': exp = 'BB';\n",
    "elif job == 'xojnl': exp = 'ALL'\n",
    "# Read data\n",
    "path_to_ukca = Path('../data')\n",
    "ijob = iris.load_cube(str(path_to_ukca / job / f'{job}_chem_15yrs.pp'), 'mass_fraction_of_methyl_nitrate_in_air')*coeff_var\n",
    "# Path to figures\n",
    "path_to_figs = Path('../../../results') / job / dir_var\n",
    "path_to_figs.mkdir(exist_ok=True)"
   ]
  },
  {
   "cell_type": "code",
   "execution_count": null,
   "metadata": {},
   "outputs": [],
   "source": [
    "savefig = True\n",
    "publish = True\n",
    "if publish:\n",
    "    mpl.rcParams['xtick.labelsize'] = 25\n",
    "    mpl.rcParams['ytick.labelsize'] = 25\n",
    "    mpl.rcParams['axes.titlesize'] = 40\n",
    "    mpl.rcParams['axes.labelsize'] = 30\n",
    "    plt.rcParams['font.size'] = 30"
   ]
  },
  {
   "cell_type": "code",
   "execution_count": null,
   "metadata": {},
   "outputs": [],
   "source": [
    "# Select 8 years\n",
    "ijob = ijob[24:120,...]\n",
    "# Add season and year coordinates\n",
    "iris.coord_categorisation.add_season(ijob, 'time', name='season')\n",
    "iris.coord_categorisation.add_season_year(ijob, 'time', name='year')\n",
    "str_djf = 'DJF'; str_mam = 'MAM'; str_jja = 'JJA'; str_son = 'SON'"
   ]
  },
  {
   "cell_type": "markdown",
   "metadata": {},
   "source": [
    "#### Boundary layer seasonal means"
   ]
  },
  {
   "cell_type": "code",
   "execution_count": null,
   "metadata": {},
   "outputs": [],
   "source": [
    "# Extract time series of boundary layer (0-2 km) seasonal means\n",
    "ijob_pbl_djf = (ijob.extract(iris.Constraint(season='djf')).aggregated_by(['year', 'season'], iris.analysis.MEAN)[:,0:10,...]).collapsed('level_height', iris.analysis.MEAN)\n",
    "ijob_pbl_mam = (ijob.extract(iris.Constraint(season='mam')).aggregated_by(['year', 'season'], iris.analysis.MEAN)[:,0:10,...]).collapsed('level_height', iris.analysis.MEAN)\n",
    "ijob_pbl_jja = (ijob.extract(iris.Constraint(season='jja')).aggregated_by(['year', 'season'], iris.analysis.MEAN)[:,0:10,...]).collapsed('level_height', iris.analysis.MEAN)\n",
    "ijob_pbl_son = (ijob.extract(iris.Constraint(season='son')).aggregated_by(['year', 'season'], iris.analysis.MEAN)[:,0:10,...]).collapsed('level_height', iris.analysis.MEAN)\n",
    "# Calculate boundary layer seasonal means\n",
    "ijob_pbl_djf_mean = ijob_pbl_djf.collapsed('year', iris.analysis.MEAN)\n",
    "ijob_pbl_mam_mean = ijob_pbl_mam.collapsed('year', iris.analysis.MEAN)\n",
    "ijob_pbl_jja_mean = ijob_pbl_jja.collapsed('year', iris.analysis.MEAN)\n",
    "ijob_pbl_son_mean = ijob_pbl_son.collapsed('year', iris.analysis.MEAN)\n",
    "# Add cyclic point for plotting on a global map\n",
    "cyc_ijob_pbl_djf_mean, cyclic_lons = cartopy.util.add_cyclic_point(ijob_pbl_djf_mean.data, coord=ijob_pbl_djf_mean.coord('longitude').points)\n",
    "cyc_ijob_pbl_mam_mean = cartopy.util.add_cyclic_point(ijob_pbl_mam_mean.data)\n",
    "cyc_ijob_pbl_jja_mean = cartopy.util.add_cyclic_point(ijob_pbl_jja_mean.data)\n",
    "cyc_ijob_pbl_son_mean = cartopy.util.add_cyclic_point(ijob_pbl_son_mean.data)\n",
    "# Find max boundary layer seasonal mean\n",
    "print(np.max(ijob_pbl_djf_mean.data))\n",
    "print(np.max(ijob_pbl_mam_mean.data))\n",
    "print(np.max(ijob_pbl_jja_mean.data))\n",
    "print(np.max(ijob_pbl_son_mean.data))"
   ]
  },
  {
   "cell_type": "markdown",
   "metadata": {},
   "source": [
    "h: 18.90242\n",
    "17.880545\n",
    "21.308216\n",
    "18.330566"
   ]
  },
  {
   "cell_type": "code",
   "execution_count": null,
   "metadata": {},
   "outputs": [],
   "source": [
    "# Boundary layer seasonal mean difference plotting parameters\n",
    "pbl_mean_cf_kwargs = dict(transform=ccrs.PlateCarree(), levels=np.arange(0,60,10))"
   ]
  },
  {
   "cell_type": "code",
   "execution_count": null,
   "metadata": {},
   "outputs": [],
   "source": [
    "lats = ijob.coord('latitude').points"
   ]
  },
  {
   "cell_type": "code",
   "execution_count": null,
   "metadata": {},
   "outputs": [],
   "source": [
    "fig, ax = plt.subplots(nrows=2, ncols=2, figsize=(18,18), subplot_kw=dict(projection=ccrs.Robinson(central_longitude=0)), facecolor='w')\n",
    "p00 = ax[0,0].contourf(cyclic_lons, lats, cyc_ijob_pbl_djf_mean.data, **pbl_mean_cf_kwargs)\n",
    "ax[0,1].contourf(cyclic_lons, lats, cyc_ijob_pbl_mam_mean.data, **pbl_mean_cf_kwargs)\n",
    "ax[1,0].contourf(cyclic_lons, lats, cyc_ijob_pbl_jja_mean.data, **pbl_mean_cf_kwargs)\n",
    "ax[1,1].contourf(cyclic_lons, lats, cyc_ijob_pbl_son_mean.data, **pbl_mean_cf_kwargs)\n",
    "fig.subplots_adjust(hspace=-0.9, wspace=-0.5)\n",
    "fig.tight_layout()\n",
    "cax0 = fig.add_axes([0.35, 0.21, 0.3, 0.01])\n",
    "fig.colorbar(p00, cax=cax0, orientation='horizontal', label=f'{str_var}, pptv')\n",
    "fig.suptitle(f'Boundary layer (0-2 km)\\n{exp}', y=0.8, weight='bold')\n",
    "ax[0,0].set_title(str_djf)\n",
    "ax[0,1].set_title(str_mam)\n",
    "ax[1,0].set_title(str_jja)\n",
    "ax[1,1].set_title(str_son)\n",
    "for iax in ax.flatten(): \n",
    "    iax.set_global()\n",
    "    iax.coastlines()\n",
    "if savefig: fig.savefig(path_to_figs / f'{job}_{dir_var}_pbl_seas_mean_meono2.png', bbox_inches='tight')"
   ]
  },
  {
   "cell_type": "code",
   "execution_count": null,
   "metadata": {},
   "outputs": [],
   "source": [
    "break"
   ]
  },
  {
   "cell_type": "markdown",
   "metadata": {},
   "source": [
    "#### Free troposphere seasonal means"
   ]
  },
  {
   "cell_type": "code",
   "execution_count": null,
   "metadata": {},
   "outputs": [],
   "source": [
    "# Extract time series of free troposphere (5-10 km) seasonal means\n",
    "ijob_fre_djf = (ijob.extract(iris.Constraint(season='djf')).aggregated_by(['year', 'season'], iris.analysis.MEAN)[:,15:23,...]).collapsed('level_height', iris.analysis.MEAN)\n",
    "ijob_fre_mam = (ijob.extract(iris.Constraint(season='mam')).aggregated_by(['year', 'season'], iris.analysis.MEAN)[:,15:23,...]).collapsed('level_height', iris.analysis.MEAN)\n",
    "ijob_fre_jja = (ijob.extract(iris.Constraint(season='jja')).aggregated_by(['year', 'season'], iris.analysis.MEAN)[:,15:23,...]).collapsed('level_height', iris.analysis.MEAN)\n",
    "ijob_fre_son = (ijob.extract(iris.Constraint(season='son')).aggregated_by(['year', 'season'], iris.analysis.MEAN)[:,15:23,...]).collapsed('level_height', iris.analysis.MEAN)\n",
    "# Calculate free troposphere seasonal mean differences\n",
    "ijob_fre_djf_mean = ijob_fre_djf.collapsed('year', iris.analysis.MEAN)\n",
    "ijob_fre_mam_mean = ijob_fre_mam.collapsed('year', iris.analysis.MEAN)\n",
    "ijob_fre_jja_mean = ijob_fre_jja.collapsed('year', iris.analysis.MEAN)\n",
    "ijob_fre_son_mean = ijob_fre_son.collapsed('year', iris.analysis.MEAN)\n",
    "# Add cyclic point for plotting on a global map\n",
    "cyc_ijob_fre_djf_mean, cyclic_lons = cartopy.util.add_cyclic_point(ijob_fre_djf_mean.data, coord=ijob_fre_djf_mean.coord('longitude').points)\n",
    "cyc_ijob_fre_mam_mean = cartopy.util.add_cyclic_point(ijob_fre_mam_mean.data)\n",
    "cyc_ijob_fre_jja_mean = cartopy.util.add_cyclic_point(ijob_fre_jja_mean.data)\n",
    "cyc_ijob_fre_son_mean = cartopy.util.add_cyclic_point(ijob_fre_son_mean.data)\n",
    "# Find max free troposphere seasonal mean\n",
    "print(np.max(ijob_fre_djf_mean.data))\n",
    "print(np.max(ijob_fre_mam_mean.data))\n",
    "print(np.max(ijob_fre_jja_mean.data))\n",
    "print(np.max(ijob_fre_son_mean.data))"
   ]
  },
  {
   "cell_type": "code",
   "execution_count": null,
   "metadata": {},
   "outputs": [],
   "source": [
    "# Free troposphere seasonal mean difference plotting parameters\n",
    "fre_mean_cf_kwargs = dict(transform=ccrs.PlateCarree(), levels=np.arange(0,175,25))\n",
    "fre_diff_cf_kwargs = dict(transform=ccrs.PlateCarree(), cmap='RdBu_r')\n",
    "fre_pval_sc_kwargs = dict(transform=ccrs.PlateCarree(), s=10, c='k', marker='.', alpha=0.2)"
   ]
  },
  {
   "cell_type": "code",
   "execution_count": null,
   "metadata": {},
   "outputs": [],
   "source": [
    "# Find min and max absolute free troposphere seasonal mean difference\n",
    "print(min([np.min(cyc_fre_djf_diff.data), np.min(cyc_fre_mam_diff.data), np.min(cyc_fre_jja_diff.data), np.min(cyc_fre_son_diff.data)]))\n",
    "print(max([np.max(cyc_fre_djf_diff.data), np.max(cyc_fre_mam_diff.data), np.max(cyc_fre_jja_diff.data), np.max(cyc_fre_son_diff.data)]))\n",
    "# Find min and max % free troposphere seasonal mean difference\n",
    "print(min([np.min(cyc_fre_djf_diff.data/cyc_base_fre_djf_mean.data*100), np.min(cyc_fre_mam_diff.data/cyc_base_fre_mam_mean.data*100), \n",
    "           np.min(cyc_fre_jja_diff.data/cyc_base_fre_jja_mean.data*100), np.min(cyc_fre_son_diff.data/cyc_base_fre_son_mean.data*100)]))\n",
    "print(max([np.max(cyc_fre_djf_diff.data/cyc_base_fre_djf_mean.data*100), np.max(cyc_fre_mam_diff.data/cyc_base_fre_mam_mean.data*100), \n",
    "           np.max(cyc_fre_jja_diff.data/cyc_base_fre_jja_mean.data*100), np.max(cyc_fre_son_diff.data/cyc_base_fre_son_mean.data*100)]))"
   ]
  },
  {
   "cell_type": "code",
   "execution_count": null,
   "metadata": {},
   "outputs": [],
   "source": [
    "# Additional plotting parameteres for free troposphere seasonal mean summary\n",
    "fre_glb_absdiff_cf_kwargs = dict(transform=ccrs.PlateCarree(), cmap='RdBu_r', levels=np.arange(-12,14,2))\n",
    "fre_glb_pctdiff_cf_kwargs = dict(transform=ccrs.PlateCarree(), cmap='RdBu_r', levels=np.arange(-14,16,2))#, extend='both')"
   ]
  },
  {
   "cell_type": "code",
   "execution_count": null,
   "metadata": {},
   "outputs": [],
   "source": [
    "fig, ax = plt.subplots(nrows=4, ncols=3, figsize=(12,12), subplot_kw=dict(projection=ccrs.Robinson(central_longitude=0)), facecolor='w')\n",
    "ax[0,0].contourf(cyclic_lons, lats, cyc_base_fre_djf_mean.data, **fre_mean_cf_kwargs)\n",
    "ax[0,1].contourf(cyclic_lons, lats, cyc_fre_djf_diff.data, **fre_glb_absdiff_cf_kwargs)\n",
    "ax[0,2].contourf(cyclic_lons, lats, cyc_fre_djf_diff.data/cyc_base_fre_djf_mean.data*100, **fre_glb_pctdiff_cf_kwargs)\n",
    "\n",
    "ax[1,0].contourf(cyclic_lons, lats, cyc_base_fre_mam_mean.data, **fre_mean_cf_kwargs)\n",
    "ax[1,1].contourf(cyclic_lons, lats, cyc_fre_mam_diff.data, **fre_glb_absdiff_cf_kwargs)\n",
    "ax[1,2].contourf(cyclic_lons, lats, cyc_fre_mam_diff.data/cyc_base_fre_mam_mean.data*100, **fre_glb_pctdiff_cf_kwargs)\n",
    "\n",
    "ax[2,0].contourf(cyclic_lons, lats, cyc_base_fre_jja_mean.data, **fre_mean_cf_kwargs)\n",
    "ax[2,1].contourf(cyclic_lons, lats, cyc_fre_jja_diff.data, **fre_glb_absdiff_cf_kwargs)\n",
    "ax[2,2].contourf(cyclic_lons, lats, cyc_fre_jja_diff.data/cyc_base_fre_jja_mean.data*100, **fre_glb_pctdiff_cf_kwargs)\n",
    "\n",
    "p30 = ax[3,0].contourf(cyclic_lons, lats, cyc_base_fre_son_mean.data, **fre_mean_cf_kwargs)\n",
    "p31 = ax[3,1].contourf(cyclic_lons, lats, cyc_fre_son_diff.data, **fre_glb_absdiff_cf_kwargs)\n",
    "p32 = ax[3,2].contourf(cyclic_lons, lats, cyc_fre_son_diff.data/cyc_base_fre_son_mean.data*100, **fre_glb_pctdiff_cf_kwargs)\n",
    "\n",
    "fig.subplots_adjust(hspace=-0.8, wspace=-0.5)\n",
    "fig.tight_layout()\n",
    "cax0 = fig.add_axes([0.02, 0.12, 0.3, 0.01])\n",
    "cax1 = fig.add_axes([0.35, 0.12, 0.3, 0.01])\n",
    "cax2 = fig.add_axes([0.68, 0.12, 0.3, 0.01])\n",
    "fig.colorbar(p30, cax=cax0, orientation='horizontal', label=f'{str_var}, ppbv')\n",
    "fig.colorbar(p31, cax=cax1, orientation='horizontal', label=f'$\\Delta${str_var}, ppbv')\n",
    "fig.colorbar(p32, cax=cax2, orientation='horizontal', label=f'$\\Delta${str_var}, %')\n",
    "fig.text(0.02, 0.84, 'DJF')#, fontsize=12)\n",
    "fig.text(0.02, 0.66, 'MAM')#, fontsize=12)\n",
    "fig.text(0.02, 0.48, 'JJA')#, fontsize=12)\n",
    "fig.text(0.02, 0.31, 'SON')#, fontsize=12)\n",
    "fig.suptitle('Free troposphere (5-10 km)', y=0.9, weight='bold')\n",
    "ax[0,0].set_title(f'{base_plt}')\n",
    "ax[0,1].set_title(f'{sens_plt}-{base_plt}')\n",
    "ax[0,2].set_title(f'{sens_plt}-{base_plt}')\n",
    "for iax in ax[0,1:3].flatten(): iax.scatter(*stipple_fre(fre_djf_diff, fre_djf_p, fdr_fre), **fre_pval_sc_kwargs)\n",
    "for iax in ax[1,1:3].flatten(): iax.scatter(*stipple_fre(fre_mam_diff, fre_mam_p, fdr_fre), **fre_pval_sc_kwargs)\n",
    "for iax in ax[2,1:3].flatten(): iax.scatter(*stipple_fre(fre_jja_diff, fre_jja_p, fdr_fre), **fre_pval_sc_kwargs)\n",
    "for iax in ax[3,1:3].flatten(): iax.scatter(*stipple_fre(fre_son_diff, fre_son_p, fdr_fre), **fre_pval_sc_kwargs)\n",
    "for iax in ax.flatten(): iax.set_global()\n",
    "for iax in ax[:,0].flatten(): iax.coastlines(color='k')\n",
    "for iax in ax[0:4,1:].flatten(): iax.coastlines(color='grey')\n",
    "if savefig: fig.savefig(path_to_figs / f'{dir_var}_fre_seas_mean_all.png', bbox_inches='tight')"
   ]
  }
 ],
 "metadata": {
  "@deathbeds/jupyterlab-fonts": {
   "styles": {
    ":root": {
     "--jp-code-font-size": "12px"
    }
   }
  },
  "kernelspec": {
   "display_name": "Python 3",
   "language": "python",
   "name": "python3"
  },
  "language_info": {
   "codemirror_mode": {
    "name": "ipython",
    "version": 3
   },
   "file_extension": ".py",
   "mimetype": "text/x-python",
   "name": "python",
   "nbconvert_exporter": "python",
   "pygments_lexer": "ipython3",
   "version": "3.6.8"
  }
 },
 "nbformat": 4,
 "nbformat_minor": 2
}
