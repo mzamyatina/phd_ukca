{
 "cells": [
  {
   "cell_type": "code",
   "execution_count": 1,
   "metadata": {
    "nbpresent": {
     "id": "46246386-fec1-4d42-bf10-698a4054dbda"
    }
   },
   "outputs": [],
   "source": [
    "# Data processing\n",
    "import iris\n",
    "import numpy as np\n",
    "import warnings\n",
    "warnings.filterwarnings('ignore', module='iris')\n",
    "from iris.experimental import stratify\n",
    "from pathlib import Path\n",
    "## Scientific parameters\n",
    "M_air = 28.97 # molar mass of dry air [g mol-1]\n",
    "# Coefficients to convert mass mixing ratio to volume mixing ratio\n",
    "coeff_c2h6 = (M_air/30.0690)*1e12\n",
    "coeff_c3h8 = (M_air/44.0956)*1e12\n",
    "coeff_nc4h10 = (M_air/58.1222)*1e12\n",
    "coeff_ic4h10 = (M_air/58.1222)*1e12\n",
    "coeff_nc5h12 = (M_air/72.1488)*1e12\n",
    "coeff_ic5h12 = (M_air/72.1488)*1e12\n",
    "coeff_meono2 = (M_air/77.0394)*1e12\n",
    "coeff_sbuono2 = (M_air/119.1192)*1e12\n",
    "coeff_n2peono2 = (M_air/133.1457)*1e12\n",
    "coeff_n3peono2 = (M_air/133.1457)*1e12\n",
    "coeff_ipeono2 = (M_air/133.1457)*1e12"
   ]
  },
  {
   "cell_type": "markdown",
   "metadata": {},
   "source": [
    "#### Read data"
   ]
  },
  {
   "cell_type": "code",
   "execution_count": 2,
   "metadata": {
    "nbpresent": {
     "id": "5bf220d9-75c8-489e-81fb-58c0a9a4f83d"
    }
   },
   "outputs": [],
   "source": [
    "# Choose UKCA run\n",
    "ukca_run_name = 'az166a'\n",
    "ukca_run_yrmn = 'pm2016aug'\n",
    "path_to_ukca = Path('../../../../data') / ukca_run_name\n",
    "fname_ukca_run = f'{ukca_run_name}.{ukca_run_yrmn}.pp'\n",
    "# Read UKCA data\n",
    "cb_c2h6 = iris.load_cube(str(path_to_ukca / fname_ukca_run), 'mass_fraction_of_ethane_in_air')*coeff_c2h6\n",
    "cb_c3h8 = iris.load_cube(str(path_to_ukca / fname_ukca_run), 'mass_fraction_of_propane_in_air')*coeff_c3h8\n",
    "cb_nc4h10 = iris.load_cube(str(path_to_ukca / fname_ukca_run), iris.AttributeConstraint(STASH='m01s34i173'))*coeff_nc4h10\n",
    "cb_ic4h10 = iris.load_cube(str(path_to_ukca / fname_ukca_run), iris.AttributeConstraint(STASH='m01s34i174'))*coeff_ic4h10\n",
    "cb_nc5h12 = iris.load_cube(str(path_to_ukca / fname_ukca_run), iris.AttributeConstraint(STASH='m01s34i175'))*coeff_nc5h12\n",
    "cb_ic5h12 = iris.load_cube(str(path_to_ukca / fname_ukca_run), iris.AttributeConstraint(STASH='m01s34i176'))*coeff_ic5h12\n",
    "cb_meono2 = iris.load_cube(str(path_to_ukca / fname_ukca_run), 'mass_fraction_of_methyl_nitrate_in_air')*coeff_meono2\n",
    "cb_sbuono2 = iris.load_cube(str(path_to_ukca / fname_ukca_run), iris.AttributeConstraint(STASH='m01s34i188'))*coeff_sbuono2\n",
    "cb_n2peono2 = iris.load_cube(str(path_to_ukca / fname_ukca_run), iris.AttributeConstraint(STASH='m01s34i189'))*coeff_n2peono2\n",
    "cb_n3peono2 = iris.load_cube(str(path_to_ukca / fname_ukca_run), iris.AttributeConstraint(STASH='m01s34i190'))*coeff_n3peono2\n",
    "cb_ipeono2 = iris.load_cube(str(path_to_ukca / fname_ukca_run), iris.AttributeConstraint(STASH='m01s34i191'))*coeff_ipeono2"
   ]
  },
  {
   "cell_type": "markdown",
   "metadata": {},
   "source": [
    "#### Relevel model data from level height to absolute height "
   ]
  },
  {
   "cell_type": "code",
   "execution_count": 3,
   "metadata": {},
   "outputs": [],
   "source": [
    "# Relevel model data from level height to target levels\n",
    "tgt_levels = np.arange(0, 14000, 100) # [meters]\n",
    "cbr_c2h6 = stratify.relevel(cb_c2h6, cb_c2h6.coord('altitude'), tgt_levels, axis='level_height')\n",
    "cbr_c3h8 = stratify.relevel(cb_c3h8, cb_c3h8.coord('altitude'), tgt_levels, axis='level_height')\n",
    "cbr_nc4h10 = stratify.relevel(cb_nc4h10, cb_nc4h10.coord('altitude'), tgt_levels, axis='level_height')\n",
    "cbr_ic4h10 = stratify.relevel(cb_ic4h10, cb_ic4h10.coord('altitude'), tgt_levels, axis='level_height')\n",
    "cbr_nc5h12 = stratify.relevel(cb_nc5h12, cb_nc5h12.coord('altitude'), tgt_levels, axis='level_height')\n",
    "cbr_ic5h12 = stratify.relevel(cb_ic5h12, cb_ic5h12.coord('altitude'), tgt_levels, axis='level_height')\n",
    "cbr_meono2 = stratify.relevel(cb_meono2, cb_meono2.coord('altitude'), tgt_levels, axis='level_height')\n",
    "cbr_sbuono2 = stratify.relevel(cb_sbuono2, cb_sbuono2.coord('altitude'), tgt_levels, axis='level_height')\n",
    "cbr_n2peono2 = stratify.relevel(cb_n2peono2, cb_n2peono2.coord('altitude'), tgt_levels, axis='level_height')\n",
    "cbr_n3peono2 = stratify.relevel(cb_n3peono2, cb_n3peono2.coord('altitude'), tgt_levels, axis='level_height')\n",
    "cbr_ipeono2 = stratify.relevel(cb_ipeono2, cb_ipeono2.coord('altitude'), tgt_levels, axis='level_height')"
   ]
  },
  {
   "cell_type": "code",
   "execution_count": 4,
   "metadata": {},
   "outputs": [],
   "source": [
    "# Rename cubes\n",
    "cbr_c2h6.rename('c2h6')\n",
    "cbr_c3h8.rename('c3h8')\n",
    "cbr_nc4h10.rename('nc4h10')\n",
    "cbr_ic4h10.rename('ic4h10')\n",
    "cbr_nc5h12.rename('nc5h12')\n",
    "cbr_ic5h12.rename('ic5h12')\n",
    "cbr_meono2.rename('meono2')\n",
    "cbr_sbuono2.rename('sbuono2')\n",
    "cbr_n2peono2.rename('n2peono2')\n",
    "cbr_n3peono2.rename('n3peono2')\n",
    "cbr_ipeono2.rename('ipeono2')\n",
    "cubelist = [cbr_c2h6, cbr_c3h8, cbr_nc4h10, cbr_ic4h10, cbr_nc5h12, cbr_ic5h12, cbr_meono2, cbr_sbuono2, cbr_n2peono2, cbr_n3peono2, cbr_ipeono2]"
   ]
  },
  {
   "cell_type": "markdown",
   "metadata": {},
   "source": [
    "#### Save processed data"
   ]
  },
  {
   "cell_type": "code",
   "execution_count": 5,
   "metadata": {},
   "outputs": [],
   "source": [
    "path_to_prcd = Path('../../../../processed') / ukca_run_name"
   ]
  },
  {
   "cell_type": "code",
   "execution_count": 6,
   "metadata": {},
   "outputs": [],
   "source": [
    "# Save releveled data to .nc\n",
    "iris.save(cubelist, str(path_to_prcd)+f'/{ukca_run_name}_{ukca_run_yrmn}_relvl.nc')"
   ]
  }
 ],
 "metadata": {
  "anaconda-cloud": {},
  "kernelspec": {
   "display_name": "Python 3",
   "language": "python",
   "name": "python3"
  },
  "language_info": {
   "codemirror_mode": {
    "name": "ipython",
    "version": 3
   },
   "file_extension": ".py",
   "mimetype": "text/x-python",
   "name": "python",
   "nbconvert_exporter": "python",
   "pygments_lexer": "ipython3",
   "version": "3.6.6"
  }
 },
 "nbformat": 4,
 "nbformat_minor": 2
}
