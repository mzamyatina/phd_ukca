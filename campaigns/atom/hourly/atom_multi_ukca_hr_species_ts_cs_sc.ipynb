{
 "cells": [
  {
   "cell_type": "code",
   "execution_count": null,
   "metadata": {
    "nbpresent": {
     "id": "46246386-fec1-4d42-bf10-698a4054dbda"
    }
   },
   "outputs": [],
   "source": [
    "# Data processing\n",
    "import numpy as np\n",
    "import pandas as pd\n",
    "import xarray as xr\n",
    "import scipy\n",
    "import iris\n",
    "import iris.pandas\n",
    "import warnings\n",
    "warnings.filterwarnings('ignore', module='iris')\n",
    "from pathlib import Path\n",
    "import dateutil.parser\n",
    "from datetime import datetime, timedelta\n",
    "# Visualization\n",
    "import cartopy.util\n",
    "import cartopy.crs as ccrs\n",
    "import matplotlib.pyplot as plt\n",
    "import matplotlib.colors as colors\n",
    "import matplotlib.ticker as ticker\n",
    "from matplotlib.dates import DateFormatter\n",
    "from matplotlib.ticker import FuncFormatter\n",
    "# Scientific parameters\n",
    "M_air = 28.97 # molar mass of dry air [g mol-1]\n",
    "# Coefficients to convert mass mixing ratio to volume mixing ratio\n",
    "coeff_c2h6 = (M_air/30.0690)*1e12 # Ethane_WAS\n",
    "coeff_c3h8 = (M_air/44.0956)*1e12 # Propane_WAS\n",
    "coeff_nc4h10 = (M_air/58.1222)*1e12 # n-Butane_WAS\n",
    "coeff_ic4h10 = (M_air/58.1222)*1e12 # i-Butane_WAS\n",
    "coeff_nc5h12 = (M_air/72.1488)*1e12 # n-Pentane_WAS\n",
    "coeff_ic5h12 = (M_air/72.1488)*1e12 # i-Pentane_WAS\n",
    "coeff_meono2 = (M_air/77.0394)*1e12 # MeONO2_WAS\n",
    "coeff_sbuono2 = (M_air/119.1192)*1e12 # 2-BuONO2_WAS or sBuONO2\n",
    "coeff_n2peono2 = (M_air/133.1457)*1e12 # 2-PenONO2_WAS or n2PeONO2 or nPeBONO2\n",
    "coeff_n3peono2 = (M_air/133.1457)*1e12 # 3-PenONO2_WAS or n3PeONO2 or nPeCONO2\n",
    "coeff_ipeono2 = (M_air/133.1457)*1e12 # 3-Methyl-2-BuONO2_WAS or iPeONO2 or iPeBONO2\n",
    "# Plotting parameters\n",
    "plt.rcParams['mathtext.default'] = 'regular'\n",
    "savefig = True\n",
    "# Species names\n",
    "str_c2h6 = '$C_2H_6$'; str_c3h8 = '$C_3H_8$'\n",
    "str_nc4h10 = '$nC_4H_{10}$'; str_ic4h10 = '$iC_4H_{10}$'\n",
    "str_nc5h12 = '$nC_5H_{12}$'; str_ic5h12 = '$iC_5H_{12}$'\n",
    "str_meono2 = '$MeONO_2$'; str_sbuono2 = '2-$BuONO_2$'\n",
    "str_n2peono2 = '2-$PenONO_2$'; str_n3peono2 = '3-$PenONO_2$'; str_ipeono2 = '3-Methyl-2-$BuONO_2$'"
   ]
  },
  {
   "cell_type": "markdown",
   "metadata": {},
   "source": [
    "#### Read data"
   ]
  },
  {
   "cell_type": "code",
   "execution_count": null,
   "metadata": {},
   "outputs": [],
   "source": [
    "path_to_atom = Path('../../external_data/ATom/nc/data')\n",
    "# Select flights\n",
    "flist_atom_flights = ['MER-WAS_DC8_20170218_R8.nc', 'MER-WAS_DC8_20170219_R7.nc', 'MER-WAS_DC8_20170221_R8.nc']\n",
    "fpaths_atom_flights = [path_to_atom / i for i in flist_atom_flights]\n",
    "# Read ATom data\n",
    "atom_dsinf = xr.open_mfdataset(fpaths_atom_flights, decode_times=True)\n",
    "atom_dsmms = xr.open_mfdataset(fpaths_atom_flights, group='MMS', decode_cf=True)\n",
    "atom_dswas = xr.open_mfdataset(fpaths_atom_flights, group='WAS', decode_cf=True)"
   ]
  },
  {
   "cell_type": "code",
   "execution_count": null,
   "metadata": {
    "nbpresent": {
     "id": "5bf220d9-75c8-489e-81fb-58c0a9a4f83d"
    }
   },
   "outputs": [],
   "source": [
    "# Read precalculated UKCA trajectories\n",
    "ukca_run_name = 'ba897'\n",
    "compared_common_id = '170218_170221_1702_merge_zlvs'\n",
    "path_to_prcd = Path('../processed') / ukca_run_name\n",
    "traj_nc4h10 = iris.load_cube(str(path_to_prcd)+f'/{ukca_run_name}_{compared_common_id}_traj_nc4h10.nc')\n",
    "traj_ic4h10 = iris.load_cube(str(path_to_prcd)+f'/{ukca_run_name}_{compared_common_id}_traj_ic4h10.nc')\n",
    "traj_nc5h12 = iris.load_cube(str(path_to_prcd)+f'/{ukca_run_name}_{compared_common_id}_traj_nc5h12.nc')\n",
    "traj_ic5h12 = iris.load_cube(str(path_to_prcd)+f'/{ukca_run_name}_{compared_common_id}_traj_ic5h12.nc')\n",
    "traj_sbuono2 = iris.load_cube(str(path_to_prcd)+f'/{ukca_run_name}_{compared_common_id}_traj_sbuono2.nc')\n",
    "traj_n2peono2 = iris.load_cube(str(path_to_prcd)+f'/{ukca_run_name}_{compared_common_id}_traj_n2peono2.nc')\n",
    "traj_n3peono2 = iris.load_cube(str(path_to_prcd)+f'/{ukca_run_name}_{compared_common_id}_traj_n3peono2.nc')\n",
    "traj_ipeono2 = iris.load_cube(str(path_to_prcd)+f'/{ukca_run_name}_{compared_common_id}_traj_ipeono2.nc')"
   ]
  },
  {
   "cell_type": "code",
   "execution_count": null,
   "metadata": {},
   "outputs": [],
   "source": [
    "# Path to figures\n",
    "path_to_figs = Path('../../../results') / ukca_run_name / compared_common_id\n",
    "path_to_figs.mkdir(exist_ok=True) # create a new folder if it doesn't exist\n",
    "print(compared_common_id)"
   ]
  },
  {
   "cell_type": "markdown",
   "metadata": {},
   "source": [
    "#### Time series of concentrations along flight track"
   ]
  },
  {
   "cell_type": "code",
   "execution_count": null,
   "metadata": {},
   "outputs": [],
   "source": [
    "# Extract datetimes from ATom data\n",
    "atom_datetime = atom_dsinf.time.values.astype('<M8[us]').astype(datetime)\n",
    "atom_date_strt = atom_datetime[0]\n",
    "atom_date_stop = atom_datetime[-1]\n",
    "# Time series and cross section plotting parameters\n",
    "if compared_common_id == '170218_170221_1702_merge_zlvs':\n",
    "    flght_separators = [149, 308] # manually select indices of flight start times in a merge\n",
    "    slct_time_inds = np.arange(0, atom_dsinf.time.shape[0], 50) # manually choose frequency of datetimes for xticklabels\n",
    "slct_time_lbls = [i.strftime('%H:%M\\n%d-%m-%Y') for i in atom_dsinf.time.values[slct_time_inds].astype('<M8[us]').astype(datetime)]\n",
    "print(slct_time_inds, atom_dsinf.time.shape)"
   ]
  },
  {
   "cell_type": "code",
   "execution_count": null,
   "metadata": {},
   "outputs": [],
   "source": [
    "nc4h10_diff = traj_nc4h10.data - atom_dswas['n-Butane_WAS']\n",
    "ic4h10_diff = traj_ic4h10.data - atom_dswas['i-Butane_WAS']\n",
    "nc5h12_diff = traj_nc5h12.data - atom_dswas['n-Pentane_WAS']\n",
    "ic5h12_diff = traj_ic5h12.data - atom_dswas['i-Pentane_WAS']\n",
    "\n",
    "sbuono2_diff = traj_sbuono2.data - atom_dswas['2-BuONO2_WAS']\n",
    "n2peono2_diff = traj_n2peono2.data - atom_dswas['2-PenONO2_WAS']\n",
    "n3peono2_diff = traj_n3peono2.data - atom_dswas['3-PenONO2_WAS']\n",
    "ipeono2_diff = traj_ipeono2.data - atom_dswas['3-Methyl-2-BuONO2_WAS']"
   ]
  },
  {
   "cell_type": "code",
   "execution_count": null,
   "metadata": {},
   "outputs": [],
   "source": [
    "nc4h10_diff_pct = nc4h10_diff*100/atom_dswas['n-Butane_WAS']\n",
    "ic4h10_diff_pct = ic4h10_diff*100/atom_dswas['i-Butane_WAS']\n",
    "nc5h12_diff_pct = nc5h12_diff*100/atom_dswas['n-Pentane_WAS']\n",
    "ic5h12_diff_pct = ic5h12_diff*100/atom_dswas['i-Pentane_WAS']\n",
    "\n",
    "sbuono2_diff_pct = sbuono2_diff*100/atom_dswas['2-BuONO2_WAS']\n",
    "n2peono2_diff_pct = n2peono2_diff*100/atom_dswas['2-PenONO2_WAS']\n",
    "n3peono2_diff_pct = n3peono2_diff*100/atom_dswas['3-PenONO2_WAS']\n",
    "ipeono2_diff_pct = ipeono2_diff*100/atom_dswas['3-Methyl-2-BuONO2_WAS']"
   ]
  },
  {
   "cell_type": "code",
   "execution_count": null,
   "metadata": {},
   "outputs": [],
   "source": [
    "np.nanmean(nc4h10_diff_pct), np.nanmean(ic4h10_diff_pct), np.nanmean(nc5h12_diff_pct), np.nanmean(ic5h12_diff_pct)"
   ]
  },
  {
   "cell_type": "code",
   "execution_count": null,
   "metadata": {},
   "outputs": [],
   "source": [
    "np.nanmean(sbuono2_diff_pct), np.nanmean(n2peono2_diff_pct), np.nanmean(n3peono2_diff_pct), np.nanmean(ipeono2_diff_pct)"
   ]
  },
  {
   "cell_type": "code",
   "execution_count": null,
   "metadata": {},
   "outputs": [],
   "source": [
    "# Plot time series of concentrations along flight track\n",
    "fig, ax = plt.subplots(figsize=(12, 4), facecolor='w')\n",
    "ax.plot(atom_dswas['n-Butane_WAS'], color='k')\n",
    "ax.plot(traj_nc4h10.data, color='r')\n",
    "# common\n",
    "ax.set_title(f'{str_nc4h10}')\n",
    "ax.set_xlabel('Time, hours (UTC)')\n",
    "ax.set_ylabel('pptv')\n",
    "ax.set_xticks(slct_time_inds)\n",
    "ax.set_xticklabels(slct_time_lbls)\n",
    "ax.margins(x=0)\n",
    "for x in flght_separators: ax.axvline(x=x, ymin=0, ymax=1500, color='grey', linestyle='--', linewidth=1)\n",
    "ax.legend([f'ATom', f'UKCA {ukca_run_name} hourly'])\n",
    "if savefig: fig.savefig(path_to_figs / f'{ukca_run_name}_{compared_common_id}_ts_RH_C4n.png', bbox_inches='tight')"
   ]
  },
  {
   "cell_type": "code",
   "execution_count": null,
   "metadata": {},
   "outputs": [],
   "source": [
    "# Plot time series of concentrations along flight track\n",
    "fig, ax = plt.subplots(figsize=(12, 4), facecolor='w')\n",
    "ax.plot(atom_dswas['i-Butane_WAS'], color='k')\n",
    "ax.plot(traj_ic4h10.data, color='r')\n",
    "# common\n",
    "ax.set_title(f'{str_ic4h10}')\n",
    "ax.set_xlabel('Time, hours (UTC)')\n",
    "ax.set_ylabel('pptv')\n",
    "ax.set_xticks(slct_time_inds)\n",
    "ax.set_xticklabels(slct_time_lbls)\n",
    "ax.margins(x=0)\n",
    "for x in flght_separators: ax.axvline(x=x, ymin=0, ymax=1500, color='grey', linestyle='--', linewidth=1)\n",
    "ax.legend([f'ATom', f'UKCA {ukca_run_name} hourly'])\n",
    "if savefig: fig.savefig(path_to_figs / f'{ukca_run_name}_{compared_common_id}_ts_RH_C4i.png', bbox_inches='tight')"
   ]
  },
  {
   "cell_type": "code",
   "execution_count": null,
   "metadata": {},
   "outputs": [],
   "source": [
    "# Plot time series of concentrations along flight track\n",
    "fig, ax = plt.subplots(figsize=(12, 4), facecolor='w')\n",
    "ax.plot(atom_dswas['n-Pentane_WAS'], color='k')\n",
    "ax.plot(traj_nc5h12.data, color='r')\n",
    "# common\n",
    "ax.set_title(f'{str_nc5h12}')\n",
    "ax.set_xlabel('Time, hours (UTC)')\n",
    "ax.set_ylabel('pptv')\n",
    "ax.set_xticks(slct_time_inds)\n",
    "ax.set_xticklabels(slct_time_lbls)\n",
    "ax.margins(x=0)\n",
    "for x in flght_separators: ax.axvline(x=x, ymin=0, ymax=1500, color='grey', linestyle='--', linewidth=1)\n",
    "ax.legend([f'ATom', f'UKCA {ukca_run_name} hourly'])\n",
    "if savefig: fig.savefig(path_to_figs / f'{ukca_run_name}_{compared_common_id}_ts_RH_C5n.png', bbox_inches='tight')"
   ]
  },
  {
   "cell_type": "code",
   "execution_count": null,
   "metadata": {},
   "outputs": [],
   "source": [
    "# Plot time series of concentrations along flight track\n",
    "fig, ax = plt.subplots(figsize=(12, 4), facecolor='w')\n",
    "ax.plot(atom_dswas['i-Pentane_WAS'], color='k')\n",
    "ax.plot(traj_ic5h12.data, color='r')\n",
    "# common\n",
    "ax.set_title(f'{str_ic5h12}')\n",
    "ax.set_xlabel('Time, hours (UTC)')\n",
    "ax.set_ylabel('pptv')\n",
    "ax.set_xticks(slct_time_inds)\n",
    "ax.set_xticklabels(slct_time_lbls)\n",
    "ax.margins(x=0)\n",
    "for x in flght_separators: ax.axvline(x=x, ymin=0, ymax=1500, color='grey', linestyle='--', linewidth=1)\n",
    "ax.legend([f'ATom', f'UKCA {ukca_run_name} hourly'])\n",
    "if savefig: fig.savefig(path_to_figs / f'{ukca_run_name}_{compared_common_id}_ts_RH_C5i.png', bbox_inches='tight')"
   ]
  },
  {
   "cell_type": "code",
   "execution_count": null,
   "metadata": {},
   "outputs": [],
   "source": [
    "# Plot time series of concentrations along flight track\n",
    "fig, ax = plt.subplots(figsize=(12, 4), facecolor='w')\n",
    "ax.plot(atom_dswas['2-BuONO2_WAS'], color='k')\n",
    "ax.plot(traj_sbuono2.data, color='r')\n",
    "# common\n",
    "ax.set_title(f'{str_sbuono2}')\n",
    "ax.set_xlabel('Time, hours (UTC)')\n",
    "ax.set_ylabel('pptv')\n",
    "ax.set_xticks(slct_time_inds)\n",
    "ax.set_xticklabels(slct_time_lbls)\n",
    "ax.margins(x=0)\n",
    "for x in flght_separators: ax.axvline(x=x, ymin=0, ymax=1500, color='grey', linestyle='--', linewidth=1)\n",
    "ax.legend([f'ATom', f'UKCA {ukca_run_name} hourly'])\n",
    "if savefig: fig.savefig(path_to_figs / f'{ukca_run_name}_{compared_common_id}_ts_RONO2_C4s.png', bbox_inches='tight')"
   ]
  },
  {
   "cell_type": "code",
   "execution_count": null,
   "metadata": {},
   "outputs": [],
   "source": [
    "# Plot time series of concentrations along flight track\n",
    "fig, ax = plt.subplots(figsize=(12, 4), facecolor='w')\n",
    "ax.plot(atom_dswas['2-PenONO2_WAS'], color='k')\n",
    "ax.plot(traj_n2peono2.data, color='r')\n",
    "# common\n",
    "ax.set_title(f'{str_n2peono2}')\n",
    "ax.set_xlabel('Time, hours (UTC)')\n",
    "ax.set_ylabel('pptv')\n",
    "ax.set_xticks(slct_time_inds)\n",
    "ax.set_xticklabels(slct_time_lbls)\n",
    "ax.margins(x=0)\n",
    "for x in flght_separators: ax.axvline(x=x, ymin=0, ymax=1500, color='grey', linestyle='--', linewidth=1)\n",
    "ax.legend([f'ATom', f'UKCA {ukca_run_name} hourly'])\n",
    "if savefig: fig.savefig(path_to_figs / f'{ukca_run_name}_{compared_common_id}_ts_RONO2_C5nB.png', bbox_inches='tight')"
   ]
  },
  {
   "cell_type": "code",
   "execution_count": null,
   "metadata": {},
   "outputs": [],
   "source": [
    "# Plot time series of concentrations along flight track\n",
    "fig, ax = plt.subplots(figsize=(12, 4), facecolor='w')\n",
    "ax.plot(atom_dswas['3-PenONO2_WAS'], color='k')\n",
    "ax.plot(traj_n3peono2.data, color='r')\n",
    "# common\n",
    "ax.set_title(f'{str_n3peono2}')\n",
    "ax.set_xlabel('Time, hours (UTC)')\n",
    "ax.set_ylabel('pptv')\n",
    "ax.set_xticks(slct_time_inds)\n",
    "ax.set_xticklabels(slct_time_lbls)\n",
    "ax.margins(x=0)\n",
    "for x in flght_separators: ax.axvline(x=x, ymin=0, ymax=1500, color='grey', linestyle='--', linewidth=1)\n",
    "ax.legend([f'ATom', f'UKCA {ukca_run_name} hourly'])\n",
    "if savefig: fig.savefig(path_to_figs / f'{ukca_run_name}_{compared_common_id}_ts_RONO2_C5nC.png', bbox_inches='tight')"
   ]
  },
  {
   "cell_type": "code",
   "execution_count": null,
   "metadata": {},
   "outputs": [],
   "source": [
    "# Plot time series of concentrations along flight track\n",
    "fig, ax = plt.subplots(figsize=(12, 4), facecolor='w')\n",
    "ax.plot(atom_dswas['3-Methyl-2-BuONO2_WAS'], color='k')\n",
    "ax.plot(traj_ipeono2.data, color='r')\n",
    "# common\n",
    "ax.set_title(f'{str_ipeono2}')\n",
    "ax.set_xlabel('Time, hours (UTC)')\n",
    "ax.set_ylabel('pptv')\n",
    "ax.set_xticks(slct_time_inds)\n",
    "ax.set_xticklabels(slct_time_lbls)\n",
    "ax.margins(x=0)\n",
    "for x in flght_separators: ax.axvline(x=x, ymin=0, ymax=1500, color='grey', linestyle='--', linewidth=1)\n",
    "ax.legend([f'ATom', f'UKCA {ukca_run_name} hourly'])\n",
    "if savefig: fig.savefig(path_to_figs / f'{ukca_run_name}_{compared_common_id}_ts_RONO2_C5i.png', bbox_inches='tight')"
   ]
  },
  {
   "cell_type": "markdown",
   "metadata": {},
   "source": [
    "#### Cross section along flight track"
   ]
  },
  {
   "cell_type": "code",
   "execution_count": null,
   "metadata": {},
   "outputs": [],
   "source": [
    "# Read precalculated UKCA 2D trajectories\n",
    "crsc_nc4h10 = iris.load_cube(str(path_to_prcd)+f'/{ukca_run_name}_{compared_common_id}_crsc_nc4h10.nc')\n",
    "crsc_ic4h10 = iris.load_cube(str(path_to_prcd)+f'/{ukca_run_name}_{compared_common_id}_crsc_ic4h10.nc')\n",
    "crsc_nc5h12 = iris.load_cube(str(path_to_prcd)+f'/{ukca_run_name}_{compared_common_id}_crsc_nc5h12.nc')\n",
    "crsc_ic5h12 = iris.load_cube(str(path_to_prcd)+f'/{ukca_run_name}_{compared_common_id}_crsc_ic5h12.nc')\n",
    "crsc_sbuono2 = iris.load_cube(str(path_to_prcd)+f'/{ukca_run_name}_{compared_common_id}_crsc_sbuono2.nc')\n",
    "crsc_n2peono2 = iris.load_cube(str(path_to_prcd)+f'/{ukca_run_name}_{compared_common_id}_crsc_n2peono2.nc')\n",
    "crsc_n3peono2 = iris.load_cube(str(path_to_prcd)+f'/{ukca_run_name}_{compared_common_id}_crsc_n3peono2.nc')\n",
    "crsc_ipeono2 = iris.load_cube(str(path_to_prcd)+f'/{ukca_run_name}_{compared_common_id}_crsc_ipeono2.nc')"
   ]
  },
  {
   "cell_type": "code",
   "execution_count": null,
   "metadata": {},
   "outputs": [],
   "source": [
    "# Convert xarray dataset with observational data to pandas dataframe\n",
    "atom_nc4h10 = atom_dswas['n-Butane_WAS'].to_dataframe()\n",
    "atom_ic4h10 = atom_dswas['i-Butane_WAS'].to_dataframe()\n",
    "atom_nc5h12 = atom_dswas['n-Pentane_WAS'].to_dataframe()\n",
    "atom_ic5h12 = atom_dswas['i-Pentane_WAS'].to_dataframe()\n",
    "atom_sbuono2 = atom_dswas['2-BuONO2_WAS'].to_dataframe()\n",
    "atom_n2peono2 = atom_dswas['2-PenONO2_WAS'].to_dataframe()\n",
    "atom_n3peono2 = atom_dswas['3-PenONO2_WAS'].to_dataframe()\n",
    "atom_ipeono2 = atom_dswas['3-Methyl-2-BuONO2_WAS'].to_dataframe()"
   ]
  },
  {
   "cell_type": "code",
   "execution_count": null,
   "metadata": {},
   "outputs": [],
   "source": [
    "# Find max between maxima and max between minima in ATom and model cross section data for plotting a cross section with two colormaps\n",
    "cs_nc4h10_max = max(np.nanmax(atom_nc4h10.values), np.nanmax(crsc_nc4h10.data))\n",
    "cs_ic4h10_max = max(np.nanmax(atom_ic4h10.values), np.nanmax(crsc_ic4h10.data))\n",
    "cs_nc5h12_max = max(np.nanmax(atom_nc5h12.values), np.nanmax(crsc_nc5h12.data))\n",
    "cs_ic5h12_max = max(np.nanmax(atom_ic5h12.values), np.nanmax(crsc_ic5h12.data))\n",
    "cs_sbuono2_max = max(np.nanmax(atom_sbuono2.values), np.nanmax(crsc_sbuono2.data))\n",
    "cs_n2peono2_max = max(np.nanmax(atom_n2peono2.values), np.nanmax(crsc_n2peono2.data))\n",
    "cs_n3peono2_max = max(np.nanmax(atom_n3peono2.values), np.nanmax(crsc_n3peono2.data))\n",
    "cs_ipeono2_max = max(np.nanmax(atom_ipeono2.values), np.nanmax(crsc_ipeono2.data))\n",
    "\n",
    "cs_nc4h10_min = min(np.nanmax(atom_nc4h10.values), np.nanmax(crsc_nc4h10.data))\n",
    "cs_ic4h10_min = min(np.nanmax(atom_ic4h10.values), np.nanmax(crsc_ic4h10.data))\n",
    "cs_nc5h12_min = min(np.nanmax(atom_nc5h12.values), np.nanmax(crsc_nc5h12.data))\n",
    "cs_ic5h12_min = min(np.nanmax(atom_ic5h12.values), np.nanmax(crsc_ic5h12.data))\n",
    "cs_sbuono2_min = min(np.nanmax(atom_sbuono2.values), np.nanmax(crsc_sbuono2.data))\n",
    "cs_n2peono2_min = min(np.nanmax(atom_n2peono2.values), np.nanmax(crsc_n2peono2.data))\n",
    "cs_n3peono2_min = min(np.nanmax(atom_n3peono2.values), np.nanmax(crsc_n3peono2.data))\n",
    "cs_ipeono2_min = min(np.nanmax(atom_ipeono2.values), np.nanmax(crsc_ipeono2.data))"
   ]
  },
  {
   "cell_type": "code",
   "execution_count": null,
   "metadata": {},
   "outputs": [],
   "source": [
    "# Cross section plotting parameters\n",
    "mrgd_time_inds = np.arange(0,atom_dsinf.time.values.shape[0],1) # merged time indices\n",
    "def m2km(x, pos):\n",
    "    '''Convert meters to kilometers when plotting axis labels'''\n",
    "    return int(x*1e-3) #'{:1.1f}'.format(x*1e-3)\n",
    "# Merge two colormaps: color concentrations present in obs and model using one colormap and obs higher than model using another colormap\n",
    "class MidpointNormalize(colors.Normalize):\n",
    "    def __init__(self, vmin=None, vmax=None, midpoint=None, clip=False):\n",
    "        self.midpoint = midpoint\n",
    "        colors.Normalize.__init__(self, vmin, vmax, clip)\n",
    "    def __call__(self, value, clip=None):\n",
    "        x, y = [self.vmin, self.midpoint, self.vmax], [0, 0.5, 1]\n",
    "        return np.ma.masked_array(np.interp(value, x, y))\n",
    "colors_low = plt.cm.Blues(np.linspace(0,1,128))\n",
    "colors_high = plt.cm.autumn_r(np.linspace(0,1,128))\n",
    "colors_stack = np.vstack((colors_low, colors_high))\n",
    "mrgd_cmap = colors.LinearSegmentedColormap.from_list('merged_cmap', colors_stack)\n",
    "cs_pc_kwargs = dict(cmap=mrgd_cmap, vmin=0) # model data pcolormesh options\n",
    "cs_sc_kwargs = dict(cmap=mrgd_cmap, vmin=0, edgecolors='k', linewidth=0.2) # obs data scatter options"
   ]
  },
  {
   "cell_type": "code",
   "execution_count": null,
   "metadata": {},
   "outputs": [],
   "source": [
    "# Plot cross section along flight track\n",
    "fig, ax = plt.subplots(figsize=(14,5), facecolor='w')\n",
    "p0 = ax.pcolormesh(mrgd_time_inds, crsc_nc4h10.coord('altitude').points, crsc_nc4h10.data, \n",
    "                   norm=MidpointNormalize(midpoint=cs_nc4h10_min), vmax=cs_nc4h10_max, **cs_pc_kwargs)\n",
    "p1 = ax.scatter(mrgd_time_inds, atom_dsmms.G_ALT, c=atom_nc4h10.squeeze(), \n",
    "                norm=MidpointNormalize(midpoint=cs_nc4h10_min), vmax=cs_nc4h10_max, **cs_sc_kwargs)\n",
    "fig.colorbar(p0, label='pptv')\n",
    "# common\n",
    "ax.set_title(f'{str_nc4h10}\\nATom vs UKCA {ukca_run_name} hourly')\n",
    "ax.set_xlabel('Time, hours (UTC)')\n",
    "ax.set_ylabel('Altitude, km')\n",
    "ax.set_ylim(0,13500)\n",
    "ax.set_xticks(slct_time_inds)\n",
    "ax.set_xticklabels(slct_time_lbls)\n",
    "ax.yaxis.set_major_formatter(FuncFormatter(m2km))\n",
    "ax.margins(x=0)\n",
    "for x in flght_separators: ax.axvline(x=x, ymin=0, ymax=13500, color='grey', linestyle='--', linewidth=1)\n",
    "if savefig: fig.savefig(path_to_figs / f'{ukca_run_name}_{compared_common_id}_cs_RH_C4n.png', bbox_inches='tight')"
   ]
  },
  {
   "cell_type": "code",
   "execution_count": null,
   "metadata": {},
   "outputs": [],
   "source": [
    "# Plot cross section along flight track\n",
    "fig, ax = plt.subplots(figsize=(14,5), facecolor='w')\n",
    "p0 = ax.pcolormesh(mrgd_time_inds, crsc_ic4h10.coord('altitude').points, crsc_ic4h10.data.squeeze(), \n",
    "                   norm=MidpointNormalize(midpoint=cs_ic4h10_min), vmax=cs_ic4h10_max, **cs_pc_kwargs)\n",
    "p1 = ax.scatter(mrgd_time_inds, atom_dsmms.G_ALT, c=atom_ic4h10.squeeze(), \n",
    "                norm=MidpointNormalize(midpoint=cs_ic4h10_min), vmax=cs_ic4h10_max, **cs_sc_kwargs)\n",
    "fig.colorbar(p0, label='pptv')\n",
    "# common\n",
    "ax.set_title(f'{str_ic4h10}\\nATom vs UKCA {ukca_run_name} hourly')\n",
    "ax.set_xlabel('Time, hours (UTC)')\n",
    "ax.set_ylabel('Altitude, km')\n",
    "ax.set_ylim(0,13500)\n",
    "ax.set_xticks(slct_time_inds)\n",
    "ax.set_xticklabels(slct_time_lbls)\n",
    "ax.yaxis.set_major_formatter(FuncFormatter(m2km))\n",
    "ax.margins(x=0)\n",
    "for x in flght_separators: ax.axvline(x=x, ymin=0, ymax=13500, color='grey', linestyle='--', linewidth=1)\n",
    "if savefig: fig.savefig(path_to_figs / f'{ukca_run_name}_{compared_common_id}_cs_RH_C4i.png', bbox_inches='tight')"
   ]
  },
  {
   "cell_type": "code",
   "execution_count": null,
   "metadata": {},
   "outputs": [],
   "source": [
    "# Plot cross section along flight track\n",
    "fig, ax = plt.subplots(figsize=(14,5), facecolor='w')\n",
    "p0 = ax.pcolormesh(mrgd_time_inds, crsc_nc5h12.coord('altitude').points, crsc_nc5h12.data.squeeze(), \n",
    "                   norm=MidpointNormalize(midpoint=cs_nc5h12_min), vmax=cs_nc5h12_max, **cs_pc_kwargs)\n",
    "p1 = ax.scatter(mrgd_time_inds, atom_dsmms.G_ALT, c=atom_nc5h12.squeeze(), \n",
    "                norm=MidpointNormalize(midpoint=cs_nc5h12_min), vmax=cs_nc5h12_max, **cs_sc_kwargs)\n",
    "fig.colorbar(p0, label='pptv')\n",
    "# common\n",
    "ax.set_title(f'{str_nc5h12}\\nATom vs UKCA {ukca_run_name} hourly')\n",
    "ax.set_xlabel('Time, hours (UTC)')\n",
    "ax.set_ylabel('Altitude, km')\n",
    "ax.set_ylim(0,13500)\n",
    "ax.set_xticks(slct_time_inds)\n",
    "ax.set_xticklabels(slct_time_lbls)\n",
    "ax.yaxis.set_major_formatter(FuncFormatter(m2km))\n",
    "ax.margins(x=0)\n",
    "for x in flght_separators: ax.axvline(x=x, ymin=0, ymax=13500, color='grey', linestyle='--', linewidth=1)\n",
    "if savefig: fig.savefig(path_to_figs / f'{ukca_run_name}_{compared_common_id}_cs_RH_C5n.png', bbox_inches='tight')"
   ]
  },
  {
   "cell_type": "code",
   "execution_count": null,
   "metadata": {},
   "outputs": [],
   "source": [
    "# Plot cross section along flight track\n",
    "fig, ax = plt.subplots(figsize=(14,5), facecolor='w')\n",
    "p0 = ax.pcolormesh(mrgd_time_inds, crsc_ic5h12.coord('altitude').points, crsc_ic5h12.data.squeeze(), \n",
    "                   norm=MidpointNormalize(midpoint=cs_ic5h12_min), vmax=cs_ic5h12_max, **cs_pc_kwargs)\n",
    "p1 = ax.scatter(mrgd_time_inds, atom_dsmms.G_ALT, c=atom_ic5h12.squeeze(), \n",
    "                norm=MidpointNormalize(midpoint=cs_ic5h12_min), vmax=cs_ic5h12_max, **cs_sc_kwargs)\n",
    "fig.colorbar(p0, label='pptv')\n",
    "# common\n",
    "ax.set_title(f'{str_ic5h12}\\nATom vs UKCA {ukca_run_name} hourly')\n",
    "ax.set_xlabel('Time, hours (UTC)')\n",
    "ax.set_ylabel('Altitude, km')\n",
    "ax.set_ylim(0,13500)\n",
    "ax.set_xticks(slct_time_inds)\n",
    "ax.set_xticklabels(slct_time_lbls)\n",
    "ax.yaxis.set_major_formatter(FuncFormatter(m2km))\n",
    "ax.margins(x=0)\n",
    "for x in flght_separators: ax.axvline(x=x, ymin=0, ymax=13500, color='grey', linestyle='--', linewidth=1)\n",
    "if savefig: fig.savefig(path_to_figs / f'{ukca_run_name}_{compared_common_id}_cs_RH_C5i.png', bbox_inches='tight')"
   ]
  },
  {
   "cell_type": "code",
   "execution_count": null,
   "metadata": {},
   "outputs": [],
   "source": [
    "# Plot cross section along flight track\n",
    "fig, ax = plt.subplots(figsize=(14,5), facecolor='w')\n",
    "p0 = ax.pcolormesh(mrgd_time_inds, crsc_sbuono2.coord('altitude').points, crsc_sbuono2.data, \n",
    "                   norm=MidpointNormalize(midpoint=cs_sbuono2_min), vmax=cs_sbuono2_max, **cs_pc_kwargs)\n",
    "p1 = ax.scatter(mrgd_time_inds, atom_dsmms.G_ALT, c=atom_sbuono2.squeeze(), \n",
    "                norm=MidpointNormalize(midpoint=cs_sbuono2_min), vmax=cs_sbuono2_max, **cs_sc_kwargs)\n",
    "fig.colorbar(p0, label='pptv')\n",
    "# common\n",
    "ax.set_title(f'{str_sbuono2}\\nATom vs UKCA {ukca_run_name} hourly')\n",
    "ax.set_xlabel('Time, hours (UTC)')\n",
    "ax.set_ylabel('Altitude, km')\n",
    "ax.set_ylim(0,13500)\n",
    "ax.set_xticks(slct_time_inds)\n",
    "ax.set_xticklabels(slct_time_lbls)\n",
    "ax.yaxis.set_major_formatter(FuncFormatter(m2km))\n",
    "ax.margins(x=0)\n",
    "for x in flght_separators: ax.axvline(x=x, ymin=0, ymax=13500, color='grey', linestyle='--', linewidth=1)\n",
    "if savefig: fig.savefig(path_to_figs / f'{ukca_run_name}_{compared_common_id}_cs_RONO2_C4s.png', bbox_inches='tight')"
   ]
  },
  {
   "cell_type": "code",
   "execution_count": null,
   "metadata": {},
   "outputs": [],
   "source": [
    "# Plot cross section along flight track\n",
    "fig, ax = plt.subplots(figsize=(14,5), facecolor='w')\n",
    "p0 = ax.pcolormesh(mrgd_time_inds, crsc_n2peono2.coord('altitude').points, crsc_n2peono2.data.squeeze(), \n",
    "                   norm=MidpointNormalize(midpoint=cs_n2peono2_min), vmax=cs_n2peono2_max, **cs_pc_kwargs)\n",
    "p1 = ax.scatter(mrgd_time_inds, atom_dsmms.G_ALT, c=atom_n2peono2.squeeze(), \n",
    "                norm=MidpointNormalize(midpoint=cs_n2peono2_min), vmax=cs_n2peono2_max, **cs_sc_kwargs)\n",
    "fig.colorbar(p0, label='pptv')\n",
    "# common\n",
    "ax.set_title(f'{str_n2peono2}\\nATom vs UKCA {ukca_run_name} hourly')\n",
    "ax.set_xlabel('Time, hours (UTC)')\n",
    "ax.set_ylabel('Altitude, km')\n",
    "ax.set_ylim(0,13500)\n",
    "ax.set_xticks(slct_time_inds)\n",
    "ax.set_xticklabels(slct_time_lbls)\n",
    "ax.yaxis.set_major_formatter(FuncFormatter(m2km))\n",
    "ax.margins(x=0)\n",
    "for x in flght_separators: ax.axvline(x=x, ymin=0, ymax=13500, color='grey', linestyle='--', linewidth=1)\n",
    "if savefig: fig.savefig(path_to_figs / f'{ukca_run_name}_{compared_common_id}_cs_RONO2_C5nB.png', bbox_inches='tight')"
   ]
  },
  {
   "cell_type": "code",
   "execution_count": null,
   "metadata": {},
   "outputs": [],
   "source": [
    "# Plot cross section along flight track\n",
    "fig, ax = plt.subplots(figsize=(14,5), facecolor='w')\n",
    "p0 = ax.pcolormesh(mrgd_time_inds, crsc_n3peono2.coord('altitude').points, crsc_n3peono2.data.squeeze(), \n",
    "                   norm=MidpointNormalize(midpoint=cs_n3peono2_min), vmax=cs_n3peono2_max, **cs_pc_kwargs)\n",
    "p1 = ax.scatter(mrgd_time_inds, atom_dsmms.G_ALT, c=atom_n3peono2.squeeze(), \n",
    "                norm=MidpointNormalize(midpoint=cs_n3peono2_min), vmax=cs_n3peono2_max, **cs_sc_kwargs)\n",
    "fig.colorbar(p0, label='pptv')\n",
    "# common\n",
    "ax.set_title(f'{str_n3peono2}\\nATom vs UKCA {ukca_run_name} hourly')\n",
    "ax.set_xlabel('Time, hours (UTC)')\n",
    "ax.set_ylabel('Altitude, km')\n",
    "ax.set_ylim(0,13500)\n",
    "ax.set_xticks(slct_time_inds)\n",
    "ax.set_xticklabels(slct_time_lbls)\n",
    "ax.yaxis.set_major_formatter(FuncFormatter(m2km))\n",
    "ax.margins(x=0)\n",
    "for x in flght_separators: ax.axvline(x=x, ymin=0, ymax=13500, color='grey', linestyle='--', linewidth=1)\n",
    "if savefig: fig.savefig(path_to_figs / f'{ukca_run_name}_{compared_common_id}_cs_RONO2_C5nC.png', bbox_inches='tight')"
   ]
  },
  {
   "cell_type": "code",
   "execution_count": null,
   "metadata": {},
   "outputs": [],
   "source": [
    "# Plot cross section along flight track\n",
    "fig, ax = plt.subplots(figsize=(14,5), facecolor='w')\n",
    "p0 = ax.pcolormesh(mrgd_time_inds, crsc_ipeono2.coord('altitude').points, crsc_ipeono2.data.squeeze(), \n",
    "                   norm=MidpointNormalize(midpoint=cs_ipeono2_min), vmax=cs_ipeono2_max, **cs_pc_kwargs)\n",
    "p1 = ax.scatter(mrgd_time_inds, atom_dsmms.G_ALT, c=atom_ipeono2.squeeze(), \n",
    "                norm=MidpointNormalize(midpoint=cs_ipeono2_min), vmax=cs_ipeono2_max, **cs_sc_kwargs)\n",
    "fig.colorbar(p0, label='pptv')\n",
    "# common\n",
    "ax.set_title(f'{str_ipeono2}\\nATom vs UKCA {ukca_run_name} hourly')\n",
    "ax.set_xlabel('Time, hours (UTC)')\n",
    "ax.set_ylabel('Altitude, km')\n",
    "ax.set_ylim(0,13500)\n",
    "ax.set_xticks(slct_time_inds)\n",
    "ax.set_xticklabels(slct_time_lbls)\n",
    "ax.yaxis.set_major_formatter(FuncFormatter(m2km))\n",
    "ax.margins(x=0)\n",
    "for x in flght_separators: ax.axvline(x=x, ymin=0, ymax=13500, color='grey', linestyle='--', linewidth=1)\n",
    "if savefig: fig.savefig(path_to_figs / f'{ukca_run_name}_{compared_common_id}_cs_RONO2_C5i.png', bbox_inches='tight')"
   ]
  },
  {
   "cell_type": "markdown",
   "metadata": {},
   "source": [
    "#### Scatter plot data along flight track"
   ]
  },
  {
   "cell_type": "code",
   "execution_count": null,
   "metadata": {},
   "outputs": [],
   "source": [
    "# Find max concentration between observational and model trajectory data\n",
    "sct_max_nc4h10 = max(np.nanmax(atom_nc4h10.values), np.nanmax(traj_nc4h10.data))\n",
    "sct_max_ic4h10 = max(np.nanmax(atom_ic4h10.values), np.nanmax(traj_ic4h10.data))\n",
    "sct_max_nc5h12 = max(np.nanmax(atom_nc5h12.values), np.nanmax(traj_nc5h12.data))\n",
    "sct_max_ic5h12 = max(np.nanmax(atom_ic5h12.values), np.nanmax(traj_ic5h12.data))\n",
    "sct_max_sbuono2 = max(np.nanmax(atom_sbuono2.values), np.nanmax(traj_sbuono2.data))\n",
    "sct_max_n2peono2 = max(np.nanmax(atom_n2peono2.values), np.nanmax(traj_n2peono2.data))\n",
    "sct_max_n3peono2 = max(np.nanmax(atom_n3peono2.values), np.nanmax(traj_n3peono2.data))\n",
    "sct_max_ipeono2 = max(np.nanmax(atom_ipeono2.values), np.nanmax(traj_ipeono2.data))"
   ]
  },
  {
   "cell_type": "code",
   "execution_count": null,
   "metadata": {},
   "outputs": [],
   "source": [
    "# Plot all flight track data as a scatter plot\n",
    "fig, ax = plt.subplots(figsize=(6,5), facecolor='w')\n",
    "p0 = ax.scatter(atom_nc4h10.squeeze(), traj_nc4h10.data.squeeze(), c=atom_dsmms.G_ALT)\n",
    "ax.plot([0, sct_max_nc4h10], [0, sct_max_nc4h10], color='k', linestyle='--') # 'one-to-one' line\n",
    "ax.set_title(f'{str_nc4h10}, pptv\\n{atom_date_strt.strftime(\"%d\")}-{atom_date_stop.strftime(\"%d %B %Y\")}')\n",
    "ax.set_xlabel('ATom')\n",
    "ax.set_ylabel(f'UKCA {ukca_run_name} hourly')\n",
    "ax.set_xlim(0, sct_max_nc4h10)\n",
    "ax.set_ylim(0, sct_max_nc4h10)\n",
    "fig.colorbar(p0, label='Altitude, km', format=FuncFormatter(m2km))\n",
    "if savefig: fig.savefig(path_to_figs / f'{ukca_run_name}_{compared_common_id}_1to1_RH_C4n.png', bbox_inches='tight')"
   ]
  },
  {
   "cell_type": "code",
   "execution_count": null,
   "metadata": {},
   "outputs": [],
   "source": [
    "# Plot all flight track data as a scatter plot\n",
    "fig, ax = plt.subplots(figsize=(6,5), facecolor='w')\n",
    "p0 = ax.scatter(atom_ic4h10.squeeze(), traj_ic4h10.data.squeeze(), c=atom_dsmms.G_ALT)\n",
    "ax.plot([0, sct_max_ic4h10], [0, sct_max_ic4h10], color='k', linestyle='--') # 'one-to-one' line\n",
    "ax.set_title(f'{str_ic4h10}, pptv\\n{atom_date_strt.strftime(\"%d\")}-{atom_date_stop.strftime(\"%d %B %Y\")}')\n",
    "ax.set_xlabel('ATom')\n",
    "ax.set_ylabel(f'UKCA {ukca_run_name} hourly')\n",
    "ax.set_xlim(0, sct_max_ic4h10)\n",
    "ax.set_ylim(0, sct_max_ic4h10)\n",
    "fig.colorbar(p0, label='Altitude, km', format=FuncFormatter(m2km))\n",
    "if savefig: fig.savefig(path_to_figs / f'{ukca_run_name}_{compared_common_id}_1to1_RH_C4i.png', bbox_inches='tight')"
   ]
  },
  {
   "cell_type": "code",
   "execution_count": null,
   "metadata": {},
   "outputs": [],
   "source": [
    "# Plot all flight track data as a scatter plot\n",
    "fig, ax = plt.subplots(figsize=(6,5), facecolor='w')\n",
    "p0 = ax.scatter(atom_nc5h12.squeeze(), traj_nc5h12.data.squeeze(), c=atom_dsmms.G_ALT)\n",
    "ax.plot([0, sct_max_nc5h12], [0, sct_max_nc5h12], color='k', linestyle='--') # 'one-to-one' line\n",
    "ax.set_title(f'{str_nc5h12}, pptv\\n{atom_date_strt.strftime(\"%d\")}-{atom_date_stop.strftime(\"%d %B %Y\")}')\n",
    "ax.set_xlabel('ATom')\n",
    "ax.set_ylabel(f'UKCA {ukca_run_name} hourly')\n",
    "ax.set_xlim(0, sct_max_nc5h12)\n",
    "ax.set_ylim(0, sct_max_nc5h12)\n",
    "fig.colorbar(p0, label='Altitude, km', format=FuncFormatter(m2km))\n",
    "if savefig: fig.savefig(path_to_figs / f'{ukca_run_name}_{compared_common_id}_1to1_RH_C5n.png', bbox_inches='tight')"
   ]
  },
  {
   "cell_type": "code",
   "execution_count": null,
   "metadata": {},
   "outputs": [],
   "source": [
    "# Plot all flight track data as a scatter plot\n",
    "fig, ax = plt.subplots(figsize=(6,5), facecolor='w')\n",
    "p0 = ax.scatter(atom_ic5h12.squeeze(), traj_ic5h12.data.squeeze(), c=atom_dsmms.G_ALT)\n",
    "ax.plot([0, sct_max_ic5h12], [0, sct_max_ic5h12], color='k', linestyle='--') # 'one-to-one' line\n",
    "ax.set_title(f'{str_ic5h12}, pptv\\n{atom_date_strt.strftime(\"%d\")}-{atom_date_stop.strftime(\"%d %B %Y\")}')\n",
    "ax.set_xlabel('ATom')\n",
    "ax.set_ylabel(f'UKCA {ukca_run_name} hourly')\n",
    "ax.set_xlim(0, sct_max_ic5h12)\n",
    "ax.set_ylim(0, sct_max_ic5h12)\n",
    "fig.colorbar(p0, label='Altitude, km', format=FuncFormatter(m2km))\n",
    "if savefig: fig.savefig(path_to_figs / f'{ukca_run_name}_{compared_common_id}_1to1_RH_C5i.png', bbox_inches='tight')"
   ]
  },
  {
   "cell_type": "code",
   "execution_count": null,
   "metadata": {},
   "outputs": [],
   "source": [
    "# Plot all flight track data as a scatter plot\n",
    "fig, ax = plt.subplots(figsize=(6,5), facecolor='w')\n",
    "p0 = ax.scatter(atom_sbuono2.squeeze(), traj_sbuono2.data.squeeze(), c=atom_dsmms.G_ALT)\n",
    "ax.plot([0, sct_max_sbuono2], [0, sct_max_sbuono2], color='k', linestyle='--') # 'one-to-one' line\n",
    "ax.set_title(f'{str_sbuono2}, pptv\\n{atom_date_strt.strftime(\"%d\")}-{atom_date_stop.strftime(\"%d %B %Y\")}')\n",
    "ax.set_xlabel('ATom')\n",
    "ax.set_ylabel(f'UKCA {ukca_run_name} hourly')\n",
    "ax.set_xlim(0, sct_max_sbuono2)\n",
    "ax.set_ylim(0, sct_max_sbuono2)\n",
    "fig.colorbar(p0, label='Altitude, km', format=FuncFormatter(m2km))\n",
    "if savefig: fig.savefig(path_to_figs / f'{ukca_run_name}_{compared_common_id}_1to1_RONO2_C4s.png', bbox_inches='tight')"
   ]
  },
  {
   "cell_type": "code",
   "execution_count": null,
   "metadata": {},
   "outputs": [],
   "source": [
    "# Plot all flight track data as a scatter plot\n",
    "fig, ax = plt.subplots(figsize=(6,5), facecolor='w')\n",
    "p0 = ax.scatter(atom_n2peono2.squeeze(), traj_n2peono2.data.squeeze(), c=atom_dsmms.G_ALT)\n",
    "ax.plot([0, sct_max_n2peono2], [0, sct_max_n2peono2], color='k', linestyle='--') # 'one-to-one' line\n",
    "ax.set_title(f'{str_n2peono2}, pptv\\n{atom_date_strt.strftime(\"%d\")}-{atom_date_stop.strftime(\"%d %B %Y\")}')\n",
    "ax.set_xlabel('ATom')\n",
    "ax.set_ylabel(f'UKCA {ukca_run_name} hourly')\n",
    "ax.set_xlim(0, sct_max_n2peono2)\n",
    "ax.set_ylim(0, sct_max_n2peono2)\n",
    "fig.colorbar(p0, label='Altitude, km', format=FuncFormatter(m2km))\n",
    "if savefig: fig.savefig(path_to_figs / f'{ukca_run_name}_{compared_common_id}_1to1_RONO2_C5nB.png', bbox_inches='tight')"
   ]
  },
  {
   "cell_type": "code",
   "execution_count": null,
   "metadata": {},
   "outputs": [],
   "source": [
    "# Plot all flight track data as a scatter plot\n",
    "fig, ax = plt.subplots(figsize=(6,5), facecolor='w')\n",
    "p0 = ax.scatter(atom_n3peono2.squeeze(), traj_n3peono2.data.squeeze(), c=atom_dsmms.G_ALT)\n",
    "ax.plot([0, sct_max_n3peono2], [0, sct_max_n3peono2], color='k', linestyle='--') # 'one-to-one' line\n",
    "ax.set_title(f'{str_n3peono2}, pptv\\n{atom_date_strt.strftime(\"%d\")}-{atom_date_stop.strftime(\"%d %B %Y\")}')\n",
    "ax.set_xlabel('ATom')\n",
    "ax.set_ylabel(f'UKCA {ukca_run_name} hourly')\n",
    "ax.set_xlim(0, sct_max_n3peono2)\n",
    "ax.set_ylim(0, sct_max_n3peono2)\n",
    "fig.colorbar(p0, label='Altitude, km', format=FuncFormatter(m2km))\n",
    "if savefig: fig.savefig(path_to_figs / f'{ukca_run_name}_{compared_common_id}_1to1_RONO2_C5nC.png', bbox_inches='tight')"
   ]
  },
  {
   "cell_type": "code",
   "execution_count": null,
   "metadata": {},
   "outputs": [],
   "source": [
    "# Plot all flight track data as a scatter plot\n",
    "fig, ax = plt.subplots(figsize=(6,5), facecolor='w')\n",
    "p0 = ax.scatter(atom_ipeono2.squeeze(), traj_ipeono2.data.squeeze(), c=atom_dsmms.G_ALT)\n",
    "ax.plot([0, sct_max_ipeono2], [0, sct_max_ipeono2], color='k', linestyle='--') # 'one-to-one' line\n",
    "ax.set_title(f'{str_ipeono2}, pptv\\n{atom_date_strt.strftime(\"%d\")}-{atom_date_stop.strftime(\"%d %B %Y\")}')\n",
    "ax.set_xlabel('ATom')\n",
    "ax.set_ylabel(f'UKCA {ukca_run_name} hourly')\n",
    "ax.set_xlim(0, sct_max_ipeono2)\n",
    "ax.set_ylim(0, sct_max_ipeono2)\n",
    "fig.colorbar(p0, label='Altitude, km', format=FuncFormatter(m2km))\n",
    "if savefig: fig.savefig(path_to_figs / f'{ukca_run_name}_{compared_common_id}_1to1_RONO2_C5i.png', bbox_inches='tight')"
   ]
  }
 ],
 "metadata": {
  "anaconda-cloud": {},
  "kernelspec": {
   "display_name": "Python 3",
   "language": "python",
   "name": "python3"
  },
  "language_info": {
   "codemirror_mode": {
    "name": "ipython",
    "version": 3
   },
   "file_extension": ".py",
   "mimetype": "text/x-python",
   "name": "python",
   "nbconvert_exporter": "python",
   "pygments_lexer": "ipython3",
   "version": "3.7.3"
  }
 },
 "nbformat": 4,
 "nbformat_minor": 4
}
