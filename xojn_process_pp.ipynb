{
 "cells": [
  {
   "cell_type": "code",
   "execution_count": null,
   "metadata": {},
   "outputs": [],
   "source": [
    "import warnings\n",
    "from pathlib import Path\n",
    "\n",
    "import iris"
   ]
  },
  {
   "cell_type": "code",
   "execution_count": null,
   "metadata": {},
   "outputs": [],
   "source": [
    "from util_commons import EXPERIMENTS, STASH\n",
    "from util_mypaths import path_to_processed, path_to_raw"
   ]
  },
  {
   "cell_type": "code",
   "execution_count": null,
   "metadata": {},
   "outputs": [],
   "source": [
    "warnings.filterwarnings(\"ignore\", module=\"iris\")"
   ]
  },
  {
   "cell_type": "code",
   "execution_count": null,
   "metadata": {},
   "outputs": [],
   "source": [
    "# Choose an experiment\n",
    "exp = \"FIRE OLD3\""
   ]
  },
  {
   "cell_type": "code",
   "execution_count": null,
   "metadata": {},
   "outputs": [],
   "source": [
    "# Load .pp\n",
    "cubelist = iris.load(str(path_to_raw / EXPERIMENTS[exp] / f\"{EXPERIMENTS[exp]}_chem.pp\"))"
   ]
  },
  {
   "cell_type": "markdown",
   "metadata": {},
   "source": [
    "Main meteorology:\n",
    "- air temperature\n",
    "- air mass\n",
    "- tropospheric mask\n",
    "\n",
    "Extra meteorology:\n",
    "- tropopause altitude\n",
    "\n",
    "Main gases:\n",
    "- RH: CH4, C2H6, C3H8\n",
    "- NOx = NO+NO2\n",
    "- RONO2: MeONO2, EtONO2, nPrONO2, iPrONO2\n",
    "- NOy (in addition to NOx and RONO2) = HONO+HO2NO2+HNO3+N2O5+PAN+PPAN\n",
    "- O3\n",
    "- OH\n",
    "\n",
    "Extra gases:\n",
    "- CO\n",
    "- HO2\n",
    "- ROx: MeOO, EtOO, nPrOO, iPrOO\n",
    "- RCHO (aldehydes): HCHO, MeCHO, EtCHO\n",
    "- RCOR (ketones): Me2CO"
   ]
  },
  {
   "cell_type": "code",
   "execution_count": null,
   "metadata": {},
   "outputs": [],
   "source": [
    "# Extract, rename and save to .nc\n",
    "for key, value in STASH[\"main\"].items():\n",
    "    try:\n",
    "        cube = cubelist.extract_strict(value)\n",
    "    except iris.exceptions.ConstraintMismatchError as e:\n",
    "        print(e)\n",
    "        if exp in [\"BASE OLD\", \"BASE\"] and key == \"iprono2\":\n",
    "            # iPrONO2 output was absent from the BASE simulations, but\n",
    "            # iPrONO2 was chemically inactive in the BASE simulations anyway so use zeroes from the EtONO2 output\n",
    "            cube = cubelist.extract_strict(\"m01s34i096\")\n",
    "    cube.rename(key)\n",
    "    print(cube.name())\n",
    "    iris.save(cube, str(path_to_processed / EXPERIMENTS[exp] / f\"{EXPERIMENTS[exp]}_{key}.nc\"))"
   ]
  }
 ],
 "metadata": {
  "@deathbeds/jupyterlab-fonts": {
   "styles": {
    ":root": {
     "--jp-code-font-size": "12px"
    }
   }
  },
  "kernelspec": {
   "display_name": "Python 3",
   "language": "python",
   "name": "python3"
  },
  "language_info": {
   "codemirror_mode": {
    "name": "ipython",
    "version": 3
   },
   "file_extension": ".py",
   "mimetype": "text/x-python",
   "name": "python",
   "nbconvert_exporter": "python",
   "pygments_lexer": "ipython3",
   "version": "3.7.6"
  }
 },
 "nbformat": 4,
 "nbformat_minor": 4
}
