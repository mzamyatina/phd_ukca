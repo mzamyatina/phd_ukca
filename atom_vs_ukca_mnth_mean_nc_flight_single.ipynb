{
 "cells": [
  {
   "cell_type": "code",
   "execution_count": 1,
   "metadata": {
    "nbpresent": {
     "id": "46246386-fec1-4d42-bf10-698a4054dbda"
    }
   },
   "outputs": [],
   "source": [
    "# Data processing\n",
    "import numpy as np\n",
    "import pandas as pd\n",
    "import xarray as xr\n",
    "import iris\n",
    "import iris.pandas\n",
    "from iris.experimental import stratify\n",
    "from iris.analysis import trajectory\n",
    "import warnings\n",
    "warnings.filterwarnings('ignore', module='iris')\n",
    "from pathlib import Path\n",
    "import dateutil.parser\n",
    "from datetime import datetime, timedelta\n",
    "# Visualization\n",
    "import cartopy.util\n",
    "import cartopy.crs as ccrs\n",
    "import matplotlib.pyplot as plt\n",
    "import matplotlib.colors as colors\n",
    "from matplotlib.dates import DateFormatter\n",
    "from matplotlib.ticker import FuncFormatter\n",
    "# Parameters\n",
    "plt.rcParams['mathtext.default'] = 'regular'\n",
    "M_air = 28.97 # dry air [kg]\n",
    "# Convert mass mixing ratio to volume mixing ratio\n",
    "coeff_c2h6 = (M_air/30.0690)*1e12 # Ethane_WAS\n",
    "coeff_c3h8 = (M_air/44.0956)*1e12 # Propane_WAS\n",
    "coeff_nc4h10 = (M_air/58.1222)*1e12 # n-Butane_WAS\n",
    "coeff_nc5h12 = (M_air/72.1488)*1e12 # n-Pentane_WAS\n",
    "coeff_ic5h12 = (M_air/72.1488)*1e12 # i-Pentane_WAS\n",
    "coeff_meono2 = (M_air/77.0394)*1e12 # MeONO2_WAS\n",
    "coeff_sbuono2 = (M_air/119.1192)*1e12 # 2-BuONO2_WAS or sBuONO2\n",
    "coeff_n2peono2 = (M_air/133.1457)*1e12 # 2-PenONO2_WAS or n2PeONO2 or nPeBONO2\n",
    "coeff_n3peono2 = (M_air/133.1457)*1e12 # 3-PenONO2_WAS or n3PeONO2 or nPeCONO2\n",
    "coeff_ipeono2 = (M_air/133.1457)*1e12 # 3-Methyl-2-BuONO2_WAS or iPeONO2 or iPeBONO2\n",
    "# Plotting\n",
    "savefig = True"
   ]
  },
  {
   "cell_type": "markdown",
   "metadata": {},
   "source": [
    "#### Read data"
   ]
  },
  {
   "cell_type": "code",
   "execution_count": 3,
   "metadata": {},
   "outputs": [],
   "source": [
    "# Read ATom NetCDF files\n",
    "path_obs_atom = Path('../../external_data/ATom/nc/data')\n",
    "# One flight at a time\n",
    "fname_atom_flight = 'MER-WAS_DC8_20160803_R13.nc' # 'MER-WAS_DC8_20160729_R14.nc'\n",
    "atom_dsinf = xr.open_dataset(path_obs_atom / fname_atom_flight, decode_times=True)\n",
    "atom_dsmms = xr.open_dataset(path_obs_atom / fname_atom_flight, group='MMS', decode_cf=True)\n",
    "atom_dswas = xr.open_dataset(path_obs_atom / fname_atom_flight, group='WAS', decode_cf=True)"
   ]
  },
  {
   "cell_type": "code",
   "execution_count": 4,
   "metadata": {
    "nbpresent": {
     "id": "5bf220d9-75c8-489e-81fb-58c0a9a4f83d"
    }
   },
   "outputs": [],
   "source": [
    "# Read UKCA NetCDF files (takes some time)\n",
    "ukca_run_name = 'ax631a'\n",
    "ukca_run_mnth = 'pm201608' # 'pm201607'\n",
    "fname_ukca_run = f'{ukca_run_name}.{ukca_run_mnth}.nc'\n",
    "path_to_ukca_run = Path('../data') / ukca_run_name / 'atom_overlap'\n",
    "cb_c2h6 = iris.load_cube(str(path_to_ukca_run / fname_ukca_run), 'C2H6 MASS MIXING RATIO AFTER TSTEP')\n",
    "cb_c3h8 = iris.load_cube(str(path_to_ukca_run / fname_ukca_run), 'C3H8 MASS MIXING RATIO AFTER TSTEP')\n",
    "cb_nc4h10 = iris.load_cube(str(path_to_ukca_run / fname_ukca_run), 'n-C4H10 MASS MIXING RATIO AFTER TS')\n",
    "cb_ic4h10 = iris.load_cube(str(path_to_ukca_run / fname_ukca_run), 'i-C4H10 MASS MIXING RATIO AFTER TS')\n",
    "cb_nc5h12 = iris.load_cube(str(path_to_ukca_run / fname_ukca_run), 'n-C5H12 MASS MIXING RATIO AFTER TS')\n",
    "cb_ic5h12 = iris.load_cube(str(path_to_ukca_run / fname_ukca_run), 'i-C5H12 MASS MIXING RATIO AFTER TS')\n",
    "cb_meono2 = iris.load_cube(str(path_to_ukca_run / fname_ukca_run), 'MeONO2 MASS MIXING RATIO AFTER TSTEP')\n",
    "cb_sbuono2 = iris.load_cube(str(path_to_ukca_run / fname_ukca_run), 's-BuONO2 MASS MIXING RATIO AFTER TS')\n",
    "cb_n2peono2 = iris.load_cube(str(path_to_ukca_run / fname_ukca_run), 'n-2PeONO2 MASS MIXING RATIO AFTER TS')\n",
    "cb_n3peono2 = iris.load_cube(str(path_to_ukca_run / fname_ukca_run), 'n-3PeONO2 MASS MIXING RATIO AFTER TS')\n",
    "cb_ipeono2 = iris.load_cube(str(path_to_ukca_run / fname_ukca_run), 'i-PeONO2 MASS MIXING RATIO AFTER TS')\n",
    "# Load altitude coordinate\n",
    "alt_coord = iris.load_cube(str(Path('../data')/'ukca_coords_n96e_marcus_180705.nc'),'mass_fraction_of_ozone_in_air').coord('altitude')"
   ]
  },
  {
   "cell_type": "code",
   "execution_count": 5,
   "metadata": {},
   "outputs": [],
   "source": [
    "# Extract time dimension\n",
    "# ICARTT docs: 'Time is to be reported as seconds UTC from the start of the date on which measurements began. \n",
    "#               This date appears in both the file header and filename.'\n",
    "t_yr = int(str(atom_dsinf.Flight_ID.values).split('_')[1][0:4])\n",
    "t_mn = int(str(atom_dsinf.Flight_ID.values).split('_')[1][4:6])\n",
    "t_da = int(str(atom_dsinf.Flight_ID.values).split('_')[1][6:8])\n",
    "times = []\n",
    "times_nc = []\n",
    "for i in atom_dsinf.UTC_Mid_WAS.values:\n",
    "    times.append(datetime(t_yr,t_mn,t_da,hour=0,minute=0,second=0) + timedelta(seconds=i))\n",
    "for i in atom_dsinf.time.values:\n",
    "    times_nc.append(datetime.utcfromtimestamp(i.astype(int) * 1e-9)) # 1e-9 is number of seconds in a nanosecond\n",
    "# Check if time and UTC_Mid_WAS coordinates are the same\n",
    "# times == times_nc\n",
    "# Extract dates for atom flight and ukca output\n",
    "atom_date = times[0]\n",
    "days_since = dateutil.parser.parse(str(cb_c2h6.coord('t').units)[10::])\n",
    "ukca_date = days_since + timedelta(days=cb_c2h6.coord('t').points.tolist()[0])"
   ]
  },
  {
   "cell_type": "code",
   "execution_count": 6,
   "metadata": {},
   "outputs": [],
   "source": [
    "# Path to results\n",
    "atom_ukca_time_match = atom_date.strftime('%Y%m%d')+'_'+ukca_date.strftime('%Y%m')\n",
    "path_to_results = Path('../../../results') / ukca_run_name / atom_ukca_time_match\n",
    "path_to_results.mkdir(exist_ok=True) # create a new folder if it doesn't exist"
   ]
  },
  {
   "cell_type": "markdown",
   "metadata": {},
   "source": [
    "#### Interpolate model data from hybrid height to absolute height "
   ]
  },
  {
   "cell_type": "code",
   "execution_count": 7,
   "metadata": {},
   "outputs": [],
   "source": [
    "# Add altitude coordinate to the cube with model data\n",
    "cb_c2h6.add_aux_coord(alt_coord, data_dims=[1, 2, 3])\n",
    "cb_c3h8.add_aux_coord(alt_coord, data_dims=[1, 2, 3])\n",
    "cb_nc4h10.add_aux_coord(alt_coord, data_dims=[1, 2, 3])\n",
    "cb_ic4h10.add_aux_coord(alt_coord, data_dims=[1, 2, 3])\n",
    "cb_nc5h12.add_aux_coord(alt_coord, data_dims=[1, 2, 3])\n",
    "cb_ic5h12.add_aux_coord(alt_coord, data_dims=[1, 2, 3])\n",
    "cb_meono2.add_aux_coord(alt_coord, data_dims=[1, 2, 3])\n",
    "cb_sbuono2.add_aux_coord(alt_coord, data_dims=[1, 2, 3])\n",
    "cb_n2peono2.add_aux_coord(alt_coord, data_dims=[1, 2, 3])\n",
    "cb_n3peono2.add_aux_coord(alt_coord, data_dims=[1, 2, 3])\n",
    "cb_ipeono2.add_aux_coord(alt_coord, data_dims=[1, 2, 3])"
   ]
  },
  {
   "cell_type": "code",
   "execution_count": 8,
   "metadata": {},
   "outputs": [],
   "source": [
    "# Relevel model data from hybrid_height to target levels using alt_coord\n",
    "tgt_levels = np.arange(0, 14000, 100) # [meters]\n",
    "cbr_c2h6 = stratify.relevel(cb_c2h6, alt_coord, tgt_levels, axis='Hybrid height')\n",
    "cbr_c3h8 = stratify.relevel(cb_c3h8, alt_coord, tgt_levels, axis='Hybrid height')\n",
    "cbr_nc4h10 = stratify.relevel(cb_nc4h10, alt_coord, tgt_levels, axis='Hybrid height')\n",
    "cbr_ic4h10 = stratify.relevel(cb_ic4h10, alt_coord, tgt_levels, axis='Hybrid height')\n",
    "cbr_nc5h12 = stratify.relevel(cb_nc5h12, alt_coord, tgt_levels, axis='Hybrid height')\n",
    "cbr_ic5h12 = stratify.relevel(cb_ic5h12, alt_coord, tgt_levels, axis='Hybrid height')\n",
    "cbr_meono2 = stratify.relevel(cb_meono2, alt_coord, tgt_levels, axis='Hybrid height')\n",
    "cbr_sbuono2 = stratify.relevel(cb_sbuono2, alt_coord, tgt_levels, axis='Hybrid height')\n",
    "cbr_n2peono2 = stratify.relevel(cb_n2peono2, alt_coord, tgt_levels, axis='Hybrid height')\n",
    "cbr_n3peono2 = stratify.relevel(cb_n3peono2, alt_coord, tgt_levels, axis='Hybrid height')\n",
    "cbr_ipeono2 = stratify.relevel(cb_ipeono2, alt_coord, tgt_levels, axis='Hybrid height')"
   ]
  },
  {
   "cell_type": "markdown",
   "metadata": {},
   "source": [
    "#### Interpolate releved model data to flight track"
   ]
  },
  {
   "cell_type": "code",
   "execution_count": 48,
   "metadata": {},
   "outputs": [],
   "source": [
    "# (takes some time)\n",
    "sample_lats = atom_dsmms.G_LAT.interpolate_na(dim='time', method='linear').data # ATom 20160803 flight has one nan lat, lon, alt (ind 45)\n",
    "sample_lons = atom_dsmms.G_LONG.interpolate_na(dim='time', method='linear').data+360\n",
    "sample_alts = atom_dsmms.G_ALT.interpolate_na(dim='time', method='linear').data\n",
    "sample_lats_lons_alts = [('latitude', sample_lats), ('longitude', sample_lons), ('altitude', sample_alts)]\n",
    "traj3d_cbr_c2h6 = trajectory.interpolate(cbr_c2h6, sample_lats_lons_alts)\n",
    "traj3d_cbr_c3h8 = trajectory.interpolate(cbr_c3h8, sample_lats_lons_alts)\n",
    "traj3d_cbr_nc4h10 = trajectory.interpolate(cbr_nc4h10, sample_lats_lons_alts)\n",
    "traj3d_cbr_ic4h10 = trajectory.interpolate(cbr_ic4h10, sample_lats_lons_alts)\n",
    "traj3d_cbr_nc5h12 = trajectory.interpolate(cbr_nc5h12, sample_lats_lons_alts)\n",
    "traj3d_cbr_ic5h12 = trajectory.interpolate(cbr_ic5h12, sample_lats_lons_alts)\n",
    "traj3d_cbr_meono2 = trajectory.interpolate(cbr_meono2, sample_lats_lons_alts)\n",
    "traj3d_cbr_sbuono2 = trajectory.interpolate(cbr_sbuono2, sample_lats_lons_alts)\n",
    "traj3d_cbr_n2peono2 = trajectory.interpolate(cbr_n2peono2, sample_lats_lons_alts)\n",
    "traj3d_cbr_n3peono2 = trajectory.interpolate(cbr_n3peono2, sample_lats_lons_alts)\n",
    "traj3d_cbr_ipeono2 = trajectory.interpolate(cbr_ipeono2, sample_lats_lons_alts)"
   ]
  },
  {
   "cell_type": "code",
   "execution_count": null,
   "metadata": {},
   "outputs": [],
   "source": [
    "# Global species names\n",
    "str_c2h6 = '$C_2H_6$'; str_c3h8 = '$C_3H_8$'; str_nc4h10 = '$nC_4H_{10}$'; str_nc5h12 = '$nC_5H_{12}$'; str_ic5h12 = '$iC_5H_{12}$'\n",
    "str_meono2 = '$MeONO_2$'; str_sbuono2 = '2-$BuONO_2$'; str_n2peono2 = '2-$PenONO_2$'; str_n3peono2 = '3-$PenONO_2$'\n",
    "str_ipeono2 = '3-Methyl-2-$BuONO_2$'"
   ]
  },
  {
   "cell_type": "markdown",
   "metadata": {},
   "source": [
    "#### Time series of concentrations along flight track"
   ]
  },
  {
   "cell_type": "code",
   "execution_count": null,
   "metadata": {},
   "outputs": [],
   "source": [
    "# Convert ATom data to pptvC to match UKCA lumped species, namely C2H6=C2H6+C2H4+C2H2, C3H8=C3H8+C3H6\n",
    "atom_dswas_c2h6 = atom_dswas['Ethane_WAS']*2 + atom_dswas['Ethene_WAS']*2 + atom_dswas['Ethyne_WAS']*2\n",
    "atom_dswas_c3h8 = atom_dswas['Propane_WAS']*3 + atom_dswas['Propene_WAS']*3"
   ]
  },
  {
   "cell_type": "code",
   "execution_count": null,
   "metadata": {},
   "outputs": [],
   "source": [
    "# Plot time series of concentrations along flight track\n",
    "fig, ax = plt.subplots(figsize=(12, 4), facecolor='w');\n",
    "ax.plot(times, atom_dswas_c2h6, color='k');\n",
    "ax.plot(times, traj3d_cbr_c2h6.data.squeeze()*coeff_c2h6*2, color='r');\n",
    "# common\n",
    "ax.set_title(f'{str_c2h6}');\n",
    "ax.set_xlabel('Time, hours (UTC)');\n",
    "ax.set_ylabel('pptvC');\n",
    "ax.set_xticklabels(times);\n",
    "ax.xaxis.set_major_formatter(DateFormatter('%H:%M')) # '%H:%M\\n%d-%m-%y'\n",
    "ax.legend(['ATom '+atom_date.strftime('%d %B %Y'), f'UKCA {ukca_run_name} '+ukca_date.strftime('%B %Y')+' (mean)']);\n",
    "if savefig:\n",
    "    fig.savefig(path_to_results / f'{ukca_run_name}_{ukca_date.strftime(\"%y%m\")}_ts_RH_C2.png', bbox_inches='tight')"
   ]
  },
  {
   "cell_type": "code",
   "execution_count": null,
   "metadata": {},
   "outputs": [],
   "source": [
    "# Plot time series of concentrations along flight track\n",
    "fig, ax = plt.subplots(figsize=(12, 4), facecolor='w');\n",
    "ax.plot(times, atom_dswas_c3h8, color='k')\n",
    "ax.plot(times, traj3d_cbr_c3h8.data.squeeze()*coeff_c3h8*3, color='r');\n",
    "# common\n",
    "ax.set_title(f'{str_c3h8}');\n",
    "ax.set_xlabel('Time, hours (UTC)');\n",
    "ax.set_ylabel('pptvC');\n",
    "ax.set_xticklabels(times);\n",
    "ax.xaxis.set_major_formatter(DateFormatter('%H:%M')) # '%H:%M\\n%d-%m-%y'\n",
    "ax.legend(['ATom '+atom_date.strftime('%d %B %Y'), f'UKCA {ukca_run_name} '+ukca_date.strftime('%B %Y')+' (mean)']);\n",
    "if savefig:\n",
    "    fig.savefig(path_to_results / f'{ukca_run_name}_{ukca_date.strftime(\"%y%m\")}_ts_RH_C3.png', bbox_inches='tight')"
   ]
  },
  {
   "cell_type": "code",
   "execution_count": null,
   "metadata": {},
   "outputs": [],
   "source": [
    "# Plot time series of concentrations along flight track\n",
    "fig, ax = plt.subplots(figsize=(12, 4), facecolor='w');\n",
    "ax.plot(times, atom_dswas['n-Butane_WAS'], color='k')\n",
    "ax.plot(times, traj3d_cbr_nc4h10.data.squeeze()*coeff_nc4h10, color='r');\n",
    "# common\n",
    "ax.set_title(f'{str_nc4h10}');\n",
    "ax.set_xlabel('Time, hours (UTC)');\n",
    "ax.set_ylabel('pptv');\n",
    "ax.set_xticklabels(times);\n",
    "ax.xaxis.set_major_formatter(DateFormatter('%H:%M')) # '%H:%M\\n%d-%m-%y'\n",
    "ax.legend(['ATom '+atom_date.strftime('%d %B %Y'), f'UKCA {ukca_run_name} '+ukca_date.strftime('%B %Y')+' (mean)']);\n",
    "if savefig:\n",
    "    fig.savefig(path_to_results / f'{ukca_run_name}_{ukca_date.strftime(\"%y%m\")}_ts_RH_C4n.png', bbox_inches='tight')"
   ]
  },
  {
   "cell_type": "code",
   "execution_count": null,
   "metadata": {},
   "outputs": [],
   "source": [
    "# Plot time series of concentrations along flight track\n",
    "fig, ax = plt.subplots(figsize=(12, 4), facecolor='w');\n",
    "ax.plot(times, atom_dswas['n-Pentane_WAS'], color='k')\n",
    "ax.plot(times, traj3d_cbr_nc5h12.data.squeeze()*coeff_nc5h12, color='r');\n",
    "# common\n",
    "ax.set_title(f'{str_nc5h12}');\n",
    "ax.set_xlabel('Time, hours (UTC)');\n",
    "ax.set_ylabel('pptv');\n",
    "ax.set_xticklabels(times);\n",
    "ax.xaxis.set_major_formatter(DateFormatter('%H:%M')) # '%H:%M\\n%d-%m-%y'\n",
    "ax.legend(['ATom '+atom_date.strftime('%d %B %Y'), f'UKCA {ukca_run_name} '+ukca_date.strftime('%B %Y')+' (mean)']);\n",
    "if savefig:\n",
    "    fig.savefig(path_to_results / f'{ukca_run_name}_{ukca_date.strftime(\"%y%m\")}_ts_RH_C5n.png', bbox_inches='tight')"
   ]
  },
  {
   "cell_type": "code",
   "execution_count": null,
   "metadata": {},
   "outputs": [],
   "source": [
    "# Plot time series of concentrations along flight track\n",
    "fig, ax = plt.subplots(figsize=(12, 4), facecolor='w');\n",
    "ax.plot(times, atom_dswas['i-Pentane_WAS'], color='k')\n",
    "ax.plot(times, traj3d_cbr_ic5h12.data.squeeze()*coeff_ic5h12, color='r');\n",
    "# common\n",
    "ax.set_title(f'{str_ic5h12}');\n",
    "ax.set_xlabel('Time, hours (UTC)');\n",
    "ax.set_ylabel('pptv');\n",
    "ax.set_xticklabels(times);\n",
    "ax.xaxis.set_major_formatter(DateFormatter('%H:%M')) # '%H:%M\\n%d-%m-%y'\n",
    "ax.legend(['ATom '+atom_date.strftime('%d %B %Y'), f'UKCA {ukca_run_name} '+ukca_date.strftime('%B %Y')+' (mean)']);\n",
    "if savefig:\n",
    "    fig.savefig(path_to_results / f'{ukca_run_name}_{ukca_date.strftime(\"%y%m\")}_ts_RH_C5i.png', bbox_inches='tight')"
   ]
  },
  {
   "cell_type": "code",
   "execution_count": null,
   "metadata": {},
   "outputs": [],
   "source": [
    "# Plot time series of concentrations along flight track\n",
    "fig, ax = plt.subplots(figsize=(12, 4), facecolor='w');\n",
    "ax.plot(times, atom_dswas['MeONO2_WAS'], color='k')\n",
    "ax.plot(times, traj3d_cbr_meono2.data.squeeze()*coeff_meono2, color='r');\n",
    "# common\n",
    "ax.set_title(f'{str_meono2}');\n",
    "ax.set_xlabel('Time, hours (UTC)');\n",
    "ax.set_ylabel('pptv');\n",
    "ax.set_xticklabels(times);\n",
    "ax.xaxis.set_major_formatter(DateFormatter('%H:%M')) # '%H:%M\\n%d-%m-%y'\n",
    "ax.legend(['ATom '+atom_date.strftime('%d %B %Y'), f'UKCA {ukca_run_name} '+ukca_date.strftime('%B %Y')+' (mean)']);\n",
    "if savefig:\n",
    "    fig.savefig(path_to_results / f'{ukca_run_name}_{ukca_date.strftime(\"%y%m\")}_ts_RONO2_C1.png', bbox_inches='tight')"
   ]
  },
  {
   "cell_type": "code",
   "execution_count": null,
   "metadata": {},
   "outputs": [],
   "source": [
    "# Plot time series of concentrations along flight track\n",
    "fig, ax = plt.subplots(figsize=(12, 4), facecolor='w');\n",
    "ax.plot(times, atom_dswas['2-BuONO2_WAS'], color='k')\n",
    "ax.plot(times, traj3d_cbr_sbuono2.data.squeeze()*coeff_sbuono2, color='r');\n",
    "# common\n",
    "ax.set_title(f'{str_sbuono2}');\n",
    "ax.set_xlabel('Time, hours (UTC)');\n",
    "ax.set_ylabel('pptv');\n",
    "ax.set_xticklabels(times);\n",
    "ax.xaxis.set_major_formatter(DateFormatter('%H:%M')) # '%H:%M\\n%d-%m-%y'\n",
    "ax.legend(['ATom '+atom_date.strftime('%d %B %Y'), f'UKCA {ukca_run_name} '+ukca_date.strftime('%B %Y')+' (mean)']);\n",
    "if savefig:\n",
    "    fig.savefig(path_to_results / f'{ukca_run_name}_{ukca_date.strftime(\"%y%m\")}_ts_RONO2_C4s.png', bbox_inches='tight')"
   ]
  },
  {
   "cell_type": "code",
   "execution_count": null,
   "metadata": {},
   "outputs": [],
   "source": [
    "# Plot time series of concentrations along flight track\n",
    "fig, ax = plt.subplots(figsize=(12, 4), facecolor='w');\n",
    "ax.plot(times, atom_dswas['2-PenONO2_WAS'], color='k')\n",
    "ax.plot(times, traj3d_cbr_n2peono2.data.squeeze()*coeff_n2peono2, color='r');\n",
    "# common\n",
    "ax.set_title(f'{str_n2peono2}');\n",
    "ax.set_xlabel('Time, hours (UTC)');\n",
    "ax.set_ylabel('pptv');\n",
    "ax.set_xticklabels(times);\n",
    "ax.xaxis.set_major_formatter(DateFormatter('%H:%M')) # '%H:%M\\n%d-%m-%y'\n",
    "ax.legend(['ATom '+atom_date.strftime('%d %B %Y'), f'UKCA {ukca_run_name} '+ukca_date.strftime('%B %Y')+' (mean)']);\n",
    "if savefig:\n",
    "    fig.savefig(path_to_results / f'{ukca_run_name}_{ukca_date.strftime(\"%y%m\")}_ts_RONO2_C5nB.png', bbox_inches='tight')"
   ]
  },
  {
   "cell_type": "code",
   "execution_count": null,
   "metadata": {},
   "outputs": [],
   "source": [
    "# Plot time series of concentrations along flight track\n",
    "fig, ax = plt.subplots(figsize=(12, 4), facecolor='w');\n",
    "ax.plot(times, atom_dswas['3-PenONO2_WAS'], color='k')\n",
    "ax.plot(times, traj3d_cbr_n3peono2.data.squeeze()*coeff_n3peono2, color='r');\n",
    "# common\n",
    "ax.set_title(f'{str_n3peono2}');\n",
    "ax.set_xlabel('Time, hours (UTC)');\n",
    "ax.set_ylabel('pptv');\n",
    "ax.set_xticklabels(times);\n",
    "ax.xaxis.set_major_formatter(DateFormatter('%H:%M')) # '%H:%M\\n%d-%m-%y'\n",
    "ax.legend(['ATom '+atom_date.strftime('%d %B %Y'), f'UKCA {ukca_run_name} '+ukca_date.strftime('%B %Y')+' (mean)']);\n",
    "if savefig:\n",
    "    fig.savefig(path_to_results / f'{ukca_run_name}_{ukca_date.strftime(\"%y%m\")}_ts_RONO2_C5nC.png', bbox_inches='tight')"
   ]
  },
  {
   "cell_type": "code",
   "execution_count": null,
   "metadata": {},
   "outputs": [],
   "source": [
    "# Plot time series of concentrations along flight track\n",
    "fig, ax = plt.subplots(figsize=(12, 4), facecolor='w');\n",
    "ax.plot(times, atom_dswas['3-Methyl-2-BuONO2_WAS'], color='k')\n",
    "ax.plot(times, traj3d_cbr_ipeono2.data.squeeze()*coeff_ipeono2, color='r');\n",
    "# common\n",
    "ax.set_title(f'{str_ipeono2}');\n",
    "ax.set_xlabel('Time, hours (UTC)');\n",
    "ax.set_ylabel('pptv');\n",
    "ax.set_xticklabels(times);\n",
    "ax.xaxis.set_major_formatter(DateFormatter('%H:%M')) # '%H:%M\\n%d-%m-%y'\n",
    "ax.legend(['ATom '+atom_date.strftime('%d %B %Y'), f'UKCA {ukca_run_name} '+ukca_date.strftime('%B %Y')+' (mean)']);\n",
    "if savefig:\n",
    "    fig.savefig(path_to_results / f'{ukca_run_name}_{ukca_date.strftime(\"%y%m\")}_ts_RONO2_C5i.png', bbox_inches='tight')"
   ]
  },
  {
   "cell_type": "markdown",
   "metadata": {},
   "source": [
    "#### ATom/UKCA along flight track"
   ]
  },
  {
   "cell_type": "code",
   "execution_count": null,
   "metadata": {},
   "outputs": [],
   "source": [
    "# Plot time series of concentrations along flight track\n",
    "fig, ax = plt.subplots(figsize=(12, 4), facecolor='w');\n",
    "ax.plot(times, atom_dswas_c2h6/(traj3d_cbr_c2h6.data.squeeze()*coeff_c2h6*2), color='k');\n",
    "# common\n",
    "ax.set_title(f'{str_c2h6}');\n",
    "ax.set_xlabel('Time, hours (UTC)');\n",
    "ax.set_ylabel('pptvC/pptvC');\n",
    "ax.set_xticklabels(times);\n",
    "ax.xaxis.set_major_formatter(DateFormatter('%H:%M')) # '%H:%M\\n%d-%m-%y'\n",
    "ax.legend([f'ATom {atom_date.strftime(\"%B %Y\")} / UKCA {ukca_run_name} {ukca_date.strftime(\"%B %Y\")} (mean)']);\n",
    "if savefig:\n",
    "    fig.savefig(path_to_results / f'{ukca_run_name}_{ukca_date.strftime(\"%y%m\")}_tsr_RH_C2.png', bbox_inches='tight')"
   ]
  },
  {
   "cell_type": "code",
   "execution_count": null,
   "metadata": {},
   "outputs": [],
   "source": [
    "# Plot time series of concentrations along flight track\n",
    "fig, ax = plt.subplots(figsize=(12, 4), facecolor='w');\n",
    "ax.plot(times, atom_dswas_c3h8/(traj3d_cbr_c3h8.data.squeeze()*coeff_c3h8*2), color='k');\n",
    "# common\n",
    "ax.set_title(f'{str_c3h8}');\n",
    "ax.set_xlabel('Time, hours (UTC)');\n",
    "ax.set_ylabel('pptvC/pptvC');\n",
    "ax.set_xticklabels(times);\n",
    "ax.xaxis.set_major_formatter(DateFormatter('%H:%M')) # '%H:%M\\n%d-%m-%y'\n",
    "ax.legend([f'ATom {atom_date.strftime(\"%B %Y\")} / UKCA {ukca_run_name} {ukca_date.strftime(\"%B %Y\")} (mean)']);\n",
    "if savefig:\n",
    "    fig.savefig(path_to_results / f'{ukca_run_name}_{ukca_date.strftime(\"%y%m\")}_tsr_RH_C3.png', bbox_inches='tight')"
   ]
  },
  {
   "cell_type": "code",
   "execution_count": null,
   "metadata": {},
   "outputs": [],
   "source": [
    "# Plot time series of concentrations along flight track\n",
    "fig, ax = plt.subplots(figsize=(12, 4), facecolor='w');\n",
    "ax.plot(times, atom_dswas['n-Butane_WAS']/(traj3d_cbr_nc4h10.data.squeeze()*coeff_nc4h10*2), color='k');\n",
    "# common\n",
    "ax.set_title(f'{str_nc4h10}');\n",
    "ax.set_xlabel('Time, hours (UTC)');\n",
    "ax.set_ylabel('pptvC/pptvC');\n",
    "ax.set_xticklabels(times);\n",
    "ax.xaxis.set_major_formatter(DateFormatter('%H:%M')) # '%H:%M\\n%d-%m-%y'\n",
    "ax.legend([f'ATom {atom_date.strftime(\"%B %Y\")} / UKCA {ukca_run_name} {ukca_date.strftime(\"%B %Y\")} (mean)']);\n",
    "if savefig:\n",
    "    fig.savefig(path_to_results / f'{ukca_run_name}_{ukca_date.strftime(\"%y%m\")}_tsr_RH_C4n.png', bbox_inches='tight')"
   ]
  },
  {
   "cell_type": "code",
   "execution_count": null,
   "metadata": {},
   "outputs": [],
   "source": [
    "# Plot time series of concentrations along flight track\n",
    "fig, ax = plt.subplots(figsize=(12, 4), facecolor='w');\n",
    "ax.plot(times, atom_dswas['n-Pentane_WAS']/(traj3d_cbr_nc5h12.data.squeeze()*coeff_nc5h12*2), color='k');\n",
    "# common\n",
    "ax.set_title(f'{str_nc5h12}');\n",
    "ax.set_xlabel('Time, hours (UTC)');\n",
    "ax.set_ylabel('pptvC/pptvC');\n",
    "ax.set_xticklabels(times);\n",
    "ax.xaxis.set_major_formatter(DateFormatter('%H:%M')) # '%H:%M\\n%d-%m-%y'\n",
    "ax.legend([f'ATom {atom_date.strftime(\"%B %Y\")} / UKCA {ukca_run_name} {ukca_date.strftime(\"%B %Y\")} (mean)']);\n",
    "if savefig:\n",
    "    fig.savefig(path_to_results / f'{ukca_run_name}_{ukca_date.strftime(\"%y%m\")}_tsr_RH_C5n.png', bbox_inches='tight')"
   ]
  },
  {
   "cell_type": "code",
   "execution_count": null,
   "metadata": {},
   "outputs": [],
   "source": [
    "# Plot time series of concentrations along flight track\n",
    "fig, ax = plt.subplots(figsize=(12, 4), facecolor='w');\n",
    "ax.plot(times, atom_dswas['i-Pentane_WAS']/(traj3d_cbr_ic5h12.data.squeeze()*coeff_ic5h12*2), color='k');\n",
    "# common\n",
    "ax.set_title(f'{str_ic5h12}');\n",
    "ax.set_xlabel('Time, hours (UTC)');\n",
    "ax.set_ylabel('pptvC/pptvC');\n",
    "ax.set_xticklabels(times);\n",
    "ax.xaxis.set_major_formatter(DateFormatter('%H:%M')) # '%H:%M\\n%d-%m-%y'\n",
    "ax.legend([f'ATom {atom_date.strftime(\"%B %Y\")} / UKCA {ukca_run_name} {ukca_date.strftime(\"%B %Y\")} (mean)']);\n",
    "if savefig:\n",
    "    fig.savefig(path_to_results / f'{ukca_run_name}_{ukca_date.strftime(\"%y%m\")}_tsr_RH_C5i.png', bbox_inches='tight')"
   ]
  },
  {
   "cell_type": "code",
   "execution_count": null,
   "metadata": {},
   "outputs": [],
   "source": [
    "# Plot time series of concentrations along flight track\n",
    "fig, ax = plt.subplots(figsize=(12, 4), facecolor='w');\n",
    "ax.plot(times, atom_dswas['MeONO2_WAS']/(traj3d_cbr_meono2.data.squeeze()*coeff_meono2*2), color='k');\n",
    "# common\n",
    "ax.set_title(f'{str_meono2}');\n",
    "ax.set_xlabel('Time, hours (UTC)');\n",
    "ax.set_ylabel('pptvC/pptvC');\n",
    "ax.set_xticklabels(times);\n",
    "ax.xaxis.set_major_formatter(DateFormatter('%H:%M')) # '%H:%M\\n%d-%m-%y'\n",
    "ax.legend([f'ATom {atom_date.strftime(\"%B %Y\")} / UKCA {ukca_run_name} {ukca_date.strftime(\"%B %Y\")} (mean)']);\n",
    "if savefig:\n",
    "    fig.savefig(path_to_results / f'{ukca_run_name}_{ukca_date.strftime(\"%y%m\")}_tsr_RONO2_C1.png', bbox_inches='tight')"
   ]
  },
  {
   "cell_type": "code",
   "execution_count": null,
   "metadata": {},
   "outputs": [],
   "source": [
    "# Plot time series of concentrations along flight track\n",
    "fig, ax = plt.subplots(figsize=(12, 4), facecolor='w');\n",
    "ax.plot(times, atom_dswas['2-BuONO2_WAS']/(traj3d_cbr_sbuono2.data.squeeze()*coeff_sbuono2*2), color='k');\n",
    "# common\n",
    "ax.set_title(f'{str_sbuono2}');\n",
    "ax.set_xlabel('Time, hours (UTC)');\n",
    "ax.set_ylabel('pptvC/pptvC');\n",
    "ax.set_xticklabels(times);\n",
    "ax.xaxis.set_major_formatter(DateFormatter('%H:%M')) # '%H:%M\\n%d-%m-%y'\n",
    "ax.legend([f'ATom {atom_date.strftime(\"%B %Y\")} / UKCA {ukca_run_name} {ukca_date.strftime(\"%B %Y\")} (mean)']);\n",
    "if savefig:\n",
    "    fig.savefig(path_to_results / f'{ukca_run_name}_{ukca_date.strftime(\"%y%m\")}_tsr_RONO2_C4s.png', bbox_inches='tight')"
   ]
  },
  {
   "cell_type": "code",
   "execution_count": null,
   "metadata": {},
   "outputs": [],
   "source": [
    "# Plot time series of concentrations along flight track\n",
    "fig, ax = plt.subplots(figsize=(12, 4), facecolor='w');\n",
    "ax.plot(times, atom_dswas['2-PenONO2_WAS']/(traj3d_cbr_n2peono2.data.squeeze()*coeff_n2peono2*2), color='k');\n",
    "# common\n",
    "ax.set_title(f'{str_n2peono2}');\n",
    "ax.set_xlabel('Time, hours (UTC)');\n",
    "ax.set_ylabel('pptvC/pptvC');\n",
    "ax.set_xticklabels(times);\n",
    "ax.xaxis.set_major_formatter(DateFormatter('%H:%M')) # '%H:%M\\n%d-%m-%y'\n",
    "ax.legend([f'ATom {atom_date.strftime(\"%B %Y\")} / UKCA {ukca_run_name} {ukca_date.strftime(\"%B %Y\")} (mean)']);\n",
    "if savefig:\n",
    "    fig.savefig(path_to_results / f'{ukca_run_name}_{ukca_date.strftime(\"%y%m\")}_tsr_RONO2_C5nB.png', bbox_inches='tight')"
   ]
  },
  {
   "cell_type": "code",
   "execution_count": null,
   "metadata": {},
   "outputs": [],
   "source": [
    "# Plot time series of concentrations along flight track\n",
    "fig, ax = plt.subplots(figsize=(12, 4), facecolor='w');\n",
    "ax.plot(times, atom_dswas['3-PenONO2_WAS']/(traj3d_cbr_n3peono2.data.squeeze()*coeff_n3peono2*2), color='k');\n",
    "# common\n",
    "ax.set_title(f'{str_n3peono2}');\n",
    "ax.set_xlabel('Time, hours (UTC)');\n",
    "ax.set_ylabel('pptvC/pptvC');\n",
    "ax.set_xticklabels(times);\n",
    "ax.xaxis.set_major_formatter(DateFormatter('%H:%M')) # '%H:%M\\n%d-%m-%y'\n",
    "ax.legend([f'ATom {atom_date.strftime(\"%B %Y\")} / UKCA {ukca_run_name} {ukca_date.strftime(\"%B %Y\")} (mean)']);\n",
    "if savefig:\n",
    "    fig.savefig(path_to_results / f'{ukca_run_name}_{ukca_date.strftime(\"%y%m\")}_tsr_RONO2_C5nC.png', bbox_inches='tight')"
   ]
  },
  {
   "cell_type": "code",
   "execution_count": null,
   "metadata": {},
   "outputs": [],
   "source": [
    "# Plot time series of concentrations along flight track\n",
    "fig, ax = plt.subplots(figsize=(12, 4), facecolor='w');\n",
    "ax.plot(times, atom_dswas['3-Methyl-2-BuONO2_WAS']/(traj3d_cbr_ipeono2.data.squeeze()*coeff_ipeono2*2), color='k');\n",
    "# common\n",
    "ax.set_title(f'{str_ipeono2}');\n",
    "ax.set_xlabel('Time, hours (UTC)');\n",
    "ax.set_ylabel('pptvC/pptvC');\n",
    "ax.set_xticklabels(times);\n",
    "ax.xaxis.set_major_formatter(DateFormatter('%H:%M')) # '%H:%M\\n%d-%m-%y'\n",
    "ax.legend([f'ATom {atom_date.strftime(\"%B %Y\")} / UKCA {ukca_run_name} {ukca_date.strftime(\"%B %Y\")} (mean)']);\n",
    "if savefig:\n",
    "    fig.savefig(path_to_results / f'{ukca_run_name}_{ukca_date.strftime(\"%y%m\")}_tsr_RONO2_C5i.png', bbox_inches='tight')"
   ]
  },
  {
   "cell_type": "markdown",
   "metadata": {},
   "source": [
    "#### RONO2/RH along flight track"
   ]
  },
  {
   "cell_type": "code",
   "execution_count": null,
   "metadata": {},
   "outputs": [],
   "source": [
    "# Plot time series of concentrations along flight track\n",
    "fig, ax = plt.subplots(figsize=(12, 4), facecolor='w');\n",
    "ax.plot(times, atom_dswas['2-BuONO2_WAS']/atom_dswas['n-Butane_WAS'], color='k')\n",
    "ax.plot(times, (traj3d_cbr_sbuono2.data.squeeze()*coeff_sbuono2)/(traj3d_cbr_nc4h10.data.squeeze()*coeff_nc4h10), color='r');\n",
    "# common\n",
    "ax.set_title(f'{str_sbuono2}/{str_nc4h10}');\n",
    "ax.set_xlabel('Time, hours (UTC)');\n",
    "ax.set_ylabel('pptv');\n",
    "ax.set_xticklabels(times);\n",
    "ax.xaxis.set_major_formatter(DateFormatter('%H:%M')) # '%H:%M\\n%d-%m-%y'\n",
    "ax.legend(['ATom '+atom_date.strftime('%d %B %Y'), f'UKCA {ukca_run_name} '+ukca_date.strftime('%B %Y')+' (mean)']);\n",
    "if savefig:\n",
    "    fig.savefig(path_to_results / f'{ukca_run_name}_{ukca_date.strftime(\"%y%m\")}_ts_RONO2_RH_C4s.png', bbox_inches='tight')"
   ]
  },
  {
   "cell_type": "code",
   "execution_count": null,
   "metadata": {},
   "outputs": [],
   "source": [
    "# Plot time series of concentrations along flight track\n",
    "fig, ax = plt.subplots(figsize=(12, 4), facecolor='w');\n",
    "ax.plot(times, atom_dswas['2-PenONO2_WAS']/atom_dswas['n-Pentane_WAS'], color='k')\n",
    "ax.plot(times, (traj3d_cbr_n2peono2.data.squeeze()*coeff_n2peono2)/(traj3d_cbr_nc5h12.data.squeeze()*coeff_nc5h12), color='r');\n",
    "# common\n",
    "ax.set_title(f'{str_n2peono2}/{str_nc5h12}');\n",
    "ax.set_xlabel('Time, hours (UTC)');\n",
    "ax.set_ylabel('pptv');\n",
    "ax.set_xticklabels(times);\n",
    "ax.xaxis.set_major_formatter(DateFormatter('%H:%M')) # '%H:%M\\n%d-%m-%y'\n",
    "ax.legend(['ATom '+atom_date.strftime('%d %B %Y'), f'UKCA {ukca_run_name} '+ukca_date.strftime('%B %Y')+' (mean)']);\n",
    "if savefig:\n",
    "    fig.savefig(path_to_results / f'{ukca_run_name}_{ukca_date.strftime(\"%y%m\")}_ts_RONO2_RH_C5nB.png', bbox_inches='tight')"
   ]
  },
  {
   "cell_type": "code",
   "execution_count": null,
   "metadata": {},
   "outputs": [],
   "source": [
    "# Plot time series of concentrations along flight track\n",
    "fig, ax = plt.subplots(figsize=(12, 4), facecolor='w');\n",
    "ax.plot(times, atom_dswas['3-PenONO2_WAS']/atom_dswas['n-Pentane_WAS'], color='k')\n",
    "ax.plot(times, (traj3d_cbr_n3peono2.data.squeeze()*coeff_n3peono2)/(traj3d_cbr_nc5h12.data.squeeze()*coeff_nc5h12), color='r');\n",
    "# common\n",
    "ax.set_title(f'{str_n3peono2}/{str_nc5h12}');\n",
    "ax.set_xlabel('Time, hours (UTC)');\n",
    "ax.set_ylabel('pptv');\n",
    "ax.set_xticklabels(times);\n",
    "ax.xaxis.set_major_formatter(DateFormatter('%H:%M')) # '%H:%M\\n%d-%m-%y'\n",
    "ax.legend(['ATom '+atom_date.strftime('%d %B %Y'), f'UKCA {ukca_run_name} '+ukca_date.strftime('%B %Y')+' (mean)']);\n",
    "if savefig:\n",
    "    fig.savefig(path_to_results / f'{ukca_run_name}_{ukca_date.strftime(\"%y%m\")}_ts_RONO2_RH_C5nC.png', bbox_inches='tight')"
   ]
  },
  {
   "cell_type": "code",
   "execution_count": null,
   "metadata": {},
   "outputs": [],
   "source": [
    "# Plot time series of concentrations along flight track\n",
    "fig, ax = plt.subplots(figsize=(12, 4), facecolor='w');\n",
    "ax.plot(times, atom_dswas['3-Methyl-2-BuONO2_WAS']/atom_dswas['i-Pentane_WAS'], color='k')\n",
    "ax.plot(times, (traj3d_cbr_ipeono2.data.squeeze()*coeff_ipeono2)/(traj3d_cbr_ic5h12.data.squeeze()*coeff_ic5h12), color='r');\n",
    "# common\n",
    "ax.set_title(f'{str_ipeono2}/{str_ic5h12}');\n",
    "ax.set_xlabel('Time, hours (UTC)');\n",
    "ax.set_ylabel('pptv');\n",
    "ax.set_xticklabels(times);\n",
    "ax.xaxis.set_major_formatter(DateFormatter('%H:%M')) # '%H:%M\\n%d-%m-%y'\n",
    "ax.legend(['ATom '+atom_date.strftime('%d %B %Y'), f'UKCA {ukca_run_name} '+ukca_date.strftime('%B %Y')+' (mean)']);\n",
    "if savefig:\n",
    "    fig.savefig(path_to_results / f'{ukca_run_name}_{ukca_date.strftime(\"%y%m\")}_ts_RONO2_RH_C5i.png', bbox_inches='tight')"
   ]
  },
  {
   "cell_type": "markdown",
   "metadata": {},
   "source": [
    "#### Cross section along flight track"
   ]
  },
  {
   "cell_type": "code",
   "execution_count": null,
   "metadata": {},
   "outputs": [],
   "source": [
    "# Extract a cross section from model data along flight track (takes some time)\n",
    "sample_lats_lons = [('latitude', sample_lats), ('longitude', sample_lons)]\n",
    "traj2d_cbr_c2h6 = trajectory.interpolate(cbr_c2h6, sample_lats_lons)\n",
    "traj2d_cbr_c3h8 = trajectory.interpolate(cbr_c3h8, sample_lats_lons)\n",
    "traj2d_cbr_nc4h10 = trajectory.interpolate(cbr_nc4h10, sample_lats_lons)\n",
    "traj2d_cbr_nc5h12 = trajectory.interpolate(cbr_nc5h12, sample_lats_lons)\n",
    "traj2d_cbr_ic5h12 = trajectory.interpolate(cbr_ic5h12, sample_lats_lons)\n",
    "traj2d_cbr_meono2 = trajectory.interpolate(cbr_meono2, sample_lats_lons)\n",
    "traj2d_cbr_sbuono2 = trajectory.interpolate(cbr_sbuono2, sample_lats_lons)\n",
    "traj2d_cbr_n2peono2 = trajectory.interpolate(cbr_n2peono2, sample_lats_lons)\n",
    "traj2d_cbr_n3peono2 = trajectory.interpolate(cbr_n3peono2, sample_lats_lons)\n",
    "traj2d_cbr_ipeono2 = trajectory.interpolate(cbr_ipeono2, sample_lats_lons)"
   ]
  },
  {
   "cell_type": "code",
   "execution_count": null,
   "metadata": {},
   "outputs": [],
   "source": [
    "# Convert xarray dataset with observational data to pandas dataframe\n",
    "atom_pdwas_c2h6 = atom_dswas_c2h6.to_dataframe(name='Lumped_C2H6_C2H4_C2H2')\n",
    "atom_pdwas_c3h8 = atom_dswas_c3h8.to_dataframe(name='Lumped_C3H8_C3H6')\n",
    "atom_pdwas_nc4h10 = atom_dswas['n-Butane_WAS'].to_dataframe()\n",
    "atom_pdwas_nc5h12 = atom_dswas['n-Pentane_WAS'].to_dataframe()\n",
    "atom_pdwas_ic5h12 = atom_dswas['i-Pentane_WAS'].to_dataframe()\n",
    "atom_pdwas_meono2 = atom_dswas['MeONO2_WAS'].to_dataframe()\n",
    "atom_pdwas_sbuono2 = atom_dswas['2-BuONO2_WAS'].to_dataframe()\n",
    "atom_pdwas_n2peono2 = atom_dswas['2-PenONO2_WAS'].to_dataframe()\n",
    "atom_pdwas_n3peono2 = atom_dswas['3-PenONO2_WAS'].to_dataframe()\n",
    "atom_pdwas_ipeono2 = atom_dswas['3-Methyl-2-BuONO2_WAS'].to_dataframe()"
   ]
  },
  {
   "cell_type": "code",
   "execution_count": null,
   "metadata": {},
   "outputs": [],
   "source": [
    "cs_c2h6_max = int(max(np.nanmax(atom_pdwas_c2h6.values), np.nanmax(traj2d_cbr_c2h6.data)*coeff_c2h6*2))\n",
    "cs_c3h8_max = int(max(np.nanmax(atom_pdwas_c3h8.values), np.nanmax(traj2d_cbr_c3h8.data)*coeff_c3h8*3))\n",
    "cs_nc4h10_max = int(max(np.nanmax(atom_pdwas_nc4h10.values), np.nanmax(traj2d_cbr_nc4h10.data)*coeff_nc4h10))\n",
    "cs_nc5h12_max = int(max(np.nanmax(atom_pdwas_nc5h12.values), np.nanmax(traj2d_cbr_nc5h12.data)*coeff_nc5h12))\n",
    "cs_ic5h12_max = int(max(np.nanmax(atom_pdwas_ic5h12.values), np.nanmax(traj2d_cbr_ic5h12.data)*coeff_ic5h12))\n",
    "cs_meono2_max = int(max(np.nanmax(atom_pdwas_meono2.values), np.nanmax(traj2d_cbr_meono2.data)*coeff_meono2))\n",
    "cs_sbuono2_max = int(max(np.nanmax(atom_pdwas_sbuono2.values), np.nanmax(traj2d_cbr_sbuono2.data)*coeff_sbuono2))\n",
    "cs_n2peono2_max = int(max(np.nanmax(atom_pdwas_n2peono2.values), np.nanmax(traj2d_cbr_n2peono2.data)*coeff_n2peono2))\n",
    "cs_n3peono2_max = int(max(np.nanmax(atom_pdwas_n3peono2.values), np.nanmax(traj2d_cbr_n3peono2.data)*coeff_n3peono2))\n",
    "cs_ipeono2_max = int(max(np.nanmax(atom_pdwas_ipeono2.values), np.nanmax(traj2d_cbr_ipeono2.data)*coeff_ipeono2))"
   ]
  },
  {
   "cell_type": "code",
   "execution_count": null,
   "metadata": {},
   "outputs": [],
   "source": [
    "# Print max concentrations\n",
    "print(atom_ukca_time_match)\n",
    "print(f'C2H6: {np.nanmax(atom_pdwas_c2h6.values):1.1f}, {np.nanmax(traj2d_cbr_c2h6.data)*coeff_c2h6*2:1.1f}')\n",
    "print(f'C3H8: {np.nanmax(atom_pdwas_c3h8.values):1.1f}, {np.nanmax(traj2d_cbr_c3h8.data)*coeff_c3h8*3:1.1f}')\n",
    "print(f'nC4H10: {np.nanmax(atom_pdwas_nc4h10.values):1.1f}, {np.nanmax(traj2d_cbr_nc4h10.data)*coeff_nc4h10:1.1f}')\n",
    "print(f'nC5H12: {np.nanmax(atom_pdwas_nc5h12.values):1.1f}, {np.nanmax(traj2d_cbr_nc5h12.data)*coeff_nc5h12:1.1f}')\n",
    "print(f'iC5H12: {np.nanmax(atom_pdwas_ic5h12.values):1.1f}, {np.nanmax(traj2d_cbr_ic5h12.data)*coeff_ic5h12:1.1f}')\n",
    "print(f'MeONO2: {np.nanmax(atom_pdwas_meono2.values):1.1f}, {np.nanmax(traj2d_cbr_meono2.data)*coeff_meono2:1.1f}')\n",
    "print(f'2-BuONO2: {np.nanmax(atom_pdwas_sbuono2.values):1.1f}, {np.nanmax(traj2d_cbr_sbuono2.data)*coeff_sbuono2:1.1f}')\n",
    "print(f'2-PenONO2: {np.nanmax(atom_pdwas_n2peono2.values):1.1f}, {np.nanmax(traj2d_cbr_n2peono2.data)*coeff_n2peono2:1.1f}')\n",
    "print(f'3-PenONO2: {np.nanmax(atom_pdwas_n3peono2.values):1.1f}, {np.nanmax(traj2d_cbr_n3peono2.data)*coeff_n3peono2:1.1f}')\n",
    "print(f'3-Methyl-2-BuONO2: {np.nanmax(atom_pdwas_ipeono2.values):1.1f}, {np.nanmax(traj2d_cbr_ipeono2.data)*coeff_ipeono2:1.1f}')"
   ]
  },
  {
   "cell_type": "code",
   "execution_count": null,
   "metadata": {},
   "outputs": [],
   "source": [
    "np.arange(0,10,1)"
   ]
  },
  {
   "cell_type": "code",
   "execution_count": null,
   "metadata": {},
   "outputs": [],
   "source": [
    "# Choose concentration range for plotting\n",
    "if atom_ukca_time_match == '20160729_201607':\n",
    "    bounds_c2h6 = np.arange(0,7500,500)\n",
    "    bounds_c3h8 = np.arange(0,1100,100)\n",
    "    bounds_nc4h10 = np.arange(0,280,40)\n",
    "    bounds_nc5h12 = np.arange(0,160,20)\n",
    "    bounds_ic5h12 = np.arange(0,350,50)\n",
    "    bounds_meono2 = np.arange(0,55,5)\n",
    "    bounds_sbuono2 = np.arange(0,22,2)\n",
    "    bounds_n2peono2 = np.arange(0,10,1)\n",
    "    bounds_n3peono2 = np.arange(0,7,1)\n",
    "    bounds_ipeono2 = np.arange(0,16,2)\n",
    "# Other cross section plotting parameters\n",
    "norm_c2h6 = colors.BoundaryNorm(boundaries=bounds_c2h6, ncolors=256) # create normilized color sequence\n",
    "norm_c3h8 = colors.BoundaryNorm(boundaries=bounds_c3h8, ncolors=256)\n",
    "norm_nc4h10 = colors.BoundaryNorm(boundaries=bounds_nc4h10, ncolors=256)\n",
    "norm_nc5h12 = colors.BoundaryNorm(boundaries=bounds_nc5h12, ncolors=256)\n",
    "norm_ic5h12 = colors.BoundaryNorm(boundaries=bounds_ic5h12, ncolors=256)\n",
    "norm_meono2 = colors.BoundaryNorm(boundaries=bounds_meono2, ncolors=256)\n",
    "norm_sbuono2 = colors.BoundaryNorm(boundaries=bounds_sbuono2, ncolors=256)\n",
    "norm_n2peono2 = colors.BoundaryNorm(boundaries=bounds_n2peono2, ncolors=256)\n",
    "norm_n3peono2 = colors.BoundaryNorm(boundaries=bounds_n3peono2, ncolors=256)\n",
    "norm_ipeono2 = colors.BoundaryNorm(boundaries=bounds_ipeono2, ncolors=256)\n",
    "cs_cf_kwargs = dict(cmap='Oranges', extend='max') # model data contourf options\n",
    "cs_sc_kwargs = dict(cmap='Oranges', edgecolors='k', linewidth=0.2) # observational data scatter options\n",
    "def m2km(x, pos):\n",
    "    '''Convert meters to kilometers when plotting x/ylabels'''\n",
    "    return int(x*1e-3) #'{:1.1f}'.format(x*1e-3)"
   ]
  },
  {
   "cell_type": "code",
   "execution_count": null,
   "metadata": {},
   "outputs": [],
   "source": [
    "# Plot cross section along flight track\n",
    "fig, ax = plt.subplots(figsize=(14,5), facecolor='w')\n",
    "ax.contourf(atom_dsinf.Dist, traj2d_cbr_c2h6.coord('altitude').points, traj2d_cbr_c2h6.data.squeeze()*coeff_c2h6*2, \n",
    "            levels=bounds_c2h6, **cs_cf_kwargs);\n",
    "p1 = ax.scatter(atom_dsinf.Dist, atom_dsmms.G_ALT, c=atom_pdwas_c2h6.squeeze(), norm=norm_c2h6, **cs_sc_kwargs);\n",
    "# common\n",
    "ax.set_title(f'{str_c2h6}\\nATom '+atom_date.strftime('%d %B %Y')+f'\\nUKCA {ukca_run_name} '+ukca_date.strftime('%B %Y')+' (mean)');\n",
    "ax.set_xlabel('Distance, km');\n",
    "ax.set_ylabel('Altitude, km');\n",
    "ax.set_ylim(0,13500);\n",
    "ax.xaxis.set_major_formatter(FuncFormatter(m2km))\n",
    "ax.yaxis.set_major_formatter(FuncFormatter(m2km))\n",
    "fig.text(0.7, 0.9, f'Maximum: {cs_c2h6_max} pptvC');\n",
    "fig.colorbar(p1, label='pptvC', extend='max');\n",
    "p1.cmap.set_over('k');\n",
    "if savefig:\n",
    "    fig.savefig(path_to_results / f'{ukca_run_name}_{ukca_date.strftime(\"%y%m\")}_cs_RH_C2.png', bbox_inches='tight')"
   ]
  },
  {
   "cell_type": "code",
   "execution_count": null,
   "metadata": {},
   "outputs": [],
   "source": [
    "# Plot cross section along flight track\n",
    "fig, ax = plt.subplots(figsize=(14,5), facecolor='w')\n",
    "ax.contourf(atom_dsinf.Dist, traj2d_cbr_c3h8.coord('altitude').points, traj2d_cbr_c3h8.data.squeeze()*coeff_c3h8*3, \n",
    "            levels=bounds_c3h8, **cs_cf_kwargs);\n",
    "p1 = ax.scatter(atom_dsinf.Dist, atom_dsmms.G_ALT, c=atom_pdwas_c3h8.squeeze(), norm=norm_c3h8, **cs_sc_kwargs);\n",
    "# common\n",
    "ax.set_title(f'{str_c3h8}\\nATom '+atom_date.strftime('%d %B %Y')+f'\\nUKCA {ukca_run_name} '+ukca_date.strftime('%B %Y')+' (mean)');\n",
    "ax.set_xlabel('Distance, km');\n",
    "ax.set_ylabel('Altitude, km');\n",
    "ax.set_ylim(0,13500);\n",
    "ax.xaxis.set_major_formatter(FuncFormatter(m2km))\n",
    "ax.yaxis.set_major_formatter(FuncFormatter(m2km))\n",
    "fig.text(0.7, 0.9, f'Maximum: {cs_c3h8_max} pptvC');\n",
    "fig.colorbar(p1, label='pptvC', extend='max');\n",
    "p1.cmap.set_over('k');\n",
    "if savefig:\n",
    "    fig.savefig(path_to_results / f'{ukca_run_name}_{ukca_date.strftime(\"%y%m\")}_cs_RH_C3.png', bbox_inches='tight')"
   ]
  },
  {
   "cell_type": "code",
   "execution_count": null,
   "metadata": {},
   "outputs": [],
   "source": [
    "# Plot cross section along flight track\n",
    "fig, ax = plt.subplots(figsize=(14,5), facecolor='w')\n",
    "p0 = ax.contourf(atom_dsinf.Dist, traj2d_cbr_nc4h10.coord('altitude').points, traj2d_cbr_nc4h10.data.squeeze()*coeff_nc4h10, \n",
    "                 levels=bounds_nc4h10, **cs_cf_kwargs);\n",
    "p1 = ax.scatter(atom_dsinf.Dist, atom_dsmms.G_ALT, c=atom_pdwas_nc4h10.squeeze(), norm=norm_nc4h10, **cs_sc_kwargs);\n",
    "# common\n",
    "ax.set_title(f'{str_nc4h10}\\nATom '+atom_date.strftime('%d %B %Y')+f'\\nUKCA {ukca_run_name} '+ukca_date.strftime('%B %Y')+' (mean)');\n",
    "ax.set_xlabel('Distance, km');\n",
    "ax.set_ylabel('Altitude, km');\n",
    "ax.set_ylim(0,13500);\n",
    "ax.xaxis.set_major_formatter(FuncFormatter(m2km))\n",
    "ax.yaxis.set_major_formatter(FuncFormatter(m2km))\n",
    "fig.text(0.7, 0.9, f'Maximum: {cs_nc4h10_max} pptvC');\n",
    "fig.colorbar(p1, label='pptvC', extend='max');\n",
    "p1.cmap.set_over('k');\n",
    "if savefig:\n",
    "    fig.savefig(path_to_results / f'{ukca_run_name}_{ukca_date.strftime(\"%y%m\")}_cs_RH_C4n.png', bbox_inches='tight')"
   ]
  },
  {
   "cell_type": "code",
   "execution_count": null,
   "metadata": {},
   "outputs": [],
   "source": [
    "# Plot cross section along flight track\n",
    "fig, ax = plt.subplots(figsize=(14,5), facecolor='w')\n",
    "p0 = ax.contourf(atom_dsinf.Dist, traj2d_cbr_nc5h12.coord('altitude').points, traj2d_cbr_nc5h12.data.squeeze()*coeff_nc5h12, \n",
    "                 levels=bounds_nc5h12,  **cs_cf_kwargs);\n",
    "p1 = ax.scatter(atom_dsinf.Dist, atom_dsmms.G_ALT, c=atom_pdwas_nc5h12.squeeze(), norm=norm_nc5h12, **cs_sc_kwargs);\n",
    "# common\n",
    "ax.set_title(f'{str_nc5h12}\\nATom '+atom_date.strftime('%d %B %Y')+f'\\nUKCA {ukca_run_name} '+ukca_date.strftime('%B %Y')+' (mean)');\n",
    "ax.set_xlabel('Distance, km');\n",
    "ax.set_ylabel('Altitude, km');\n",
    "ax.set_ylim(0,13500);\n",
    "ax.xaxis.set_major_formatter(FuncFormatter(m2km))\n",
    "ax.yaxis.set_major_formatter(FuncFormatter(m2km))\n",
    "fig.text(0.7, 0.9, f'Maximum: {cs_nc5h12_max} pptvC');\n",
    "fig.colorbar(p1, label='pptvC', extend='max');\n",
    "p1.cmap.set_over('k');\n",
    "if savefig:\n",
    "    fig.savefig(path_to_results / f'{ukca_run_name}_{ukca_date.strftime(\"%y%m\")}_cs_RH_C5n.png', bbox_inches='tight')"
   ]
  },
  {
   "cell_type": "code",
   "execution_count": null,
   "metadata": {},
   "outputs": [],
   "source": [
    "# Plot cross section along flight track\n",
    "fig, ax = plt.subplots(figsize=(14,5), facecolor='w')\n",
    "p0 = ax.contourf(atom_dsinf.Dist, traj2d_cbr_ic5h12.coord('altitude').points, traj2d_cbr_ic5h12.data.squeeze()*coeff_ic5h12, \n",
    "            levels=bounds_ic5h12, **cs_cf_kwargs);\n",
    "p1 = ax.scatter(atom_dsinf.Dist, atom_dsmms.G_ALT, c=atom_pdwas_ic5h12.squeeze(), norm=norm_ic5h12, **cs_sc_kwargs);\n",
    "# common\n",
    "ax.set_title(f'{str_ic5h12}\\nATom '+atom_date.strftime('%d %B %Y')+f'\\nUKCA {ukca_run_name} '+ukca_date.strftime('%B %Y')+' (mean)');\n",
    "ax.set_xlabel('Distance, km');\n",
    "ax.set_ylabel('Altitude, km');\n",
    "ax.set_ylim(0,13500);\n",
    "ax.xaxis.set_major_formatter(FuncFormatter(m2km))\n",
    "ax.yaxis.set_major_formatter(FuncFormatter(m2km))\n",
    "fig.text(0.7, 0.9, f'Maximum: {cs_ic5h12_max} pptvC');\n",
    "fig.colorbar(p1, label='pptvC', extend='max');\n",
    "p1.cmap.set_over('k');\n",
    "if savefig:\n",
    "    fig.savefig(path_to_results / f'{ukca_run_name}_{ukca_date.strftime(\"%y%m\")}_cs_RH_C5i.png', bbox_inches='tight')"
   ]
  },
  {
   "cell_type": "code",
   "execution_count": null,
   "metadata": {},
   "outputs": [],
   "source": [
    "# Plot cross section along flight track\n",
    "fig, ax = plt.subplots(figsize=(14,5), facecolor='w')\n",
    "ax.contourf(atom_dsinf.Dist, traj2d_cbr_meono2.coord('altitude').points, traj2d_cbr_meono2.data.squeeze()*coeff_meono2, \n",
    "            levels=bounds_meono2, **cs_cf_kwargs);\n",
    "p1 = ax.scatter(atom_dsinf.Dist, atom_dsmms.G_ALT, c=atom_pdwas_meono2.squeeze(), norm=norm_meono2, **cs_sc_kwargs);\n",
    "# common\n",
    "ax.set_title(f'{str_meono2}\\nATom '+atom_date.strftime('%d %B %Y')+f'\\nUKCA {ukca_run_name} '+ukca_date.strftime('%B %Y')+' (mean)');\n",
    "ax.set_xlabel('Distance, km');\n",
    "ax.set_ylabel('Altitude, km');\n",
    "ax.set_ylim(0,13500);\n",
    "ax.xaxis.set_major_formatter(FuncFormatter(m2km))\n",
    "ax.yaxis.set_major_formatter(FuncFormatter(m2km))\n",
    "fig.text(0.7, 0.9, f'Maximum: {cs_meono2_max} pptvC');\n",
    "fig.colorbar(p1, label='pptvC', extend='max');\n",
    "p1.cmap.set_over('k');\n",
    "if savefig:\n",
    "    fig.savefig(path_to_results / f'{ukca_run_name}_{ukca_date.strftime(\"%y%m\")}_cs_RONO2_C1.png', bbox_inches='tight')"
   ]
  },
  {
   "cell_type": "code",
   "execution_count": null,
   "metadata": {},
   "outputs": [],
   "source": [
    "# Plot cross section along flight track\n",
    "fig, ax = plt.subplots(figsize=(14,5), facecolor='w')\n",
    "ax.contourf(atom_dsinf.Dist, traj2d_cbr_sbuono2.coord('altitude').points, traj2d_cbr_sbuono2.data.squeeze()*coeff_sbuono2, \n",
    "            levels=bounds_sbuono2, **cs_cf_kwargs);\n",
    "p1 = ax.scatter(atom_dsinf.Dist, atom_dsmms.G_ALT, c=atom_pdwas_sbuono2.squeeze(), norm=norm_sbuono2, **cs_sc_kwargs);\n",
    "# common\n",
    "ax.set_title(f'{str_sbuono2}\\nATom '+atom_date.strftime('%d %B %Y')+f'\\nUKCA {ukca_run_name} '+ukca_date.strftime('%B %Y')+' (mean)');\n",
    "ax.set_xlabel('Distance, km');\n",
    "ax.set_ylabel('Altitude, km');\n",
    "ax.set_ylim(0,13500);\n",
    "ax.xaxis.set_major_formatter(FuncFormatter(m2km))\n",
    "ax.yaxis.set_major_formatter(FuncFormatter(m2km))\n",
    "fig.text(0.7, 0.9, f'Maximum: {cs_sbuono2_max} pptvC');\n",
    "fig.colorbar(p1, label='pptvC', extend='max');\n",
    "p1.cmap.set_over('k');\n",
    "if savefig:\n",
    "    fig.savefig(path_to_results / f'{ukca_run_name}_{ukca_date.strftime(\"%y%m\")}_cs_RONO2_C4s.png', bbox_inches='tight')"
   ]
  },
  {
   "cell_type": "code",
   "execution_count": null,
   "metadata": {},
   "outputs": [],
   "source": [
    "# Plot cross section along flight track\n",
    "fig, ax = plt.subplots(figsize=(14,5), facecolor='w')\n",
    "ax.contourf(atom_dsinf.Dist, traj2d_cbr_n2peono2.coord('altitude').points, traj2d_cbr_n2peono2.data.squeeze()*coeff_n2peono2, \n",
    "            levels=bounds_n2peono2, **cs_cf_kwargs);\n",
    "p1 = ax.scatter(atom_dsinf.Dist, atom_dsmms.G_ALT, c=atom_pdwas_n2peono2.squeeze(), norm=norm_n2peono2, **cs_sc_kwargs);\n",
    "# common\n",
    "ax.set_title(f'{str_n2peono2}\\nATom '+atom_date.strftime('%d %B %Y')+f'\\nUKCA {ukca_run_name} '+ukca_date.strftime('%B %Y')+' (mean)');\n",
    "ax.set_xlabel('Distance, km');\n",
    "ax.set_ylabel('Altitude, km');\n",
    "ax.set_ylim(0,13500);\n",
    "ax.xaxis.set_major_formatter(FuncFormatter(m2km))\n",
    "ax.yaxis.set_major_formatter(FuncFormatter(m2km))\n",
    "fig.text(0.7, 0.9, f'Maximum: {cs_n2peono2_max} pptvC');\n",
    "fig.colorbar(p1, label='pptvC', extend='max');\n",
    "p1.cmap.set_over('k');\n",
    "if savefig:\n",
    "    fig.savefig(path_to_results / f'{ukca_run_name}_{ukca_date.strftime(\"%y%m\")}_cs_RONO2_C5nB.png', bbox_inches='tight')"
   ]
  },
  {
   "cell_type": "code",
   "execution_count": null,
   "metadata": {},
   "outputs": [],
   "source": [
    "# Plot cross section along flight track\n",
    "fig, ax = plt.subplots(figsize=(14,5), facecolor='w')\n",
    "ax.contourf(atom_dsinf.Dist, traj2d_cbr_n3peono2.coord('altitude').points, traj2d_cbr_n3peono2.data.squeeze()*coeff_n3peono2, \n",
    "            levels=bounds_n3peono2, **cs_cf_kwargs);\n",
    "p1 = ax.scatter(atom_dsinf.Dist, atom_dsmms.G_ALT, c=atom_pdwas_n3peono2.squeeze(), norm=norm_n3peono2, **cs_sc_kwargs);\n",
    "# common\n",
    "ax.set_title(f'{str_n3peono2}\\nATom '+atom_date.strftime('%d %B %Y')+f'\\nUKCA {ukca_run_name} '+ukca_date.strftime('%B %Y')+' (mean)');\n",
    "ax.set_xlabel('Distance, km');\n",
    "ax.set_ylabel('Altitude, km');\n",
    "ax.set_ylim(0,13500);\n",
    "ax.xaxis.set_major_formatter(FuncFormatter(m2km))\n",
    "ax.yaxis.set_major_formatter(FuncFormatter(m2km))\n",
    "fig.text(0.7, 0.9, f'Maximum: {cs_n3peono2_max} pptvC');\n",
    "fig.colorbar(p1, label='pptvC', extend='max');\n",
    "p1.cmap.set_over('k');\n",
    "if savefig:\n",
    "    fig.savefig(path_to_results / f'{ukca_run_name}_{ukca_date.strftime(\"%y%m\")}_cs_RONO2_C5nC.png', bbox_inches='tight')"
   ]
  },
  {
   "cell_type": "code",
   "execution_count": null,
   "metadata": {},
   "outputs": [],
   "source": [
    "# Plot cross section along flight track\n",
    "fig, ax = plt.subplots(figsize=(14,5), facecolor='w')\n",
    "ax.contourf(atom_dsinf.Dist, traj2d_cbr_ipeono2.coord('altitude').points, traj2d_cbr_ipeono2.data.squeeze()*coeff_ipeono2, \n",
    "            levels=bounds_ipeono2, **cs_cf_kwargs);\n",
    "p1 = ax.scatter(atom_dsinf.Dist, atom_dsmms.G_ALT, c=atom_pdwas_ipeono2.squeeze(), norm=norm_ipeono2, **cs_sc_kwargs);\n",
    "# common\n",
    "ax.set_title(f'{str_ipeono2}\\nATom '+atom_date.strftime('%d %B %Y')+f'\\nUKCA {ukca_run_name} '+ukca_date.strftime('%B %Y')+' (mean)');\n",
    "ax.set_xlabel('Distance, km');\n",
    "ax.set_ylabel('Altitude, km');\n",
    "ax.set_ylim(0,13500);\n",
    "ax.xaxis.set_major_formatter(FuncFormatter(m2km))\n",
    "ax.yaxis.set_major_formatter(FuncFormatter(m2km))\n",
    "fig.text(0.7, 0.9, f'Maximum: {cs_ipeono2_max} pptvC');\n",
    "fig.colorbar(p1, label='pptvC', extend='max');\n",
    "p1.cmap.set_over('k');\n",
    "if savefig:\n",
    "    fig.savefig(path_to_results / f'{ukca_run_name}_{ukca_date.strftime(\"%y%m\")}_cs_RONO2_C5i.png', bbox_inches='tight')"
   ]
  },
  {
   "cell_type": "markdown",
   "metadata": {},
   "source": [
    "#### Flight concentrations at all altitudes and model surface concentration (hybrid height level 0) "
   ]
  },
  {
   "cell_type": "code",
   "execution_count": null,
   "metadata": {},
   "outputs": [],
   "source": [
    "# Add a cyclic point for plotting a map\n",
    "cyclic_c2h6, cyclic_lons = cartopy.util.add_cyclic_point(cb_c2h6.data*coeff_c2h6*2, coord=cb_c2h6.coord('longitude').points)\n",
    "cyclic_c3h8 = cartopy.util.add_cyclic_point(cb_c3h8.data*coeff_c3h8*3)\n",
    "cyclic_nc4h10 = cartopy.util.add_cyclic_point(cb_nc4h10.data*coeff_nc4h10)\n",
    "cyclic_nc5h12 = cartopy.util.add_cyclic_point(cb_nc5h12.data*coeff_nc5h12)\n",
    "cyclic_ic5h12 = cartopy.util.add_cyclic_point(cb_ic5h12.data*coeff_ic5h12)\n",
    "cyclic_meono2 = cartopy.util.add_cyclic_point(cb_meono2.data*coeff_meono2)\n",
    "cyclic_sbuono2 = cartopy.util.add_cyclic_point(cb_sbuono2.data*coeff_sbuono2)\n",
    "cyclic_n2peono2 = cartopy.util.add_cyclic_point(cb_n2peono2.data*coeff_n2peono2)\n",
    "cyclic_n3peono2 = cartopy.util.add_cyclic_point(cb_n3peono2.data*coeff_n3peono2)\n",
    "cyclic_ipeono2 = cartopy.util.add_cyclic_point(cb_ipeono2.data*coeff_ipeono2)"
   ]
  },
  {
   "cell_type": "code",
   "execution_count": null,
   "metadata": {},
   "outputs": [],
   "source": [
    "# Select longitudes and latitudes where ATom data is available\n",
    "lons_c2h6_notnan = np.where(atom_pdwas_c2h6.Lumped_C2H6_C2H4_C2H2.isna()==False, sample_lons, atom_pdwas_c2h6.Lumped_C2H6_C2H4_C2H2)\n",
    "lats_c2h6_notnan = np.where(atom_pdwas_c2h6.Lumped_C2H6_C2H4_C2H2.isna()==False, sample_lats, atom_pdwas_c2h6.Lumped_C2H6_C2H4_C2H2)\n",
    "lons_c3h8_notnan = np.where(atom_pdwas_c3h8.Lumped_C3H8_C3H6.isna()==False, sample_lons, atom_pdwas_c3h8.Lumped_C3H8_C3H6)\n",
    "lats_c3h8_notnan = np.where(atom_pdwas_c3h8.Lumped_C3H8_C3H6.isna()==False, sample_lats, atom_pdwas_c3h8.Lumped_C3H8_C3H6)\n",
    "lons_nc4h10_notnan = np.where(atom_pdwas_nc4h10['n-Butane_WAS'].isna()==False, sample_lons, atom_pdwas_nc4h10['n-Butane_WAS'])\n",
    "lats_nc4h10_notnan = np.where(atom_pdwas_nc4h10['n-Butane_WAS'].isna()==False, sample_lats, atom_pdwas_nc4h10['n-Butane_WAS'])\n",
    "lons_nc5h12_notnan = np.where(atom_pdwas_nc5h12['n-Pentane_WAS'].isna()==False, sample_lons, atom_pdwas_nc5h12['n-Pentane_WAS'])\n",
    "lats_nc5h12_notnan = np.where(atom_pdwas_nc5h12['n-Pentane_WAS'].isna()==False, sample_lats, atom_pdwas_nc5h12['n-Pentane_WAS'])\n",
    "lons_ic5h12_notnan = np.where(atom_pdwas_ic5h12['i-Pentane_WAS'].isna()==False, sample_lons, atom_pdwas_ic5h12['i-Pentane_WAS'])\n",
    "lats_ic5h12_notnan = np.where(atom_pdwas_ic5h12['i-Pentane_WAS'].isna()==False, sample_lats, atom_pdwas_ic5h12['i-Pentane_WAS'])\n",
    "lons_meono2_notnan = np.where(atom_pdwas_meono2['MeONO2_WAS'].isna()==False, sample_lons, atom_pdwas_meono2['MeONO2_WAS'])\n",
    "lats_meono2_notnan = np.where(atom_pdwas_meono2['MeONO2_WAS'].isna()==False, sample_lats, atom_pdwas_meono2['MeONO2_WAS'])\n",
    "lons_sbuono2_notnan = np.where(atom_pdwas_sbuono2['2-BuONO2_WAS'].isna()==False, sample_lons, atom_pdwas_sbuono2['2-BuONO2_WAS'])\n",
    "lats_sbuono2_notnan = np.where(atom_pdwas_sbuono2['2-BuONO2_WAS'].isna()==False, sample_lats, atom_pdwas_sbuono2['2-BuONO2_WAS'])\n",
    "lons_n2peono2_notnan = np.where(atom_pdwas_n2peono2['2-PenONO2_WAS'].isna()==False, sample_lons, atom_pdwas_n2peono2['2-PenONO2_WAS'])\n",
    "lats_n2peono2_notnan = np.where(atom_pdwas_n2peono2['2-PenONO2_WAS'].isna()==False, sample_lats, atom_pdwas_n2peono2['2-PenONO2_WAS'])\n",
    "lons_n3peono2_notnan = np.where(atom_pdwas_n3peono2['3-PenONO2_WAS'].isna()==False, sample_lons, atom_pdwas_n3peono2['3-PenONO2_WAS'])\n",
    "lats_n3peono2_notnan = np.where(atom_pdwas_n3peono2['3-PenONO2_WAS'].isna()==False, sample_lats, atom_pdwas_n3peono2['3-PenONO2_WAS'])\n",
    "lons_ipeono2_notnan = np.where(atom_pdwas_ipeono2['3-Methyl-2-BuONO2_WAS'].isna()==False, sample_lons, atom_pdwas_ipeono2['3-Methyl-2-BuONO2_WAS'])\n",
    "lats_ipeono2_notnan = np.where(atom_pdwas_ipeono2['3-Methyl-2-BuONO2_WAS'].isna()==False, sample_lats, atom_pdwas_ipeono2['3-Methyl-2-BuONO2_WAS'])"
   ]
  },
  {
   "cell_type": "code",
   "execution_count": null,
   "metadata": {},
   "outputs": [],
   "source": [
    "mglb_c2h6_max = int(cyclic_c2h6[0,0,...].max())\n",
    "mglb_c3h8_max = int(cyclic_c3h8[0,0,...].max())\n",
    "mglb_nc4h10_max = int(cyclic_nc4h10[0,0,...].max())\n",
    "mglb_nc5h12_max = int(cyclic_nc5h12[0,0,...].max())\n",
    "mglb_ic5h12_max = int(cyclic_ic5h12[0,0,...].max())\n",
    "mglb_meono2_max = int(cyclic_meono2[0,0,...].max())\n",
    "mglb_sbuono2_max = int(cyclic_sbuono2[0,0,...].max())\n",
    "mglb_n2peono2_max = int(cyclic_n2peono2[0,0,...].max())\n",
    "mglb_n3peono2_max = int(cyclic_n3peono2[0,0,...].max())\n",
    "mglb_ipeono2_max = int(cyclic_ipeono2[0,0,...].max())"
   ]
  },
  {
   "cell_type": "code",
   "execution_count": null,
   "metadata": {},
   "outputs": [],
   "source": [
    "# Print max concentration on a map\n",
    "print(atom_ukca_time_match)\n",
    "print(f'C2H6: {mglb_c2h6_max}')\n",
    "print(f'C3H8: {mglb_c3h8_max}')\n",
    "print(f'nC4H10: {mglb_nc4h10_max}')\n",
    "print(f'nC5H12: {mglb_nc5h12_max}')\n",
    "print(f'iC5H12: {mglb_ic5h12_max}')\n",
    "print(f'MeONO2: {mglb_meono2_max}')\n",
    "print(f'2-BuONO2: {mglb_sbuono2_max}')\n",
    "print(f'2-PenONO2: {mglb_n2peono2_max}')\n",
    "print(f'3-PenONO2: {mglb_n3peono2_max}')\n",
    "print(f'3-Methyl-2-BuONO2: {mglb_ipeono2_max}')"
   ]
  },
  {
   "cell_type": "code",
   "execution_count": null,
   "metadata": {},
   "outputs": [],
   "source": [
    "if atom_ukca_time_match == '20160729_201607':\n",
    "    mglb_c2h6_range = np.arange(0,11000,1000)\n",
    "    mglb_c3h8_range = np.arange(0,4500,500)\n",
    "    mglb_nc4h10_range = np.arange(0,220,20) # np.arange(0,550,50)\n",
    "    mglb_nc5h12_range = np.arange(0,220,20)\n",
    "    mglb_ic5h12_range = np.arange(0,220,20)\n",
    "    mglb_meono2_range = np.arange(0,50,5)\n",
    "    mglb_sbuono2_range = np.arange(0,11,1) # np.arange(0,16,2)\n",
    "    mglb_n2peono2_range = np.arange(0,5.5,0.5) # np.arange(0,11,1)\n",
    "    mglb_n3peono2_range = np.arange(0,5.5,0.5)\n",
    "    mglb_ipeono2_range = np.arange(0,5.5,0.5)"
   ]
  },
  {
   "cell_type": "code",
   "execution_count": null,
   "metadata": {},
   "outputs": [],
   "source": [
    "# Global map plotting parameters\n",
    "mp_cf_kwargs = dict(transform=ccrs.PlateCarree(), cmap='Oranges', extend='max')\n",
    "mp_sc_kwargs = dict(transform=ccrs.PlateCarree(), c='C0', edgecolors='k', linewidth=0.2)\n",
    "mp_arrow_kwargs = dict(transform=ccrs.PlateCarree(), color='C0', width=3);\n",
    "if atom_ukca_time_match == '20160729_201607':\n",
    "    atom_stops = [dict(name='Palmdale', lon=-118.100556, lat=34.581111),\n",
    "                  dict(name='Equator', lon=-120, lat=0)]\n",
    "    mp_arrows = [dict(name='Palmdale-Equator', x=-130, y=32, dx=0, dy=-20),\n",
    "                 dict(name='Equator-Palmdale', x=-110, y=8, dx=0, dy=10)]"
   ]
  },
  {
   "cell_type": "code",
   "execution_count": null,
   "metadata": {},
   "outputs": [],
   "source": [
    "# Plot sampling locations and model surface concentration (hybrid height level 0)\n",
    "fig, ax = plt.subplots(figsize=(10, 10), subplot_kw=dict(projection=ccrs.Robinson(central_longitude=270)), facecolor='w')\n",
    "p1 = ax.contourf(cyclic_lons, cbr_c2h6.coord('latitude').points, cyclic_c2h6[0,0,...], levels=mglb_c2h6_range, **mp_cf_kwargs);\n",
    "ax.scatter(lons_c2h6_notnan, lats_c2h6_notnan, **mp_sc_kwargs);\n",
    "ax.coastlines();\n",
    "ax.set_global();\n",
    "ax.set_title(f'{str_c2h6}\\nATom '+atom_date.strftime('%d %B %Y')+f'\\nUKCA {ukca_run_name} '+ukca_date.strftime('%B %Y')+' (mean) surface');\n",
    "p1.cmap.set_over('k');\n",
    "fig.colorbar(p1, shrink=0.4, label='pptvC', extend='max');\n",
    "fig.text(0.7, 0.67, f'Maximum: {mglb_c2h6_max} pptvC');\n",
    "for i in atom_stops:\n",
    "    ax.text(i['lon']+4, i['lat'], i['name'], transform=ccrs.PlateCarree(), color='C0');\n",
    "for j in mp_arrows:\n",
    "    ax.arrow(j['x'], j['y'], j['dx'], j['dy'], **mp_arrow_kwargs);\n",
    "if savefig:\n",
    "    fig.savefig(path_to_results / f'{ukca_run_name}_{ukca_date.strftime(\"%y%m\")}_mpglb_RH_C2.png', bbox_inches='tight')"
   ]
  },
  {
   "cell_type": "code",
   "execution_count": null,
   "metadata": {},
   "outputs": [],
   "source": [
    "# Plot sampling locations and model surface concentration (hybrid height level 0)\n",
    "fig, ax = plt.subplots(figsize=(10, 10), subplot_kw=dict(projection=ccrs.Robinson(central_longitude=270)), facecolor='w')\n",
    "p1 = ax.contourf(cyclic_lons, cbr_c3h8.coord('latitude').points, cyclic_c3h8[0,0,...], levels=mglb_c3h8_range, **mp_cf_kwargs);\n",
    "ax.scatter(lons_c3h8_notnan, lats_c3h8_notnan, **mp_sc_kwargs);\n",
    "ax.coastlines();\n",
    "ax.set_global();\n",
    "ax.set_title(f'{str_c3h8}\\nATom '+atom_date.strftime('%d %B %Y')+f'\\nUKCA {ukca_run_name} '+ukca_date.strftime('%B %Y')+' (mean) surface');\n",
    "p1.cmap.set_over('k');\n",
    "fig.colorbar(p1, shrink=0.4, label='pptvC', extend='max');\n",
    "fig.text(0.7, 0.67, f'Maximum: {mglb_c3h8_max} pptvC');\n",
    "for i in atom_stops:\n",
    "    ax.text(i['lon']+4, i['lat'], i['name'], transform=ccrs.PlateCarree(), color='C0');\n",
    "for j in mp_arrows:\n",
    "    ax.arrow(j['x'], j['y'], j['dx'], j['dy'], **mp_arrow_kwargs);\n",
    "if savefig:\n",
    "    fig.savefig(path_to_results / f'{ukca_run_name}_{ukca_date.strftime(\"%y%m\")}_mpglb_RH_C3.png', bbox_inches='tight')"
   ]
  },
  {
   "cell_type": "code",
   "execution_count": null,
   "metadata": {},
   "outputs": [],
   "source": [
    "# Plot sampling locations and model surface concentration (hybrid height level 0)\n",
    "fig, ax = plt.subplots(figsize=(10, 10), subplot_kw=dict(projection=ccrs.Robinson(central_longitude=270)), facecolor='w')\n",
    "p1 = ax.contourf(cyclic_lons, cbr_nc4h10.coord('latitude').points, cyclic_nc4h10[0,0,...], levels=mglb_nc4h10_range, **mp_cf_kwargs);\n",
    "ax.scatter(lons_nc4h10_notnan, lats_nc4h10_notnan, **mp_sc_kwargs);\n",
    "ax.coastlines();\n",
    "ax.set_global();\n",
    "ax.set_title(f'{str_nc4h10}\\nATom '+atom_date.strftime('%d %B %Y')+f'\\nUKCA {ukca_run_name} '+ukca_date.strftime('%B %Y')+' (mean) surface');\n",
    "p1.cmap.set_over('k');\n",
    "fig.colorbar(p1, shrink=0.4, label='pptv', extend='max');\n",
    "fig.text(0.7, 0.67, f'Maximum: {mglb_nc4h10_max} pptv');\n",
    "for i in atom_stops:\n",
    "    ax.text(i['lon']+4, i['lat'], i['name'], transform=ccrs.PlateCarree(), color='C0');\n",
    "for j in mp_arrows:\n",
    "    ax.arrow(j['x'], j['y'], j['dx'], j['dy'], **mp_arrow_kwargs);\n",
    "if savefig:\n",
    "    fig.savefig(path_to_results / f'{ukca_run_name}_{ukca_date.strftime(\"%y%m\")}_mpglb_RH_C4n.png', bbox_inches='tight')"
   ]
  },
  {
   "cell_type": "code",
   "execution_count": null,
   "metadata": {},
   "outputs": [],
   "source": [
    "# Plot sampling locations and model surface concentration (hybrid height level 0)\n",
    "fig, ax = plt.subplots(figsize=(10, 10), subplot_kw=dict(projection=ccrs.Robinson(central_longitude=270)), facecolor='w')\n",
    "p1 = ax.contourf(cyclic_lons, cbr_nc5h12.coord('latitude').points, cyclic_nc5h12[0,0,...], levels=mglb_nc5h12_range, **mp_cf_kwargs);\n",
    "ax.scatter(lons_nc5h12_notnan, lats_nc5h12_notnan, **mp_sc_kwargs);\n",
    "ax.coastlines();\n",
    "ax.set_global();\n",
    "ax.set_title(f'{str_nc5h12}\\nATom '+atom_date.strftime('%d %B %Y')+f'\\nUKCA {ukca_run_name} '+ukca_date.strftime('%B %Y')+' (mean) surface');\n",
    "p1.cmap.set_over('k');\n",
    "fig.colorbar(p1, shrink=0.4, label='pptv', extend='max');\n",
    "fig.text(0.7, 0.67, f'Maximum: {mglb_nc5h12_max} pptv');\n",
    "for i in atom_stops:\n",
    "    ax.text(i['lon']+4, i['lat'], i['name'], transform=ccrs.PlateCarree(), color='C0');\n",
    "for j in mp_arrows:\n",
    "    ax.arrow(j['x'], j['y'], j['dx'], j['dy'], **mp_arrow_kwargs);\n",
    "if savefig:\n",
    "    fig.savefig(path_to_results / f'{ukca_run_name}_{ukca_date.strftime(\"%y%m\")}_mpglb_RH_C5n.png', bbox_inches='tight')"
   ]
  },
  {
   "cell_type": "code",
   "execution_count": null,
   "metadata": {},
   "outputs": [],
   "source": [
    "# Plot sampling locations and model surface concentration (hybrid height level 0)\n",
    "fig, ax = plt.subplots(figsize=(10, 10), subplot_kw=dict(projection=ccrs.Robinson(central_longitude=270)), facecolor='w')\n",
    "p1 = ax.contourf(cyclic_lons, cbr_ic5h12.coord('latitude').points, cyclic_ic5h12[0,0,...], levels=mglb_ic5h12_range, **mp_cf_kwargs);\n",
    "ax.scatter(lons_ic5h12_notnan, lats_ic5h12_notnan, **mp_sc_kwargs);\n",
    "ax.coastlines();\n",
    "ax.set_global();\n",
    "ax.set_title(f'{str_ic5h12}\\nATom '+atom_date.strftime('%d %B %Y')+f'\\nUKCA {ukca_run_name} '+ukca_date.strftime('%B %Y')+' (mean) surface');\n",
    "p1.cmap.set_over('k');\n",
    "fig.colorbar(p1, shrink=0.4, label='pptv', extend='max');\n",
    "fig.text(0.7, 0.67, f'Maximum: {mglb_ic5h12_max} pptv');\n",
    "for i in atom_stops:\n",
    "    ax.text(i['lon']+4, i['lat'], i['name'], transform=ccrs.PlateCarree(), color='C0');\n",
    "for j in mp_arrows:\n",
    "    ax.arrow(j['x'], j['y'], j['dx'], j['dy'], **mp_arrow_kwargs);\n",
    "if savefig:\n",
    "    fig.savefig(path_to_results / f'{ukca_run_name}_{ukca_date.strftime(\"%y%m\")}_mpglb_RH_C5i.png', bbox_inches='tight')"
   ]
  },
  {
   "cell_type": "code",
   "execution_count": null,
   "metadata": {},
   "outputs": [],
   "source": [
    "# Plot sampling locations and model surface concentration (hybrid height level 0)\n",
    "fig, ax = plt.subplots(figsize=(10, 10), subplot_kw=dict(projection=ccrs.Robinson(central_longitude=270)), facecolor='w')\n",
    "p1 = ax.contourf(cyclic_lons, cbr_meono2.coord('latitude').points, cyclic_meono2[0,0,...], levels=mglb_meono2_range, **mp_cf_kwargs);\n",
    "ax.scatter(lons_meono2_notnan, lats_meono2_notnan, **mp_sc_kwargs);\n",
    "ax.coastlines();\n",
    "ax.set_global();\n",
    "ax.set_title(f'{str_meono2}\\nATom '+atom_date.strftime('%d %B %Y')+f'\\nUKCA {ukca_run_name} '+ukca_date.strftime('%B %Y')+' (mean) surface');\n",
    "p1.cmap.set_over('k');\n",
    "fig.colorbar(p1, shrink=0.4, label='pptv', extend='max');\n",
    "fig.text(0.7, 0.67, f'Maximum: {mglb_meono2_max} pptv');\n",
    "for i in atom_stops:\n",
    "    ax.text(i['lon']+4, i['lat'], i['name'], transform=ccrs.PlateCarree(), color='C0');\n",
    "for j in mp_arrows:\n",
    "    ax.arrow(j['x'], j['y'], j['dx'], j['dy'], **mp_arrow_kwargs);\n",
    "if savefig:\n",
    "    fig.savefig(path_to_results / f'{ukca_run_name}_{ukca_date.strftime(\"%y%m\")}_mpglb_RONO2_C1.png', bbox_inches='tight')"
   ]
  },
  {
   "cell_type": "code",
   "execution_count": null,
   "metadata": {},
   "outputs": [],
   "source": [
    "# Plot sampling locations and model surface concentration (hybrid height level 0)\n",
    "fig, ax = plt.subplots(figsize=(10, 10), subplot_kw=dict(projection=ccrs.Robinson(central_longitude=270)), facecolor='w')\n",
    "p1 = ax.contourf(cyclic_lons, cbr_sbuono2.coord('latitude').points, cyclic_sbuono2[0,0,...], levels=mglb_sbuono2_range, **mp_cf_kwargs);\n",
    "ax.scatter(lons_sbuono2_notnan, lats_sbuono2_notnan, **mp_sc_kwargs);\n",
    "ax.coastlines();\n",
    "ax.set_global();\n",
    "ax.set_title(f'{str_sbuono2}\\nATom '+atom_date.strftime('%d %B %Y')+f'\\nUKCA {ukca_run_name} '+ukca_date.strftime('%B %Y')+' (mean) surface');\n",
    "p1.cmap.set_over('k');\n",
    "fig.colorbar(p1, shrink=0.4, label='pptv', extend='max');\n",
    "fig.text(0.7, 0.67, f'Maximum: {mglb_sbuono2_max} pptv');\n",
    "for i in atom_stops:\n",
    "    ax.text(i['lon']+4, i['lat'], i['name'], transform=ccrs.PlateCarree(), color='C0');\n",
    "for j in mp_arrows:\n",
    "    ax.arrow(j['x'], j['y'], j['dx'], j['dy'], **mp_arrow_kwargs);\n",
    "if savefig:\n",
    "    fig.savefig(path_to_results / f'{ukca_run_name}_{ukca_date.strftime(\"%y%m\")}_mpglb_RONO2_C4s.png', bbox_inches='tight')"
   ]
  },
  {
   "cell_type": "code",
   "execution_count": null,
   "metadata": {},
   "outputs": [],
   "source": [
    "# Plot sampling locations and model surface concentration (hybrid height level 0)\n",
    "fig, ax = plt.subplots(figsize=(10, 10), subplot_kw=dict(projection=ccrs.Robinson(central_longitude=270)), facecolor='w')\n",
    "p1 = ax.contourf(cyclic_lons, cbr_n2peono2.coord('latitude').points, cyclic_n2peono2[0,0,...], levels=mglb_n2peono2_range, **mp_cf_kwargs);\n",
    "ax.scatter(lons_n2peono2_notnan, lats_n2peono2_notnan, **mp_sc_kwargs);\n",
    "ax.coastlines();\n",
    "ax.set_global();\n",
    "ax.set_title(f'{str_n2peono2}\\nATom '+atom_date.strftime('%d %B %Y')+f'\\nUKCA {ukca_run_name} '+ukca_date.strftime('%B %Y')+' (mean) surface');\n",
    "p1.cmap.set_over('k');\n",
    "fig.colorbar(p1, shrink=0.4, label='pptv', extend='max');\n",
    "fig.text(0.7, 0.67, f'Maximum: {mglb_n2peono2_max} pptv');\n",
    "for i in atom_stops:\n",
    "    ax.text(i['lon']+4, i['lat'], i['name'], transform=ccrs.PlateCarree(), color='C0');\n",
    "for j in mp_arrows:\n",
    "    ax.arrow(j['x'], j['y'], j['dx'], j['dy'], **mp_arrow_kwargs);\n",
    "if savefig:\n",
    "    fig.savefig(path_to_results / f'{ukca_run_name}_{ukca_date.strftime(\"%y%m\")}_mpglb_RONO2_C5nB.png', bbox_inches='tight')"
   ]
  },
  {
   "cell_type": "code",
   "execution_count": null,
   "metadata": {},
   "outputs": [],
   "source": [
    "# Plot sampling locations and model surface concentration (hybrid height level 0)\n",
    "fig, ax = plt.subplots(figsize=(10, 10), subplot_kw=dict(projection=ccrs.Robinson(central_longitude=270)), facecolor='w')\n",
    "p1 = ax.contourf(cyclic_lons, cbr_n3peono2.coord('latitude').points, cyclic_n3peono2[0,0,...], levels=mglb_n3peono2_range, **mp_cf_kwargs);\n",
    "ax.scatter(lons_n3peono2_notnan, lats_n3peono2_notnan, **mp_sc_kwargs);\n",
    "ax.coastlines();\n",
    "ax.set_global();\n",
    "ax.set_title(f'{str_n3peono2}\\nATom '+atom_date.strftime('%d %B %Y')+f'\\nUKCA {ukca_run_name} '+ukca_date.strftime('%B %Y')+' (mean) surface');\n",
    "p1.cmap.set_over('k');\n",
    "fig.colorbar(p1, shrink=0.4, label='pptv', extend='max');\n",
    "fig.text(0.7, 0.67, f'Maximum: {mglb_n3peono2_max} pptv');\n",
    "for i in atom_stops:\n",
    "    ax.text(i['lon']+4, i['lat'], i['name'], transform=ccrs.PlateCarree(), color='C0');\n",
    "for j in mp_arrows:\n",
    "    ax.arrow(j['x'], j['y'], j['dx'], j['dy'], **mp_arrow_kwargs);\n",
    "if savefig:\n",
    "    fig.savefig(path_to_results / f'{ukca_run_name}_{ukca_date.strftime(\"%y%m\")}_mpglb_RONO2_C5nC.png', bbox_inches='tight')"
   ]
  },
  {
   "cell_type": "code",
   "execution_count": null,
   "metadata": {},
   "outputs": [],
   "source": [
    "# Plot sampling locations and model surface concentration (hybrid height level 0)\n",
    "fig, ax = plt.subplots(figsize=(10, 10), subplot_kw=dict(projection=ccrs.Robinson(central_longitude=270)), facecolor='w')\n",
    "p1 = ax.contourf(cyclic_lons, cbr_ipeono2.coord('latitude').points, cyclic_ipeono2[0,0,...], levels=mglb_ipeono2_range, **mp_cf_kwargs);\n",
    "ax.scatter(lons_ipeono2_notnan, lats_ipeono2_notnan, **mp_sc_kwargs);\n",
    "ax.coastlines();\n",
    "ax.set_global();\n",
    "ax.set_title(f'{str_ipeono2}\\nATom '+atom_date.strftime('%d %B %Y')+f'\\nUKCA {ukca_run_name} '+ukca_date.strftime('%B %Y')+' (mean) surface');\n",
    "p1.cmap.set_over('k');\n",
    "fig.colorbar(p1, shrink=0.4, label='pptv', extend='max');\n",
    "fig.text(0.7, 0.67, f'Maximum: {mglb_ipeono2_max} pptv');\n",
    "for i in atom_stops:\n",
    "    ax.text(i['lon']+4, i['lat'], i['name'], transform=ccrs.PlateCarree(), color='C0');\n",
    "for j in mp_arrows:\n",
    "    ax.arrow(j['x'], j['y'], j['dx'], j['dy'], **mp_arrow_kwargs);\n",
    "if savefig:\n",
    "    fig.savefig(path_to_results / f'{ukca_run_name}_{ukca_date.strftime(\"%y%m\")}_mpglb_RONO2_C5i.png', bbox_inches='tight')"
   ]
  },
  {
   "cell_type": "code",
   "execution_count": null,
   "metadata": {},
   "outputs": [],
   "source": [
    "# # with normalization\n",
    "# # Plot flight data at all altitudes and model surface concentration (hybrid height level 0)\n",
    "# fig, ax = plt.subplots(figsize=(10, 10), subplot_kw=dict(projection=ccrs.Robinson(central_longitude=0)), facecolor='w')\n",
    "# ax.contourf(cyclic_lons, cbr_meono2.coord('latitude').points, cyclic_meono2[0,0,...], levels=bounds_meono2, **mp_cf_kwargs);\n",
    "# p1 = ax.scatter(sample_lons, sample_lats, c=atom_pdwas_meono2.squeeze(), norm=norm_meono2, **mp_sc_kwargs);\n",
    "# ax.coastlines();\n",
    "# ax.set_global();\n",
    "# ax.set_title(f'{str_meono2}\\nATom '+atom_date.strftime('%d %B %Y')+'\\nUKCA ax631a '+ukca_date.strftime('%B %Y')+' (mean) surface');\n",
    "# fig.colorbar(p1, shrink=0.4, label='pptv');"
   ]
  },
  {
   "cell_type": "code",
   "execution_count": null,
   "metadata": {},
   "outputs": [],
   "source": [
    "# # Add a cyclic point to releveled model data for plotting a map\n",
    "# cycl_rlvl_meono2, cclc_lons = cartopy.util.add_cyclic_point(cbr_meono2.data*coeff_meono2, coord=cbr_meono2.coord('longitude').points)\n",
    "# # Choose altitude\n",
    "# alt = 4"
   ]
  },
  {
   "cell_type": "code",
   "execution_count": null,
   "metadata": {},
   "outputs": [],
   "source": [
    "# # Plot flight data at all altitudes and releveled model data at a chosen altitude\n",
    "# fig, ax = plt.subplots(figsize=(6, 6), subplot_kw=dict(projection=ccrs.Robinson(central_longitude=0)), facecolor='w')\n",
    "# ax.contourf(cclc_lons, cbr_meono2.coord('latitude').points, cycl_rlvl_meono2[0,alt,...],\n",
    "#             transform=ccrs.PlateCarree(), levels=bounds_meono2, cmap='Oranges');\n",
    "# p1 = ax.scatter(sample_lons, sample_lats, c=atom_pdwas_meono2.MeONO2_WAS, \n",
    "#                 transform=ccrs.PlateCarree(), norm=norm_meono2, cmap='Oranges', edgecolors='k', linewidth=0.2);\n",
    "# # common\n",
    "# ax.coastlines();\n",
    "# ax.set_extent((-130, -100, 0, 40));\n",
    "# ax.set_title(f'{str_meono2}\\nATom '+atom_date.strftime('%d %B %Y')+'\\nUKCA ax631a '+ukca_date.strftime('%B %Y')+' (mean) {} m'.format(alt*200));\n",
    "# fig.colorbar(p1, shrink=0.4, label='ppt');"
   ]
  },
  {
   "cell_type": "markdown",
   "metadata": {},
   "source": [
    "#### Plot all flight track data as a scatter plot"
   ]
  },
  {
   "cell_type": "code",
   "execution_count": null,
   "metadata": {},
   "outputs": [],
   "source": [
    "# Find max concentration between observational and model data\n",
    "sct_max_c2h6 = max(np.nanmax(atom_pdwas_c2h6.values), np.nanmax(traj2d_cbr_c2h6.data)*coeff_c2h6*2)\n",
    "sct_max_c3h8 = max(np.nanmax(atom_pdwas_c3h8.values), np.nanmax(traj2d_cbr_c3h8.data)*coeff_c3h8*3)\n",
    "sct_max_nc4h10 = max(np.nanmax(atom_pdwas_nc4h10.values), np.nanmax(traj2d_cbr_nc4h10.data)*coeff_nc4h10)\n",
    "sct_max_nc5h12 = max(np.nanmax(atom_pdwas_nc5h12.values), np.nanmax(traj2d_cbr_nc5h12.data)*coeff_nc5h12)\n",
    "sct_max_ic5h12 = max(np.nanmax(atom_pdwas_ic5h12.values), np.nanmax(traj2d_cbr_ic5h12.data)*coeff_ic5h12)\n",
    "sct_max_meono2 = max(np.nanmax(atom_pdwas_meono2.values), np.nanmax(traj2d_cbr_meono2.data)*coeff_meono2)\n",
    "sct_max_sbuono2 = max(np.nanmax(atom_pdwas_sbuono2.values), np.nanmax(traj2d_cbr_sbuono2.data)*coeff_sbuono2)\n",
    "sct_max_n2peono2 = max(np.nanmax(atom_pdwas_n2peono2.values), np.nanmax(traj2d_cbr_n2peono2.data)*coeff_n2peono2)\n",
    "sct_max_n3peono2 = max(np.nanmax(atom_pdwas_n3peono2.values), np.nanmax(traj2d_cbr_n3peono2.data)*coeff_n3peono2)\n",
    "sct_max_ipeono2 = max(np.nanmax(atom_pdwas_ipeono2.values), np.nanmax(traj2d_cbr_ipeono2.data)*coeff_ipeono2)"
   ]
  },
  {
   "cell_type": "code",
   "execution_count": null,
   "metadata": {},
   "outputs": [],
   "source": [
    "# Plot all flight track data as a scatter plot\n",
    "fig, ax = plt.subplots(figsize=(6,5), facecolor='w')\n",
    "p0 = ax.scatter(atom_pdwas_c2h6.squeeze(), traj3d_cbr_c2h6.data.squeeze()*coeff_c2h6*2, c=atom_dsmms.G_ALT);\n",
    "ax.plot([0, sct_max_c2h6+1], [0, sct_max_c2h6+1], color='k', linestyle='--'); # 'one-to-one' line\n",
    "ax.set_title(f'{str_c2h6}, pptvC');\n",
    "ax.set_xlabel('ATom '+atom_date.strftime('%d %B %Y'))\n",
    "ax.set_ylabel(f'\\nUKCA {ukca_run_name} '+ukca_date.strftime('%B %Y')+' (mean)')\n",
    "ax.set_xlim(0, sct_max_c2h6+1);\n",
    "ax.set_ylim(0, sct_max_c2h6+1);\n",
    "fig.colorbar(p0, label='Altitude, km', format=FuncFormatter(m2km));\n",
    "if savefig:\n",
    "    fig.savefig(path_to_results / f'{ukca_run_name}_{ukca_date.strftime(\"%y%m\")}_1to1_RH_C2.png', bbox_inches='tight')"
   ]
  },
  {
   "cell_type": "code",
   "execution_count": null,
   "metadata": {},
   "outputs": [],
   "source": [
    "# Plot all flight track data as a scatter plot\n",
    "fig, ax = plt.subplots(figsize=(6,5), facecolor='w')\n",
    "p0 = ax.scatter(atom_pdwas_c3h8.squeeze(), traj3d_cbr_c3h8.data.squeeze()*coeff_c3h8*3, c=atom_dsmms.G_ALT);\n",
    "ax.plot([0, sct_max_c3h8+1], [0, sct_max_c3h8+1], color='k', linestyle='--'); # 'one-to-one' line\n",
    "ax.set_title(f'{str_c3h8}, pptvC');\n",
    "ax.set_xlabel('ATom '+atom_date.strftime('%d %B %Y'))\n",
    "ax.set_ylabel(f'\\nUKCA {ukca_run_name} '+ukca_date.strftime('%B %Y')+' (mean)')\n",
    "ax.set_xlim(0, sct_max_c3h8+1);\n",
    "ax.set_ylim(0, sct_max_c3h8+1);\n",
    "fig.colorbar(p0, label='Altitude, km', format=FuncFormatter(m2km));\n",
    "if savefig:\n",
    "    fig.savefig(path_to_results / f'{ukca_run_name}_{ukca_date.strftime(\"%y%m\")}_1to1_RH_C3.png', bbox_inches='tight')"
   ]
  },
  {
   "cell_type": "code",
   "execution_count": null,
   "metadata": {},
   "outputs": [],
   "source": [
    "# Plot all flight track data as a scatter plot\n",
    "fig, ax = plt.subplots(figsize=(6,5), facecolor='w')\n",
    "p0 = ax.scatter(atom_pdwas_nc4h10.squeeze(), traj3d_cbr_nc4h10.data.squeeze()*coeff_nc4h10, c=atom_dsmms.G_ALT);\n",
    "ax.plot([0, sct_max_nc4h10+1], [0, sct_max_nc4h10+1], color='k', linestyle='--'); # 'one-to-one' line\n",
    "ax.set_title(f'{str_nc4h10}, pptv');\n",
    "ax.set_xlabel('ATom '+atom_date.strftime('%d %B %Y'))\n",
    "ax.set_ylabel(f'\\nUKCA {ukca_run_name} '+ukca_date.strftime('%B %Y')+' (mean)')\n",
    "ax.set_xlim(0, sct_max_nc4h10+1);\n",
    "ax.set_ylim(0, sct_max_nc4h10+1);\n",
    "fig.colorbar(p0, label='Altitude, km', format=FuncFormatter(m2km));\n",
    "if savefig:\n",
    "    fig.savefig(path_to_results / f'{ukca_run_name}_{ukca_date.strftime(\"%y%m\")}_1to1_RH_C4n.png', bbox_inches='tight')"
   ]
  },
  {
   "cell_type": "code",
   "execution_count": null,
   "metadata": {},
   "outputs": [],
   "source": [
    "# Plot all flight track data as a scatter plot\n",
    "fig, ax = plt.subplots(figsize=(6,5), facecolor='w')\n",
    "p0 = ax.scatter(atom_pdwas_nc5h12.squeeze(), traj3d_cbr_nc5h12.data.squeeze()*coeff_nc5h12, c=atom_dsmms.G_ALT);\n",
    "ax.plot([0, sct_max_nc5h12+1], [0, sct_max_nc5h12+1], color='k', linestyle='--'); # 'one-to-one' line\n",
    "ax.set_title(f'{str_nc5h12}, pptv');\n",
    "ax.set_xlabel('ATom '+atom_date.strftime('%d %B %Y'))\n",
    "ax.set_ylabel(f'\\nUKCA {ukca_run_name} '+ukca_date.strftime('%B %Y')+' (mean)')\n",
    "ax.set_xlim(0, sct_max_nc5h12+1);\n",
    "ax.set_ylim(0, sct_max_nc5h12+1);\n",
    "fig.colorbar(p0, label='Altitude, km', format=FuncFormatter(m2km));\n",
    "if savefig:\n",
    "    fig.savefig(path_to_results / f'{ukca_run_name}_{ukca_date.strftime(\"%y%m\")}_1to1_RH_C5n.png', bbox_inches='tight')"
   ]
  },
  {
   "cell_type": "code",
   "execution_count": null,
   "metadata": {},
   "outputs": [],
   "source": [
    "# Plot all flight track data as a scatter plot\n",
    "fig, ax = plt.subplots(figsize=(6,5), facecolor='w')\n",
    "p0 = ax.scatter(atom_pdwas_ic5h12.squeeze(), traj3d_cbr_ic5h12.data.squeeze()*coeff_ic5h12, c=atom_dsmms.G_ALT);\n",
    "ax.plot([0, sct_max_ic5h12+1], [0, sct_max_ic5h12+1], color='k', linestyle='--'); # 'one-to-one' line\n",
    "ax.set_title(f'{str_ic5h12}, pptv');\n",
    "ax.set_xlabel('ATom '+atom_date.strftime('%d %B %Y'))\n",
    "ax.set_ylabel(f'\\nUKCA {ukca_run_name} '+ukca_date.strftime('%B %Y')+' (mean)')\n",
    "ax.set_xlim(0, sct_max_ic5h12+1);\n",
    "ax.set_ylim(0, sct_max_ic5h12+1);\n",
    "fig.colorbar(p0, label='Altitude, km', format=FuncFormatter(m2km));\n",
    "if savefig:\n",
    "    fig.savefig(path_to_results / f'{ukca_run_name}_{ukca_date.strftime(\"%y%m\")}_1to1_RH_C5i.png', bbox_inches='tight')"
   ]
  },
  {
   "cell_type": "code",
   "execution_count": null,
   "metadata": {},
   "outputs": [],
   "source": [
    "# Plot all flight track data as a scatter plot\n",
    "fig, ax = plt.subplots(figsize=(6,5), facecolor='w')\n",
    "p0 = ax.scatter(atom_pdwas_meono2.squeeze(), traj3d_cbr_meono2.data.squeeze()*coeff_meono2, c=atom_dsmms.G_ALT);\n",
    "ax.plot([0, sct_max_meono2+1], [0, sct_max_meono2+1], color='k', linestyle='--'); # 'one-to-one' line\n",
    "ax.set_title(f'{str_meono2}, pptv');\n",
    "ax.set_xlabel('ATom '+atom_date.strftime('%d %B %Y'))\n",
    "ax.set_ylabel(f'\\nUKCA {ukca_run_name} '+ukca_date.strftime('%B %Y')+' (mean)')\n",
    "ax.set_xlim(0, sct_max_meono2+1);\n",
    "ax.set_ylim(0, sct_max_meono2+1);\n",
    "fig.colorbar(p0, label='Altitude, km', format=FuncFormatter(m2km));\n",
    "if savefig:\n",
    "    fig.savefig(path_to_results / f'{ukca_run_name}_{ukca_date.strftime(\"%y%m\")}_1to1_RONO2_C1.png', bbox_inches='tight')"
   ]
  },
  {
   "cell_type": "code",
   "execution_count": null,
   "metadata": {},
   "outputs": [],
   "source": [
    "# Plot all flight track data as a scatter plot\n",
    "fig, ax = plt.subplots(figsize=(6,5), facecolor='w')\n",
    "p0 = ax.scatter(atom_pdwas_sbuono2.squeeze(), traj3d_cbr_sbuono2.data.squeeze()*coeff_sbuono2, c=atom_dsmms.G_ALT);\n",
    "ax.plot([0, sct_max_sbuono2+1], [0, sct_max_sbuono2+1], color='k', linestyle='--'); # 'one-to-one' line\n",
    "ax.set_title(f'{str_sbuono2}, pptv');\n",
    "ax.set_xlabel('ATom '+atom_date.strftime('%d %B %Y'))\n",
    "ax.set_ylabel(f'\\nUKCA {ukca_run_name} '+ukca_date.strftime('%B %Y')+' (mean)')\n",
    "ax.set_xlim(0, sct_max_sbuono2+1);\n",
    "ax.set_ylim(0, sct_max_sbuono2+1);\n",
    "fig.colorbar(p0, label='Altitude, km', format=FuncFormatter(m2km));\n",
    "if savefig:\n",
    "    fig.savefig(path_to_results / f'{ukca_run_name}_{ukca_date.strftime(\"%y%m\")}_1to1_RONO2_C4s.png', bbox_inches='tight')"
   ]
  },
  {
   "cell_type": "code",
   "execution_count": null,
   "metadata": {},
   "outputs": [],
   "source": [
    "# Plot all flight track data as a scatter plot\n",
    "fig, ax = plt.subplots(figsize=(6,5), facecolor='w')\n",
    "p0 = ax.scatter(atom_pdwas_n2peono2.squeeze(), traj3d_cbr_n2peono2.data.squeeze()*coeff_n2peono2, c=atom_dsmms.G_ALT);\n",
    "ax.plot([0, sct_max_n2peono2+1], [0, sct_max_n2peono2+1], color='k', linestyle='--'); # 'one-to-one' line\n",
    "ax.set_title(f'{str_n2peono2}, pptv');\n",
    "ax.set_xlabel('ATom '+atom_date.strftime('%d %B %Y'))\n",
    "ax.set_ylabel(f'\\nUKCA {ukca_run_name} '+ukca_date.strftime('%B %Y')+' (mean)')\n",
    "ax.set_xlim(0, sct_max_n2peono2+1);\n",
    "ax.set_ylim(0, sct_max_n2peono2+1);\n",
    "fig.colorbar(p0, label='Altitude, km', format=FuncFormatter(m2km));\n",
    "if savefig:\n",
    "    fig.savefig(path_to_results / f'{ukca_run_name}_{ukca_date.strftime(\"%y%m\")}_1to1_RONO2_C5nB.png', bbox_inches='tight')"
   ]
  },
  {
   "cell_type": "code",
   "execution_count": null,
   "metadata": {},
   "outputs": [],
   "source": [
    "# Plot all flight track data as a scatter plot\n",
    "fig, ax = plt.subplots(figsize=(6,5), facecolor='w')\n",
    "p0 = ax.scatter(atom_pdwas_n3peono2.squeeze(), traj3d_cbr_n3peono2.data.squeeze()*coeff_n3peono2, c=atom_dsmms.G_ALT);\n",
    "ax.plot([0, sct_max_n3peono2+1], [0, sct_max_n3peono2+1], color='k', linestyle='--'); # 'one-to-one' line\n",
    "ax.set_title(f'{str_n3peono2}, pptv');\n",
    "ax.set_xlabel('ATom '+atom_date.strftime('%d %B %Y'))\n",
    "ax.set_ylabel(f'\\nUKCA {ukca_run_name} '+ukca_date.strftime('%B %Y')+' (mean)')\n",
    "ax.set_xlim(0, sct_max_n3peono2+1);\n",
    "ax.set_ylim(0, sct_max_n3peono2+1);\n",
    "fig.colorbar(p0, label='Altitude, km', format=FuncFormatter(m2km));\n",
    "if savefig:\n",
    "    fig.savefig(path_to_results / f'{ukca_run_name}_{ukca_date.strftime(\"%y%m\")}_1to1_RONO2_C5nC.png', bbox_inches='tight')"
   ]
  },
  {
   "cell_type": "code",
   "execution_count": null,
   "metadata": {},
   "outputs": [],
   "source": [
    "# Plot all flight track data as a scatter plot\n",
    "fig, ax = plt.subplots(figsize=(6,5), facecolor='w')\n",
    "p0 = ax.scatter(atom_pdwas_ipeono2.squeeze(), traj3d_cbr_ipeono2.data.squeeze()*coeff_ipeono2, c=atom_dsmms.G_ALT);\n",
    "ax.plot([0, sct_max_ipeono2+1], [0, sct_max_ipeono2+1], color='k', linestyle='--'); # 'one-to-one' line\n",
    "ax.set_title(f'{str_ipeono2}, pptv');\n",
    "ax.set_xlabel('ATom '+atom_date.strftime('%d %B %Y'))\n",
    "ax.set_ylabel(f'\\nUKCA {ukca_run_name} '+ukca_date.strftime('%B %Y')+' (mean)')\n",
    "ax.set_xlim(0, sct_max_ipeono2+1);\n",
    "ax.set_ylim(0, sct_max_ipeono2+1);\n",
    "fig.colorbar(p0, label='Altitude, km', format=FuncFormatter(m2km));\n",
    "if savefig:\n",
    "    fig.savefig(path_to_results / f'{ukca_run_name}_{ukca_date.strftime(\"%y%m\")}_1to1_RONO2_C5i.png', bbox_inches='tight')"
   ]
  },
  {
   "cell_type": "code",
   "execution_count": null,
   "metadata": {},
   "outputs": [],
   "source": [
    "break"
   ]
  },
  {
   "cell_type": "markdown",
   "metadata": {},
   "source": [
    "#### Vertical profile along flight track"
   ]
  },
  {
   "cell_type": "code",
   "execution_count": null,
   "metadata": {},
   "outputs": [],
   "source": [
    "# Choose bins\n",
    "alt_bins = np.arange(0, 14000, 500)\n",
    "alt_mod_bin_inds = np.arange(0, len(alt_bins), 1)\n",
    "alt_obs_bin_inds = np.digitize(atom_dsmms.G_ALT.data, alt_bins)\n",
    "# Bin observational data\n",
    "obs_meono2_bin_mean = atom_pdwas_meono2.groupby(alt_obs_bin_inds).mean().reindex(index=alt_mod_bin_inds, fill_value=np.nan)\n",
    "obs_meono2_bin_min = atom_pdwas_meono2.groupby(alt_obs_bin_inds).min().reindex(index=alt_mod_bin_inds, fill_value=np.nan)\n",
    "obs_meono2_bin_max = atom_pdwas_meono2.groupby(alt_obs_bin_inds).max().reindex(index=alt_mod_bin_inds, fill_value=np.nan)\n",
    "# Convert iris cube with model data to pandas dataframe\n",
    "traj_cbr2pd_meono2 = traj3d_cbr_meono2.copy()\n",
    "traj_cbr2pd_meono2.remove_coord('t')\n",
    "traj_cbr2pd_meono2.remove_coord('longitude')\n",
    "traj_cbr2pd_meono2.remove_coord('latitude')\n",
    "traj_pd_meono2 = iris.pandas.as_data_frame(traj_cbr2pd_meono2).T\n",
    "# Bin model data\n",
    "mod_meono2_bin_mean = traj_pd_meono2.groupby(alt_obs_bin_inds).mean().reindex(index=alt_mod_bin_inds, fill_value=np.nan)\n",
    "mod_meono2_bin_min = traj_pd_meono2.groupby(alt_obs_bin_inds).min().reindex(index=alt_mod_bin_inds, fill_value=np.nan)\n",
    "mod_meono2_bin_max = traj_pd_meono2.groupby(alt_obs_bin_inds).max().reindex(index=alt_mod_bin_inds, fill_value=np.nan)"
   ]
  },
  {
   "cell_type": "code",
   "execution_count": null,
   "metadata": {},
   "outputs": [],
   "source": [
    "# for cube in cubes:\n",
    "#     for i in ('t', 'longitude', 'latitude'):\n",
    "#         cube.remove_coord(i)"
   ]
  },
  {
   "cell_type": "code",
   "execution_count": null,
   "metadata": {},
   "outputs": [],
   "source": [
    "# Plot vertical profile along flight track\n",
    "fig, ax = plt.subplots(figsize=(7, 7), facecolor='w')\n",
    "ax.plot(obs_meono2_bin_mean, alt_bins, color='k');\n",
    "ax.barh(alt_bins, obs_meono2_bin_max.MeONO2_WAS-obs_meono2_bin_min.MeONO2_WAS, left=obs_meono2_bin_min.MeONO2_WAS,\n",
    "        height=200, align='center', color='k', alpha=0.7);\n",
    "ax.plot(mod_meono2_bin_mean*coeff_meono2, alt_bins, color='r');\n",
    "ax.barh(alt_bins, (mod_meono2_bin_max[0]-mod_meono2_bin_min[0])*coeff_meono2, left=mod_meono2_bin_min[0]*coeff_meono2, \n",
    "        height=200, align='center', color='r', alpha=0.7);\n",
    "# common\n",
    "ax.set_title(f'{str_meono2}, pptv');\n",
    "# ax.set_xlabel(f'{str_meono2}, pptv');\n",
    "ax.set_ylabel('Altitude, km');\n",
    "ax.set_ylim(-200,13500);\n",
    "ax.set_yticks(alt_bins);\n",
    "ax.set_yticklabels(map(int,(alt_bins/1000)));\n",
    "ax.legend(['ATom '+atom_date.strftime('%d %B %Y'), 'UKCA ax631a '+ukca_date.strftime('%B %Y')+' (mean)']);\n",
    "for ytcklbl in ax.yaxis.get_ticklabels()[1::2]:\n",
    "    ytcklbl.set_visible(False)"
   ]
  },
  {
   "cell_type": "code",
   "execution_count": null,
   "metadata": {},
   "outputs": [],
   "source": [
    "# # Useful reference code\n",
    "# from cf_units import Unit\n",
    "# # Correct hybrid_height units from 'unknown' to 'm'\n",
    "# cb_meono2.coord('Hybrid height').units = Unit('m')\n",
    "# # Add surface_altitude coordinate to the cube\n",
    "# new_coord = iris.coords.AuxCoord(cb_srf_alt.data, standard_name='surface_altitude', units='m')\n",
    "# cb_meono2.add_aux_coord(new_coord, data_dims=[2, 3])\n",
    "# # Derive altitude coordinate from surface_altitude\n",
    "# factory = iris.aux_factory.HybridHeightFactory(delta=cb_meono2.coord('Hybrid height'), \n",
    "#                                                orography=cb_meono2.coord('surface_altitude'))\n",
    "# cb_meono2.add_aux_factory(factory)\n",
    "# # Relevel model data from hybrid_height to target levels (called here height)\n",
    "# tgt_levels = np.arange(0, 14000, 100)\n",
    "# height_coord = cb_meono2.coord('altitude').copy() # avoid duplication of coordinate names\n",
    "# height_coord.rename('height')\n",
    "# src_levels = height_coord\n",
    "\n",
    "# cbr_meono2 = stratify.relevel(cb_meono2, src_levels, tgt_levels, axis='Hybrid height')"
   ]
  },
  {
   "cell_type": "code",
   "execution_count": null,
   "metadata": {
    "nbpresent": {
     "id": "4d33882b-bc90-4f11-87b4-6bde101d2bc4"
    }
   },
   "outputs": [],
   "source": [
    "# UKCA diagnostic (nudged) runs variable names\n",
    "# field2101 O3 MASS MIXING RATIO AFTER TIMESTEP\n",
    "# field2181 OH MASS MIXING RATIO AFTER TIMESTEP\n",
    "# field2182 HO2 MASS MIXING RATIO AFTER TIMESTEP\n",
    "\n",
    "# field2102 NO MASS MIXING RATIO AFTER TIMESTEP\n",
    "# field2110 CO MASS MIXING RATIO AFTER TSTEP\n",
    "# field2109 CH4 MASS MIXING RATIO AFTER TSTEP\n",
    "# field2114 C2H6 MASS MIXING RATIO AFTER TSTEP\n",
    "# field2118 C3H8 MASS MIXING RATIO AFTER TSTEP\n",
    "# field2273 n-C4H10 MASS MIXING RATIO AFTER TS\n",
    "# field2274 i-C4H10 MASS MIXING RATIO AFTER TS\n",
    "# field2275 n-C5H12 MASS MIXING RATIO AFTER TS\n",
    "# field2276 i-C5H12 MASS MIXING RATIO AFTER TS\n",
    "\n",
    "# field2125 MeONO2 MASS MIXING RATIO AFTER TSTEP\n",
    "# field2287 n-BuONO2 MASS MIXING RATIO AFTER TS\n",
    "# field2288 s-BuONO2 MASS MIXING RATIO AFTER TS\n",
    "# field2289 n-2PeONO2 MASS MIXING RATIO AFTER TS\n",
    "# field2290 n-3PeONO2 MASS MIXING RATIO AFTER TS\n",
    "# field2291 i-PeONO2 MASS MIXING RATIO AFTER TS\n",
    "\n",
    "# field2164 IDT1 MASS MIXING RATIO AFTER TS global 5 day\n",
    "# field2165 IDT2 MASS MIXING RATIO AFTER TS global 30 day\n",
    "# field2165_13 IDT19 MASS MIXING RATIO AFTER TS N America 5 day\n",
    "# field2165_14 IDT20 MASS MIXING RATIO AFTER TS N America 30 day\n",
    "# field2165_17 IDT23 MASS MIXING RATIO AFTER TS Europe 5 day\n",
    "# field2165_18 IDT24 MASS MIXING RATIO AFTER TS Europe 30 day\n",
    "# field2165_19 IDT25 MASS MIXING RATIO AFTER TS N Africa 5 day\n",
    "# field2165_20 IDT26 MASS MIXING RATIO AFTER TS N Africa 30 day"
   ]
  }
 ],
 "metadata": {
  "anaconda-cloud": {},
  "kernelspec": {
   "display_name": "Python 3",
   "language": "python",
   "name": "python3"
  },
  "language_info": {
   "codemirror_mode": {
    "name": "ipython",
    "version": 3
   },
   "file_extension": ".py",
   "mimetype": "text/x-python",
   "name": "python",
   "nbconvert_exporter": "python",
   "pygments_lexer": "ipython3",
   "version": "3.6.5"
  }
 },
 "nbformat": 4,
 "nbformat_minor": 2
}
