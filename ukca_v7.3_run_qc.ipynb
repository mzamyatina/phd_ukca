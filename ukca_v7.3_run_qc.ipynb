{
 "cells": [
  {
   "cell_type": "code",
   "execution_count": 1,
   "metadata": {},
   "outputs": [],
   "source": [
    "import numpy as np\n",
    "import iris\n",
    "import iris.coord_categorisation\n",
    "import matplotlib.pyplot as plt\n",
    "import datetime\n",
    "import pandas as pd\n",
    "from pandas.plotting import register_matplotlib_converters\n",
    "register_matplotlib_converters() # for tstamps\n",
    "from pathlib import Path\n",
    "plt.rcParams['mathtext.default'] = 'regular'"
   ]
  },
  {
   "cell_type": "code",
   "execution_count": 2,
   "metadata": {},
   "outputs": [
    {
     "name": "stderr",
     "output_type": "stream",
     "text": [
      "/local/mwe14avu/anaconda3/lib/python3.6/site-packages/iris/fileformats/rules.py:334: UserWarning: Unable to create instance of HybridHeightFactory. The source data contains no field(s) for 'orography'.\n",
      "  warnings.warn(msg.format(factory=factory_name))\n",
      "/local/mwe14avu/anaconda3/lib/python3.6/site-packages/iris/fileformats/_pyke_rules/compiled_krb/fc_rules_cf_fc.py:1932: UserWarning: Ignoring netCDF variable 't' invalid units 'months since 0000-00-00 00:00:00 +00:00'\n",
      "  warnings.warn(msg)\n",
      "/local/mwe14avu/anaconda3/lib/python3.6/site-packages/iris/fileformats/_pyke_rules/compiled_krb/fc_rules_cf_fc.py:1932: UserWarning: Ignoring netCDF variable 't' invalid units 'months since 0000-00-00 00:00:00 +00:00'\n",
      "  warnings.warn(msg)\n",
      "/local/mwe14avu/anaconda3/lib/python3.6/site-packages/iris/fileformats/_pyke_rules/compiled_krb/fc_rules_cf_fc.py:1932: UserWarning: Ignoring netCDF variable 't' invalid units 'months since 0000-00-00 00:00:00 +00:00'\n",
      "  warnings.warn(msg)\n"
     ]
    }
   ],
   "source": [
    "# Choose experiment\n",
    "exp = 'xmeka'\n",
    "path_to_ukca = Path(f'../data/{exp}')\n",
    "# Load data\n",
    "o3 = iris.load_cube(str(path_to_ukca / f'{exp}_check.pp'), 'mass_fraction_of_ozone_in_air') # [kg kg-1]\n",
    "oh = iris.load_cube(str(path_to_ukca / f'{exp}_check.pp'), 'mass_fraction_of_hydroxyl_radical_in_air') # [kg kg-1]\n",
    "ch4 = iris.load_cube(str(path_to_ukca / f'{exp}_check.pp'), 'mass_fraction_of_methane_in_air') # [kg kg-1]\n",
    "temp = iris.load_cube(str(path_to_ukca / f'{exp}_check.pp'), 'air_temperature') # [K]\n",
    "air_mass = iris.load_cube(str(path_to_ukca / f'{exp}_check.pp'), iris.AttributeConstraint(STASH='m01s34i363')) # air mass [kg]\n",
    "trop_mask = iris.load_cube(str(path_to_ukca / f'{exp}_check.pp'), iris.AttributeConstraint(STASH='m01s34i362')) # tropospheric mask fraction [no units]\n",
    "gridbox_vol = iris.load_cube(str(path_to_ukca.parent / 'ukca_n48_l60_geovol.nc'), 'vol_theta') # UKCA grid box volume [m3]\n",
    "# Path to figures\n",
    "path_to_figs = Path('../../../results') / exp / 'metrics'\n",
    "path_to_figs.mkdir(exist_ok=True)"
   ]
  },
  {
   "cell_type": "code",
   "execution_count": 3,
   "metadata": {},
   "outputs": [
    {
     "data": {
      "text/plain": [
       "AuxCoord(array(['Dec', 'Jan', 'Feb', 'Mar', 'Apr', 'May', 'Jun', 'Jul', 'Aug',\n",
       "       'Sep', 'Oct', 'Nov', 'Dec', 'Jan', 'Feb', 'Mar', 'Apr', 'May',\n",
       "       'Jun', 'Jul', 'Aug', 'Sep', 'Oct', 'Nov', 'Dec', 'Jan', 'Feb',\n",
       "       'Mar', 'Apr', 'May', 'Jun', 'Jul', 'Aug', 'Sep', 'Oct', 'Nov',\n",
       "       'Dec', 'Jan', 'Feb', 'Mar', 'Apr', 'May', 'Jun', 'Jul', 'Aug',\n",
       "       'Sep', 'Oct', 'Nov', 'Dec', 'Jan', 'Feb', 'Mar', 'Apr', 'May',\n",
       "       'Jun', 'Jul', 'Aug', 'Sep', 'Oct', 'Nov'], dtype='<U64'), standard_name=None, units=Unit('no_unit'), long_name='month')"
      ]
     },
     "execution_count": 3,
     "metadata": {},
     "output_type": "execute_result"
    }
   ],
   "source": [
    "# Specify variable units using info from the documentation\n",
    "air_mass.units = 'kg'\n",
    "trop_mask.units = '1'\n",
    "gridbox_vol.units = 'm3'\n",
    "# Check if Dec is the first month\n",
    "cb = o3.copy()\n",
    "n_yrs = int(cb.coord('time').points.shape[0]/12) # count number of years, year starts from Dec!\n",
    "iris.coord_categorisation.add_year(cb, 'time', name='year')\n",
    "iris.coord_categorisation.add_month(cb, 'time', name='month')\n",
    "cb.coord('month')"
   ]
  },
  {
   "cell_type": "code",
   "execution_count": 4,
   "metadata": {},
   "outputs": [],
   "source": [
    "# Create datetime coordinate for plotting\n",
    "tstamp0 = datetime.datetime.strptime(f\"{cb.coord('year').points[0]} \"+cb.coord('month').points[0], \"%Y %b\")\n",
    "tstamp1 = datetime.datetime.strptime(f\"{cb.coord('year').points[-1]} \"+cb.coord('month').points[-1], \"%Y %b\")\n",
    "tstamps = pd.date_range(tstamp0, tstamp1, freq='MS')"
   ]
  },
  {
   "cell_type": "markdown",
   "metadata": {},
   "source": [
    "#### Tropospheric O3 burden"
   ]
  },
  {
   "cell_type": "code",
   "execution_count": 5,
   "metadata": {},
   "outputs": [
    {
     "name": "stderr",
     "output_type": "stream",
     "text": [
      "/local/mwe14avu/anaconda3/lib/python3.6/site-packages/iris/cube.py:3180: UserWarning: Collapsing spatial coordinate 'latitude' without weighting\n",
      "  warnings.warn(msg.format(coord.name()))\n",
      "/local/mwe14avu/anaconda3/lib/python3.6/site-packages/iris/coords.py:1355: UserWarning: Collapsing a non-contiguous coordinate. Metadata may not be fully descriptive for 'model_level_number'.\n",
      "  warnings.warn(msg.format(self.name()))\n",
      "/local/mwe14avu/anaconda3/lib/python3.6/site-packages/iris/coords.py:1355: UserWarning: Collapsing a non-contiguous coordinate. Metadata may not be fully descriptive for 'latitude'.\n",
      "  warnings.warn(msg.format(self.name()))\n",
      "/local/mwe14avu/anaconda3/lib/python3.6/site-packages/iris/coords.py:1355: UserWarning: Collapsing a non-contiguous coordinate. Metadata may not be fully descriptive for 'longitude'.\n",
      "  warnings.warn(msg.format(self.name()))\n"
     ]
    },
    {
     "name": "stdout",
     "output_type": "stream",
     "text": [
      "251.06±4.45 Tg\n"
     ]
    }
   ],
   "source": [
    "# Calculate O3 burden per month\n",
    "o3_burden = (o3*air_mass*trop_mask).collapsed(['latitude', 'longitude', 'level_height'], iris.analysis.SUM)\n",
    "o3_burden.convert_units('Tg')\n",
    "# Calculate annual mean O3 burden\n",
    "o3_burden_annual_mean = o3_burden.data.reshape(n_yrs,12).mean(axis=1)\n",
    "print(f'{np.mean(o3_burden_annual_mean.data):1.2f}\\u00B1{np.std(o3_burden_annual_mean.data):1.2f} Tg')"
   ]
  },
  {
   "cell_type": "code",
   "execution_count": 6,
   "metadata": {},
   "outputs": [
    {
     "data": {
      "image/png": "[encoded data removed]",
      "text/plain": [
       "<Figure size 432x288 with 1 Axes>"
      ]
     },
     "metadata": {
      "needs_background": "light"
     },
     "output_type": "display_data"
    }
   ],
   "source": [
    "fig, ax = plt.subplots()\n",
    "ax.plot(tstamps, o3_burden.data)\n",
    "ax.set_title('Tropospheric $O_3$ burden')\n",
    "ax.set_xlabel('Time, yr')\n",
    "ax.set_ylabel('Tg')\n",
    "# Format xticklabels\n",
    "plt.draw() # force ticklabels to be generated\n",
    "new_labels = [int(i.get_text())-cb.coord('year').points[0] for i in ax.get_xticklabels(which='both')]\n",
    "ax.set_xticklabels(new_labels);\n",
    "fig.savefig(path_to_figs / f'{exp}_o3_burden.png')"
   ]
  },
  {
   "cell_type": "markdown",
   "metadata": {},
   "source": [
    "#### Tropospheric CH4 burden"
   ]
  },
  {
   "cell_type": "code",
   "execution_count": 7,
   "metadata": {},
   "outputs": [
    {
     "name": "stdout",
     "output_type": "stream",
     "text": [
      "3989.58±41.00 Tg\n"
     ]
    }
   ],
   "source": [
    "# Calculate CH4 burden per month\n",
    "ch4_burden = (ch4*air_mass*trop_mask).collapsed(['latitude', 'longitude', 'level_height'], iris.analysis.SUM)\n",
    "ch4_burden.convert_units('Tg')\n",
    "# Calculate annual mean CH4 burden\n",
    "ch4_burden_annual_mean = ch4_burden.data.reshape(n_yrs,12).mean(axis=1)\n",
    "print(f'{np.mean(ch4_burden_annual_mean.data):1.2f}\\u00B1{np.std(ch4_burden_annual_mean.data):1.2f} Tg')"
   ]
  },
  {
   "cell_type": "code",
   "execution_count": 8,
   "metadata": {},
   "outputs": [
    {
     "data": {
      "image/png": "[encoded data removed]",
      "text/plain": [
       "<Figure size 432x288 with 1 Axes>"
      ]
     },
     "metadata": {
      "needs_background": "light"
     },
     "output_type": "display_data"
    }
   ],
   "source": [
    "fig, ax = plt.subplots()\n",
    "ax.plot(tstamps, ch4_burden.data);\n",
    "ax.set_title('Tropospheric $CH_4$ burden')\n",
    "ax.set_xlabel('Time, yr')\n",
    "ax.set_ylabel('Tg')\n",
    "# Format xticklabels\n",
    "plt.draw() # force ticklabels to be generated\n",
    "new_labels = [int(i.get_text())-cb.coord('year').points[0] for i in ax.get_xticklabels(which='both')]\n",
    "ax.set_xticklabels(new_labels);\n",
    "fig.savefig(path_to_figs / f'{exp}_ch4_burden.png')"
   ]
  },
  {
   "cell_type": "markdown",
   "metadata": {},
   "source": [
    "#### CH4 lifetime"
   ]
  },
  {
   "cell_type": "code",
   "execution_count": 9,
   "metadata": {},
   "outputs": [],
   "source": [
    "# Constants\n",
    "k_ch4_oh = temp.copy(data=1.85e-12*np.exp(-1690/temp.data))\n",
    "k_ch4_oh.rename('CH4+OH reaction rate coefficient')\n",
    "k_ch4_oh.units='cm3 s-1'\n",
    "molar_mass_oh = iris.coords.AuxCoord(17.007, units='g mol-1')\n",
    "molar_mass_ch4 = iris.coords.AuxCoord(16.0425, units='g mol-1')\n",
    "avogadro_number = iris.coords.AuxCoord(6.022*1e23, units='mol-1', long_name='avogadro_number')"
   ]
  },
  {
   "cell_type": "code",
   "execution_count": 10,
   "metadata": {},
   "outputs": [],
   "source": [
    "# Find number of OH and CH4 molecules per grid box in the troposphere (tropospheric burden in molecules, not kg)\n",
    "oh_molecules_per_gridbox = oh * air_mass * trop_mask / molar_mass_oh * avogadro_number\n",
    "ch4_molecules_per_gridbox = ch4 * air_mass * trop_mask / molar_mass_ch4 * avogadro_number"
   ]
  },
  {
   "cell_type": "code",
   "execution_count": 11,
   "metadata": {},
   "outputs": [],
   "source": [
    "## Prepare gridbox_vol cube for later multiplication by oh_molecules_per_gridbox cube\n",
    "# Get rid of time coordinate\n",
    "gridbox_vol = iris.util.squeeze(gridbox_vol) \n",
    "gridbox_vol.remove_coord('t')\n",
    "# Copy oh_molecules_per_gridbox metadata to gridbox_vol cube\n",
    "_var_name, _units = gridbox_vol.var_name, gridbox_vol.units\n",
    "gridbox_vol = oh_molecules_per_gridbox[0, ...].copy(data=gridbox_vol.data)\n",
    "gridbox_vol.rename(_var_name)\n",
    "gridbox_vol.units = _units\n",
    "gridbox_vol.remove_coord('forecast_reference_time')"
   ]
  },
  {
   "cell_type": "code",
   "execution_count": 12,
   "metadata": {},
   "outputs": [],
   "source": [
    "# Calculate CH4 loss in molecules s-1\n",
    "loss_ch4_oh = k_ch4_oh * ch4_molecules_per_gridbox * oh_molecules_per_gridbox / gridbox_vol"
   ]
  },
  {
   "cell_type": "code",
   "execution_count": 13,
   "metadata": {},
   "outputs": [
    {
     "name": "stderr",
     "output_type": "stream",
     "text": [
      "/local/mwe14avu/anaconda3/lib/python3.6/site-packages/iris/cube.py:3180: UserWarning: Collapsing spatial coordinate 'latitude' without weighting\n",
      "  warnings.warn(msg.format(coord.name()))\n",
      "/local/mwe14avu/anaconda3/lib/python3.6/site-packages/iris/coords.py:1355: UserWarning: Collapsing a non-contiguous coordinate. Metadata may not be fully descriptive for 'model_level_number'.\n",
      "  warnings.warn(msg.format(self.name()))\n",
      "/local/mwe14avu/anaconda3/lib/python3.6/site-packages/iris/coords.py:1355: UserWarning: Collapsing a non-contiguous coordinate. Metadata may not be fully descriptive for 'latitude'.\n",
      "  warnings.warn(msg.format(self.name()))\n",
      "/local/mwe14avu/anaconda3/lib/python3.6/site-packages/iris/coords.py:1355: UserWarning: Collapsing a non-contiguous coordinate. Metadata may not be fully descriptive for 'longitude'.\n",
      "  warnings.warn(msg.format(self.name()))\n"
     ]
    },
    {
     "name": "stdout",
     "output_type": "stream",
     "text": [
      "8.39±0.15 yr\n"
     ]
    }
   ],
   "source": [
    "# Calculate CH4 lifetime\n",
    "volume_sum = (['latitude', 'longitude', 'level_height'], iris.analysis.SUM)\n",
    "ch4_lifetime = ch4_molecules_per_gridbox.collapsed(*volume_sum) / loss_ch4_oh.collapsed(*volume_sum)\n",
    "ch4_lifetime.convert_units('360 day')\n",
    "# Calculate annual mean CH4 lifetime\n",
    "ch4_lifetime_annual_mean = ch4_lifetime.data.reshape(n_yrs,12).mean(axis=1)\n",
    "print(f'{np.mean(ch4_lifetime_annual_mean.data):1.2f}\\u00B1{np.std(ch4_lifetime_annual_mean.data):1.2f} yr')"
   ]
  },
  {
   "cell_type": "code",
   "execution_count": 14,
   "metadata": {},
   "outputs": [
    {
     "data": {
      "image/png": "[encoded data removed]",
      "text/plain": [
       "<Figure size 432x288 with 1 Axes>"
      ]
     },
     "metadata": {
      "needs_background": "light"
     },
     "output_type": "display_data"
    }
   ],
   "source": [
    "fig, ax = plt.subplots()\n",
    "ax.plot(tstamps, ch4_lifetime.data);\n",
    "ax.set_title('Tropospheric $CH_4$ lifetime')\n",
    "ax.set_xlabel('Time, yr')\n",
    "ax.set_ylabel('yr')\n",
    "# Format xticklabels\n",
    "plt.draw() # force ticklabels to be generated\n",
    "new_labels = [int(i.get_text())-cb.coord('year').points[0] for i in ax.get_xticklabels(which='both')]\n",
    "ax.set_xticklabels(new_labels);\n",
    "fig.savefig(path_to_figs / f'{exp}_ch4_lifetime.png');"
   ]
  },
  {
   "cell_type": "markdown",
   "metadata": {},
   "source": [
    "#### NH/SH air mass averaged tropospheric OH ratio"
   ]
  },
  {
   "cell_type": "code",
   "execution_count": 15,
   "metadata": {},
   "outputs": [],
   "source": [
    "# Calculate OH in molecules per cm3\n",
    "oh_molecules_per_cm3 = oh_molecules_per_gridbox/gridbox_vol\n",
    "oh_molecules_per_cm3.convert_units('cm-3')"
   ]
  },
  {
   "cell_type": "code",
   "execution_count": 16,
   "metadata": {},
   "outputs": [],
   "source": [
    "# Weight OH in each hemisphere by mass of air in each hemisphere\n",
    "nh_constraint = iris.Constraint(latitude=lambda x: x>=0)\n",
    "sh_constraint = iris.Constraint(latitude=lambda x: x<=0)\n",
    "averaging_args = (['longitude', 'latitude', 'level_height'], iris.analysis.MEAN)\n",
    "oh_nh = (oh_molecules_per_cm3*air_mass).extract(nh_constraint).collapsed(*averaging_args)/air_mass.extract(nh_constraint).collapsed(*averaging_args)\n",
    "oh_sh = (oh_molecules_per_cm3*air_mass).extract(sh_constraint).collapsed(*averaging_args)/air_mass.extract(sh_constraint).collapsed(*averaging_args)"
   ]
  },
  {
   "cell_type": "code",
   "execution_count": 17,
   "metadata": {},
   "outputs": [
    {
     "name": "stdout",
     "output_type": "stream",
     "text": [
      "1.35±0.02\n"
     ]
    }
   ],
   "source": [
    "# Calculate annual mean OH ratio\n",
    "oh_nh_annual_mean = oh_nh.data.reshape(n_yrs,12).mean(axis=1)\n",
    "oh_sh_annual_mean = oh_sh.data.reshape(n_yrs,12).mean(axis=1)\n",
    "print(f'{np.mean(oh_nh_annual_mean/oh_sh_annual_mean):1.2f}\\u00B1{np.std(oh_nh_annual_mean/oh_sh_annual_mean):1.2f}')"
   ]
  },
  {
   "cell_type": "code",
   "execution_count": 18,
   "metadata": {},
   "outputs": [
    {
     "data": {
      "image/png": "[encoded data removed]",
      "text/plain": [
       "<Figure size 432x288 with 1 Axes>"
      ]
     },
     "metadata": {
      "needs_background": "light"
     },
     "output_type": "display_data"
    }
   ],
   "source": [
    "# Plot annual mean ratio of OH in the Northern Hemisphere to OH in the Southern Hemisphere\n",
    "fig, ax = plt.subplots()\n",
    "ax.bar(np.arange(1,n_yrs+1), oh_nh_annual_mean/oh_sh_annual_mean)\n",
    "ax.set_title('NH/SH annual mean tropospheric OH ratio')\n",
    "ax.set_xlabel('Time, years');\n",
    "fig.savefig(path_to_figs / f'{exp}_oh_ratio_annual_mean_airmass_averaged.png');"
   ]
  },
  {
   "cell_type": "code",
   "execution_count": 19,
   "metadata": {},
   "outputs": [
    {
     "ename": "SyntaxError",
     "evalue": "'break' outside loop (cell_name, line 4)",
     "output_type": "error",
     "traceback": [
      "\u001b[0;36m  File \u001b[0;32m\"cell_name\"\u001b[0;36m, line \u001b[0;32m4\u001b[0m\n\u001b[0;31mSyntaxError\u001b[0m\u001b[0;31m:\u001b[0m 'break' outside loop\n"
     ]
    }
   ],
   "source": [
    "break"
   ]
  },
  {
   "cell_type": "markdown",
   "metadata": {},
   "source": [
    "#### Plot surface CH4"
   ]
  },
  {
   "cell_type": "code",
   "execution_count": null,
   "metadata": {},
   "outputs": [],
   "source": [
    "import cartopy.util\n",
    "import cartopy.crs as ccrs"
   ]
  },
  {
   "cell_type": "code",
   "execution_count": null,
   "metadata": {},
   "outputs": [],
   "source": [
    "ch4_vmr = ch4*coeff_ch4\n",
    "ch4_vmr_cyc, lons_cyc = cartopy.util.add_cyclic_point(ch4_vmr.data, coord=ch4_vmr.coord('longitude').points)"
   ]
  },
  {
   "cell_type": "code",
   "execution_count": null,
   "metadata": {},
   "outputs": [],
   "source": [
    "fig, ax = plt.subplots(figsize=(10,10), subplot_kw=dict(projection=ccrs.Robinson(central_longitude=0)))\n",
    "p0 = ax.pcolormesh(lons_cyc, ch4.coord('latitude').points, ch4_vmr_cyc[12,0,...].data, \n",
    "                   vmin = ch4_vmr_cyc.min(), vmax = ch4_vmr_cyc.max(), transform=ccrs.PlateCarree())\n",
    "ax.set_title('Surface $CH_4$, Dec')\n",
    "ax.coastlines()\n",
    "fig.colorbar(p0, shrink=0.4, label='ppbv');\n",
    "fig.savefig('/local/mwe14avu/Desktop/new/ch4_surf_12.png', bbox_inches='tight')"
   ]
  }
 ],
 "metadata": {
  "@deathbeds/jupyterlab-fonts": {
   "styles": {
    ":root": {
     "--jp-code-font-size": "12px"
    }
   }
  },
  "kernelspec": {
   "display_name": "Python 3",
   "language": "python",
   "name": "python3"
  },
  "language_info": {
   "codemirror_mode": {
    "name": "ipython",
    "version": 3
   },
   "file_extension": ".py",
   "mimetype": "text/x-python",
   "name": "python",
   "nbconvert_exporter": "python",
   "pygments_lexer": "ipython3",
   "version": "3.6.8"
  }
 },
 "nbformat": 4,
 "nbformat_minor": 2
}
