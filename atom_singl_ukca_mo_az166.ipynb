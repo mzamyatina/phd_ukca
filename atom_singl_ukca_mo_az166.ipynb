{
 "cells": [
  {
   "cell_type": "code",
   "execution_count": 1,
   "metadata": {
    "nbpresent": {
     "id": "46246386-fec1-4d42-bf10-698a4054dbda"
    }
   },
   "outputs": [],
   "source": [
    "# Data processing\n",
    "import numpy as np\n",
    "import pandas as pd\n",
    "import xarray as xr\n",
    "import iris\n",
    "import iris.pandas\n",
    "from iris.experimental import stratify\n",
    "from iris.analysis import trajectory\n",
    "import warnings\n",
    "warnings.filterwarnings('ignore', module='iris')\n",
    "from pathlib import Path\n",
    "import dateutil.parser\n",
    "from datetime import datetime, timedelta\n",
    "# Visualization\n",
    "import cartopy.util\n",
    "import cartopy.crs as ccrs\n",
    "import matplotlib.pyplot as plt\n",
    "import matplotlib.colors as colors\n",
    "from matplotlib.dates import DateFormatter\n",
    "from matplotlib.ticker import FuncFormatter\n",
    "# Scientific parameters\n",
    "M_air = 28.97 # molar mass of dry air [kg]\n",
    "# Coefficients to convert mass mixing ratio to volume mixing ratio\n",
    "coeff_c2h6 = (M_air/30.0690)*1e12 # Ethane_WAS\n",
    "coeff_c3h8 = (M_air/44.0956)*1e12 # Propane_WAS\n",
    "coeff_nc4h10 = (M_air/58.1222)*1e12 # n-Butane_WAS\n",
    "coeff_ic4h10 = (M_air/58.1222)*1e12 # i-Butane_WAS\n",
    "coeff_nc5h12 = (M_air/72.1488)*1e12 # n-Pentane_WAS\n",
    "coeff_ic5h12 = (M_air/72.1488)*1e12 # i-Pentane_WAS\n",
    "coeff_meono2 = (M_air/77.0394)*1e12 # MeONO2_WAS\n",
    "coeff_sbuono2 = (M_air/119.1192)*1e12 # 2-BuONO2_WAS or sBuONO2\n",
    "coeff_n2peono2 = (M_air/133.1457)*1e12 # 2-PenONO2_WAS or n2PeONO2 or nPeBONO2\n",
    "coeff_n3peono2 = (M_air/133.1457)*1e12 # 3-PenONO2_WAS or n3PeONO2 or nPeCONO2\n",
    "coeff_ipeono2 = (M_air/133.1457)*1e12 # 3-Methyl-2-BuONO2_WAS or iPeONO2 or iPeBONO2\n",
    "# Plotting parameters\n",
    "plt.rcParams['mathtext.default'] = 'regular'\n",
    "savefig = False\n",
    "# Species names\n",
    "str_c2h6 = '$C_2H_6$'; str_c3h8 = '$C_3H_8$'\n",
    "str_nc4h10 = '$nC_4H_{10}$'; str_ic4h10 = '$iC_4H_{10}$'\n",
    "str_nc5h12 = '$nC_5H_{12}$'; str_ic5h12 = '$iC_5H_{12}$'\n",
    "str_meono2 = '$MeONO_2$'; str_sbuono2 = '2-$BuONO_2$'\n",
    "str_n2peono2 = '2-$PenONO_2$'; str_n3peono2 = '3-$PenONO_2$'; str_ipeono2 = '3-Methyl-2-$BuONO_2$'"
   ]
  },
  {
   "cell_type": "markdown",
   "metadata": {},
   "source": [
    "#### Read data"
   ]
  },
  {
   "cell_type": "code",
   "execution_count": 2,
   "metadata": {},
   "outputs": [],
   "source": [
    "# Read ATom NetCDF files\n",
    "path_obs_atom = Path('../../../obs/ATom/nc/data')\n",
    "# One flight at a time\n",
    "fname_atom_flight = 'MER-WAS_DC8_20160729_R14.nc'\n",
    "atom_dsinf = xr.open_dataset(path_obs_atom / fname_atom_flight, decode_times=True)\n",
    "atom_dsmms = xr.open_dataset(path_obs_atom / fname_atom_flight, group='MMS', decode_cf=True)\n",
    "atom_dswas = xr.open_dataset(path_obs_atom / fname_atom_flight, group='WAS', decode_cf=True)"
   ]
  },
  {
   "cell_type": "code",
   "execution_count": 4,
   "metadata": {
    "nbpresent": {
     "id": "5bf220d9-75c8-489e-81fb-58c0a9a4f83d"
    }
   },
   "outputs": [],
   "source": [
    "# Read UKCA NetCDF files (takes some time)\n",
    "ukca_run_name = 'az166a'\n",
    "ukca_run_mnth = 'pm2016jul'\n",
    "fname_ukca_run = f'{ukca_run_name}.{ukca_run_mnth}.pp'\n",
    "path_to_ukca_run = Path('../data') / ukca_run_name\n",
    "cb_c2h6 = iris.load_cube(str(path_to_ukca_run / fname_ukca_run), 'mass_fraction_of_ethane_in_air')*coeff_c2h6\n",
    "cb_c3h8 = iris.load_cube(str(path_to_ukca_run / fname_ukca_run), 'mass_fraction_of_propane_in_air')*coeff_c3h8\n",
    "cb_nc4h10 = iris.load_cube(str(path_to_ukca_run / fname_ukca_run), iris.AttributeConstraint(STASH='m01s34i173'))*coeff_nc4h10\n",
    "cb_ic4h10 = iris.load_cube(str(path_to_ukca_run / fname_ukca_run), iris.AttributeConstraint(STASH='m01s34i174'))*coeff_ic4h10\n",
    "cb_nc5h12 = iris.load_cube(str(path_to_ukca_run / fname_ukca_run), iris.AttributeConstraint(STASH='m01s34i175'))*coeff_nc5h12\n",
    "cb_ic5h12 = iris.load_cube(str(path_to_ukca_run / fname_ukca_run), iris.AttributeConstraint(STASH='m01s34i176'))*coeff_ic5h12\n",
    "cb_meono2 = iris.load_cube(str(path_to_ukca_run / fname_ukca_run), 'mass_fraction_of_methyl_nitrate_in_air')*coeff_meono2\n",
    "cb_sbuono2 = iris.load_cube(str(path_to_ukca_run / fname_ukca_run), iris.AttributeConstraint(STASH='m01s34i188'))*coeff_sbuono2\n",
    "cb_n2peono2 = iris.load_cube(str(path_to_ukca_run / fname_ukca_run), iris.AttributeConstraint(STASH='m01s34i189'))*coeff_n2peono2\n",
    "cb_n3peono2 = iris.load_cube(str(path_to_ukca_run / fname_ukca_run), iris.AttributeConstraint(STASH='m01s34i190'))*coeff_n3peono2\n",
    "cb_ipeono2 = iris.load_cube(str(path_to_ukca_run / fname_ukca_run), iris.AttributeConstraint(STASH='m01s34i191'))*coeff_ipeono2\n",
    "# Load altitude coordinate\n",
    "alt_coord = iris.load_cube(str(Path('../data')/'ukca_coords_n96e_marcus_180705.nc'),'mass_fraction_of_ozone_in_air').coord('altitude')"
   ]
  },
  {
   "cell_type": "code",
   "execution_count": 10,
   "metadata": {},
   "outputs": [],
   "source": [
    "# Extract datetimes from ATom and UKCA output\n",
    "# ICARTT docs: 'Time is to be reported as seconds UTC from the start of the date on which measurements began. \n",
    "#               This date appears in both the file header and filename.'\n",
    "t_yr = int(str(atom_dsinf.Flight_ID.values).split('_')[1][0:4])\n",
    "t_mn = int(str(atom_dsinf.Flight_ID.values).split('_')[1][4:6])\n",
    "t_da = int(str(atom_dsinf.Flight_ID.values).split('_')[1][6:8])\n",
    "times = []\n",
    "for i in atom_dsinf.UTC_Mid_WAS.values:\n",
    "    times.append(datetime(t_yr,t_mn,t_da,hour=0,minute=0,second=0) + timedelta(seconds=i))\n",
    "atom_date_start = atom_dsinf.time[0].values.astype('<M8[us]').astype(datetime)\n",
    "ukca_days_since = dateutil.parser.parse(str(cb_c2h6.coord('time').units)[12::])\n",
    "ukca_date = ukca_days_since + timedelta(days=cb_c2h6.coord('time').points.tolist()[0])"
   ]
  },
  {
   "cell_type": "code",
   "execution_count": 15,
   "metadata": {},
   "outputs": [
    {
     "name": "stdout",
     "output_type": "stream",
     "text": [
      "160729_8612\n"
     ]
    }
   ],
   "source": [
    "# Path to results\n",
    "atom_ukca_datetime_match = f'{atom_date_start.strftime(\"%y%m%d\")}_{ukca_date.strftime(\"%y%m\")}'\n",
    "path_to_results = Path('../../../results') / ukca_run_name / atom_ukca_datetime_match\n",
    "path_to_results.mkdir(exist_ok=True) # create a new folder if it doesn't exist\n",
    "print(atom_ukca_datetime_match)"
   ]
  },
  {
   "cell_type": "markdown",
   "metadata": {},
   "source": [
    "#### Interpolate model data from hybrid height to absolute height "
   ]
  },
  {
   "cell_type": "code",
   "execution_count": 31,
   "metadata": {},
   "outputs": [
    {
     "data": {
      "text/plain": [
       "(0, 1, 2)"
      ]
     },
     "execution_count": 31,
     "metadata": {},
     "output_type": "execute_result"
    }
   ],
   "source": [
    "cb_c2h6.coord_dims('altitude')"
   ]
  },
  {
   "cell_type": "code",
   "execution_count": 32,
   "metadata": {},
   "outputs": [
    {
     "ename": "ValueError",
     "evalue": "too many values to unpack (expected 1)",
     "output_type": "error",
     "traceback": [
      "\u001b[0;31m---------------------------------------------------------------------------\u001b[0m",
      "\u001b[0;31mValueError\u001b[0m                                Traceback (most recent call last)",
      "\u001b[0;32m<ipython-input-32-f3c336c6662a>\u001b[0m in \u001b[0;36m<module>\u001b[0;34m\u001b[0m\n\u001b[1;32m      1\u001b[0m \u001b[0;31m# Relevel model data from hybrid_height to target levels using alt_coord\u001b[0m\u001b[0;34m\u001b[0m\u001b[0;34m\u001b[0m\u001b[0m\n\u001b[1;32m      2\u001b[0m \u001b[0mtgt_levels\u001b[0m \u001b[0;34m=\u001b[0m \u001b[0mnp\u001b[0m\u001b[0;34m.\u001b[0m\u001b[0marange\u001b[0m\u001b[0;34m(\u001b[0m\u001b[0;36m0\u001b[0m\u001b[0;34m,\u001b[0m \u001b[0;36m14000\u001b[0m\u001b[0;34m,\u001b[0m \u001b[0;36m100\u001b[0m\u001b[0;34m)\u001b[0m \u001b[0;31m# [meters]\u001b[0m\u001b[0;34m\u001b[0m\u001b[0m\n\u001b[0;32m----> 3\u001b[0;31m \u001b[0mcbr_c2h6\u001b[0m \u001b[0;34m=\u001b[0m \u001b[0mstratify\u001b[0m\u001b[0;34m.\u001b[0m\u001b[0mrelevel\u001b[0m\u001b[0;34m(\u001b[0m\u001b[0mcb_c2h6\u001b[0m\u001b[0;34m,\u001b[0m \u001b[0mcb_c2h6\u001b[0m\u001b[0;34m.\u001b[0m\u001b[0mcoord\u001b[0m\u001b[0;34m(\u001b[0m\u001b[0;34m'altitude'\u001b[0m\u001b[0;34m)\u001b[0m\u001b[0;34m[\u001b[0m\u001b[0;34m:\u001b[0m\u001b[0;34m,\u001b[0m\u001b[0;36m0\u001b[0m\u001b[0;34m,\u001b[0m\u001b[0;36m0\u001b[0m\u001b[0;34m]\u001b[0m\u001b[0;34m,\u001b[0m \u001b[0mtgt_levels\u001b[0m\u001b[0;34m,\u001b[0m \u001b[0maxis\u001b[0m\u001b[0;34m=\u001b[0m\u001b[0;34m'altitude'\u001b[0m\u001b[0;34m)\u001b[0m\u001b[0;34m\u001b[0m\u001b[0m\n\u001b[0m\u001b[1;32m      4\u001b[0m \u001b[0;31m# cbr_c3h8 = stratify.relevel(cb_c3h8, alt_coord, tgt_levels, axis='Hybrid height')\u001b[0m\u001b[0;34m\u001b[0m\u001b[0;34m\u001b[0m\u001b[0m\n\u001b[1;32m      5\u001b[0m \u001b[0;31m# cbr_nc4h10 = stratify.relevel(cb_nc4h10, alt_coord, tgt_levels, axis='Hybrid height')\u001b[0m\u001b[0;34m\u001b[0m\u001b[0;34m\u001b[0m\u001b[0m\n",
      "\u001b[0;32m~/anaconda3/lib/python3.6/site-packages/iris/experimental/stratify.py\u001b[0m in \u001b[0;36mrelevel\u001b[0;34m(cube, src_levels, tgt_levels, axis, interpolator)\u001b[0m\n\u001b[1;32m    129\u001b[0m \u001b[0;34m\u001b[0m\u001b[0m\n\u001b[1;32m    130\u001b[0m     \u001b[0;32mif\u001b[0m \u001b[0misinstance\u001b[0m\u001b[0;34m(\u001b[0m\u001b[0maxis\u001b[0m\u001b[0;34m,\u001b[0m \u001b[0;34m(\u001b[0m\u001b[0msix\u001b[0m\u001b[0;34m.\u001b[0m\u001b[0mstring_types\u001b[0m\u001b[0;34m,\u001b[0m \u001b[0mCoord\u001b[0m\u001b[0;34m)\u001b[0m\u001b[0;34m)\u001b[0m\u001b[0;34m:\u001b[0m\u001b[0;34m\u001b[0m\u001b[0m\n\u001b[0;32m--> 131\u001b[0;31m         \u001b[0;34m[\u001b[0m\u001b[0maxis\u001b[0m\u001b[0;34m]\u001b[0m \u001b[0;34m=\u001b[0m \u001b[0mcube\u001b[0m\u001b[0;34m.\u001b[0m\u001b[0mcoord_dims\u001b[0m\u001b[0;34m(\u001b[0m\u001b[0maxis\u001b[0m\u001b[0;34m)\u001b[0m\u001b[0;34m\u001b[0m\u001b[0m\n\u001b[0m\u001b[1;32m    132\u001b[0m \u001b[0;34m\u001b[0m\u001b[0m\n\u001b[1;32m    133\u001b[0m     \u001b[0;31m# Get the source level data.\u001b[0m\u001b[0;34m\u001b[0m\u001b[0;34m\u001b[0m\u001b[0m\n",
      "\u001b[0;31mValueError\u001b[0m: too many values to unpack (expected 1)"
     ]
    }
   ],
   "source": [
    "# Relevel model data from hybrid_height to target levels using alt_coord\n",
    "tgt_levels = np.arange(0, 14000, 100) # [meters]\n",
    "cbr_c2h6 = stratify.relevel(cb_c2h6, cb_c2h6.coord('altitude'), tgt_levels, axis='altitude')\n",
    "# cbr_c3h8 = stratify.relevel(cb_c3h8, alt_coord, tgt_levels, axis='Hybrid height')\n",
    "# cbr_nc4h10 = stratify.relevel(cb_nc4h10, alt_coord, tgt_levels, axis='Hybrid height')\n",
    "# cbr_ic4h10 = stratify.relevel(cb_ic4h10, alt_coord, tgt_levels, axis='Hybrid height')\n",
    "# cbr_nc5h12 = stratify.relevel(cb_nc5h12, alt_coord, tgt_levels, axis='Hybrid height')\n",
    "# cbr_ic5h12 = stratify.relevel(cb_ic5h12, alt_coord, tgt_levels, axis='Hybrid height')\n",
    "# cbr_meono2 = stratify.relevel(cb_meono2, alt_coord, tgt_levels, axis='Hybrid height')\n",
    "# cbr_sbuono2 = stratify.relevel(cb_sbuono2, alt_coord, tgt_levels, axis='Hybrid height')\n",
    "# cbr_n2peono2 = stratify.relevel(cb_n2peono2, alt_coord, tgt_levels, axis='Hybrid height')\n",
    "# cbr_n3peono2 = stratify.relevel(cb_n3peono2, alt_coord, tgt_levels, axis='Hybrid height')\n",
    "# cbr_ipeono2 = stratify.relevel(cb_ipeono2, alt_coord, tgt_levels, axis='Hybrid height')"
   ]
  },
  {
   "cell_type": "markdown",
   "metadata": {},
   "source": [
    "#### Interpolate releved model data to flight track"
   ]
  },
  {
   "cell_type": "code",
   "execution_count": null,
   "metadata": {},
   "outputs": [],
   "source": [
    "# Construct 3D flights trajectory\n",
    "if atom_ukca_datetime_match == '160803_1608':\n",
    "    # Because ATom flight on 20160803 has one lat, lon, alt value equal to 'nan', have to interpolate between adjacent cells\n",
    "    # to replace 'nan' with an interpolated value.\n",
    "    sample_lats = atom_dsmms.G_LAT.interpolate_na(dim='time', method='linear').data\n",
    "    sample_lons = atom_dsmms.G_LONG.interpolate_na(dim='time', method='linear').data+360\n",
    "    sample_alts = atom_dsmms.G_ALT.interpolate_na(dim='time', method='linear').data\n",
    "else:\n",
    "    sample_lats = atom_dsmms.G_LAT.data \n",
    "    sample_lons = atom_dsmms.G_LONG.data+360\n",
    "    sample_alts = atom_dsmms.G_ALT.data\n",
    "sample_lats_lons_alts = [('latitude', sample_lats), ('longitude', sample_lons), ('altitude', sample_alts)]"
   ]
  },
  {
   "cell_type": "code",
   "execution_count": null,
   "metadata": {},
   "outputs": [],
   "source": [
    "# Interpolate model data to flights trajectory (takes some time)\n",
    "traj3d_cbr_c2h6 = trajectory.interpolate(cbr_c2h6, sample_lats_lons_alts)\n",
    "traj3d_cbr_c3h8 = trajectory.interpolate(cbr_c3h8, sample_lats_lons_alts)\n",
    "traj3d_cbr_nc4h10 = trajectory.interpolate(cbr_nc4h10, sample_lats_lons_alts)\n",
    "traj3d_cbr_ic4h10 = trajectory.interpolate(cbr_ic4h10, sample_lats_lons_alts)\n",
    "traj3d_cbr_nc5h12 = trajectory.interpolate(cbr_nc5h12, sample_lats_lons_alts)\n",
    "traj3d_cbr_ic5h12 = trajectory.interpolate(cbr_ic5h12, sample_lats_lons_alts)\n",
    "traj3d_cbr_meono2 = trajectory.interpolate(cbr_meono2, sample_lats_lons_alts)\n",
    "traj3d_cbr_sbuono2 = trajectory.interpolate(cbr_sbuono2, sample_lats_lons_alts)\n",
    "traj3d_cbr_n2peono2 = trajectory.interpolate(cbr_n2peono2, sample_lats_lons_alts)\n",
    "traj3d_cbr_n3peono2 = trajectory.interpolate(cbr_n3peono2, sample_lats_lons_alts)\n",
    "traj3d_cbr_ipeono2 = trajectory.interpolate(cbr_ipeono2, sample_lats_lons_alts)"
   ]
  },
  {
   "cell_type": "markdown",
   "metadata": {},
   "source": [
    "#### Time series of concentrations along flight track"
   ]
  },
  {
   "cell_type": "code",
   "execution_count": null,
   "metadata": {},
   "outputs": [],
   "source": [
    "# Convert ATom C2H6, C2H4, C2H2, C3H8, C3H6 to pptvC to match UKCA lumped species, namely C2H6=C2H6+C2H4+C2H2, C3H8=C3H8+C3H6\n",
    "atom_dswas_c2h6 = atom_dswas['Ethane_WAS']*2 + atom_dswas['Ethene_WAS']*2 + atom_dswas['Ethyne_WAS']*2\n",
    "atom_dswas_c3h8 = atom_dswas['Propane_WAS']*3 + atom_dswas['Propene_WAS']*3"
   ]
  },
  {
   "cell_type": "code",
   "execution_count": null,
   "metadata": {},
   "outputs": [],
   "source": [
    "# Plot time series of concentrations along flight track\n",
    "fig, ax = plt.subplots(figsize=(12, 4), facecolor='w')\n",
    "ax.plot(times, atom_dswas_c2h6, color='k')\n",
    "ax.plot(times, traj3d_cbr_c2h6.data.squeeze()*2, color='r')\n",
    "# common\n",
    "ax.set_title(f'{str_c2h6}\\n{atom_date_start.strftime(\"%d %B %Y\")}')\n",
    "ax.set_xlabel('Time, hours (UTC)')\n",
    "ax.set_ylabel('pptvC')\n",
    "ax.set_xticklabels(times)\n",
    "ax.xaxis.set_major_formatter(DateFormatter('%H:%M'))\n",
    "ax.margins(x=0)\n",
    "ax.legend([f'ATom', f'UKCA {ukca_run_name} montly mean'])\n",
    "if savefig: fig.savefig(path_to_results / f'{ukca_run_name}_{atom_ukca_datetime_match}_ts_RH_C2.png', bbox_inches='tight')"
   ]
  },
  {
   "cell_type": "code",
   "execution_count": null,
   "metadata": {},
   "outputs": [],
   "source": [
    "# Plot time series of concentrations along flight track\n",
    "fig, ax = plt.subplots(figsize=(12, 4), facecolor='w')\n",
    "ax.plot(times, atom_dswas_c3h8, color='k')\n",
    "ax.plot(times, traj3d_cbr_c3h8.data.squeeze()*3, color='r')\n",
    "# common\n",
    "ax.set_title(f'{str_c3h8}\\n{atom_date_start.strftime(\"%d %B %Y\")}')\n",
    "ax.set_xlabel('Time, hours (UTC)')\n",
    "ax.set_ylabel('pptvC')\n",
    "ax.set_xticklabels(times)\n",
    "ax.xaxis.set_major_formatter(DateFormatter('%H:%M'))\n",
    "ax.margins(x=0)\n",
    "ax.legend([f'ATom', f'UKCA {ukca_run_name} montly mean'])\n",
    "if savefig: fig.savefig(path_to_results / f'{ukca_run_name}_{atom_ukca_datetime_match}_ts_RH_C3.png', bbox_inches='tight')"
   ]
  },
  {
   "cell_type": "code",
   "execution_count": null,
   "metadata": {},
   "outputs": [],
   "source": [
    "# Plot time series of concentrations along flight track\n",
    "fig, ax = plt.subplots(figsize=(12, 4), facecolor='w')\n",
    "ax.plot(times, atom_dswas['n-Butane_WAS'], color='k')\n",
    "ax.plot(times, traj3d_cbr_nc4h10.data.squeeze(), color='r')\n",
    "# common\n",
    "ax.set_title(f'{str_nc4h10}\\n{atom_date_start.strftime(\"%d %B %Y\")}')\n",
    "ax.set_xlabel('Time, hours (UTC)')\n",
    "ax.set_ylabel('pptv')\n",
    "ax.set_xticklabels(times)\n",
    "ax.xaxis.set_major_formatter(DateFormatter('%H:%M'))\n",
    "ax.margins(x=0)\n",
    "ax.legend([f'ATom', f'UKCA {ukca_run_name} montly mean'])\n",
    "if savefig: fig.savefig(path_to_results / f'{ukca_run_name}_{atom_ukca_datetime_match}_ts_RH_C4n.png', bbox_inches='tight')"
   ]
  },
  {
   "cell_type": "code",
   "execution_count": null,
   "metadata": {},
   "outputs": [],
   "source": [
    "# Plot time series of concentrations along flight track\n",
    "fig, ax = plt.subplots(figsize=(12, 4), facecolor='w')\n",
    "ax.plot(times, atom_dswas['i-Butane_WAS'], color='k')\n",
    "ax.plot(times, traj3d_cbr_ic4h10.data.squeeze(), color='r')\n",
    "# common\n",
    "ax.set_title(f'{str_ic4h10}\\n{atom_date_start.strftime(\"%d %B %Y\")}')\n",
    "ax.set_xlabel('Time, hours (UTC)')\n",
    "ax.set_ylabel('pptv')\n",
    "ax.set_xticklabels(times)\n",
    "ax.xaxis.set_major_formatter(DateFormatter('%H:%M'))\n",
    "ax.margins(x=0)\n",
    "ax.legend([f'ATom', f'UKCA {ukca_run_name} montly mean'])\n",
    "if savefig: fig.savefig(path_to_results / f'{ukca_run_name}_{atom_ukca_datetime_match}_ts_RH_C4i.png', bbox_inches='tight')"
   ]
  },
  {
   "cell_type": "code",
   "execution_count": null,
   "metadata": {},
   "outputs": [],
   "source": [
    "# Plot time series of concentrations along flight track\n",
    "fig, ax = plt.subplots(figsize=(12, 4), facecolor='w')\n",
    "ax.plot(times, atom_dswas['n-Pentane_WAS'], color='k')\n",
    "ax.plot(times, traj3d_cbr_nc5h12.data.squeeze(), color='r')\n",
    "# common\n",
    "ax.set_title(f'{str_nc5h12}\\n{atom_date_start.strftime(\"%d %B %Y\")}')\n",
    "ax.set_xlabel('Time, hours (UTC)')\n",
    "ax.set_ylabel('pptv')\n",
    "ax.set_xticklabels(times)\n",
    "ax.xaxis.set_major_formatter(DateFormatter('%H:%M'))\n",
    "ax.margins(x=0)\n",
    "ax.legend([f'ATom', f'UKCA {ukca_run_name} montly mean'])\n",
    "if savefig: fig.savefig(path_to_results / f'{ukca_run_name}_{atom_ukca_datetime_match}_ts_RH_C5n.png', bbox_inches='tight')"
   ]
  },
  {
   "cell_type": "code",
   "execution_count": null,
   "metadata": {},
   "outputs": [],
   "source": [
    "# Plot time series of concentrations along flight track\n",
    "fig, ax = plt.subplots(figsize=(12, 4), facecolor='w')\n",
    "ax.plot(times, atom_dswas['i-Pentane_WAS'], color='k')\n",
    "ax.plot(times, traj3d_cbr_ic5h12.data.squeeze(), color='r')\n",
    "# common\n",
    "ax.set_title(f'{str_ic5h12}\\n{atom_date_start.strftime(\"%d %B %Y\")}')\n",
    "ax.set_xlabel('Time, hours (UTC)')\n",
    "ax.set_ylabel('pptv')\n",
    "ax.set_xticklabels(times)\n",
    "ax.xaxis.set_major_formatter(DateFormatter('%H:%M'))\n",
    "ax.margins(x=0)\n",
    "ax.legend([f'ATom', f'UKCA {ukca_run_name} montly mean'])\n",
    "if savefig: fig.savefig(path_to_results / f'{ukca_run_name}_{atom_ukca_datetime_match}_ts_RH_C5i.png', bbox_inches='tight')"
   ]
  },
  {
   "cell_type": "code",
   "execution_count": null,
   "metadata": {},
   "outputs": [],
   "source": [
    "# Plot time series of concentrations along flight track\n",
    "fig, ax = plt.subplots(figsize=(12, 4), facecolor='w')\n",
    "ax.plot(times, atom_dswas['MeONO2_WAS'], color='k')\n",
    "ax.plot(times, traj3d_cbr_meono2.data.squeeze(), color='r')\n",
    "# common\n",
    "ax.set_title(f'{str_meono2}\\n{atom_date_start.strftime(\"%d %B %Y\")}')\n",
    "ax.set_xlabel('Time, hours (UTC)')\n",
    "ax.set_ylabel('pptv')\n",
    "ax.set_xticklabels(times)\n",
    "ax.xaxis.set_major_formatter(DateFormatter('%H:%M'))\n",
    "ax.margins(x=0)\n",
    "ax.legend([f'ATom', f'UKCA {ukca_run_name} montly mean'])\n",
    "if savefig: fig.savefig(path_to_results / f'{ukca_run_name}_{atom_ukca_datetime_match}_ts_RONO2_C1.png', bbox_inches='tight')"
   ]
  },
  {
   "cell_type": "code",
   "execution_count": null,
   "metadata": {},
   "outputs": [],
   "source": [
    "# Plot time series of concentrations along flight track\n",
    "fig, ax = plt.subplots(figsize=(12, 4), facecolor='w')\n",
    "ax.plot(times, atom_dswas['2-BuONO2_WAS'], color='k')\n",
    "ax.plot(times, traj3d_cbr_sbuono2.data.squeeze(), color='r')\n",
    "# common\n",
    "ax.set_title(f'{str_sbuono2}\\n{atom_date_start.strftime(\"%d %B %Y\")}')\n",
    "ax.set_xlabel('Time, hours (UTC)')\n",
    "ax.set_ylabel('pptv')\n",
    "ax.set_xticklabels(times)\n",
    "ax.xaxis.set_major_formatter(DateFormatter('%H:%M'))\n",
    "ax.margins(x=0)\n",
    "ax.legend([f'ATom', f'UKCA {ukca_run_name} montly mean'])\n",
    "if savefig: fig.savefig(path_to_results / f'{ukca_run_name}_{atom_ukca_datetime_match}_ts_RONO2_C4s.png', bbox_inches='tight')"
   ]
  },
  {
   "cell_type": "code",
   "execution_count": null,
   "metadata": {},
   "outputs": [],
   "source": [
    "# Plot time series of concentrations along flight track\n",
    "fig, ax = plt.subplots(figsize=(12, 4), facecolor='w')\n",
    "ax.plot(times, atom_dswas['2-PenONO2_WAS'], color='k')\n",
    "ax.plot(times, traj3d_cbr_n2peono2.data.squeeze(), color='r')\n",
    "# common\n",
    "ax.set_title(f'{str_n2peono2}\\n{atom_date_start.strftime(\"%d %B %Y\")}')\n",
    "ax.set_xlabel('Time, hours (UTC)')\n",
    "ax.set_ylabel('pptv')\n",
    "ax.set_xticklabels(times)\n",
    "ax.xaxis.set_major_formatter(DateFormatter('%H:%M'))\n",
    "ax.margins(x=0)\n",
    "ax.legend([f'ATom', f'UKCA {ukca_run_name} montly mean'])\n",
    "if savefig: fig.savefig(path_to_results / f'{ukca_run_name}_{atom_ukca_datetime_match}_ts_RONO2_C5nB.png', bbox_inches='tight')"
   ]
  },
  {
   "cell_type": "code",
   "execution_count": null,
   "metadata": {},
   "outputs": [],
   "source": [
    "# Plot time series of concentrations along flight track\n",
    "fig, ax = plt.subplots(figsize=(12, 4), facecolor='w')\n",
    "ax.plot(times, atom_dswas['3-PenONO2_WAS'], color='k')\n",
    "ax.plot(times, traj3d_cbr_n3peono2.data.squeeze(), color='r')\n",
    "# common\n",
    "ax.set_title(f'{str_n3peono2}\\n{atom_date_start.strftime(\"%d %B %Y\")}')\n",
    "ax.set_xlabel('Time, hours (UTC)')\n",
    "ax.set_ylabel('pptv')\n",
    "ax.set_xticklabels(times)\n",
    "ax.xaxis.set_major_formatter(DateFormatter('%H:%M'))\n",
    "ax.margins(x=0)\n",
    "ax.legend([f'ATom', f'UKCA {ukca_run_name} montly mean'])\n",
    "if savefig: fig.savefig(path_to_results / f'{ukca_run_name}_{atom_ukca_datetime_match}_ts_RONO2_C5nC.png', bbox_inches='tight')"
   ]
  },
  {
   "cell_type": "code",
   "execution_count": null,
   "metadata": {},
   "outputs": [],
   "source": [
    "# Plot time series of concentrations along flight track\n",
    "fig, ax = plt.subplots(figsize=(12, 4), facecolor='w')\n",
    "ax.plot(times, atom_dswas['3-Methyl-2-BuONO2_WAS'], color='k')\n",
    "ax.plot(times, traj3d_cbr_ipeono2.data.squeeze(), color='r')\n",
    "# common\n",
    "ax.set_title(f'{str_ipeono2}\\n{atom_date_start.strftime(\"%d %B %Y\")}')\n",
    "ax.set_xlabel('Time, hours (UTC)')\n",
    "ax.set_ylabel('pptv')\n",
    "ax.set_xticklabels(times)\n",
    "ax.xaxis.set_major_formatter(DateFormatter('%H:%M'))\n",
    "ax.margins(x=0)\n",
    "ax.legend([f'ATom', f'UKCA {ukca_run_name} montly mean'])\n",
    "if savefig: fig.savefig(path_to_results / f'{ukca_run_name}_{atom_ukca_datetime_match}_ts_RONO2_C5i.png', bbox_inches='tight')"
   ]
  },
  {
   "cell_type": "markdown",
   "metadata": {},
   "source": [
    "#### RONO2/RH time series along flight track"
   ]
  },
  {
   "cell_type": "code",
   "execution_count": null,
   "metadata": {},
   "outputs": [],
   "source": [
    "# Plot time series of concentrations along flight track\n",
    "fig, ax = plt.subplots(figsize=(12, 4), facecolor='w')\n",
    "ax.plot(times, atom_dswas['2-BuONO2_WAS']/atom_dswas['n-Butane_WAS'], color='C7')\n",
    "ax.plot(times, traj3d_cbr_sbuono2.data.squeeze()/traj3d_cbr_nc4h10.data.squeeze(), color='C3')\n",
    "# common\n",
    "ax.set_title(f'{str_sbuono2}/{str_nc4h10}\\n{atom_date_start.strftime(\"%d %B %Y\")}')\n",
    "ax.set_xlabel('Time, hours (UTC)')\n",
    "ax.set_ylabel('pptv/pptv')\n",
    "ax.set_xticklabels(times)\n",
    "ax.xaxis.set_major_formatter(DateFormatter('%H:%M'))\n",
    "ax.margins(x=0)\n",
    "ax.legend([f'ATom', f'UKCA {ukca_run_name} montly mean'])\n",
    "if savefig: fig.savefig(path_to_results / f'{ukca_run_name}_{atom_ukca_datetime_match}_ts_RONO2_RH_C4s.png', bbox_inches='tight')"
   ]
  },
  {
   "cell_type": "code",
   "execution_count": null,
   "metadata": {},
   "outputs": [],
   "source": [
    "# Plot time series of concentrations along flight track\n",
    "fig, ax = plt.subplots(figsize=(12, 4), facecolor='w')\n",
    "ax.plot(times, atom_dswas['2-PenONO2_WAS']/atom_dswas['n-Pentane_WAS'], color='C7')\n",
    "ax.plot(times, traj3d_cbr_n2peono2.data.squeeze()/traj3d_cbr_nc5h12.data.squeeze(), color='C3')\n",
    "# common\n",
    "ax.set_title(f'{str_n2peono2}/{str_nc5h12}\\n{atom_date_start.strftime(\"%d %B %Y\")}')\n",
    "ax.set_xlabel('Time, hours (UTC)')\n",
    "ax.set_ylabel('pptv/pptv')\n",
    "ax.set_xticklabels(times)\n",
    "ax.xaxis.set_major_formatter(DateFormatter('%H:%M'))\n",
    "ax.margins(x=0)\n",
    "ax.legend([f'ATom', f'UKCA {ukca_run_name} montly mean'])\n",
    "if savefig: fig.savefig(path_to_results / f'{ukca_run_name}_{atom_ukca_datetime_match}_ts_RONO2_RH_C5nB.png', bbox_inches='tight')"
   ]
  },
  {
   "cell_type": "code",
   "execution_count": null,
   "metadata": {},
   "outputs": [],
   "source": [
    "# Plot time series of concentrations along flight track\n",
    "fig, ax = plt.subplots(figsize=(12, 4), facecolor='w')\n",
    "ax.plot(times, atom_dswas['3-PenONO2_WAS']/atom_dswas['n-Pentane_WAS'], color='C7')\n",
    "ax.plot(times, traj3d_cbr_n3peono2.data.squeeze()/traj3d_cbr_nc5h12.data.squeeze(), color='C3')\n",
    "# common\n",
    "ax.set_title(f'{str_n3peono2}/{str_nc5h12}\\n{atom_date_start.strftime(\"%d %B %Y\")}')\n",
    "ax.set_xlabel('Time, hours (UTC)')\n",
    "ax.set_ylabel('pptv/pptv')\n",
    "ax.set_xticklabels(times)\n",
    "ax.xaxis.set_major_formatter(DateFormatter('%H:%M'))\n",
    "ax.margins(x=0)\n",
    "ax.legend([f'ATom', f'UKCA {ukca_run_name} montly mean'])\n",
    "if savefig: fig.savefig(path_to_results / f'{ukca_run_name}_{atom_ukca_datetime_match}_ts_RONO2_RH_C5nC.png', bbox_inches='tight')"
   ]
  },
  {
   "cell_type": "code",
   "execution_count": null,
   "metadata": {},
   "outputs": [],
   "source": [
    "# Plot time series of concentrations along flight track\n",
    "fig, ax = plt.subplots(figsize=(12, 4), facecolor='w')\n",
    "ax.plot(times, atom_dswas['3-Methyl-2-BuONO2_WAS']/atom_dswas['i-Pentane_WAS'], color='C7')\n",
    "ax.plot(times, traj3d_cbr_ipeono2.data.squeeze()/traj3d_cbr_ic5h12.data.squeeze(), color='C3')\n",
    "# common\n",
    "ax.set_title(f'{str_ipeono2}/{str_ic5h12}\\n{atom_date_start.strftime(\"%d %B %Y\")}')\n",
    "ax.set_xlabel('Time, hours (UTC)')\n",
    "ax.set_ylabel('pptv/pptv')\n",
    "ax.set_xticklabels(times)\n",
    "ax.xaxis.set_major_formatter(DateFormatter('%H:%M'))\n",
    "ax.margins(x=0)\n",
    "ax.legend([f'ATom', f'UKCA {ukca_run_name} montly mean'])\n",
    "if savefig: fig.savefig(path_to_results / f'{ukca_run_name}_{atom_ukca_datetime_match}_ts_RONO2_RH_C5i.png', bbox_inches='tight')"
   ]
  },
  {
   "cell_type": "markdown",
   "metadata": {},
   "source": [
    "#### Cross section along flight track"
   ]
  },
  {
   "cell_type": "code",
   "execution_count": null,
   "metadata": {},
   "outputs": [],
   "source": [
    "# Extract a cross section from model data along flight track (takes some time)\n",
    "sample_lats_lons = [('latitude', sample_lats), ('longitude', sample_lons)]\n",
    "traj2d_cbr_c2h6 = trajectory.interpolate(cbr_c2h6, sample_lats_lons)\n",
    "traj2d_cbr_c3h8 = trajectory.interpolate(cbr_c3h8, sample_lats_lons)\n",
    "traj2d_cbr_nc4h10 = trajectory.interpolate(cbr_nc4h10, sample_lats_lons)\n",
    "traj2d_cbr_ic4h10 = trajectory.interpolate(cbr_ic4h10, sample_lats_lons)\n",
    "traj2d_cbr_nc5h12 = trajectory.interpolate(cbr_nc5h12, sample_lats_lons)\n",
    "traj2d_cbr_ic5h12 = trajectory.interpolate(cbr_ic5h12, sample_lats_lons)\n",
    "traj2d_cbr_meono2 = trajectory.interpolate(cbr_meono2, sample_lats_lons)\n",
    "traj2d_cbr_sbuono2 = trajectory.interpolate(cbr_sbuono2, sample_lats_lons)\n",
    "traj2d_cbr_n2peono2 = trajectory.interpolate(cbr_n2peono2, sample_lats_lons)\n",
    "traj2d_cbr_n3peono2 = trajectory.interpolate(cbr_n3peono2, sample_lats_lons)\n",
    "traj2d_cbr_ipeono2 = trajectory.interpolate(cbr_ipeono2, sample_lats_lons)"
   ]
  },
  {
   "cell_type": "code",
   "execution_count": null,
   "metadata": {},
   "outputs": [],
   "source": [
    "# Convert xarray dataset with observational data to pandas dataframe\n",
    "atom_pdwas_c2h6 = atom_dswas_c2h6.to_dataframe(name='Lumped_C2H6_C2H4_C2H2')\n",
    "atom_pdwas_c3h8 = atom_dswas_c3h8.to_dataframe(name='Lumped_C3H8_C3H6')\n",
    "atom_pdwas_nc4h10 = atom_dswas['n-Butane_WAS'].to_dataframe()\n",
    "atom_pdwas_ic4h10 = atom_dswas['i-Butane_WAS'].to_dataframe()\n",
    "atom_pdwas_nc5h12 = atom_dswas['n-Pentane_WAS'].to_dataframe()\n",
    "atom_pdwas_ic5h12 = atom_dswas['i-Pentane_WAS'].to_dataframe()\n",
    "atom_pdwas_meono2 = atom_dswas['MeONO2_WAS'].to_dataframe()\n",
    "atom_pdwas_sbuono2 = atom_dswas['2-BuONO2_WAS'].to_dataframe()\n",
    "atom_pdwas_n2peono2 = atom_dswas['2-PenONO2_WAS'].to_dataframe()\n",
    "atom_pdwas_n3peono2 = atom_dswas['3-PenONO2_WAS'].to_dataframe()\n",
    "atom_pdwas_ipeono2 = atom_dswas['3-Methyl-2-BuONO2_WAS'].to_dataframe()"
   ]
  },
  {
   "cell_type": "code",
   "execution_count": null,
   "metadata": {},
   "outputs": [],
   "source": [
    "# Find max between maxima and max between minima in ATom and model cross section data for plotting a cross section with two colormaps\n",
    "cs_c2h6_max = max(np.nanmax(atom_pdwas_c2h6.values), np.nanmax(traj2d_cbr_c2h6.data*2))\n",
    "cs_c3h8_max = max(np.nanmax(atom_pdwas_c3h8.values), np.nanmax(traj2d_cbr_c3h8.data*3))\n",
    "cs_nc4h10_max = max(np.nanmax(atom_pdwas_nc4h10.values), np.nanmax(traj2d_cbr_nc4h10.data))\n",
    "cs_ic4h10_max = max(np.nanmax(atom_pdwas_ic4h10.values), np.nanmax(traj2d_cbr_ic4h10.data))\n",
    "cs_nc5h12_max = max(np.nanmax(atom_pdwas_nc5h12.values), np.nanmax(traj2d_cbr_nc5h12.data))\n",
    "cs_ic5h12_max = max(np.nanmax(atom_pdwas_ic5h12.values), np.nanmax(traj2d_cbr_ic5h12.data))\n",
    "cs_meono2_max = max(np.nanmax(atom_pdwas_meono2.values), np.nanmax(traj2d_cbr_meono2.data))\n",
    "cs_sbuono2_max = max(np.nanmax(atom_pdwas_sbuono2.values), np.nanmax(traj2d_cbr_sbuono2.data))\n",
    "cs_n2peono2_max = max(np.nanmax(atom_pdwas_n2peono2.values), np.nanmax(traj2d_cbr_n2peono2.data))\n",
    "cs_n3peono2_max = max(np.nanmax(atom_pdwas_n3peono2.values), np.nanmax(traj2d_cbr_n3peono2.data))\n",
    "cs_ipeono2_max = max(np.nanmax(atom_pdwas_ipeono2.values), np.nanmax(traj2d_cbr_ipeono2.data))\n",
    "\n",
    "cs_c2h6_min = min(np.nanmax(atom_pdwas_c2h6.values), np.nanmax(traj2d_cbr_c2h6.data*2))\n",
    "cs_c3h8_min = min(np.nanmax(atom_pdwas_c3h8.values), np.nanmax(traj2d_cbr_c3h8.data*3))\n",
    "cs_nc4h10_min = min(np.nanmax(atom_pdwas_nc4h10.values), np.nanmax(traj2d_cbr_nc4h10.data))\n",
    "cs_ic4h10_min = min(np.nanmax(atom_pdwas_ic4h10.values), np.nanmax(traj2d_cbr_ic4h10.data))\n",
    "cs_nc5h12_min = min(np.nanmax(atom_pdwas_nc5h12.values), np.nanmax(traj2d_cbr_nc5h12.data))\n",
    "cs_ic5h12_min = min(np.nanmax(atom_pdwas_ic5h12.values), np.nanmax(traj2d_cbr_ic5h12.data))\n",
    "cs_meono2_min = min(np.nanmax(atom_pdwas_meono2.values), np.nanmax(traj2d_cbr_meono2.data))\n",
    "cs_sbuono2_min = min(np.nanmax(atom_pdwas_sbuono2.values), np.nanmax(traj2d_cbr_sbuono2.data))\n",
    "cs_n2peono2_min = min(np.nanmax(atom_pdwas_n2peono2.values), np.nanmax(traj2d_cbr_n2peono2.data))\n",
    "cs_n3peono2_min = min(np.nanmax(atom_pdwas_n3peono2.values), np.nanmax(traj2d_cbr_n3peono2.data))\n",
    "cs_ipeono2_min = min(np.nanmax(atom_pdwas_ipeono2.values), np.nanmax(traj2d_cbr_ipeono2.data))"
   ]
  },
  {
   "cell_type": "code",
   "execution_count": null,
   "metadata": {},
   "outputs": [],
   "source": [
    "# Cross section plotting parameters\n",
    "def m2km(x, pos):\n",
    "    '''Convert meters to kilometers when plotting axis labels'''\n",
    "    return int(x*1e-3) #'{:1.1f}'.format(x*1e-3)\n",
    "# Merge two colormaps: color concentrations present in obs and model using one colormap and obs higher than model using another colormap\n",
    "class MidpointNormalize(colors.Normalize):\n",
    "    def __init__(self, vmin=None, vmax=None, midpoint=None, clip=False):\n",
    "        self.midpoint = midpoint\n",
    "        colors.Normalize.__init__(self, vmin, vmax, clip)\n",
    "    def __call__(self, value, clip=None):\n",
    "        x, y = [self.vmin, self.midpoint, self.vmax], [0, 0.5, 1]\n",
    "        return np.ma.masked_array(np.interp(value, x, y))\n",
    "colors_low = plt.cm.Blues(np.linspace(0,1,128))\n",
    "colors_high = plt.cm.autumn_r(np.linspace(0,1,128))\n",
    "colors_stack = np.vstack((colors_low, colors_high))\n",
    "mrgd_cmap = colors.LinearSegmentedColormap.from_list('merged_cmap', colors_stack)\n",
    "cs_pc_kwargs = dict(cmap=mrgd_cmap, vmin=0) # model data pcolormesh options\n",
    "cs_sc_kwargs = dict(cmap=mrgd_cmap, vmin=0, edgecolors='k', linewidth=0.2) # obs data scatter options"
   ]
  },
  {
   "cell_type": "code",
   "execution_count": null,
   "metadata": {},
   "outputs": [],
   "source": [
    "# Plot cross section along flight track\n",
    "fig, ax = plt.subplots(figsize=(14,5), facecolor='w')\n",
    "p0 = ax.pcolormesh(times, traj2d_cbr_c2h6.coord('altitude').points, traj2d_cbr_c2h6.data.squeeze()*2, \n",
    "                   norm=MidpointNormalize(midpoint=cs_c2h6_min), vmax=cs_c2h6_max, **cs_pc_kwargs)\n",
    "p1 = ax.scatter(times, atom_dsmms.G_ALT, c=atom_pdwas_c2h6.squeeze(), \n",
    "                norm=MidpointNormalize(midpoint=cs_c2h6_min), vmax=cs_c2h6_max, **cs_sc_kwargs)\n",
    "fig.colorbar(p0, label='pptvC')\n",
    "# common\n",
    "ax.set_title(f'{str_c2h6}\\n{atom_date_start.strftime(\"%d %B %Y\")}\\nATom vs UKCA {ukca_run_name} montly mean')\n",
    "ax.set_xlabel('Time, hours (UTC)')\n",
    "ax.set_ylabel('Altitude, km')\n",
    "ax.set_ylim(0,13500)\n",
    "ax.set_xticklabels(times)\n",
    "ax.xaxis.set_major_formatter(DateFormatter('%H:%M'))\n",
    "ax.yaxis.set_major_formatter(FuncFormatter(m2km))\n",
    "ax.margins(x=0)\n",
    "if savefig: fig.savefig(path_to_results / f'{ukca_run_name}_{atom_ukca_datetime_match}_cs_RH_C2.png', bbox_inches='tight')"
   ]
  },
  {
   "cell_type": "code",
   "execution_count": null,
   "metadata": {},
   "outputs": [],
   "source": [
    "# Plot cross section along flight track\n",
    "fig, ax = plt.subplots(figsize=(14,5), facecolor='w')\n",
    "p0 = ax.pcolormesh(times, traj2d_cbr_c3h8.coord('altitude').points, traj2d_cbr_c3h8.data.squeeze()*3, \n",
    "                   norm=MidpointNormalize(midpoint=cs_c3h8_min), vmax=cs_c3h8_max, **cs_pc_kwargs)\n",
    "p1 = ax.scatter(times, atom_dsmms.G_ALT, c=atom_pdwas_c3h8.squeeze(), \n",
    "                norm=MidpointNormalize(midpoint=cs_c3h8_min), vmax=cs_c3h8_max, **cs_sc_kwargs)\n",
    "fig.colorbar(p0, label='pptvC')\n",
    "# common\n",
    "ax.set_title(f'{str_c3h8}\\n{atom_date_start.strftime(\"%d %B %Y\")}\\nATom vs UKCA {ukca_run_name} montly mean')\n",
    "ax.set_xlabel('Time, hours (UTC)')\n",
    "ax.set_ylabel('Altitude, km')\n",
    "ax.set_ylim(0,13500)\n",
    "ax.set_xticklabels(times)\n",
    "ax.xaxis.set_major_formatter(DateFormatter('%H:%M'))\n",
    "ax.yaxis.set_major_formatter(FuncFormatter(m2km))\n",
    "ax.margins(x=0)\n",
    "if savefig: fig.savefig(path_to_results / f'{ukca_run_name}_{atom_ukca_datetime_match}_cs_RH_C3.png', bbox_inches='tight')"
   ]
  },
  {
   "cell_type": "code",
   "execution_count": null,
   "metadata": {},
   "outputs": [],
   "source": [
    "# Plot cross section along flight track\n",
    "fig, ax = plt.subplots(figsize=(14,5), facecolor='w')\n",
    "p0 = ax.pcolormesh(times, traj2d_cbr_nc4h10.coord('altitude').points, traj2d_cbr_nc4h10.data.squeeze(), \n",
    "                   norm=MidpointNormalize(midpoint=cs_nc4h10_min), vmax=cs_nc4h10_max, **cs_pc_kwargs)\n",
    "p1 = ax.scatter(times, atom_dsmms.G_ALT, c=atom_pdwas_nc4h10.squeeze(), \n",
    "                norm=MidpointNormalize(midpoint=cs_nc4h10_min), vmax=cs_nc4h10_max, **cs_sc_kwargs)\n",
    "fig.colorbar(p0, label='pptvC')\n",
    "# common\n",
    "ax.set_title(f'{str_nc4h10}\\n{atom_date_start.strftime(\"%d %B %Y\")}\\nATom vs UKCA {ukca_run_name} montly mean')\n",
    "ax.set_xlabel('Time, hours (UTC)')\n",
    "ax.set_ylabel('Altitude, km')\n",
    "ax.set_ylim(0,13500)\n",
    "ax.set_xticklabels(times)\n",
    "ax.xaxis.set_major_formatter(DateFormatter('%H:%M'))\n",
    "ax.yaxis.set_major_formatter(FuncFormatter(m2km))\n",
    "ax.margins(x=0)\n",
    "if savefig: fig.savefig(path_to_results / f'{ukca_run_name}_{atom_ukca_datetime_match}_cs_RH_C4n.png', bbox_inches='tight')"
   ]
  },
  {
   "cell_type": "code",
   "execution_count": null,
   "metadata": {},
   "outputs": [],
   "source": [
    "# Plot cross section along flight track\n",
    "fig, ax = plt.subplots(figsize=(14,5), facecolor='w')\n",
    "p0 = ax.pcolormesh(times, traj2d_cbr_ic4h10.coord('altitude').points, traj2d_cbr_ic4h10.data.squeeze(), \n",
    "                   norm=MidpointNormalize(midpoint=cs_ic4h10_min), vmax=cs_ic4h10_max, **cs_pc_kwargs)\n",
    "p1 = ax.scatter(times, atom_dsmms.G_ALT, c=atom_pdwas_ic4h10.squeeze(), \n",
    "                norm=MidpointNormalize(midpoint=cs_ic4h10_min), vmax=cs_ic4h10_max, **cs_sc_kwargs)\n",
    "fig.colorbar(p0, label='pptvC')\n",
    "# common\n",
    "ax.set_title(f'{str_ic4h10}\\n{atom_date_start.strftime(\"%d %B %Y\")}\\nATom vs UKCA {ukca_run_name} montly mean')\n",
    "ax.set_xlabel('Time, hours (UTC)')\n",
    "ax.set_ylabel('Altitude, km')\n",
    "ax.set_ylim(0,13500)\n",
    "ax.set_xticklabels(times)\n",
    "ax.xaxis.set_major_formatter(DateFormatter('%H:%M'))\n",
    "ax.yaxis.set_major_formatter(FuncFormatter(m2km))\n",
    "ax.margins(x=0)\n",
    "if savefig: fig.savefig(path_to_results / f'{ukca_run_name}_{atom_ukca_datetime_match}_cs_RH_C4i.png', bbox_inches='tight')"
   ]
  },
  {
   "cell_type": "code",
   "execution_count": null,
   "metadata": {},
   "outputs": [],
   "source": [
    "# Plot cross section along flight track\n",
    "fig, ax = plt.subplots(figsize=(14,5), facecolor='w')\n",
    "p0 = ax.pcolormesh(times, traj2d_cbr_nc5h12.coord('altitude').points, traj2d_cbr_nc5h12.data.squeeze(), \n",
    "                   norm=MidpointNormalize(midpoint=cs_nc5h12_min), vmax=cs_nc5h12_max, **cs_pc_kwargs)\n",
    "p1 = ax.scatter(times, atom_dsmms.G_ALT, c=atom_pdwas_nc5h12.squeeze(), \n",
    "                norm=MidpointNormalize(midpoint=cs_nc5h12_min), vmax=cs_nc5h12_max, **cs_sc_kwargs)\n",
    "fig.colorbar(p0, label='pptvC')\n",
    "# common\n",
    "ax.set_title(f'{str_nc5h12}\\n{atom_date_start.strftime(\"%d %B %Y\")}\\nATom vs UKCA {ukca_run_name} montly mean')\n",
    "ax.set_xlabel('Time, hours (UTC)')\n",
    "ax.set_ylabel('Altitude, km')\n",
    "ax.set_ylim(0,13500)\n",
    "ax.set_xticklabels(times)\n",
    "ax.xaxis.set_major_formatter(DateFormatter('%H:%M'))\n",
    "ax.yaxis.set_major_formatter(FuncFormatter(m2km))\n",
    "ax.margins(x=0)\n",
    "if savefig: fig.savefig(path_to_results / f'{ukca_run_name}_{atom_ukca_datetime_match}_cs_RH_C5n.png', bbox_inches='tight')"
   ]
  },
  {
   "cell_type": "code",
   "execution_count": null,
   "metadata": {},
   "outputs": [],
   "source": [
    "# Plot cross section along flight track\n",
    "fig, ax = plt.subplots(figsize=(14,5), facecolor='w')\n",
    "p0 = ax.pcolormesh(times, traj2d_cbr_ic5h12.coord('altitude').points, traj2d_cbr_ic5h12.data.squeeze(), \n",
    "                   norm=MidpointNormalize(midpoint=cs_ic5h12_min), vmax=cs_ic5h12_max, **cs_pc_kwargs)\n",
    "p1 = ax.scatter(times, atom_dsmms.G_ALT, c=atom_pdwas_ic5h12.squeeze(), \n",
    "                norm=MidpointNormalize(midpoint=cs_ic5h12_min), vmax=cs_ic5h12_max, **cs_sc_kwargs)\n",
    "fig.colorbar(p0, label='pptvC')\n",
    "# common\n",
    "ax.set_title(f'{str_ic5h12}\\n{atom_date_start.strftime(\"%d %B %Y\")}\\nATom vs UKCA {ukca_run_name} montly mean')\n",
    "ax.set_xlabel('Time, hours (UTC)')\n",
    "ax.set_ylabel('Altitude, km')\n",
    "ax.set_ylim(0,13500)\n",
    "ax.set_xticklabels(times)\n",
    "ax.xaxis.set_major_formatter(DateFormatter('%H:%M'))\n",
    "ax.yaxis.set_major_formatter(FuncFormatter(m2km))\n",
    "ax.margins(x=0)\n",
    "if savefig: fig.savefig(path_to_results / f'{ukca_run_name}_{atom_ukca_datetime_match}_cs_RH_C5i.png', bbox_inches='tight')"
   ]
  },
  {
   "cell_type": "code",
   "execution_count": null,
   "metadata": {},
   "outputs": [],
   "source": [
    "# Plot cross section along flight track\n",
    "fig, ax = plt.subplots(figsize=(14,5), facecolor='w')\n",
    "p0 = ax.pcolormesh(times, traj2d_cbr_meono2.coord('altitude').points, traj2d_cbr_meono2.data.squeeze(), \n",
    "                   norm=MidpointNormalize(midpoint=cs_meono2_min), vmax=cs_meono2_max, **cs_pc_kwargs)\n",
    "p1 = ax.scatter(times, atom_dsmms.G_ALT, c=atom_pdwas_meono2.squeeze(), \n",
    "                norm=MidpointNormalize(midpoint=cs_meono2_min), vmax=cs_meono2_max, **cs_sc_kwargs)\n",
    "fig.colorbar(p0, label='pptvC')\n",
    "# common\n",
    "ax.set_title(f'{str_meono2}\\n{atom_date_start.strftime(\"%d %B %Y\")}\\nATom vs UKCA {ukca_run_name} montly mean')\n",
    "ax.set_xlabel('Time, hours (UTC)')\n",
    "ax.set_ylabel('Altitude, km')\n",
    "ax.set_ylim(0,13500)\n",
    "ax.set_xticklabels(times)\n",
    "ax.xaxis.set_major_formatter(DateFormatter('%H:%M'))\n",
    "ax.yaxis.set_major_formatter(FuncFormatter(m2km))\n",
    "ax.margins(x=0)\n",
    "if savefig: fig.savefig(path_to_results / f'{ukca_run_name}_{atom_ukca_datetime_match}_cs_RONO2_C1.png', bbox_inches='tight')"
   ]
  },
  {
   "cell_type": "code",
   "execution_count": null,
   "metadata": {},
   "outputs": [],
   "source": [
    "# Plot cross section along flight track\n",
    "fig, ax = plt.subplots(figsize=(14,5), facecolor='w')\n",
    "p0 = ax.pcolormesh(times, traj2d_cbr_sbuono2.coord('altitude').points, traj2d_cbr_sbuono2.data.squeeze(), \n",
    "                   norm=MidpointNormalize(midpoint=cs_sbuono2_min), vmax=cs_sbuono2_max, **cs_pc_kwargs)\n",
    "p1 = ax.scatter(times, atom_dsmms.G_ALT, c=atom_pdwas_sbuono2.squeeze(), \n",
    "                norm=MidpointNormalize(midpoint=cs_sbuono2_min), vmax=cs_sbuono2_max, **cs_sc_kwargs)\n",
    "fig.colorbar(p0, label='pptvC')\n",
    "# common\n",
    "ax.set_title(f'{str_sbuono2}\\n{atom_date_start.strftime(\"%d %B %Y\")}\\nATom vs UKCA {ukca_run_name} montly mean')\n",
    "ax.set_xlabel('Time, hours (UTC)')\n",
    "ax.set_ylabel('Altitude, km')\n",
    "ax.set_ylim(0,13500)\n",
    "ax.set_xticklabels(times)\n",
    "ax.xaxis.set_major_formatter(DateFormatter('%H:%M'))\n",
    "ax.yaxis.set_major_formatter(FuncFormatter(m2km))\n",
    "ax.margins(x=0)\n",
    "if savefig: fig.savefig(path_to_results / f'{ukca_run_name}_{atom_ukca_datetime_match}_cs_RONO2_C4s.png', bbox_inches='tight')"
   ]
  },
  {
   "cell_type": "code",
   "execution_count": null,
   "metadata": {},
   "outputs": [],
   "source": [
    "# Plot cross section along flight track\n",
    "fig, ax = plt.subplots(figsize=(14,5), facecolor='w')\n",
    "p0 = ax.pcolormesh(times, traj2d_cbr_n2peono2.coord('altitude').points, traj2d_cbr_n2peono2.data.squeeze(), \n",
    "                   norm=MidpointNormalize(midpoint=cs_n2peono2_min), vmax=cs_n2peono2_max, **cs_pc_kwargs)\n",
    "p1 = ax.scatter(times, atom_dsmms.G_ALT, c=atom_pdwas_n2peono2.squeeze(), \n",
    "                norm=MidpointNormalize(midpoint=cs_n2peono2_min), vmax=cs_n2peono2_max, **cs_sc_kwargs)\n",
    "fig.colorbar(p0, label='pptvC')\n",
    "# common\n",
    "ax.set_title(f'{str_n2peono2}\\n{atom_date_start.strftime(\"%d %B %Y\")}\\nATom vs UKCA {ukca_run_name} montly mean')\n",
    "ax.set_xlabel('Time, hours (UTC)')\n",
    "ax.set_ylabel('Altitude, km')\n",
    "ax.set_ylim(0,13500)\n",
    "ax.set_xticklabels(times)\n",
    "ax.xaxis.set_major_formatter(DateFormatter('%H:%M'))\n",
    "ax.yaxis.set_major_formatter(FuncFormatter(m2km))\n",
    "ax.margins(x=0)\n",
    "if savefig: fig.savefig(path_to_results / f'{ukca_run_name}_{atom_ukca_datetime_match}_cs_RONO2_C5nB.png', bbox_inches='tight')"
   ]
  },
  {
   "cell_type": "code",
   "execution_count": null,
   "metadata": {},
   "outputs": [],
   "source": [
    "# Plot cross section along flight track\n",
    "fig, ax = plt.subplots(figsize=(14,5), facecolor='w')\n",
    "p0 = ax.pcolormesh(times, traj2d_cbr_n3peono2.coord('altitude').points, traj2d_cbr_n3peono2.data.squeeze(), \n",
    "                   norm=MidpointNormalize(midpoint=cs_n3peono2_min), vmax=cs_n3peono2_max, **cs_pc_kwargs)\n",
    "p1 = ax.scatter(times, atom_dsmms.G_ALT, c=atom_pdwas_n3peono2.squeeze(), \n",
    "                norm=MidpointNormalize(midpoint=cs_n3peono2_min), vmax=cs_n3peono2_max, **cs_sc_kwargs)\n",
    "fig.colorbar(p0, label='pptvC')\n",
    "# common\n",
    "ax.set_title(f'{str_n3peono2}\\n{atom_date_start.strftime(\"%d %B %Y\")}\\nATom vs UKCA {ukca_run_name} montly mean')\n",
    "ax.set_xlabel('Time, hours (UTC)')\n",
    "ax.set_ylabel('Altitude, km')\n",
    "ax.set_ylim(0,13500)\n",
    "ax.set_xticklabels(times)\n",
    "ax.xaxis.set_major_formatter(DateFormatter('%H:%M'))\n",
    "ax.yaxis.set_major_formatter(FuncFormatter(m2km))\n",
    "ax.margins(x=0)\n",
    "if savefig: fig.savefig(path_to_results / f'{ukca_run_name}_{atom_ukca_datetime_match}_cs_RONO2_C5nC.png', bbox_inches='tight')"
   ]
  },
  {
   "cell_type": "code",
   "execution_count": null,
   "metadata": {},
   "outputs": [],
   "source": [
    "# Plot cross section along flight track\n",
    "fig, ax = plt.subplots(figsize=(14,5), facecolor='w')\n",
    "p0 = ax.pcolormesh(times, traj2d_cbr_ipeono2.coord('altitude').points, traj2d_cbr_ipeono2.data.squeeze(), \n",
    "                   norm=MidpointNormalize(midpoint=cs_ipeono2_min), vmax=cs_ipeono2_max, **cs_pc_kwargs)\n",
    "p1 = ax.scatter(times, atom_dsmms.G_ALT, c=atom_pdwas_ipeono2.squeeze(), \n",
    "                norm=MidpointNormalize(midpoint=cs_ipeono2_min), vmax=cs_ipeono2_max, **cs_sc_kwargs)\n",
    "fig.colorbar(p0, label='pptvC')\n",
    "# common\n",
    "ax.set_title(f'{str_ipeono2}\\n{atom_date_start.strftime(\"%d %B %Y\")}\\nATom vs UKCA {ukca_run_name} montly mean')\n",
    "ax.set_xlabel('Time, hours (UTC)')\n",
    "ax.set_ylabel('Altitude, km')\n",
    "ax.set_ylim(0,13500)\n",
    "ax.set_xticklabels(times)\n",
    "ax.xaxis.set_major_formatter(DateFormatter('%H:%M'))\n",
    "ax.yaxis.set_major_formatter(FuncFormatter(m2km))\n",
    "ax.margins(x=0)\n",
    "if savefig: fig.savefig(path_to_results / f'{ukca_run_name}_{atom_ukca_datetime_match}_cs_RONO2_C5i.png', bbox_inches='tight')"
   ]
  },
  {
   "cell_type": "markdown",
   "metadata": {},
   "source": [
    "#### Flight concentrations at all altitudes and model surface concentration (hybrid height level 0) "
   ]
  },
  {
   "cell_type": "code",
   "execution_count": null,
   "metadata": {},
   "outputs": [],
   "source": [
    "# Add a cyclic point to model data for plotting it on a map\n",
    "cyclic_c2h6, cyclic_lons = cartopy.util.add_cyclic_point(cb_c2h6.data*2, coord=cb_c2h6.coord('longitude').points)\n",
    "cyclic_c3h8 = cartopy.util.add_cyclic_point(cb_c3h8.data*3)\n",
    "cyclic_nc4h10 = cartopy.util.add_cyclic_point(cb_nc4h10.data)\n",
    "cyclic_ic4h10 = cartopy.util.add_cyclic_point(cb_ic4h10.data)\n",
    "cyclic_nc5h12 = cartopy.util.add_cyclic_point(cb_nc5h12.data)\n",
    "cyclic_ic5h12 = cartopy.util.add_cyclic_point(cb_ic5h12.data)\n",
    "cyclic_meono2 = cartopy.util.add_cyclic_point(cb_meono2.data)\n",
    "cyclic_sbuono2 = cartopy.util.add_cyclic_point(cb_sbuono2.data)\n",
    "cyclic_n2peono2 = cartopy.util.add_cyclic_point(cb_n2peono2.data)\n",
    "cyclic_n3peono2 = cartopy.util.add_cyclic_point(cb_n3peono2.data)\n",
    "cyclic_ipeono2 = cartopy.util.add_cyclic_point(cb_ipeono2.data)"
   ]
  },
  {
   "cell_type": "code",
   "execution_count": null,
   "metadata": {},
   "outputs": [],
   "source": [
    "# Select longitudes and latitudes where ATom data is available\n",
    "lons_c2h6_notnan = np.where(atom_pdwas_c2h6.Lumped_C2H6_C2H4_C2H2.isna()==False, sample_lons, atom_pdwas_c2h6.Lumped_C2H6_C2H4_C2H2)\n",
    "lats_c2h6_notnan = np.where(atom_pdwas_c2h6.Lumped_C2H6_C2H4_C2H2.isna()==False, sample_lats, atom_pdwas_c2h6.Lumped_C2H6_C2H4_C2H2)\n",
    "lons_c3h8_notnan = np.where(atom_pdwas_c3h8.Lumped_C3H8_C3H6.isna()==False, sample_lons, atom_pdwas_c3h8.Lumped_C3H8_C3H6)\n",
    "lats_c3h8_notnan = np.where(atom_pdwas_c3h8.Lumped_C3H8_C3H6.isna()==False, sample_lats, atom_pdwas_c3h8.Lumped_C3H8_C3H6)\n",
    "lons_nc4h10_notnan = np.where(atom_pdwas_nc4h10['n-Butane_WAS'].isna()==False, sample_lons, atom_pdwas_nc4h10['n-Butane_WAS'])\n",
    "lats_nc4h10_notnan = np.where(atom_pdwas_nc4h10['n-Butane_WAS'].isna()==False, sample_lats, atom_pdwas_nc4h10['n-Butane_WAS'])\n",
    "lons_ic4h10_notnan = np.where(atom_pdwas_ic4h10['i-Butane_WAS'].isna()==False, sample_lons, atom_pdwas_ic4h10['i-Butane_WAS'])\n",
    "lats_ic4h10_notnan = np.where(atom_pdwas_ic4h10['i-Butane_WAS'].isna()==False, sample_lats, atom_pdwas_ic4h10['i-Butane_WAS'])\n",
    "lons_nc5h12_notnan = np.where(atom_pdwas_nc5h12['n-Pentane_WAS'].isna()==False, sample_lons, atom_pdwas_nc5h12['n-Pentane_WAS'])\n",
    "lats_nc5h12_notnan = np.where(atom_pdwas_nc5h12['n-Pentane_WAS'].isna()==False, sample_lats, atom_pdwas_nc5h12['n-Pentane_WAS'])\n",
    "lons_ic5h12_notnan = np.where(atom_pdwas_ic5h12['i-Pentane_WAS'].isna()==False, sample_lons, atom_pdwas_ic5h12['i-Pentane_WAS'])\n",
    "lats_ic5h12_notnan = np.where(atom_pdwas_ic5h12['i-Pentane_WAS'].isna()==False, sample_lats, atom_pdwas_ic5h12['i-Pentane_WAS'])\n",
    "lons_meono2_notnan = np.where(atom_pdwas_meono2['MeONO2_WAS'].isna()==False, sample_lons, atom_pdwas_meono2['MeONO2_WAS'])\n",
    "lats_meono2_notnan = np.where(atom_pdwas_meono2['MeONO2_WAS'].isna()==False, sample_lats, atom_pdwas_meono2['MeONO2_WAS'])\n",
    "lons_sbuono2_notnan = np.where(atom_pdwas_sbuono2['2-BuONO2_WAS'].isna()==False, sample_lons, atom_pdwas_sbuono2['2-BuONO2_WAS'])\n",
    "lats_sbuono2_notnan = np.where(atom_pdwas_sbuono2['2-BuONO2_WAS'].isna()==False, sample_lats, atom_pdwas_sbuono2['2-BuONO2_WAS'])\n",
    "lons_n2peono2_notnan = np.where(atom_pdwas_n2peono2['2-PenONO2_WAS'].isna()==False, sample_lons, atom_pdwas_n2peono2['2-PenONO2_WAS'])\n",
    "lats_n2peono2_notnan = np.where(atom_pdwas_n2peono2['2-PenONO2_WAS'].isna()==False, sample_lats, atom_pdwas_n2peono2['2-PenONO2_WAS'])\n",
    "lons_n3peono2_notnan = np.where(atom_pdwas_n3peono2['3-PenONO2_WAS'].isna()==False, sample_lons, atom_pdwas_n3peono2['3-PenONO2_WAS'])\n",
    "lats_n3peono2_notnan = np.where(atom_pdwas_n3peono2['3-PenONO2_WAS'].isna()==False, sample_lats, atom_pdwas_n3peono2['3-PenONO2_WAS'])\n",
    "lons_ipeono2_notnan = np.where(atom_pdwas_ipeono2['3-Methyl-2-BuONO2_WAS'].isna()==False, sample_lons, atom_pdwas_ipeono2['3-Methyl-2-BuONO2_WAS'])\n",
    "lats_ipeono2_notnan = np.where(atom_pdwas_ipeono2['3-Methyl-2-BuONO2_WAS'].isna()==False, sample_lats, atom_pdwas_ipeono2['3-Methyl-2-BuONO2_WAS'])"
   ]
  },
  {
   "cell_type": "code",
   "execution_count": null,
   "metadata": {},
   "outputs": [],
   "source": [
    "# Find max surface concentration in model data\n",
    "mpglb_c2h6_max = int(cyclic_c2h6[0,0,...].max())\n",
    "mpglb_c3h8_max = int(cyclic_c3h8[0,0,...].max())\n",
    "mpglb_nc4h10_max = int(cyclic_nc4h10[0,0,...].max())\n",
    "mpglb_ic4h10_max = int(cyclic_ic4h10[0,0,...].max())\n",
    "mpglb_nc5h12_max = int(cyclic_nc5h12[0,0,...].max())\n",
    "mpglb_ic5h12_max = int(cyclic_ic5h12[0,0,...].max())\n",
    "mpglb_meono2_max = int(cyclic_meono2[0,0,...].max())\n",
    "mpglb_sbuono2_max = int(cyclic_sbuono2[0,0,...].max())\n",
    "mpglb_n2peono2_max = int(cyclic_n2peono2[0,0,...].max())\n",
    "mpglb_n3peono2_max = int(cyclic_n3peono2[0,0,...].max())\n",
    "mpglb_ipeono2_max = int(cyclic_ipeono2[0,0,...].max())\n",
    "print(atom_ukca_datetime_match)\n",
    "print(f'C2H6: {mpglb_c2h6_max}')\n",
    "print(f'C3H8: {mpglb_c3h8_max}')\n",
    "print(f'nC4H10: {mpglb_nc4h10_max}')\n",
    "print(f'iC4H10: {mpglb_ic4h10_max}')\n",
    "print(f'nC5H12: {mpglb_nc5h12_max}')\n",
    "print(f'iC5H12: {mpglb_ic5h12_max}')\n",
    "print(f'MeONO2: {mpglb_meono2_max}')\n",
    "print(f'2-BuONO2: {mpglb_sbuono2_max}')\n",
    "print(f'2-PenONO2: {mpglb_n2peono2_max}')\n",
    "print(f'3-PenONO2: {mpglb_n3peono2_max}')\n",
    "print(f'3-Methyl-2-BuONO2: {mpglb_ipeono2_max}')"
   ]
  },
  {
   "cell_type": "code",
   "execution_count": null,
   "metadata": {},
   "outputs": [],
   "source": [
    "# Choose a range that allows to display the variability in lower concentrations\n",
    "mpglb_c2h6_range = np.arange(0,11000,1000)\n",
    "mpglb_c3h8_range = np.arange(0,4500,500)\n",
    "mpglb_nc4h10_range = np.arange(0,220,20)\n",
    "mpglb_ic4h10_range = np.arange(0,220,20)\n",
    "mpglb_nc5h12_range = np.arange(0,220,20)\n",
    "mpglb_ic5h12_range = np.arange(0,220,20)\n",
    "mpglb_meono2_range = np.arange(0,50,5)\n",
    "mpglb_sbuono2_range = np.arange(0,11,1)\n",
    "mpglb_n2peono2_range = np.arange(0,5.5,0.5)\n",
    "mpglb_n3peono2_range = np.arange(0,5.5,0.5)\n",
    "mpglb_ipeono2_range = np.arange(0,5.5,0.5)"
   ]
  },
  {
   "cell_type": "code",
   "execution_count": null,
   "metadata": {},
   "outputs": [],
   "source": [
    "# Global map plotting parameters\n",
    "mp_cf_kwargs = dict(transform=ccrs.PlateCarree(), cmap='Oranges', extend='max')\n",
    "mp_sc_kwargs = dict(transform=ccrs.PlateCarree(), c='C0', edgecolors='k', linewidth=0.2)\n",
    "# Add locations where ATom fligths stopped\n",
    "if atom_ukca_datetime_match == '160729_1607':\n",
    "    atom_stops = [dict(name='Palmdale', lon=-118.100556, lat=34.581111),\n",
    "                  dict(name='Equator', lon=-120, lat=0)]"
   ]
  },
  {
   "cell_type": "code",
   "execution_count": null,
   "metadata": {},
   "outputs": [],
   "source": [
    "# Plot sampling locations and model surface concentration (hybrid height level 0)\n",
    "fig, ax = plt.subplots(figsize=(10, 10), subplot_kw=dict(projection=ccrs.Robinson(central_longitude=270)), facecolor='w')\n",
    "p1 = ax.contourf(cyclic_lons, cbr_c2h6.coord('latitude').points, cyclic_c2h6[0,0,...], levels=mpglb_c2h6_range, **mp_cf_kwargs)\n",
    "ax.scatter(lons_c2h6_notnan, lats_c2h6_notnan, **mp_sc_kwargs)\n",
    "ax.coastlines()\n",
    "ax.set_global()\n",
    "ax.set_title(f'{str_c2h6}\\n{atom_date_start.strftime(\"%d %B %Y\")}\\nATom vs UKCA {ukca_run_name} montly mean')\n",
    "p1.cmap.set_over('k')\n",
    "fig.colorbar(p1, shrink=0.4, label='pptvC', extend='max')\n",
    "fig.text(0.7, 0.67, f'Maximum: {mpglb_c2h6_max} pptvC')\n",
    "for i in atom_stops: ax.text(i['lon']+4, i['lat'], i['name'], transform=ccrs.PlateCarree(), color='C0')\n",
    "if savefig: fig.savefig(path_to_results / f'{ukca_run_name}_{atom_ukca_datetime_match}_mpglb_RH_C2.png', bbox_inches='tight')"
   ]
  },
  {
   "cell_type": "code",
   "execution_count": null,
   "metadata": {},
   "outputs": [],
   "source": [
    "# Plot sampling locations and model surface concentration (hybrid height level 0)\n",
    "fig, ax = plt.subplots(figsize=(10, 10), subplot_kw=dict(projection=ccrs.Robinson(central_longitude=270)), facecolor='w')\n",
    "p1 = ax.contourf(cyclic_lons, cbr_c3h8.coord('latitude').points, cyclic_c3h8[0,0,...], levels=mpglb_c3h8_range, **mp_cf_kwargs)\n",
    "ax.scatter(lons_c3h8_notnan, lats_c3h8_notnan, **mp_sc_kwargs)\n",
    "ax.coastlines()\n",
    "ax.set_global()\n",
    "ax.set_title(f'{str_c3h8}\\n{atom_date_start.strftime(\"%d %B %Y\")}\\nATom vs UKCA {ukca_run_name} montly mean')\n",
    "p1.cmap.set_over('k')\n",
    "fig.colorbar(p1, shrink=0.4, label='pptvC', extend='max')\n",
    "fig.text(0.7, 0.67, f'Maximum: {mpglb_c3h8_max} pptvC')\n",
    "for i in atom_stops: ax.text(i['lon']+4, i['lat'], i['name'], transform=ccrs.PlateCarree(), color='C0')\n",
    "if savefig: fig.savefig(path_to_results / f'{ukca_run_name}_{atom_ukca_datetime_match}_mpglb_RH_C3.png', bbox_inches='tight')"
   ]
  },
  {
   "cell_type": "code",
   "execution_count": null,
   "metadata": {},
   "outputs": [],
   "source": [
    "# Plot sampling locations and model surface concentration (hybrid height level 0)\n",
    "fig, ax = plt.subplots(figsize=(10, 10), subplot_kw=dict(projection=ccrs.Robinson(central_longitude=270)), facecolor='w')\n",
    "p1 = ax.contourf(cyclic_lons, cbr_nc4h10.coord('latitude').points, cyclic_nc4h10[0,0,...], levels=mpglb_nc4h10_range, **mp_cf_kwargs)\n",
    "ax.scatter(lons_nc4h10_notnan, lats_nc4h10_notnan, **mp_sc_kwargs)\n",
    "ax.coastlines()\n",
    "ax.set_global()\n",
    "ax.set_title(f'{str_nc4h10}\\n{atom_date_start.strftime(\"%d %B %Y\")}\\nATom vs UKCA {ukca_run_name} montly mean')\n",
    "p1.cmap.set_over('k')\n",
    "fig.colorbar(p1, shrink=0.4, label='pptv', extend='max')\n",
    "fig.text(0.7, 0.67, f'Maximum: {mpglb_nc4h10_max} pptv')\n",
    "for i in atom_stops: ax.text(i['lon']+4, i['lat'], i['name'], transform=ccrs.PlateCarree(), color='C0')\n",
    "if savefig: fig.savefig(path_to_results / f'{ukca_run_name}_{atom_ukca_datetime_match}_mpglb_RH_C4n.png', bbox_inches='tight')"
   ]
  },
  {
   "cell_type": "code",
   "execution_count": null,
   "metadata": {},
   "outputs": [],
   "source": [
    "# Plot sampling locations and model surface concentration (hybrid height level 0)\n",
    "fig, ax = plt.subplots(figsize=(10, 10), subplot_kw=dict(projection=ccrs.Robinson(central_longitude=270)), facecolor='w')\n",
    "p1 = ax.contourf(cyclic_lons, cbr_ic4h10.coord('latitude').points, cyclic_ic4h10[0,0,...], levels=mpglb_ic4h10_range, **mp_cf_kwargs)\n",
    "ax.scatter(lons_ic4h10_notnan, lats_ic4h10_notnan, **mp_sc_kwargs)\n",
    "ax.coastlines()\n",
    "ax.set_global()\n",
    "ax.set_title(f'{str_ic4h10}\\n{atom_date_start.strftime(\"%d %B %Y\")}\\nATom vs UKCA {ukca_run_name} montly mean')\n",
    "p1.cmap.set_over('k')\n",
    "fig.colorbar(p1, shrink=0.4, label='pptv', extend='max')\n",
    "fig.text(0.7, 0.67, f'Maximum: {mpglb_ic4h10_max} pptv')\n",
    "for i in atom_stops: ax.text(i['lon']+4, i['lat'], i['name'], transform=ccrs.PlateCarree(), color='C0')\n",
    "if savefig: fig.savefig(path_to_results / f'{ukca_run_name}_{atom_ukca_datetime_match}_mpglb_RH_C4i.png', bbox_inches='tight')"
   ]
  },
  {
   "cell_type": "code",
   "execution_count": null,
   "metadata": {},
   "outputs": [],
   "source": [
    "# Plot sampling locations and model surface concentration (hybrid height level 0)\n",
    "fig, ax = plt.subplots(figsize=(10, 10), subplot_kw=dict(projection=ccrs.Robinson(central_longitude=270)), facecolor='w')\n",
    "p1 = ax.contourf(cyclic_lons, cbr_nc5h12.coord('latitude').points, cyclic_nc5h12[0,0,...], levels=mpglb_nc5h12_range, **mp_cf_kwargs)\n",
    "ax.scatter(lons_nc5h12_notnan, lats_nc5h12_notnan, **mp_sc_kwargs)\n",
    "ax.coastlines()\n",
    "ax.set_global()\n",
    "ax.set_title(f'{str_nc5h12}\\n{atom_date_start.strftime(\"%d %B %Y\")}\\nATom vs UKCA {ukca_run_name} montly mean')\n",
    "p1.cmap.set_over('k')\n",
    "fig.colorbar(p1, shrink=0.4, label='pptv', extend='max')\n",
    "fig.text(0.7, 0.67, f'Maximum: {mpglb_nc5h12_max} pptv')\n",
    "for i in atom_stops: ax.text(i['lon']+4, i['lat'], i['name'], transform=ccrs.PlateCarree(), color='C0')\n",
    "if savefig: fig.savefig(path_to_results / f'{ukca_run_name}_{atom_ukca_datetime_match}_mpglb_RH_C5n.png', bbox_inches='tight')"
   ]
  },
  {
   "cell_type": "code",
   "execution_count": null,
   "metadata": {},
   "outputs": [],
   "source": [
    "# Plot sampling locations and model surface concentration (hybrid height level 0)\n",
    "fig, ax = plt.subplots(figsize=(10, 10), subplot_kw=dict(projection=ccrs.Robinson(central_longitude=270)), facecolor='w')\n",
    "p1 = ax.contourf(cyclic_lons, cbr_ic5h12.coord('latitude').points, cyclic_ic5h12[0,0,...], levels=mpglb_ic5h12_range, **mp_cf_kwargs)\n",
    "ax.scatter(lons_ic5h12_notnan, lats_ic5h12_notnan, **mp_sc_kwargs)\n",
    "ax.coastlines()\n",
    "ax.set_global()\n",
    "ax.set_title(f'{str_ic5h12}\\n{atom_date_start.strftime(\"%d %B %Y\")}\\nATom vs UKCA {ukca_run_name} montly mean')\n",
    "p1.cmap.set_over('k')\n",
    "fig.colorbar(p1, shrink=0.4, label='pptv', extend='max')\n",
    "fig.text(0.7, 0.67, f'Maximum: {mpglb_ic5h12_max} pptv')\n",
    "for i in atom_stops: ax.text(i['lon']+4, i['lat'], i['name'], transform=ccrs.PlateCarree(), color='C0')\n",
    "if savefig: fig.savefig(path_to_results / f'{ukca_run_name}_{atom_ukca_datetime_match}_mpglb_RH_C5i.png', bbox_inches='tight')"
   ]
  },
  {
   "cell_type": "code",
   "execution_count": null,
   "metadata": {},
   "outputs": [],
   "source": [
    "# Plot sampling locations and model surface concentration (hybrid height level 0)\n",
    "fig, ax = plt.subplots(figsize=(10, 10), subplot_kw=dict(projection=ccrs.Robinson(central_longitude=270)), facecolor='w')\n",
    "p1 = ax.contourf(cyclic_lons, cbr_meono2.coord('latitude').points, cyclic_meono2[0,0,...], levels=mpglb_meono2_range, **mp_cf_kwargs)\n",
    "ax.scatter(lons_meono2_notnan, lats_meono2_notnan, **mp_sc_kwargs)\n",
    "ax.coastlines()\n",
    "ax.set_global()\n",
    "ax.set_title(f'{str_meono2}\\n{atom_date_start.strftime(\"%d %B %Y\")}\\nATom vs UKCA {ukca_run_name} montly mean')\n",
    "p1.cmap.set_over('k')\n",
    "fig.colorbar(p1, shrink=0.4, label='pptv', extend='max')\n",
    "fig.text(0.7, 0.67, f'Maximum: {mpglb_meono2_max} pptv')\n",
    "for i in atom_stops: ax.text(i['lon']+4, i['lat'], i['name'], transform=ccrs.PlateCarree(), color='C0')\n",
    "if savefig: fig.savefig(path_to_results / f'{ukca_run_name}_{atom_ukca_datetime_match}_mpglb_RONO2_C1.png', bbox_inches='tight')"
   ]
  },
  {
   "cell_type": "code",
   "execution_count": null,
   "metadata": {},
   "outputs": [],
   "source": [
    "# Plot sampling locations and model surface concentration (hybrid height level 0)\n",
    "fig, ax = plt.subplots(figsize=(10, 10), subplot_kw=dict(projection=ccrs.Robinson(central_longitude=270)), facecolor='w')\n",
    "p1 = ax.contourf(cyclic_lons, cbr_sbuono2.coord('latitude').points, cyclic_sbuono2[0,0,...], levels=mpglb_sbuono2_range, **mp_cf_kwargs)\n",
    "ax.scatter(lons_sbuono2_notnan, lats_sbuono2_notnan, **mp_sc_kwargs)\n",
    "ax.coastlines()\n",
    "ax.set_global()\n",
    "ax.set_title(f'{str_sbuono2}\\n{atom_date_start.strftime(\"%d %B %Y\")}\\nATom vs UKCA {ukca_run_name} montly mean')\n",
    "p1.cmap.set_over('k')\n",
    "fig.colorbar(p1, shrink=0.4, label='pptv', extend='max')\n",
    "fig.text(0.7, 0.67, f'Maximum: {mpglb_sbuono2_max} pptv')\n",
    "for i in atom_stops: ax.text(i['lon']+4, i['lat'], i['name'], transform=ccrs.PlateCarree(), color='C0')\n",
    "if savefig: fig.savefig(path_to_results / f'{ukca_run_name}_{atom_ukca_datetime_match}_mpglb_RONO2_C4s.png', bbox_inches='tight')"
   ]
  },
  {
   "cell_type": "code",
   "execution_count": null,
   "metadata": {},
   "outputs": [],
   "source": [
    "# Plot sampling locations and model surface concentration (hybrid height level 0)\n",
    "fig, ax = plt.subplots(figsize=(10, 10), subplot_kw=dict(projection=ccrs.Robinson(central_longitude=270)), facecolor='w')\n",
    "p1 = ax.contourf(cyclic_lons, cbr_n2peono2.coord('latitude').points, cyclic_n2peono2[0,0,...], levels=mpglb_n2peono2_range, **mp_cf_kwargs)\n",
    "ax.scatter(lons_n2peono2_notnan, lats_n2peono2_notnan, **mp_sc_kwargs)\n",
    "ax.coastlines()\n",
    "ax.set_global()\n",
    "ax.set_title(f'{str_n2peono2}\\n{atom_date_start.strftime(\"%d %B %Y\")}\\nATom vs UKCA {ukca_run_name} montly mean')\n",
    "p1.cmap.set_over('k')\n",
    "fig.colorbar(p1, shrink=0.4, label='pptv', extend='max')\n",
    "fig.text(0.7, 0.67, f'Maximum: {mpglb_n2peono2_max} pptv')\n",
    "for i in atom_stops: ax.text(i['lon']+4, i['lat'], i['name'], transform=ccrs.PlateCarree(), color='C0')\n",
    "if savefig: fig.savefig(path_to_results / f'{ukca_run_name}_{atom_ukca_datetime_match}_mpglb_RONO2_C5nB.png', bbox_inches='tight')"
   ]
  },
  {
   "cell_type": "code",
   "execution_count": null,
   "metadata": {},
   "outputs": [],
   "source": [
    "# Plot sampling locations and model surface concentration (hybrid height level 0)\n",
    "fig, ax = plt.subplots(figsize=(10, 10), subplot_kw=dict(projection=ccrs.Robinson(central_longitude=270)), facecolor='w')\n",
    "p1 = ax.contourf(cyclic_lons, cbr_n3peono2.coord('latitude').points, cyclic_n3peono2[0,0,...], levels=mpglb_n3peono2_range, **mp_cf_kwargs)\n",
    "ax.scatter(lons_n3peono2_notnan, lats_n3peono2_notnan, **mp_sc_kwargs)\n",
    "ax.coastlines()\n",
    "ax.set_global()\n",
    "ax.set_title(f'{str_n3peono2}\\n{atom_date_start.strftime(\"%d %B %Y\")}\\nATom vs UKCA {ukca_run_name} montly mean')\n",
    "p1.cmap.set_over('k')\n",
    "fig.colorbar(p1, shrink=0.4, label='pptv', extend='max')\n",
    "fig.text(0.7, 0.67, f'Maximum: {mpglb_n3peono2_max} pptv')\n",
    "for i in atom_stops: ax.text(i['lon']+4, i['lat'], i['name'], transform=ccrs.PlateCarree(), color='C0')\n",
    "if savefig: fig.savefig(path_to_results / f'{ukca_run_name}_{atom_ukca_datetime_match}_mpglb_RONO2_C5nC.png', bbox_inches='tight')"
   ]
  },
  {
   "cell_type": "code",
   "execution_count": null,
   "metadata": {},
   "outputs": [],
   "source": [
    "# Plot sampling locations and model surface concentration (hybrid height level 0)\n",
    "fig, ax = plt.subplots(figsize=(10, 10), subplot_kw=dict(projection=ccrs.Robinson(central_longitude=270)), facecolor='w')\n",
    "p1 = ax.contourf(cyclic_lons, cbr_ipeono2.coord('latitude').points, cyclic_ipeono2[0,0,...], levels=mpglb_ipeono2_range, **mp_cf_kwargs)\n",
    "ax.scatter(lons_ipeono2_notnan, lats_ipeono2_notnan, **mp_sc_kwargs)\n",
    "ax.coastlines()\n",
    "ax.set_global()\n",
    "ax.set_title(f'{str_ipeono2}\\n{atom_date_start.strftime(\"%d %B %Y\")}\\nATom vs UKCA {ukca_run_name} montly mean')\n",
    "p1.cmap.set_over('k')\n",
    "fig.colorbar(p1, shrink=0.4, label='pptv', extend='max')\n",
    "fig.text(0.7, 0.67, f'Maximum: {mpglb_ipeono2_max} pptv')\n",
    "for i in atom_stops: ax.text(i['lon']+4, i['lat'], i['name'], transform=ccrs.PlateCarree(), color='C0')\n",
    "if savefig: fig.savefig(path_to_results / f'{ukca_run_name}_{atom_ukca_datetime_match}_mpglb_RONO2_C5i.png', bbox_inches='tight')"
   ]
  },
  {
   "cell_type": "markdown",
   "metadata": {},
   "source": [
    "#### Plot all flight track data as a scatter plot"
   ]
  },
  {
   "cell_type": "code",
   "execution_count": null,
   "metadata": {},
   "outputs": [],
   "source": [
    "# Find max concentration between observational and model trajectory data\n",
    "sct_max_c2h6 = max(np.nanmax(atom_pdwas_c2h6.values), np.nanmax(traj3d_cbr_c2h6.data*2))\n",
    "sct_max_c3h8 = max(np.nanmax(atom_pdwas_c3h8.values), np.nanmax(traj3d_cbr_c3h8.data*3))\n",
    "sct_max_nc4h10 = max(np.nanmax(atom_pdwas_nc4h10.values), np.nanmax(traj3d_cbr_nc4h10.data))\n",
    "sct_max_ic4h10 = max(np.nanmax(atom_pdwas_ic4h10.values), np.nanmax(traj3d_cbr_ic4h10.data))\n",
    "sct_max_nc5h12 = max(np.nanmax(atom_pdwas_nc5h12.values), np.nanmax(traj3d_cbr_nc5h12.data))\n",
    "sct_max_ic5h12 = max(np.nanmax(atom_pdwas_ic5h12.values), np.nanmax(traj3d_cbr_ic5h12.data))\n",
    "sct_max_meono2 = max(np.nanmax(atom_pdwas_meono2.values), np.nanmax(traj3d_cbr_meono2.data))\n",
    "sct_max_sbuono2 = max(np.nanmax(atom_pdwas_sbuono2.values), np.nanmax(traj3d_cbr_sbuono2.data))\n",
    "sct_max_n2peono2 = max(np.nanmax(atom_pdwas_n2peono2.values), np.nanmax(traj3d_cbr_n2peono2.data))\n",
    "sct_max_n3peono2 = max(np.nanmax(atom_pdwas_n3peono2.values), np.nanmax(traj3d_cbr_n3peono2.data))\n",
    "sct_max_ipeono2 = max(np.nanmax(atom_pdwas_ipeono2.values), np.nanmax(traj3d_cbr_ipeono2.data))"
   ]
  },
  {
   "cell_type": "code",
   "execution_count": null,
   "metadata": {},
   "outputs": [],
   "source": [
    "# Plot all flight track data as a scatter plot\n",
    "fig, ax = plt.subplots(figsize=(6,5), facecolor='w')\n",
    "p0 = ax.scatter(atom_pdwas_c2h6.squeeze(), traj3d_cbr_c2h6.data.squeeze()*2, c=atom_dsmms.G_ALT)\n",
    "ax.plot([0, sct_max_c2h6+1], [0, sct_max_c2h6+1], color='k', linestyle='--') # 'one-to-one' line\n",
    "ax.set_title(f'{str_c2h6}, pptvC\\n{atom_date_start.strftime(\"%d %B %Y\")}')\n",
    "ax.set_xlabel('ATom')\n",
    "ax.set_ylabel(f'UKCA {ukca_run_name} montly mean')\n",
    "ax.set_xlim(0, sct_max_c2h6+1)\n",
    "ax.set_ylim(0, sct_max_c2h6+1)\n",
    "fig.colorbar(p0, label='Altitude, km', format=FuncFormatter(m2km))\n",
    "if savefig: fig.savefig(path_to_results / f'{ukca_run_name}_{atom_ukca_datetime_match}_1to1_RH_C2.png', bbox_inches='tight')"
   ]
  },
  {
   "cell_type": "code",
   "execution_count": null,
   "metadata": {},
   "outputs": [],
   "source": [
    "# Plot all flight track data as a scatter plot\n",
    "fig, ax = plt.subplots(figsize=(6,5), facecolor='w')\n",
    "p0 = ax.scatter(atom_pdwas_c3h8.squeeze(), traj3d_cbr_c3h8.data.squeeze()*3, c=atom_dsmms.G_ALT)\n",
    "ax.plot([0, sct_max_c3h8+1], [0, sct_max_c3h8+1], color='k', linestyle='--') # 'one-to-one' line\n",
    "ax.set_title(f'{str_c3h8}, pptvC\\n{atom_date_start.strftime(\"%d %B %Y\")}')\n",
    "ax.set_xlabel('ATom')\n",
    "ax.set_ylabel(f'UKCA {ukca_run_name} montly mean')\n",
    "ax.set_xlim(0, sct_max_c3h8+1)\n",
    "ax.set_ylim(0, sct_max_c3h8+1)\n",
    "fig.colorbar(p0, label='Altitude, km', format=FuncFormatter(m2km))\n",
    "if savefig: fig.savefig(path_to_results / f'{ukca_run_name}_{atom_ukca_datetime_match}_1to1_RH_C3.png', bbox_inches='tight')"
   ]
  },
  {
   "cell_type": "code",
   "execution_count": null,
   "metadata": {},
   "outputs": [],
   "source": [
    "# Plot all flight track data as a scatter plot\n",
    "fig, ax = plt.subplots(figsize=(6,5), facecolor='w')\n",
    "p0 = ax.scatter(atom_pdwas_nc4h10.squeeze(), traj3d_cbr_nc4h10.data.squeeze(), c=atom_dsmms.G_ALT)\n",
    "ax.plot([0, sct_max_nc4h10+1], [0, sct_max_nc4h10+1], color='k', linestyle='--') # 'one-to-one' line\n",
    "ax.set_title(f'{str_nc4h10}, pptv\\n{atom_date_start.strftime(\"%d %B %Y\")}')\n",
    "ax.set_xlabel('ATom')\n",
    "ax.set_ylabel(f'UKCA {ukca_run_name} montly mean')\n",
    "ax.set_xlim(0, sct_max_nc4h10+1)\n",
    "ax.set_ylim(0, sct_max_nc4h10+1)\n",
    "fig.colorbar(p0, label='Altitude, km', format=FuncFormatter(m2km))\n",
    "if savefig: fig.savefig(path_to_results / f'{ukca_run_name}_{atom_ukca_datetime_match}_1to1_RH_C4n.png', bbox_inches='tight')"
   ]
  },
  {
   "cell_type": "code",
   "execution_count": null,
   "metadata": {},
   "outputs": [],
   "source": [
    "# Plot all flight track data as a scatter plot\n",
    "fig, ax = plt.subplots(figsize=(6,5), facecolor='w')\n",
    "p0 = ax.scatter(atom_pdwas_ic4h10.squeeze(), traj3d_cbr_ic4h10.data.squeeze(), c=atom_dsmms.G_ALT)\n",
    "ax.plot([0, sct_max_ic4h10+1], [0, sct_max_ic4h10+1], color='k', linestyle='--') # 'one-to-one' line\n",
    "ax.set_title(f'{str_ic4h10}, pptv\\n{atom_date_start.strftime(\"%d %B %Y\")}')\n",
    "ax.set_xlabel('ATom')\n",
    "ax.set_ylabel(f'UKCA {ukca_run_name} montly mean')\n",
    "ax.set_xlim(0, sct_max_ic4h10+1)\n",
    "ax.set_ylim(0, sct_max_ic4h10+1)\n",
    "fig.colorbar(p0, label='Altitude, km', format=FuncFormatter(m2km))\n",
    "if savefig: fig.savefig(path_to_results / f'{ukca_run_name}_{atom_ukca_datetime_match}_1to1_RH_C4i.png', bbox_inches='tight')"
   ]
  },
  {
   "cell_type": "code",
   "execution_count": null,
   "metadata": {},
   "outputs": [],
   "source": [
    "# Plot all flight track data as a scatter plot\n",
    "fig, ax = plt.subplots(figsize=(6,5), facecolor='w')\n",
    "p0 = ax.scatter(atom_pdwas_nc5h12.squeeze(), traj3d_cbr_nc5h12.data.squeeze(), c=atom_dsmms.G_ALT)\n",
    "ax.plot([0, sct_max_nc5h12+1], [0, sct_max_nc5h12+1], color='k', linestyle='--') # 'one-to-one' line\n",
    "ax.set_title(f'{str_nc5h12}, pptv\\n{atom_date_start.strftime(\"%d %B %Y\")}')\n",
    "ax.set_xlabel('ATom')\n",
    "ax.set_ylabel(f'UKCA {ukca_run_name} montly mean')\n",
    "ax.set_xlim(0, sct_max_nc5h12+1)\n",
    "ax.set_ylim(0, sct_max_nc5h12+1)\n",
    "fig.colorbar(p0, label='Altitude, km', format=FuncFormatter(m2km))\n",
    "if savefig: fig.savefig(path_to_results / f'{ukca_run_name}_{atom_ukca_datetime_match}_1to1_RH_C5n.png', bbox_inches='tight')"
   ]
  },
  {
   "cell_type": "code",
   "execution_count": null,
   "metadata": {},
   "outputs": [],
   "source": [
    "# Plot all flight track data as a scatter plot\n",
    "fig, ax = plt.subplots(figsize=(6,5), facecolor='w')\n",
    "p0 = ax.scatter(atom_pdwas_ic5h12.squeeze(), traj3d_cbr_ic5h12.data.squeeze(), c=atom_dsmms.G_ALT)\n",
    "ax.plot([0, sct_max_ic5h12+1], [0, sct_max_ic5h12+1], color='k', linestyle='--') # 'one-to-one' line\n",
    "ax.set_title(f'{str_ic5h12}, pptv\\n{atom_date_start.strftime(\"%d %B %Y\")}')\n",
    "ax.set_xlabel('ATom')\n",
    "ax.set_ylabel(f'UKCA {ukca_run_name} montly mean')\n",
    "ax.set_xlim(0, sct_max_ic5h12+1)\n",
    "ax.set_ylim(0, sct_max_ic5h12+1)\n",
    "fig.colorbar(p0, label='Altitude, km', format=FuncFormatter(m2km))\n",
    "if savefig: fig.savefig(path_to_results / f'{ukca_run_name}_{atom_ukca_datetime_match}_1to1_RH_C5i.png', bbox_inches='tight')"
   ]
  },
  {
   "cell_type": "code",
   "execution_count": null,
   "metadata": {},
   "outputs": [],
   "source": [
    "# Plot all flight track data as a scatter plot\n",
    "fig, ax = plt.subplots(figsize=(6,5), facecolor='w')\n",
    "p0 = ax.scatter(atom_pdwas_meono2.squeeze(), traj3d_cbr_meono2.data.squeeze(), c=atom_dsmms.G_ALT)\n",
    "ax.plot([0, sct_max_meono2+1], [0, sct_max_meono2+1], color='k', linestyle='--') # 'one-to-one' line\n",
    "ax.set_title(f'{str_meono2}, pptv\\n{atom_date_start.strftime(\"%d %B %Y\")}')\n",
    "ax.set_xlabel('ATom')\n",
    "ax.set_ylabel(f'UKCA {ukca_run_name} montly mean')\n",
    "ax.set_xlim(0, sct_max_meono2+1)\n",
    "ax.set_ylim(0, sct_max_meono2+1)\n",
    "fig.colorbar(p0, label='Altitude, km', format=FuncFormatter(m2km))\n",
    "if savefig: fig.savefig(path_to_results / f'{ukca_run_name}_{atom_ukca_datetime_match}_1to1_RONO2_C1.png', bbox_inches='tight')"
   ]
  },
  {
   "cell_type": "code",
   "execution_count": null,
   "metadata": {},
   "outputs": [],
   "source": [
    "# Plot all flight track data as a scatter plot\n",
    "fig, ax = plt.subplots(figsize=(6,5), facecolor='w')\n",
    "p0 = ax.scatter(atom_pdwas_sbuono2.squeeze(), traj3d_cbr_sbuono2.data.squeeze(), c=atom_dsmms.G_ALT)\n",
    "ax.plot([0, sct_max_sbuono2+1], [0, sct_max_sbuono2+1], color='k', linestyle='--') # 'one-to-one' line\n",
    "ax.set_title(f'{str_sbuono2}, pptv\\n{atom_date_start.strftime(\"%d %B %Y\")}')\n",
    "ax.set_xlabel('ATom')\n",
    "ax.set_ylabel(f'UKCA {ukca_run_name} montly mean')\n",
    "ax.set_xlim(0, sct_max_sbuono2+1)\n",
    "ax.set_ylim(0, sct_max_sbuono2+1)\n",
    "fig.colorbar(p0, label='Altitude, km', format=FuncFormatter(m2km))\n",
    "if savefig: fig.savefig(path_to_results / f'{ukca_run_name}_{atom_ukca_datetime_match}_1to1_RONO2_C4s.png', bbox_inches='tight')"
   ]
  },
  {
   "cell_type": "code",
   "execution_count": null,
   "metadata": {},
   "outputs": [],
   "source": [
    "# Plot all flight track data as a scatter plot\n",
    "fig, ax = plt.subplots(figsize=(6,5), facecolor='w')\n",
    "p0 = ax.scatter(atom_pdwas_n2peono2.squeeze(), traj3d_cbr_n2peono2.data.squeeze(), c=atom_dsmms.G_ALT)\n",
    "ax.plot([0, sct_max_n2peono2+1], [0, sct_max_n2peono2+1], color='k', linestyle='--') # 'one-to-one' line\n",
    "ax.set_title(f'{str_n2peono2}, pptv\\n{atom_date_start.strftime(\"%d %B %Y\")}')\n",
    "ax.set_xlabel('ATom')\n",
    "ax.set_ylabel(f'UKCA {ukca_run_name} montly mean')\n",
    "ax.set_xlim(0, sct_max_n2peono2+1)\n",
    "ax.set_ylim(0, sct_max_n2peono2+1)\n",
    "fig.colorbar(p0, label='Altitude, km', format=FuncFormatter(m2km))\n",
    "if savefig: fig.savefig(path_to_results / f'{ukca_run_name}_{atom_ukca_datetime_match}_1to1_RONO2_C5nB.png', bbox_inches='tight')"
   ]
  },
  {
   "cell_type": "code",
   "execution_count": null,
   "metadata": {},
   "outputs": [],
   "source": [
    "# Plot all flight track data as a scatter plot\n",
    "fig, ax = plt.subplots(figsize=(6,5), facecolor='w')\n",
    "p0 = ax.scatter(atom_pdwas_n3peono2.squeeze(), traj3d_cbr_n3peono2.data.squeeze(), c=atom_dsmms.G_ALT)\n",
    "ax.plot([0, sct_max_n3peono2+1], [0, sct_max_n3peono2+1], color='k', linestyle='--') # 'one-to-one' line\n",
    "ax.set_title(f'{str_n3peono2}, pptv\\n{atom_date_start.strftime(\"%d %B %Y\")}')\n",
    "ax.set_xlabel('ATom')\n",
    "ax.set_ylabel(f'UKCA {ukca_run_name} montly mean')\n",
    "ax.set_xlim(0, sct_max_n3peono2+1)\n",
    "ax.set_ylim(0, sct_max_n3peono2+1)\n",
    "fig.colorbar(p0, label='Altitude, km', format=FuncFormatter(m2km))\n",
    "if savefig: fig.savefig(path_to_results / f'{ukca_run_name}_{atom_ukca_datetime_match}_1to1_RONO2_C5nC.png', bbox_inches='tight')"
   ]
  },
  {
   "cell_type": "code",
   "execution_count": null,
   "metadata": {},
   "outputs": [],
   "source": [
    "# Plot all flight track data as a scatter plot\n",
    "fig, ax = plt.subplots(figsize=(6,5), facecolor='w')\n",
    "p0 = ax.scatter(atom_pdwas_ipeono2.squeeze(), traj3d_cbr_ipeono2.data.squeeze(), c=atom_dsmms.G_ALT)\n",
    "ax.plot([0, sct_max_ipeono2+1], [0, sct_max_ipeono2+1], color='k', linestyle='--') # 'one-to-one' line\n",
    "ax.set_title(f'{str_ipeono2}, pptv\\n{atom_date_start.strftime(\"%d %B %Y\")}')\n",
    "ax.set_xlabel('ATom')\n",
    "ax.set_ylabel(f'UKCA {ukca_run_name} montly mean')\n",
    "ax.set_xlim(0, sct_max_ipeono2+1)\n",
    "ax.set_ylim(0, sct_max_ipeono2+1)\n",
    "fig.colorbar(p0, label='Altitude, km', format=FuncFormatter(m2km))\n",
    "if savefig: fig.savefig(path_to_results / f'{ukca_run_name}_{atom_ukca_datetime_match}_1to1_RONO2_C5i.png', bbox_inches='tight')"
   ]
  },
  {
   "cell_type": "markdown",
   "metadata": {},
   "source": [
    "#### Vertical profile along flight track"
   ]
  },
  {
   "cell_type": "code",
   "execution_count": null,
   "metadata": {},
   "outputs": [],
   "source": [
    "# Choose bins\n",
    "alt_bins = np.arange(0, 14000, 500)\n",
    "alt_mod_bin_inds = np.arange(0, len(alt_bins), 1)\n",
    "alt_obs_bin_inds = np.digitize(atom_dsmms.G_ALT.data, alt_bins)\n",
    "# Bin observational data\n",
    "obs_meono2_bin_mean = atom_pdwas_meono2.groupby(alt_obs_bin_inds).mean().reindex(index=alt_mod_bin_inds, fill_value=np.nan)\n",
    "obs_meono2_bin_min = atom_pdwas_meono2.groupby(alt_obs_bin_inds).min().reindex(index=alt_mod_bin_inds, fill_value=np.nan)\n",
    "obs_meono2_bin_max = atom_pdwas_meono2.groupby(alt_obs_bin_inds).max().reindex(index=alt_mod_bin_inds, fill_value=np.nan)\n",
    "# Convert iris cube with model data to pandas dataframe\n",
    "traj_cbr2pd_meono2 = traj3d_cbr_meono2.copy()\n",
    "traj_cbr2pd_meono2.remove_coord('t')\n",
    "traj_cbr2pd_meono2.remove_coord('longitude')\n",
    "traj_cbr2pd_meono2.remove_coord('latitude')\n",
    "# for cube in cubes:\n",
    "#     for i in ('t', 'longitude', 'latitude'):\n",
    "#         cube.remove_coord(i)\n",
    "traj_pd_meono2 = iris.pandas.as_data_frame(traj_cbr2pd_meono2).T\n",
    "# Bin model data\n",
    "mod_meono2_bin_mean = traj_pd_meono2.groupby(alt_obs_bin_inds).mean().reindex(index=alt_mod_bin_inds, fill_value=np.nan)\n",
    "mod_meono2_bin_min = traj_pd_meono2.groupby(alt_obs_bin_inds).min().reindex(index=alt_mod_bin_inds, fill_value=np.nan)\n",
    "mod_meono2_bin_max = traj_pd_meono2.groupby(alt_obs_bin_inds).max().reindex(index=alt_mod_bin_inds, fill_value=np.nan)"
   ]
  },
  {
   "cell_type": "code",
   "execution_count": null,
   "metadata": {},
   "outputs": [],
   "source": [
    "# Vertical profile plotting parameters\n",
    "vp_barh_kwargs = dict(height=200, align='center', alpha=0.7)"
   ]
  },
  {
   "cell_type": "code",
   "execution_count": null,
   "metadata": {},
   "outputs": [],
   "source": [
    "# Plot vertical profile along flight track\n",
    "fig, ax = plt.subplots(figsize=(7,7), facecolor='w')\n",
    "ax.plot(obs_meono2_bin_mean, alt_bins, color='k')\n",
    "ax.barh(alt_bins, obs_meono2_bin_max.MeONO2_WAS-obs_meono2_bin_min.MeONO2_WAS, left=obs_meono2_bin_min.MeONO2_WAS, color='k', **vp_barh_kwargs)\n",
    "ax.plot(mod_meono2_bin_mean, alt_bins, color='r')\n",
    "ax.barh(alt_bins, (mod_meono2_bin_max[0]-mod_meono2_bin_min[0]), left=mod_meono2_bin_min[0], color='r', **vp_barh_kwargs)\n",
    "# common\n",
    "ax.set_title(f'{str_meono2}, pptv\\n{atom_date_start.strftime(\"%d %B %Y\")}')\n",
    "ax.set_ylabel('Altitude, km')\n",
    "ax.set_ylim(-200,13500)\n",
    "ax.set_yticks(alt_bins)\n",
    "ax.set_yticklabels(map(int,(alt_bins/1000)))\n",
    "ax.legend(['ATom', 'UKCA ax631a montly mean'])\n",
    "for ytcklbl in ax.yaxis.get_ticklabels()[1::2]:\n",
    "    ytcklbl.set_visible(False)\n",
    "if savefig: fig.savefig(path_to_results / f'{ukca_run_name}_{atom_ukca_datetime_match}_vp_RONO2_C1.png', bbox_inches='tight')"
   ]
  },
  {
   "cell_type": "code",
   "execution_count": null,
   "metadata": {},
   "outputs": [],
   "source": [
    "# # Useful reference code\n",
    "# from cf_units import Unit\n",
    "# # Correct hybrid_height units from 'unknown' to 'm'\n",
    "# cb_meono2.coord('Hybrid height').units = Unit('m')\n",
    "# # Add surface_altitude coordinate to the cube\n",
    "# new_coord = iris.coords.AuxCoord(cb_srf_alt.data, standard_name='surface_altitude', units='m')\n",
    "# cb_meono2.add_aux_coord(new_coord, data_dims=[2, 3])\n",
    "# # Derive altitude coordinate from surface_altitude\n",
    "# factory = iris.aux_factory.HybridHeightFactory(delta=cb_meono2.coord('Hybrid height'), \n",
    "#                                                orography=cb_meono2.coord('surface_altitude'))\n",
    "# cb_meono2.add_aux_factory(factory)\n",
    "# # Relevel model data from hybrid_height to target levels (called here height)\n",
    "# tgt_levels = np.arange(0, 14000, 100)\n",
    "# height_coord = cb_meono2.coord('altitude').copy() # avoid duplication of coordinate names\n",
    "# height_coord.rename('height')\n",
    "# src_levels = height_coord\n",
    "\n",
    "# cbr_meono2 = stratify.relevel(cb_meono2, src_levels, tgt_levels, axis='Hybrid height')"
   ]
  },
  {
   "cell_type": "code",
   "execution_count": null,
   "metadata": {
    "nbpresent": {
     "id": "4d33882b-bc90-4f11-87b4-6bde101d2bc4"
    }
   },
   "outputs": [],
   "source": [
    "# UKCA diagnostic (nudged) runs variable names\n",
    "# field2101 O3 MASS MIXING RATIO AFTER TIMESTEP\n",
    "# field2181 OH MASS MIXING RATIO AFTER TIMESTEP\n",
    "# field2182 HO2 MASS MIXING RATIO AFTER TIMESTEP\n",
    "\n",
    "# field2102 NO MASS MIXING RATIO AFTER TIMESTEP\n",
    "# field2110 CO MASS MIXING RATIO AFTER TSTEP\n",
    "# field2109 CH4 MASS MIXING RATIO AFTER TSTEP\n",
    "# field2114 C2H6 MASS MIXING RATIO AFTER TSTEP\n",
    "# field2118 C3H8 MASS MIXING RATIO AFTER TSTEP\n",
    "# field2273 n-C4H10 MASS MIXING RATIO AFTER TS\n",
    "# field2274 i-C4H10 MASS MIXING RATIO AFTER TS\n",
    "# field2275 n-C5H12 MASS MIXING RATIO AFTER TS\n",
    "# field2276 i-C5H12 MASS MIXING RATIO AFTER TS\n",
    "\n",
    "# field2125 MeONO2 MASS MIXING RATIO AFTER TSTEP\n",
    "# field2287 n-BuONO2 MASS MIXING RATIO AFTER TS\n",
    "# field2288 s-BuONO2 MASS MIXING RATIO AFTER TS\n",
    "# field2289 n-2PeONO2 MASS MIXING RATIO AFTER TS\n",
    "# field2290 n-3PeONO2 MASS MIXING RATIO AFTER TS\n",
    "# field2291 i-PeONO2 MASS MIXING RATIO AFTER TS\n",
    "\n",
    "# field2164 IDT1 MASS MIXING RATIO AFTER TS global 5 day\n",
    "# field2165 IDT2 MASS MIXING RATIO AFTER TS global 30 day\n",
    "# field2165_13 IDT19 MASS MIXING RATIO AFTER TS N America 5 day\n",
    "# field2165_14 IDT20 MASS MIXING RATIO AFTER TS N America 30 day\n",
    "# field2165_17 IDT23 MASS MIXING RATIO AFTER TS Europe 5 day\n",
    "# field2165_18 IDT24 MASS MIXING RATIO AFTER TS Europe 30 day\n",
    "# field2165_19 IDT25 MASS MIXING RATIO AFTER TS N Africa 5 day\n",
    "# field2165_20 IDT26 MASS MIXING RATIO AFTER TS N Africa 30 day"
   ]
  }
 ],
 "metadata": {
  "anaconda-cloud": {},
  "kernelspec": {
   "display_name": "Python 3",
   "language": "python",
   "name": "python3"
  },
  "language_info": {
   "codemirror_mode": {
    "name": "ipython",
    "version": 3
   },
   "file_extension": ".py",
   "mimetype": "text/x-python",
   "name": "python",
   "nbconvert_exporter": "python",
   "pygments_lexer": "ipython3",
   "version": "3.6.6"
  }
 },
 "nbformat": 4,
 "nbformat_minor": 2
}
