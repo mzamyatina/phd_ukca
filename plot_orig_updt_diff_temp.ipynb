{
 "cells": [
  {
   "cell_type": "code",
   "execution_count": 1,
   "metadata": {},
   "outputs": [],
   "source": [
    "# Data processing\n",
    "import iris\n",
    "import iris.analysis\n",
    "import iris.coord_categorisation\n",
    "import warnings\n",
    "warnings.filterwarnings('ignore', module='iris')\n",
    "import numpy as np\n",
    "from pathlib import Path\n",
    "from scipy import stats\n",
    "# Visualization\n",
    "import cartopy.util\n",
    "import cartopy.crs as ccrs\n",
    "import matplotlib as mpl\n",
    "import matplotlib.pyplot as plt\n",
    "import matplotlib.colors as colors\n",
    "from matplotlib.ticker import FuncFormatter\n",
    "class MidpointNormalize(colors.Normalize):\n",
    "    def __init__(self, vmin=None, vmax=None, midpoint=None, clip=False):\n",
    "        self.midpoint = midpoint\n",
    "        colors.Normalize.__init__(self, vmin, vmax, clip)\n",
    "    def __call__(self, value, clip=None):\n",
    "        x, y = [self.vmin, self.midpoint, self.vmax], [0, 0.5, 1]\n",
    "        return np.ma.masked_array(np.interp(value, x, y))\n",
    "def m2km(x, pos):\n",
    "    '''Convert meters to kilometers when plotting axis labels'''\n",
    "    return int(x*1e-3)\n",
    "plt.rcParams['mathtext.default'] = 'regular'\n",
    "savefig = False\n",
    "# Constants\n",
    "str_var = 'T'\n",
    "str_djf = 'DJF'; str_mam = 'MAM'; str_jja = 'JJA'; str_son = 'SON'"
   ]
  },
  {
   "cell_type": "code",
   "execution_count": 2,
   "metadata": {},
   "outputs": [],
   "source": [
    "# Read data\n",
    "base = 'xnvtc'; sens = 'xnvth'; base_plt = 'CheT orig'; sens_plt = 'CheT revised'\n",
    "path_to_ukca = Path('../data')\n",
    "base = iris.load_cube(str(path_to_ukca / base / f'{base}_temp.nc'))\n",
    "sens = iris.load_cube(str(path_to_ukca / sens / f'{sens}_temp.nc'))\n",
    "# Path t\n",
    "path_to_figs = Path('../../../results') / 'deltasign'\n",
    "path_to_figs.mkdir(exist_ok=True)"
   ]
  },
  {
   "cell_type": "code",
   "execution_count": 3,
   "metadata": {},
   "outputs": [],
   "source": [
    "# Calculate seasonal values\n",
    "iris.coord_categorisation.add_season(base, 'time', name='season')\n",
    "iris.coord_categorisation.add_season(sens, 'time', name='season')\n",
    "base_seasonal_mean = base.aggregated_by('season', iris.analysis.MEAN)\n",
    "sens_seasonal_mean = sens.aggregated_by('season', iris.analysis.MEAN)\n",
    "base_seasonal_var = base.aggregated_by('season', iris.analysis.VARIANCE)\n",
    "sens_seasonal_var = sens.aggregated_by('season', iris.analysis.VARIANCE)"
   ]
  },
  {
   "cell_type": "markdown",
   "metadata": {},
   "source": [
    "### Stats"
   ]
  },
  {
   "cell_type": "markdown",
   "metadata": {},
   "source": [
    "H0: two runs have identical mean species concentration.\n",
    "Fail to reject H0: means are equal.\n",
    "Reject H0: means are not equal.\n",
    "\n",
    "if p > 0.05: means are equal (fail to reject H0)\n",
    "else: means are not equal (reject H0)\n",
    "\n",
    "Calculate the T-test for the means of two independent samples of scores. Use scipy.stats.ttest_ind(a, b, axis=0, equal_var=True, nan_policy='propagate'). This is a two-sided test for the null hypothesis that 2 independent samples have identical average (expected) values. This test assumes that the populations have identical variances by default.\n",
    "\n",
    "Note: Variances between UKCA runs are different..."
   ]
  },
  {
   "cell_type": "markdown",
   "metadata": {},
   "source": [
    "#### Zonal seasonal means"
   ]
  },
  {
   "cell_type": "code",
   "execution_count": 4,
   "metadata": {},
   "outputs": [],
   "source": [
    "# Calculate zonal means for each month\n",
    "base_znl_mean = base.collapsed('longitude', iris.analysis.MEAN)\n",
    "sens_znl_mean = sens.collapsed('longitude', iris.analysis.MEAN)\n",
    "# Extract time series of zonal means by season\n",
    "base_znl_djf = base_znl_mean.extract(iris.Constraint(season='djf'))\n",
    "sens_znl_djf = sens_znl_mean.extract(iris.Constraint(season='djf'))\n",
    "base_znl_mam = base_znl_mean.extract(iris.Constraint(season='mam'))\n",
    "sens_znl_mam = sens_znl_mean.extract(iris.Constraint(season='mam'))\n",
    "base_znl_jja = base_znl_mean.extract(iris.Constraint(season='jja'))\n",
    "sens_znl_jja = sens_znl_mean.extract(iris.Constraint(season='jja'))\n",
    "base_znl_son = base_znl_mean.extract(iris.Constraint(season='son'))\n",
    "sens_znl_son = sens_znl_mean.extract(iris.Constraint(season='son'))\n",
    "# Calculate p-values for zonal seasonal means by season\n",
    "nlevs = base.coord('level_height').shape[0]\n",
    "nlats = base.coord('latitude').shape[0]\n",
    "_, znl_djf_p = np.empty([nlevs,nlats]), np.empty([nlevs,nlats])\n",
    "_, znl_mam_p = np.empty([nlevs,nlats]), np.empty([nlevs,nlats])\n",
    "_, znl_jja_p = np.empty([nlevs,nlats]), np.empty([nlevs,nlats])\n",
    "_, znl_son_p = np.empty([nlevs,nlats]), np.empty([nlevs,nlats])\n",
    "for i, lev in enumerate(base.coord('level_height').points):\n",
    "    for j, lat in enumerate(base.coord('latitude').points):\n",
    "        # use Welch's t-test\n",
    "        _[i,j], znl_djf_p[i,j] = stats.ttest_ind(base_znl_djf.data[:,i,j], sens_znl_djf.data[:,i,j], equal_var=False)\n",
    "        _[i,j], znl_mam_p[i,j] = stats.ttest_ind(base_znl_mam.data[:,i,j], sens_znl_mam.data[:,i,j], equal_var=False)\n",
    "        _[i,j], znl_jja_p[i,j] = stats.ttest_ind(base_znl_jja.data[:,i,j], sens_znl_jja.data[:,i,j], equal_var=False)\n",
    "        _[i,j], znl_son_p[i,j] = stats.ttest_ind(base_znl_son.data[:,i,j], sens_znl_son.data[:,i,j], equal_var=False)\n",
    "# Calculate zonal seasonal means\n",
    "base_znl_seasonal_mean = base_znl_mean.aggregated_by('season', iris.analysis.MEAN)\n",
    "sens_znl_seasonal_mean = sens_znl_mean.aggregated_by('season', iris.analysis.MEAN)\n",
    "# Calculate differences in zonal seasonal means\n",
    "znl_djf_diff = sens_znl_seasonal_mean[0,...] - base_znl_seasonal_mean[0,...]\n",
    "znl_mam_diff = sens_znl_seasonal_mean[1,...] - base_znl_seasonal_mean[1,...]\n",
    "znl_jja_diff = sens_znl_seasonal_mean[2,...] - base_znl_seasonal_mean[2,...]\n",
    "znl_son_diff = sens_znl_seasonal_mean[3,...] - base_znl_seasonal_mean[3,...]"
   ]
  },
  {
   "cell_type": "code",
   "execution_count": 7,
   "metadata": {},
   "outputs": [
    {
     "data": {
      "image/png": "[encoded data removed]",
      "text/plain": [
       "<Figure size 432x288 with 1 Axes>"
      ]
     },
     "metadata": {
      "needs_background": "light"
     },
     "output_type": "display_data"
    }
   ],
   "source": [
    "plt.hist(base_znl_djf.data.flatten());"
   ]
  },
  {
   "cell_type": "code",
   "execution_count": 8,
   "metadata": {},
   "outputs": [
    {
     "data": {
      "image/png": "[encoded data removed]",
      "text/plain": [
       "<Figure size 432x288 with 1 Axes>"
      ]
     },
     "metadata": {
      "needs_background": "light"
     },
     "output_type": "display_data"
    }
   ],
   "source": [
    "stats.probplot(base_znl_djf.data.flatten(), dist=\"norm\", plot= plt);"
   ]
  },
  {
   "cell_type": "code",
   "execution_count": 9,
   "metadata": {},
   "outputs": [
    {
     "name": "stderr",
     "output_type": "stream",
     "text": [
      "/local/mwe14avu/anaconda3/lib/python3.6/site-packages/scipy/stats/morestats.py:1309: UserWarning: p-value may not be accurate for N > 5000.\n",
      "  warnings.warn(\"p-value may not be accurate for N > 5000.\")\n"
     ]
    },
    {
     "data": {
      "text/plain": [
       "(0.9863066077232361, 0.0)"
      ]
     },
     "execution_count": 9,
     "metadata": {},
     "output_type": "execute_result"
    }
   ],
   "source": [
    "stats.shapiro(base_znl_djf.data.flatten())"
   ]
  },
  {
   "cell_type": "code",
   "execution_count": 11,
   "metadata": {},
   "outputs": [
    {
     "data": {
      "text/plain": [
       "91980"
      ]
     },
     "execution_count": 11,
     "metadata": {},
     "output_type": "execute_result"
    }
   ],
   "source": [
    "21*60*73"
   ]
  },
  {
   "cell_type": "code",
   "execution_count": 5,
   "metadata": {},
   "outputs": [],
   "source": [
    "def fdr_threshold(pvalues, alpha=0.05):\n",
    "    '''Computes the FDR threshod after Wilks (2016).\n",
    "    Credit to https://fabienmaussion.info/2017/01/30/trendy-triangles-fdr/'''\n",
    "    p = np.sort(np.asarray(pvalues).flatten())\n",
    "    n = len(p)\n",
    "    return np.max(np.where(p <= np.arange(1, n+1) / n * alpha, p, 0))"
   ]
  },
  {
   "cell_type": "code",
   "execution_count": 6,
   "metadata": {},
   "outputs": [
    {
     "name": "stdout",
     "output_type": "stream",
     "text": [
      "0.0 0.0 0.0 0.0\n"
     ]
    }
   ],
   "source": [
    "print(fdr_threshold(znl_djf_p), fdr_threshold(znl_mam_p), fdr_threshold(znl_jja_p), fdr_threshold(znl_son_p))"
   ]
  },
  {
   "cell_type": "code",
   "execution_count": null,
   "metadata": {},
   "outputs": [],
   "source": [
    "# Zonal means plotting parameters\n",
    "def stipple_zonal(cube, pval_arr, thresh=0.05):\n",
    "    '''Stipple areas where p-values are lower than 0.05 (statistically significant). \n",
    "    Inspired by https://groups.google.com/forum/#!topic/scitools-iris/Xm2IhQ6YKQA'''\n",
    "    xOrg = cube.coord('latitude').points \n",
    "    yOrg = cube.coord('level_height').points\n",
    "    nlon = len(xOrg) \n",
    "    nlat = len(yOrg) \n",
    "    xData = np.reshape( np.tile(xOrg, nlat), pval_arr.shape ) \n",
    "    yData = np.reshape( np.repeat(yOrg, nlon), pval_arr.shape ) \n",
    "    sigPoints = pval_arr < thresh \n",
    "    xPoints = xData[sigPoints]\n",
    "    yPoints = yData[sigPoints]\n",
    "    return (xPoints, yPoints)\n",
    "znl_mean_pc_kwargs = dict(cmap='RdBu_r')\n",
    "znl_mean_cr_kwargs = dict(levels=[0,5,10], cmap='Greys')\n",
    "znl_pval_kwargs = dict(s=5, c='k', marker='.', alpha=1)\n",
    "print(np.min(base_znl_seasonal_mean.data), np.min(sens_znl_seasonal_mean.data), np.max(base_znl_seasonal_mean.data), np.max(sens_znl_seasonal_mean.data))\n",
    "znl_seasonal_mean_orig_levs = np.arange(150,320,10)"
   ]
  },
  {
   "cell_type": "code",
   "execution_count": null,
   "metadata": {},
   "outputs": [],
   "source": [
    "fig, ax = plt.subplots(figsize=(8,6), facecolor='w')\n",
    "p0 = ax.pcolormesh(base.coord('latitude').points, base.coord('level_height').points, znl_djf_diff.data, norm=MidpointNormalize(midpoint=0.), **znl_mean_pc_kwargs)\n",
    "# p1 = ax.contour(base.coord('latitude').points, base.coord('level_height').points, znl_djf_diff.data, **znl_mean_cr_kwargs)\n",
    "ax.scatter(stipple_zonal(znl_djf_diff, znl_djf_p)[0], stipple_zonal(znl_djf_diff, znl_djf_p)[1], **znl_pval_kwargs)\n",
    "ax.set_title(f'{str_djf} {sens_plt} - {base_plt}')\n",
    "fig.colorbar(p0, ax=ax, label=f'$\\Delta${str_var}, K')\n",
    "# ax.clabel(p1, inline=1, fmt='%1.0f')\n",
    "ax.set_xlabel('Latitude')\n",
    "ax.set_ylabel('Height, km')\n",
    "# ax.set_ylim(0,40000)\n",
    "ax.yaxis.set_major_formatter(FuncFormatter(m2km))\n",
    "ax.margins(x=0, y=0);"
   ]
  },
  {
   "cell_type": "code",
   "execution_count": null,
   "metadata": {},
   "outputs": [],
   "source": [
    "fig, ax = plt.subplots(figsize=(8,6), facecolor='w')\n",
    "p0 = ax.pcolormesh(base.coord('latitude').points, base.coord('level_height').points, znl_mam_diff.data, norm=MidpointNormalize(midpoint=0.), **znl_mean_pc_kwargs)\n",
    "# p1 = ax.contour(base.coord('latitude').points, base.coord('level_height').points, znl_mam_diff.data, **znl_mean_cr_kwargs)\n",
    "ax.scatter(stipple_zonal(znl_mam_diff, znl_mam_p)[0], stipple_zonal(znl_mam_diff, znl_mam_p)[1], **znl_pval_kwargs)\n",
    "ax.set_title(f'{str_mam} {sens_plt} - {base_plt}')\n",
    "fig.colorbar(p0, ax=ax, label=f'$\\Delta${str_var}, K')\n",
    "# ax.clabel(p1, inline=1, fmt='%1.0f')\n",
    "ax.set_xlabel('Latitude')\n",
    "ax.set_ylabel('Height, km')\n",
    "# ax.set_ylim(0,40000)\n",
    "ax.yaxis.set_major_formatter(FuncFormatter(m2km))\n",
    "ax.margins(x=0, y=0);"
   ]
  },
  {
   "cell_type": "code",
   "execution_count": null,
   "metadata": {},
   "outputs": [],
   "source": [
    "fig, ax = plt.subplots(figsize=(8,6), facecolor='w')\n",
    "p0 = ax.pcolormesh(base.coord('latitude').points, base.coord('level_height').points, znl_jja_diff.data, norm=MidpointNormalize(midpoint=0.), **znl_mean_pc_kwargs)\n",
    "# p1 = ax.contour(base.coord('latitude').points, base.coord('level_height').points, znl_jja_diff.data, **znl_mean_cr_kwargs)\n",
    "ax.scatter(stipple_zonal(znl_jja_diff, znl_jja_p)[0], stipple_zonal(znl_jja_diff, znl_jja_p)[1], **znl_pval_kwargs)\n",
    "ax.set_title(f'{str_jja} {sens_plt} - {base_plt}')\n",
    "fig.colorbar(p0, ax=ax, label=f'$\\Delta${str_var}, K')\n",
    "# ax.clabel(p1, inline=1, fmt='%1.0f')\n",
    "ax.set_xlabel('Latitude')\n",
    "ax.set_ylabel('Height, km')\n",
    "# ax.set_ylim(0,40000)\n",
    "ax.yaxis.set_major_formatter(FuncFormatter(m2km))\n",
    "ax.margins(x=0, y=0);"
   ]
  },
  {
   "cell_type": "code",
   "execution_count": null,
   "metadata": {},
   "outputs": [],
   "source": [
    "fig, ax = plt.subplots(figsize=(8,6), facecolor='w')\n",
    "p0 = ax.pcolormesh(base.coord('latitude').points, base.coord('level_height').points, znl_son_diff.data, norm=MidpointNormalize(midpoint=0.), **znl_mean_pc_kwargs)\n",
    "# p1 = ax.contour(base.coord('latitude').points, base.coord('level_height').points, znl_son_diff.data, **znl_mean_cr_kwargs)\n",
    "ax.scatter(stipple_zonal(znl_son_diff, znl_son_p)[0], stipple_zonal(znl_son_diff, znl_son_p)[1], **znl_pval_kwargs)\n",
    "ax.set_title(f'{str_son} {sens_plt} - {base_plt}')\n",
    "fig.colorbar(p0, ax=ax, label=f'$\\Delta${str_var}, K')\n",
    "# ax.clabel(p1, inline=1, fmt='%1.0f')\n",
    "ax.set_xlabel('Latitude')\n",
    "ax.set_ylabel('Height, km')\n",
    "# ax.set_ylim(0,40000)\n",
    "ax.yaxis.set_major_formatter(FuncFormatter(m2km))\n",
    "ax.margins(x=0, y=0);"
   ]
  },
  {
   "cell_type": "code",
   "execution_count": null,
   "metadata": {},
   "outputs": [],
   "source": [
    "fig, ax = plt.subplots(ncols=2, figsize=(12,4), facecolor='w', sharex=True, sharey=True)\n",
    "p00 = ax[0].contourf(base.coord('latitude').points, base.coord('level_height').points, base_znl_seasonal_mean.data[0,...], \n",
    "                     levels=znl_seasonal_mean_orig_levs)\n",
    "ax[0].set_title(f'{str_djf} {base_plt}')\n",
    "fig.colorbar(p00, ax=ax[0], label=f'{str_var}, K')\n",
    "ax[0].set_xlabel('Latitude')\n",
    "ax[0].set_ylabel('Height, km')\n",
    "ax[0].yaxis.set_major_formatter(FuncFormatter(m2km))\n",
    "\n",
    "p01 = ax[1].pcolormesh(base.coord('latitude').points, base.coord('level_height').points, znl_djf_diff.data, norm=MidpointNormalize(midpoint=0.), **znl_mean_pc_kwargs)\n",
    "# p1 = ax.contour(base.coord('latitude').points, base.coord('level_height').points, znl_djf_diff.data, **znl_mean_cr_kwargs)\n",
    "ax[1].scatter(stipple_zonal(znl_djf_diff, znl_djf_p)[0], stipple_zonal(znl_djf_diff, znl_djf_p)[1], **znl_pval_kwargs)\n",
    "ax[1].set_title(f'{str_djf} {sens_plt} - {base_plt}')\n",
    "fig.colorbar(p01, ax=ax[1], label=f'$\\Delta${str_var}, K')\n",
    "# ax.clabel(p1, inline=1, fmt='%1.0f')\n",
    "ax[1].set_xlabel('Latitude')\n",
    "ax[1].margins(x=0, y=0);\n",
    "\n",
    "if savefig: fig.savefig(path_to_figs / f'znl_seas_mean_{str_djf}_temp.png', bbox_inches='tight')"
   ]
  },
  {
   "cell_type": "code",
   "execution_count": null,
   "metadata": {},
   "outputs": [],
   "source": [
    "fig, ax = plt.subplots(ncols=2, figsize=(12,4), facecolor='w', sharex=True, sharey=True)\n",
    "p00 = ax[0].contourf(base.coord('latitude').points, base.coord('level_height').points, base_znl_seasonal_mean.data[1,...], \n",
    "                    levels=znl_seasonal_mean_orig_levs)\n",
    "ax[0].set_title(f'{str_mam} {base_plt}')\n",
    "fig.colorbar(p00, ax=ax[0], label=f'{str_var}, K')\n",
    "ax[0].set_xlabel('Latitude')\n",
    "ax[0].set_ylabel('Height, km')\n",
    "ax[0].yaxis.set_major_formatter(FuncFormatter(m2km))\n",
    "\n",
    "p01 = ax[1].pcolormesh(base.coord('latitude').points, base.coord('level_height').points, znl_mam_diff.data, norm=MidpointNormalize(midpoint=0.), **znl_mean_pc_kwargs)\n",
    "# p1 = ax.contour(base.coord('latitude').points, base.coord('level_height').points, znl_mam_diff.data, **znl_mean_cr_kwargs)\n",
    "ax[1].scatter(stipple_zonal(znl_mam_diff, znl_mam_p)[0], stipple_zonal(znl_mam_diff, znl_mam_p)[1], **znl_pval_kwargs)\n",
    "ax[1].set_title(f'{str_mam} {sens_plt} - {base_plt}')\n",
    "fig.colorbar(p01, ax=ax[1], label=f'$\\Delta${str_var}, K')\n",
    "# ax.clabel(p1, inline=1, fmt='%1.0f')\n",
    "ax[1].set_xlabel('Latitude')\n",
    "ax[1].margins(x=0, y=0);\n",
    "\n",
    "if savefig: fig.savefig(path_to_figs / f'znl_seas_mean_{str_mam}_temp.png', bbox_inches='tight')"
   ]
  },
  {
   "cell_type": "code",
   "execution_count": null,
   "metadata": {},
   "outputs": [],
   "source": [
    "fig, ax = plt.subplots(ncols=2, figsize=(12,4), facecolor='w', sharex=True, sharey=True)\n",
    "p00 = ax[0].contourf(base.coord('latitude').points, base.coord('level_height').points, base_znl_seasonal_mean.data[2,...], \n",
    "                    levels=znl_seasonal_mean_orig_levs)\n",
    "ax[0].set_title(f'{str_jja} {base_plt}')\n",
    "fig.colorbar(p00, ax=ax[0], label=f'{str_var}, K')\n",
    "ax[0].set_xlabel('Latitude')\n",
    "ax[0].set_ylabel('Height, km')\n",
    "ax[0].yaxis.set_major_formatter(FuncFormatter(m2km))\n",
    "\n",
    "p01 = ax[1].pcolormesh(base.coord('latitude').points, base.coord('level_height').points, znl_jja_diff.data, norm=MidpointNormalize(midpoint=0.), **znl_mean_pc_kwargs)\n",
    "# p1 = ax.contour(base.coord('latitude').points, base.coord('level_height').points, znl_jja_diff.data, **znl_mean_cr_kwargs)\n",
    "ax[1].scatter(stipple_zonal(znl_jja_diff, znl_jja_p)[0], stipple_zonal(znl_jja_diff, znl_jja_p)[1], **znl_pval_kwargs)\n",
    "ax[1].set_title(f'{str_jja} {sens_plt} - {base_plt}')\n",
    "fig.colorbar(p01, ax=ax[1], label=f'$\\Delta${str_var}, K')\n",
    "# ax.clabel(p1, inline=1, fmt='%1.0f')\n",
    "ax[1].set_xlabel('Latitude')\n",
    "ax[1].margins(x=0, y=0);\n",
    "\n",
    "if savefig: fig.savefig(path_to_figs / f'znl_seas_mean_{str_jja}_temp.png', bbox_inches='tight')"
   ]
  },
  {
   "cell_type": "code",
   "execution_count": null,
   "metadata": {},
   "outputs": [],
   "source": [
    "fig, ax = plt.subplots(ncols=2, figsize=(12,4), facecolor='w', sharex=True, sharey=True)\n",
    "p00 = ax[0].contourf(base.coord('latitude').points, base.coord('level_height').points, base_znl_seasonal_mean.data[3,...], \n",
    "                    levels=znl_seasonal_mean_orig_levs)\n",
    "ax[0].set_title(f'{str_son} {base_plt}')\n",
    "fig.colorbar(p00, ax=ax[0], label=f'{str_var}, K')\n",
    "ax[0].set_xlabel('Latitude')\n",
    "ax[0].set_ylabel('Height, km')\n",
    "ax[0].yaxis.set_major_formatter(FuncFormatter(m2km))\n",
    "\n",
    "p01 = ax[1].pcolormesh(base.coord('latitude').points, base.coord('level_height').points, znl_son_diff.data, norm=MidpointNormalize(midpoint=0.), **znl_mean_pc_kwargs)\n",
    "# p1 = ax.contour(base.coord('latitude').points, base.coord('level_height').points, znl_son_diff.data, **znl_mean_cr_kwargs)\n",
    "ax[1].scatter(stipple_zonal(znl_son_diff, znl_son_p)[0], stipple_zonal(znl_son_diff, znl_son_p)[1], **znl_pval_kwargs)\n",
    "ax[1].set_title(f'{str_son} {sens_plt} - {base_plt}')\n",
    "fig.colorbar(p01, ax=ax[1], label=f'$\\Delta${str_var}, K')\n",
    "# ax.clabel(p1, inline=1, fmt='%1.0f')\n",
    "ax[1].set_xlabel('Latitude')\n",
    "ax[1].margins(x=0, y=0);\n",
    "\n",
    "if savefig: fig.savefig(path_to_figs / f'znl_seas_mean_{str_son}_temp.png', bbox_inches='tight')"
   ]
  },
  {
   "cell_type": "markdown",
   "metadata": {},
   "source": [
    "#### Surface seasonal means"
   ]
  },
  {
   "cell_type": "code",
   "execution_count": null,
   "metadata": {},
   "outputs": [],
   "source": [
    "# Extract time series of surface seasonal means\n",
    "base_srf_djf = base.extract(iris.Constraint(season='djf'))[:,0,...]\n",
    "sens_srf_djf = sens.extract(iris.Constraint(season='djf'))[:,0,...]\n",
    "base_srf_mam = base.extract(iris.Constraint(season='mam'))[:,0,...]\n",
    "sens_srf_mam = sens.extract(iris.Constraint(season='mam'))[:,0,...]\n",
    "base_srf_jja = base.extract(iris.Constraint(season='jja'))[:,0,...]\n",
    "sens_srf_jja = sens.extract(iris.Constraint(season='jja'))[:,0,...]\n",
    "base_srf_son = base.extract(iris.Constraint(season='son'))[:,0,...]\n",
    "sens_srf_son = sens.extract(iris.Constraint(season='son'))[:,0,...]\n",
    "# Calculate p-values for surface seasonal means\n",
    "nlats = base.coord('latitude').shape[0]\n",
    "nlons = base.coord('longitude').shape[0]\n",
    "_, srf_djf_p = np.empty([nlats,nlons]), np.empty([nlats,nlons])\n",
    "_, srf_mam_p = np.empty([nlats,nlons]), np.empty([nlats,nlons])\n",
    "_, srf_jja_p = np.empty([nlats,nlons]), np.empty([nlats,nlons])\n",
    "_, srf_son_p = np.empty([nlats,nlons]), np.empty([nlats,nlons])\n",
    "for i, lat in enumerate(base.coord('latitude').points):\n",
    "    for j, lon in enumerate(base.coord('longitude').points):\n",
    "        # use Welch's t-test\n",
    "        _[i,j], srf_djf_p[i, j] = stats.ttest_ind(base_srf_djf.data[:,i,j], sens_srf_djf.data[:,i,j], equal_var=False) \n",
    "        _[i,j], srf_mam_p[i, j] = stats.ttest_ind(base_srf_mam.data[:,i,j], sens_srf_mam.data[:,i,j], equal_var=False)\n",
    "        _[i,j], srf_jja_p[i, j] = stats.ttest_ind(base_srf_jja.data[:,i,j], sens_srf_jja.data[:,i,j], equal_var=False)\n",
    "        _[i,j], srf_son_p[i, j] = stats.ttest_ind(base_srf_son.data[:,i,j], sens_srf_son.data[:,i,j], equal_var=False)\n",
    "# Calculate differences in surface seasonal means\n",
    "srf_djf_diff = sens_seasonal_mean[0,0,...] - base_seasonal_mean[0,0,...]\n",
    "srf_mam_diff = sens_seasonal_mean[1,0,...] - base_seasonal_mean[1,0,...]\n",
    "srf_jja_diff = sens_seasonal_mean[2,0,...] - base_seasonal_mean[2,0,...]\n",
    "srf_son_diff = sens_seasonal_mean[3,0,...] - base_seasonal_mean[3,0,...]\n",
    "# Add cyclic point for plotting on a global map\n",
    "cyc_djf_diff, cyclic_lons = cartopy.util.add_cyclic_point(srf_djf_diff.data, coord=srf_djf_diff.coord('longitude').points)\n",
    "cyc_mam_diff = cartopy.util.add_cyclic_point(srf_mam_diff.data)\n",
    "cyc_jja_diff = cartopy.util.add_cyclic_point(srf_jja_diff.data)\n",
    "cyc_son_diff = cartopy.util.add_cyclic_point(srf_son_diff.data)\n",
    "cyc_base_seasonal_mean = cartopy.util.add_cyclic_point(base_seasonal_mean.data)"
   ]
  },
  {
   "cell_type": "code",
   "execution_count": null,
   "metadata": {},
   "outputs": [],
   "source": [
    "# Surface mean difference plotting parameters\n",
    "def stipple_srf(cube, pval_arr, thresh=0.05, central_long=0):\n",
    "    '''Stipple areas where p-values are lower than 0.05 (statistically significant). \n",
    "    Inspired by https://groups.google.com/forum/#!topic/scitools-iris/Xm2IhQ6YKQA'''\n",
    "    xOrg = cube.coord('longitude').points \n",
    "    yOrg = cube.coord('latitude').points\n",
    "    nlon = len(xOrg) \n",
    "    nlat = len(yOrg) \n",
    "    xData = np.reshape( np.tile(xOrg, nlat), pval_arr.shape ) \n",
    "    yData = np.reshape( np.repeat(yOrg, nlon), pval_arr.shape ) \n",
    "    sigPoints = pval_arr < thresh \n",
    "    xPoints = xData[sigPoints] - central_long\n",
    "    yPoints = yData[sigPoints]\n",
    "    return (xPoints, yPoints)\n",
    "srf_diff_cf_kwargs = dict(transform=ccrs.PlateCarree(), levels=np.arange(-5,6,1), cmap='RdBu_r')\n",
    "srf_pval_sc_kwargs = dict(transform=ccrs.PlateCarree(), s=10, c='k', marker='.', alpha=1)\n",
    "srf_mean_cf_kwargs = dict(transform=ccrs.PlateCarree(), levels=np.arange(210,330,10))"
   ]
  },
  {
   "cell_type": "code",
   "execution_count": null,
   "metadata": {},
   "outputs": [],
   "source": [
    "fig, ax = plt.subplots(figsize=(10,10), subplot_kw=dict(projection=ccrs.Robinson(central_longitude=0)), facecolor='w')\n",
    "p0 = ax.contourf(cyclic_lons, base.coord('latitude').points, cyc_djf_diff.data, **srf_diff_cf_kwargs)\n",
    "# ax.scatter(stipple_srf(srf_djf_diff, srf_djf_p)[0], stipple_srf(srf_djf_diff, srf_djf_p)[1], **srf_pval_sc_kwargs)\n",
    "ax.coastlines()\n",
    "ax.set_global()\n",
    "ax.set_title(f'{str_djf} {sens_plt} - {base_plt}')\n",
    "fig.colorbar(p0, shrink=0.4, label=f'$\\Delta${str_var}, K')\n",
    "# if savefig: fig.savefig(path_to_figs / f'{str_djf}_no_stats.png', bbox_inches='tight')"
   ]
  },
  {
   "cell_type": "code",
   "execution_count": null,
   "metadata": {},
   "outputs": [],
   "source": [
    "fig, ax = plt.subplots(figsize=(10,10), subplot_kw=dict(projection=ccrs.Robinson(central_longitude=0)), facecolor='w')\n",
    "p0 = ax.contourf(cyclic_lons, base.coord('latitude').points, cyc_mam_diff.data, **srf_diff_cf_kwargs)\n",
    "# ax.scatter(stipple_srf(srf_mam_diff, srf_mam_p)[0], stipple_srf(srf_mam_diff, srf_mam_p)[1], **srf_pval_sc_kwargs)\n",
    "ax.coastlines()\n",
    "ax.set_global()\n",
    "ax.set_title(f'{str_mam} {sens_plt}-{base_plt}')\n",
    "fig.colorbar(p0, shrink=0.4, label=f'$\\Delta${str_var}, K')\n",
    "# if savefig: fig.savefig(path_to_figs / f'{str_mam}_no_stats.png', bbox_inches='tight')"
   ]
  },
  {
   "cell_type": "code",
   "execution_count": null,
   "metadata": {},
   "outputs": [],
   "source": [
    "fig, ax = plt.subplots(figsize=(10,10), subplot_kw=dict(projection=ccrs.Robinson(central_longitude=0)), facecolor='w')\n",
    "p0 = ax.contourf(cyclic_lons, base.coord('latitude').points, cyc_jja_diff.data, **srf_diff_cf_kwargs)\n",
    "# ax.scatter(stipple_srf(srf_jja_diff, srf_jja_p)[0], stipple_srf(srf_jja_diff, srf_jja_p)[1], **srf_pval_sc_kwargs)\n",
    "ax.coastlines()\n",
    "ax.set_global()\n",
    "ax.set_title(f'{str_jja} {sens_plt}-{base_plt}')\n",
    "fig.colorbar(p0, shrink=0.4, label=f'$\\Delta${str_var}, K')\n",
    "# if savefig: fig.savefig(path_to_figs / f'{str_jja}_no_stats.png', bbox_inches='tight')"
   ]
  },
  {
   "cell_type": "code",
   "execution_count": null,
   "metadata": {},
   "outputs": [],
   "source": [
    "fig, ax = plt.subplots(figsize=(10,10), subplot_kw=dict(projection=ccrs.Robinson(central_longitude=0)), facecolor='w')\n",
    "p0 = ax.contourf(cyclic_lons, base.coord('latitude').points, cyc_son_diff.data, **srf_diff_cf_kwargs)\n",
    "# ax.scatter(stipple_srf(srf_son_diff, srf_son_p)[0], stipple_srf(srf_son_diff, srf_son_p)[1], **srf_pval_sc_kwargs)\n",
    "ax.coastlines()\n",
    "ax.set_global()\n",
    "ax.set_title(f'{str_son} {sens_plt}-{base_plt}')\n",
    "fig.colorbar(p0, shrink=0.4, label=f'$\\Delta${str_var}, K')\n",
    "# if savefig: fig.savefig(path_to_figs / f'{str_son}_no_stats.png', bbox_inches='tight')"
   ]
  },
  {
   "cell_type": "code",
   "execution_count": null,
   "metadata": {},
   "outputs": [],
   "source": [
    "fig, ax = plt.subplots(ncols=2, figsize=(15,6), subplot_kw=dict(projection=ccrs.Robinson(central_longitude=0)), facecolor='w')\n",
    "p00 = ax[0].contourf(cyclic_lons, base.coord('latitude').points, cyc_base_seasonal_mean[0,0,...].data, **srf_mean_cf_kwargs)\n",
    "ax[0].coastlines()\n",
    "ax[0].set_global()\n",
    "ax[0].set_title(f'{str_djf} {base_plt}')\n",
    "fig.colorbar(p00, ax=ax[0], shrink=0.4, label=f'{str_var}, K')\n",
    "\n",
    "p01 = ax[1].contourf(cyclic_lons, base.coord('latitude').points, cyc_djf_diff.data, **srf_diff_cf_kwargs)\n",
    "ax[1].scatter(stipple_srf(srf_djf_diff, srf_djf_p)[0], stipple_srf(srf_djf_diff, srf_djf_p)[1], **srf_pval_sc_kwargs)\n",
    "ax[1].coastlines()\n",
    "ax[1].set_global()\n",
    "ax[1].set_title(f'{str_djf} {sens_plt} - {base_plt}')\n",
    "fig.colorbar(p01, ax=ax[1], shrink=0.4, label=f'$\\Delta${str_var}, K')\n",
    "\n",
    "fig.tight_layout()\n",
    "if savefig: fig.savefig(path_to_figs / f'srf_seas_mean_{str_djf}_temp.png', bbox_inches='tight')"
   ]
  },
  {
   "cell_type": "code",
   "execution_count": null,
   "metadata": {},
   "outputs": [],
   "source": [
    "fig, ax = plt.subplots(ncols=2, figsize=(15,6), subplot_kw=dict(projection=ccrs.Robinson(central_longitude=0)), facecolor='w')\n",
    "p00 = ax[0].contourf(cyclic_lons, base.coord('latitude').points, cyc_base_seasonal_mean[1,0,...].data, **srf_mean_cf_kwargs)\n",
    "ax[0].coastlines()\n",
    "ax[0].set_global()\n",
    "ax[0].set_title(f'{str_mam} {base_plt}')\n",
    "fig.colorbar(p00, ax=ax[0], shrink=0.4, label=f'{str_var}, K')\n",
    "\n",
    "p01 = ax[1].contourf(cyclic_lons, base.coord('latitude').points, cyc_mam_diff.data, **srf_diff_cf_kwargs)\n",
    "ax[1].scatter(stipple_srf(srf_mam_diff, srf_mam_p)[0], stipple_srf(srf_mam_diff, srf_mam_p)[1], **srf_pval_sc_kwargs)\n",
    "ax[1].coastlines()\n",
    "ax[1].set_global()\n",
    "ax[1].set_title(f'{str_mam} {sens_plt} - {base_plt}')\n",
    "fig.colorbar(p01, ax=ax[1], shrink=0.4, label=f'$\\Delta${str_var}, K')\n",
    "\n",
    "fig.tight_layout()\n",
    "if savefig: fig.savefig(path_to_figs / f'srf_seas_mean_{str_mam}_temp.png', bbox_inches='tight')"
   ]
  },
  {
   "cell_type": "code",
   "execution_count": null,
   "metadata": {},
   "outputs": [],
   "source": [
    "fig, ax = plt.subplots(ncols=2, figsize=(15,6), subplot_kw=dict(projection=ccrs.Robinson(central_longitude=0)), facecolor='w')\n",
    "p00 = ax[0].contourf(cyclic_lons, base.coord('latitude').points, cyc_base_seasonal_mean[2,0,...].data, **srf_mean_cf_kwargs)\n",
    "ax[0].coastlines()\n",
    "ax[0].set_global()\n",
    "ax[0].set_title(f'{str_jja} {base_plt}')\n",
    "fig.colorbar(p00, ax=ax[0], shrink=0.4, label=f'{str_var}, K')\n",
    "\n",
    "p01 = ax[1].contourf(cyclic_lons, base.coord('latitude').points, cyc_jja_diff.data, **srf_diff_cf_kwargs)\n",
    "ax[1].scatter(stipple_srf(srf_jja_diff, srf_jja_p)[0], stipple_srf(srf_jja_diff, srf_jja_p)[1], **srf_pval_sc_kwargs)\n",
    "ax[1].coastlines()\n",
    "ax[1].set_global()\n",
    "ax[1].set_title(f'{str_jja} {sens_plt} - {base_plt}')\n",
    "fig.colorbar(p01, ax=ax[1], shrink=0.4, label=f'$\\Delta${str_var}, K')\n",
    "\n",
    "fig.tight_layout()\n",
    "if savefig: fig.savefig(path_to_figs / f'srf_seas_mean_{str_jja}_temp.png', bbox_inches='tight')"
   ]
  },
  {
   "cell_type": "code",
   "execution_count": null,
   "metadata": {},
   "outputs": [],
   "source": [
    "fig, ax = plt.subplots(ncols=2, figsize=(15,6), subplot_kw=dict(projection=ccrs.Robinson(central_longitude=0)), facecolor='w')\n",
    "p00 = ax[0].contourf(cyclic_lons, base.coord('latitude').points, cyc_base_seasonal_mean[3,0,...].data, **srf_mean_cf_kwargs)\n",
    "ax[0].coastlines()\n",
    "ax[0].set_global()\n",
    "ax[0].set_title(f'{str_son} {base_plt}')\n",
    "fig.colorbar(p00, ax=ax[0], shrink=0.4, label=f'{str_var}, K')\n",
    "\n",
    "p01 = ax[1].contourf(cyclic_lons, base.coord('latitude').points, cyc_son_diff.data, **srf_diff_cf_kwargs)\n",
    "ax[1].scatter(stipple_srf(srf_son_diff, srf_son_p)[0], stipple_srf(srf_son_diff, srf_son_p)[1], **srf_pval_sc_kwargs)\n",
    "ax[1].coastlines()\n",
    "ax[1].set_global()\n",
    "ax[1].set_title(f'{str_son} {sens_plt} - {base_plt}')\n",
    "fig.colorbar(p01, ax=ax[1], shrink=0.4, label=f'$\\Delta${str_var}, K')\n",
    "\n",
    "fig.tight_layout()\n",
    "if savefig: fig.savefig(path_to_figs / f'srf_seas_mean_{str_son}_temp.png', bbox_inches='tight')"
   ]
  }
 ],
 "metadata": {
  "kernelspec": {
   "display_name": "Python [default]",
   "language": "python",
   "name": "python3"
  },
  "language_info": {
   "codemirror_mode": {
    "name": "ipython",
    "version": 3
   },
   "file_extension": ".py",
   "mimetype": "text/x-python",
   "name": "python",
   "nbconvert_exporter": "python",
   "pygments_lexer": "ipython3",
   "version": "3.6.5"
  }
 },
 "nbformat": 4,
 "nbformat_minor": 2
}
