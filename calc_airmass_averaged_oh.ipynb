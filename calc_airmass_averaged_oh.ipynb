{
 "cells": [
  {
   "cell_type": "code",
   "execution_count": 1,
   "metadata": {},
   "outputs": [],
   "source": [
    "# Data processing\n",
    "import iris\n",
    "import iris.analysis\n",
    "import iris.coord_categorisation\n",
    "import warnings\n",
    "warnings.filterwarnings('ignore', module='iris')\n",
    "import numpy as np\n",
    "from pathlib import Path"
   ]
  },
  {
   "cell_type": "markdown",
   "metadata": {},
   "source": [
    "```python\n",
    "import netCDF4 as nc\n",
    "import numpy as np\n",
    "\n",
    "path = '/gws/nopw/j04/acsis/ptg21/az513/'\n",
    "filename = 'az513_pm2005_2014_ox_bud.nc'\n",
    "data = nc.Dataset(path+filename)\n",
    "airmass = data.variables['aimass_trop']\n",
    "tropmask = data.variables['trop_mask']\n",
    "oh = data.variables['oh']\n",
    "\n",
    "massoh = oh[:]*airmass[:]\n",
    "molecules_per_gridbox = (avagadro*massoh)/0.017\n",
    "\n",
    "volfile = '/group_workspaces/jasmin2/ukca/vol2/ptg21/geovols/geovol_192x144x85.nc'\n",
    "vols = nc.Dataset(volfile)\n",
    "cellvols = vols.variables['vol_theta']\n",
    "\n",
    "\n",
    "species_per_cm3   = molecules_per_gridbox/cellvols/1e6\n",
    "species_per_cm3_trop  = species_per_cm3*tropmask[:]\n",
    "\n",
    "NH = np.mean(species_per_cm3_trop[:,:,72:,:]*airmass[:,:,72:,:])/np.mean(airmass[:,:,72:,:])/ 1e6\n",
    "SH = np.mean(species_per_cm3_trop[:,:,0:71,:]*airmass[:,:,0:71,:])/np.mean(airmass[:,:,0:71,:])/1e6\n",
    "ratio = NH/SH\n",
    "print(ratio)\n",
    "```"
   ]
  },
  {
   "cell_type": "code",
   "execution_count": null,
   "metadata": {},
   "outputs": [],
   "source": []
  }
 ],
 "metadata": {
  "kernelspec": {
   "display_name": "Python 3",
   "language": "python",
   "name": "python3"
  },
  "language_info": {
   "codemirror_mode": {
    "name": "ipython",
    "version": 3
   },
   "file_extension": ".py",
   "mimetype": "text/x-python",
   "name": "python",
   "nbconvert_exporter": "python",
   "pygments_lexer": "ipython3",
   "version": "3.6.6"
  }
 },
 "nbformat": 4,
 "nbformat_minor": 2
}
