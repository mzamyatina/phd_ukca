{
 "cells": [
  {
   "cell_type": "markdown",
   "metadata": {},
   "source": [
    "#### Vertical profile along flight track"
   ]
  },
  {
   "cell_type": "code",
   "execution_count": null,
   "metadata": {},
   "outputs": [],
   "source": [
    "# from atom_vs_ukca_hr_flight_merge_with_factors.ipynb"
   ]
  },
  {
   "cell_type": "code",
   "execution_count": null,
   "metadata": {},
   "outputs": [],
   "source": [
    "# Choose bins\n",
    "alt_bins = np.arange(0, 14000, 500)\n",
    "alt_mod_bin_inds = np.arange(0, len(alt_bins), 1)\n",
    "alt_obs_bin_inds = np.digitize(atom_dsmms.G_ALT.data, alt_bins)\n",
    "# Bin observational data\n",
    "obs_meono2_bin_mean = atom_pdwas_meono2.groupby(alt_obs_bin_inds).mean().reindex(index=alt_mod_bin_inds, fill_value=np.nan)\n",
    "obs_meono2_bin_min = atom_pdwas_meono2.groupby(alt_obs_bin_inds).min().reindex(index=alt_mod_bin_inds, fill_value=np.nan)\n",
    "obs_meono2_bin_max = atom_pdwas_meono2.groupby(alt_obs_bin_inds).max().reindex(index=alt_mod_bin_inds, fill_value=np.nan)\n",
    "# Convert iris cube with model data to pandas dataframe\n",
    "traj_cbr2pd_meono2 = traj3d_cbr_meono2.copy()\n",
    "traj_cbr2pd_meono2.remove_coord('t')\n",
    "traj_cbr2pd_meono2.remove_coord('longitude')\n",
    "traj_cbr2pd_meono2.remove_coord('latitude')\n",
    "# for cube in cubes:\n",
    "#     for i in ('t', 'longitude', 'latitude'):\n",
    "#         cube.remove_coord(i)\n",
    "traj_pd_meono2 = iris.pandas.as_data_frame(traj_cbr2pd_meono2).T\n",
    "# Bin model data\n",
    "mod_meono2_bin_mean = traj_pd_meono2.groupby(alt_obs_bin_inds).mean().reindex(index=alt_mod_bin_inds, fill_value=np.nan)\n",
    "mod_meono2_bin_min = traj_pd_meono2.groupby(alt_obs_bin_inds).min().reindex(index=alt_mod_bin_inds, fill_value=np.nan)\n",
    "mod_meono2_bin_max = traj_pd_meono2.groupby(alt_obs_bin_inds).max().reindex(index=alt_mod_bin_inds, fill_value=np.nan)"
   ]
  },
  {
   "cell_type": "code",
   "execution_count": null,
   "metadata": {},
   "outputs": [],
   "source": [
    "# Vertical profile plotting parameters\n",
    "vp_barh_kwargs = dict(height=200, align='center', alpha=0.7)"
   ]
  },
  {
   "cell_type": "code",
   "execution_count": null,
   "metadata": {},
   "outputs": [],
   "source": [
    "# Plot vertical profile along flight track\n",
    "fig, ax = plt.subplots(figsize=(7,7), facecolor='w')\n",
    "ax.plot(obs_meono2_bin_mean, alt_bins, color='k')\n",
    "ax.barh(alt_bins, obs_meono2_bin_max.MeONO2_WAS-obs_meono2_bin_min.MeONO2_WAS, left=obs_meono2_bin_min.MeONO2_WAS, color='k', **vp_barh_kwargs)\n",
    "ax.plot(mod_meono2_bin_mean, alt_bins, color='r')\n",
    "ax.barh(alt_bins, (mod_meono2_bin_max[0]-mod_meono2_bin_min[0]), left=mod_meono2_bin_min[0], color='r', **vp_barh_kwargs)\n",
    "# common\n",
    "ax.set_title(f'{str_meono2}, pptv\\n{atom_date_start.strftime(\"%d %B %Y\")}')\n",
    "ax.set_ylabel('Altitude, km')\n",
    "ax.set_ylim(-200,13500)\n",
    "ax.set_yticks(alt_bins)\n",
    "ax.set_yticklabels(map(int,(alt_bins/1000)))\n",
    "ax.legend(['ATom', 'UKCA ax631a montly mean'])\n",
    "for ytcklbl in ax.yaxis.get_ticklabels()[1::2]:\n",
    "    ytcklbl.set_visible(False)\n",
    "if savefig: fig.savefig(path_to_results / f'{ukca_run_name}_{atom_ukca_datetime_match}_vp_RONO2_C1.png', bbox_inches='tight')"
   ]
  }
 ],
 "metadata": {
  "kernelspec": {
   "display_name": "Python 3",
   "language": "python",
   "name": "python3"
  },
  "language_info": {
   "codemirror_mode": {
    "name": "ipython",
    "version": 3
   },
   "file_extension": ".py",
   "mimetype": "text/x-python",
   "name": "python",
   "nbconvert_exporter": "python",
   "pygments_lexer": "ipython3",
   "version": "3.6.6"
  }
 },
 "nbformat": 4,
 "nbformat_minor": 2
}
