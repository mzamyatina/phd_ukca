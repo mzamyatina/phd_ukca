{
 "cells": [
  {
   "cell_type": "code",
   "execution_count": 1,
   "metadata": {},
   "outputs": [],
   "source": [
    "import iris\n",
    "from pathlib import Path"
   ]
  },
  {
   "cell_type": "code",
   "execution_count": null,
   "metadata": {},
   "outputs": [],
   "source": [
    "# BASE OLD - done\n",
    "# BASE - done\n",
    "# CHEM - done\n",
    "# OCEAN - done\n",
    "# BB - \n",
    "# ALL - done\n",
    "# ORIG - \n",
    "# UPDT - "
   ]
  },
  {
   "cell_type": "code",
   "execution_count": 8,
   "metadata": {},
   "outputs": [],
   "source": [
    "# Choose an experiment\n",
    "task = 'CHET' # 'CHET' or 'RONO2'\n",
    "exp = 'UPDT'\n",
    "\n",
    "job_dict = {'BASE OLD':'xojnd',\n",
    "            'BASE'    :'xojng',\n",
    "            'CHEM'    :'xojnh',\n",
    "            'OCEAN'   :'xojni',\n",
    "            'BB'      :'xojnc',\n",
    "            'ALL'     :'xojnl',\n",
    "            'ORIG'    :'xolnb',\n",
    "            'UPDT'    :'xolna'}\n",
    "job = job_dict[exp]\n",
    "\n",
    "if task == 'CHET':\n",
    "    t0, t1 = 0, 240\n",
    "else:\n",
    "    t0, t1 = 0, 120\n",
    "    \n",
    "if exp in ['CHEM', 'OCEAN', 'BB', 'ALL']:\n",
    "    with_RONO2 = True"
   ]
  },
  {
   "cell_type": "code",
   "execution_count": 6,
   "metadata": {},
   "outputs": [],
   "source": [
    "# Load .pp\n",
    "path_to_ukca = Path.cwd().parent / 'data' / job\n",
    "cubelist = iris.load(str(path_to_ukca / f'{job}_check.pp'))"
   ]
  },
  {
   "cell_type": "code",
   "execution_count": 7,
   "metadata": {},
   "outputs": [
    {
     "data": {
      "text/plain": [
       "[<iris 'Cube' of m01s34i362 / (unknown) (time: 240; model_level_number: 60; latitude: 73; longitude: 96)>,\n",
       "<iris 'Cube' of m01s34i363 / (unknown) (time: 240; model_level_number: 60; latitude: 73; longitude: 96)>,\n",
       "<iris 'Cube' of air_temperature / (K) (time: 240; model_level_number: 60; latitude: 73; longitude: 96)>,\n",
       "<iris 'Cube' of mass_fraction_of_hydroxyl_radical_in_air / (kg kg-1) (time: 240; model_level_number: 60; latitude: 73; longitude: 96)>,\n",
       "<iris 'Cube' of mass_fraction_of_methane_in_air / (kg kg-1) (time: 240; model_level_number: 60; latitude: 73; longitude: 96)>,\n",
       "<iris 'Cube' of mass_fraction_of_ozone_in_air / (kg kg-1) (time: 240; model_level_number: 60; latitude: 73; longitude: 96)>,\n",
       "<iris 'Cube' of tropopause_altitude / (m) (time: 240; latitude: 73; longitude: 96)>]"
      ]
     },
     "execution_count": 7,
     "metadata": {},
     "output_type": "execute_result"
    }
   ],
   "source": [
    "cubelist"
   ]
  },
  {
   "cell_type": "code",
   "execution_count": null,
   "metadata": {},
   "outputs": [],
   "source": [
    "# # Coefficients to convert mass mixing ratio to volume mixing ratio\n",
    "# M_air = 28.97 # molar mass of dry air [g mol-1]\n",
    "# coeff_o3 = (M_air/47.997)*1e9\n",
    "# coeff_oh = (M_air/17.007)*1e12\n",
    "# coeff_ho2 = (M_air/33.006)*1e12\n",
    "# coeff_no = (M_air/30.006)*1e12\n",
    "# coeff_no2 = (M_air/46.006)*1e12\n",
    "# coeff_hono = (M_air/47.013)*1e12\n",
    "# coeff_ho2no2 = (M_air/79.01224)*1e12\n",
    "# coeff_hno3 = (M_air/63.012)*1e12\n",
    "# coeff_n2o5 = (M_air/108.01)*1e12\n",
    "# coeff_pan = (M_air/121.0489)*1e12\n",
    "# coeff_ppan = (M_air/135.0755)*1e12\n",
    "# coeff_co = (M_air/28.010)*1e9\n",
    "# coeff_ch4 = (M_air/16.0425)*1e9\n",
    "# coeff_c2h6 = (M_air/30.0690)*1e12\n",
    "# coeff_c3h8 = (M_air/44.0956)*1e12\n",
    "# coeff_hcho = (M_air/30.0260)*1e12\n",
    "# coeff_mecho = (M_air/44.0526)*1e12\n",
    "# coeff_etcho = (M_air/58.0791)*1e12\n",
    "# coeff_me2co = (M_air/58.0791)*1e12\n",
    "# coeff_meoo = (M_air/47.0333)*1e12\n",
    "# coeff_etoo = (M_air/61.0599)*1e12\n",
    "# coeff_proo = (M_air/75.0865)*1e12\n",
    "# coeff_meono2 = (M_air/77.0394)*1e12\n",
    "# coeff_etono2 = (M_air/91.0660)*1e12\n",
    "# coeff_prono2 = (M_air/105.0926)*1e12"
   ]
  },
  {
   "cell_type": "markdown",
   "metadata": {},
   "source": [
    "HOx = O3+OH+HO2\n",
    "\n",
    "NOx = NO+NO2\n",
    "\n",
    "NOy = HONO+HO2NO2+HNO3+N2O5+PAN+PPAN\n",
    "\n",
    "CO, CH4, C2H6, C3H8\n",
    "\n",
    "Aldehydes: HCHO, MeCHO, EtCHO\n",
    "\n",
    "Ketones: Me2CO\n",
    "\n",
    "RO2: MeOO, EtOO, nPrOO, iPrOO\n",
    "\n",
    "RONO2: MeONO2, EtONO2, nPrONO2, iPrONO2"
   ]
  },
  {
   "cell_type": "code",
   "execution_count": null,
   "metadata": {},
   "outputs": [],
   "source": [
    "# Extract and rename variables\n",
    "temp = cubelist.extract_strict('air_temperature')[t0:t1]\n",
    "air_mass = cubelist.extract_strict(iris.AttributeConstraint(STASH='m01s34i363'))[t0:t1]\n",
    "trop_mask = cubelist.extract_strict(iris.AttributeConstraint(STASH='m01s34i362'))[t0:t1]\n",
    "trop_alt = cubelist.extract_strict('tropopause_altitude')[t0:t1]\n",
    "temp.rename('temp')\n",
    "air_mass.rename('air_mass')\n",
    "trop_mask.rename('trop_mask')\n",
    "trop_alt.rename('trop_alt')\n",
    "\n",
    "o3 = cubelist.extract_strict('mass_fraction_of_ozone_in_air')[t0:t1]\n",
    "oh = cubelist.extract_strict('mass_fraction_of_hydroxyl_radical_in_air')[t0:t1]\n",
    "ho2 = cubelist.extract_strict('mass_fraction_of_hydroperoxyl_radical_in_air')[t0:t1]\n",
    "no = cubelist.extract_strict('mass_fraction_of_nitrogen_monoxide_in_air')[t0:t1]\n",
    "no2 = cubelist.extract_strict(iris.AttributeConstraint(STASH='m01s34i152'))[t0:t1]\n",
    "hono = cubelist.extract_strict('mass_fraction_of_nitrous_acid_in_air')[t0:t1]\n",
    "ho2no2 = cubelist.extract_strict('mass_fraction_of_peroxynitric_acid_in_air')[t0:t1]\n",
    "hno3 = cubelist.extract_strict('mass_fraction_of_nitric_acid_in_air')[t0:t1]\n",
    "n2o5 = cubelist.extract_strict('mass_fraction_of_dinitrogen_pentoxide_in_air')[t0:t1]\n",
    "pan = cubelist.extract_strict('mass_fraction_of_peroxyacetyl_nitrate_in_air')[t0:t1]\n",
    "ppan = cubelist.extract_strict('mass_fraction_of_peroxypropionyl_nitrate_in_air')[t0:t1]\n",
    "co = cubelist.extract_strict('mass_fraction_of_carbon_monoxide_in_air')[t0:t1]\n",
    "ch4 = cubelist.extract_strict('mass_fraction_of_methane_in_air')[t0:t1]\n",
    "hcho = cubelist.extract_strict('mass_fraction_of_formaldehyde_in_air')[t0:t1]\n",
    "etcho = cubelist.extract_strict('mass_fraction_of_propanal_in_air')[t0:t1]\n",
    "me2co = cubelist.extract_strict('mass_fraction_of_acetone_in_air')[t0:t1]\n",
    "meoo = cubelist.extract_strict('mass_fraction_of_methyl_peroxy_radical_in_air')[t0:t1] # m01s34i083\n",
    "nproo = cubelist.extract_strict('mass_fraction_of_n-propylperoxy_radical_in_air')[t0:t1] # m01s34i086\n",
    "iproo = cubelist.extract_strict('mass_fraction_of_isopropylperoxy_radical_in_air')[t0:t1] # m01s34i087\n",
    "o3.rename('o3')\n",
    "oh.rename('oh')\n",
    "ho2.rename('ho2')\n",
    "no.rename('no')a\n",
    "no2.rename('no2')\n",
    "hono.rename('hono')\n",
    "ho2no2.rename('ho2no2')\n",
    "hno3.rename('hno3')\n",
    "n2o5.rename('n2o5')\n",
    "pan.rename('pan')\n",
    "ppan.rename('ppan')\n",
    "co.rename('co')\n",
    "ch4.rename('ch4')\n",
    "hcho.rename('hcho')\n",
    "etcho.rename('etcho')\n",
    "me2co.rename('me2co')\n",
    "meoo.rename('meoo')\n",
    "nproo.rename('nproo')\n",
    "iproo.rename('iproo')\n",
    "if task == 'CHET':\n",
    "    # CHECK!!!!!!!!!!!!!!!!!!!!!!!\n",
    "    no3 = cubelist.extract_strict('mass_fraction_of_nitrate_in_air')[t0:t1]\n",
    "    meooh = cubelist.extract_strict('mass_fraction_of_methyl_hydroperoxide_in_air')[t0:t1]\n",
    "    o3p = cubelist.extract_strict('mass_fraction_of_??_in_air')[t0:t1]\n",
    "    meco3 = cubelist.extract_strict('mass_fraction_of_??_in_air')[t0:t1] # acetylperoxy radical\n",
    "    etco3 = cubelist.extract_strict('mass_fraction_of_??_in_air')[t0:t1]\n",
    "    no3.rename('no3')\n",
    "    meooh.rename('meooh')\n",
    "    o3p.rename('o3p')\n",
    "    meco3.rename('meco3')\n",
    "    etco3.rename('etco3')\n",
    "else:\n",
    "    c2h6 = cubelist.extract_strict('mass_fraction_of_ethane_in_air')[t0:t1]\n",
    "    c3h8 = cubelist.extract_strict('mass_fraction_of_propane_in_air')[t0:t1] # m01s34i018\n",
    "    mecho = cubelist.extract_strict('mass_fraction_of_acetaldehyde_in_air')[t0:t1]\n",
    "    etoo = cubelist.extract_strict('mass_fraction_of_ethyl_peroxy_radical_in_air')[t0:t1] # m01s34i084\n",
    "    c2h6.rename('c2h6')\n",
    "    c3h8.rename('c3h8')\n",
    "    mecho.rename('mecho')\n",
    "    etoo.rename('etoo')\n",
    "    if with_RONO2:\n",
    "        meono2 = cubelist.extract_strict('mass_fraction_of_methyl_nitrate_in_air')[t0:t1]\n",
    "        etono2 = cubelist.extract_strict(iris.AttributeConstraint(STASH='m01s34i096'))[t0:t1] # ethyl_nitrate\n",
    "        nprono2 = cubelist.extract_strict(iris.AttributeConstraint(STASH='m01s34i097'))[t0:t1] # npropyl_nitrate\n",
    "        iprono2 = cubelist.extract_strict(iris.AttributeConstraint(STASH='m01s34i098'))[t0:t1] # ipropyl_nitrate\n",
    "        meono2.rename('meono2')\n",
    "        etono2.rename('etono2')\n",
    "        nprono2.rename('nprono2')\n",
    "        iprono2.rename('iprono2')"
   ]
  },
  {
   "cell_type": "code",
   "execution_count": null,
   "metadata": {},
   "outputs": [],
   "source": [
    "# Save to .nc\n",
    "iris.save(temp, str(path_to_ukca / f'{job}_temp.nc'))\n",
    "iris.save(air_mass, str(path_to_ukca / f'{job}_air_mass.nc'))\n",
    "iris.save(trop_mask, str(path_to_ukca / f'{job}_trop_mask.nc'))\n",
    "iris.save(trop_alt, str(path_to_ukca / f'{job}_trop_alt.nc'))\n",
    "\n",
    "iris.save(o3, str(path_to_ukca / f'{job}_o3.nc'))\n",
    "iris.save(oh, str(path_to_ukca / f'{job}_oh.nc'))\n",
    "iris.save(ho2, str(path_to_ukca / f'{job}_ho2.nc'))\n",
    "iris.save(no, str(path_to_ukca / f'{job}_no.nc'))\n",
    "iris.save(no2, str(path_to_ukca / f'{job}_no2.nc'))\n",
    "iris.save(hono, str(path_to_ukca / f'{job}_hono.nc'))\n",
    "iris.save(ho2no2, str(path_to_ukca / f'{job}_ho2no2.nc'))\n",
    "iris.save(hno3, str(path_to_ukca / f'{job}_hno3.nc'))\n",
    "iris.save(n2o5, str(path_to_ukca / f'{job}_n2o5.nc'))\n",
    "iris.save(pan, str(path_to_ukca / f'{job}_pan.nc'))\n",
    "iris.save(ppan, str(path_to_ukca / f'{job}_ppan.nc'))\n",
    "iris.save(co, str(path_to_ukca / f'{job}_co.nc'))\n",
    "iris.save(ch4, str(path_to_ukca / f'{job}_ch4.nc'))\n",
    "iris.save(hcho, str(path_to_ukca / f'{job}_hcho.nc'))\n",
    "iris.save(etcho, str(path_to_ukca / f'{job}_etcho.nc'))\n",
    "iris.save(me2co, str(path_to_ukca / f'{job}_me2co.nc'))\n",
    "iris.save(meoo, str(path_to_ukca / f'{job}_meoo.nc'))\n",
    "iris.save(nproo, str(path_to_ukca / f'{job}_nproo.nc'))\n",
    "iris.save(iproo, str(path_to_ukca / f'{job}_iproo.nc'))\n",
    "if task == 'CHET':\n",
    "    iris.save(no3, str(path_to_ukca / f'{job}_no3.nc'))\n",
    "    iris.save(meooh, str(path_to_ukca / f'{job}_meooh.nc'))\n",
    "    iris.save(o3p, str(path_to_ukca / f'{job}_o3p.nc'))\n",
    "    iris.save(meco3, str(path_to_ukca / f'{job}_meco3.nc'))\n",
    "    iris.save(etco3, str(path_to_ukca / f'{job}_etco3.nc'))\n",
    "else:\n",
    "    iris.save(c2h6, str(path_to_ukca / f'{job}_c2h6.nc'))\n",
    "    iris.save(c3h8, str(path_to_ukca / f'{job}_c3h8.nc'))\n",
    "    iris.save(mecho, str(path_to_ukca / f'{job}_mecho.nc'))\n",
    "    iris.save(etoo, str(path_to_ukca / f'{job}_etoo.nc'))\n",
    "    if with_RONO2:\n",
    "        iris.save(meono2, str(path_to_ukca / f'{job}_meono2.nc'))\n",
    "        iris.save(etono2, str(path_to_ukca / f'{job}_etono2.nc'))\n",
    "        iris.save(nprono2, str(path_to_ukca / f'{job}_nprono2.nc'))\n",
    "        iris.save(iprono2, str(path_to_ukca / f'{job}_iprono2.nc'))"
   ]
  }
 ],
 "metadata": {
  "@deathbeds/jupyterlab-fonts": {
   "styles": {
    ":root": {
     "--jp-code-font-size": "12px"
    }
   }
  },
  "kernelspec": {
   "display_name": "Python 3",
   "language": "python",
   "name": "python3"
  },
  "language_info": {
   "codemirror_mode": {
    "name": "ipython",
    "version": 3
   },
   "file_extension": ".py",
   "mimetype": "text/x-python",
   "name": "python",
   "nbconvert_exporter": "python",
   "pygments_lexer": "ipython3",
   "version": "3.7.3"
  }
 },
 "nbformat": 4,
 "nbformat_minor": 4
}
