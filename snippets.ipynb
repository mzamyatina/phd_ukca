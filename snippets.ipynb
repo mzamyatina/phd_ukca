{
 "cells": [
  {
   "cell_type": "code",
   "execution_count": null,
   "metadata": {},
   "outputs": [],
   "source": [
    "# def op_3d(cube, op):\n",
    "#     dims = [\"latitude\", \"longitude\", \"level_height\"]\n",
    "#     out = cube.collapsed(dims, getattr(iris.analysis, op.upper()))\n",
    "#     return out\n",
    "# op_3d(ch4_molecules_per_gridbox, \"mean\")"
   ]
  },
  {
   "cell_type": "code",
   "execution_count": null,
   "metadata": {},
   "outputs": [],
   "source": [
    "# o3_burden_annual_mean_xojng = o3_burden_annual_mean\n",
    "# %store -r o3_burden_annual_mean_xojnd\n",
    "\n",
    "# p = stats.shapiro(o3_burden_annual_mean_xojng - o3_burden_annual_mean_xojnd)[1]\n",
    "# print(p)\n",
    "# if p > 0.05:\n",
    "#     print(stats.ttest_rel(o3_burden_annual_mean_xojng, o3_burden_annual_mean_xojnd)[1])\n",
    "# else:\n",
    "#     print(stats.wilcoxon(o3_burden_annual_mean_xojng, o3_burden_annual_mean_xojnd)[1])"
   ]
  },
  {
   "cell_type": "code",
   "execution_count": null,
   "metadata": {},
   "outputs": [],
   "source": [
    "# def apply_stats_test(\n",
    "#     cube_a, cube_b=None, stats_func=None, coord=None, stats_return_idx=1, **stats_func_kw\n",
    "# ):\n",
    "#     \"\"\"WRITEME\"\"\"\n",
    "#     from tqdm.notebook import tqdm\n",
    "#     if isinstance(cube_b, iris.cube.Cube):\n",
    "#         cube_slices = zip(cube_a.slices(coord), cube_b.slices(coord))\n",
    "#     else:\n",
    "#         cube_slices = cube_a.slices(coord)\n",
    "#     data = []\n",
    "#     for cube_slice in tqdm(cube_slices):\n",
    "#         if isinstance(cube_b, iris.cube.Cube):\n",
    "#             args = [i.data for i in cube_slice]\n",
    "#         else:\n",
    "#             args = [cube_slice.data]\n",
    "#         result_scalar = stats_func(*args, **stats_func_kw)[stats_return_idx]\n",
    "#         print(cube_slice)\n",
    "#         data.append(result_scalar)\n",
    "#     data = np.asarray(data).reshape(next(cube_a.slices_over(coord)).shape)\n",
    "#     out = next(cube_a.slices_over(coord)).copy(data=data)\n",
    "#     return out\n",
    "# apply_stats_test(a, b, stats_func=stats.ttest_rel, coord=\"time\")\n",
    "# NORMALTEST_PVALUE = iris.analysis.Aggregator(\"DAgostino-Pearson\", lambda x, **kwargs: stats.mstats.normaltest(x, **kwargs)[1])\n",
    "# a.collapsed(\"time\", NORMALTEST_PVALUE)"
   ]
  }
 ],
 "metadata": {
  "kernelspec": {
   "display_name": "Python 3",
   "language": "python",
   "name": "python3"
  },
  "language_info": {
   "codemirror_mode": {
    "name": "ipython",
    "version": 3
   },
   "file_extension": ".py",
   "mimetype": "text/x-python",
   "name": "python",
   "nbconvert_exporter": "python",
   "pygments_lexer": "ipython3",
   "version": "3.7.9"
  }
 },
 "nbformat": 4,
 "nbformat_minor": 4
}
