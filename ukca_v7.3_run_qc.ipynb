{
 "cells": [
  {
   "cell_type": "code",
   "execution_count": 1,
   "metadata": {},
   "outputs": [],
   "source": [
    "import datetime\n",
    "import warnings\n",
    "from pathlib import Path\n",
    "\n",
    "import iris\n",
    "import iris.coord_categorisation\n",
    "import matplotlib.pyplot as plt\n",
    "import numpy as np\n",
    "import pandas as pd\n",
    "from pandas.plotting import register_matplotlib_converters\n",
    "from scipy import stats"
   ]
  },
  {
   "cell_type": "code",
   "execution_count": 2,
   "metadata": {},
   "outputs": [],
   "source": [
    "from util_commons import EXPERIMENTS, GASES\n",
    "from util_mypaths import path_to_processed, path_to_results\n",
    "from util_plot_func import use_draft_style"
   ]
  },
  {
   "cell_type": "code",
   "execution_count": 3,
   "metadata": {},
   "outputs": [],
   "source": [
    "warnings.filterwarnings(\"ignore\", module=\"iris\")\n",
    "register_matplotlib_converters()  # for tstamps\n",
    "use_draft_style()"
   ]
  },
  {
   "cell_type": "code",
   "execution_count": 4,
   "metadata": {},
   "outputs": [],
   "source": [
    "# Switches\n",
    "exp = \"FIRE OLD3\"\n",
    "trop_def = \"chemical\"  # diagnostic or chemical\n",
    "S60N60 = False  # True or False"
   ]
  },
  {
   "cell_type": "code",
   "execution_count": 5,
   "metadata": {},
   "outputs": [],
   "source": [
    "# Load data\n",
    "path_to_exp = path_to_processed / EXPERIMENTS[exp]\n",
    "o3 = iris.load_cube(str(path_to_exp / f\"{EXPERIMENTS[exp]}_o3.nc\"))\n",
    "oh = iris.load_cube(str(path_to_exp / f\"{EXPERIMENTS[exp]}_oh.nc\"))\n",
    "ch4 = iris.load_cube(str(path_to_exp / f\"{EXPERIMENTS[exp]}_ch4.nc\"))\n",
    "temp = iris.load_cube(str(path_to_exp / f\"{EXPERIMENTS[exp]}_temp.nc\"))\n",
    "air_mass = iris.load_cube(str(path_to_exp / f\"{EXPERIMENTS[exp]}_air_mass.nc\"))\n",
    "gridbox_vol = iris.load_cube(\n",
    "    str(path_to_processed.parent / \"raw\" / \"ukca_n48_l60_geovol.nc\"), \"vol_theta\"\n",
    ")\n",
    "if exp in [\"CHEM\", \"MARI\", \"FIRE OLD3\", \"FIRE\", \"FULL\"]:\n",
    "    meono2 = iris.load_cube(str(path_to_exp / f\"{EXPERIMENTS[exp]}_meono2.nc\"))\n",
    "    etono2 = iris.load_cube(str(path_to_exp / f\"{EXPERIMENTS[exp]}_etono2.nc\"))\n",
    "    nprono2 = iris.load_cube(str(path_to_exp / f\"{EXPERIMENTS[exp]}_nprono2.nc\"))\n",
    "    iprono2 = iris.load_cube(str(path_to_exp / f\"{EXPERIMENTS[exp]}_iprono2.nc\"))"
   ]
  },
  {
   "cell_type": "code",
   "execution_count": 6,
   "metadata": {},
   "outputs": [],
   "source": [
    "# Define troposphere\n",
    "air_mass.units = \"kg\"\n",
    "gridbox_vol.units = \"m3\"\n",
    "if trop_def == \"diagnostic\":\n",
    "    # Use tropospheric mask fraction [no units]\n",
    "    trop_mask = iris.load_cube(str(path_to_exp / f\"{EXPERIMENTS[exp]}_trop_mask.nc\"))\n",
    "    trop_tex = \"tropospheric mask fraction\"\n",
    "    trop_str = \"tropdiag\"\n",
    "elif trop_def == \"chemical\":\n",
    "    # Define troposphere as one where O3 is less than 125 ppb\n",
    "    molar_mass_air = iris.coords.AuxCoord(GASES[\"air\"][\"molar_mass\"], units=\"g mol-1\")\n",
    "    molar_mass_o3 = iris.coords.AuxCoord(GASES[\"o3\"][\"molar_mass\"], units=\"g mol-1\")\n",
    "    coeff_o3 = molar_mass_air.points[0] / molar_mass_o3.points[0] * 1e9\n",
    "    trop_mask_bool = np.ma.masked_less(o3.data * coeff_o3, 125).mask\n",
    "    trop_mask = o3.copy(data=trop_mask_bool)\n",
    "    trop_mask.rename(\"chemical troposphere\")\n",
    "    trop_tex = \"125 ppb ozonopause\"\n",
    "    trop_str = \"tropchem\"\n",
    "trop_mask.units = \"1\"\n",
    "\n",
    "# Define 60S-60N region for comparison with TOAR\n",
    "if S60N60:\n",
    "    S60N60_constraint = iris.Constraint(latitude=lambda cell: -60 <= cell <= 60)\n",
    "    o3 = o3.extract(S60N60_constraint)\n",
    "    oh = oh.extract(S60N60_constraint)\n",
    "    ch4 = ch4.extract(S60N60_constraint)\n",
    "    temp = temp.extract(S60N60_constraint)\n",
    "    air_mass = air_mass.extract(S60N60_constraint)\n",
    "    trop_mask = trop_mask.extract(S60N60_constraint)\n",
    "    gridbox_vol = gridbox_vol.extract(S60N60_constraint)\n",
    "    if exp in [\"CHEM\", \"MARI\", \"FIRE OLD3\", \"FIRE\", \"FULL\"]:\n",
    "        iprono2.units = \"kg kg-1\"\n",
    "        meono2 = meono2.extract(S60N60_constraint)\n",
    "        etono2 = etono2.extract(S60N60_constraint)\n",
    "        nprono2 = nprono2.extract(S60N60_constraint)\n",
    "        iprono2 = iprono2.extract(S60N60_constraint)\n",
    "    S60N60_tex = \"60\\u00B0S-60\\u00B0N \"\n",
    "    S60N60_str = \"60S60N\"\n",
    "else:\n",
    "    S60N60_tex = \"\"\n",
    "    S60N60_str = \"\"\n",
    "\n",
    "# Remove the first 2 years as a spin-up\n",
    "if exp in [\"ORIG\", \"UPDT\"]:\n",
    "    n_yrs = 18\n",
    "    t0, t1 = 24, 240\n",
    "else:\n",
    "    n_yrs = 8\n",
    "    t0, t1 = 24, 120"
   ]
  },
  {
   "cell_type": "code",
   "execution_count": 7,
   "metadata": {},
   "outputs": [],
   "source": [
    "# Create datetime coordinate for plotting\n",
    "cb = o3.copy()\n",
    "iris.coord_categorisation.add_year(cb, \"time\", name=\"year\")\n",
    "iris.coord_categorisation.add_month(cb, \"time\", name=\"month\")\n",
    "tstamp0 = datetime.datetime.strptime(\n",
    "    f\"{cb.coord('year').points[0]} \" + cb.coord(\"month\").points[0], \"%Y %b\"\n",
    ")\n",
    "tstamp1 = datetime.datetime.strptime(\n",
    "    f\"{cb.coord('year').points[-1]} \" + cb.coord(\"month\").points[-1], \"%Y %b\"\n",
    ")\n",
    "tstamps = pd.date_range(tstamp0, tstamp1, freq=\"MS\")"
   ]
  },
  {
   "cell_type": "code",
   "execution_count": 8,
   "metadata": {},
   "outputs": [],
   "source": [
    "def calc_burden(cube, air_mass, trop_mask):\n",
    "    \"\"\"Calculate the global tropospheric burden of a selected species in Tg.\"\"\"\n",
    "    burden = (cube * air_mass * trop_mask).collapsed(\n",
    "        [\"latitude\", \"longitude\", \"level_height\"], iris.analysis.SUM\n",
    "    )\n",
    "    burden.convert_units(\"Tg\")\n",
    "    burden.rename(cube.name())\n",
    "    return burden"
   ]
  },
  {
   "cell_type": "code",
   "execution_count": 9,
   "metadata": {},
   "outputs": [],
   "source": [
    "o3_burden = calc_burden(o3, air_mass, trop_mask)"
   ]
  },
  {
   "cell_type": "code",
   "execution_count": 10,
   "metadata": {},
   "outputs": [],
   "source": [
    "def plt_burden_time_series(cube):\n",
    "    fig, ax = plt.subplots()\n",
    "    ax.plot(tstamps, cube.data)\n",
    "    ax.set_title(f\"{exp}\\n\", loc=\"left\", weight=\"bold\")\n",
    "    ax.set_xlabel(\"Time, yr\")\n",
    "    ax.set_ylabel(\"Tg\")\n",
    "\n",
    "    # Format xticklabels\n",
    "    iris.coord_categorisation.add_year(cube, \"time\", name=\"year\")\n",
    "    iris.coord_categorisation.add_month(cube, \"time\", name=\"month\")\n",
    "    plt.draw()  \n",
    "    new_labels = [\n",
    "        int(i.get_text()) - cube.coord(\"year\").points[0] for i in ax.get_xticklabels(which=\"both\")\n",
    "    ]\n",
    "    ax.set_xticklabels(new_labels)\n",
    "\n",
    "    ax.set_title(\n",
    "        f\"Tropospheric {GASES[cube.name()]['tex']} burden\\n({S60N60_tex}using {trop_tex})\",\n",
    "        loc=\"right\",\n",
    "    )\n",
    "    figname = \"_\".join([i for i in [EXPERIMENTS[exp], cube.name(), \"burden\", trop_str, S60N60_str] if i])\n",
    "    fig.savefig(path_to_results / EXPERIMENTS[exp] / \"metrics\" / figname)"
   ]
  },
  {
   "cell_type": "code",
   "execution_count": 11,
   "metadata": {},
   "outputs": [
    {
     "name": "stderr",
     "output_type": "stream",
     "text": [
      "/home/maria/miniconda3/lib/python3.7/site-packages/ipykernel_launcher.py:15: UserWarning: FixedFormatter should only be used together with FixedLocator\n",
      "  from ipykernel import kernelapp as app\n"
     ]
    },
    {
     "data": {
      "image/png": "[encoded data removed]",
      "text/plain": [
       "<Figure size 432x288 with 1 Axes>"
      ]
     },
     "metadata": {},
     "output_type": "display_data"
    }
   ],
   "source": [
    "plt_burden_time_series(o3_burden)"
   ]
  },
  {
   "cell_type": "code",
   "execution_count": null,
   "metadata": {},
   "outputs": [],
   "source": []
  },
  {
   "cell_type": "code",
   "execution_count": null,
   "metadata": {},
   "outputs": [],
   "source": []
  },
  {
   "cell_type": "code",
   "execution_count": 12,
   "metadata": {},
   "outputs": [
    {
     "ename": "SyntaxError",
     "evalue": "'break' outside loop (<ipython-input-12-6aaf1f276005>, line 4)",
     "output_type": "error",
     "traceback": [
      "\u001b[0;36m  File \u001b[0;32m\"<ipython-input-12-6aaf1f276005>\"\u001b[0;36m, line \u001b[0;32m4\u001b[0m\n\u001b[0;31mSyntaxError\u001b[0m\u001b[0;31m:\u001b[0m 'break' outside loop\n"
     ]
    }
   ],
   "source": [
    "break"
   ]
  },
  {
   "cell_type": "markdown",
   "metadata": {},
   "source": [
    "#### Tropospheric O3 burden"
   ]
  },
  {
   "cell_type": "code",
   "execution_count": null,
   "metadata": {},
   "outputs": [],
   "source": [
    "# o3_burden_annual_mean.data[[[*range(4)] + [*range(7, 8)]]]"
   ]
  },
  {
   "cell_type": "code",
   "execution_count": null,
   "metadata": {},
   "outputs": [],
   "source": [
    "# o3_burden_annual_mean_xojng = o3_burden_annual_mean\n",
    "# %store -r o3_burden_annual_mean_xojnd"
   ]
  },
  {
   "cell_type": "code",
   "execution_count": null,
   "metadata": {},
   "outputs": [],
   "source": [
    "# p = stats.shapiro(o3_burden_annual_mean_xojng - o3_burden_annual_mean_xojnd)[1]\n",
    "# print(p)\n",
    "# if p > 0.05:\n",
    "#     print(stats.ttest_rel(o3_burden_annual_mean_xojng, o3_burden_annual_mean_xojnd)[1])\n",
    "# else:\n",
    "#     print(stats.wilcoxon(o3_burden_annual_mean_xojng, o3_burden_annual_mean_xojnd)[1])"
   ]
  },
  {
   "cell_type": "code",
   "execution_count": null,
   "metadata": {},
   "outputs": [],
   "source": []
  },
  {
   "cell_type": "code",
   "execution_count": null,
   "metadata": {},
   "outputs": [],
   "source": [
    "# Calculate annual mean O3 burden\n",
    "o3_burden_annual_mean = o3_burden[t0:t1].data.reshape(n_yrs, 12).mean(axis=1)\n",
    "if exp == \"FIRE\":\n",
    "    print(\n",
    "        f\"{np.mean(o3_burden_annual_mean.data[[[*range(4)] + [*range(7, 8)]]]):1.2f}\\u00B1{np.std(o3_burden_annual_mean.data[[[*range(4)] + [*range(7, 8)]]]):1.2f} Tg\"\n",
    "    )\n",
    "    print(\n",
    "        f\"{np.mean(o3_burden_annual_mean.data[[[*range(4)] + [*range(7, 8)]]]):1.2f}\\u00B1{stats.sem(o3_burden_annual_mean.data[[[*range(4)] + [*range(7, 8)]]]):1.2f} Tg\"\n",
    "    )\n",
    "else:\n",
    "    print(\n",
    "        f\"{np.mean(o3_burden_annual_mean.data):1.2f}\\u00B1{np.std(o3_burden_annual_mean.data):1.2f} Tg\"\n",
    "    )\n",
    "    print(\n",
    "        f\"{np.mean(o3_burden_annual_mean.data):1.2f}\\u00B1{stats.sem(o3_burden_annual_mean.data):1.2f} Tg\"\n",
    "    )"
   ]
  },
  {
   "cell_type": "markdown",
   "metadata": {},
   "source": [
    "#### Tropospheric CH4 burden"
   ]
  },
  {
   "cell_type": "code",
   "execution_count": null,
   "metadata": {},
   "outputs": [],
   "source": [
    "# Calculate CH4 burden per month\n",
    "ch4_burden = (ch4 * air_mass * trop_mask).collapsed(\n",
    "    [\"latitude\", \"longitude\", \"level_height\"], iris.analysis.SUM\n",
    ")\n",
    "ch4_burden.convert_units(\"Tg\")\n",
    "# Calculate annual mean CH4 burden\n",
    "ch4_burden_annual_mean = ch4_burden[t0:t1].data.reshape(n_yrs, 12).mean(axis=1)\n",
    "if exp == \"FIRE\":\n",
    "    print(\n",
    "        f\"{np.mean(ch4_burden_annual_mean.data[[[*range(4)] + [*range(7, 8)]]]):1.2f}\\u00B1{np.std(ch4_burden_annual_mean.data[[[*range(4)] + [*range(7, 8)]]]):1.2f} Tg\"\n",
    "    )\n",
    "    print(\n",
    "        f\"{np.mean(ch4_burden_annual_mean.data[[[*range(4)] + [*range(7, 8)]]]):1.2f}\\u00B1{stats.sem(ch4_burden_annual_mean.data[[[*range(4)] + [*range(7, 8)]]]):1.2f} Tg\"\n",
    "    )\n",
    "else:\n",
    "    print(\n",
    "        f\"{np.mean(ch4_burden_annual_mean.data):1.2f}\\u00B1{np.std(ch4_burden_annual_mean.data):1.2f} Tg\"\n",
    "    )\n",
    "    print(\n",
    "        f\"{np.mean(ch4_burden_annual_mean.data):1.2f}\\u00B1{stats.sem(ch4_burden_annual_mean.data):1.2f} Tg\"\n",
    "    )"
   ]
  },
  {
   "cell_type": "code",
   "execution_count": null,
   "metadata": {},
   "outputs": [],
   "source": [
    "# ch4_burden_annual_mean_xojng = ch4_burden_annual_mean\n",
    "# %store -r ch4_burden_annual_mean_xojnd"
   ]
  },
  {
   "cell_type": "code",
   "execution_count": null,
   "metadata": {},
   "outputs": [],
   "source": [
    "# p = stats.shapiro(ch4_burden_annual_mean_xojng - ch4_burden_annual_mean_xojnd)[1]\n",
    "# print(p)\n",
    "# if p > 0.05:\n",
    "#     print(stats.ttest_rel(ch4_burden_annual_mean_xojng, ch4_burden_annual_mean_xojnd)[1])\n",
    "# else:\n",
    "#     print(stats.wilcoxon(ch4_burden_annual_mean_xojng, ch4_burden_annual_mean_xojnd)[1])"
   ]
  },
  {
   "cell_type": "code",
   "execution_count": null,
   "metadata": {},
   "outputs": [],
   "source": [
    "fig, ax = plt.subplots()\n",
    "ax.plot(tstamps, ch4_burden.data)\n",
    "ax.set_title(f\"{exp}\\n\", loc=\"left\", weight=\"bold\")\n",
    "ax.set_xlabel(\"Time, yr\")\n",
    "ax.set_ylabel(\"Tg\")\n",
    "# Format xticklabels\n",
    "plt.draw()  # force ticklabels to be generated\n",
    "new_labels = [\n",
    "    int(i.get_text()) - cb.coord(\"year\").points[0] for i in ax.get_xticklabels(which=\"both\")\n",
    "]\n",
    "ax.set_xticklabels(new_labels)\n",
    "if trop_def == \"chemical\" and S60N60:\n",
    "    ax.set_title(\n",
    "        \"Tropospheric $CH_4$ burden\\n(60\\u00B0S-60\\u00B0N using 125 ppb ozonopause)\", loc=\"right\"\n",
    "    )\n",
    "    fig.savefig(path_to_figs / f\"{job}_ch4_burden_chemtrop_60S60N.png\")\n",
    "if trop_def == \"chemical\" and not S60N60:\n",
    "    ax.set_title(\"Tropospheric $CH_4$ burden\\n(using 125 ppb ozonopause)\", loc=\"right\")\n",
    "    fig.savefig(path_to_figs / f\"{job}_ch4_burden_chemtrop.png\")"
   ]
  },
  {
   "cell_type": "markdown",
   "metadata": {},
   "source": [
    "#### CH4 lifetime"
   ]
  },
  {
   "cell_type": "code",
   "execution_count": null,
   "metadata": {},
   "outputs": [],
   "source": [
    "# Constants\n",
    "k_ch4_oh = temp.copy(data=1.85e-12 * np.exp(-1690 / temp.data))\n",
    "k_ch4_oh.rename(\"CH4+OH reaction rate coefficient\")\n",
    "k_ch4_oh.units = \"cm3 s-1\"\n",
    "molar_mass_oh = iris.coords.AuxCoord(17.007, units=\"g mol-1\")\n",
    "molar_mass_ch4 = iris.coords.AuxCoord(16.0425, units=\"g mol-1\")\n",
    "avogadro_number = iris.coords.AuxCoord(6.022 * 1e23, units=\"mol-1\", long_name=\"avogadro_number\")\n",
    "# Find number of OH and CH4 molecules per grid box in the troposphere (tropospheric burden in molecules, not kg)\n",
    "oh_molecules_per_gridbox = oh * air_mass * trop_mask / molar_mass_oh * avogadro_number\n",
    "ch4_molecules_per_gridbox = ch4 * air_mass * trop_mask / molar_mass_ch4 * avogadro_number\n",
    "## Prepare gridbox_vol cube for later multiplication by oh_molecules_per_gridbox cube\n",
    "# Get rid of time coordinate\n",
    "gridbox_vol = iris.util.squeeze(gridbox_vol)\n",
    "gridbox_vol.remove_coord(\"t\")\n",
    "# Copy oh_molecules_per_gridbox metadata to gridbox_vol cube\n",
    "_var_name, _units = gridbox_vol.var_name, gridbox_vol.units\n",
    "gridbox_vol = oh_molecules_per_gridbox[0, ...].copy(data=gridbox_vol.data)\n",
    "gridbox_vol.rename(_var_name)\n",
    "gridbox_vol.units = _units\n",
    "gridbox_vol.remove_coord(\"forecast_reference_time\")\n",
    "# Calculate CH4 loss in molecules s-1\n",
    "loss_ch4_oh = k_ch4_oh * ch4_molecules_per_gridbox * oh_molecules_per_gridbox / gridbox_vol\n",
    "# Calculate CH4 lifetime\n",
    "volume_sum = ([\"latitude\", \"longitude\", \"level_height\"], iris.analysis.SUM)\n",
    "ch4_lifetime = ch4_molecules_per_gridbox.collapsed(*volume_sum) / loss_ch4_oh.collapsed(*volume_sum)\n",
    "ch4_lifetime.convert_units(\"360 day\")\n",
    "# Calculate annual mean CH4 lifetime\n",
    "ch4_lifetime_annual_mean = ch4_lifetime[t0:t1].data.reshape(n_yrs, 12).mean(axis=1)\n",
    "if exp == \"FIRE\":\n",
    "    print(\n",
    "        f\"{np.mean(ch4_lifetime_annual_mean.data[[[*range(4)] + [*range(7, 8)]]]):1.3f}\\u00B1{np.std(ch4_lifetime_annual_mean.data[[[*range(4)] + [*range(7, 8)]]]):1.3f} yr\"\n",
    "    )\n",
    "    print(\n",
    "        f\"{np.mean(ch4_lifetime_annual_mean.data[[[*range(4)] + [*range(7, 8)]]]):1.3f}\\u00B1{stats.sem(ch4_lifetime_annual_mean.data[[[*range(4)] + [*range(7, 8)]]]):1.3f} yr\"\n",
    "    )\n",
    "else:\n",
    "    print(\n",
    "        f\"{np.mean(ch4_lifetime_annual_mean.data):1.3f}\\u00B1{np.std(ch4_lifetime_annual_mean.data):1.3f} yr\"\n",
    "    )\n",
    "    print(\n",
    "        f\"{np.mean(ch4_lifetime_annual_mean.data):1.3f}\\u00B1{stats.sem(ch4_lifetime_annual_mean.data):1.3f} yr\"\n",
    "    )"
   ]
  },
  {
   "cell_type": "code",
   "execution_count": null,
   "metadata": {},
   "outputs": [],
   "source": [
    "fig, ax = plt.subplots()\n",
    "ax.plot(tstamps, ch4_lifetime.data)\n",
    "ax.set_title(f\"{exp}\\n\", loc=\"left\", weight=\"bold\")\n",
    "ax.set_xlabel(\"Time, yr\")\n",
    "ax.set_ylabel(\"yr\")\n",
    "# Format xticklabels\n",
    "plt.draw()  # force ticklabels to be generated\n",
    "new_labels = [\n",
    "    int(i.get_text()) - cb.coord(\"year\").points[0] for i in ax.get_xticklabels(which=\"both\")\n",
    "]\n",
    "ax.set_xticklabels(new_labels)\n",
    "if trop_def == \"chemical\" and S60N60:\n",
    "    ax.set_title(\n",
    "        \"Tropospheric $CH_4$ lifetime\\n(60\\u00B0S-60\\u00B0N using 125 ppb ozonopause)\", loc=\"right\"\n",
    "    )\n",
    "    fig.savefig(path_to_figs / f\"{job}_ch4_lifetime_chemtrop_60S60N.png\")\n",
    "if trop_def == \"chemical\" and not S60N60:\n",
    "    ax.set_title(\"Tropospheric $CH_4$ lifetime\\n(using 125 ppb ozonopause)\", loc=\"right\")\n",
    "    fig.savefig(path_to_figs / f\"{job}_ch4_lifetime_chemtrop.png\");"
   ]
  },
  {
   "cell_type": "markdown",
   "metadata": {},
   "source": [
    "#### NH/SH air mass averaged tropospheric OH ratio"
   ]
  },
  {
   "cell_type": "code",
   "execution_count": null,
   "metadata": {},
   "outputs": [],
   "source": [
    "# Calculate OH in molecules per cm3\n",
    "oh_molecules_per_cm3 = oh_molecules_per_gridbox / gridbox_vol\n",
    "oh_molecules_per_cm3.convert_units(\"cm-3\")\n",
    "# Weight OH in each hemisphere by mass of air in each hemisphere\n",
    "nh_constraint = iris.Constraint(latitude=lambda x: x >= 0)\n",
    "sh_constraint = iris.Constraint(latitude=lambda x: x <= 0)\n",
    "averaging_args = ([\"longitude\", \"latitude\", \"level_height\"], iris.analysis.MEAN)\n",
    "oh_nh = (oh_molecules_per_cm3 * air_mass).extract(nh_constraint).collapsed(\n",
    "    *averaging_args\n",
    ") / air_mass.extract(nh_constraint).collapsed(*averaging_args)\n",
    "oh_sh = (oh_molecules_per_cm3 * air_mass).extract(sh_constraint).collapsed(\n",
    "    *averaging_args\n",
    ") / air_mass.extract(sh_constraint).collapsed(*averaging_args)\n",
    "# Calculate annual mean OH ratio\n",
    "oh_nh_annual_mean = oh_nh.data[t0:t1].reshape(n_yrs, 12).mean(axis=1)\n",
    "oh_sh_annual_mean = oh_sh.data[t0:t1].reshape(n_yrs, 12).mean(axis=1)\n",
    "if exp == \"FIRE\":\n",
    "    print(\n",
    "        f\"{np.mean(oh_nh_annual_mean[[[*range(4)] + [*range(7, 8)]]]/oh_sh_annual_mean[[[*range(4)] + [*range(7, 8)]]]):1.3f}\\u00B1{np.std(oh_nh_annual_mean[[[*range(4)] + [*range(7, 8)]]]/oh_sh_annual_mean[[[*range(4)] + [*range(7, 8)]]]):1.3f}\"\n",
    "    )\n",
    "    print(\n",
    "        f\"{np.mean(oh_nh_annual_mean[[[*range(4)] + [*range(7, 8)]]]/oh_sh_annual_mean[[[*range(4)] + [*range(7, 8)]]]):1.3f}\\u00B1{stats.sem(oh_nh_annual_mean[[[*range(4)] + [*range(7, 8)]]]/oh_sh_annual_mean[[[*range(4)] + [*range(7, 8)]]]):1.3f}\"\n",
    "    )\n",
    "else:\n",
    "    print(\n",
    "        f\"{np.mean(oh_nh_annual_mean/oh_sh_annual_mean):1.3f}\\u00B1{np.std(oh_nh_annual_mean/oh_sh_annual_mean):1.3f}\"\n",
    "    )\n",
    "    print(\n",
    "        f\"{np.mean(oh_nh_annual_mean/oh_sh_annual_mean):1.3f}\\u00B1{stats.sem(oh_nh_annual_mean/oh_sh_annual_mean):1.3f}\"\n",
    "    )"
   ]
  },
  {
   "cell_type": "code",
   "execution_count": null,
   "metadata": {},
   "outputs": [],
   "source": [
    "# Plot annual mean ratio of OH in the Northern Hemisphere to OH in the Southern Hemisphere\n",
    "fig, ax = plt.subplots()\n",
    "ax.bar(np.arange(1, n_yrs + 1), oh_nh_annual_mean / oh_sh_annual_mean)\n",
    "ax.set_title(f\"{exp}\\n\", loc=\"left\", weight=\"bold\")\n",
    "ax.set_xlabel(\"Time, years\")\n",
    "if trop_def == \"chemical\" and S60N60:\n",
    "    ax.set_title(\n",
    "        \"NH/SH annual mean tropospheric OH ratio\\n(60\\u00B0S-60\\u00B0N using 125 ppb ozonopause)\",\n",
    "        loc=\"right\",\n",
    "    )\n",
    "    fig.savefig(path_to_figs / f\"{job}_oh_ratio_annual_mean_airmass_averaged_chemtrop_60S60N.png\")\n",
    "if trop_def == \"chemical\" and not S60N60:\n",
    "    ax.set_title(\"NH/SH annual mean tropospheric OH ratio\\n(using 125 ppb ozonopause)\", loc=\"right\")\n",
    "    fig.savefig(path_to_figs / f\"{job}_oh_ratio_annual_mean_airmass_averaged_chemtrop.png\");"
   ]
  },
  {
   "cell_type": "code",
   "execution_count": null,
   "metadata": {},
   "outputs": [],
   "source": [
    "# # SSAN - BASE\n",
    "# print(272.50 - 271.89)\n",
    "# print(4357.49 - 4367.93)\n",
    "# print(9.652 - 9.700)\n",
    "# print(1.364 - 1.367)"
   ]
  },
  {
   "cell_type": "code",
   "execution_count": null,
   "metadata": {},
   "outputs": [],
   "source": [
    "# # CHEM - BASE\n",
    "# print(273.19 - 271.89)\n",
    "# print(4355.96 - 4367.93)\n",
    "# print(9.634 - 9.700)\n",
    "# print(1.358 - 1.367)"
   ]
  },
  {
   "cell_type": "markdown",
   "metadata": {},
   "source": [
    "Experiment & \\ce{O3}         & \\ce{CH4}        & $\\tau_{\\ce{CH4}}$ & NH/SH OH     \\\\\n",
    "SSAN       & 272.50 (0.30)   & 4357.49 (26.38) & 9.652 (0.037)     & 1.364 (0.004)\\\\\n",
    "BASE       & 271.89 (0.47)   & 4367.93 (25.79) & 9.700 (0.027)     & 1.367 (0.005)\\\\\n",
    "CHEM       & 273.19 (0.24)   & 4355.96 (24.35) & 9.634 (0.031)     & 1.358 (0.003)\\\\\n",
    "MARI       & 274.47 (0.49)   & 4343.19 (24.91) & 9.560 (0.026)     & 1.340 (0.005)\\\\\n",
    "FIRE       & 272.99 (0.46)   & 4349.43 (51.08) & 9.640 (0.051)     & 1.366 (0.006)\\\\\n",
    "FULL       & 274.85 (0.50)   & 4340.52 (23.19) & 9.549 (0.024)     & 1.345 (0.005)\\\\"
   ]
  },
  {
   "cell_type": "code",
   "execution_count": null,
   "metadata": {},
   "outputs": [],
   "source": [
    "print(\"CHEM - BASE O3 burden\")\n",
    "print(\"abs diff\", 273.19 - 271.89)\n",
    "print(\"rel diff\", (273.19 - 271.89) * 100 / 271.89)\n",
    "print(\"abs err\", np.sqrt(0.47 ** 2 + 0.24 ** 2))\n",
    "print(\"rel err\", np.sqrt(0.47 ** 2 + 0.24 ** 2) * 100 / 271.89)"
   ]
  },
  {
   "cell_type": "code",
   "execution_count": null,
   "metadata": {},
   "outputs": [],
   "source": [
    "print(\"CHEM - BASE CH4 lifetime\")\n",
    "print(\"abs diff\", 9.634 - 9.700)\n",
    "print(\"rel diff\", (9.634 - 9.700) * 100 / 9.700)\n",
    "print(\"abs err\", np.sqrt(0.027 ** 2 + 0.031 ** 2))\n",
    "print(\"rel err\", np.sqrt(0.027 ** 2 + 0.031 ** 2) * 100 / 9.700)"
   ]
  },
  {
   "cell_type": "code",
   "execution_count": null,
   "metadata": {},
   "outputs": [],
   "source": [
    "print(\"MARI - BASE O3 burden\")\n",
    "print(\"abs diff\", 274.47 - 271.89)\n",
    "print(\"rel diff\", (274.47 - 271.89) * 100 / 271.89)\n",
    "print(\"abs err\", np.sqrt(0.47 ** 2 + 0.49 ** 2))\n",
    "print(\"rel err\", np.sqrt(0.47 ** 2 + 0.49 ** 2) * 100 / 271.89)"
   ]
  },
  {
   "cell_type": "code",
   "execution_count": null,
   "metadata": {},
   "outputs": [],
   "source": [
    "print(\"MARI - BASE CH4 lifetime\")\n",
    "print(\"abs diff\", 9.560 - 9.700)\n",
    "print(\"rel diff\", (9.560 - 9.700) * 100 / 9.700)\n",
    "print(\"abs err\", np.sqrt(0.027 ** 2 + 0.026 ** 2))\n",
    "print(\"rel err\", np.sqrt(0.027 ** 2 + 0.026 ** 2) * 100 / 9.700)"
   ]
  },
  {
   "cell_type": "code",
   "execution_count": null,
   "metadata": {},
   "outputs": [],
   "source": [
    "print(\"FIRE - SSAN O3 burden\")\n",
    "print(\"abs diff\", 272.99 - 272.50)\n",
    "print(\"rel diff\", (272.99 - 272.50) * 100 / 272.50)\n",
    "print(\"abs err\", np.sqrt(0.30 ** 2 + 0.46 ** 2))\n",
    "print(\"rel err\", np.sqrt(0.30 ** 2 + 0.46 ** 2) * 100 / 272.50)"
   ]
  },
  {
   "cell_type": "code",
   "execution_count": null,
   "metadata": {},
   "outputs": [],
   "source": [
    "print(\"FIRE - SSAN CH4 lifetime\")\n",
    "print(\"abs diff\", 9.640 - 9.652)\n",
    "print(\"rel diff\", (9.640 - 9.652) * 100 / 9.652)\n",
    "print(\"abs err\", np.sqrt(0.037 ** 2 + 0.051 ** 2))\n",
    "print(\"rel err\", np.sqrt(0.037 ** 2 + 0.051 ** 2) * 100 / 9.652)"
   ]
  },
  {
   "cell_type": "code",
   "execution_count": null,
   "metadata": {},
   "outputs": [],
   "source": [
    "print(\"FULL - BASE O3 burden\")\n",
    "print(\"abs diff\", 274.85 - 271.89)\n",
    "print(\"rel diff\", (274.85 - 271.89) * 100 / 271.89)\n",
    "print(\"abs err\", np.sqrt(0.47 ** 2 + 0.50 ** 2))\n",
    "print(\"rel err\", np.sqrt(0.47 ** 2 + 0.50 ** 2) * 100 / 271.89)"
   ]
  },
  {
   "cell_type": "code",
   "execution_count": null,
   "metadata": {},
   "outputs": [],
   "source": [
    "print(\"FULL - BASE CH4 lifetime\")\n",
    "print(\"abs diff\", 9.549 - 9.700)\n",
    "print(\"rel diff\", (9.549 - 9.700) * 100 / 9.700)\n",
    "print(\"abs err\", np.sqrt(0.027 ** 2 + 0.024 ** 2))\n",
    "print(\"rel err\", np.sqrt(0.027 ** 2 + 0.024 ** 2) * 100 / 9.700)"
   ]
  },
  {
   "cell_type": "markdown",
   "metadata": {},
   "source": [
    "#### Tropospheric RONO2 burdens"
   ]
  },
  {
   "cell_type": "code",
   "execution_count": null,
   "metadata": {},
   "outputs": [],
   "source": [
    "if exp in [\"CHEM\", \"MARI\", \"FIRE OLD2\", \"FIRE OLD3\", \"FIRE\", \"FULL\"]:\n",
    "    # Calculate MeONO2 burden per month\n",
    "    meono2_burden = (meono2 * air_mass * trop_mask).collapsed(\n",
    "        [\"latitude\", \"longitude\", \"level_height\"], iris.analysis.SUM\n",
    "    )\n",
    "    meono2_burden.convert_units(\"Gg\")\n",
    "    # Calculate annual mean MeONO2 burden\n",
    "    meono2_burden_annual_mean = meono2_burden[t0:t1].data.reshape(n_yrs, 12).mean(axis=1)\n",
    "\n",
    "    etono2_burden = (etono2 * air_mass * trop_mask).collapsed(\n",
    "        [\"latitude\", \"longitude\", \"level_height\"], iris.analysis.SUM\n",
    "    )\n",
    "    etono2_burden.convert_units(\"Gg\")\n",
    "    etono2_burden_annual_mean = etono2_burden[t0:t1].data.reshape(n_yrs, 12).mean(axis=1)\n",
    "\n",
    "    nprono2_burden = (nprono2 * air_mass * trop_mask).collapsed(\n",
    "        [\"latitude\", \"longitude\", \"level_height\"], iris.analysis.SUM\n",
    "    )\n",
    "    nprono2_burden.convert_units(\"Gg\")\n",
    "    nprono2_burden_annual_mean = nprono2_burden[t0:t1].data.reshape(n_yrs, 12).mean(axis=1)\n",
    "\n",
    "    iprono2_burden = (iprono2 * air_mass * trop_mask).collapsed(\n",
    "        [\"latitude\", \"longitude\", \"level_height\"], iris.analysis.SUM\n",
    "    )\n",
    "    iprono2_burden.convert_units(\"Gg\")\n",
    "    iprono2_burden_annual_mean = iprono2_burden[t0:t1].data.reshape(n_yrs, 12).mean(axis=1)\n",
    "\n",
    "    print(\n",
    "        f\"MeONO2 {np.mean(meono2_burden_annual_mean.data):1.2f}\\u00B1{np.std(meono2_burden_annual_mean.data):1.2f} Gg\"\n",
    "    )\n",
    "    print(\n",
    "        f\"EtONO2 {np.mean(etono2_burden_annual_mean.data):1.2f}\\u00B1{np.std(etono2_burden_annual_mean.data):1.2f} Gg\"\n",
    "    )\n",
    "    print(\n",
    "        f\"nPrONO2 {np.mean(nprono2_burden_annual_mean.data):1.3f}\\u00B1{np.std(nprono2_burden_annual_mean.data):1.3f} Gg\"\n",
    "    )\n",
    "    print(\n",
    "        f\"iPrONO2 {np.mean(iprono2_burden_annual_mean.data):1.3f}\\u00B1{np.std(iprono2_burden_annual_mean.data):1.3f} Gg\"\n",
    "    )\n",
    "    print(\"with standard error\")\n",
    "    print(\n",
    "        f\"MeONO2 {np.mean(meono2_burden_annual_mean.data):1.2f}\\u00B1{stats.sem(meono2_burden_annual_mean.data):1.2f} Gg\"\n",
    "    )\n",
    "    print(\n",
    "        f\"EtONO2 {np.mean(etono2_burden_annual_mean.data):1.2f}\\u00B1{stats.sem(etono2_burden_annual_mean.data):1.2f} Gg\"\n",
    "    )\n",
    "    print(\n",
    "        f\"nPrONO2 {np.mean(nprono2_burden_annual_mean.data):1.3f}\\u00B1{stats.sem(nprono2_burden_annual_mean.data):1.3f} Gg\"\n",
    "    )\n",
    "    print(\n",
    "        f\"iPrONO2 {np.mean(iprono2_burden_annual_mean.data):1.3f}\\u00B1{stats.sem(iprono2_burden_annual_mean.data):1.3f} Gg\"\n",
    "    )"
   ]
  },
  {
   "cell_type": "code",
   "execution_count": null,
   "metadata": {},
   "outputs": [],
   "source": [
    "if exp in [\"CHEM\", \"MARI\", \"FIRE OLD2\", \"FIRE OLD3\", \"FIRE\", \"FULL\"]:\n",
    "    fig, ax = plt.subplots()\n",
    "    ax.plot(tstamps, meono2_burden.data)\n",
    "    ax.set_title(f\"{exp}\\n\", loc=\"left\", weight=\"bold\")\n",
    "    ax.set_xlabel(\"Time, yr\")\n",
    "    ax.set_ylabel(\"Gg\")\n",
    "    plt.draw()\n",
    "    new_labels = [\n",
    "        int(i.get_text()) - cb.coord(\"year\").points[0] for i in ax.get_xticklabels(which=\"both\")\n",
    "    ]\n",
    "    ax.set_xticklabels(new_labels)\n",
    "    if trop_def == \"chemical\" and S60N60:\n",
    "        ax.set_title(\n",
    "            \"Tropospheric $MeONO_2$ burden\\n(60\\u00B0S-60\\u00B0N using 125 ppb ozonopause)\",\n",
    "            loc=\"right\",\n",
    "        )\n",
    "        fig.savefig(path_to_figs / f\"{job}_meono2_burden_chemtrop_60S60N.png\")\n",
    "    if trop_def == \"chemical\" and not S60N60:\n",
    "        ax.set_title(\"Tropospheric $MeONO_2$ burden\\n(using 125 ppb ozonopause)\", loc=\"right\")\n",
    "        fig.savefig(path_to_figs / f\"{job}_meono2_burden_chemtrop.png\")"
   ]
  },
  {
   "cell_type": "code",
   "execution_count": null,
   "metadata": {},
   "outputs": [],
   "source": [
    "# Remove faulty data from FIRE xojnv\n",
    "cube = iris.cube.CubeList([meono2_burden[12:72, ...], meono2_burden[84::, ...]]).concatenate()[0]\n",
    "plt.plot(cube.data)"
   ]
  },
  {
   "cell_type": "code",
   "execution_count": null,
   "metadata": {},
   "outputs": [],
   "source": [
    "if exp in [\"CHEM\", \"MARI\", \"FIRE\", \"FULL\"]:\n",
    "    fig, ax = plt.subplots()\n",
    "    ax.plot(tstamps, etono2_burden.data)\n",
    "    ax.set_title(f\"{exp}\\n\", loc=\"left\", weight=\"bold\")\n",
    "    ax.set_xlabel(\"Time, yr\")\n",
    "    ax.set_ylabel(\"Gg\")\n",
    "    plt.draw()\n",
    "    new_labels = [\n",
    "        int(i.get_text()) - cb.coord(\"year\").points[0] for i in ax.get_xticklabels(which=\"both\")\n",
    "    ]\n",
    "    ax.set_xticklabels(new_labels)\n",
    "    if trop_def == \"chemical\" and S60N60:\n",
    "        ax.set_title(\n",
    "            \"Tropospheric $EtONO_2$ burden\\n(60\\u00B0S-60\\u00B0N using 125 ppb ozonopause)\",\n",
    "            loc=\"right\",\n",
    "        )\n",
    "        fig.savefig(path_to_figs / f\"{job}_etono2_burden_chemtrop_60S60N.png\")\n",
    "    if trop_def == \"chemical\" and not S60N60:\n",
    "        ax.set_title(\"Tropospheric $EtONO_2$ burden\\n(using 125 ppb ozonopause)\", loc=\"right\")\n",
    "        fig.savefig(path_to_figs / f\"{job}_etono2_burden_chemtrop.png\")"
   ]
  },
  {
   "cell_type": "code",
   "execution_count": null,
   "metadata": {},
   "outputs": [],
   "source": [
    "if exp in [\"CHEM\", \"MARI\", \"FIRE\", \"FULL\"]:\n",
    "    fig, ax = plt.subplots()\n",
    "    ax.plot(tstamps, nprono2_burden.data)\n",
    "    ax.set_title(f\"{exp}\\n\", loc=\"left\", weight=\"bold\")\n",
    "    ax.set_xlabel(\"Time, yr\")\n",
    "    ax.set_ylabel(\"Gg\")\n",
    "    plt.draw()\n",
    "    new_labels = [\n",
    "        int(i.get_text()) - cb.coord(\"year\").points[0] for i in ax.get_xticklabels(which=\"both\")\n",
    "    ]\n",
    "    ax.set_xticklabels(new_labels)\n",
    "    if trop_def == \"chemical\" and S60N60:\n",
    "        ax.set_title(\n",
    "            \"Tropospheric $nPrONO_2$ burden\\n(60\\u00B0S-60\\u00B0N using 125 ppb ozonopause)\",\n",
    "            loc=\"right\",\n",
    "        )\n",
    "        fig.savefig(path_to_figs / f\"{job}_nprono2_burden_chemtrop_60S60N.png\")\n",
    "    if trop_def == \"chemical\" and not S60N60:\n",
    "        ax.set_title(\"Tropospheric $nPrONO_2$ burden\\n(using 125 ppb ozonopause)\", loc=\"right\")\n",
    "        fig.savefig(path_to_figs / f\"{job}_nprono2_burden_chemtrop.png\")"
   ]
  },
  {
   "cell_type": "code",
   "execution_count": null,
   "metadata": {},
   "outputs": [],
   "source": [
    "if exp in [\"CHEM\", \"MARI\", \"FIRE\", \"FULL\"]:\n",
    "    fig, ax = plt.subplots()\n",
    "    ax.plot(tstamps, iprono2_burden.data)\n",
    "    ax.set_title(f\"{exp}\\n\", loc=\"left\", weight=\"bold\")\n",
    "    ax.set_xlabel(\"Time, yr\")\n",
    "    ax.set_ylabel(\"Gg\")\n",
    "    plt.draw()\n",
    "    new_labels = [\n",
    "        int(i.get_text()) - cb.coord(\"year\").points[0] for i in ax.get_xticklabels(which=\"both\")\n",
    "    ]\n",
    "    ax.set_xticklabels(new_labels)\n",
    "    if trop_def == \"chemical\" and S60N60:\n",
    "        ax.set_title(\n",
    "            \"Tropospheric $iPrONO_2$ burden\\n(60\\u00B0S-60\\u00B0N using 125 ppb ozonopause)\",\n",
    "            loc=\"right\",\n",
    "        )\n",
    "        fig.savefig(path_to_figs / f\"{job}_iprono2_burden_chemtrop_60S60N.png\")\n",
    "    if trop_def == \"chemical\" and not S60N60:\n",
    "        ax.set_title(\"Tropospheric $iPrONO_2$ burden\\n(using 125 ppb ozonopause)\", loc=\"right\")\n",
    "        fig.savefig(path_to_figs / f\"{job}_iprono2_burden_chemtrop.png\")"
   ]
  },
  {
   "cell_type": "code",
   "execution_count": null,
   "metadata": {},
   "outputs": [],
   "source": [
    "break"
   ]
  },
  {
   "cell_type": "markdown",
   "metadata": {},
   "source": [
    "#### Plot surface CH4"
   ]
  },
  {
   "cell_type": "code",
   "execution_count": null,
   "metadata": {},
   "outputs": [],
   "source": [
    "import cartopy.crs as ccrs\n",
    "import cartopy.util"
   ]
  },
  {
   "cell_type": "code",
   "execution_count": null,
   "metadata": {},
   "outputs": [],
   "source": [
    "ch4_vmr = ch4 * coeff_ch4\n",
    "ch4_vmr_cyc, lons_cyc = cartopy.util.add_cyclic_point(\n",
    "    ch4_vmr.data, coord=ch4_vmr.coord(\"longitude\").points\n",
    ")"
   ]
  },
  {
   "cell_type": "code",
   "execution_count": null,
   "metadata": {},
   "outputs": [],
   "source": [
    "fig, ax = plt.subplots(\n",
    "    figsize=(10, 10), subplot_kw=dict(projection=ccrs.Robinson(central_longitude=0))\n",
    ")\n",
    "p0 = ax.pcolormesh(\n",
    "    lons_cyc,\n",
    "    ch4_vmr.coord(\"latitude\").points,\n",
    "    ch4_vmr_cyc[12, 0, ...].data,\n",
    "    vmin=ch4_vmr_cyc.min(),\n",
    "    vmax=ch4_vmr_cyc.max(),\n",
    "    transform=ccrs.PlateCarree(),\n",
    ")\n",
    "ax.set_title(\"Surface $CH_4$, Dec\")\n",
    "ax.coastlines()\n",
    "fig.colorbar(p0, shrink=0.4, label=\"\")\n",
    "fig.savefig(\"/local/mwe14avu/Desktop/new/ch4_surf_12.png\", bbox_inches=\"tight\")"
   ]
  },
  {
   "cell_type": "code",
   "execution_count": null,
   "metadata": {},
   "outputs": [],
   "source": [
    "coeff_no2 = (28.97 / 46.006) * 1e9\n",
    "no2_vmr = no2 * coeff_no2\n",
    "no2_vmr_cyc, lons_cyc = cartopy.util.add_cyclic_point(\n",
    "    no2_vmr.data, coord=no2_vmr.coord(\"longitude\").points\n",
    ")"
   ]
  },
  {
   "cell_type": "code",
   "execution_count": null,
   "metadata": {},
   "outputs": [],
   "source": [
    "fig, ax = plt.subplots(\n",
    "    figsize=(10, 10), subplot_kw=dict(projection=ccrs.Robinson(central_longitude=0))\n",
    ")\n",
    "p0 = ax.pcolormesh(\n",
    "    lons_cyc,\n",
    "    no2_vmr.coord(\"latitude\").points,\n",
    "    no2_vmr_cyc[0, 0, ...].data,\n",
    "    transform=ccrs.PlateCarree(),\n",
    ")  # vmin = a_cyc.min(), vmax = a_cyc.max(),\n",
    "ax.set_title(\"Surface something, Dec\")\n",
    "ax.coastlines()\n",
    "fig.colorbar(p0, shrink=0.4, label=\"ppb\")\n",
    "fig.savefig(\"/local/mwe14avu/Desktop/current/smth_surf_dec.png\", bbox_inches=\"tight\")"
   ]
  }
 ],
 "metadata": {
  "@deathbeds/jupyterlab-fonts": {
   "styles": {
    ":root": {
     "--jp-code-font-size": "12px"
    }
   }
  },
  "kernelspec": {
   "display_name": "Python 3",
   "language": "python",
   "name": "python3"
  },
  "language_info": {
   "codemirror_mode": {
    "name": "ipython",
    "version": 3
   },
   "file_extension": ".py",
   "mimetype": "text/x-python",
   "name": "python",
   "nbconvert_exporter": "python",
   "pygments_lexer": "ipython3",
   "version": "3.7.6"
  }
 },
 "nbformat": 4,
 "nbformat_minor": 4
}
