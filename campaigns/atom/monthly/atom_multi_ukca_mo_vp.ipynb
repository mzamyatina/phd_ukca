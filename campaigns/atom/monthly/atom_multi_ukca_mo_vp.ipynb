{
 "cells": [
  {
   "cell_type": "code",
   "execution_count": 1,
   "metadata": {
    "nbpresent": {
     "id": "46246386-fec1-4d42-bf10-698a4054dbda"
    }
   },
   "outputs": [],
   "source": [
    "# Data processing\n",
    "import numpy as np\n",
    "import pandas as pd\n",
    "import xarray as xr\n",
    "import iris\n",
    "import iris.pandas\n",
    "import warnings\n",
    "warnings.filterwarnings('ignore', module='iris')\n",
    "from pathlib import Path\n",
    "import dateutil.parser\n",
    "from datetime import datetime, timedelta\n",
    "# Visualization\n",
    "import cartopy.util\n",
    "import cartopy.crs as ccrs\n",
    "import matplotlib.pyplot as plt\n",
    "import matplotlib.colors as colors\n",
    "from matplotlib.dates import DateFormatter\n",
    "from matplotlib.ticker import FuncFormatter\n",
    "# Plotting parameters\n",
    "plt.rcParams['mathtext.default'] = 'regular'\n",
    "def m2km(x, pos):\n",
    "    '''Convert meters to kilometers when plotting axis labels'''\n",
    "    return int(x*1e-3) #'{:1.1f}'.format(x*1e-3)\n",
    "savefig = False\n",
    "# Species names\n",
    "str_c2h6 = '$C_2H_6$'; str_c3h8 = '$C_3H_8$'\n",
    "str_nc4h10 = '$nC_4H_{10}$'; str_ic4h10 = '$iC_4H_{10}$'\n",
    "str_nc5h12 = '$nC_5H_{12}$'; str_ic5h12 = '$iC_5H_{12}$'\n",
    "str_meono2 = '$MeONO_2$'; str_sbuono2 = '2-$BuONO_2$'\n",
    "str_n2peono2 = '2-$PenONO_2$'; str_n3peono2 = '3-$PenONO_2$'; str_ipeono2 = '3-Methyl-2-$BuONO_2$'"
   ]
  },
  {
   "cell_type": "markdown",
   "metadata": {},
   "source": [
    "#### Read data"
   ]
  },
  {
   "cell_type": "code",
   "execution_count": 2,
   "metadata": {},
   "outputs": [],
   "source": [
    "path_to_atom = Path('../../../../../../obs/ATom/nc/data')\n",
    "# Select flights\n",
    "fname_atom_flight = 'MER-WAS_DC8_201701*.nc'\n",
    "# Read ATom data\n",
    "atom_dsinf = xr.open_mfdataset(sorted(path_to_atom.glob(fname_atom_flight)), decode_times=True)\n",
    "atom_dsmms = xr.open_mfdataset(sorted(path_to_atom.glob(fname_atom_flight)), group='MMS', decode_cf=True)\n",
    "atom_dswas = xr.open_mfdataset(sorted(path_to_atom.glob(fname_atom_flight)), group='WAS', decode_cf=True)"
   ]
  },
  {
   "cell_type": "code",
   "execution_count": 3,
   "metadata": {
    "nbpresent": {
     "id": "5bf220d9-75c8-489e-81fb-58c0a9a4f83d"
    }
   },
   "outputs": [],
   "source": [
    "# Read precalculated UKCA trajectories\n",
    "ukca_run_name = 'az166a'\n",
    "compared_common_id = '170126_170130_1701_merge'\n",
    "path_to_prcd = Path('../../../../processed') / ukca_run_name\n",
    "traj_c2h6 = iris.load_cube(str(path_to_prcd)+f'/{ukca_run_name}_{compared_common_id}_traj_c2h6.nc')\n",
    "traj_c3h8 = iris.load_cube(str(path_to_prcd)+f'/{ukca_run_name}_{compared_common_id}_traj_c3h8.nc')\n",
    "traj_nc4h10 = iris.load_cube(str(path_to_prcd)+f'/{ukca_run_name}_{compared_common_id}_traj_nc4h10.nc')\n",
    "traj_ic4h10 = iris.load_cube(str(path_to_prcd)+f'/{ukca_run_name}_{compared_common_id}_traj_ic4h10.nc')\n",
    "traj_nc5h12 = iris.load_cube(str(path_to_prcd)+f'/{ukca_run_name}_{compared_common_id}_traj_nc5h12.nc')\n",
    "traj_ic5h12 = iris.load_cube(str(path_to_prcd)+f'/{ukca_run_name}_{compared_common_id}_traj_ic5h12.nc')\n",
    "traj_meono2 = iris.load_cube(str(path_to_prcd)+f'/{ukca_run_name}_{compared_common_id}_traj_meono2.nc')\n",
    "traj_sbuono2 = iris.load_cube(str(path_to_prcd)+f'/{ukca_run_name}_{compared_common_id}_traj_sbuono2.nc')\n",
    "traj_n2peono2 = iris.load_cube(str(path_to_prcd)+f'/{ukca_run_name}_{compared_common_id}_traj_n2peono2.nc')\n",
    "traj_n3peono2 = iris.load_cube(str(path_to_prcd)+f'/{ukca_run_name}_{compared_common_id}_traj_n3peono2.nc')\n",
    "traj_ipeono2 = iris.load_cube(str(path_to_prcd)+f'/{ukca_run_name}_{compared_common_id}_traj_ipeono2.nc')\n",
    "# Load UKCA geospatial coordinates\n",
    "ukca_lats = iris.load_cube(str(Path('../../../../data')/'ukca_coords_n96e_marcus_180705.nc'), 'mass_fraction_of_ozone_in_air').coord('latitude')\n",
    "ukca_lons = iris.load_cube(str(Path('../../../../data')/'ukca_coords_n96e_marcus_180705.nc'), 'mass_fraction_of_ozone_in_air').coord('longitude')\n",
    "ukca_alts = iris.load_cube(str(Path('../../../../data')/'ukca_coords_n96e_marcus_180705.nc'), 'mass_fraction_of_ozone_in_air').coord('altitude')"
   ]
  },
  {
   "cell_type": "code",
   "execution_count": 4,
   "metadata": {},
   "outputs": [
    {
     "name": "stdout",
     "output_type": "stream",
     "text": [
      "170126_170130_1701_merge\n"
     ]
    }
   ],
   "source": [
    "# Path to figures\n",
    "path_to_figs = Path('../../../../../../results') / ukca_run_name / compared_common_id\n",
    "path_to_figs.mkdir(exist_ok=True) # create a new folder if it doesn't exist\n",
    "print(compared_common_id)"
   ]
  },
  {
   "cell_type": "code",
   "execution_count": 5,
   "metadata": {},
   "outputs": [],
   "source": [
    "grid_lons, grid_lats = np.meshgrid(ukca_lons.points, ukca_lats.points)\n",
    "sample_lats = atom_dsmms.G_LAT.data \n",
    "sample_lons = atom_dsmms.G_LONG.data+360\n",
    "sample_alts = atom_dsmms.G_ALT.data"
   ]
  },
  {
   "cell_type": "code",
   "execution_count": 6,
   "metadata": {},
   "outputs": [],
   "source": [
    "# Convert ATom C2H6, C2H4, C2H2, C3H8, C3H6 to pptvC to match UKCA lumped species, namely C2H6=C2H6+C2H4+C2H2, C3H8=C3H8+C3H6\n",
    "atom_dswas_c2h6 = atom_dswas['Ethane_WAS']*2 + atom_dswas['Ethene_WAS']*2 + atom_dswas['Ethyne_WAS']*2\n",
    "atom_dswas_c3h8 = atom_dswas['Propane_WAS']*3 + atom_dswas['Propene_WAS']*3\n",
    "# Select model data where obs are present\n",
    "traj_c2h6_ifobsexist = np.where(~np.isnan(atom_dswas_c2h6), traj_c2h6.data, atom_dswas_c2h6).squeeze()\n",
    "traj_c3h8_ifobsexist = np.where(~np.isnan(atom_dswas_c3h8), traj_c3h8.data, atom_dswas_c3h8).squeeze()\n",
    "traj_nc4h10_ifobsexist = np.where(~np.isnan(atom_dswas['n-Butane_WAS']), traj_nc4h10.data, atom_dswas['n-Butane_WAS']).squeeze()\n",
    "traj_ic4h10_ifobsexist = np.where(~np.isnan(atom_dswas['i-Butane_WAS']), traj_ic4h10.data, atom_dswas['i-Butane_WAS']).squeeze()\n",
    "traj_nc5h12_ifobsexist = np.where(~np.isnan(atom_dswas['n-Pentane_WAS']), traj_nc5h12.data, atom_dswas['n-Pentane_WAS']).squeeze()\n",
    "traj_ic5h12_ifobsexist = np.where(~np.isnan(atom_dswas['i-Pentane_WAS']), traj_ic5h12.data, atom_dswas['i-Pentane_WAS']).squeeze()\n",
    "traj_meono2_ifobsexist = np.where(~np.isnan(atom_dswas['MeONO2_WAS']), traj_meono2.data, atom_dswas['MeONO2_WAS']).squeeze()\n",
    "traj_sbuono2_ifobsexist = np.where(~np.isnan(atom_dswas['2-BuONO2_WAS']), traj_sbuono2.data, atom_dswas['2-BuONO2_WAS']).squeeze()\n",
    "traj_n2peono2_ifobsexist = np.where(~np.isnan(atom_dswas['2-PenONO2_WAS']), traj_n2peono2.data, atom_dswas['2-PenONO2_WAS']).squeeze()\n",
    "traj_n3peono2_ifobsexist = np.where(~np.isnan(atom_dswas['3-PenONO2_WAS']), traj_n3peono2.data, atom_dswas['3-PenONO2_WAS']).squeeze()\n",
    "traj_ipeono2_ifobsexist = np.where(~np.isnan(atom_dswas['3-Methyl-2-BuONO2_WAS']), traj_ipeono2.data, atom_dswas['3-Methyl-2-BuONO2_WAS']).squeeze()"
   ]
  },
  {
   "cell_type": "code",
   "execution_count": 7,
   "metadata": {},
   "outputs": [],
   "source": [
    "# Convert xarray dataset with observational data to pandas dataframe\n",
    "atom_c2h6 = atom_dswas_c2h6.to_dataframe(name='Lumped_C2H6_C2H4_C2H2')\n",
    "atom_c3h8 = atom_dswas_c3h8.to_dataframe(name='Lumped_C3H8_C3H6')\n",
    "atom_nc4h10 = atom_dswas['n-Butane_WAS'].to_dataframe()\n",
    "atom_ic4h10 = atom_dswas['i-Butane_WAS'].to_dataframe()\n",
    "atom_nc5h12 = atom_dswas['n-Pentane_WAS'].to_dataframe()\n",
    "atom_ic5h12 = atom_dswas['i-Pentane_WAS'].to_dataframe()\n",
    "atom_meono2 = atom_dswas['MeONO2_WAS'].to_dataframe()\n",
    "atom_sbuono2 = atom_dswas['2-BuONO2_WAS'].to_dataframe()\n",
    "atom_n2peono2 = atom_dswas['2-PenONO2_WAS'].to_dataframe()\n",
    "atom_n3peono2 = atom_dswas['3-PenONO2_WAS'].to_dataframe()\n",
    "atom_ipeono2 = atom_dswas['3-Methyl-2-BuONO2_WAS'].to_dataframe()"
   ]
  },
  {
   "cell_type": "code",
   "execution_count": 8,
   "metadata": {},
   "outputs": [],
   "source": [
    "lons_meono2_notnan = np.where(atom_meono2['MeONO2_WAS'].isna()==False, sample_lons, atom_meono2['MeONO2_WAS'])\n",
    "lats_meono2_notnan = np.where(atom_meono2['MeONO2_WAS'].isna()==False, sample_lats, atom_meono2['MeONO2_WAS'])"
   ]
  },
  {
   "cell_type": "code",
   "execution_count": 9,
   "metadata": {},
   "outputs": [],
   "source": [
    "from shapely.geometry import Point, Polygon"
   ]
  },
  {
   "cell_type": "code",
   "execution_count": 16,
   "metadata": {},
   "outputs": [],
   "source": [
    "# Define geographical region\n",
    "corners = [(-160+360, 60), (-160+360, 75), (-145+360, 75), (-145+360, 60)]\n",
    "region = Polygon(corners)"
   ]
  },
  {
   "cell_type": "code",
   "execution_count": 25,
   "metadata": {},
   "outputs": [],
   "source": [
    "# Construct pairs of coordinate points\n",
    "lons_lats = []\n",
    "lons_lats_arr = []\n",
    "for i, j in zip(lons_meono2_notnan, lats_meono2_notnan):\n",
    "    lons_lats.append(Point(i, j))\n",
    "    lons_lats_arr.append((i, j))"
   ]
  },
  {
   "cell_type": "code",
   "execution_count": 22,
   "metadata": {},
   "outputs": [],
   "source": [
    "# Find points within the region\n",
    "points_within = []\n",
    "for p in lons_lats:\n",
    "    points_within.append(p.within(region))"
   ]
  },
  {
   "cell_type": "code",
   "execution_count": 27,
   "metadata": {},
   "outputs": [
    {
     "data": {
      "text/plain": [
       "273"
      ]
     },
     "execution_count": 27,
     "metadata": {},
     "output_type": "execute_result"
    }
   ],
   "source": [
    "len(points_within)"
   ]
  },
  {
   "cell_type": "code",
   "execution_count": 28,
   "metadata": {},
   "outputs": [
    {
     "data": {
      "text/plain": [
       "(273,)"
      ]
     },
     "execution_count": 28,
     "metadata": {},
     "output_type": "execute_result"
    }
   ],
   "source": [
    "lats_meono2_notnan.shape"
   ]
  },
  {
   "cell_type": "code",
   "execution_count": 29,
   "metadata": {},
   "outputs": [
    {
     "data": {
      "text/plain": [
       "array([60.33771506, 60.99728171, 62.25365771, 63.45632663, 64.49820165,\n",
       "       65.55266602, 66.62245971, 67.6358683 , 68.070925  , 68.50417282,\n",
       "       68.85023085, 69.16533838, 69.49689894, 69.70570773, 69.90719711,\n",
       "       70.18273622, 70.22881955, 70.20766952, 70.18993   , 70.17428341,\n",
       "       70.26837791, 70.43590159, 70.69192925, 70.91101783, 70.97870047,\n",
       "       71.03945757, 71.09865323, 71.15501897, 71.23260756, 71.264715  ,\n",
       "       71.28471417, 71.27137758, 71.28532868, 71.28493971, 71.28420857,\n",
       "       69.47642368, 67.13029711, 64.52694446, 61.82665517, 61.6757775 ,\n",
       "       61.545766  , 61.41482359])"
      ]
     },
     "execution_count": 29,
     "metadata": {},
     "output_type": "execute_result"
    }
   ],
   "source": [
    "lats_meono2_notnan[points_within]"
   ]
  },
  {
   "cell_type": "markdown",
   "metadata": {},
   "source": [
    "### without shapely"
   ]
  },
  {
   "cell_type": "code",
   "execution_count": 31,
   "metadata": {},
   "outputs": [
    {
     "data": {
      "text/plain": [
       "[(200, 60), (200, 75), (215, 75), (215, 60)]"
      ]
     },
     "execution_count": 31,
     "metadata": {},
     "output_type": "execute_result"
    }
   ],
   "source": [
    "corners"
   ]
  },
  {
   "cell_type": "code",
   "execution_count": 32,
   "metadata": {},
   "outputs": [],
   "source": [
    "idx_within = ((lats_meono2_notnan <= 75)\n",
    "              & (lats_meono2_notnan >= 60)\n",
    "              & (lons_meono2_notnan >= 200)\n",
    "              & (lons_meono2_notnan <= 215))"
   ]
  },
  {
   "cell_type": "code",
   "execution_count": 35,
   "metadata": {},
   "outputs": [
    {
     "data": {
      "text/plain": [
       "array([60.33771506, 60.99728171, 62.25365771, 63.45632663, 64.49820165,\n",
       "       65.55266602, 66.62245971, 67.6358683 , 68.070925  , 68.50417282,\n",
       "       68.85023085, 69.16533838, 69.49689894, 69.70570773, 69.90719711,\n",
       "       70.18273622, 70.22881955, 70.20766952, 70.18993   , 70.17428341,\n",
       "       70.26837791, 70.43590159, 70.69192925, 70.91101783, 70.97870047,\n",
       "       71.03945757, 71.09865323, 71.15501897, 71.23260756, 71.264715  ,\n",
       "       71.28471417, 71.27137758, 71.28532868, 71.28493971, 71.28420857,\n",
       "       69.47642368, 67.13029711, 64.52694446, 61.82665517, 61.6757775 ,\n",
       "       61.545766  , 61.41482359])"
      ]
     },
     "execution_count": 35,
     "metadata": {},
     "output_type": "execute_result"
    }
   ],
   "source": [
    "lats_meono2_notnan[idx_within]"
   ]
  },
  {
   "cell_type": "code",
   "execution_count": null,
   "metadata": {},
   "outputs": [],
   "source": []
  },
  {
   "cell_type": "code",
   "execution_count": null,
   "metadata": {},
   "outputs": [],
   "source": []
  },
  {
   "cell_type": "code",
   "execution_count": null,
   "metadata": {},
   "outputs": [],
   "source": []
  },
  {
   "cell_type": "code",
   "execution_count": null,
   "metadata": {},
   "outputs": [],
   "source": []
  },
  {
   "cell_type": "code",
   "execution_count": null,
   "metadata": {},
   "outputs": [],
   "source": [
    "from cartopy.mpl.ticker import LongitudeFormatter, LatitudeFormatter"
   ]
  },
  {
   "cell_type": "code",
   "execution_count": null,
   "metadata": {},
   "outputs": [],
   "source": [
    "arr1 = np.where((-160+360 < lons_meono2_notnan) & (lons_meono2_notnan < -145+360))\n",
    "arr1[0].shape"
   ]
  },
  {
   "cell_type": "code",
   "execution_count": null,
   "metadata": {},
   "outputs": [],
   "source": [
    "arr2 = np.where((60 < lats_meono2_notnan) & (lats_meono2_notnan < 75))\n",
    "arr2[0].shape"
   ]
  },
  {
   "cell_type": "code",
   "execution_count": null,
   "metadata": {},
   "outputs": [],
   "source": [
    "np.where((arr1) & (arr2))"
   ]
  },
  {
   "cell_type": "code",
   "execution_count": null,
   "metadata": {},
   "outputs": [],
   "source": [
    "# Plot sampling locations and model surface concentration (hybrid height level 0)\n",
    "fig, ax = plt.subplots(figsize=(10,10), subplot_kw=dict(projection=ccrs.PlateCarree()), facecolor='w')\n",
    "ax.scatter(lons_meono2_notnan, lats_meono2_notnan, transform=ccrs.PlateCarree())\n",
    "ax.coastlines()\n",
    "ax.gridlines(draw_labels=True)\n",
    "ax.plot(grid_lons, grid_lats, color='b', alpha=0.7, transform=ccrs.PlateCarree());\n",
    "ax.plot(grid_lons.T, grid_lats.T, color='b', alpha=0.7, transform=ccrs.PlateCarree());\n",
    "ax.set_extent([-160, -145, 60, 75], crs=ccrs.PlateCarree())\n",
    "# ax.set_extent([-160, -115, -2, 75], crs=ccrs.PlateCarree()) # both Jan flights"
   ]
  },
  {
   "cell_type": "code",
   "execution_count": null,
   "metadata": {},
   "outputs": [],
   "source": []
  },
  {
   "cell_type": "code",
   "execution_count": null,
   "metadata": {},
   "outputs": [],
   "source": []
  },
  {
   "cell_type": "markdown",
   "metadata": {},
   "source": [
    "#### Time series of concentrations along flight track"
   ]
  },
  {
   "cell_type": "code",
   "execution_count": null,
   "metadata": {},
   "outputs": [],
   "source": [
    "# Extract datetimes from ATom data\n",
    "atom_datetime = atom_dsinf.time.values.astype('<M8[us]').astype(datetime)\n",
    "atom_date_strt = atom_datetime[0]\n",
    "atom_date_stop = atom_datetime[-1]\n",
    "# Time series and cross section plotting parameters\n",
    "if compared_common_id == '160801_160823_1608_merge':\n",
    "    flght_separators = [147, 276, 427, 572, 735, 894, 1055, 1212, 1329] # manually select indices of flight start times in a merge\n",
    "    slct_time_inds = np.arange(0, atom_dsinf.time.shape[0], 250) # manually choose frequency of datetimes for xticklabels\n",
    "elif compared_common_id == '170126_170130_1701_merge':\n",
    "    flght_separators = [141]\n",
    "    slct_time_inds = np.arange(0, atom_dsinf.time.shape[0], 48)\n",
    "elif compared_common_id == '170201_170221_1702_merge':\n",
    "    flght_separators = [165, 324, 477, 633, 776, 928, 1077, 1236] \n",
    "    slct_time_inds = np.arange(0, atom_dsinf.time.shape[0], 250)\n",
    "slct_time_lbls = [i.strftime('%H:%M\\n%d-%m-%Y') for i in atom_dsinf.time.values[slct_time_inds].astype('<M8[us]').astype(datetime)]\n",
    "print(slct_time_inds, atom_dsinf.time.shape)"
   ]
  },
  {
   "cell_type": "code",
   "execution_count": null,
   "metadata": {},
   "outputs": [],
   "source": [
    "# Time series plotting parameters\n",
    "def plot_ts(atom, ukca, species, ppn, picname):\n",
    "    '''Plot observed and modelled species time series along a flight track (flight altitude is on the secondary y axis).'''\n",
    "    fig, ax = plt.subplots(figsize=(12,4), facecolor='w')\n",
    "    ax.plot(atom, color='k')\n",
    "    ax.plot(ukca, color='r')\n",
    "    ax2 = ax.twinx()\n",
    "    ax2.plot(atom_dsmms.G_ALT, color='grey', linestyle='--', alpha=0.5)\n",
    "    # common\n",
    "    ax.set_title(species)\n",
    "    ax.set_xlabel('Time, hours (UTC)')\n",
    "    ax.set_ylabel(ppn)\n",
    "    ax.set_xticks(slct_time_inds)\n",
    "    ax.set_xticklabels(slct_time_lbls)\n",
    "    ax.margins(x=0)\n",
    "    ax.legend(['ATom', f'UKCA {ukca_run_name} montly mean'], frameon=False)\n",
    "    ax2.yaxis.set_major_formatter(FuncFormatter(m2km))\n",
    "    ax2.set_ylabel('Altitude, km', color='grey')\n",
    "    ax2.tick_params('y', colors='grey')\n",
    "    for x in flght_separators: ax.axvline(x=x, ymin=0, ymax=1500, color='grey', linestyle='--', linewidth=1)\n",
    "    if savefig: fig.savefig(path_to_figs / f'{ukca_run_name}_{compared_common_id}_{picname}.png', bbox_inches='tight')"
   ]
  },
  {
   "cell_type": "code",
   "execution_count": null,
   "metadata": {},
   "outputs": [],
   "source": [
    "plot_ts(atom_dswas_c2h6, traj_c2h6_ifobsexist*2, str_c2h6, 'pptvC', 'ts_RH_C2')"
   ]
  },
  {
   "cell_type": "code",
   "execution_count": null,
   "metadata": {},
   "outputs": [],
   "source": [
    "plot_ts(atom_dswas_c3h8, traj_c3h8_ifobsexist*3, str_c3h8, 'pptvC', 'ts_RH_C3')"
   ]
  },
  {
   "cell_type": "code",
   "execution_count": null,
   "metadata": {},
   "outputs": [],
   "source": [
    "plot_ts(atom_dswas['n-Butane_WAS'], traj_nc4h10_ifobsexist, str_nc4h10, 'pptv', 'ts_RH_C4n')"
   ]
  },
  {
   "cell_type": "code",
   "execution_count": null,
   "metadata": {},
   "outputs": [],
   "source": [
    "plot_ts(atom_dswas['i-Butane_WAS'], traj_ic4h10_ifobsexist, str_ic4h10, 'pptv', 'ts_RH_C4i')"
   ]
  },
  {
   "cell_type": "code",
   "execution_count": null,
   "metadata": {},
   "outputs": [],
   "source": [
    "plot_ts(atom_dswas['n-Pentane_WAS'], traj_nc5h12_ifobsexist, str_nc5h12, 'pptv', 'ts_RH_C5n')"
   ]
  },
  {
   "cell_type": "code",
   "execution_count": null,
   "metadata": {},
   "outputs": [],
   "source": [
    "plot_ts(atom_dswas['i-Pentane_WAS'], traj_ic5h12_ifobsexist, str_ic5h12, 'pptv', 'ts_RH_C5i')"
   ]
  },
  {
   "cell_type": "code",
   "execution_count": null,
   "metadata": {},
   "outputs": [],
   "source": [
    "plot_ts(atom_dswas['MeONO2_WAS'], traj_meono2_ifobsexist, str_meono2, 'pptv', 'ts_RONO2_C1')"
   ]
  },
  {
   "cell_type": "code",
   "execution_count": null,
   "metadata": {},
   "outputs": [],
   "source": [
    "plot_ts(atom_dswas['2-BuONO2_WAS'], traj_sbuono2_ifobsexist, str_sbuono2, 'pptv', 'ts_RONO2_C4s')"
   ]
  },
  {
   "cell_type": "code",
   "execution_count": null,
   "metadata": {},
   "outputs": [],
   "source": [
    "plot_ts(atom_dswas['2-PenONO2_WAS'], traj_n2peono2_ifobsexist, str_n2peono2, 'pptv', 'ts_RONO2_C5n2')"
   ]
  },
  {
   "cell_type": "code",
   "execution_count": null,
   "metadata": {},
   "outputs": [],
   "source": [
    "plot_ts(atom_dswas['3-PenONO2_WAS'], traj_n3peono2_ifobsexist, str_n3peono2, 'pptv', 'ts_RONO2_C5n3')"
   ]
  },
  {
   "cell_type": "code",
   "execution_count": null,
   "metadata": {},
   "outputs": [],
   "source": [
    "plot_ts(atom_dswas['3-Methyl-2-BuONO2_WAS'], traj_ipeono2_ifobsexist, str_ipeono2, 'pptv', 'ts_RONO2_C5i')"
   ]
  },
  {
   "cell_type": "markdown",
   "metadata": {},
   "source": [
    "#### Cross section along flight track"
   ]
  },
  {
   "cell_type": "code",
   "execution_count": null,
   "metadata": {},
   "outputs": [],
   "source": [
    "# Read precalculated UKCA 2D trajectories\n",
    "crsc_c2h6 = iris.load_cube(str(path_to_prcd)+f'/{ukca_run_name}_{compared_common_id}_crsc_c2h6.nc')\n",
    "crsc_c3h8 = iris.load_cube(str(path_to_prcd)+f'/{ukca_run_name}_{compared_common_id}_crsc_c3h8.nc')\n",
    "crsc_nc4h10 = iris.load_cube(str(path_to_prcd)+f'/{ukca_run_name}_{compared_common_id}_crsc_nc4h10.nc')\n",
    "crsc_ic4h10 = iris.load_cube(str(path_to_prcd)+f'/{ukca_run_name}_{compared_common_id}_crsc_ic4h10.nc')\n",
    "crsc_nc5h12 = iris.load_cube(str(path_to_prcd)+f'/{ukca_run_name}_{compared_common_id}_crsc_nc5h12.nc')\n",
    "crsc_ic5h12 = iris.load_cube(str(path_to_prcd)+f'/{ukca_run_name}_{compared_common_id}_crsc_ic5h12.nc')\n",
    "crsc_meono2 = iris.load_cube(str(path_to_prcd)+f'/{ukca_run_name}_{compared_common_id}_crsc_meono2.nc')\n",
    "crsc_sbuono2 = iris.load_cube(str(path_to_prcd)+f'/{ukca_run_name}_{compared_common_id}_crsc_sbuono2.nc')\n",
    "crsc_n2peono2 = iris.load_cube(str(path_to_prcd)+f'/{ukca_run_name}_{compared_common_id}_crsc_n2peono2.nc')\n",
    "crsc_n3peono2 = iris.load_cube(str(path_to_prcd)+f'/{ukca_run_name}_{compared_common_id}_crsc_n3peono2.nc')\n",
    "crsc_ipeono2 = iris.load_cube(str(path_to_prcd)+f'/{ukca_run_name}_{compared_common_id}_crsc_ipeono2.nc')"
   ]
  },
  {
   "cell_type": "code",
   "execution_count": null,
   "metadata": {},
   "outputs": [],
   "source": [
    "# Convert xarray dataset with observational data to pandas dataframe\n",
    "atom_c2h6 = atom_dswas_c2h6.to_dataframe(name='Lumped_C2H6_C2H4_C2H2')\n",
    "atom_c3h8 = atom_dswas_c3h8.to_dataframe(name='Lumped_C3H8_C3H6')\n",
    "atom_nc4h10 = atom_dswas['n-Butane_WAS'].to_dataframe()\n",
    "atom_ic4h10 = atom_dswas['i-Butane_WAS'].to_dataframe()\n",
    "atom_nc5h12 = atom_dswas['n-Pentane_WAS'].to_dataframe()\n",
    "atom_ic5h12 = atom_dswas['i-Pentane_WAS'].to_dataframe()\n",
    "atom_meono2 = atom_dswas['MeONO2_WAS'].to_dataframe()\n",
    "atom_sbuono2 = atom_dswas['2-BuONO2_WAS'].to_dataframe()\n",
    "atom_n2peono2 = atom_dswas['2-PenONO2_WAS'].to_dataframe()\n",
    "atom_n3peono2 = atom_dswas['3-PenONO2_WAS'].to_dataframe()\n",
    "atom_ipeono2 = atom_dswas['3-Methyl-2-BuONO2_WAS'].to_dataframe()"
   ]
  },
  {
   "cell_type": "code",
   "execution_count": null,
   "metadata": {},
   "outputs": [],
   "source": [
    "# Find max between maxima and max between minima in ATom and model cross section data for plotting a cross section with two colormaps\n",
    "cs_c2h6_max = max(np.nanmax(atom_c2h6.values), np.nanmax(crsc_c2h6.data*2))\n",
    "cs_c3h8_max = max(np.nanmax(atom_c3h8.values), np.nanmax(crsc_c3h8.data*3))\n",
    "cs_nc4h10_max = max(np.nanmax(atom_nc4h10.values), np.nanmax(crsc_nc4h10.data))\n",
    "cs_ic4h10_max = max(np.nanmax(atom_ic4h10.values), np.nanmax(crsc_ic4h10.data))\n",
    "cs_nc5h12_max = max(np.nanmax(atom_nc5h12.values), np.nanmax(crsc_nc5h12.data))\n",
    "cs_ic5h12_max = max(np.nanmax(atom_ic5h12.values), np.nanmax(crsc_ic5h12.data))\n",
    "cs_meono2_max = max(np.nanmax(atom_meono2.values), np.nanmax(crsc_meono2.data))\n",
    "cs_sbuono2_max = max(np.nanmax(atom_sbuono2.values), np.nanmax(crsc_sbuono2.data))\n",
    "cs_n2peono2_max = max(np.nanmax(atom_n2peono2.values), np.nanmax(crsc_n2peono2.data))\n",
    "cs_n3peono2_max = max(np.nanmax(atom_n3peono2.values), np.nanmax(crsc_n3peono2.data))\n",
    "cs_ipeono2_max = max(np.nanmax(atom_ipeono2.values), np.nanmax(crsc_ipeono2.data))\n",
    "\n",
    "cs_c2h6_min = min(np.nanmax(atom_c2h6.values), np.nanmax(crsc_c2h6.data*2))\n",
    "cs_c3h8_min = min(np.nanmax(atom_c3h8.values), np.nanmax(crsc_c3h8.data*3))\n",
    "cs_nc4h10_min = min(np.nanmax(atom_nc4h10.values), np.nanmax(crsc_nc4h10.data))\n",
    "cs_ic4h10_min = min(np.nanmax(atom_ic4h10.values), np.nanmax(crsc_ic4h10.data))\n",
    "cs_nc5h12_min = min(np.nanmax(atom_nc5h12.values), np.nanmax(crsc_nc5h12.data))\n",
    "cs_ic5h12_min = min(np.nanmax(atom_ic5h12.values), np.nanmax(crsc_ic5h12.data))\n",
    "cs_meono2_min = min(np.nanmax(atom_meono2.values), np.nanmax(crsc_meono2.data))\n",
    "cs_sbuono2_min = min(np.nanmax(atom_sbuono2.values), np.nanmax(crsc_sbuono2.data))\n",
    "cs_n2peono2_min = min(np.nanmax(atom_n2peono2.values), np.nanmax(crsc_n2peono2.data))\n",
    "cs_n3peono2_min = min(np.nanmax(atom_n3peono2.values), np.nanmax(crsc_n3peono2.data))\n",
    "cs_ipeono2_min = min(np.nanmax(atom_ipeono2.values), np.nanmax(crsc_ipeono2.data))"
   ]
  },
  {
   "cell_type": "code",
   "execution_count": null,
   "metadata": {},
   "outputs": [],
   "source": [
    "# Cross section plotting parameters\n",
    "mrgd_time_inds = np.arange(0,atom_dsinf.time.values.shape[0],1) # merged time indices\n",
    "# Merge two colormaps: color concentrations present in obs and model using one colormap and obs higher than model using another colormap\n",
    "class MidpointNormalize(colors.Normalize):\n",
    "    def __init__(self, vmin=None, vmax=None, midpoint=None, clip=False):\n",
    "        self.midpoint = midpoint\n",
    "        colors.Normalize.__init__(self, vmin, vmax, clip)\n",
    "    def __call__(self, value, clip=None):\n",
    "        x, y = [self.vmin, self.midpoint, self.vmax], [0, 0.5, 1]\n",
    "        return np.ma.masked_array(np.interp(value, x, y))\n",
    "colors_low = plt.cm.Blues(np.linspace(0,1,128))\n",
    "colors_high = plt.cm.autumn_r(np.linspace(0,1,128))\n",
    "colors_stack = np.vstack((colors_low, colors_high))\n",
    "mrgd_cmap = colors.LinearSegmentedColormap.from_list('merged_cmap', colors_stack)\n",
    "cs_pc_kwargs = dict(cmap=mrgd_cmap, vmin=0) # model data pcolormesh options\n",
    "cs_sc_kwargs = dict(cmap=mrgd_cmap, vmin=0, edgecolors='k', linewidth=0.2) # obs data scatter options\n",
    "def plot_cs(atom, ukca, species, ppn, picname, cs_min, cs_max):\n",
    "    '''Plot a cross section along a flight track, modelled data as background and observed data as dots.'''\n",
    "    fig, ax = plt.subplots(figsize=(14,5), facecolor='w')\n",
    "    p0 = ax.pcolormesh(mrgd_time_inds, crsc_c2h6.coord('altitude').points, ukca, norm=MidpointNormalize(midpoint=cs_min), vmax=cs_max, **cs_pc_kwargs)\n",
    "    ax.scatter(mrgd_time_inds, atom_dsmms.G_ALT, c=atom.squeeze(), norm=MidpointNormalize(midpoint=cs_min), vmax=cs_max, **cs_sc_kwargs)\n",
    "    fig.colorbar(p0, label=ppn)\n",
    "    # common\n",
    "    ax.set_title(species, loc='center')\n",
    "    ax.set_title(f'ATom vs UKCA {ukca_run_name} montly mean', loc='right')\n",
    "    ax.set_xlabel('Time, hours (UTC)')\n",
    "    ax.set_ylabel('Altitude, km')\n",
    "    ax.set_ylim(0,13500)\n",
    "    ax.set_xticks(slct_time_inds)\n",
    "    ax.set_xticklabels(slct_time_lbls)\n",
    "    ax.yaxis.set_major_formatter(FuncFormatter(m2km))\n",
    "    ax.margins(x=0)\n",
    "    for x in flght_separators: ax.axvline(x=x, ymin=0, ymax=13500, color='grey', linestyle='--', linewidth=1)\n",
    "    if savefig: fig.savefig(path_to_figs / f'{ukca_run_name}_{compared_common_id}_{picname}.png', bbox_inches='tight')"
   ]
  },
  {
   "cell_type": "code",
   "execution_count": null,
   "metadata": {},
   "outputs": [],
   "source": [
    "plot_cs(atom_c2h6, crsc_c2h6.data*2, str_c2h6, 'pptvC', 'cs_RH_C2', cs_c2h6_min, cs_c2h6_max)"
   ]
  },
  {
   "cell_type": "code",
   "execution_count": null,
   "metadata": {},
   "outputs": [],
   "source": [
    "plot_cs(atom_c3h8, crsc_c3h8.data*3, str_c3h8, 'pptvC', 'cs_RH_C3', cs_c3h8_min, cs_c3h8_max)"
   ]
  },
  {
   "cell_type": "code",
   "execution_count": null,
   "metadata": {},
   "outputs": [],
   "source": [
    "plot_cs(atom_nc4h10, crsc_nc4h10.data, str_nc4h10, 'pptv', 'cs_RH_C4n', cs_nc4h10_min, cs_nc4h10_max)"
   ]
  },
  {
   "cell_type": "code",
   "execution_count": null,
   "metadata": {},
   "outputs": [],
   "source": [
    "plot_cs(atom_ic4h10, crsc_ic4h10.data, str_ic4h10, 'pptv', 'cs_RH_C4i', cs_ic4h10_min, cs_ic4h10_max)"
   ]
  },
  {
   "cell_type": "code",
   "execution_count": null,
   "metadata": {},
   "outputs": [],
   "source": [
    "plot_cs(atom_nc5h12, crsc_nc5h12.data, str_nc5h12, 'pptv', 'cs_RH_C5n', cs_nc5h12_min, cs_nc5h12_max)"
   ]
  },
  {
   "cell_type": "code",
   "execution_count": null,
   "metadata": {},
   "outputs": [],
   "source": [
    "plot_cs(atom_ic5h12, crsc_ic5h12.data, str_ic5h12, 'pptv', 'cs_RH_C5i', cs_ic5h12_min, cs_ic5h12_max)"
   ]
  },
  {
   "cell_type": "code",
   "execution_count": null,
   "metadata": {},
   "outputs": [],
   "source": [
    "plot_cs(atom_meono2, crsc_meono2.data, str_meono2, 'pptv', 'cs_RONO2_C1', cs_meono2_min, cs_meono2_max)"
   ]
  },
  {
   "cell_type": "code",
   "execution_count": null,
   "metadata": {},
   "outputs": [],
   "source": [
    "plot_cs(atom_sbuono2, crsc_sbuono2.data, str_sbuono2, 'pptv', 'cs_RONO2_C4s', cs_sbuono2_min, cs_sbuono2_max)"
   ]
  },
  {
   "cell_type": "code",
   "execution_count": null,
   "metadata": {},
   "outputs": [],
   "source": [
    "plot_cs(atom_n2peono2, crsc_n2peono2.data, str_n2peono2, 'pptv', 'cs_RONO2_C5n2', cs_n2peono2_min, cs_n2peono2_max)"
   ]
  },
  {
   "cell_type": "code",
   "execution_count": null,
   "metadata": {},
   "outputs": [],
   "source": [
    "plot_cs(atom_n3peono2, crsc_n3peono2.data, str_n3peono2, 'pptv', 'cs_RONO2_C5n3', cs_n3peono2_min, cs_n3peono2_max)"
   ]
  },
  {
   "cell_type": "code",
   "execution_count": null,
   "metadata": {},
   "outputs": [],
   "source": [
    "plot_cs(atom_ipeono2, crsc_ipeono2.data, str_ipeono2, 'pptv', 'cs_RONO2_C5i', cs_ipeono2_min, cs_ipeono2_max)"
   ]
  },
  {
   "cell_type": "markdown",
   "metadata": {},
   "source": [
    "#### Scatter plot data along flight track"
   ]
  },
  {
   "cell_type": "code",
   "execution_count": null,
   "metadata": {},
   "outputs": [],
   "source": [
    "# Find max concentration between observational and model trajectory data\n",
    "sct_max_c2h6 = max(np.nanmax(atom_c2h6.values), np.nanmax(traj_c2h6.data*2))\n",
    "sct_max_c3h8 = max(np.nanmax(atom_c3h8.values), np.nanmax(traj_c3h8.data*3))\n",
    "sct_max_nc4h10 = max(np.nanmax(atom_nc4h10.values), np.nanmax(traj_nc4h10.data))\n",
    "sct_max_ic4h10 = max(np.nanmax(atom_ic4h10.values), np.nanmax(traj_ic4h10.data))\n",
    "sct_max_nc5h12 = max(np.nanmax(atom_nc5h12.values), np.nanmax(traj_nc5h12.data))\n",
    "sct_max_ic5h12 = max(np.nanmax(atom_ic5h12.values), np.nanmax(traj_ic5h12.data))\n",
    "sct_max_meono2 = max(np.nanmax(atom_meono2.values), np.nanmax(traj_meono2.data))\n",
    "sct_max_sbuono2 = max(np.nanmax(atom_sbuono2.values), np.nanmax(traj_sbuono2.data))\n",
    "sct_max_n2peono2 = max(np.nanmax(atom_n2peono2.values), np.nanmax(traj_n2peono2.data))\n",
    "sct_max_n3peono2 = max(np.nanmax(atom_n3peono2.values), np.nanmax(traj_n3peono2.data))\n",
    "sct_max_ipeono2 = max(np.nanmax(atom_ipeono2.values), np.nanmax(traj_ipeono2.data))"
   ]
  },
  {
   "cell_type": "code",
   "execution_count": null,
   "metadata": {},
   "outputs": [],
   "source": [
    "def plot_one2one(atom, ukca, species, ppn, picname, sct_max):\n",
    "    '''Plot all flight track data as a scatter plot.'''\n",
    "    fig, ax = plt.subplots(figsize=(6,5), facecolor='w')\n",
    "    p0 = ax.scatter(atom, ukca, c=atom_dsmms.G_ALT)\n",
    "    ax.plot([0, sct_max], [0, sct_max], color='k', linestyle='--') # 'one-to-one' line\n",
    "    ax.set_title(f'{species}, {ppn}', loc='right')\n",
    "    ax.set_title(f'{atom_date_strt.strftime(\"%-d\")}-{atom_date_stop.strftime(\"%-d %b %Y\")}', loc='left')\n",
    "    ax.set_xlabel('ATom')\n",
    "    ax.set_ylabel(f'UKCA {ukca_run_name} montly mean')\n",
    "    ax.set_xlim(0, sct_max)\n",
    "    ax.set_ylim(0, sct_max)\n",
    "    fig.colorbar(p0, label='Altitude, km', format=FuncFormatter(m2km))\n",
    "    if savefig: fig.savefig(path_to_figs / f'{ukca_run_name}_{compared_common_id}_{picname}.png', bbox_inches='tight')"
   ]
  },
  {
   "cell_type": "code",
   "execution_count": null,
   "metadata": {},
   "outputs": [],
   "source": [
    "plot_one2one(atom_c2h6, traj_c2h6.data*2, str_c2h6, 'pptvC', '1to1_RH_C2', sct_max_c2h6)"
   ]
  },
  {
   "cell_type": "code",
   "execution_count": null,
   "metadata": {},
   "outputs": [],
   "source": [
    "plot_one2one(atom_c3h8, traj_c3h8.data*3, str_c3h8, 'pptvC', '1to1_RH_C3', sct_max_c3h8)"
   ]
  },
  {
   "cell_type": "code",
   "execution_count": null,
   "metadata": {},
   "outputs": [],
   "source": [
    "plot_one2one(atom_nc4h10, traj_nc4h10.data, str_nc4h10, 'pptv', '1to1_RH_C4n', sct_max_nc4h10)"
   ]
  },
  {
   "cell_type": "code",
   "execution_count": null,
   "metadata": {},
   "outputs": [],
   "source": [
    "plot_one2one(atom_ic4h10, traj_ic4h10.data, str_ic4h10, 'pptv', '1to1_RH_C4i', sct_max_ic4h10)"
   ]
  },
  {
   "cell_type": "code",
   "execution_count": null,
   "metadata": {},
   "outputs": [],
   "source": [
    "plot_one2one(atom_nc5h12, traj_nc5h12.data, str_nc5h12, 'pptv', '1to1_RH_C5n', sct_max_nc5h12)"
   ]
  },
  {
   "cell_type": "code",
   "execution_count": null,
   "metadata": {},
   "outputs": [],
   "source": [
    "plot_one2one(atom_ic5h12, traj_ic5h12.data, str_ic5h12, 'pptv', '1to1_RH_C5i', sct_max_ic5h12)"
   ]
  },
  {
   "cell_type": "code",
   "execution_count": null,
   "metadata": {},
   "outputs": [],
   "source": [
    "plot_one2one(atom_meono2, traj_meono2.data, str_meono2, 'pptv', '1to1_RONO2_C1', sct_max_meono2)"
   ]
  },
  {
   "cell_type": "code",
   "execution_count": null,
   "metadata": {},
   "outputs": [],
   "source": [
    "plot_one2one(atom_sbuono2, traj_sbuono2.data, str_sbuono2, 'pptv', '1to1_RONO2_C4s', sct_max_sbuono2)"
   ]
  },
  {
   "cell_type": "code",
   "execution_count": null,
   "metadata": {},
   "outputs": [],
   "source": [
    "plot_one2one(atom_n2peono2, traj_n2peono2.data, str_n2peono2, 'pptv', '1to1_RONO2_C5n2', sct_max_n2peono2)"
   ]
  },
  {
   "cell_type": "code",
   "execution_count": null,
   "metadata": {},
   "outputs": [],
   "source": [
    "plot_one2one(atom_n3peono2, traj_n3peono2.data, str_n3peono2, 'pptv', '1to1_RONO2_C5n3', sct_max_n3peono2)"
   ]
  },
  {
   "cell_type": "code",
   "execution_count": null,
   "metadata": {},
   "outputs": [],
   "source": [
    "plot_one2one(atom_ipeono2, traj_ipeono2.data, str_ipeono2, 'pptv', '1to1_RONO2_C5i', sct_max_ipeono2)"
   ]
  }
 ],
 "metadata": {
  "anaconda-cloud": {},
  "kernelspec": {
   "display_name": "Python 3",
   "language": "python",
   "name": "python3"
  },
  "language_info": {
   "codemirror_mode": {
    "name": "ipython",
    "version": 3
   },
   "file_extension": ".py",
   "mimetype": "text/x-python",
   "name": "python",
   "nbconvert_exporter": "python",
   "pygments_lexer": "ipython3",
   "version": "3.6.6"
  }
 },
 "nbformat": 4,
 "nbformat_minor": 2
}
