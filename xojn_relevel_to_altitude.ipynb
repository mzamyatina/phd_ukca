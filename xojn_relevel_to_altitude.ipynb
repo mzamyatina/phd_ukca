{
 "cells": [
  {
   "cell_type": "markdown",
   "metadata": {},
   "source": [
    "### Relevel UKCA data from hydbrid height (orography-following) levels to altitude (relative to the sea level) levels for comparison with ATom"
   ]
  },
  {
   "cell_type": "code",
   "execution_count": 1,
   "metadata": {
    "nbpresent": {
     "id": "46246386-fec1-4d42-bf10-698a4054dbda"
    }
   },
   "outputs": [],
   "source": [
    "import warnings\n",
    "from pathlib import Path\n",
    "\n",
    "import iris\n",
    "import numpy as np\n",
    "from iris.experimental import stratify"
   ]
  },
  {
   "cell_type": "code",
   "execution_count": 2,
   "metadata": {},
   "outputs": [],
   "source": [
    "from util_commons import EXPERIMENTS\n",
    "from util_mypaths import path_to_processed, path_to_raw"
   ]
  },
  {
   "cell_type": "code",
   "execution_count": 3,
   "metadata": {},
   "outputs": [],
   "source": [
    "warnings.filterwarnings(\"ignore\", module=\"iris\")"
   ]
  },
  {
   "cell_type": "code",
   "execution_count": 4,
   "metadata": {},
   "outputs": [],
   "source": [
    "%%capture\n",
    "from tqdm.notebook import tqdm as tqdm\n",
    "\n",
    "tqdm().pandas()"
   ]
  },
  {
   "cell_type": "code",
   "execution_count": 5,
   "metadata": {},
   "outputs": [],
   "source": [
    "# Choose experiment\n",
    "exp = \"FIRE\"\n",
    "path_to_exp = path_to_processed / EXPERIMENTS[exp]"
   ]
  },
  {
   "cell_type": "code",
   "execution_count": 6,
   "metadata": {},
   "outputs": [],
   "source": [
    "gases_to_relevel = [\n",
    "    \"ch4\",\n",
    "    \"c2h6\",\n",
    "    \"c3h8\",\n",
    "    \"no\",\n",
    "    \"no2\",\n",
    "    \"hono\",\n",
    "    \"ho2no2\",\n",
    "    \"hno3\",\n",
    "    \"n2o5\",\n",
    "    \"pan\",\n",
    "    \"ppan\",\n",
    "    \"meono2\",\n",
    "    \"etono2\",\n",
    "    \"nprono2\",\n",
    "    \"iprono2\",\n",
    "    \"o3\",\n",
    "]"
   ]
  },
  {
   "cell_type": "code",
   "execution_count": 7,
   "metadata": {},
   "outputs": [],
   "source": [
    "# Load surface_altitude coordinate\n",
    "orography = iris.load_cube(str(path_to_raw / \"um_orography_xnvtj.nc\"))\n",
    "alt_cb = iris.util.squeeze(orography)\n",
    "alt_coord = iris.coords.AuxCoord(alt_cb.data, standard_name=\"surface_altitude\", units=\"m\")"
   ]
  },
  {
   "cell_type": "code",
   "execution_count": 8,
   "metadata": {},
   "outputs": [],
   "source": [
    "# Chosen altitude levels for releveling\n",
    "tgt_levels = np.arange(0, 14000, 100)  # [meters]"
   ]
  },
  {
   "cell_type": "code",
   "execution_count": 9,
   "metadata": {},
   "outputs": [
    {
     "data": {
      "application/vnd.jupyter.widget-view+json": {
       "model_id": "b93c03357b1b42ab9780ded0611d9f35",
       "version_major": 2,
       "version_minor": 0
      },
      "text/plain": [
       "  0%|          | 0/16 [00:00<?, ?it/s]"
      ]
     },
     "metadata": {},
     "output_type": "display_data"
    }
   ],
   "source": [
    "for n in tqdm(gases_to_relevel):\n",
    "    # Load .nc\n",
    "    cube = iris.load_cube(str(path_to_exp / f\"{EXPERIMENTS[exp]}_{n}.nc\"))\n",
    "    # Add surface_altitude coordinate\n",
    "    cube.add_aux_coord(alt_coord, data_dims=[2, 3])\n",
    "    # Derive altitude coordinate from surface_altitude\n",
    "    factory = iris.aux_factory.HybridHeightFactory(\n",
    "        delta=cube.coord(\"level_height\"),\n",
    "        sigma=cube.coord(\"sigma\"),\n",
    "        orography=cube.coord(\"surface_altitude\"),\n",
    "    )\n",
    "    cube.add_aux_factory(factory)\n",
    "    # Relevel model data from level height to target levels\n",
    "    cube_rlvled = stratify.relevel(cube, cube.coord(\"altitude\"), tgt_levels, axis=\"level_height\")\n",
    "    cube_rlvled.rename(n)\n",
    "    # Save releveled data to .nc\n",
    "    iris.save(cube_rlvled, str(path_to_exp / \"releveled\" / f\"{EXPERIMENTS[exp]}_relvl_{n}.nc\"))"
   ]
  },
  {
   "cell_type": "code",
   "execution_count": 10,
   "metadata": {},
   "outputs": [],
   "source": [
    "# Old storage method\n",
    "# cubelist_rh = [cbr_ch4, cbr_c2h6, cbr_c3h8]\n",
    "# cubelist_ox = [cbr_o3, cbr_oh]\n",
    "# cubelist_nox = [cbr_no, cbr_no2]\n",
    "# cubelist_rono2 = [cbr_meono2, cbr_etono2, cbr_nprono2, cbr_iprono2]"
   ]
  }
 ],
 "metadata": {
  "@deathbeds/jupyterlab-fonts": {
   "styles": {
    ":root": {
     "--jp-code-font-size": "12px"
    }
   }
  },
  "anaconda-cloud": {},
  "kernelspec": {
   "display_name": "Python 3",
   "language": "python",
   "name": "python3"
  },
  "language_info": {
   "codemirror_mode": {
    "name": "ipython",
    "version": 3
   },
   "file_extension": ".py",
   "mimetype": "text/x-python",
   "name": "python",
   "nbconvert_exporter": "python",
   "pygments_lexer": "ipython3",
   "version": "3.7.9"
  }
 },
 "nbformat": 4,
 "nbformat_minor": 4
}
