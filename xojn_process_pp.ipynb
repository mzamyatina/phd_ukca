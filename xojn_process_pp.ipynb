{
 "cells": [
  {
   "cell_type": "code",
   "execution_count": 1,
   "metadata": {},
   "outputs": [],
   "source": [
    "import warnings\n",
    "from pathlib import Path\n",
    "\n",
    "import iris"
   ]
  },
  {
   "cell_type": "code",
   "execution_count": 2,
   "metadata": {},
   "outputs": [],
   "source": [
    "from commons import EXPERIMENTS\n",
    "from mypaths import path_to_processed, path_to_raw"
   ]
  },
  {
   "cell_type": "code",
   "execution_count": 3,
   "metadata": {},
   "outputs": [],
   "source": [
    "warnings.filterwarnings(\"ignore\", module=\"iris\")"
   ]
  },
  {
   "cell_type": "code",
   "execution_count": 4,
   "metadata": {},
   "outputs": [],
   "source": [
    "# Choose an experiment\n",
    "exp = \"FIRE OLD2\""
   ]
  },
  {
   "cell_type": "code",
   "execution_count": 5,
   "metadata": {},
   "outputs": [],
   "source": [
    "# Load .pp\n",
    "cubelist = iris.load(str(path_to_raw / EXPERIMENTS[exp] / f\"{EXPERIMENTS[exp]}_chem.pp\"))"
   ]
  },
  {
   "cell_type": "markdown",
   "metadata": {},
   "source": [
    "- HOx = O3+OH+HO2\n",
    "- NOx = NO+NO2\n",
    "- NOy(-NOx-RONO2) = HONO+HO2NO2+HNO3+N2O5+PAN+PPAN\n",
    "- RONO2: MeONO2, EtONO2, nPrONO2, iPrONO2\n",
    "- CO, CH4, C2H6, C3H8\n",
    "- Aldehydes: HCHO, MeCHO, EtCHO\n",
    "- Ketones: Me2CO\n",
    "- RO2: MeOO, EtOO, nPrOO, iPrOO"
   ]
  },
  {
   "cell_type": "code",
   "execution_count": 9,
   "metadata": {},
   "outputs": [],
   "source": [
    "STASH = {\n",
    "    \"temp\": \"air_temperature\",\n",
    "    \"air_mass\": \"m01s34i363\",\n",
    "    \"trop_mask\": \"m01s34i362\",\n",
    "    \"trop_alt\": \"tropopause_altitude\",\n",
    "    \"o3\": \"mass_fraction_of_ozone_in_air\",\n",
    "    \"oh\": \"mass_fraction_of_hydroxyl_radical_in_air\",\n",
    "    \"ho2\": \"mass_fraction_of_hydroperoxyl_radical_in_air\",\n",
    "    \"no\": \"mass_fraction_of_nitrogen_monoxide_in_air\",\n",
    "    \"no2\": \"m01s34i152\",\n",
    "    \"hono\": \"mass_fraction_of_nitrous_acid_in_air\",\n",
    "    \"ho2no2\": \"mass_fraction_of_peroxynitric_acid_in_air\",\n",
    "    \"hno3\": \"mass_fraction_of_nitric_acid_in_air\",\n",
    "    \"n2o5\": \"mass_fraction_of_dinitrogen_pentoxide_in_air\",\n",
    "    \"pan\": \"mass_fraction_of_peroxyacetyl_nitrate_in_air\",\n",
    "    \"ppan\": \"mass_fraction_of_peroxypropionyl_nitrate_in_air\",\n",
    "    \"meono2\": \"mass_fraction_of_methyl_nitrate_in_air\",\n",
    "    \"etono2\": \"m01s34i096\",  # mass_fraction_of_methyl_ethyl_ketone_in_air\n",
    "    \"nprono2\": \"m01s34i097\",  # mass_fraction_of_toluene_in_air\n",
    "    \"iprono2\": \"m01s34i098\",\n",
    "    \"co\": \"mass_fraction_of_carbon_monoxide_in_air\",\n",
    "    \"ch4\": \"mass_fraction_of_methane_in_air\",\n",
    "    \"c2h6\": \"mass_fraction_of_ethane_in_air\",\n",
    "    \"c3h8\": \"mass_fraction_of_propane_in_air\",  # m01s34i018\n",
    "    #     \"hcho\": \"mass_fraction_of_formaldehyde_in_air\",\n",
    "    #     \"mecho\": \"mass_fraction_of_acetaldehyde_in_air\",\n",
    "    #     \"etcho\": \"mass_fraction_of_propanal_in_air\",\n",
    "    #     \"me2co\": \"mass_fraction_of_acetone_in_air\",\n",
    "    #     \"meoo\": \"mass_fraction_of_methyl_peroxy_radical_in_air\",  # m01s34i083\n",
    "    #     \"etoo\": \"mass_fraction_of_ethyl_peroxy_radical_in_air\",  # m01s34i084\n",
    "    #     \"nproo\": \"mass_fraction_of_n-propylperoxy_radical_in_air\",  # m01s34i086\n",
    "    #     \"iproo\": \"mass_fraction_of_isopropylperoxy_radical_in_air\",  # m01s34i087\n",
    "    #     \"o3p\": \"mass_fraction_of_ground_state_atomic_oxygen_in_air\", # if exp in [\"ORIG\", \"UPDT\"]\n",
    "    #     \"no3\": \"mass_fraction_of_nitrate_radical_in_air\",  # if exp in [\"ORIG\", \"UPDT\"]\n",
    "    #     \"meooh\": \"mass_fraction_of_methyl_hydroperoxide_in_air\", # if exp in [\"ORIG\", \"UPDT\"]\n",
    "}"
   ]
  },
  {
   "cell_type": "code",
   "execution_count": 11,
   "metadata": {},
   "outputs": [
    {
     "name": "stdout",
     "output_type": "stream",
     "text": [
      "temp\n",
      "air_mass\n",
      "trop_mask\n",
      "trop_alt\n",
      "o3\n",
      "oh\n",
      "ho2\n",
      "no\n",
      "no2\n",
      "hono\n",
      "ho2no2\n",
      "hno3\n",
      "n2o5\n",
      "pan\n",
      "ppan\n",
      "meono2\n",
      "etono2\n",
      "nprono2\n",
      "iprono2\n",
      "co\n",
      "ch4\n",
      "c2h6\n",
      "c3h8\n"
     ]
    }
   ],
   "source": [
    "# Extract, rename and save to .nc\n",
    "for key, name in STASH.items():\n",
    "    try:\n",
    "        cube = cubelist.extract_strict(name).copy()\n",
    "    except iris.exceptions.ConstraintMismatchError as e:\n",
    "        print(e)\n",
    "        if exp in [\"BASE OLD\", \"BASE\"] and key == \"iprono2\":\n",
    "            # iPrONO2 output was absent from the simulation, but iPrONO2 was chemically inactive anyway\n",
    "            cube = cubelist.extract_strict(\"m01s34i096\")\n",
    "    cube.rename(key)\n",
    "    print(cube.name())\n",
    "    iris.save(cube, str(path_to_processed / EXPERIMENTS[exp] / f\"{EXPERIMENTS[exp]}_{key}.nc\"))"
   ]
  }
 ],
 "metadata": {
  "@deathbeds/jupyterlab-fonts": {
   "styles": {
    ":root": {
     "--jp-code-font-size": "12px"
    }
   }
  },
  "kernelspec": {
   "display_name": "Python 3",
   "language": "python",
   "name": "python3"
  },
  "language_info": {
   "codemirror_mode": {
    "name": "ipython",
    "version": 3
   },
   "file_extension": ".py",
   "mimetype": "text/x-python",
   "name": "python",
   "nbconvert_exporter": "python",
   "pygments_lexer": "ipython3",
   "version": "3.7.6"
  }
 },
 "nbformat": 4,
 "nbformat_minor": 4
}
