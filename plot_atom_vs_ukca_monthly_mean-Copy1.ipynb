{
 "cells": [
  {
   "cell_type": "code",
   "execution_count": 1,
   "metadata": {
    "nbpresent": {
     "id": "46246386-fec1-4d42-bf10-698a4054dbda"
    }
   },
   "outputs": [],
   "source": [
    "import numpy as np\n",
    "import pandas as pd\n",
    "import xarray as xr\n",
    "import cartopy.crs as ccrs\n",
    "import cartopy.util\n",
    "import matplotlib.pyplot as plt\n",
    "import matplotlib.colors as colors\n",
    "\n",
    "import iris\n",
    "import iris.plot as iplt\n",
    "from iris.analysis import trajectory\n",
    "# cubes = iris.load_cube('data/uk_hires.pp', 'air_potential_temperature')\n",
    "import warnings\n",
    "warnings.filterwarnings('ignore', module='iris')\n",
    "from pathlib import Path\n",
    "plt.rcParams['mathtext.default'] = 'regular'\n",
    "M_air = 28.97 # dry air [kg]"
   ]
  },
  {
   "cell_type": "code",
   "execution_count": 2,
   "metadata": {
    "nbpresent": {
     "id": "9cb98737-08af-4271-9129-ab3b278cf723"
    }
   },
   "outputs": [],
   "source": [
    "# Read ATom\n",
    "path_obs_atom = Path('../../external_data/ATom')\n",
    "headers = [541, 541, 540, 540, 530, 538, 537, 518, 538, 521, 499, 457, 454, 450, 462, 461, 461, 461, 461, 458, 452, 446]\n",
    "list_of_dfs = []\n",
    "for i, j in zip(sorted(path_obs_atom.glob('*.ict')), headers):\n",
    "    list_of_dfs.append(pd.read_csv(i, sep=',', header=j, na_values=-99999))\n",
    "combo_df = pd.concat(list_of_dfs, axis=0, sort=False, ignore_index=True)"
   ]
  },
  {
   "cell_type": "code",
   "execution_count": 14,
   "metadata": {
    "nbpresent": {
     "id": "5bf220d9-75c8-489e-81fb-58c0a9a4f83d"
    }
   },
   "outputs": [],
   "source": [
    "# Read UKCA\n",
    "path_ukca_data = Path('../data')\n",
    "ukca_diag_run = 'ax631a'\n",
    "path_to_ukca_files = path_ukca_data / ukca_diag_run / 'ukca_atom_overlap'\n",
    "# ds = xr.open_dataset(path_to_file)\n",
    "# ds = xr.open_mfdataset(path_to_ukca_files.glob('*.nc'))\n",
    "cb_srf_alt = iris.load(str(path_ukca_data / 'surface_altitude_n96e_marcus_180705.nc'), 'surface_altitude')[0]\n",
    "cb_meono2 = iris.load(str(path_to_ukca_files / 'ax631a.pm201607.nc'), 'MeONO2 MASS MIXING RATIO AFTER TSTEP')[0]"
   ]
  },
  {
   "cell_type": "code",
   "execution_count": 16,
   "metadata": {},
   "outputs": [],
   "source": [
    "# Add surface_altitude coordinate to the cube\n",
    "new_coord = iris.coords.AuxCoord(cb_srf_alt.data, standard_name='surface_altitude', units='m')\n",
    "cb_meono2.add_aux_coord(new_coord, data_dims=[2, 3])"
   ]
  },
  {
   "cell_type": "code",
   "execution_count": null,
   "metadata": {},
   "outputs": [],
   "source": []
  },
  {
   "cell_type": "code",
   "execution_count": null,
   "metadata": {},
   "outputs": [],
   "source": []
  },
  {
   "cell_type": "code",
   "execution_count": null,
   "metadata": {},
   "outputs": [],
   "source": [
    "# Derive altitude coordinate from surface_altitude\n",
    "factory = iris.aux_factory.HybridHeightFactory(orography=cb_meono2.coord('surface_altitude'))\n",
    "cb_meono2.add_aux_factory(factory)"
   ]
  },
  {
   "cell_type": "code",
   "execution_count": null,
   "metadata": {},
   "outputs": [],
   "source": [
    "print(cb_meono2)"
   ]
  },
  {
   "cell_type": "code",
   "execution_count": null,
   "metadata": {},
   "outputs": [],
   "source": [
    "cb_meono2.coord('ground_level_altitude')"
   ]
  },
  {
   "cell_type": "code",
   "execution_count": null,
   "metadata": {},
   "outputs": [],
   "source": [
    "cb_meono2.coord('altitude')"
   ]
  },
  {
   "cell_type": "code",
   "execution_count": null,
   "metadata": {},
   "outputs": [],
   "source": [
    "a = cb_meono2.coord('altitude').copy()\n",
    "print(a)"
   ]
  },
  {
   "cell_type": "code",
   "execution_count": null,
   "metadata": {},
   "outputs": [],
   "source": [
    "a.rename('surface_altitude')\n",
    "print(a)"
   ]
  },
  {
   "cell_type": "code",
   "execution_count": null,
   "metadata": {},
   "outputs": [],
   "source": [
    "cb_meono2.add_aux_coord(a, data_dims=[2, 3])\n",
    "print(cb_meono2)"
   ]
  },
  {
   "cell_type": "code",
   "execution_count": null,
   "metadata": {},
   "outputs": [],
   "source": [
    "cb_meono2.coord('ground_level_altitude').shape"
   ]
  },
  {
   "cell_type": "code",
   "execution_count": null,
   "metadata": {},
   "outputs": [],
   "source": [
    "cb_meono2.coord('surface_altitude').shape"
   ]
  },
  {
   "cell_type": "code",
   "execution_count": null,
   "metadata": {},
   "outputs": [],
   "source": [
    "cb_meono2.coord('altitude').points == cb_meono2.coord('ground_level_altitude').points"
   ]
  },
  {
   "cell_type": "code",
   "execution_count": null,
   "metadata": {},
   "outputs": [],
   "source": [
    "144*192"
   ]
  },
  {
   "cell_type": "code",
   "execution_count": null,
   "metadata": {},
   "outputs": [],
   "source": []
  },
  {
   "cell_type": "markdown",
   "metadata": {},
   "source": [
    "#### Interpolate model data to ATom flight track"
   ]
  },
  {
   "cell_type": "code",
   "execution_count": 17,
   "metadata": {},
   "outputs": [],
   "source": [
    "sample_lats = combo_df.G_LAT.values[0:20]\n",
    "sample_lons = combo_df.G_LONG.values[0:20]+360\n",
    "sample_alts = combo_df.G_ALT.values[0:20]\n",
    "sample_points = [('latitude', sample_lats), ('longitude', sample_lons), ('surface_altitude', sample_alts)]"
   ]
  },
  {
   "cell_type": "code",
   "execution_count": null,
   "metadata": {},
   "outputs": [],
   "source": [
    "traj_cb_meono2 = trajectory.interpolate(cb_meono2[0], sample_points)"
   ]
  },
  {
   "cell_type": "code",
   "execution_count": 9,
   "metadata": {},
   "outputs": [
    {
     "name": "stdout",
     "output_type": "stream",
     "text": [
      "MeONO2 MASS MIXING RATIO AFTER TSTEP / (kg kg-1) (t: 1; -- : 20)\n",
      "     Dimension coordinates:\n",
      "          t                                        x       -\n",
      "     Auxiliary coordinates:\n",
      "          Hybrid height                            -       x\n",
      "          latitude                                 -       x\n",
      "          longitude                                -       x\n",
      "     Attributes:\n",
      "          Conventions: CF-1.5\n",
      "          history: Mon Jun 18 15:04:22 BST 2018: make_chem.sh v1.0\n",
      "          source: ax631a.pm2016jul.pp\n",
      "          title: Unified Model Output\n",
      "          um_suite: u-ax631\n",
      "          um_version: 10.6.1\n",
      "          valid_max: 1.05204435e-10\n",
      "          valid_min: 7.274455e-17\n"
     ]
    }
   ],
   "source": [
    "print(traj_cb_meono2)"
   ]
  },
  {
   "cell_type": "code",
   "execution_count": null,
   "metadata": {},
   "outputs": [],
   "source": [
    "ids.extract(iris.Constraint(name='Hybrid height', coord_values=ids.coord('Hybrid height').points[0]))"
   ]
  },
  {
   "cell_type": "code",
   "execution_count": null,
   "metadata": {},
   "outputs": [],
   "source": [
    "# ids.extract(iris.Constraint(latitude=-0.625))"
   ]
  },
  {
   "cell_type": "code",
   "execution_count": null,
   "metadata": {},
   "outputs": [],
   "source": [
    "fig, ax = plt.subplots(figsize=(10, 10), subplot_kw=dict(projection=ccrs.Robinson(central_longitude=0, globe=None)), facecolor='w')\n",
    "ax.coastlines();\n",
    "ax.set_global();\n",
    "# iplt.contourf(ids[0][0,0, ...]*(M_air/77.0394)*1e12, cmap='Oranges');\n",
    "# not working\n",
    "ax.contourf(ids[0].coord('longitude').points, ids[0].coord('latitude').points,\n",
    "            ids[0][0, 0, ...].data*(M_air/77.0394)*1e12, transform=ccrs.PlateCarree());\n",
    "#             ids[0].extract(iris.Constraint(t=0, hybrid_height=0))*(M_air/77.0394)*1e12);\n",
    "p1 = ax.scatter(sample_lons[0:160], sample_lats[0:160], c=combo_df.MeONO2_WAS[0:160],\n",
    "           cmap='Oranges', edgecolors='k', linewidth=0.2, transform=ccrs.PlateCarree());\n",
    "plt.colorbar(p1, shrink=0.4, label='ppt');"
   ]
  },
  {
   "cell_type": "code",
   "execution_count": null,
   "metadata": {},
   "outputs": [],
   "source": [
    "# ob = combo_df['MeONO2_WAS'][0:160]\n",
    "# mo = interpolated_cube[0,0:160]*(M_air/77.0394)*1e12"
   ]
  },
  {
   "cell_type": "code",
   "execution_count": null,
   "metadata": {},
   "outputs": [],
   "source": [
    "iplt.plot(interpolated_cube[0,0:160]*(M_air/77.0394)*1e12, color='r');\n",
    "plt.plot(combo_df['MeONO2_WAS'][0:160], color='k');"
   ]
  },
  {
   "cell_type": "code",
   "execution_count": null,
   "metadata": {},
   "outputs": [],
   "source": [
    "plt.plot(combo_df.G_ALT[0:160]);\n",
    "plt.plot(combo_df.G_ALT[0:160][alt_bin_inds==3]);"
   ]
  },
  {
   "cell_type": "code",
   "execution_count": null,
   "metadata": {},
   "outputs": [],
   "source": [
    "alt_bins = np.arange(0, 15000, 1000)\n",
    "alt_bin_inds = np.digitize(combo_df.G_ALT[0:160], alt_bins)"
   ]
  },
  {
   "cell_type": "code",
   "execution_count": null,
   "metadata": {},
   "outputs": [],
   "source": [
    "alt_bins"
   ]
  },
  {
   "cell_type": "code",
   "execution_count": null,
   "metadata": {},
   "outputs": [],
   "source": [
    "alt_bin_inds"
   ]
  },
  {
   "cell_type": "code",
   "execution_count": null,
   "metadata": {},
   "outputs": [],
   "source": [
    "meono2_bin_mean = combo_df.MeONO2_WAS[0:160].groupby(alt_bin_inds).mean()\n",
    "meono2_bin_min = combo_df.MeONO2_WAS[0:160].groupby(alt_bin_inds).min()\n",
    "meono2_bin_max = combo_df.MeONO2_WAS[0:160].groupby(alt_bin_inds).max()"
   ]
  },
  {
   "cell_type": "code",
   "execution_count": null,
   "metadata": {},
   "outputs": [],
   "source": [
    "list(combo_df.G_ALT[0:160].groupby(alt_bin_inds))"
   ]
  },
  {
   "cell_type": "code",
   "execution_count": null,
   "metadata": {},
   "outputs": [],
   "source": [
    "alt_bins.shape"
   ]
  },
  {
   "cell_type": "code",
   "execution_count": null,
   "metadata": {},
   "outputs": [],
   "source": [
    "alt_bins[0:13].shape # ?"
   ]
  },
  {
   "cell_type": "code",
   "execution_count": null,
   "metadata": {},
   "outputs": [],
   "source": [
    "plt.plot(ids[0][0,:,88,128].data*(M_air/77.0394)*1e12, ids[0].coord('Hybrid height').points, color='r');\n",
    "plt.ylim(-500,14000);\n",
    "plt.plot(meono2_bin_mean, alt_bins[0:13], marker='o', color='k');\n",
    "plt.plot(meono2_bin_min, alt_bins[0:13], marker='*', color='k');\n",
    "plt.plot(meono2_bin_max, alt_bins[0:13], marker='*', color='k');"
   ]
  },
  {
   "cell_type": "code",
   "execution_count": null,
   "metadata": {},
   "outputs": [],
   "source": [
    "import iris.pandas"
   ]
  },
  {
   "cell_type": "code",
   "execution_count": null,
   "metadata": {},
   "outputs": [],
   "source": [
    "a = interpolated_cube.copy()"
   ]
  },
  {
   "cell_type": "code",
   "execution_count": null,
   "metadata": {},
   "outputs": [],
   "source": [
    "# [a.remove_coord(i) for i in ['longitude', 'latitude']]\n",
    "[a.remove_coord(i.name()) for i in interpolated_cube.aux_coords]"
   ]
  },
  {
   "cell_type": "code",
   "execution_count": null,
   "metadata": {},
   "outputs": [],
   "source": [
    "alt_bin_inds"
   ]
  },
  {
   "cell_type": "code",
   "execution_count": null,
   "metadata": {},
   "outputs": [],
   "source": [
    "meono2_model_mean = iris.pandas.as_data_frame(a).T[0:160].groupby(alt_bin_inds).mean()"
   ]
  },
  {
   "cell_type": "code",
   "execution_count": null,
   "metadata": {},
   "outputs": [],
   "source": [
    "plt.plot(ids[0][0,:,88,128].data*(M_air/77.0394)*1e12, ids[0].coord('Hybrid height').points, color='r');\n",
    "plt.ylim(-500,14000);\n",
    "plt.plot(meono2_bin_mean, alt_bins[0:13], marker='o', color='k');\n",
    "plt.plot(meono2_bin_min, alt_bins[0:13], marker='*', color='k');\n",
    "plt.plot(meono2_bin_max, alt_bins[0:13], marker='*', color='k');\n",
    "\n",
    "plt.plot(meono2_model_mean*(M_air/77.0394)*1e12, alt_bins[0:13], marker='*', color='orange');"
   ]
  },
  {
   "cell_type": "code",
   "execution_count": null,
   "metadata": {},
   "outputs": [],
   "source": []
  },
  {
   "cell_type": "code",
   "execution_count": null,
   "metadata": {},
   "outputs": [],
   "source": []
  },
  {
   "cell_type": "code",
   "execution_count": null,
   "metadata": {},
   "outputs": [],
   "source": []
  },
  {
   "cell_type": "code",
   "execution_count": null,
   "metadata": {
    "nbpresent": {
     "id": "4d33882b-bc90-4f11-87b4-6bde101d2bc4"
    }
   },
   "outputs": [],
   "source": [
    "# UKCA diagnostic (nudged) runs variable names\n",
    "# field2101 O3 MASS MIXING RATIO AFTER TIMESTEP\n",
    "# field2181 OH MASS MIXING RATIO AFTER TIMESTEP\n",
    "# field2182 HO2 MASS MIXING RATIO AFTER TIMESTEP\n",
    "\n",
    "# field2102 NO MASS MIXING RATIO AFTER TIMESTEP\n",
    "# field2110 CO MASS MIXING RATIO AFTER TSTEP\n",
    "# field2109 CH4 MASS MIXING RATIO AFTER TSTEP\n",
    "# field2114 C2H6 MASS MIXING RATIO AFTER TSTEP\n",
    "# field2118 C3H8 MASS MIXING RATIO AFTER TSTEP\n",
    "# field2273 n-C4H10 MASS MIXING RATIO AFTER TS\n",
    "# field2274 i-C4H10 MASS MIXING RATIO AFTER TS\n",
    "# field2275 n-C5H12 MASS MIXING RATIO AFTER TS\n",
    "# field2276 i-C5H12 MASS MIXING RATIO AFTER TS\n",
    "\n",
    "# field2125 MeONO2 MASS MIXING RATIO AFTER TSTEP\n",
    "# field2287 n-BuONO2 MASS MIXING RATIO AFTER TS\n",
    "# field2288 s-BuONO2 MASS MIXING RATIO AFTER TS\n",
    "# field2289 n-2PeONO2 MASS MIXING RATIO AFTER TS\n",
    "# field2290 n-3PeONO2 MASS MIXING RATIO AFTER TS\n",
    "# field2291 i-PeONO2 MASS MIXING RATIO AFTER TS\n",
    "\n",
    "# field2164 IDT1 MASS MIXING RATIO AFTER TS global 5 day\n",
    "# field2165 IDT2 MASS MIXING RATIO AFTER TS global 30 day\n",
    "# field2165_13 IDT19 MASS MIXING RATIO AFTER TS N America 5 day\n",
    "# field2165_14 IDT20 MASS MIXING RATIO AFTER TS N America 30 day\n",
    "# field2165_17 IDT23 MASS MIXING RATIO AFTER TS Europe 5 day\n",
    "# field2165_18 IDT24 MASS MIXING RATIO AFTER TS Europe 30 day\n",
    "# field2165_19 IDT25 MASS MIXING RATIO AFTER TS N Africa 5 day\n",
    "# field2165_20 IDT26 MASS MIXING RATIO AFTER TS N Africa 30 day"
   ]
  },
  {
   "cell_type": "code",
   "execution_count": null,
   "metadata": {},
   "outputs": [],
   "source": [
    "break"
   ]
  },
  {
   "cell_type": "markdown",
   "metadata": {},
   "source": [
    "#### xarray only"
   ]
  },
  {
   "cell_type": "code",
   "execution_count": null,
   "metadata": {},
   "outputs": [],
   "source": [
    "M_air = 28.97 # dry air [kg]\n",
    "O3 = ds.field2101*(M_air/48)*1e9\n",
    "nC4H10 = ds.field2273*(M_air/58.1222)*1e12"
   ]
  },
  {
   "cell_type": "code",
   "execution_count": null,
   "metadata": {
    "nbpresent": {
     "id": "82144c1d-bb72-400e-b00b-3523655cdfb6"
    }
   },
   "outputs": [],
   "source": [
    "plt.contourf(nC4H10.isel(t=0, hybrid_ht=0));\n",
    "plt.colorbar();"
   ]
  },
  {
   "cell_type": "code",
   "execution_count": null,
   "metadata": {},
   "outputs": [],
   "source": [
    "# x = xr.DataArray([0, 2, 4], dims='z')\n",
    "# y = xr.DataArray([0.1, 0.2, 0.3], dims='z')\n",
    "# da.interp(x=x, y=y)\n",
    "# type(O3)"
   ]
  },
  {
   "cell_type": "code",
   "execution_count": null,
   "metadata": {},
   "outputs": [],
   "source": [
    "new = nC4H10.interp(latitude=obs_lats, longitude=obs_lons, latitude='latitude')"
   ]
  },
  {
   "cell_type": "code",
   "execution_count": null,
   "metadata": {},
   "outputs": [],
   "source": [
    "new.shape"
   ]
  },
  {
   "cell_type": "code",
   "execution_count": null,
   "metadata": {},
   "outputs": [],
   "source": [
    "obs_lats = combo_df.AMS_LAT[0:20]\n",
    "obs_lons = combo_df.AMS_LON[0:20]+360\n",
    "plt.scatter(obs_lons, obs_lats, c=combo_df['n-Butane_WAS'][0:20], cmap='viridis');\n",
    "# plt.scatter(new.longitude, new.latitude, c=new.isel(hybrid_ht=0, t=0), cmap='viridis');"
   ]
  },
  {
   "cell_type": "code",
   "execution_count": null,
   "metadata": {},
   "outputs": [],
   "source": [
    "plt.plot(combo_df['n-Butane_WAS'][0:20], color='k');\n",
    "# plt.plot(new.isel(hybrid_ht=0, t=0));"
   ]
  },
  {
   "cell_type": "markdown",
   "metadata": {},
   "source": [
    "#### old code"
   ]
  },
  {
   "cell_type": "code",
   "execution_count": null,
   "metadata": {
    "nbpresent": {
     "id": "38c89225-0d96-4831-aec9-3e2d58b5970e"
    }
   },
   "outputs": [],
   "source": [
    "CO = ds.field2110*(M_air/28.0101)*1e9\n",
    "O3 = ds.field2101*(M_air/48)*1e9\n",
    "# nC4H10 = cartopy.util.add_cyclic_point(ds.field2273.isel(hybrid_ht=1, t=0).values*(M_air/58.1222)*1e12)\n",
    "\n",
    "# MeONO2 = ds.field2125*(M_air/77.0394)*1e12\n",
    "# nBuONO2 = cartopy.util.add_cyclic_point(ds.field2287.isel(hybrid_ht=1, t=0).values*(M_air/119.1192)*1e12)\n",
    "# sBuONO2 = cartopy.util.add_cyclic_point(ds.field2288.isel(hybrid_ht=1, t=0).values*(M_air/119.1192)*1e12)\n",
    "\n",
    "# nPeBONO2 = cartopy.util.add_cyclic_point(ds.field2289.isel(hybrid_ht=5, t=0).values*(M_air/133.1457)*1e12) # n2PeONO2\n",
    "# nPeCONO2 = cartopy.util.add_cyclic_point(ds.field2290.isel(hybrid_ht=1, t=0).values*(M_air/133.1457)*1e12) # n3PeONO2\n",
    "# iPeBONO2 = cartopy.util.add_cyclic_point(ds.field2291.isel(hybrid_ht=1, t=0).values*(M_air/133.1457)*1e12) # iPeONO2\n",
    "\n",
    "h = 2000 # [m]"
   ]
  },
  {
   "cell_type": "code",
   "execution_count": null,
   "metadata": {
    "nbpresent": {
     "id": "61fde19e-a6c7-4c24-9b21-8fdf9c39e370"
    }
   },
   "outputs": [],
   "source": [
    "# ds_o3.longitude.sel(longitude=(360+x_helmig2014), method='nearest')\n",
    "# ds_o3.latitude.sel(latitude=y_helmig2014, method='nearest')\n",
    "# da.interp(longitude=flight_loh, latitude=flight_lat, hybrid_height=flight_hight)"
   ]
  },
  {
   "cell_type": "code",
   "execution_count": null,
   "metadata": {
    "nbpresent": {
     "id": "6bbf2b00-80a7-448b-beed-b9cb5da784df"
    }
   },
   "outputs": [],
   "source": [
    "combo_df['MeONO2_WAS'][combo_df.G_ALT<h].max(), combo_df['MeONO2_WAS'].max(), MeONO2.max()"
   ]
  },
  {
   "cell_type": "code",
   "execution_count": null,
   "metadata": {
    "nbpresent": {
     "id": "2ecc9d82-919b-43f3-be61-ed9a3f4fa349"
    }
   },
   "outputs": [],
   "source": [
    "fig, ax = plt.subplots(figsize=(10, 10), subplot_kw=dict(projection=ccrs.Robinson(central_longitude=0, globe=None)), facecolor='w')\n",
    "ax.coastlines();\n",
    "bounds_meono2 = np.arange(0,100,10)\n",
    "norm_meono2 = colors.BoundaryNorm(boundaries=bounds_meono2, ncolors=256)\n",
    "p = ax.contourf(cyclic_lons, ds.latitude, MeONO2.isel(hybrid_ht=1, t=0), levels=bounds_meono2, transform=ccrs.PlateCarree());\n",
    "p1 = ax.scatter(combo_df.G_LONG[combo_df.G_ALT<h], combo_df.G_LAT[combo_df.G_ALT<h], c=combo_df['MeONO2_WAS'][combo_df.G_ALT<h], \n",
    "                norm=norm_meono2, cmap='viridis', edgecolors='k', linewidth=0.2, transform=ccrs.PlateCarree());\n",
    "ax.set_title('$MeONO_2$\\nUKCA diagnostic 2015 annual mean level 1 (aw103a)\\nATom merge 1&2 all data below 2 km');\n",
    "fig.colorbar(p, shrink=0.4, label='pptv');\n",
    "# fig.colorbar(p1, shrink=0.4, label='ppt');"
   ]
  },
  {
   "cell_type": "code",
   "execution_count": null,
   "metadata": {
    "nbpresent": {
     "id": "23bfe060-a047-42ea-b778-e45ecc6e92b8"
    }
   },
   "outputs": [],
   "source": [
    "combo_df['2-BuONO2_WAS'][combo_df.G_ALT<h].max(), combo_df['2-BuONO2_WAS'].max(), sBuONO2.max()"
   ]
  },
  {
   "cell_type": "code",
   "execution_count": null,
   "metadata": {
    "nbpresent": {
     "id": "d7d4dea2-add2-46b6-b514-fa46837f1b0f"
    },
    "scrolled": true
   },
   "outputs": [],
   "source": [
    "# plt.plot(combo_df['2-BuONO2_WAS'][:]); # ?"
   ]
  },
  {
   "cell_type": "code",
   "execution_count": null,
   "metadata": {
    "nbpresent": {
     "id": "40bcb31b-0799-4890-bcba-000b0841f224"
    }
   },
   "outputs": [],
   "source": [
    "fig, ax = plt.subplots(figsize=(10, 10), subplot_kw=dict(projection=ccrs.Robinson(central_longitude=0, globe=None)), facecolor='w')\n",
    "ax.coastlines();\n",
    "bounds_sbuono2 = np.arange(0,80,10)\n",
    "norm_sbuono2 = colors.BoundaryNorm(boundaries=bounds_sbuono2, ncolors=256)\n",
    "p = ax.contourf(cyclic_lons, ds.latitude, sBuONO2, levels=bounds_sbuono2, transform=ccrs.PlateCarree());\n",
    "p1 = ax.scatter(combo_df.G_LONG[combo_df.G_ALT<h], combo_df.G_LAT[combo_df.G_ALT<h], c=combo_df['2-BuONO2_WAS'][combo_df.G_ALT<h], \n",
    "                norm=norm_sbuono2, cmap='viridis', edgecolors='k', linewidth=0.2, transform=ccrs.PlateCarree());\n",
    "ax.set_title('$sBuONO_2 (2$-$BuONO2)$\\nUKCA diagnostic 2015 annual mean level 1 (aw103a)\\nATom merge 1&2 all data below 2 km');\n",
    "fig.colorbar(p, shrink=0.4, label='pptv');\n",
    "# fig.colorbar(p1, shrink=0.4, label='ppt'); "
   ]
  },
  {
   "cell_type": "code",
   "execution_count": null,
   "metadata": {
    "nbpresent": {
     "id": "0431a105-5e97-4a50-ae40-b0c42cd86b06"
    }
   },
   "outputs": [],
   "source": [
    "nBuONO2.max()"
   ]
  },
  {
   "cell_type": "code",
   "execution_count": null,
   "metadata": {
    "nbpresent": {
     "id": "2e694172-702c-4c5d-8822-2eab6c85cc67"
    }
   },
   "outputs": [],
   "source": [
    "fig, ax = plt.subplots(figsize=(10, 10), subplot_kw=dict(projection=ccrs.Robinson(central_longitude=0, globe=None)), facecolor='w')\n",
    "ax.coastlines();\n",
    "p = ax.contourf(cyclic_lons, ds.latitude, nBuONO2, transform=ccrs.PlateCarree());\n",
    "ax.set_title('$nBuONO_2 (1$-$BuONO2)$\\nUKCA diagnostic 2015 annual mean level 1 (aw103a)\\nNo ATom data');\n",
    "fig.colorbar(p, shrink=0.4, label='pptv');"
   ]
  },
  {
   "cell_type": "code",
   "execution_count": null,
   "metadata": {
    "nbpresent": {
     "id": "4d2a361c-2fb5-48b0-9525-52315391fd12"
    }
   },
   "outputs": [],
   "source": [
    "combo_df['2-PenONO2_WAS'][combo_df.G_ALT<h].max(), combo_df['2-PenONO2_WAS'].max(), nPeBONO2.max()"
   ]
  },
  {
   "cell_type": "code",
   "execution_count": null,
   "metadata": {
    "nbpresent": {
     "id": "63030928-dae6-4f8f-9f9b-9c4cae7b0d1e"
    }
   },
   "outputs": [],
   "source": [
    "fig, ax = plt.subplots(figsize=(10, 10), subplot_kw=dict(projection=ccrs.Robinson(central_longitude=0, globe=None)), facecolor='w')\n",
    "ax.coastlines();\n",
    "bounds_npebono2 = np.arange(0,11,1)\n",
    "norm_npebono2 = colors.BoundaryNorm(boundaries=bounds_npebono2, ncolors=256)\n",
    "p = ax.contourf(cyclic_lons, ds.latitude, nPeBONO2, levels=bounds_npebono2, transform=ccrs.PlateCarree());\n",
    "p1 = ax.scatter(combo_df.G_LONG[combo_df.G_ALT<h], combo_df.G_LAT[combo_df.G_ALT<h], c=combo_df['2-PenONO2_WAS'][combo_df.G_ALT<h], \n",
    "                norm=norm_npebono2, cmap='viridis', edgecolors='k', linewidth=0.2, transform=ccrs.PlateCarree());\n",
    "ax.set_title('$nPeBONO_2 (2$-$PenONO2)$\\nUKCA diagnostic 2015 annual mean level 1 (aw103a)\\nATom merge 1&2 all data below 2 km');\n",
    "fig.colorbar(p, shrink=0.4, label='pptv');\n",
    "# fig.colorbar(p1, shrink=0.4, label='ppt'); "
   ]
  },
  {
   "cell_type": "code",
   "execution_count": null,
   "metadata": {
    "nbpresent": {
     "id": "c8514dd8-fa45-4fe3-ba89-13a52d164a50"
    }
   },
   "outputs": [],
   "source": [
    "combo_df['3-PenONO2_WAS'][combo_df.G_ALT<h].max(), combo_df['3-PenONO2_WAS'].max(), nPeCONO2.max()"
   ]
  },
  {
   "cell_type": "code",
   "execution_count": null,
   "metadata": {
    "nbpresent": {
     "id": "179b2ba7-27e6-4cd8-ba78-91f6eab2be46"
    }
   },
   "outputs": [],
   "source": [
    "fig, ax = plt.subplots(figsize=(10, 10), subplot_kw=dict(projection=ccrs.Robinson(central_longitude=0, globe=None)), facecolor='w')\n",
    "ax.coastlines();\n",
    "bounds_npecono2 = np.arange(0,45,5)\n",
    "norm_npecono2 = colors.BoundaryNorm(boundaries=bounds_npecono2, ncolors=256)\n",
    "p = ax.contourf(cyclic_lons, ds.latitude, nPeCONO2, levels=bounds_npecono2, transform=ccrs.PlateCarree());\n",
    "p1 = ax.scatter(combo_df.G_LONG[combo_df.G_ALT<h], combo_df.G_LAT[combo_df.G_ALT<h], c=combo_df['3-PenONO2_WAS'][combo_df.G_ALT<h], \n",
    "                norm=norm_npecono2, cmap='viridis', edgecolors='k', linewidth=0.2, transform=ccrs.PlateCarree());\n",
    "ax.set_title('$nPeCONO_2 (3$-$PenONO2)$\\nUKCA diagnostic 2015 annual mean level 1 (aw103a)\\nATom merge 1&2 all data below 2 km');\n",
    "fig.colorbar(p, shrink=0.4, label='pptv');\n",
    "# fig.colorbar(p1, shrink=0.4, label='ppt'); "
   ]
  },
  {
   "cell_type": "code",
   "execution_count": null,
   "metadata": {
    "nbpresent": {
     "id": "af5f60c1-0586-448f-be64-b8e08cab62dd"
    }
   },
   "outputs": [],
   "source": [
    "combo_df['3-Methyl-2-BuONO2_WAS'][combo_df.G_ALT<h].max(), combo_df['3-Methyl-2-BuONO2_WAS'].max(), iPeBONO2.max()"
   ]
  },
  {
   "cell_type": "code",
   "execution_count": null,
   "metadata": {
    "nbpresent": {
     "id": "15c09c4f-0c39-4f28-a907-652771bfbd91"
    }
   },
   "outputs": [],
   "source": [
    "fig, ax = plt.subplots(figsize=(10, 10), subplot_kw=dict(projection=ccrs.Robinson(central_longitude=0, globe=None)), facecolor='w')\n",
    "ax.coastlines();\n",
    "bounds_ipebono2 = np.arange(0,45,5)\n",
    "norm_ipebono2 = colors.BoundaryNorm(boundaries=bounds_ipebono2, ncolors=256)\n",
    "p = ax.contourf(cyclic_lons, ds.latitude, iPeBONO2, levels=bounds_ipebono2, transform=ccrs.PlateCarree());\n",
    "p1 = ax.scatter(combo_df.G_LONG[combo_df.G_ALT<h], combo_df.G_LAT[combo_df.G_ALT<h], c=combo_df['3-Methyl-2-BuONO2_WAS'][combo_df.G_ALT<h], \n",
    "                norm=norm_ipebono2, cmap='viridis', edgecolors='k', linewidth=0.2, transform=ccrs.PlateCarree());\n",
    "ax.set_title('$iPeBONO_2 (3$-$Methyl$-$2$-$BuONO2)$\\nUKCA diagnostic 2015 annual mean level 1 (aw103a)\\nATom merge 1&2 all data below 2 km');\n",
    "fig.colorbar(p, shrink=0.4, label='pptv');\n",
    "# fig.colorbar(p1, shrink=0.4, label='ppt'); "
   ]
  },
  {
   "cell_type": "code",
   "execution_count": null,
   "metadata": {
    "nbpresent": {
     "id": "3fc59bae-ce93-4ebc-a619-ecf446cbc7fc"
    }
   },
   "outputs": [],
   "source": [
    "break"
   ]
  },
  {
   "cell_type": "code",
   "execution_count": null,
   "metadata": {
    "nbpresent": {
     "id": "3c83d52e-c090-416e-bbd2-bdf3d8997db4"
    }
   },
   "outputs": [],
   "source": [
    "combo_df['n-Butane_WAS'][combo_df.G_ALT<h].max(), combo_df['n-Butane_WAS'].max(), nC4H10.max()"
   ]
  },
  {
   "cell_type": "code",
   "execution_count": null,
   "metadata": {
    "nbpresent": {
     "id": "457c210c-e83c-47de-a983-4b5c0094d8ba"
    },
    "scrolled": true
   },
   "outputs": [],
   "source": [
    "# plt.plot(combo_df['2-BuONO2_WAS'][:]); # ?"
   ]
  },
  {
   "cell_type": "code",
   "execution_count": null,
   "metadata": {
    "nbpresent": {
     "id": "ea22696c-239a-43e1-88b2-26e91187e59f"
    }
   },
   "outputs": [],
   "source": [
    "fig, ax = plt.subplots(figsize=(10, 10), subplot_kw=dict(projection=ccrs.Robinson(central_longitude=0, globe=None)), facecolor='w')\n",
    "ax.coastlines();\n",
    "bounds_nc4h10 = np.arange(0,3000,100)\n",
    "norm_nc4h10 = colors.BoundaryNorm(boundaries=bounds_nc4h10, ncolors=256)\n",
    "p = ax.contourf(cyclic_lons, ds.latitude, nC4H10, levels=bounds_nc4h10, transform=ccrs.PlateCarree());\n",
    "p1 = ax.scatter(combo_df.G_LONG[combo_df.G_ALT<h], combo_df.G_LAT[combo_df.G_ALT<h], c=combo_df['n-Butane_WAS'][combo_df.G_ALT<h], \n",
    "                norm=norm_nc4h10, cmap='viridis', edgecolors='k', linewidth=0.2, transform=ccrs.PlateCarree());\n",
    "ax.set_title('$nC_4H_{10}$ (n$-$Butane)\\nUKCA diagnostic 2015 annual mean level 1 (aw103a)\\nATom merge 1&2 all data below 2 km');\n",
    "fig.colorbar(p, shrink=0.4, label='pptv');\n",
    "# fig.colorbar(p1, shrink=0.4, label='ppt'); "
   ]
  },
  {
   "cell_type": "code",
   "execution_count": null,
   "metadata": {
    "nbpresent": {
     "id": "8ac9727a-3066-4731-9b37-bde47eba1a0d"
    }
   },
   "outputs": [],
   "source": []
  },
  {
   "cell_type": "code",
   "execution_count": null,
   "metadata": {
    "nbpresent": {
     "id": "9c0afb88-38bb-4d8b-bc12-e34173d3107b"
    }
   },
   "outputs": [],
   "source": []
  },
  {
   "cell_type": "code",
   "execution_count": null,
   "metadata": {
    "nbpresent": {
     "id": "1b203df8-be6e-4460-af69-6824f8511dab"
    }
   },
   "outputs": [],
   "source": []
  },
  {
   "cell_type": "code",
   "execution_count": null,
   "metadata": {
    "nbpresent": {
     "id": "9f5ed794-cc9f-45cc-9131-60b33f7e0baf"
    }
   },
   "outputs": [],
   "source": [
    "fig, ax = plt.subplots(figsize=(10, 10), subplot_kw=dict(projection=ccrs.Robinson(central_longitude=0, globe=None)), facecolor='w')\n",
    "ax.coastlines();\n",
    "p = ax.contourf(cyclic_lons, ds.latitude, nPeBONO2, transform=ccrs.PlateCarree());\n",
    "ax.set_title('$nPeBONO_2$ aw103a 2015 annual mean, level 1');\n",
    "fig.colorbar(p, shrink=0.4, label='ppt');"
   ]
  },
  {
   "cell_type": "code",
   "execution_count": null,
   "metadata": {
    "nbpresent": {
     "id": "fab40ce6-f147-4eef-85d4-9725f3577225"
    }
   },
   "outputs": [],
   "source": [
    "fig, ax = plt.subplots(figsize=(10, 10), subplot_kw=dict(projection=ccrs.Robinson(central_longitude=0, globe=None)), facecolor='w')\n",
    "ax.coastlines();\n",
    "p = ax.contourf(cyclic_lons, ds.latitude, iPeBONO2, transform=ccrs.PlateCarree());\n",
    "ax.set_title('$iPeBONO_2$ aw103a 2015 annual mean, level 1');\n",
    "fig.colorbar(p, shrink=0.4, label='ppt');"
   ]
  },
  {
   "cell_type": "code",
   "execution_count": null,
   "metadata": {
    "nbpresent": {
     "id": "ea739c6b-a651-4d31-aa43-90d8e025e042"
    }
   },
   "outputs": [],
   "source": [
    "fig, ax = plt.subplots(figsize=(10, 10), subplot_kw=dict(projection=ccrs.Robinson(central_longitude=0, globe=None)), facecolor='w')\n",
    "ax.coastlines();\n",
    "p = ax.contourf(cyclic_lons, ds.latitude, CO, levels=np.arange(0, 110, 10), transform=ccrs.PlateCarree());\n",
    "ax.set_title('CO\\nUKCA diagnostic 2015 annual mean level 1 (aw103a)');\n",
    "fig.colorbar(p, shrink=0.4, label='ppb');"
   ]
  },
  {
   "cell_type": "code",
   "execution_count": null,
   "metadata": {
    "nbpresent": {
     "id": "00ad96eb-18e1-4449-a7c7-6542fa1b8fe4"
    }
   },
   "outputs": [],
   "source": [
    "90/70"
   ]
  },
  {
   "cell_type": "code",
   "execution_count": null,
   "metadata": {
    "nbpresent": {
     "id": "f3ac480a-8421-4225-9ec5-93159ff1a88e"
    }
   },
   "outputs": [],
   "source": [
    "# fig, ax = plt.subplots(nrows=1, ncols=2, figsize=(15, 30), facecolor='w',\n",
    "#                        subplot_kw=dict(projection=ccrs.Robinson(central_longitude=0, globe=None)))\n",
    "# p0 = ax[0].contourf(cyclic_lons, ds.latitude, nBuONO2, transform=ccrs.PlateCarree());\n",
    "# p1 = ax[1].contourf(cyclic_lons, ds.latitude, sBuONO2, transform=ccrs.PlateCarree());\n",
    "# ax[0].set_title('$nBuONO_2$ aw103a 2015 annual mean, level 1');\n",
    "# ax[1].set_title('$sBuONO_2$ aw103a 2015 annual mean, level 1');\n",
    "# fig.colorbar(p0, shrink=0.1, label='pptv', ax=ax[0]);\n",
    "# fig.colorbar(p1, shrink=0.1, label='pptv', ax=ax[1]);\n",
    "# # common\n",
    "# ax[0].coastlines();\n",
    "# ax[1].coastlines();"
   ]
  }
 ],
 "metadata": {
  "anaconda-cloud": {},
  "kernelspec": {
   "display_name": "Python 3",
   "language": "python",
   "name": "python3"
  },
  "language_info": {
   "codemirror_mode": {
    "name": "ipython",
    "version": 3
   },
   "file_extension": ".py",
   "mimetype": "text/x-python",
   "name": "python",
   "nbconvert_exporter": "python",
   "pygments_lexer": "ipython3",
   "version": "3.6.5"
  }
 },
 "nbformat": 4,
 "nbformat_minor": 2
}
