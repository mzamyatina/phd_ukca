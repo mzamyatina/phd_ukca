{
 "cells": [
  {
   "cell_type": "code",
   "execution_count": 1,
   "metadata": {},
   "outputs": [],
   "source": [
    "import re\n",
    "import iris\n",
    "from pathlib import Path"
   ]
  },
  {
   "cell_type": "code",
   "execution_count": 2,
   "metadata": {},
   "outputs": [],
   "source": [
    "# Choose experiment\n",
    "exp = 'xmekm'\n",
    "path_to_ukca = Path(f'../data/{exp}')"
   ]
  },
  {
   "cell_type": "markdown",
   "metadata": {},
   "source": [
    "#### Determine file loading order"
   ]
  },
  {
   "cell_type": "code",
   "execution_count": 13,
   "metadata": {},
   "outputs": [],
   "source": [
    "mn_dict = {'jan': 1, 'feb': 2, 'mar': 3, 'apr': 4, 'may': 5, 'jun': 6, 'jul': 7, 'aug': 8, 'sep': 9, 'oct': 10, 'nov': 11, 'dec': 12}\n",
    "# Order first batch of files\n",
    "fdict_first_years = {}\n",
    "for f in sorted(path_to_ukca.glob(f'{exp}a.pmk*')):\n",
    "    x = re.search(r'\\.\\.\\/data\\/xmekm\\/xmekma\\.pmk(\\w+)', str(f)).group(1) # CHANGE EXP NAME MANUALLY\n",
    "    if x[1:] in mn_dict.keys():\n",
    "        fdict_first_years[f] = (int(x[0]), mn_dict.get(x[1:])) # (year, month number)\n",
    "flist_first_years = sorted(sorted(fdict_first_years.items(), key=lambda x : x[0]), key=lambda x : x[1])\n",
    "# Order second batch of files\n",
    "fdict_last_years = {}\n",
    "for f in sorted(path_to_ukca.glob(f'{exp}a.pml*')):\n",
    "    x = re.search(r'\\.\\.\\/data\\/xmekm\\/xmekma\\.pml(\\w+)', str(f)).group(1) # CHANGE EXP NAME MANUALLY\n",
    "    if x[1:] in mn_dict.keys():\n",
    "        fdict_last_years[f] = (int(x[0]), mn_dict.get(x[1:])) # (year, month number)\n",
    "flist_last_years = sorted(sorted(fdict_last_years.items(), key=lambda x : x[0]), key=lambda x : x[1])\n",
    "# Combine two file lists into one\n",
    "flist = []\n",
    "for f in flist_first_years+flist_last_years:\n",
    "    flist.append(str(f[0]))"
   ]
  },
  {
   "cell_type": "markdown",
   "metadata": {},
   "source": [
    "#### Sample and save data to .nc\n",
    "Takes a lot of time to process!"
   ]
  },
  {
   "cell_type": "code",
   "execution_count": 18,
   "metadata": {},
   "outputs": [
    {
     "name": "stderr",
     "output_type": "stream",
     "text": [
      "/local/mwe14avu/anaconda3/lib/python3.6/site-packages/iris/fileformats/rules.py:334: UserWarning: Unable to create instance of HybridHeightFactory. The source data contains no field(s) for 'orography'.\n",
      "  warnings.warn(msg.format(factory=factory_name))\n"
     ]
    }
   ],
   "source": [
    "# Sample selected variables\n",
    "cb_airmass = iris.load_cube(flist, iris.AttributeConstraint(STASH='m01s34i363'))\n",
    "cb_o3 = iris.load_cube(flist, 'mass_fraction_of_ozone_in_air')\n",
    "cb_ch4 = iris.load_cube(flist, 'mass_fraction_of_methane_in_air')\n",
    "cb_no = iris.load_cube(flist, 'mass_fraction_of_nitrogen_monoxide_in_air')\n",
    "cb_no2 = iris.load_cube(flist, 'mass_fraction_of_nitrogen_dioxide_in_air')\n",
    "cb_hno3 = iris.load_cube(flist, 'mass_fraction_of_nitric_acid_in_air')\n",
    "cb_pan = iris.load_cube(flist, 'mass_fraction_of_peroxyacetyl_nitrate_in_air')\n",
    "cb_ppan = iris.load_cube(flist, 'mass_fraction_of_peroxypropionyl_nitrate_in_air')\n",
    "# cb_meono2 = iris.load_cube(flist, 'mass_fraction_of_methyl_nitrate_in_air')\n",
    "# cb_etono2 = iris.load_cube(flist, 'mass_fraction_of_methyl_ethyl_ketone_in_air') # wrong name in metadata\n",
    "# cb_prono2 = iris.load_cube(flist, 'mass_fraction_of_toluene_in_air') # ditto"
   ]
  },
  {
   "cell_type": "code",
   "execution_count": 19,
   "metadata": {},
   "outputs": [],
   "source": [
    "# Save selected variables\n",
    "iris.save(cb_airmass, str(path_to_ukca)+f'/{exp}_airmass.nc')\n",
    "iris.save(cb_o3, str(path_to_ukca)+f'/{exp}_o3.nc')\n",
    "iris.save(cb_ch4, str(path_to_ukca)+f'/{exp}_ch4.nc')\n",
    "iris.save(cb_no, str(path_to_ukca)+f'/{exp}_no.nc')\n",
    "iris.save(cb_no2, str(path_to_ukca)+f'/{exp}_no2.nc')\n",
    "iris.save(cb_hno3, str(path_to_ukca)+f'/{exp}_hno3.nc')\n",
    "iris.save(cb_pan, str(path_to_ukca)+f'/{exp}_pan.nc')\n",
    "iris.save(cb_ppan, str(path_to_ukca)+f'/{exp}_ppan.nc')\n",
    "# iris.save(cb_meono2, str(path_to_ukca)+f'/{exp}_meono2.nc')\n",
    "# iris.save(cb_etono2, str(path_to_ukca)+f'/{exp}_etono2.nc')\n",
    "# iris.save(cb_prono2, str(path_to_ukca)+f'/{exp}_prono2.nc')"
   ]
  }
 ],
 "metadata": {
  "kernelspec": {
   "display_name": "Python 3",
   "language": "python",
   "name": "python3"
  },
  "language_info": {
   "codemirror_mode": {
    "name": "ipython",
    "version": 3
   },
   "file_extension": ".py",
   "mimetype": "text/x-python",
   "name": "python",
   "nbconvert_exporter": "python",
   "pygments_lexer": "ipython3",
   "version": "3.6.6"
  }
 },
 "nbformat": 4,
 "nbformat_minor": 2
}
