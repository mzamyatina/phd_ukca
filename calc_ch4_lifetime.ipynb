{
 "cells": [
  {
   "cell_type": "code",
   "execution_count": 1,
   "metadata": {},
   "outputs": [],
   "source": [
    "# Data processing\n",
    "import iris\n",
    "import numpy as np\n",
    "from pathlib import Path\n",
    "# Visualization\n",
    "import matplotlib.pyplot as plt\n",
    "plt.rcParams['mathtext.default'] = 'regular'\n",
    "# Constants\n",
    "air_molar_mass = 28.97 # [kg]\n",
    "coeff_o3 = (air_molar_mass/48.00)*1e9\n",
    "ch4_molar_mass = 16.043 # [g mol-1]"
   ]
  },
  {
   "cell_type": "code",
   "execution_count": 2,
   "metadata": {},
   "outputs": [],
   "source": [
    "# Choose experiment\n",
    "exp = 'xmeka'\n",
    "path_to_ukca = Path(f'../data/{exp}')\n",
    "# Load preprocessed variables\n",
    "o3 = iris.load_cube(str(path_to_ukca / f'{exp}_o3.nc')) # [kg kg-1]\n",
    "ch4 = iris.load_cube(str(path_to_ukca / f'{exp}_ch4.nc')) # [kg kg-1]\n",
    "ch4_oh = iris.load_cube(str(path_to_ukca / f'{exp}_ch4+oh.nc')) # [mol gridbox-1 s-1]\n",
    "air_mass = iris.load_cube(str(path_to_ukca)+f'/{exp}_airmass.nc') # [kg]\n",
    "# Path to figures\n",
    "path_to_figs = Path('../../../results') / exp / 'metrics'\n",
    "path_to_figs.mkdir(exist_ok=True)"
   ]
  },
  {
   "cell_type": "code",
   "execution_count": 3,
   "metadata": {},
   "outputs": [],
   "source": [
    "# Define chemical troposphere as one where ozone mixing ratio is < 120 ppbv\n",
    "chem_trop_mask = np.ma.masked_less(o3.data*coeff_o3, 120).mask"
   ]
  },
  {
   "cell_type": "code",
   "execution_count": 4,
   "metadata": {},
   "outputs": [
    {
     "name": "stderr",
     "output_type": "stream",
     "text": [
      "/local/mwe14avu/anaconda3/lib/python3.6/site-packages/iris/cube.py:3180: UserWarning: Collapsing spatial coordinate 'latitude' without weighting\n",
      "  warnings.warn(msg.format(coord.name()))\n",
      "/local/mwe14avu/anaconda3/lib/python3.6/site-packages/iris/coords.py:1355: UserWarning: Collapsing a non-contiguous coordinate. Metadata may not be fully descriptive for 'model_level_number'.\n",
      "  warnings.warn(msg.format(self.name()))\n",
      "/local/mwe14avu/anaconda3/lib/python3.6/site-packages/iris/coords.py:1355: UserWarning: Collapsing a non-contiguous coordinate. Metadata may not be fully descriptive for 'latitude'.\n",
      "  warnings.warn(msg.format(self.name()))\n",
      "/local/mwe14avu/anaconda3/lib/python3.6/site-packages/iris/coords.py:1355: UserWarning: Collapsing a non-contiguous coordinate. Metadata may not be fully descriptive for 'longitude'.\n",
      "  warnings.warn(msg.format(self.name()))\n"
     ]
    }
   ],
   "source": [
    "# Calculate tropospheric CH4 burden\n",
    "ch4_burden_trop = (ch4*air_mass*chem_trop_mask).collapsed(['longitude', 'latitude', 'level_height'], iris.analysis.SUM)\n",
    "# Calculate CH4+OH flux in the troposphere\n",
    "ch4_oh_trop = (ch4_oh*ch4_molar_mass*1e-3*chem_trop_mask).collapsed(['longitude', 'latitude', 'level_height'], iris.analysis.SUM)"
   ]
  },
  {
   "cell_type": "code",
   "execution_count": null,
   "metadata": {},
   "outputs": [],
   "source": [
    "plt.plot((ch4_burden_trop/ch4_oh_trop).data/(60*60*24*30*12));\n",
    "plt.title('Tropospheric $CH_4$ lifetime')\n",
    "plt.xlabel('Time, months')\n",
    "plt.ylabel('yr');\n",
    "plt.savefig(path_to_figs / f'{exp}_ch4_lifetime_trop.png');"
   ]
  },
  {
   "cell_type": "code",
   "execution_count": null,
   "metadata": {},
   "outputs": [],
   "source": [
    "plt.plot(ch4_burden_trop.data/1e9);\n",
    "plt.title('Tropospheric $CH_4$ burden')\n",
    "plt.xlabel('Time, months')\n",
    "plt.ylabel('Tg');\n",
    "plt.savefig(path_to_figs / f'{exp}_ch4_burden_trop.png');"
   ]
  },
  {
   "cell_type": "code",
   "execution_count": 7,
   "metadata": {},
   "outputs": [],
   "source": [
    "# Calculate annual mean CH4 burden\n",
    "annual_mean_ch4_burden_trop = ch4_burden_trop.data.reshape(4,12).mean(axis=1)\n",
    "annual_mean_ch4_burden_trop.mean()/1e9, annual_mean_ch4_burden_trop.std()/1e9"
   ]
  },
  {
   "cell_type": "code",
   "execution_count": 13,
   "metadata": {},
   "outputs": [],
   "source": [
    "# Calculate annual mean CH4 lifetime\n",
    "ch4_tau = (ch4_burden_trop/ch4_oh_trop).data/(60*60*24*30*12)"
   ]
  },
  {
   "cell_type": "code",
   "execution_count": 15,
   "metadata": {},
   "outputs": [
    {
     "data": {
      "text/plain": [
       "(26.566178094847842, 0.4256940950149118)"
      ]
     },
     "execution_count": 15,
     "metadata": {},
     "output_type": "execute_result"
    }
   ],
   "source": [
    "annual_mean_ch4_tau = ch4_tau.data.reshape(4,12).mean(axis=1)\n",
    "annual_mean_ch4_tau.mean(), annual_mean_ch4_tau.std()"
   ]
  },
  {
   "cell_type": "code",
   "execution_count": null,
   "metadata": {},
   "outputs": [],
   "source": [
    "# Define polar regions\n",
    "polar = iris.Constraint(latitude=lambda x: abs(x.point) > 70)"
   ]
  },
  {
   "cell_type": "code",
   "execution_count": null,
   "metadata": {},
   "outputs": [],
   "source": [
    "# Calculate tropospheric CH4 burden\n",
    "ch4_burden_trop_polar = (ch4*air_mass*chem_trop_mask).extract(polar).collapsed(['longitude', 'latitude', 'level_height'], iris.analysis.SUM)\n",
    "# Calculate CH4+OH flux in the troposphere\n",
    "ch4_oh_trop_polar = (ch4_oh*ch4_molar_mass*1e-3*chem_trop_mask).extract(polar).collapsed(['longitude', 'latitude', 'level_height'], iris.analysis.SUM)"
   ]
  },
  {
   "cell_type": "code",
   "execution_count": null,
   "metadata": {},
   "outputs": [],
   "source": [
    "plt.plot((ch4_burden_trop_polar/ch4_oh_trop_polar).data/(60*60*24*30*12))\n",
    "plt.title('$CH_4$ lifetime')\n",
    "plt.xlabel('Time, months')\n",
    "plt.ylabel('yr');"
   ]
  }
 ],
 "metadata": {
  "@deathbeds/jupyterlab-fonts": {
   "styles": {
    ":root": {
     "--jp-code-font-size": "12px"
    }
   }
  },
  "kernelspec": {
   "display_name": "Python 3",
   "language": "python",
   "name": "python3"
  },
  "language_info": {
   "codemirror_mode": {
    "name": "ipython",
    "version": 3
   },
   "file_extension": ".py",
   "mimetype": "text/x-python",
   "name": "python",
   "nbconvert_exporter": "python",
   "pygments_lexer": "ipython3",
   "version": "3.6.8"
  }
 },
 "nbformat": 4,
 "nbformat_minor": 2
}
