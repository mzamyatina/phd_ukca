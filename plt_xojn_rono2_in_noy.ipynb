{
 "cells": [
  {
   "cell_type": "code",
   "execution_count": 1,
   "metadata": {},
   "outputs": [],
   "source": [
    "# Data processing\n",
    "import iris\n",
    "import iris.analysis\n",
    "import iris.coord_categorisation\n",
    "import warnings\n",
    "warnings.filterwarnings('ignore', module='iris')\n",
    "import numpy as np\n",
    "from pathlib import Path\n",
    "# Visualization\n",
    "import cartopy.util\n",
    "import cartopy.crs as ccrs\n",
    "import matplotlib as mpl\n",
    "import matplotlib.pyplot as plt\n",
    "import matplotlib.colors as colors\n",
    "from matplotlib.ticker import FuncFormatter\n",
    "class MidpointNormalize(colors.Normalize):\n",
    "    def __init__(self, vmin=None, vmax=None, midpoint=None, clip=False):\n",
    "        self.midpoint = midpoint\n",
    "        colors.Normalize.__init__(self, vmin, vmax, clip)\n",
    "    def __call__(self, value, clip=None):\n",
    "        x, y = [self.vmin, self.midpoint, self.vmax], [0, 0.5, 1]\n",
    "        return np.ma.masked_array(np.interp(value, x, y))\n",
    "plt.rcParams['mathtext.default'] = 'regular'"
   ]
  },
  {
   "cell_type": "code",
   "execution_count": 2,
   "metadata": {},
   "outputs": [],
   "source": [
    "# CONSTANTS\n",
    "EXPS = {'BASE OLD':'xojnd',\n",
    "        'BASE'    :'xojng',\n",
    "        'CHEM'    :'xojnh',\n",
    "        'MARI'    :'xojni',\n",
    "        'FIRE'    :'xojnc',\n",
    "        'FULL'    :'xojnl'}"
   ]
  },
  {
   "cell_type": "code",
   "execution_count": 3,
   "metadata": {},
   "outputs": [],
   "source": [
    "def mmr_to_ppb(molar_mass, air_mass=28.97):\n",
    "    \"\"\"Convert gas molar mass to mole fraction in ppb.\"\"\"\n",
    "    return air_mass / molar_mass * 1e9"
   ]
  },
  {
   "cell_type": "code",
   "execution_count": 4,
   "metadata": {},
   "outputs": [],
   "source": [
    "VARS = {'no': {'tex': 'NO', 'molar_mass': 30.006, \"noy\": True},\n",
    " 'no2': {'tex': '$NO_2$', 'molar_mass': 46.006, \"noy\": True},\n",
    " 'hono': {'tex': 'HONO', 'molar_mass': 47.013, \"noy\": True},\n",
    " 'ho2no2': {'tex': '$HO_2NO_2$', 'molar_mass': 79.01224, \"noy\": True},\n",
    " 'hno3': {'tex': '$HNO_3$', 'molar_mass': 63.012, \"noy\": True},\n",
    " 'n2o5': {'tex': 'N_2O_5', 'molar_mass': 108.01, \"noy\": True},\n",
    " 'pan': {'tex': 'PAN', 'molar_mass': 121.0489, \"noy\": True},\n",
    " 'ppan': {'tex': 'PPN', 'molar_mass': 135.0755, \"noy\": True},\n",
    " 'meono2': {'tex': '$MeONO_2$', 'molar_mass': 77.0394, \"noy\": True},\n",
    " 'etono2': {'tex': '$EtONO_2$', 'molar_mass': 91.066, \"noy\": True},\n",
    " 'nprono2': {'tex': '$nPrONO_2$', 'molar_mass': 105.0926, \"noy\": True},\n",
    " 'iprono2': {'tex': '$iPrONO_2$', 'molar_mass': 105.0926, \"noy\": True},\n",
    " 'nox': {'tex': '$NO_x$',\"noy\": False},\n",
    " 'noy': {'tex': '$NO_y$',\"noy\": False},\n",
    "'ch4':{\"tex\": '$CH_4$', \"molar_mass\": 16.0425,\"noy\": False},\n",
    "       'o3':{\"tex\": '$O_3$', \"molar_mass\": 47.997, \"noy\": False},\n",
    "\n",
    "       }\n",
    "\n",
    "for k, v in VARS.items():\n",
    "    try:\n",
    "        VARS[k][\"mmr_to_ppb\"] = mmr_to_ppb(VARS[k][\"molar_mass\"])\n",
    "    except KeyError:\n",
    "        pass"
   ]
  },
  {
   "cell_type": "code",
   "execution_count": 5,
   "metadata": {},
   "outputs": [],
   "source": [
    "# Choose experiments\n",
    "base_exp_name = 'BASE'\n",
    "sens_exp_name = 'MARI'"
   ]
  },
  {
   "cell_type": "code",
   "execution_count": 6,
   "metadata": {},
   "outputs": [],
   "source": [
    "# Read data\n",
    "path_to_ukca = Path.cwd().parent / 'raw'\n",
    "base_cl = iris.cube.CubeList()\n",
    "sens_cl = iris.cube.CubeList()\n",
    "for ivar, vardict in VARS.items():\n",
    "    if vardict[\"noy\"]:\n",
    "        base_cb = iris.load_cube(str(path_to_ukca / EXPS[base_exp_name] / f'{EXPS[base_exp_name]}_{ivar}.nc'), f'{ivar}')*VARS[ivar]['mmr_to_ppb']\n",
    "        sens_cb = iris.load_cube(str(path_to_ukca / EXPS[sens_exp_name] / f'{EXPS[sens_exp_name]}_{ivar}.nc'), f'{ivar}')*VARS[ivar]['mmr_to_ppb']\n",
    "        base_cb.rename(ivar)\n",
    "        sens_cb.rename(ivar)\n",
    "        base_cb_trimmed = base_cb[24::,...] # remove the first 2 years as a spin up\n",
    "        sens_cb_trimmed = sens_cb[24::,...]\n",
    "        iris.coord_categorisation.add_season(base_cb_trimmed, 'time', name='season')\n",
    "        iris.coord_categorisation.add_season_year(sens_cb_trimmed, 'time', name='year')\n",
    "        base_cl.append(base_cb_trimmed)\n",
    "        sens_cl.append(sens_cb_trimmed)\n",
    "# Horizontal grid\n",
    "lons = base_cb.coord('longitude').points\n",
    "lats = base_cb.coord('latitude').points"
   ]
  },
  {
   "cell_type": "code",
   "execution_count": 11,
   "metadata": {},
   "outputs": [],
   "source": [
    "# Calculate NOy and RONO2\n",
    "base_noy = base_cl[0].copy()\n",
    "for cube in base_cl[1:]:\n",
    "    base_noy += cube\n",
    "base_noy.rename('noy')\n",
    "\n",
    "rono2_cubes = base_cl.extract(['meono2', 'etono2', 'nprono2', 'iprono2'])\n",
    "base_rono2 = rono2_cubes[0].copy()\n",
    "for cube in rono2_cubes[1:]:\n",
    "    base_rono2 += cube\n",
    "base_rono2.rename('rono2')"
   ]
  },
  {
   "cell_type": "code",
   "execution_count": null,
   "metadata": {},
   "outputs": [],
   "source": []
  },
  {
   "cell_type": "code",
   "execution_count": null,
   "metadata": {},
   "outputs": [],
   "source": []
  },
  {
   "cell_type": "code",
   "execution_count": null,
   "metadata": {},
   "outputs": [],
   "source": [
    "# Extract time series of boundary layer (0-2 km) seasonal means\n",
    "rno3_bl_djf = (rno3.extract(iris.Constraint(season='djf')).aggregated_by(['year', 'season'], iris.analysis.MEAN)[:,0:10,...]).collapsed('level_height', iris.analysis.MEAN)\n",
    "rno3_bl_mam = (rno3.extract(iris.Constraint(season='mam')).aggregated_by(['year', 'season'], iris.analysis.MEAN)[:,0:10,...]).collapsed('level_height', iris.analysis.MEAN)\n",
    "rno3_bl_jja = (rno3.extract(iris.Constraint(season='jja')).aggregated_by(['year', 'season'], iris.analysis.MEAN)[:,0:10,...]).collapsed('level_height', iris.analysis.MEAN)\n",
    "rno3_bl_son = (rno3.extract(iris.Constraint(season='son')).aggregated_by(['year', 'season'], iris.analysis.MEAN)[:,0:10,...]).collapsed('level_height', iris.analysis.MEAN)\n",
    "# Calculate boundary layer seasonal means\n",
    "rno3_bl_djf_mean = rno3_bl_djf.collapsed('year', iris.analysis.MEAN)\n",
    "rno3_bl_mam_mean = rno3_bl_mam.collapsed('year', iris.analysis.MEAN)\n",
    "rno3_bl_jja_mean = rno3_bl_jja.collapsed('year', iris.analysis.MEAN)\n",
    "rno3_bl_son_mean = rno3_bl_son.collapsed('year', iris.analysis.MEAN)\n",
    "# Add cyclic point for plotting on a global map\n",
    "cyc_rno3_bl_djf_mean, cyclic_lons = cartopy.util.add_cyclic_point(rno3_bl_djf_mean.data, coord=rno3_bl_djf_mean.coord('longitude').points)\n",
    "cyc_rno3_bl_mam_mean = cartopy.util.add_cyclic_point(rno3_bl_mam_mean.data)\n",
    "cyc_rno3_bl_jja_mean = cartopy.util.add_cyclic_point(rno3_bl_jja_mean.data)\n",
    "cyc_rno3_bl_son_mean = cartopy.util.add_cyclic_point(rno3_bl_son_mean.data)\n",
    "# Find max boundary layer seasonal mean\n",
    "print(np.max(rno3_bl_djf_mean.data)*1e3)\n",
    "print(np.max(rno3_bl_mam_mean.data)*1e3)\n",
    "print(np.max(rno3_bl_jja_mean.data)*1e3)\n",
    "print(np.max(rno3_bl_son_mean.data)*1e3)\n",
    "# rno3_mean_cf_kwargs = dict(transform=ccrs.PlateCarree(), levels=np.arange(0,110,10))"
   ]
  },
  {
   "cell_type": "code",
   "execution_count": null,
   "metadata": {},
   "outputs": [],
   "source": [
    "fig, ax = plt.subplots(nrows=4, ncols=2, figsize=(12,12), subplot_kw=dict(projection=ccrs.Robinson(central_longitude=0)), facecolor='w')\n",
    "p00 = ax[0,0].contourf(cyclic_lons, lats, cyc_sens_bl_djf_mean.data, transform=ccrs.PlateCarree())\n",
    "ax[1,0].contourf(cyclic_lons, lats, cyc_sens_bl_mam_mean.data, transform=ccrs.PlateCarree())\n",
    "ax[2,0].contourf(cyclic_lons, lats, cyc_sens_bl_jja_mean.data, transform=ccrs.PlateCarree())\n",
    "ax[3,0].contourf(cyclic_lons, lats, cyc_sens_bl_son_mean.data, transform=ccrs.PlateCarree())\n",
    "\n",
    "p01 = ax[0,1].contourf(cyclic_lons, lats, cyc_rno3_bl_djf_mean.data*100/cyc_sens_bl_djf_mean.data, transform=ccrs.PlateCarree(), levels=np.arange(0,110,10))\n",
    "ax[1,1].contourf(cyclic_lons, lats, cyc_rno3_bl_mam_mean.data*100/cyc_sens_bl_mam_mean.data, transform=ccrs.PlateCarree(), levels=np.arange(0,110,10))\n",
    "ax[2,1].contourf(cyclic_lons, lats, cyc_rno3_bl_jja_mean.data*100/cyc_sens_bl_jja_mean.data, transform=ccrs.PlateCarree(), levels=np.arange(0,110,10))\n",
    "ax[3,1].contourf(cyclic_lons, lats, cyc_rno3_bl_son_mean.data*100/cyc_sens_bl_son_mean.data, transform=ccrs.PlateCarree(), levels=np.arange(0,110,10))\n",
    "\n",
    "p01x = ax[0,1].contour(lons, lats, rno3_bl_djf_mean.data*100/sens_bl_djf_mean.data, transform=ccrs.PlateCarree(), levels=[10,50,80], colors='w')\n",
    "p11x = ax[1,1].contour(lons, lats, rno3_bl_mam_mean.data*100/sens_bl_mam_mean.data, transform=ccrs.PlateCarree(), levels=[10,50,80], colors='w')\n",
    "p21x = ax[2,1].contour(lons, lats, rno3_bl_jja_mean.data*100/sens_bl_jja_mean.data, transform=ccrs.PlateCarree(), levels=[10,50,80], colors='w')\n",
    "p31x = ax[3,1].contour(lons, lats, rno3_bl_son_mean.data*100/sens_bl_son_mean.data, transform=ccrs.PlateCarree(), levels=[10,50,80], colors='w')\n",
    "ax[0,1].clabel(p01x, inline=1, fmt='%1.0f')\n",
    "ax[1,1].clabel(p11x, inline=1, fmt='%1.0f')\n",
    "ax[2,1].clabel(p21x, inline=1, fmt='%1.0f')\n",
    "ax[3,1].clabel(p31x, inline=1, fmt='%1.0f')\n",
    "\n",
    "fig.subplots_adjust(hspace=0.1, wspace=-0.1)\n",
    "cax00 = fig.add_axes([0.215, 0.1, 0.23, 0.01])\n",
    "fig.colorbar(p00, cax=cax00, orientation='horizontal', label='$NO_y$, ppbv')\n",
    "cax01 = fig.add_axes([0.58, 0.1, 0.23, 0.01])\n",
    "fig.colorbar(p01, cax=cax01, orientation='horizontal', label='$\\sum$$C_1$-$C_3$ $RONO_2$ % of $NO_y$')\n",
    "fig.suptitle(f'Boundary layer (0-2 km)\\n{sens_exp}', y=0.92, weight='bold')\n",
    "for iax in ax.flatten(): iax.coastlines(color='k')"
   ]
  },
  {
   "cell_type": "code",
   "execution_count": null,
   "metadata": {},
   "outputs": [],
   "source": []
  }
 ],
 "metadata": {
  "kernelspec": {
   "display_name": "Python 3",
   "language": "python",
   "name": "python3"
  },
  "language_info": {
   "codemirror_mode": {
    "name": "ipython",
    "version": 3
   },
   "file_extension": ".py",
   "mimetype": "text/x-python",
   "name": "python",
   "nbconvert_exporter": "python",
   "pygments_lexer": "ipython3",
   "version": "3.7.6"
  }
 },
 "nbformat": 4,
 "nbformat_minor": 4
}
