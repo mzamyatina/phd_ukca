{
 "cells": [
  {
   "cell_type": "code",
   "execution_count": null,
   "metadata": {
    "nbpresent": {
     "id": "46246386-fec1-4d42-bf10-698a4054dbda"
    }
   },
   "outputs": [],
   "source": [
    "# Data processing\n",
    "import iris\n",
    "import numpy as np\n",
    "import xarray as xr\n",
    "import timeit\n",
    "import dateutil.parser\n",
    "import warnings\n",
    "warnings.filterwarnings('ignore', module='iris')\n",
    "from iris.experimental import stratify\n",
    "from iris.analysis import trajectory\n",
    "from pathlib import Path\n",
    "from datetime import datetime, timedelta\n",
    "# Visualization\n",
    "import matplotlib.pyplot as plt\n",
    "## Scientific parameters\n",
    "M_air = 28.97 # molar mass of dry air [kg]\n",
    "# Coefficients to convert mass mixing ratio to volume mixing ratio\n",
    "coeff_c2h6 = (M_air/30.0690)*1e12\n",
    "coeff_c3h8 = (M_air/44.0956)*1e12\n",
    "coeff_nc4h10 = (M_air/58.1222)*1e12\n",
    "coeff_ic4h10 = (M_air/58.1222)*1e12\n",
    "coeff_nc5h12 = (M_air/72.1488)*1e12\n",
    "coeff_ic5h12 = (M_air/72.1488)*1e12\n",
    "coeff_meono2 = (M_air/77.0394)*1e12\n",
    "coeff_sbuono2 = (M_air/119.1192)*1e12\n",
    "coeff_n2peono2 = (M_air/133.1457)*1e12\n",
    "coeff_n3peono2 = (M_air/133.1457)*1e12\n",
    "coeff_ipeono2 = (M_air/133.1457)*1e12"
   ]
  },
  {
   "cell_type": "markdown",
   "metadata": {},
   "source": [
    "#### Read data"
   ]
  },
  {
   "cell_type": "code",
   "execution_count": null,
   "metadata": {},
   "outputs": [],
   "source": [
    "path_to_atom = Path('../../external_data/ATom/nc/data')\n",
    "# Select flights\n",
    "flist_atom_flights = ['MER-WAS_DC8_20170218_R8.nc', 'MER-WAS_DC8_20170219_R7.nc', 'MER-WAS_DC8_20170221_R8.nc']\n",
    "fpaths_atom_flights = [path_to_atom / i for i in flist_atom_flights]\n",
    "# Read ATom data\n",
    "atom_dsinf = xr.open_mfdataset(fpaths_atom_flights, decode_times=True)\n",
    "atom_dsmms = xr.open_mfdataset(fpaths_atom_flights, group='MMS', decode_cf=True)\n",
    "atom_dswas = xr.open_mfdataset(fpaths_atom_flights, group='WAS', decode_cf=True)"
   ]
  },
  {
   "cell_type": "code",
   "execution_count": null,
   "metadata": {
    "nbpresent": {
     "id": "5bf220d9-75c8-489e-81fb-58c0a9a4f83d"
    }
   },
   "outputs": [],
   "source": [
    "# Choose UKCA run parameters\n",
    "ukca_run_name = 'ba897'; ukca_run_freq = 'T1H'; ukca_run_mnth = '201702'; lvs = 'thlevs'\n",
    "\n",
    "path_to_ukca = Path('../data') / ukca_run_name\n",
    "fname_ukca_run = f'{ukca_run_name}_{ukca_run_freq}_{ukca_run_mnth}_{lvs}.nc'\n",
    "# Read UKCA data\n",
    "_cb_c2h6 = iris.load_cube(str(path_to_ukca / fname_ukca_run), 'C2H6 MASS MIXING RATIO AFTER TSTEP')*coeff_c2h6\n",
    "_cb_c3h8 = iris.load_cube(str(path_to_ukca / fname_ukca_run), 'C3H8 MASS MIXING RATIO AFTER TSTEP')*coeff_c3h8\n",
    "_cb_nc4h10 = iris.load_cube(str(path_to_ukca / fname_ukca_run), 'n-C4H10 MASS MIXING RATIO AFTER TS')*coeff_nc4h10\n",
    "_cb_ic4h10 = iris.load_cube(str(path_to_ukca / fname_ukca_run), 'i-C4H10 MASS MIXING RATIO AFTER TS')*coeff_ic4h10\n",
    "_cb_nc5h12 = iris.load_cube(str(path_to_ukca / fname_ukca_run), 'n-C5H12 MASS MIXING RATIO AFTER TS')*coeff_nc5h12\n",
    "_cb_ic5h12 = iris.load_cube(str(path_to_ukca / fname_ukca_run), 'i-C5H12 MASS MIXING RATIO AFTER TS')*coeff_ic5h12\n",
    "_cb_meono2 = iris.load_cube(str(path_to_ukca / fname_ukca_run), 'MeONO2 MASS MIXING RATIO AFTER TSTEP')*coeff_meono2\n",
    "_cb_sbuono2 = iris.load_cube(str(path_to_ukca / fname_ukca_run), 's-BuONO2 MASS MIXING RATIO AFTER TS')*coeff_sbuono2\n",
    "_cb_n2peono2 = iris.load_cube(str(path_to_ukca / fname_ukca_run), 'n-2PeONO2 MASS MIXING RATIO AFTER TS')*coeff_n2peono2\n",
    "_cb_n3peono2 = iris.load_cube(str(path_to_ukca / fname_ukca_run), 'n-3PeONO2 MASS MIXING RATIO AFTER TS')*coeff_n3peono2\n",
    "_cb_ipeono2 = iris.load_cube(str(path_to_ukca / fname_ukca_run), 'i-PeONO2 MASS MIXING RATIO AFTER TS')*coeff_ipeono2\n",
    "# Extract needed longitude range (ba897 run extends further east than ba083 to allow comparison with ACSIS flights)\n",
    "cb_c2h6 = _cb_c2h6.extract(iris.Constraint(longitude=lambda cell: 199.6875 <= cell <= 351.5625))\n",
    "cb_c3h8 = _cb_c3h8.extract(iris.Constraint(longitude=lambda cell: 199.6875 <= cell <= 351.5625))\n",
    "cb_nc4h10 = _cb_nc4h10.extract(iris.Constraint(longitude=lambda cell: 199.6875 <= cell <= 351.5625))\n",
    "cb_ic4h10 = _cb_ic4h10.extract(iris.Constraint(longitude=lambda cell: 199.6875 <= cell <= 351.5625))\n",
    "cb_nc5h12 = _cb_nc5h12.extract(iris.Constraint(longitude=lambda cell: 199.6875 <= cell <= 351.5625))\n",
    "cb_ic5h12 = _cb_ic5h12.extract(iris.Constraint(longitude=lambda cell: 199.6875 <= cell <= 351.5625))\n",
    "cb_meono2 = _cb_meono2.extract(iris.Constraint(longitude=lambda cell: 199.6875 <= cell <= 351.5625))\n",
    "cb_sbuono2 = _cb_sbuono2.extract(iris.Constraint(longitude=lambda cell: 199.6875 <= cell <= 351.5625))\n",
    "cb_n2peono2 = _cb_n2peono2.extract(iris.Constraint(longitude=lambda cell: 199.6875 <= cell <= 351.5625))\n",
    "cb_n3peono2 = _cb_n3peono2.extract(iris.Constraint(longitude=lambda cell: 199.6875 <= cell <= 351.5625))\n",
    "cb_ipeono2 = _cb_ipeono2.extract(iris.Constraint(longitude=lambda cell: 199.6875 <= cell <= 351.5625))\n",
    "# Load altitude coordinate of UKCA's global domain\n",
    "_alt_coord = iris.load_cube(str(Path('../data')/'ukca_coords_n96e_marcus_180705.nc'),'mass_fraction_of_ozone_in_air').coord('altitude')"
   ]
  },
  {
   "cell_type": "code",
   "execution_count": null,
   "metadata": {},
   "outputs": [],
   "source": [
    "# Extract datetimes from ATom and UKCA data\n",
    "atom_datetime = atom_dsinf.time.values.astype('<M8[us]').astype(datetime)\n",
    "atom_date_strt = atom_datetime[0]\n",
    "atom_date_stop = atom_datetime[-1]\n",
    "ukca_days_since = dateutil.parser.parse(str(cb_nc4h10.coord('t').units)[11:])\n",
    "_ukca_datetime = []\n",
    "for i, ii in enumerate(list(cb_nc4h10.coord('t').points)):\n",
    "    _ukca_datetime.append(ukca_days_since + timedelta(days=float(f'{ii:1.3f}'))) # UKCA's 'days since 1960-09-01' format is 1.3f\n",
    "ukca_datetime = np.array(_ukca_datetime, dtype=datetime)\n",
    "# Create a common timestamp/flight merge identifier for trajectories\n",
    "compared_common_id = f'{atom_date_strt.strftime(\"%y%m%d\")}_{atom_date_stop.strftime(\"%y%m%d\")}_{ukca_datetime[0].strftime(\"%y%m\")}_merge_zlvs'\n",
    "print(compared_common_id)"
   ]
  },
  {
   "cell_type": "markdown",
   "metadata": {},
   "source": [
    "#### Process data\n",
    "##### 1. Relevel model data from hybrid height to absolute height "
   ]
  },
  {
   "cell_type": "code",
   "execution_count": null,
   "metadata": {},
   "outputs": [],
   "source": [
    "# Manually select a part of global UKCA domain of altitudes to match current UKCA run\n",
    "alt_coord = _alt_coord[0:44,84:144,106:-4]\n",
    "# Add altitude coordinate to the cube with model data\n",
    "cb_c2h6.add_aux_coord(alt_coord, data_dims=[1,2,3])\n",
    "cb_c3h8.add_aux_coord(alt_coord, data_dims=[1,2,3])\n",
    "cb_nc4h10.add_aux_coord(alt_coord, data_dims=[1,2,3])\n",
    "cb_ic4h10.add_aux_coord(alt_coord, data_dims=[1,2,3])\n",
    "cb_nc5h12.add_aux_coord(alt_coord, data_dims=[1,2,3])\n",
    "cb_ic5h12.add_aux_coord(alt_coord, data_dims=[1,2,3])\n",
    "cb_meono2.add_aux_coord(alt_coord, data_dims=[1,2,3])\n",
    "cb_sbuono2.add_aux_coord(alt_coord, data_dims=[1,2,3])\n",
    "cb_n2peono2.add_aux_coord(alt_coord, data_dims=[1,2,3])\n",
    "cb_n3peono2.add_aux_coord(alt_coord, data_dims=[1,2,3])\n",
    "cb_ipeono2.add_aux_coord(alt_coord, data_dims=[1,2,3])"
   ]
  },
  {
   "cell_type": "markdown",
   "metadata": {},
   "source": [
    "Warning: compute one variable at a time to avoid 'frozen' kernel"
   ]
  },
  {
   "cell_type": "code",
   "execution_count": null,
   "metadata": {},
   "outputs": [],
   "source": [
    "# Relevel model data from hybrid height to target levels\n",
    "tgt_levels = np.arange(0, 14000, 100) # [meters]\n",
    "cbr_c2h6 = stratify.relevel(cb_c2h6, alt_coord, tgt_levels, axis='Hybrid height')\n",
    "cbr_c3h8 = stratify.relevel(cb_c3h8, alt_coord, tgt_levels, axis='Hybrid height')\n",
    "cbr_nc4h10 = stratify.relevel(cb_nc4h10, alt_coord, tgt_levels, axis='Hybrid height')\n",
    "cbr_ic4h10 = stratify.relevel(cb_ic4h10, alt_coord, tgt_levels, axis='Hybrid height')\n",
    "cbr_nc5h12 = stratify.relevel(cb_nc5h12, alt_coord, tgt_levels, axis='Hybrid height')\n",
    "cbr_ic5h12 = stratify.relevel(cb_ic5h12, alt_coord, tgt_levels, axis='Hybrid height')\n",
    "cbr_meono2 = stratify.relevel(cb_meono2, alt_coord, tgt_levels, axis='Hybrid height')\n",
    "cbr_sbuono2 = stratify.relevel(cb_sbuono2, alt_coord, tgt_levels, axis='Hybrid height')\n",
    "cbr_n2peono2 = stratify.relevel(cb_n2peono2, alt_coord, tgt_levels, axis='Hybrid height')\n",
    "cbr_n3peono2 = stratify.relevel(cb_n3peono2, alt_coord, tgt_levels, axis='Hybrid height')\n",
    "cbr_ipeono2 = stratify.relevel(cb_ipeono2, alt_coord, tgt_levels, axis='Hybrid height')"
   ]
  },
  {
   "cell_type": "markdown",
   "metadata": {},
   "source": [
    "##### 2. Calculate trajectories"
   ]
  },
  {
   "cell_type": "code",
   "execution_count": null,
   "metadata": {},
   "outputs": [],
   "source": [
    "# Reconstruct a flight trajectory from ATom geospacial and datetime data\n",
    "sample_time = np.array([(i - ukca_days_since).total_seconds() / 86400. for i in atom_datetime])\n",
    "sample_lats = atom_dsmms.G_LAT.data \n",
    "sample_lons = atom_dsmms.G_LONG.data+360\n",
    "sample_alts = atom_dsmms.G_ALT.data\n",
    "sample_time_lats_lons_alts = [('t', sample_time), ('latitude', sample_lats), ('longitude', sample_lons), ('altitude', sample_alts)]"
   ]
  },
  {
   "cell_type": "code",
   "execution_count": null,
   "metadata": {},
   "outputs": [],
   "source": [
    "start_time = timeit.default_timer()\n",
    "# Interpolate releveled model data to flight trajectory\n",
    "traj_c2h6 = trajectory.interpolate(cbr_c2h6, sample_time_lats_lons_alts)\n",
    "traj_c3h8 = trajectory.interpolate(cbr_c3h8, sample_time_lats_lons_alts)\n",
    "traj_nc4h10 = trajectory.interpolate(cbr_nc4h10, sample_time_lats_lons_alts)\n",
    "traj_ic4h10 = trajectory.interpolate(cbr_ic4h10, sample_time_lats_lons_alts)\n",
    "traj_nc5h12 = trajectory.interpolate(cbr_nc5h12, sample_time_lats_lons_alts)\n",
    "traj_ic5h12 = trajectory.interpolate(cbr_ic5h12, sample_time_lats_lons_alts)\n",
    "traj_meono2 = trajectory.interpolate(cbr_meono2, sample_time_lats_lons_alts)\n",
    "traj_sbuono2 = trajectory.interpolate(cbr_sbuono2, sample_time_lats_lons_alts)\n",
    "traj_n2peono2 = trajectory.interpolate(cbr_n2peono2, sample_time_lats_lons_alts)\n",
    "traj_n3peono2 = trajectory.interpolate(cbr_n3peono2, sample_time_lats_lons_alts)\n",
    "traj_ipeono2 = trajectory.interpolate(cbr_ipeono2, sample_time_lats_lons_alts)\n",
    "elapsed = timeit.default_timer() - start_time\n",
    "elapsed/60"
   ]
  },
  {
   "cell_type": "markdown",
   "metadata": {},
   "source": [
    "##### 3. Extract cross sections"
   ]
  },
  {
   "cell_type": "code",
   "execution_count": null,
   "metadata": {},
   "outputs": [],
   "source": [
    "# Extract a cross section from model data along flight track\n",
    "sample_time_lats_lons = [('t', sample_time), ('latitude', sample_lats), ('longitude', sample_lons)]\n",
    "crsc_c2h6 = trajectory.interpolate(cbr_c2h6, sample_time_lats_lons)\n",
    "crsc_c3h8 = trajectory.interpolate(cbr_c3h8, sample_time_lats_lons)\n",
    "crsc_nc4h10 = trajectory.interpolate(cbr_nc4h10, sample_time_lats_lons)\n",
    "crsc_ic4h10 = trajectory.interpolate(cbr_ic4h10, sample_time_lats_lons)\n",
    "crsc_nc5h12 = trajectory.interpolate(cbr_nc5h12, sample_time_lats_lons)\n",
    "crsc_ic5h12 = trajectory.interpolate(cbr_ic5h12, sample_time_lats_lons)\n",
    "crsc_meono2 = trajectory.interpolate(cbr_meono2, sample_time_lats_lons)\n",
    "crsc_sbuono2 = trajectory.interpolate(cbr_sbuono2, sample_time_lats_lons)\n",
    "crsc_n2peono2 = trajectory.interpolate(cbr_n2peono2, sample_time_lats_lons)\n",
    "crsc_n3peono2 = trajectory.interpolate(cbr_n3peono2, sample_time_lats_lons)\n",
    "crsc_ipeono2 = trajectory.interpolate(cbr_ipeono2, sample_time_lats_lons)"
   ]
  },
  {
   "cell_type": "markdown",
   "metadata": {},
   "source": [
    "#### Save processed data"
   ]
  },
  {
   "cell_type": "code",
   "execution_count": null,
   "metadata": {},
   "outputs": [],
   "source": [
    "path_to_prcd = Path('../processed') / ukca_run_name"
   ]
  },
  {
   "cell_type": "code",
   "execution_count": null,
   "metadata": {},
   "outputs": [],
   "source": [
    "# Save trajectories to .nc\n",
    "iris.save(traj_c2h6, str(path_to_prcd)+f'/{ukca_run_name}_{compared_common_id}_traj_c2h6.nc')\n",
    "iris.save(traj_c3h8, str(path_to_prcd)+f'/{ukca_run_name}_{compared_common_id}_traj_c3h8.nc')\n",
    "iris.save(traj_nc4h10, str(path_to_prcd)+f'/{ukca_run_name}_{compared_common_id}_traj_nc4h10.nc')\n",
    "iris.save(traj_ic4h10, str(path_to_prcd)+f'/{ukca_run_name}_{compared_common_id}_traj_ic4h10.nc')\n",
    "iris.save(traj_nc5h12, str(path_to_prcd)+f'/{ukca_run_name}_{compared_common_id}_traj_nc5h12.nc')\n",
    "iris.save(traj_ic5h12, str(path_to_prcd)+f'/{ukca_run_name}_{compared_common_id}_traj_ic5h12.nc')\n",
    "iris.save(traj_meono2, str(path_to_prcd)+f'/{ukca_run_name}_{compared_common_id}_traj_meono2.nc')\n",
    "iris.save(traj_sbuono2, str(path_to_prcd)+f'/{ukca_run_name}_{compared_common_id}_traj_sbuono2.nc')\n",
    "iris.save(traj_n2peono2, str(path_to_prcd)+f'/{ukca_run_name}_{compared_common_id}_traj_n2peono2.nc')\n",
    "iris.save(traj_n3peono2, str(path_to_prcd)+f'/{ukca_run_name}_{compared_common_id}_traj_n3peono2.nc')\n",
    "iris.save(traj_ipeono2, str(path_to_prcd)+f'/{ukca_run_name}_{compared_common_id}_traj_ipeono2.nc')"
   ]
  },
  {
   "cell_type": "code",
   "execution_count": null,
   "metadata": {},
   "outputs": [],
   "source": [
    "# Save cross sections to .nc\n",
    "iris.save(crsc_c2h6, str(path_to_prcd)+f'/{ukca_run_name}_{compared_common_id}_crsc_c2h6.nc')\n",
    "iris.save(crsc_c3h8, str(path_to_prcd)+f'/{ukca_run_name}_{compared_common_id}_crsc_c3h8.nc')\n",
    "iris.save(crsc_nc4h10, str(path_to_prcd)+f'/{ukca_run_name}_{compared_common_id}_crsc_nc4h10.nc')\n",
    "iris.save(crsc_ic4h10, str(path_to_prcd)+f'/{ukca_run_name}_{compared_common_id}_crsc_ic4h10.nc')\n",
    "iris.save(crsc_nc5h12, str(path_to_prcd)+f'/{ukca_run_name}_{compared_common_id}_crsc_nc5h12.nc')\n",
    "iris.save(crsc_ic5h12, str(path_to_prcd)+f'/{ukca_run_name}_{compared_common_id}_crsc_ic5h12.nc')\n",
    "iris.save(crsc_meono2, str(path_to_prcd)+f'/{ukca_run_name}_{compared_common_id}_crsc_meono2.nc')\n",
    "iris.save(crsc_sbuono2, str(path_to_prcd)+f'/{ukca_run_name}_{compared_common_id}_crsc_sbuono2.nc')\n",
    "iris.save(crsc_n2peono2, str(path_to_prcd)+f'/{ukca_run_name}_{compared_common_id}_crsc_n2peono2.nc')\n",
    "iris.save(crsc_n3peono2, str(path_to_prcd)+f'/{ukca_run_name}_{compared_common_id}_crsc_n3peono2.nc')\n",
    "iris.save(crsc_ipeono2, str(path_to_prcd)+f'/{ukca_run_name}_{compared_common_id}_crsc_ipeono2.nc')"
   ]
  }
 ],
 "metadata": {
  "anaconda-cloud": {},
  "kernelspec": {
   "display_name": "Python [default]",
   "language": "python",
   "name": "python3"
  },
  "language_info": {
   "codemirror_mode": {
    "name": "ipython",
    "version": 3
   },
   "file_extension": ".py",
   "mimetype": "text/x-python",
   "name": "python",
   "nbconvert_exporter": "python",
   "pygments_lexer": "ipython3",
   "version": "3.6.5"
  }
 },
 "nbformat": 4,
 "nbformat_minor": 2
}
