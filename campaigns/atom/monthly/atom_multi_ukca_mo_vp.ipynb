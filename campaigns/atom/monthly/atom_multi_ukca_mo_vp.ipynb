{
 "cells": [
  {
   "cell_type": "code",
   "execution_count": 117,
   "metadata": {
    "nbpresent": {
     "id": "46246386-fec1-4d42-bf10-698a4054dbda"
    }
   },
   "outputs": [],
   "source": [
    "# Data processing\n",
    "import numpy as np\n",
    "import pandas as pd\n",
    "import xarray as xr\n",
    "import iris\n",
    "import iris.pandas\n",
    "import warnings\n",
    "warnings.filterwarnings('ignore', module='iris')\n",
    "from pathlib import Path\n",
    "import dateutil.parser\n",
    "from datetime import datetime, timedelta\n",
    "## Scientific parameters\n",
    "M_air = 28.97 # molar mass of dry air [g mol-1]\n",
    "# Coefficients to convert mass mixing ratio to volume mixing ratio\n",
    "coeff_c2h6 = (M_air/30.0690)*1e12\n",
    "coeff_c3h8 = (M_air/44.0956)*1e12\n",
    "coeff_nc4h10 = (M_air/58.1222)*1e12\n",
    "coeff_ic4h10 = (M_air/58.1222)*1e12\n",
    "coeff_nc5h12 = (M_air/72.1488)*1e12\n",
    "coeff_ic5h12 = (M_air/72.1488)*1e12\n",
    "coeff_meono2 = (M_air/77.0394)*1e12\n",
    "coeff_sbuono2 = (M_air/119.1192)*1e12\n",
    "coeff_n2peono2 = (M_air/133.1457)*1e12\n",
    "coeff_n3peono2 = (M_air/133.1457)*1e12\n",
    "coeff_ipeono2 = (M_air/133.1457)*1e12\n",
    "# Visualization\n",
    "import cartopy.util\n",
    "import cartopy.crs as ccrs\n",
    "import matplotlib.pyplot as plt\n",
    "import matplotlib.colors as colors\n",
    "from matplotlib.dates import DateFormatter\n",
    "from matplotlib.ticker import FuncFormatter\n",
    "# Plotting parameters\n",
    "plt.rcParams['mathtext.default'] = 'regular'\n",
    "def m2km(x, pos):\n",
    "    '''Convert meters to kilometers when plotting axis labels'''\n",
    "    return int(x*1e-3) #'{:1.1f}'.format(x*1e-3)\n",
    "savefig = False\n",
    "# Species names\n",
    "str_c2h6 = '$C_2H_6$'; str_c3h8 = '$C_3H_8$'\n",
    "str_nc4h10 = '$nC_4H_{10}$'; str_ic4h10 = '$iC_4H_{10}$'\n",
    "str_nc5h12 = '$nC_5H_{12}$'; str_ic5h12 = '$iC_5H_{12}$'\n",
    "str_meono2 = '$MeONO_2$'; str_sbuono2 = '2-$BuONO_2$'\n",
    "str_n2peono2 = '2-$PenONO_2$'; str_n3peono2 = '3-$PenONO_2$'; str_ipeono2 = '3-Methyl-2-$BuONO_2$'"
   ]
  },
  {
   "cell_type": "markdown",
   "metadata": {},
   "source": [
    "#### Read data"
   ]
  },
  {
   "cell_type": "code",
   "execution_count": 2,
   "metadata": {},
   "outputs": [],
   "source": [
    "path_to_atom = Path('../../../../../../obs/ATom/nc/data')\n",
    "# Select flights\n",
    "fname_atom_flight = 'MER-WAS_DC8_201701*.nc'\n",
    "# Read ATom data\n",
    "atom_dsinf = xr.open_mfdataset(sorted(path_to_atom.glob(fname_atom_flight)), decode_times=True)\n",
    "atom_dsmms = xr.open_mfdataset(sorted(path_to_atom.glob(fname_atom_flight)), group='MMS', decode_cf=True)\n",
    "atom_dswas = xr.open_mfdataset(sorted(path_to_atom.glob(fname_atom_flight)), group='WAS', decode_cf=True)"
   ]
  },
  {
   "cell_type": "code",
   "execution_count": 121,
   "metadata": {
    "nbpresent": {
     "id": "5bf220d9-75c8-489e-81fb-58c0a9a4f83d"
    }
   },
   "outputs": [],
   "source": [
    "# Choose UKCA run\n",
    "ukca_run_name = 'az166a'\n",
    "ukca_run_yrmn = 'pm2017jan'\n",
    "path_to_ukca = Path('../../../../data') / ukca_run_name\n",
    "fname_ukca_run = f'{ukca_run_name}.{ukca_run_yrmn}.pp'\n",
    "# Read UKCA data\n",
    "cb_c2h6 = iris.load_cube(str(path_to_ukca / fname_ukca_run), 'mass_fraction_of_ethane_in_air')*coeff_c2h6\n",
    "cb_c3h8 = iris.load_cube(str(path_to_ukca / fname_ukca_run), 'mass_fraction_of_propane_in_air')*coeff_c3h8\n",
    "cb_nc4h10 = iris.load_cube(str(path_to_ukca / fname_ukca_run), iris.AttributeConstraint(STASH='m01s34i173'))*coeff_nc4h10\n",
    "cb_ic4h10 = iris.load_cube(str(path_to_ukca / fname_ukca_run), iris.AttributeConstraint(STASH='m01s34i174'))*coeff_ic4h10\n",
    "cb_nc5h12 = iris.load_cube(str(path_to_ukca / fname_ukca_run), iris.AttributeConstraint(STASH='m01s34i175'))*coeff_nc5h12\n",
    "cb_ic5h12 = iris.load_cube(str(path_to_ukca / fname_ukca_run), iris.AttributeConstraint(STASH='m01s34i176'))*coeff_ic5h12\n",
    "cb_meono2 = iris.load_cube(str(path_to_ukca / fname_ukca_run), 'mass_fraction_of_methyl_nitrate_in_air')*coeff_meono2\n",
    "cb_sbuono2 = iris.load_cube(str(path_to_ukca / fname_ukca_run), iris.AttributeConstraint(STASH='m01s34i188'))*coeff_sbuono2\n",
    "cb_n2peono2 = iris.load_cube(str(path_to_ukca / fname_ukca_run), iris.AttributeConstraint(STASH='m01s34i189'))*coeff_n2peono2\n",
    "cb_n3peono2 = iris.load_cube(str(path_to_ukca / fname_ukca_run), iris.AttributeConstraint(STASH='m01s34i190'))*coeff_n3peono2\n",
    "cb_ipeono2 = iris.load_cube(str(path_to_ukca / fname_ukca_run), iris.AttributeConstraint(STASH='m01s34i191'))*coeff_ipeono2\n",
    "# Load UKCA geospatial coordinates\n",
    "ukca_lats = iris.load_cube(str(Path('../../../../data') / 'ukca_coords_n96e_marcus_180705.nc'), 'mass_fraction_of_ozone_in_air').coord('latitude')\n",
    "ukca_lons = iris.load_cube(str(Path('../../../../data') / 'ukca_coords_n96e_marcus_180705.nc'), 'mass_fraction_of_ozone_in_air').coord('longitude')\n",
    "ukca_alts = iris.load_cube(str(Path('../../../../data') / 'ukca_coords_n96e_marcus_180705.nc'), 'mass_fraction_of_ozone_in_air').coord('altitude')"
   ]
  },
  {
   "cell_type": "code",
   "execution_count": null,
   "metadata": {},
   "outputs": [],
   "source": [
    "# Path to figures\n",
    "path_to_figs = Path('../../../../../../results') / ukca_run_name / compared_common_id\n",
    "path_to_figs.mkdir(exist_ok=True) # create a new folder if it doesn't exist\n",
    "print(compared_common_id)"
   ]
  },
  {
   "cell_type": "code",
   "execution_count": 6,
   "metadata": {},
   "outputs": [],
   "source": [
    "grid_lons, grid_lats = np.meshgrid(ukca_lons.points, ukca_lats.points)\n",
    "sample_lats = atom_dsmms.G_LAT.data \n",
    "sample_lons = atom_dsmms.G_LONG.data+360\n",
    "sample_alts = atom_dsmms.G_ALT.data"
   ]
  },
  {
   "cell_type": "code",
   "execution_count": 4,
   "metadata": {},
   "outputs": [],
   "source": [
    "# Convert ATom C2H6, C2H4, C2H2, C3H8, C3H6 to pptvC to match UKCA lumped species, namely C2H6=C2H6+C2H4+C2H2, C3H8=C3H8+C3H6\n",
    "atom_dswas_c2h6 = atom_dswas['Ethane_WAS']*2 + atom_dswas['Ethene_WAS']*2 + atom_dswas['Ethyne_WAS']*2\n",
    "atom_dswas_c3h8 = atom_dswas['Propane_WAS']*3 + atom_dswas['Propene_WAS']*3\n",
    "# Convert xarray dataset with observational data to pandas dataframe\n",
    "atom_c2h6 = atom_dswas_c2h6.to_dataframe(name='Lumped_C2H6_C2H4_C2H2')\n",
    "atom_c3h8 = atom_dswas_c3h8.to_dataframe(name='Lumped_C3H8_C3H6')\n",
    "atom_nc4h10 = atom_dswas['n-Butane_WAS'].to_dataframe()\n",
    "atom_ic4h10 = atom_dswas['i-Butane_WAS'].to_dataframe()\n",
    "atom_nc5h12 = atom_dswas['n-Pentane_WAS'].to_dataframe()\n",
    "atom_ic5h12 = atom_dswas['i-Pentane_WAS'].to_dataframe()\n",
    "atom_meono2 = atom_dswas['MeONO2_WAS'].to_dataframe()\n",
    "atom_sbuono2 = atom_dswas['2-BuONO2_WAS'].to_dataframe()\n",
    "atom_n2peono2 = atom_dswas['2-PenONO2_WAS'].to_dataframe()\n",
    "atom_n3peono2 = atom_dswas['3-PenONO2_WAS'].to_dataframe()\n",
    "atom_ipeono2 = atom_dswas['3-Methyl-2-BuONO2_WAS'].to_dataframe()"
   ]
  },
  {
   "cell_type": "code",
   "execution_count": 7,
   "metadata": {},
   "outputs": [],
   "source": [
    "lons_meono2_notnan = np.where(atom_meono2['MeONO2_WAS'].isna()==False, sample_lons, atom_meono2['MeONO2_WAS'])\n",
    "lats_meono2_notnan = np.where(atom_meono2['MeONO2_WAS'].isna()==False, sample_lats, atom_meono2['MeONO2_WAS'])"
   ]
  },
  {
   "cell_type": "code",
   "execution_count": 62,
   "metadata": {},
   "outputs": [],
   "source": [
    "from shapely.geometry import Point, Polygon\n",
    "import matplotlib.patches as mpatches"
   ]
  },
  {
   "cell_type": "code",
   "execution_count": 87,
   "metadata": {},
   "outputs": [],
   "source": [
    "# Define geographical region\n",
    "r1_00, r1_01, r1_11, r1_10 = (201.5625, 60.625), (201.5625, 71.875), (212.8125, 71.875), (212.8125, 60.625) # start at lower left cornera\n",
    "corners = [r1_00, r1_01, r1_11, r1_10]\n",
    "region = Polygon(corners)\n",
    "# Construct pairs of coordinate points\n",
    "lons_lats = []\n",
    "for i, j in zip(lons_meono2_notnan, lats_meono2_notnan):\n",
    "    lons_lats.append(Point(i, j))\n",
    "# Find points within the region\n",
    "points_within = []\n",
    "for p in lons_lats:\n",
    "    points_within.append(p.within(region))"
   ]
  },
  {
   "cell_type": "code",
   "execution_count": 141,
   "metadata": {},
   "outputs": [
    {
     "data": {
      "image/png": "[encoded data removed]",
      "text/plain": [
       "<Figure size 432x288 with 2 Axes>"
      ]
     },
     "metadata": {
      "needs_background": "light"
     },
     "output_type": "display_data"
    }
   ],
   "source": [
    "fig, ax = plt.subplots()\n",
    "ax.plot(atom_meono2[points_within].values, marker='o');\n",
    "ax2 = ax.twinx()\n",
    "ax2.plot(atom_dsmms.G_ALT[points_within].data, color='grey', linestyle='--', marker='o');"
   ]
  },
  {
   "cell_type": "code",
   "execution_count": 146,
   "metadata": {},
   "outputs": [
    {
     "data": {
      "image/png": "[encoded data removed]",
      "text/plain": [
       "<Figure size 720x720 with 1 Axes>"
      ]
     },
     "metadata": {},
     "output_type": "display_data"
    }
   ],
   "source": [
    "fig, ax = plt.subplots(figsize=(10,10), subplot_kw=dict(projection=ccrs.PlateCarree()), facecolor='w')\n",
    "ax.scatter(lons_meono2_notnan, lats_meono2_notnan, transform=ccrs.PlateCarree())\n",
    "ax.scatter(lons_meono2_notnan[points_within], lats_meono2_notnan[points_within], color='r', transform=ccrs.PlateCarree())\n",
    "\n",
    "ax.add_patch(mpatches.Rectangle(xy=r1_00, width=r1_01[1]-r1_00[1], height=r1_11[0]-r1_01[0], facecolor='blue', alpha=0.2, transform=ccrs.PlateCarree()))\n",
    "\n",
    "ax.plot(grid_lons, grid_lats, color='b', alpha=0.7, transform=ccrs.PlateCarree())\n",
    "ax.plot(grid_lons.T, grid_lats.T, color='b', alpha=0.7, transform=ccrs.PlateCarree())\n",
    "ax.gridlines(draw_labels=True)\n",
    "ax.coastlines()\n",
    "ax.set_extent([-160, -145, 60, 75], crs=ccrs.PlateCarree());\n",
    "# ax.set_extent([-160, -115, -2, 75], crs=ccrs.PlateCarree()) # both Jan flights"
   ]
  },
  {
   "cell_type": "code",
   "execution_count": null,
   "metadata": {},
   "outputs": [],
   "source": [
    "# # without shapely\n",
    "# idx_within = ((lats_meono2_notnan <= 75)\n",
    "#               & (lats_meono2_notnan >= 60)\n",
    "#               & (lons_meono2_notnan >= 200)\n",
    "#               & (lons_meono2_notnan <= 215))"
   ]
  },
  {
   "cell_type": "code",
   "execution_count": 219,
   "metadata": {},
   "outputs": [],
   "source": [
    "mod_meono2 = cb_meono2.extract(iris.Constraint(longitude=lambda cell: 201.5625 <= cell <= 212.8125, latitude=lambda cell: 60.625 <= cell <= 71.875))"
   ]
  },
  {
   "cell_type": "code",
   "execution_count": 191,
   "metadata": {},
   "outputs": [],
   "source": [
    "mod2_meono2 = mod_meono2.collapsed(['latitude', 'longitude'], iris.analysis.MEAN)"
   ]
  },
  {
   "cell_type": "code",
   "execution_count": 235,
   "metadata": {},
   "outputs": [
    {
     "data": {
      "text/plain": [
       "array([  514.8485 ,   546.31757,   590.3802 ,   647.0422 ,   716.3112 ,\n",
       "         798.19666,   892.70935,   999.86206,  1119.669  ,  1252.1464 ,\n",
       "        1397.3123 ,  1555.1849 ,  1725.7869 ,  1909.1399 ,  2105.2686 ,\n",
       "        2314.1992 ,  2535.9604 ,  2770.5813 ,  3018.092  ,  3278.5276 ,\n",
       "        3551.921  ,  3838.3088 ,  4137.73   ,  4450.223  ,  4775.829  ,\n",
       "        5114.593  ,  5466.557  ,  5831.77   ,  6210.279  ,  6602.134  ,\n",
       "        7007.3857 ,  7426.089  ,  7858.297  ,  8304.068  ,  8763.465  ,\n",
       "        9236.536  ,  9723.361  , 10223.994  , 10738.526  , 11267.032  ,\n",
       "       11809.6045 , 12366.348  , 12937.385  ], dtype=float32)"
      ]
     },
     "execution_count": 235,
     "metadata": {},
     "output_type": "execute_result"
    }
   ],
   "source": [
    "mod2_meono2.coord('altitude').points[0:43]"
   ]
  },
  {
   "cell_type": "code",
   "execution_count": 227,
   "metadata": {},
   "outputs": [
    {
     "data": {
      "text/plain": [
       "array([    0,   500,  1000,  1500,  2000,  2500,  3000,  3500,  4000,\n",
       "        4500,  5000,  5500,  6000,  6500,  7000,  7500,  8000,  8500,\n",
       "        9000,  9500, 10000, 10500, 11000, 11500, 12000, 12500, 13000,\n",
       "       13500])"
      ]
     },
     "execution_count": 227,
     "metadata": {},
     "output_type": "execute_result"
    }
   ],
   "source": [
    "alt_bins"
   ]
  },
  {
   "cell_type": "code",
   "execution_count": 201,
   "metadata": {},
   "outputs": [
    {
     "ename": "ValueError",
     "evalue": "Grouper and axis must be same length",
     "output_type": "error",
     "traceback": [
      "\u001b[0;31m---------------------------------------------------------------------------\u001b[0m",
      "\u001b[0;31mValueError\u001b[0m                                Traceback (most recent call last)",
      "\u001b[0;32m<ipython-input-201-73187d0fbc2b>\u001b[0m in \u001b[0;36m<module>\u001b[0;34m\u001b[0m\n\u001b[1;32m     16\u001b[0m \u001b[0mmod2_pd_meono2\u001b[0m \u001b[0;34m=\u001b[0m \u001b[0miris\u001b[0m\u001b[0;34m.\u001b[0m\u001b[0mpandas\u001b[0m\u001b[0;34m.\u001b[0m\u001b[0mas_data_frame\u001b[0m\u001b[0;34m(\u001b[0m\u001b[0m_\u001b[0m\u001b[0;34m)\u001b[0m\u001b[0;34m\u001b[0m\u001b[0m\n\u001b[1;32m     17\u001b[0m \u001b[0;31m# Bin model data\u001b[0m\u001b[0;34m\u001b[0m\u001b[0;34m\u001b[0m\u001b[0m\n\u001b[0;32m---> 18\u001b[0;31m \u001b[0mmod_meono2_bin_mean\u001b[0m \u001b[0;34m=\u001b[0m \u001b[0mmod2_pd_meono2\u001b[0m\u001b[0;34m.\u001b[0m\u001b[0mgroupby\u001b[0m\u001b[0;34m(\u001b[0m\u001b[0malt_obs_bin_inds\u001b[0m\u001b[0;34m)\u001b[0m\u001b[0;34m.\u001b[0m\u001b[0mmean\u001b[0m\u001b[0;34m(\u001b[0m\u001b[0;34m)\u001b[0m\u001b[0;34m.\u001b[0m\u001b[0mreindex\u001b[0m\u001b[0;34m(\u001b[0m\u001b[0mindex\u001b[0m\u001b[0;34m=\u001b[0m\u001b[0malt_mod_bin_inds\u001b[0m\u001b[0;34m,\u001b[0m \u001b[0mfill_value\u001b[0m\u001b[0;34m=\u001b[0m\u001b[0mnp\u001b[0m\u001b[0;34m.\u001b[0m\u001b[0mnan\u001b[0m\u001b[0;34m)\u001b[0m\u001b[0;34m.\u001b[0m\u001b[0msqueeze\u001b[0m\u001b[0;34m(\u001b[0m\u001b[0;34m)\u001b[0m\u001b[0;34m\u001b[0m\u001b[0m\n\u001b[0m\u001b[1;32m     19\u001b[0m \u001b[0mmod_meono2_bin_min\u001b[0m \u001b[0;34m=\u001b[0m \u001b[0mmod2_pd_meono2\u001b[0m\u001b[0;34m.\u001b[0m\u001b[0mgroupby\u001b[0m\u001b[0;34m(\u001b[0m\u001b[0malt_obs_bin_inds\u001b[0m\u001b[0;34m)\u001b[0m\u001b[0;34m.\u001b[0m\u001b[0mmin\u001b[0m\u001b[0;34m(\u001b[0m\u001b[0;34m)\u001b[0m\u001b[0;34m.\u001b[0m\u001b[0mreindex\u001b[0m\u001b[0;34m(\u001b[0m\u001b[0mindex\u001b[0m\u001b[0;34m=\u001b[0m\u001b[0malt_mod_bin_inds\u001b[0m\u001b[0;34m,\u001b[0m \u001b[0mfill_value\u001b[0m\u001b[0;34m=\u001b[0m\u001b[0mnp\u001b[0m\u001b[0;34m.\u001b[0m\u001b[0mnan\u001b[0m\u001b[0;34m)\u001b[0m\u001b[0;34m.\u001b[0m\u001b[0msqueeze\u001b[0m\u001b[0;34m(\u001b[0m\u001b[0;34m)\u001b[0m\u001b[0;34m\u001b[0m\u001b[0m\n\u001b[1;32m     20\u001b[0m \u001b[0mmod_meono2_bin_max\u001b[0m \u001b[0;34m=\u001b[0m \u001b[0mmod2_pd_meono2\u001b[0m\u001b[0;34m.\u001b[0m\u001b[0mgroupby\u001b[0m\u001b[0;34m(\u001b[0m\u001b[0malt_obs_bin_inds\u001b[0m\u001b[0;34m)\u001b[0m\u001b[0;34m.\u001b[0m\u001b[0mmax\u001b[0m\u001b[0;34m(\u001b[0m\u001b[0;34m)\u001b[0m\u001b[0;34m.\u001b[0m\u001b[0mreindex\u001b[0m\u001b[0;34m(\u001b[0m\u001b[0mindex\u001b[0m\u001b[0;34m=\u001b[0m\u001b[0malt_mod_bin_inds\u001b[0m\u001b[0;34m,\u001b[0m \u001b[0mfill_value\u001b[0m\u001b[0;34m=\u001b[0m\u001b[0mnp\u001b[0m\u001b[0;34m.\u001b[0m\u001b[0mnan\u001b[0m\u001b[0;34m)\u001b[0m\u001b[0;34m.\u001b[0m\u001b[0msqueeze\u001b[0m\u001b[0;34m(\u001b[0m\u001b[0;34m)\u001b[0m\u001b[0;34m\u001b[0m\u001b[0m\n",
      "\u001b[0;32m~/anaconda3/lib/python3.6/site-packages/pandas/core/generic.py\u001b[0m in \u001b[0;36mgroupby\u001b[0;34m(self, by, axis, level, as_index, sort, group_keys, squeeze, observed, **kwargs)\u001b[0m\n\u001b[1;32m   6663\u001b[0m         return groupby(self, by=by, axis=axis, level=level, as_index=as_index,\n\u001b[1;32m   6664\u001b[0m                        \u001b[0msort\u001b[0m\u001b[0;34m=\u001b[0m\u001b[0msort\u001b[0m\u001b[0;34m,\u001b[0m \u001b[0mgroup_keys\u001b[0m\u001b[0;34m=\u001b[0m\u001b[0mgroup_keys\u001b[0m\u001b[0;34m,\u001b[0m \u001b[0msqueeze\u001b[0m\u001b[0;34m=\u001b[0m\u001b[0msqueeze\u001b[0m\u001b[0;34m,\u001b[0m\u001b[0;34m\u001b[0m\u001b[0m\n\u001b[0;32m-> 6665\u001b[0;31m                        observed=observed, **kwargs)\n\u001b[0m\u001b[1;32m   6666\u001b[0m \u001b[0;34m\u001b[0m\u001b[0m\n\u001b[1;32m   6667\u001b[0m     def asfreq(self, freq, method=None, how=None, normalize=False,\n",
      "\u001b[0;32m~/anaconda3/lib/python3.6/site-packages/pandas/core/groupby/groupby.py\u001b[0m in \u001b[0;36mgroupby\u001b[0;34m(obj, by, **kwds)\u001b[0m\n\u001b[1;32m   2150\u001b[0m         \u001b[0;32mraise\u001b[0m \u001b[0mTypeError\u001b[0m\u001b[0;34m(\u001b[0m\u001b[0;34m'invalid type: %s'\u001b[0m \u001b[0;34m%\u001b[0m \u001b[0mtype\u001b[0m\u001b[0;34m(\u001b[0m\u001b[0mobj\u001b[0m\u001b[0;34m)\u001b[0m\u001b[0;34m)\u001b[0m\u001b[0;34m\u001b[0m\u001b[0m\n\u001b[1;32m   2151\u001b[0m \u001b[0;34m\u001b[0m\u001b[0m\n\u001b[0;32m-> 2152\u001b[0;31m     \u001b[0;32mreturn\u001b[0m \u001b[0mklass\u001b[0m\u001b[0;34m(\u001b[0m\u001b[0mobj\u001b[0m\u001b[0;34m,\u001b[0m \u001b[0mby\u001b[0m\u001b[0;34m,\u001b[0m \u001b[0;34m**\u001b[0m\u001b[0mkwds\u001b[0m\u001b[0;34m)\u001b[0m\u001b[0;34m\u001b[0m\u001b[0m\n\u001b[0m\u001b[1;32m   2153\u001b[0m \u001b[0;34m\u001b[0m\u001b[0m\n\u001b[1;32m   2154\u001b[0m \u001b[0;34m\u001b[0m\u001b[0m\n",
      "\u001b[0;32m~/anaconda3/lib/python3.6/site-packages/pandas/core/groupby/groupby.py\u001b[0m in \u001b[0;36m__init__\u001b[0;34m(self, obj, keys, axis, level, grouper, exclusions, selection, as_index, sort, group_keys, squeeze, observed, **kwargs)\u001b[0m\n\u001b[1;32m    597\u001b[0m                                                     \u001b[0msort\u001b[0m\u001b[0;34m=\u001b[0m\u001b[0msort\u001b[0m\u001b[0;34m,\u001b[0m\u001b[0;34m\u001b[0m\u001b[0m\n\u001b[1;32m    598\u001b[0m                                                     \u001b[0mobserved\u001b[0m\u001b[0;34m=\u001b[0m\u001b[0mobserved\u001b[0m\u001b[0;34m,\u001b[0m\u001b[0;34m\u001b[0m\u001b[0m\n\u001b[0;32m--> 599\u001b[0;31m                                                     mutated=self.mutated)\n\u001b[0m\u001b[1;32m    600\u001b[0m \u001b[0;34m\u001b[0m\u001b[0m\n\u001b[1;32m    601\u001b[0m         \u001b[0mself\u001b[0m\u001b[0;34m.\u001b[0m\u001b[0mobj\u001b[0m \u001b[0;34m=\u001b[0m \u001b[0mobj\u001b[0m\u001b[0;34m\u001b[0m\u001b[0m\n",
      "\u001b[0;32m~/anaconda3/lib/python3.6/site-packages/pandas/core/groupby/groupby.py\u001b[0m in \u001b[0;36m_get_grouper\u001b[0;34m(obj, key, axis, level, sort, observed, mutated, validate)\u001b[0m\n\u001b[1;32m   3313\u001b[0m                         \u001b[0mobserved\u001b[0m\u001b[0;34m=\u001b[0m\u001b[0mobserved\u001b[0m\u001b[0;34m,\u001b[0m\u001b[0;34m\u001b[0m\u001b[0m\n\u001b[1;32m   3314\u001b[0m                         in_axis=in_axis) \\\n\u001b[0;32m-> 3315\u001b[0;31m             \u001b[0;32mif\u001b[0m \u001b[0;32mnot\u001b[0m \u001b[0misinstance\u001b[0m\u001b[0;34m(\u001b[0m\u001b[0mgpr\u001b[0m\u001b[0;34m,\u001b[0m \u001b[0mGrouping\u001b[0m\u001b[0;34m)\u001b[0m \u001b[0;32melse\u001b[0m \u001b[0mgpr\u001b[0m\u001b[0;34m\u001b[0m\u001b[0m\n\u001b[0m\u001b[1;32m   3316\u001b[0m \u001b[0;34m\u001b[0m\u001b[0m\n\u001b[1;32m   3317\u001b[0m         \u001b[0mgroupings\u001b[0m\u001b[0;34m.\u001b[0m\u001b[0mappend\u001b[0m\u001b[0;34m(\u001b[0m\u001b[0mping\u001b[0m\u001b[0;34m)\u001b[0m\u001b[0;34m\u001b[0m\u001b[0m\n",
      "\u001b[0;32m~/anaconda3/lib/python3.6/site-packages/pandas/core/groupby/groupby.py\u001b[0m in \u001b[0;36m__init__\u001b[0;34m(self, index, grouper, obj, name, level, sort, observed, in_axis)\u001b[0m\n\u001b[1;32m   2942\u001b[0m         \u001b[0mself\u001b[0m\u001b[0;34m.\u001b[0m\u001b[0mname\u001b[0m \u001b[0;34m=\u001b[0m \u001b[0mname\u001b[0m\u001b[0;34m\u001b[0m\u001b[0m\n\u001b[1;32m   2943\u001b[0m         \u001b[0mself\u001b[0m\u001b[0;34m.\u001b[0m\u001b[0mlevel\u001b[0m \u001b[0;34m=\u001b[0m \u001b[0mlevel\u001b[0m\u001b[0;34m\u001b[0m\u001b[0m\n\u001b[0;32m-> 2944\u001b[0;31m         \u001b[0mself\u001b[0m\u001b[0;34m.\u001b[0m\u001b[0mgrouper\u001b[0m \u001b[0;34m=\u001b[0m \u001b[0m_convert_grouper\u001b[0m\u001b[0;34m(\u001b[0m\u001b[0mindex\u001b[0m\u001b[0;34m,\u001b[0m \u001b[0mgrouper\u001b[0m\u001b[0;34m)\u001b[0m\u001b[0;34m\u001b[0m\u001b[0m\n\u001b[0m\u001b[1;32m   2945\u001b[0m         \u001b[0mself\u001b[0m\u001b[0;34m.\u001b[0m\u001b[0mall_grouper\u001b[0m \u001b[0;34m=\u001b[0m \u001b[0;32mNone\u001b[0m\u001b[0;34m\u001b[0m\u001b[0m\n\u001b[1;32m   2946\u001b[0m         \u001b[0mself\u001b[0m\u001b[0;34m.\u001b[0m\u001b[0mindex\u001b[0m \u001b[0;34m=\u001b[0m \u001b[0mindex\u001b[0m\u001b[0;34m\u001b[0m\u001b[0m\n",
      "\u001b[0;32m~/anaconda3/lib/python3.6/site-packages/pandas/core/groupby/groupby.py\u001b[0m in \u001b[0;36m_convert_grouper\u001b[0;34m(axis, grouper)\u001b[0m\n\u001b[1;32m   3340\u001b[0m     \u001b[0;32melif\u001b[0m \u001b[0misinstance\u001b[0m\u001b[0;34m(\u001b[0m\u001b[0mgrouper\u001b[0m\u001b[0;34m,\u001b[0m \u001b[0;34m(\u001b[0m\u001b[0mlist\u001b[0m\u001b[0;34m,\u001b[0m \u001b[0mSeries\u001b[0m\u001b[0;34m,\u001b[0m \u001b[0mIndex\u001b[0m\u001b[0;34m,\u001b[0m \u001b[0mnp\u001b[0m\u001b[0;34m.\u001b[0m\u001b[0mndarray\u001b[0m\u001b[0;34m)\u001b[0m\u001b[0;34m)\u001b[0m\u001b[0;34m:\u001b[0m\u001b[0;34m\u001b[0m\u001b[0m\n\u001b[1;32m   3341\u001b[0m         \u001b[0;32mif\u001b[0m \u001b[0mlen\u001b[0m\u001b[0;34m(\u001b[0m\u001b[0mgrouper\u001b[0m\u001b[0;34m)\u001b[0m \u001b[0;34m!=\u001b[0m \u001b[0mlen\u001b[0m\u001b[0;34m(\u001b[0m\u001b[0maxis\u001b[0m\u001b[0;34m)\u001b[0m\u001b[0;34m:\u001b[0m\u001b[0;34m\u001b[0m\u001b[0m\n\u001b[0;32m-> 3342\u001b[0;31m             \u001b[0;32mraise\u001b[0m \u001b[0mValueError\u001b[0m\u001b[0;34m(\u001b[0m\u001b[0;34m'Grouper and axis must be same length'\u001b[0m\u001b[0;34m)\u001b[0m\u001b[0;34m\u001b[0m\u001b[0m\n\u001b[0m\u001b[1;32m   3343\u001b[0m         \u001b[0;32mreturn\u001b[0m \u001b[0mgrouper\u001b[0m\u001b[0;34m\u001b[0m\u001b[0m\n\u001b[1;32m   3344\u001b[0m     \u001b[0;32melse\u001b[0m\u001b[0;34m:\u001b[0m\u001b[0;34m\u001b[0m\u001b[0m\n",
      "\u001b[0;31mValueError\u001b[0m: Grouper and axis must be same length"
     ]
    }
   ],
   "source": [
    "# Choose bins\n",
    "alt_bins = np.arange(0, 14000, 500)\n",
    "alt_mod_bin_inds = np.arange(0, len(alt_bins), 1)\n",
    "alt_obs_bin_inds = np.digitize(atom_dsmms.G_ALT.data[points_within], alt_bins)\n",
    "# Bin observational data\n",
    "obs_meono2_bin_mean = atom_meono2[points_within].groupby(alt_obs_bin_inds).mean().reindex(index=alt_mod_bin_inds, fill_value=np.nan)\n",
    "obs_meono2_bin_min = atom_meono2[points_within].groupby(alt_obs_bin_inds).min().reindex(index=alt_mod_bin_inds, fill_value=np.nan)\n",
    "obs_meono2_bin_max = atom_meono2[points_within].groupby(alt_obs_bin_inds).max().reindex(index=alt_mod_bin_inds, fill_value=np.nan)\n",
    "# Convert iris cubes with model data to pandas dataframes\n",
    "_ = mod2_meono2.copy()\n",
    "for coord in mod2_meono2.coords():\n",
    "    if coord.standard_name in ['latitude', 'longitude', 'model_level_number', 'time', 'forecast_period', 'forecast_reference_time', 'surface_altitude']:\n",
    "        _.remove_coord(coord)\n",
    "_.remove_coord('level_height')\n",
    "_.remove_coord('sigma')\n",
    "mod2_pd_meono2 = iris.pandas.as_data_frame(_)\n",
    "# Bin model data\n",
    "mod_meono2_bin_mean = mod2_pd_meono2.groupby(alt_obs_bin_inds).mean().reindex(index=alt_mod_bin_inds, fill_value=np.nan).squeeze()\n",
    "mod_meono2_bin_min = mod2_pd_meono2.groupby(alt_obs_bin_inds).min().reindex(index=alt_mod_bin_inds, fill_value=np.nan).squeeze()\n",
    "mod_meono2_bin_max = mod2_pd_meono2.groupby(alt_obs_bin_inds).max().reindex(index=alt_mod_bin_inds, fill_value=np.nan).squeeze()"
   ]
  },
  {
   "cell_type": "code",
   "execution_count": 200,
   "metadata": {},
   "outputs": [
    {
     "data": {
      "text/plain": [
       "(85, 1)"
      ]
     },
     "execution_count": 200,
     "metadata": {},
     "output_type": "execute_result"
    }
   ],
   "source": [
    "mod2_pd_meono2.shape"
   ]
  },
  {
   "cell_type": "code",
   "execution_count": 204,
   "metadata": {},
   "outputs": [
    {
     "data": {
      "image/png": "[encoded data removed]",
      "text/plain": [
       "<Figure size 432x288 with 1 Axes>"
      ]
     },
     "metadata": {
      "needs_background": "light"
     },
     "output_type": "display_data"
    }
   ],
   "source": [
    "plt.plot(mod2_pd_meono2.squeeze());"
   ]
  },
  {
   "cell_type": "code",
   "execution_count": 114,
   "metadata": {},
   "outputs": [],
   "source": [
    "# Vertical profile plotting parameters\n",
    "vp_barh_kwargs = dict(height=200, align='center', alpha=1)\n",
    "def plot_vp(atom, ukca, species, ppn, picname, atom_min, atom_max):\n",
    "    '''Plot vertical profile along a flight track.'''\n",
    "    fig, ax = plt.subplots(figsize=(7,7), facecolor='w')\n",
    "    ax.plot(atom, alt_bins, color='k')\n",
    "    ax.barh(alt_bins, atom_max-atom_min, left=atom_min, color='k', **vp_barh_kwargs)\n",
    "#     ax.plot(ukca, alt_bins, color='r')\n",
    "#     ax.barh(alt_bins, ukca_max-ukca_min, left=ukca_min, color='r', **vp_barh_kwargs)\n",
    "    # common\n",
    "    ax.set_title(f'{species}, {ppn}', loc='right')\n",
    "#     ax.set_title(f'{atom_date_start.strftime(\"%-d %b %Y\")}', loc='left')\n",
    "    ax.set_ylabel('Altitude, km')\n",
    "    ax.set_ylim(-200,13500)\n",
    "    ax.set_yticks(alt_bins)\n",
    "    ax.set_yticklabels(map(int,(alt_bins/1000)))\n",
    "    ax.legend(['ATom', f'UKCA {ukca_run_name} montly mean'], frameon=False)\n",
    "    for ytcklbl in ax.yaxis.get_ticklabels()[1::2]:\n",
    "        ytcklbl.set_visible(False)\n",
    "    if savefig: fig.savefig(path_to_figs / f'{ukca_run_name}_{compared_common_id}_{picname}.png', bbox_inches='tight')"
   ]
  },
  {
   "cell_type": "code",
   "execution_count": 115,
   "metadata": {},
   "outputs": [
    {
     "data": {
      "image/png": "[encoded data removed]",
      "text/plain": [
       "<Figure size 504x504 with 1 Axes>"
      ]
     },
     "metadata": {},
     "output_type": "display_data"
    }
   ],
   "source": [
    "plot_vp(obs_meono2_bin_mean, str_meono2, 'pptv', 'vp_RONO2_C1', \n",
    "        obs_meono2_bin_min.MeONO2_WAS, obs_meono2_bin_max.MeONO2_WAS)"
   ]
  },
  {
   "cell_type": "code",
   "execution_count": null,
   "metadata": {},
   "outputs": [],
   "source": []
  },
  {
   "cell_type": "code",
   "execution_count": null,
   "metadata": {},
   "outputs": [],
   "source": []
  },
  {
   "cell_type": "markdown",
   "metadata": {},
   "source": [
    "#### Time series of concentrations along flight track"
   ]
  },
  {
   "cell_type": "code",
   "execution_count": null,
   "metadata": {},
   "outputs": [],
   "source": [
    "# Extract datetimes from ATom data\n",
    "atom_datetime = atom_dsinf.time.values.astype('<M8[us]').astype(datetime)\n",
    "atom_date_strt = atom_datetime[0]\n",
    "atom_date_stop = atom_datetime[-1]\n",
    "# Time series and cross section plotting parameters\n",
    "if compared_common_id == '160801_160823_1608_merge':\n",
    "    flght_separators = [147, 276, 427, 572, 735, 894, 1055, 1212, 1329] # manually select indices of flight start times in a merge\n",
    "    slct_time_inds = np.arange(0, atom_dsinf.time.shape[0], 250) # manually choose frequency of datetimes for xticklabels\n",
    "elif compared_common_id == '170126_170130_1701_merge':\n",
    "    flght_separators = [141]\n",
    "    slct_time_inds = np.arange(0, atom_dsinf.time.shape[0], 48)\n",
    "elif compared_common_id == '170201_170221_1702_merge':\n",
    "    flght_separators = [165, 324, 477, 633, 776, 928, 1077, 1236] \n",
    "    slct_time_inds = np.arange(0, atom_dsinf.time.shape[0], 250)\n",
    "slct_time_lbls = [i.strftime('%H:%M\\n%d-%m-%Y') for i in atom_dsinf.time.values[slct_time_inds].astype('<M8[us]').astype(datetime)]\n",
    "print(slct_time_inds, atom_dsinf.time.shape)"
   ]
  },
  {
   "cell_type": "code",
   "execution_count": null,
   "metadata": {},
   "outputs": [],
   "source": [
    "# Time series plotting parameters\n",
    "def plot_ts(atom, ukca, species, ppn, picname):\n",
    "    '''Plot observed and modelled species time series along a flight track (flight altitude is on the secondary y axis).'''\n",
    "    fig, ax = plt.subplots(figsize=(12,4), facecolor='w')\n",
    "    ax.plot(atom, color='k')\n",
    "    ax.plot(ukca, color='r')\n",
    "    ax2 = ax.twinx()\n",
    "    ax2.plot(atom_dsmms.G_ALT, color='grey', linestyle='--', alpha=0.5)\n",
    "    # common\n",
    "    ax.set_title(species)\n",
    "    ax.set_xlabel('Time, hours (UTC)')\n",
    "    ax.set_ylabel(ppn)\n",
    "    ax.set_xticks(slct_time_inds)\n",
    "    ax.set_xticklabels(slct_time_lbls)\n",
    "    ax.margins(x=0)\n",
    "    ax.legend(['ATom', f'UKCA {ukca_run_name} montly mean'], frameon=False)\n",
    "    ax2.yaxis.set_major_formatter(FuncFormatter(m2km))\n",
    "    ax2.set_ylabel('Altitude, km', color='grey')\n",
    "    ax2.tick_params('y', colors='grey')\n",
    "    for x in flght_separators: ax.axvline(x=x, ymin=0, ymax=1500, color='grey', linestyle='--', linewidth=1)\n",
    "    if savefig: fig.savefig(path_to_figs / f'{ukca_run_name}_{compared_common_id}_{picname}.png', bbox_inches='tight')"
   ]
  },
  {
   "cell_type": "code",
   "execution_count": null,
   "metadata": {},
   "outputs": [],
   "source": [
    "plot_ts(atom_dswas_c2h6, traj_c2h6_ifobsexist*2, str_c2h6, 'pptvC', 'ts_RH_C2')"
   ]
  },
  {
   "cell_type": "code",
   "execution_count": null,
   "metadata": {},
   "outputs": [],
   "source": [
    "plot_ts(atom_dswas_c3h8, traj_c3h8_ifobsexist*3, str_c3h8, 'pptvC', 'ts_RH_C3')"
   ]
  },
  {
   "cell_type": "code",
   "execution_count": null,
   "metadata": {},
   "outputs": [],
   "source": [
    "plot_ts(atom_dswas['n-Butane_WAS'], traj_nc4h10_ifobsexist, str_nc4h10, 'pptv', 'ts_RH_C4n')"
   ]
  },
  {
   "cell_type": "code",
   "execution_count": null,
   "metadata": {},
   "outputs": [],
   "source": [
    "plot_ts(atom_dswas['i-Butane_WAS'], traj_ic4h10_ifobsexist, str_ic4h10, 'pptv', 'ts_RH_C4i')"
   ]
  },
  {
   "cell_type": "code",
   "execution_count": null,
   "metadata": {},
   "outputs": [],
   "source": [
    "plot_ts(atom_dswas['n-Pentane_WAS'], traj_nc5h12_ifobsexist, str_nc5h12, 'pptv', 'ts_RH_C5n')"
   ]
  },
  {
   "cell_type": "code",
   "execution_count": null,
   "metadata": {},
   "outputs": [],
   "source": [
    "plot_ts(atom_dswas['i-Pentane_WAS'], traj_ic5h12_ifobsexist, str_ic5h12, 'pptv', 'ts_RH_C5i')"
   ]
  },
  {
   "cell_type": "code",
   "execution_count": null,
   "metadata": {},
   "outputs": [],
   "source": [
    "plot_ts(atom_dswas['MeONO2_WAS'], traj_meono2_ifobsexist, str_meono2, 'pptv', 'ts_RONO2_C1')"
   ]
  },
  {
   "cell_type": "code",
   "execution_count": null,
   "metadata": {},
   "outputs": [],
   "source": [
    "plot_ts(atom_dswas['2-BuONO2_WAS'], traj_sbuono2_ifobsexist, str_sbuono2, 'pptv', 'ts_RONO2_C4s')"
   ]
  },
  {
   "cell_type": "code",
   "execution_count": null,
   "metadata": {},
   "outputs": [],
   "source": [
    "plot_ts(atom_dswas['2-PenONO2_WAS'], traj_n2peono2_ifobsexist, str_n2peono2, 'pptv', 'ts_RONO2_C5n2')"
   ]
  },
  {
   "cell_type": "code",
   "execution_count": null,
   "metadata": {},
   "outputs": [],
   "source": [
    "plot_ts(atom_dswas['3-PenONO2_WAS'], traj_n3peono2_ifobsexist, str_n3peono2, 'pptv', 'ts_RONO2_C5n3')"
   ]
  },
  {
   "cell_type": "code",
   "execution_count": null,
   "metadata": {},
   "outputs": [],
   "source": [
    "plot_ts(atom_dswas['3-Methyl-2-BuONO2_WAS'], traj_ipeono2_ifobsexist, str_ipeono2, 'pptv', 'ts_RONO2_C5i')"
   ]
  },
  {
   "cell_type": "markdown",
   "metadata": {},
   "source": [
    "#### Cross section along flight track"
   ]
  },
  {
   "cell_type": "code",
   "execution_count": null,
   "metadata": {},
   "outputs": [],
   "source": [
    "# Read precalculated UKCA 2D trajectories\n",
    "crsc_c2h6 = iris.load_cube(str(path_to_prcd)+f'/{ukca_run_name}_{compared_common_id}_crsc_c2h6.nc')\n",
    "crsc_c3h8 = iris.load_cube(str(path_to_prcd)+f'/{ukca_run_name}_{compared_common_id}_crsc_c3h8.nc')\n",
    "crsc_nc4h10 = iris.load_cube(str(path_to_prcd)+f'/{ukca_run_name}_{compared_common_id}_crsc_nc4h10.nc')\n",
    "crsc_ic4h10 = iris.load_cube(str(path_to_prcd)+f'/{ukca_run_name}_{compared_common_id}_crsc_ic4h10.nc')\n",
    "crsc_nc5h12 = iris.load_cube(str(path_to_prcd)+f'/{ukca_run_name}_{compared_common_id}_crsc_nc5h12.nc')\n",
    "crsc_ic5h12 = iris.load_cube(str(path_to_prcd)+f'/{ukca_run_name}_{compared_common_id}_crsc_ic5h12.nc')\n",
    "crsc_meono2 = iris.load_cube(str(path_to_prcd)+f'/{ukca_run_name}_{compared_common_id}_crsc_meono2.nc')\n",
    "crsc_sbuono2 = iris.load_cube(str(path_to_prcd)+f'/{ukca_run_name}_{compared_common_id}_crsc_sbuono2.nc')\n",
    "crsc_n2peono2 = iris.load_cube(str(path_to_prcd)+f'/{ukca_run_name}_{compared_common_id}_crsc_n2peono2.nc')\n",
    "crsc_n3peono2 = iris.load_cube(str(path_to_prcd)+f'/{ukca_run_name}_{compared_common_id}_crsc_n3peono2.nc')\n",
    "crsc_ipeono2 = iris.load_cube(str(path_to_prcd)+f'/{ukca_run_name}_{compared_common_id}_crsc_ipeono2.nc')"
   ]
  },
  {
   "cell_type": "code",
   "execution_count": null,
   "metadata": {},
   "outputs": [],
   "source": [
    "# Convert xarray dataset with observational data to pandas dataframe\n",
    "atom_c2h6 = atom_dswas_c2h6.to_dataframe(name='Lumped_C2H6_C2H4_C2H2')\n",
    "atom_c3h8 = atom_dswas_c3h8.to_dataframe(name='Lumped_C3H8_C3H6')\n",
    "atom_nc4h10 = atom_dswas['n-Butane_WAS'].to_dataframe()\n",
    "atom_ic4h10 = atom_dswas['i-Butane_WAS'].to_dataframe()\n",
    "atom_nc5h12 = atom_dswas['n-Pentane_WAS'].to_dataframe()\n",
    "atom_ic5h12 = atom_dswas['i-Pentane_WAS'].to_dataframe()\n",
    "atom_meono2 = atom_dswas['MeONO2_WAS'].to_dataframe()\n",
    "atom_sbuono2 = atom_dswas['2-BuONO2_WAS'].to_dataframe()\n",
    "atom_n2peono2 = atom_dswas['2-PenONO2_WAS'].to_dataframe()\n",
    "atom_n3peono2 = atom_dswas['3-PenONO2_WAS'].to_dataframe()\n",
    "atom_ipeono2 = atom_dswas['3-Methyl-2-BuONO2_WAS'].to_dataframe()"
   ]
  },
  {
   "cell_type": "code",
   "execution_count": null,
   "metadata": {},
   "outputs": [],
   "source": [
    "# Find max between maxima and max between minima in ATom and model cross section data for plotting a cross section with two colormaps\n",
    "cs_c2h6_max = max(np.nanmax(atom_c2h6.values), np.nanmax(crsc_c2h6.data*2))\n",
    "cs_c3h8_max = max(np.nanmax(atom_c3h8.values), np.nanmax(crsc_c3h8.data*3))\n",
    "cs_nc4h10_max = max(np.nanmax(atom_nc4h10.values), np.nanmax(crsc_nc4h10.data))\n",
    "cs_ic4h10_max = max(np.nanmax(atom_ic4h10.values), np.nanmax(crsc_ic4h10.data))\n",
    "cs_nc5h12_max = max(np.nanmax(atom_nc5h12.values), np.nanmax(crsc_nc5h12.data))\n",
    "cs_ic5h12_max = max(np.nanmax(atom_ic5h12.values), np.nanmax(crsc_ic5h12.data))\n",
    "cs_meono2_max = max(np.nanmax(atom_meono2.values), np.nanmax(crsc_meono2.data))\n",
    "cs_sbuono2_max = max(np.nanmax(atom_sbuono2.values), np.nanmax(crsc_sbuono2.data))\n",
    "cs_n2peono2_max = max(np.nanmax(atom_n2peono2.values), np.nanmax(crsc_n2peono2.data))\n",
    "cs_n3peono2_max = max(np.nanmax(atom_n3peono2.values), np.nanmax(crsc_n3peono2.data))\n",
    "cs_ipeono2_max = max(np.nanmax(atom_ipeono2.values), np.nanmax(crsc_ipeono2.data))\n",
    "\n",
    "cs_c2h6_min = min(np.nanmax(atom_c2h6.values), np.nanmax(crsc_c2h6.data*2))\n",
    "cs_c3h8_min = min(np.nanmax(atom_c3h8.values), np.nanmax(crsc_c3h8.data*3))\n",
    "cs_nc4h10_min = min(np.nanmax(atom_nc4h10.values), np.nanmax(crsc_nc4h10.data))\n",
    "cs_ic4h10_min = min(np.nanmax(atom_ic4h10.values), np.nanmax(crsc_ic4h10.data))\n",
    "cs_nc5h12_min = min(np.nanmax(atom_nc5h12.values), np.nanmax(crsc_nc5h12.data))\n",
    "cs_ic5h12_min = min(np.nanmax(atom_ic5h12.values), np.nanmax(crsc_ic5h12.data))\n",
    "cs_meono2_min = min(np.nanmax(atom_meono2.values), np.nanmax(crsc_meono2.data))\n",
    "cs_sbuono2_min = min(np.nanmax(atom_sbuono2.values), np.nanmax(crsc_sbuono2.data))\n",
    "cs_n2peono2_min = min(np.nanmax(atom_n2peono2.values), np.nanmax(crsc_n2peono2.data))\n",
    "cs_n3peono2_min = min(np.nanmax(atom_n3peono2.values), np.nanmax(crsc_n3peono2.data))\n",
    "cs_ipeono2_min = min(np.nanmax(atom_ipeono2.values), np.nanmax(crsc_ipeono2.data))"
   ]
  },
  {
   "cell_type": "code",
   "execution_count": null,
   "metadata": {},
   "outputs": [],
   "source": [
    "# Cross section plotting parameters\n",
    "mrgd_time_inds = np.arange(0,atom_dsinf.time.values.shape[0],1) # merged time indices\n",
    "# Merge two colormaps: color concentrations present in obs and model using one colormap and obs higher than model using another colormap\n",
    "class MidpointNormalize(colors.Normalize):\n",
    "    def __init__(self, vmin=None, vmax=None, midpoint=None, clip=False):\n",
    "        self.midpoint = midpoint\n",
    "        colors.Normalize.__init__(self, vmin, vmax, clip)\n",
    "    def __call__(self, value, clip=None):\n",
    "        x, y = [self.vmin, self.midpoint, self.vmax], [0, 0.5, 1]\n",
    "        return np.ma.masked_array(np.interp(value, x, y))\n",
    "colors_low = plt.cm.Blues(np.linspace(0,1,128))\n",
    "colors_high = plt.cm.autumn_r(np.linspace(0,1,128))\n",
    "colors_stack = np.vstack((colors_low, colors_high))\n",
    "mrgd_cmap = colors.LinearSegmentedColormap.from_list('merged_cmap', colors_stack)\n",
    "cs_pc_kwargs = dict(cmap=mrgd_cmap, vmin=0) # model data pcolormesh options\n",
    "cs_sc_kwargs = dict(cmap=mrgd_cmap, vmin=0, edgecolors='k', linewidth=0.2) # obs data scatter options\n",
    "def plot_cs(atom, ukca, species, ppn, picname, cs_min, cs_max):\n",
    "    '''Plot a cross section along a flight track, modelled data as background and observed data as dots.'''\n",
    "    fig, ax = plt.subplots(figsize=(14,5), facecolor='w')\n",
    "    p0 = ax.pcolormesh(mrgd_time_inds, crsc_c2h6.coord('altitude').points, ukca, norm=MidpointNormalize(midpoint=cs_min), vmax=cs_max, **cs_pc_kwargs)\n",
    "    ax.scatter(mrgd_time_inds, atom_dsmms.G_ALT, c=atom.squeeze(), norm=MidpointNormalize(midpoint=cs_min), vmax=cs_max, **cs_sc_kwargs)\n",
    "    fig.colorbar(p0, label=ppn)\n",
    "    # common\n",
    "    ax.set_title(species, loc='center')\n",
    "    ax.set_title(f'ATom vs UKCA {ukca_run_name} montly mean', loc='right')\n",
    "    ax.set_xlabel('Time, hours (UTC)')\n",
    "    ax.set_ylabel('Altitude, km')\n",
    "    ax.set_ylim(0,13500)\n",
    "    ax.set_xticks(slct_time_inds)\n",
    "    ax.set_xticklabels(slct_time_lbls)\n",
    "    ax.yaxis.set_major_formatter(FuncFormatter(m2km))\n",
    "    ax.margins(x=0)\n",
    "    for x in flght_separators: ax.axvline(x=x, ymin=0, ymax=13500, color='grey', linestyle='--', linewidth=1)\n",
    "    if savefig: fig.savefig(path_to_figs / f'{ukca_run_name}_{compared_common_id}_{picname}.png', bbox_inches='tight')"
   ]
  },
  {
   "cell_type": "code",
   "execution_count": null,
   "metadata": {},
   "outputs": [],
   "source": [
    "plot_cs(atom_c2h6, crsc_c2h6.data*2, str_c2h6, 'pptvC', 'cs_RH_C2', cs_c2h6_min, cs_c2h6_max)"
   ]
  },
  {
   "cell_type": "code",
   "execution_count": null,
   "metadata": {},
   "outputs": [],
   "source": [
    "plot_cs(atom_c3h8, crsc_c3h8.data*3, str_c3h8, 'pptvC', 'cs_RH_C3', cs_c3h8_min, cs_c3h8_max)"
   ]
  },
  {
   "cell_type": "code",
   "execution_count": null,
   "metadata": {},
   "outputs": [],
   "source": [
    "plot_cs(atom_nc4h10, crsc_nc4h10.data, str_nc4h10, 'pptv', 'cs_RH_C4n', cs_nc4h10_min, cs_nc4h10_max)"
   ]
  },
  {
   "cell_type": "code",
   "execution_count": null,
   "metadata": {},
   "outputs": [],
   "source": [
    "plot_cs(atom_ic4h10, crsc_ic4h10.data, str_ic4h10, 'pptv', 'cs_RH_C4i', cs_ic4h10_min, cs_ic4h10_max)"
   ]
  },
  {
   "cell_type": "code",
   "execution_count": null,
   "metadata": {},
   "outputs": [],
   "source": [
    "plot_cs(atom_nc5h12, crsc_nc5h12.data, str_nc5h12, 'pptv', 'cs_RH_C5n', cs_nc5h12_min, cs_nc5h12_max)"
   ]
  },
  {
   "cell_type": "code",
   "execution_count": null,
   "metadata": {},
   "outputs": [],
   "source": [
    "plot_cs(atom_ic5h12, crsc_ic5h12.data, str_ic5h12, 'pptv', 'cs_RH_C5i', cs_ic5h12_min, cs_ic5h12_max)"
   ]
  },
  {
   "cell_type": "code",
   "execution_count": null,
   "metadata": {},
   "outputs": [],
   "source": [
    "plot_cs(atom_meono2, crsc_meono2.data, str_meono2, 'pptv', 'cs_RONO2_C1', cs_meono2_min, cs_meono2_max)"
   ]
  },
  {
   "cell_type": "code",
   "execution_count": null,
   "metadata": {},
   "outputs": [],
   "source": [
    "plot_cs(atom_sbuono2, crsc_sbuono2.data, str_sbuono2, 'pptv', 'cs_RONO2_C4s', cs_sbuono2_min, cs_sbuono2_max)"
   ]
  },
  {
   "cell_type": "code",
   "execution_count": null,
   "metadata": {},
   "outputs": [],
   "source": [
    "plot_cs(atom_n2peono2, crsc_n2peono2.data, str_n2peono2, 'pptv', 'cs_RONO2_C5n2', cs_n2peono2_min, cs_n2peono2_max)"
   ]
  },
  {
   "cell_type": "code",
   "execution_count": null,
   "metadata": {},
   "outputs": [],
   "source": [
    "plot_cs(atom_n3peono2, crsc_n3peono2.data, str_n3peono2, 'pptv', 'cs_RONO2_C5n3', cs_n3peono2_min, cs_n3peono2_max)"
   ]
  },
  {
   "cell_type": "code",
   "execution_count": null,
   "metadata": {},
   "outputs": [],
   "source": [
    "plot_cs(atom_ipeono2, crsc_ipeono2.data, str_ipeono2, 'pptv', 'cs_RONO2_C5i', cs_ipeono2_min, cs_ipeono2_max)"
   ]
  },
  {
   "cell_type": "markdown",
   "metadata": {},
   "source": [
    "#### Scatter plot data along flight track"
   ]
  },
  {
   "cell_type": "code",
   "execution_count": null,
   "metadata": {},
   "outputs": [],
   "source": [
    "# Find max concentration between observational and model trajectory data\n",
    "sct_max_c2h6 = max(np.nanmax(atom_c2h6.values), np.nanmax(traj_c2h6.data*2))\n",
    "sct_max_c3h8 = max(np.nanmax(atom_c3h8.values), np.nanmax(traj_c3h8.data*3))\n",
    "sct_max_nc4h10 = max(np.nanmax(atom_nc4h10.values), np.nanmax(traj_nc4h10.data))\n",
    "sct_max_ic4h10 = max(np.nanmax(atom_ic4h10.values), np.nanmax(traj_ic4h10.data))\n",
    "sct_max_nc5h12 = max(np.nanmax(atom_nc5h12.values), np.nanmax(traj_nc5h12.data))\n",
    "sct_max_ic5h12 = max(np.nanmax(atom_ic5h12.values), np.nanmax(traj_ic5h12.data))\n",
    "sct_max_meono2 = max(np.nanmax(atom_meono2.values), np.nanmax(traj_meono2.data))\n",
    "sct_max_sbuono2 = max(np.nanmax(atom_sbuono2.values), np.nanmax(traj_sbuono2.data))\n",
    "sct_max_n2peono2 = max(np.nanmax(atom_n2peono2.values), np.nanmax(traj_n2peono2.data))\n",
    "sct_max_n3peono2 = max(np.nanmax(atom_n3peono2.values), np.nanmax(traj_n3peono2.data))\n",
    "sct_max_ipeono2 = max(np.nanmax(atom_ipeono2.values), np.nanmax(traj_ipeono2.data))"
   ]
  },
  {
   "cell_type": "code",
   "execution_count": null,
   "metadata": {},
   "outputs": [],
   "source": [
    "def plot_one2one(atom, ukca, species, ppn, picname, sct_max):\n",
    "    '''Plot all flight track data as a scatter plot.'''\n",
    "    fig, ax = plt.subplots(figsize=(6,5), facecolor='w')\n",
    "    p0 = ax.scatter(atom, ukca, c=atom_dsmms.G_ALT)\n",
    "    ax.plot([0, sct_max], [0, sct_max], color='k', linestyle='--') # 'one-to-one' line\n",
    "    ax.set_title(f'{species}, {ppn}', loc='right')\n",
    "    ax.set_title(f'{atom_date_strt.strftime(\"%-d\")}-{atom_date_stop.strftime(\"%-d %b %Y\")}', loc='left')\n",
    "    ax.set_xlabel('ATom')\n",
    "    ax.set_ylabel(f'UKCA {ukca_run_name} montly mean')\n",
    "    ax.set_xlim(0, sct_max)\n",
    "    ax.set_ylim(0, sct_max)\n",
    "    fig.colorbar(p0, label='Altitude, km', format=FuncFormatter(m2km))\n",
    "    if savefig: fig.savefig(path_to_figs / f'{ukca_run_name}_{compared_common_id}_{picname}.png', bbox_inches='tight')"
   ]
  },
  {
   "cell_type": "code",
   "execution_count": null,
   "metadata": {},
   "outputs": [],
   "source": [
    "plot_one2one(atom_c2h6, traj_c2h6.data*2, str_c2h6, 'pptvC', '1to1_RH_C2', sct_max_c2h6)"
   ]
  },
  {
   "cell_type": "code",
   "execution_count": null,
   "metadata": {},
   "outputs": [],
   "source": [
    "plot_one2one(atom_c3h8, traj_c3h8.data*3, str_c3h8, 'pptvC', '1to1_RH_C3', sct_max_c3h8)"
   ]
  },
  {
   "cell_type": "code",
   "execution_count": null,
   "metadata": {},
   "outputs": [],
   "source": [
    "plot_one2one(atom_nc4h10, traj_nc4h10.data, str_nc4h10, 'pptv', '1to1_RH_C4n', sct_max_nc4h10)"
   ]
  },
  {
   "cell_type": "code",
   "execution_count": null,
   "metadata": {},
   "outputs": [],
   "source": [
    "plot_one2one(atom_ic4h10, traj_ic4h10.data, str_ic4h10, 'pptv', '1to1_RH_C4i', sct_max_ic4h10)"
   ]
  },
  {
   "cell_type": "code",
   "execution_count": null,
   "metadata": {},
   "outputs": [],
   "source": [
    "plot_one2one(atom_nc5h12, traj_nc5h12.data, str_nc5h12, 'pptv', '1to1_RH_C5n', sct_max_nc5h12)"
   ]
  },
  {
   "cell_type": "code",
   "execution_count": null,
   "metadata": {},
   "outputs": [],
   "source": [
    "plot_one2one(atom_ic5h12, traj_ic5h12.data, str_ic5h12, 'pptv', '1to1_RH_C5i', sct_max_ic5h12)"
   ]
  },
  {
   "cell_type": "code",
   "execution_count": null,
   "metadata": {},
   "outputs": [],
   "source": [
    "plot_one2one(atom_meono2, traj_meono2.data, str_meono2, 'pptv', '1to1_RONO2_C1', sct_max_meono2)"
   ]
  },
  {
   "cell_type": "code",
   "execution_count": null,
   "metadata": {},
   "outputs": [],
   "source": [
    "plot_one2one(atom_sbuono2, traj_sbuono2.data, str_sbuono2, 'pptv', '1to1_RONO2_C4s', sct_max_sbuono2)"
   ]
  },
  {
   "cell_type": "code",
   "execution_count": null,
   "metadata": {},
   "outputs": [],
   "source": [
    "plot_one2one(atom_n2peono2, traj_n2peono2.data, str_n2peono2, 'pptv', '1to1_RONO2_C5n2', sct_max_n2peono2)"
   ]
  },
  {
   "cell_type": "code",
   "execution_count": null,
   "metadata": {},
   "outputs": [],
   "source": [
    "plot_one2one(atom_n3peono2, traj_n3peono2.data, str_n3peono2, 'pptv', '1to1_RONO2_C5n3', sct_max_n3peono2)"
   ]
  },
  {
   "cell_type": "code",
   "execution_count": null,
   "metadata": {},
   "outputs": [],
   "source": [
    "plot_one2one(atom_ipeono2, traj_ipeono2.data, str_ipeono2, 'pptv', '1to1_RONO2_C5i', sct_max_ipeono2)"
   ]
  }
 ],
 "metadata": {
  "anaconda-cloud": {},
  "kernelspec": {
   "display_name": "Python 3",
   "language": "python",
   "name": "python3"
  },
  "language_info": {
   "codemirror_mode": {
    "name": "ipython",
    "version": 3
   },
   "file_extension": ".py",
   "mimetype": "text/x-python",
   "name": "python",
   "nbconvert_exporter": "python",
   "pygments_lexer": "ipython3",
   "version": "3.6.6"
  }
 },
 "nbformat": 4,
 "nbformat_minor": 2
}
