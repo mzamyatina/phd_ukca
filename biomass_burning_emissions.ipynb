{
 "cells": [
  {
   "cell_type": "code",
   "execution_count": 1,
   "metadata": {},
   "outputs": [],
   "source": [
    "import iris\n",
    "import numpy as np\n",
    "import xarray as xr\n",
    "import calendar\n",
    "import cartopy.crs as ccrs\n",
    "import matplotlib.pyplot as plt\n",
    "from pathlib import Path\n",
    "import calendar\n",
    "plt.rcParams['mathtext.default'] = 'regular'"
   ]
  },
  {
   "cell_type": "code",
   "execution_count": 2,
   "metadata": {},
   "outputs": [],
   "source": [
    "# Read data\n",
    "path_to_cmip = Path('../../external_data/GFED')\n",
    "path_to_ukca = Path('../data')\n",
    "cmip = xr.open_dataset(path_to_cmip / 'CO-em-biomassburning_input4MIPs_emissions_CMIP_VUA-CMIP-BB4CMIP6-1-2_gn_185001-201512.nc')\n",
    "ukca = iris.load_cube(str(path_to_ukca / 'xmeka' / 'xmeka_o3.nc'))"
   ]
  },
  {
   "cell_type": "code",
   "execution_count": 3,
   "metadata": {},
   "outputs": [],
   "source": [
    "# for n, i in enumerate(cmip.time.values[-36:-24]):\n",
    "#     print(n+1, i.strftime()[0:10])"
   ]
  },
  {
   "cell_type": "code",
   "execution_count": 10,
   "metadata": {},
   "outputs": [
    {
     "data": {
      "text/html": [
       "\n",
       "<style>\n",
       "  a.iris {\n",
       "      text-decoration: none !important;\n",
       "  }\n",
       "  table.iris {\n",
       "      white-space: pre;\n",
       "      border: 1px solid;\n",
       "      border-color: #9c9c9c;\n",
       "      font-family: monaco, monospace;\n",
       "  }\n",
       "  th.iris {\n",
       "      background: #303f3f;\n",
       "      color: #e0e0e0;\n",
       "      border-left: 1px solid;\n",
       "      border-color: #9c9c9c;\n",
       "      font-size: 1.05em;\n",
       "      min-width: 50px;\n",
       "      max-width: 125px;\n",
       "  }\n",
       "  tr.iris :first-child {\n",
       "      border-right: 1px solid #9c9c9c !important;\n",
       "  }\n",
       "  td.iris-title {\n",
       "      background: #d5dcdf;\n",
       "      border-top: 1px solid #9c9c9c;\n",
       "      font-weight: bold;\n",
       "  }\n",
       "  .iris-word-cell {\n",
       "      text-align: left !important;\n",
       "      white-space: pre;\n",
       "  }\n",
       "  .iris-subheading-cell {\n",
       "      padding-left: 2em !important;\n",
       "  }\n",
       "  .iris-inclusion-cell {\n",
       "      padding-right: 1em !important;\n",
       "  }\n",
       "  .iris-panel-body {\n",
       "      padding-top: 0px;\n",
       "  }\n",
       "  .iris-panel-title {\n",
       "      padding-left: 3em;\n",
       "  }\n",
       "  .iris-panel-title {\n",
       "      margin-top: 7px;\n",
       "  }\n",
       "</style>\n",
       "<table class=\"iris\" id=\"140545393680568\">\n",
       "    <tr class=\"iris\">\n",
       "<th class=\"iris iris-word-cell\">Biomass Burning Carbon Flux (kg m-2 s-1)</th>\n",
       "<th class=\"iris iris-word-cell\">time</th>\n",
       "<th class=\"iris iris-word-cell\">latitude</th>\n",
       "<th class=\"iris iris-word-cell\">longitude</th>\n",
       "</tr>\n",
       "    <tr class=\"iris\">\n",
       "<td class=\"iris-word-cell iris-subheading-cell\">Shape</td>\n",
       "<td class=\"iris iris-inclusion-cell\">12</td>\n",
       "<td class=\"iris iris-inclusion-cell\">720</td>\n",
       "<td class=\"iris iris-inclusion-cell\">1440</td>\n",
       "</td>\n",
       "    <tr class=\"iris\">\n",
       "    <td class=\"iris-title iris-word-cell\">Dimension coordinates</td>\n",
       "    <td class=\"iris-title\"></td>\n",
       "    <td class=\"iris-title\"></td>\n",
       "    <td class=\"iris-title\"></td>\n",
       "</tr>\n",
       "<tr class=\"iris\">\n",
       "    <td class=\"iris-word-cell iris-subheading-cell\">\ttime</td>\n",
       "    <td class=\"iris-inclusion-cell\">x</td>\n",
       "    <td class=\"iris-inclusion-cell\">-</td>\n",
       "    <td class=\"iris-inclusion-cell\">-</td>\n",
       "</tr>\n",
       "<tr class=\"iris\">\n",
       "    <td class=\"iris-word-cell iris-subheading-cell\">\tlatitude</td>\n",
       "    <td class=\"iris-inclusion-cell\">-</td>\n",
       "    <td class=\"iris-inclusion-cell\">x</td>\n",
       "    <td class=\"iris-inclusion-cell\">-</td>\n",
       "</tr>\n",
       "<tr class=\"iris\">\n",
       "    <td class=\"iris-word-cell iris-subheading-cell\">\tlongitude</td>\n",
       "    <td class=\"iris-inclusion-cell\">-</td>\n",
       "    <td class=\"iris-inclusion-cell\">-</td>\n",
       "    <td class=\"iris-inclusion-cell\">x</td>\n",
       "</tr>\n",
       "<tr class=\"iris\">\n",
       "    <td class=\"iris-title iris-word-cell\">Cell methods</td>\n",
       "    <td class=\"iris-title\"></td>\n",
       "    <td class=\"iris-title\"></td>\n",
       "    <td class=\"iris-title\"></td>\n",
       "</tr>\n",
       "<tr class=\"iris\">\n",
       "    <td class=\"iris-word-cell iris-subheading-cell\">\tmean</td>\n",
       "    <td class=\"iris-word-cell\" colspan=\"3\">time</td>\n",
       "</tr>\n",
       "</table>\n",
       "        "
      ],
      "text/plain": [
       "<iris 'Cube' of biomass_burning_carbon_flux / (kg m-2 s-1) (time: 12; latitude: 720; longitude: 1440)>"
      ]
     },
     "execution_count": 10,
     "metadata": {},
     "output_type": "execute_result"
    }
   ],
   "source": [
    "co = cmip.CO.isel(time=slice(0,12)).to_iris()\n",
    "co"
   ]
  },
  {
   "cell_type": "code",
   "execution_count": 11,
   "metadata": {},
   "outputs": [
    {
     "name": "stderr",
     "output_type": "stream",
     "text": [
      "/local/mwe14avu/anaconda3/lib/python3.6/site-packages/iris/coords.py:1355: UserWarning: Collapsing a non-contiguous coordinate. Metadata may not be fully descriptive for 'time'.\n",
      "  warnings.warn(msg.format(self.name()))\n",
      "/local/mwe14avu/anaconda3/lib/python3.6/site-packages/iris/analysis/cartography.py:394: UserWarning: Using DEFAULT_SPHERICAL_EARTH_RADIUS.\n",
      "  warnings.warn(\"Using DEFAULT_SPHERICAL_EARTH_RADIUS.\")\n"
     ]
    }
   ],
   "source": [
    "# Guess coordinate bounds\n",
    "for coord in ['longitude', 'latitude']:\n",
    "    if not co.coord(coord).has_bounds():\n",
    "        co.coord(coord).guess_bounds()\n",
    "    if not co.coord(coord).has_bounds():\n",
    "        co.coord(coord).guess_bounds()\n",
    "# Calculate emission per year by weighting monthly values by month's length and adding values up\n",
    "n_days_per_month = np.asarray([calendar.monthrange(2013, i)[1] for i in range(1, 13)]) # number of days in each month in year 2013\n",
    "cmip_month_weights = iris.util.broadcast_to_shape(n_days_per_month, co.shape, (0,)) # weight of each month's length\n",
    "co_emis_per_year = (co * \n",
    "                             iris.coords.AuxCoord(86400, units='s', long_name='seconds_per_day')).collapsed(['time'],\n",
    "                                                                                                            iris.analysis.SUM,\n",
    "                                                                                                            weights=cmip_month_weights)\n",
    "\n",
    "# Add up all grid cells accounting for their varying area sizes\n",
    "cmip_norm_area_weights = iris.analysis.cartography.area_weights(co_emis_per_year, normalize=True)\n",
    "co_emis_per_year_area_sum = co_emis_per_year.collapsed(['longitude', 'latitude'], \n",
    "                                                                         iris.analysis.SUM,\n",
    "                                                                         weights=cmip_norm_area_weights)"
   ]
  },
  {
   "cell_type": "code",
   "execution_count": 12,
   "metadata": {},
   "outputs": [],
   "source": [
    "# Calculate Earth's area\n",
    "area_weights = iris.analysis.cartography.area_weights(co_emis_per_year, normalize=False)\n",
    "earth_area = iris.cube.Cube(area_weights.sum(), units='m2')"
   ]
  },
  {
   "cell_type": "code",
   "execution_count": 13,
   "metadata": {},
   "outputs": [],
   "source": [
    "arr = co_emis_per_year_area_sum * earth_area\n",
    "arr.convert_units('Gg')"
   ]
  },
  {
   "cell_type": "code",
   "execution_count": 14,
   "metadata": {},
   "outputs": [
    {
     "data": {
      "text/plain": [
       "0.19928650849488655"
      ]
     },
     "execution_count": 14,
     "metadata": {},
     "output_type": "execute_result"
    }
   ],
   "source": [
    "(arr.data*6.8*1e-7)"
   ]
  },
  {
   "cell_type": "markdown",
   "metadata": {},
   "source": [
    "#### Using h5py"
   ]
  },
  {
   "cell_type": "code",
   "execution_count": 4,
   "metadata": {},
   "outputs": [],
   "source": [
    "import h5py"
   ]
  },
  {
   "cell_type": "code",
   "execution_count": 12,
   "metadata": {},
   "outputs": [
    {
     "name": "stdout",
     "output_type": "stream",
     "text": [
      "../../external_data/GFED/GFED4.1s_1997.hdf5\n",
      "../../external_data/GFED/GFED4.1s_1998.hdf5\n",
      "../../external_data/GFED/GFED4.1s_1999.hdf5\n",
      "../../external_data/GFED/GFED4.1s_2000.hdf5\n",
      "../../external_data/GFED/GFED4.1s_2001.hdf5\n",
      "../../external_data/GFED/GFED4.1s_2002.hdf5\n",
      "../../external_data/GFED/GFED4.1s_2003.hdf5\n",
      "../../external_data/GFED/GFED4.1s_2004.hdf5\n",
      "../../external_data/GFED/GFED4.1s_2005.hdf5\n",
      "../../external_data/GFED/GFED4.1s_2006.hdf5\n",
      "../../external_data/GFED/GFED4.1s_2007.hdf5\n",
      "../../external_data/GFED/GFED4.1s_2008.hdf5\n",
      "../../external_data/GFED/GFED4.1s_2009.hdf5\n",
      "../../external_data/GFED/GFED4.1s_2010.hdf5\n",
      "../../external_data/GFED/GFED4.1s_2011.hdf5\n",
      "../../external_data/GFED/GFED4.1s_2012.hdf5\n",
      "../../external_data/GFED/GFED4.1s_2013.hdf5\n",
      "../../external_data/GFED/GFED4.1s_2014.hdf5\n",
      "../../external_data/GFED/GFED4.1s_2015.hdf5\n",
      "../../external_data/GFED/GFED4.1s_2016.hdf5\n"
     ]
    }
   ],
   "source": [
    "def fun\n",
    "\n",
    "group_name = 'emissions'\n",
    "main_variable = 'DM'\n",
    "part_variables = ['AGRI', 'BORF', 'DEFO', 'PEAT', 'SAVA', 'TEMF', ]\n",
    "\n",
    "concat_dict = {}\n",
    "concat_dict[main_variable] = []\n",
    "for part_var in part_variables:\n",
    "    concat_dict[part_var] = []\n",
    "\n",
    "for fpath in sorted(path_to_cmip.glob('*hdf5')):\n",
    "    print(fpath)\n",
    "    \n",
    "    arr_dict = {}\n",
    "    arr_dict[main_variable] = []\n",
    "    for part_var in part_variables:\n",
    "        arr_dict[part_var] = []\n",
    "\n",
    "    with h5py.File(fpath, 'r') as f:\n",
    "        lons = f['lon'].value[0, :]\n",
    "        lats = f['lat'].value[:, 0]\n",
    "        xr_coord_dims = dict(coords=dict(lon=lons, lat=lats), dims=('lat', 'lon'))\n",
    "\n",
    "\n",
    "        for month in f[group_name].keys():\n",
    "            arr_dict[main_variable].append(xr.DataArray(f[group_name][month][main_variable].value,\n",
    "                                          name=f'{group_name}_{main_variable}'.lower(),\n",
    "                                          **xr_coord_dims))\n",
    "            for part_var in part_variables:\n",
    "                arr_dict[part_var].append(xr.DataArray(f[group_name][month]['partitioning'][f'{main_variable}_{part_var}'].value,\n",
    "                                                       name=f'{group_name}_{main_variable}_{part_var}'.lower(),\n",
    "                                                       **xr_coord_dims))\n",
    "        for key, val in arr_dict.items():\n",
    "            concat_dict[key].append(xr.concat(val, dim='month'))\n",
    "\n",
    "    yearly = {}\n",
    "    for key, val in concat_dict.items():\n",
    "        yearly[key] = xr.concat(val, dim='year')\n",
    "emissions_ds = xr.Dataset(yearly)"
   ]
  },
  {
   "cell_type": "code",
   "execution_count": 15,
   "metadata": {},
   "outputs": [
    {
     "data": {
      "text/plain": [
       "<matplotlib.collections.QuadMesh at 0x7faf6428a4e0>"
      ]
     },
     "execution_count": 15,
     "metadata": {},
     "output_type": "execute_result"
    },
    {
     "data": {
      "image/png": "[encoded data removed]",
      "text/plain": [
       "<Figure size 432x288 with 2 Axes>"
      ]
     },
     "metadata": {
      "needs_background": "light"
     },
     "output_type": "display_data"
    }
   ],
   "source": [
    "emissions_ds.AGRI.sel(year=1, month=2).plot()"
   ]
  },
  {
   "cell_type": "code",
   "execution_count": null,
   "metadata": {},
   "outputs": [],
   "source": []
  },
  {
   "cell_type": "code",
   "execution_count": null,
   "metadata": {},
   "outputs": [],
   "source": []
  },
  {
   "cell_type": "code",
   "execution_count": null,
   "metadata": {},
   "outputs": [],
   "source": []
  },
  {
   "cell_type": "code",
   "execution_count": null,
   "metadata": {},
   "outputs": [],
   "source": []
  },
  {
   "cell_type": "code",
   "execution_count": null,
   "metadata": {},
   "outputs": [],
   "source": []
  },
  {
   "cell_type": "code",
   "execution_count": null,
   "metadata": {},
   "outputs": [],
   "source": [
    "emissions_DM_"
   ]
  },
  {
   "cell_type": "code",
   "execution_count": null,
   "metadata": {},
   "outputs": [],
   "source": [
    "[*f]"
   ]
  },
  {
   "cell_type": "code",
   "execution_count": null,
   "metadata": {},
   "outputs": [],
   "source": [
    "[*f['ancill']]"
   ]
  },
  {
   "cell_type": "code",
   "execution_count": null,
   "metadata": {},
   "outputs": [],
   "source": [
    "lons, lats = f['lon'][:], f['lat'][:]\n",
    "grid_area = f['/ancill/grid_cell_area'][:]"
   ]
  },
  {
   "cell_type": "code",
   "execution_count": null,
   "metadata": {},
   "outputs": [],
   "source": [
    "fig, ax = plt.subplots(figsize=(10,10), subplot_kw=dict(projection=ccrs.Robinson(central_longitude=0)))\n",
    "p0 = ax.pcolormesh(lons, lats, f['ancill/basis_regions'][:], transform=ccrs.PlateCarree());\n",
    "ax.coastlines()\n",
    "ax.set_title('Basis regions')\n",
    "fig.colorbar(p0, shrink=0.4);"
   ]
  },
  {
   "cell_type": "code",
   "execution_count": null,
   "metadata": {},
   "outputs": [],
   "source": [
    "fig, ax = plt.subplots(figsize=(10,10), subplot_kw=dict(projection=ccrs.Robinson(central_longitude=0)))\n",
    "p0 = ax.pcolormesh(lons, lats, grid_area, transform=ccrs.PlateCarree());\n",
    "ax.coastlines()\n",
    "ax.set_title('Grid cell area')\n",
    "fig.colorbar(p0, shrink=0.4);"
   ]
  },
  {
   "cell_type": "code",
   "execution_count": null,
   "metadata": {},
   "outputs": [],
   "source": [
    "# From README: 'The biosphere fluxes contain monthly net primary production (NPP), heterotrophic respiration (Rh) and fire emissions (BB). \n",
    "# All are in g C m-2 month-1'\n",
    "[*f['biosphere/01']] "
   ]
  },
  {
   "cell_type": "code",
   "execution_count": null,
   "metadata": {},
   "outputs": [],
   "source": [
    "# From README: 'burned_fraction is the fraction of each grid cell that burned in that month according to the GFED4s burned area data, \n",
    "# burned_area_source indicates what data was used to construct the burned area maps excluding small fires'.\n",
    "[*f['burned_area/01']]"
   ]
  },
  {
   "cell_type": "code",
   "execution_count": null,
   "metadata": {},
   "outputs": [],
   "source": [
    "fig, ax = plt.subplots(figsize=(10,10), subplot_kw=dict(projection=ccrs.Robinson(central_longitude=0)))\n",
    "p0 = ax.pcolormesh(lons, lats, f['burned_area/07/burned_fraction'][:], transform=ccrs.PlateCarree());\n",
    "ax.coastlines()\n",
    "ax.set_title('Burned area fraction, July')\n",
    "fig.colorbar(p0, shrink=0.4);"
   ]
  },
  {
   "cell_type": "markdown",
   "metadata": {},
   "source": [
    "From README:\n",
    "\n",
    "'The emissions group contains, for 12 months (01,02,..,12), 5 datasets: emissions (carbon with units of g C m-2 month-1 and DM with units of kg DM m-2 month-1), small_fire_fraction (unitless), daily fraction (unitless), diurnal cycle (unitless), as well as a group partitioning which contains, for both C and DM, the datasets (all unitless):\n",
    "- SAVA (Savanna, grassland and shrubland fires)\n",
    "- BORF (Boreal forest fires)\n",
    "- TEMF (Temperature forest fires)\n",
    "- DEFO (Tropical forest fires [deforestation and degradation])\n",
    "- PEAT (Peat fires)\n",
    "- AGRI (Agricultural waste burning)'"
   ]
  },
  {
   "cell_type": "code",
   "execution_count": null,
   "metadata": {},
   "outputs": [],
   "source": [
    "[*f['emissions/01']], [*f['emissions/01/partitioning']] # need DM and DM_<> partitioning but for all months"
   ]
  },
  {
   "cell_type": "markdown",
   "metadata": {},
   "source": [
    "From https://www.geo.vu.nl/~gwerf/GFED/GFED4/ancill/code/get_GFED4s_CO_emissions.py\n",
    "\n",
    "```python\n",
    "# calculate CO emissions as the product of DM emissions (kg DM per \n",
    "# m2 per month), the fraction the specific source contributes to \n",
    "# this (unitless), and the emission factor (g CO per kg DM burned)\n",
    "CO_emissions += DM_emissions * contribution * EF_CO[source]\n",
    "```"
   ]
  },
  {
   "cell_type": "code",
   "execution_count": null,
   "metadata": {},
   "outputs": [],
   "source": [
    "# Extract data on total dry matter emissions and source partitioning\n",
    "_dm = []\n",
    "_dm_part_agri = []\n",
    "_dm_part_borf = []\n",
    "_dm_part_defo = []\n",
    "_dm_part_peat = []\n",
    "_dm_part_sava = []\n",
    "_dm_part_temf = []\n",
    "for i in [*f['emissions']]:\n",
    "    _dm.append([*f[f'emissions/{i}/DM']])\n",
    "    _dm_part_agri.append([*f[f'emissions/{i}/partitioning/DM_AGRI']])\n",
    "    _dm_part_borf.append([*f[f'emissions/{i}/partitioning/DM_BORF']])\n",
    "    _dm_part_defo.append([*f[f'emissions/{i}/partitioning/DM_DEFO']])\n",
    "    _dm_part_peat.append([*f[f'emissions/{i}/partitioning/DM_PEAT']])\n",
    "    _dm_part_sava.append([*f[f'emissions/{i}/partitioning/DM_SAVA']])\n",
    "    _dm_part_temf.append([*f[f'emissions/{i}/partitioning/DM_TEMF']])\n",
    "dm = np.array(_dm)\n",
    "dm_part_agri = np.array(_dm_part_agri)\n",
    "dm_part_borf = np.array(_dm_part_borf)\n",
    "dm_part_defo = np.array(_dm_part_defo)\n",
    "dm_part_peat = np.array(_dm_part_peat)\n",
    "dm_part_sava = np.array(_dm_part_sava)\n",
    "dm_part_temf = np.array(_dm_part_temf)\n",
    "# Calculate dry matter emissions from individual sources. Units: kg m-2 month-1\n",
    "dm_agri = dm*dm_part_agri # del\n",
    "dm_borf = dm*dm_part_borf\n",
    "dm_defo = dm*dm_part_defo # del\n",
    "dm_peat = dm*dm_part_peat # del\n",
    "dm_sava = dm*dm_part_sava\n",
    "dm_temf = dm*dm_part_temf"
   ]
  },
  {
   "cell_type": "code",
   "execution_count": null,
   "metadata": {},
   "outputs": [],
   "source": [
    "fig, ax = plt.subplots(figsize=(10,10), subplot_kw=dict(projection=ccrs.Robinson(central_longitude=0)))\n",
    "p0 = ax.contourf(lons, lats, np.sum(dm, 0)*grid_area, transform=ccrs.PlateCarree(), cmap='Reds');\n",
    "ax.coastlines(color='grey', alpha=0.2)\n",
    "ax.set_title('Dry matter burned')\n",
    "fig.colorbar(p0, shrink=0.4, label='kg $yr^{-1}$');"
   ]
  },
  {
   "cell_type": "markdown",
   "metadata": {},
   "source": [
    "From Akagi et al. (2011):\n",
    "\n",
    "Emission factors (g kg-1) for species emitted from different types of biomass burning.\n",
    "\n",
    "Boreal and extratropical forest values are the same for C1-C3 alkyl nitrates. No values for crop residue, pasture maintenance and temperate forest.\n",
    "- trof - tropical forest\n",
    "- sava - savanna\n",
    "- borf - boreal forest"
   ]
  },
  {
   "cell_type": "code",
   "execution_count": null,
   "metadata": {},
   "outputs": [],
   "source": [
    "meono2_ef_trof, meono2_ef_sava, meono2_ef_borf = 8.29*1e-3, 5.1*1e-4, 2.83*1e-3 # 8.29×10−3 (1.60×10−2), 5.1×10−4 (3.7×10−4), 2.83×10−3\n",
    "etono2_ef_trof, etono2_ef_borf = 5.70*1e-3, 1.78*1e-3 # 5.70×10−3, 1.78×10−3\n",
    "nprono2_ef_trof, nprono2_borf = 0.0003, 3.23*1e-4 # 0.0003, 3.23×10−4\n",
    "iprono2_ef_trof,a iprono2_ef_borf = 0.001, 3.23*1e-3 # 0.001, 3.23×10−3"
   ]
  },
  {
   "cell_type": "code",
   "execution_count": null,
   "metadata": {},
   "outputs": [],
   "source": [
    "# Calculate biomass burning emissions of alkyl nitrates in g m-2 month-1\n",
    "dm_borf_meono2 = dm_borf*meono2_ef_borf # add temporate forest biomass too using boreal forest emission factor?\n",
    "dm_sava_meono2 = dm_sava*meono2_ef_sava\n",
    "\n",
    "dm_borf_etono2 = dm_borf*etono2_ef_borf\n",
    "dm_sava_etono2 = dm_sava*etono2_ef_trof\n",
    "\n",
    "dm_borf_nprono2 = dm_borf*nprono2_borf\n",
    "dm_sava_nprono2 = dm_sava*nprono2_ef_trof\n",
    "\n",
    "dm_borf_iprono2 = dm_borf*iprono2_ef_borf\n",
    "dm_sava_iprono2 = dm_sava*iprono2_ef_trof"
   ]
  },
  {
   "cell_type": "code",
   "execution_count": null,
   "metadata": {},
   "outputs": [],
   "source": [
    "fig, ax = plt.subplots(figsize=(10,10), subplot_kw=dict(projection=ccrs.Robinson(central_longitude=0)))\n",
    "p0 = ax.contourf(lons, lats, np.sum(dm_borf_meono2+dm_sava_meono2, 0)*grid_area*1e-3, transform=ccrs.PlateCarree(), cmap='Reds');\n",
    "ax.coastlines(color='grey', alpha=0.2)\n",
    "ax.set_title('$MeONO_2$ biomass burning emissions')\n",
    "fig.colorbar(p0, shrink=0.4, label='kg $yr^{-1}$');"
   ]
  },
  {
   "cell_type": "code",
   "execution_count": null,
   "metadata": {},
   "outputs": [],
   "source": [
    "fig, ax = plt.subplots(figsize=(10,10), subplot_kw=dict(projection=ccrs.Robinson(central_longitude=0)))\n",
    "p0 = ax.contourf(lons, lats, np.sum(dm_borf_etono2+dm_sava_etono2, 0)*grid_area*1e-3, transform=ccrs.PlateCarree(), cmap='Reds');\n",
    "ax.coastlines(color='grey', alpha=0.2)\n",
    "ax.set_title('$EtONO_2$ biomass burning emissions')\n",
    "fig.colorbar(p0, shrink=0.4, label='kg $yr^{-1}$');"
   ]
  },
  {
   "cell_type": "code",
   "execution_count": null,
   "metadata": {},
   "outputs": [],
   "source": [
    "fig, ax = plt.subplots(figsize=(10,10), subplot_kw=dict(projection=ccrs.Robinson(central_longitude=0)))\n",
    "p0 = ax.contourf(lons, lats, np.sum(dm_borf_nprono2+dm_sava_nprono2, 0)*grid_area*1e-3, transform=ccrs.PlateCarree(), cmap='Reds');\n",
    "ax.coastlines(color='grey', alpha=0.2)\n",
    "ax.set_title('$nPrONO_2$ biomass burning emissions')\n",
    "fig.colorbar(p0, shrink=0.4, label='kg $yr^{-1}$');"
   ]
  },
  {
   "cell_type": "code",
   "execution_count": null,
   "metadata": {},
   "outputs": [],
   "source": [
    "fig, ax = plt.subplots(figsize=(10,10), subplot_kw=dict(projection=ccrs.Robinson(central_longitude=0)))\n",
    "p0 = ax.contourf(lons, lats, np.sum(dm_borf_iprono2+dm_sava_iprono2, 0)*grid_area*1e-3, transform=ccrs.PlateCarree(), cmap='Reds');\n",
    "ax.coastlines(color='grey', alpha=0.2)\n",
    "ax.set_title('$iPrONO_2$ biomass burning emissions')\n",
    "fig.colorbar(p0, shrink=0.4, label='kg $yr^{-1}$');"
   ]
  },
  {
   "cell_type": "code",
   "execution_count": null,
   "metadata": {},
   "outputs": [],
   "source": [
    "np.sum((dm_borf_meono2+dm_sava_meono2)*grid_area)*1e-9*12 # g to Tg: *1e-12, g to Gg: *1e-9"
   ]
  },
  {
   "cell_type": "markdown",
   "metadata": {},
   "source": [
    "From Simpson et al. (2002):\n",
    "\n",
    "'...Based on these values, global savanna burning emissions for the five C1–C4 alkyl nitrates reported here are estimated to total roughly 6.6 Gg/yr (mainly as MeONO2) during the flaming stage, and 1.2 Gg/yr (mainly as C2–C4 alkyl nitrates) during the smoldering stage, for a total on the order of 8 Gg/yr (Table 3). For global biomass burning, summedC1–C4 alkyl nitrate emissions on the order of18 Gg/ yr are estimated. In both cases, MeONO2 emissions during the flaming stage comprise a majority (roughly two-thirds) of the total C1–C4 alkyl nitrate emissions. [16] \n",
    "\n",
    "The MeONO2 emissions from savanna and global biomass burning are estimated to total roughly 5.4 and 12.6 Gg/yr, respectively (Table 3). By comparison, for an atmos- phere of about 1.7 ? 1020 moles of air, a globally averaged MeONO2 mixing ratio of roughly 2 pptv, and a global MeONO2 lifetime of 0.1 yr, the global MeONO2 source is calculated to be on the order of 300 Gg/yr. That is, MeONO2 released from global biomass burning likely accounts for only a small portion (about 4%) of the global MeONO2 source.'"
   ]
  },
  {
   "cell_type": "code",
   "execution_count": null,
   "metadata": {},
   "outputs": [],
   "source": [
    "f.close()"
   ]
  }
 ],
 "metadata": {
  "@deathbeds/jupyterlab-fonts": {
   "styles": {
    ":root": {
     "--jp-code-font-size": "12px"
    }
   }
  },
  "kernelspec": {
   "display_name": "Python 3",
   "language": "python",
   "name": "python3"
  },
  "language_info": {
   "codemirror_mode": {
    "name": "ipython",
    "version": 3
   },
   "file_extension": ".py",
   "mimetype": "text/x-python",
   "name": "python",
   "nbconvert_exporter": "python",
   "pygments_lexer": "ipython3",
   "version": "3.6.8"
  }
 },
 "nbformat": 4,
 "nbformat_minor": 2
}
