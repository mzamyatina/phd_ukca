{
 "cells": [
  {
   "cell_type": "code",
   "execution_count": 1,
   "metadata": {},
   "outputs": [],
   "source": [
    "import xarray as xr\n",
    "import numpy as np\n",
    "import cartopy.util\n",
    "import cartopy.crs as ccrs\n",
    "import matplotlib as mpl\n",
    "import matplotlib.pyplot as plt\n",
    "from pathlib import Path\n",
    "plt.rcParams['mathtext.default'] = 'regular'"
   ]
  },
  {
   "cell_type": "code",
   "execution_count": 2,
   "metadata": {},
   "outputs": [],
   "source": [
    "# Read data\n",
    "path_to_geos = Path('../../external_data/GEOS-Chem')\n",
    "path_to_ukca = Path('../data')\n",
    "geos = xr.open_dataset(path_to_geos / 'ocean_rono2_2013.nc')\n",
    "ukca = xr.open_dataset(path_to_ukca / 'xnvtc' / 'xnvtc_o3.nc')\n",
    "# ukca_srf = xr.open_dataset('/local/mwe14avu/UEA/PhD/models/ukca/data/ukca_coords_n96e_marcus_180705.nc')\n",
    "# Drop unused UKCA coordinates\n",
    "ukca = ukca.drop(['forecast_period', 'forecast_reference_time', 'model_level_number', 'level_height', 'sigma', \n",
    "                  'forecast_period_bnds', 'time_bnds', 'level_height_bnds', 'sigma_bnds', 'latitude_longitude'])"
   ]
  },
  {
   "cell_type": "code",
   "execution_count": null,
   "metadata": {},
   "outputs": [],
   "source": [
    "# 'GEOS-Chem: ', geos.data_vars, geos.coords\n",
    "# 'UKCA: ', ukca.data_vars, ukca.coords"
   ]
  },
  {
   "cell_type": "code",
   "execution_count": null,
   "metadata": {},
   "outputs": [],
   "source": [
    "# GEOS-Chem: lon 2.5 lat 2 (at poles step is 1.5): (144, 91) \n",
    "# UKCA lon 3.75 lat 2.5 (96, 73)\n",
    "# GEOS-Chem data doesn't have a land mask and doesn't have fill_values where land is, so need to need to ensure that \n",
    "# non-zero fluxes don't appear on land in UKCA and that there aren't any missing grid boxes.\n",
    "# For that need to compare UKCA surface_altitude variable with GEOS-Chem fluxes."
   ]
  },
  {
   "cell_type": "code",
   "execution_count": null,
   "metadata": {},
   "outputs": [],
   "source": [
    "# fig, ax = plt.subplots(subplot_kw=dict(projection=ccrs.Robinson(central_longitude=0)))\n",
    "# ax.contourf(geos.MeNO3_emission.lon.values, geos.MeNO3_emission.lat.values, geos.MeNO3_emission[11,...], transform=ccrs.PlateCarree())\n",
    "# ax.coastlines()\n",
    "# ax.set_global()"
   ]
  },
  {
   "cell_type": "code",
   "execution_count": null,
   "metadata": {},
   "outputs": [],
   "source": [
    "# geos.MeNO3_emission.lon.values\n",
    "# ukca.longitude.values"
   ]
  },
  {
   "cell_type": "code",
   "execution_count": null,
   "metadata": {},
   "outputs": [],
   "source": []
  },
  {
   "cell_type": "code",
   "execution_count": null,
   "metadata": {},
   "outputs": [],
   "source": [
    "geos_meono2_emis = geos.MeNO3_emission"
   ]
  },
  {
   "cell_type": "code",
   "execution_count": null,
   "metadata": {},
   "outputs": [],
   "source": [
    "regrdd_meono2_mlc_per_cm2_per_s = geos_meono2_emis.interp(lon=ukca.longitude-180, lat=ukca.latitude,\n",
    "                                                          method='linear', kwargs=dict(fill_value=0.))\n",
    "# without fill_value=0 interp() adds nan at all lons at the poles"
   ]
  },
  {
   "cell_type": "code",
   "execution_count": null,
   "metadata": {},
   "outputs": [],
   "source": [
    "# fig, ax = plt.subplots(subplot_kw=dict(projection=ccrs.Robinson(central_longitude=0)))\n",
    "# ax.contourf(intrp.lon.values, intrp.lat.values, intrp[2,...], transform=ccrs.PlateCarree())\n",
    "# ax.contourf(ukca_srf.surface_altitude)\n",
    "# ax.coastlines()\n",
    "# ax.set_global()\n",
    "# current_cmap = mpl.cm.get_cmap()\n",
    "# current_cmap.set_bad(color='red')"
   ]
  },
  {
   "cell_type": "code",
   "execution_count": null,
   "metadata": {},
   "outputs": [],
   "source": [
    "geos.MeNO3_emission.units"
   ]
  },
  {
   "cell_type": "code",
   "execution_count": null,
   "metadata": {},
   "outputs": [],
   "source": [
    "# Convert molecules cm-2 s-1 to kg m-2 s-1\n",
    "# molecules to moles → divide molecules by Na 6.022*1e23 molecules mol-1\n",
    "# molar mass [g mol-1] \n",
    "# molecules  mol                mol g           g             1e-3 kg              kg\n",
    "#-------------------------, so –----------- = ------- = ------------ = 1e1 ------, thus\n",
    "# cm2 s        molecules       cm2 s mol    cm2 s    1e-4 m2 s            m2 s\n",
    "# E/Na*M(RONO2)*1e1"
   ]
  },
  {
   "cell_type": "code",
   "execution_count": null,
   "metadata": {},
   "outputs": [],
   "source": [
    "Na = 6.022*1e23 # [molecules mol-1]\n",
    "molar_mass_meono2 = 77.0394*1e-3 # [kg mol-1]\n",
    "molar_mass_etono2 = 91.0660*1e-3 # [kg mol-1]\n",
    "molar_mass_n = 14.0067*1e-3 # [kg mol-1]\n",
    "seconds_in_year = 365*24*60*60 # [s]\n",
    "earth_area = 510.1*1e12 # [m2]"
   ]
  },
  {
   "cell_type": "code",
   "execution_count": null,
   "metadata": {},
   "outputs": [],
   "source": [
    "# Fisher et al (2018) MeONO2 ocean emission 157 Gg N a-1"
   ]
  },
  {
   "cell_type": "code",
   "execution_count": null,
   "metadata": {},
   "outputs": [],
   "source": [
    "import iris\n",
    "import calendar"
   ]
  },
  {
   "cell_type": "code",
   "execution_count": null,
   "metadata": {},
   "outputs": [],
   "source": [
    "n_days_per_month = np.asarray([calendar.monthrange(2013, i)[1] for i in range(1, 13)])"
   ]
  },
  {
   "cell_type": "code",
   "execution_count": null,
   "metadata": {},
   "outputs": [],
   "source": [
    "gcube = geos_meono2_emis.to_iris()\n",
    "gcube.coord('Longitude').rename('longitude')\n",
    "gcube.coord('Latitude').rename('latitude')\n",
    "gcube.coord(axis='t').rename('time')\n",
    "lonlat = ['longitude', 'latitude']\n",
    "for coord in lonlat:\n",
    "    if not gcube.coord(coord).has_bounds():\n",
    "        gcube.coord(coord).guess_bounds()\n",
    "gcube.convert_units('molec/m2/s')"
   ]
  },
  {
   "cell_type": "code",
   "execution_count": null,
   "metadata": {},
   "outputs": [],
   "source": [
    "month_weights = iris.util.broadcast_to_shape(n_days_per_month, gcube.shape, (0,))"
   ]
  },
  {
   "cell_type": "code",
   "execution_count": null,
   "metadata": {},
   "outputs": [],
   "source": [
    "gcube_per_year = (gcube \n",
    "                  * iris.coords.AuxCoord(86400, units='s',\n",
    "                                         long_name='seconds_per_day')).collapsed(['time'],\n",
    "                                                                                 iris.analysis.SUM,\n",
    "                                                                                 weights=month_weights)"
   ]
  },
  {
   "cell_type": "code",
   "execution_count": null,
   "metadata": {},
   "outputs": [],
   "source": [
    "norm_weights = iris.analysis.cartography.area_weights(gcube_per_year, normalize=True)\n",
    "weights = iris.analysis.cartography.area_weights(gcube_per_year, normalize=False)"
   ]
  },
  {
   "cell_type": "code",
   "execution_count": null,
   "metadata": {},
   "outputs": [],
   "source": [
    "gcube_area_sum = gcube_per_year.collapsed(lonlat,\n",
    "                                          iris.analysis.SUM,\n",
    "                                          weights=norm_weights)"
   ]
  },
  {
   "cell_type": "code",
   "execution_count": null,
   "metadata": {},
   "outputs": [],
   "source": [
    "gcube_area_sum"
   ]
  },
  {
   "cell_type": "code",
   "execution_count": null,
   "metadata": {},
   "outputs": [],
   "source": [
    "earth_area = iris.cube.Cube(weights.sum(), units='m2')"
   ]
  },
  {
   "cell_type": "code",
   "execution_count": null,
   "metadata": {},
   "outputs": [],
   "source": [
    "na_cube = iris.cube.Cube(Na, units='molec/mol', long_name='avogadro_number')\n",
    "molar_mass_n_cube = iris.cube.Cube(14, units='g/mol', long_name='molar_mass_of_atomic_nitrogen')"
   ]
  },
  {
   "cell_type": "code",
   "execution_count": null,
   "metadata": {},
   "outputs": [],
   "source": [
    "gcube_global = gcube_area_sum * earth_area * molar_mass_n_cube / na_cube"
   ]
  },
  {
   "cell_type": "code",
   "execution_count": null,
   "metadata": {},
   "outputs": [],
   "source": [
    "gcube_global.convert_units('Gg')"
   ]
  },
  {
   "cell_type": "code",
   "execution_count": null,
   "metadata": {},
   "outputs": [],
   "source": [
    "gcube_global.data"
   ]
  },
  {
   "cell_type": "code",
   "execution_count": null,
   "metadata": {},
   "outputs": [],
   "source": []
  },
  {
   "cell_type": "code",
   "execution_count": null,
   "metadata": {},
   "outputs": [],
   "source": []
  },
  {
   "cell_type": "code",
   "execution_count": null,
   "metadata": {},
   "outputs": [],
   "source": []
  },
  {
   "cell_type": "code",
   "execution_count": null,
   "metadata": {},
   "outputs": [],
   "source": []
  },
  {
   "cell_type": "code",
   "execution_count": null,
   "metadata": {},
   "outputs": [],
   "source": [
    "# regrdd_meono2_kg_per_m2_per_s = regrdd_meono2_mlc_per_cm2_per_s/Na*molar_mass_meono2*1e1"
   ]
  },
  {
   "cell_type": "code",
   "execution_count": null,
   "metadata": {},
   "outputs": [],
   "source": [
    "# regrdd_meono2_kgN_per_m2_per_s = regrdd_meono2_mlc_per_cm2_per_s/Na*molar_mass_n*1e1"
   ]
  }
 ],
 "metadata": {
  "kernelspec": {
   "display_name": "Python 3",
   "language": "python",
   "name": "python3"
  },
  "language_info": {
   "codemirror_mode": {
    "name": "ipython",
    "version": 3
   },
   "file_extension": ".py",
   "mimetype": "text/x-python",
   "name": "python",
   "nbconvert_exporter": "python",
   "pygments_lexer": "ipython3",
   "version": "3.6.6"
  }
 },
 "nbformat": 4,
 "nbformat_minor": 2
}
