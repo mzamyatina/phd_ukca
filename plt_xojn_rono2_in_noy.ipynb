{
 "cells": [
  {
   "cell_type": "code",
   "execution_count": 1,
   "metadata": {},
   "outputs": [],
   "source": [
    "import warnings\n",
    "from pathlib import Path\n",
    "\n",
    "import cartopy.crs as ccrs\n",
    "import cartopy.util\n",
    "import iris\n",
    "import iris.analysis\n",
    "import iris.coord_categorisation\n",
    "import matplotlib as mpl\n",
    "import matplotlib.colors as colors\n",
    "import matplotlib.pyplot as plt\n",
    "import numpy as np\n",
    "from matplotlib.ticker import FuncFormatter"
   ]
  },
  {
   "cell_type": "code",
   "execution_count": 2,
   "metadata": {},
   "outputs": [],
   "source": [
    "from commons import EXPERIMENTS, LAYERS\n",
    "from mypaths import path_to_ukca  # path_to_figs\n",
    "from plot_func import use_draft_style\n",
    "from proc_func import GASES"
   ]
  },
  {
   "cell_type": "code",
   "execution_count": 3,
   "metadata": {},
   "outputs": [],
   "source": [
    "warnings.filterwarnings(\"ignore\", module=\"iris\")\n",
    "use_draft_style()"
   ]
  },
  {
   "cell_type": "code",
   "execution_count": 4,
   "metadata": {},
   "outputs": [],
   "source": [
    "# Choose experiments\n",
    "base_exp = \"BASE\"\n",
    "sens_exp = \"MARI\"\n",
    "# Choose layer\n",
    "layer = \"boundary\"  # boundary or free troposphere"
   ]
  },
  {
   "cell_type": "code",
   "execution_count": 5,
   "metadata": {},
   "outputs": [],
   "source": [
    "base_cl = iris.cube.CubeList()\n",
    "sens_cl = iris.cube.CubeList()\n",
    "for igas, gasdict in GASES.items():\n",
    "    if gasdict[\"noy\"]:\n",
    "        # Load NOy species data and convert it to ppb\n",
    "        base_cb = (\n",
    "            iris.load_cube(\n",
    "                str(path_to_ukca / EXPERIMENTS[base_exp] / f\"{EXPERIMENTS[base_exp]}_{igas}.nc\"),\n",
    "                f\"{igas}\",\n",
    "            )\n",
    "            * GASES[igas][\"mmr_to_vmr\"]\n",
    "            * 1e9\n",
    "        )\n",
    "        sens_cb = (\n",
    "            iris.load_cube(\n",
    "                str(path_to_ukca / EXPERIMENTS[sens_exp] / f\"{EXPERIMENTS[sens_exp]}_{igas}.nc\"),\n",
    "                f\"{igas}\",\n",
    "            )\n",
    "            * GASES[igas][\"mmr_to_vmr\"]\n",
    "            * 1e9\n",
    "        )\n",
    "        base_cb.rename(igas)\n",
    "        sens_cb.rename(igas)\n",
    "\n",
    "        # Remove the first 2 years of data as a spin up\n",
    "        base_cb_trimmed = base_cb[24::, ...]\n",
    "        sens_cb_trimmed = sens_cb[24::, ...]\n",
    "\n",
    "        base_cl.append(base_cb_trimmed)\n",
    "        sens_cl.append(sens_cb_trimmed)\n",
    "\n",
    "# Horizontal grid\n",
    "lons = base_cb.coord(\"longitude\").points\n",
    "lats = base_cb.coord(\"latitude\").points"
   ]
  },
  {
   "cell_type": "code",
   "execution_count": 6,
   "metadata": {},
   "outputs": [],
   "source": [
    "# Calculate NOy\n",
    "base_noy = sum(base_cl)\n",
    "sens_noy = sum(sens_cl)\n",
    "base_noy.rename(\"noy\")\n",
    "sens_noy.rename(\"noy\")\n",
    "\n",
    "# Add additional time coordinates\n",
    "iris.coord_categorisation.add_season(base_noy, \"time\", name=\"season\")\n",
    "iris.coord_categorisation.add_season(sens_noy, \"time\", name=\"season\")\n",
    "iris.coord_categorisation.add_season_year(base_noy, \"time\", name=\"year\")\n",
    "iris.coord_categorisation.add_season_year(sens_noy, \"time\", name=\"year\")"
   ]
  },
  {
   "cell_type": "code",
   "execution_count": 7,
   "metadata": {},
   "outputs": [],
   "source": [
    "# Calculate RONO2 sum\n",
    "base_rono2 = sum(base_cl.extract([\"meono2\", \"etono2\", \"nprono2\", \"iprono2\"]))\n",
    "sens_rono2 = sum(sens_cl.extract([\"meono2\", \"etono2\", \"nprono2\", \"iprono2\"]))\n",
    "base_rono2.rename(\"rono2\")\n",
    "sens_rono2.rename(\"rono2\")\n",
    "\n",
    "# Note: RONO2 concentrations are zero in the BASE experiment"
   ]
  },
  {
   "cell_type": "code",
   "execution_count": 8,
   "metadata": {},
   "outputs": [],
   "source": [
    "seasons = [\"djf\", \"mam\", \"jja\", \"son\"]\n",
    "\n",
    "# Calculate seasonal means in a specified layer\n",
    "\n",
    "# def calc_layer_seasonal_mean():\n",
    "\n",
    "\n",
    "base_noy_by_season = iris.cube.CubeList()\n",
    "sens_noy_by_season = iris.cube.CubeList()\n",
    "for iseason in seasons:\n",
    "    icb = base_noy.extract(iris.Constraint(season=iseason) & LAYERS[layer]).collapsed(\n",
    "        [\"season\", \"level_height\"], iris.analysis.MEAN\n",
    "    )\n",
    "    jcb = sens_noy.extract(iris.Constraint(season=iseason) & LAYERS[layer]).collapsed(\n",
    "        [\"season\", \"level_height\"], iris.analysis.MEAN\n",
    "    )\n",
    "    base_noy_by_season.append(icb)\n",
    "    sens_noy_by_season.append(jcb)"
   ]
  },
  {
   "cell_type": "code",
   "execution_count": 9,
   "metadata": {},
   "outputs": [
    {
     "ename": "SyntaxError",
     "evalue": "'break' outside loop (<ipython-input-9-6aaf1f276005>, line 4)",
     "output_type": "error",
     "traceback": [
      "\u001b[0;36m  File \u001b[0;32m\"<ipython-input-9-6aaf1f276005>\"\u001b[0;36m, line \u001b[0;32m4\u001b[0m\n\u001b[0;31mSyntaxError\u001b[0m\u001b[0;31m:\u001b[0m 'break' outside loop\n"
     ]
    }
   ],
   "source": [
    "break"
   ]
  },
  {
   "cell_type": "code",
   "execution_count": null,
   "metadata": {},
   "outputs": [],
   "source": [
    "import aeolus"
   ]
  },
  {
   "cell_type": "code",
   "execution_count": null,
   "metadata": {},
   "outputs": [],
   "source": []
  },
  {
   "cell_type": "code",
   "execution_count": null,
   "metadata": {},
   "outputs": [],
   "source": []
  },
  {
   "cell_type": "code",
   "execution_count": null,
   "metadata": {},
   "outputs": [],
   "source": []
  },
  {
   "cell_type": "code",
   "execution_count": null,
   "metadata": {},
   "outputs": [],
   "source": [
    "# Add cyclic point for plotting on a global map\n",
    "cyc_rno3_bl_djf_mean, cyclic_lons = cartopy.util.add_cyclic_point(\n",
    "    rno3_bl_djf_mean.data, coord=rno3_bl_djf_mean.coord(\"longitude\").points\n",
    ")\n",
    "cyc_rno3_bl_mam_mean = cartopy.util.add_cyclic_point(rno3_bl_mam_mean.data)\n",
    "cyc_rno3_bl_jja_mean = cartopy.util.add_cyclic_point(rno3_bl_jja_mean.data)\n",
    "cyc_rno3_bl_son_mean = cartopy.util.add_cyclic_point(rno3_bl_son_mean.data)\n",
    "# Find max boundary layer seasonal mean\n",
    "print(np.max(rno3_bl_djf_mean.data) * 1e3)\n",
    "print(np.max(rno3_bl_mam_mean.data) * 1e3)\n",
    "print(np.max(rno3_bl_jja_mean.data) * 1e3)\n",
    "print(np.max(rno3_bl_son_mean.data) * 1e3)\n",
    "# rno3_mean_cf_kwargs = dict(transform=ccrs.PlateCarree(), levels=np.arange(0,110,10))"
   ]
  },
  {
   "cell_type": "code",
   "execution_count": null,
   "metadata": {},
   "outputs": [],
   "source": [
    "fig, ax = plt.subplots(\n",
    "    nrows=4,\n",
    "    ncols=2,\n",
    "    figsize=(12, 12),\n",
    "    subplot_kw=dict(projection=ccrs.Robinson(central_longitude=0)),\n",
    "    facecolor=\"w\",\n",
    ")\n",
    "p00 = ax[0, 0].contourf(cyclic_lons, lats, cyc_sens_bl_djf_mean.data, transform=ccrs.PlateCarree())\n",
    "ax[1, 0].contourf(cyclic_lons, lats, cyc_sens_bl_mam_mean.data, transform=ccrs.PlateCarree())\n",
    "ax[2, 0].contourf(cyclic_lons, lats, cyc_sens_bl_jja_mean.data, transform=ccrs.PlateCarree())\n",
    "ax[3, 0].contourf(cyclic_lons, lats, cyc_sens_bl_son_mean.data, transform=ccrs.PlateCarree())\n",
    "\n",
    "p01 = ax[0, 1].contourf(\n",
    "    cyclic_lons,\n",
    "    lats,\n",
    "    cyc_rno3_bl_djf_mean.data * 100 / cyc_sens_bl_djf_mean.data,\n",
    "    transform=ccrs.PlateCarree(),\n",
    "    levels=np.arange(0, 110, 10),\n",
    ")\n",
    "ax[1, 1].contourf(\n",
    "    cyclic_lons,\n",
    "    lats,\n",
    "    cyc_rno3_bl_mam_mean.data * 100 / cyc_sens_bl_mam_mean.data,\n",
    "    transform=ccrs.PlateCarree(),\n",
    "    levels=np.arange(0, 110, 10),\n",
    ")\n",
    "ax[2, 1].contourf(\n",
    "    cyclic_lons,\n",
    "    lats,\n",
    "    cyc_rno3_bl_jja_mean.data * 100 / cyc_sens_bl_jja_mean.data,\n",
    "    transform=ccrs.PlateCarree(),\n",
    "    levels=np.arange(0, 110, 10),\n",
    ")\n",
    "ax[3, 1].contourf(\n",
    "    cyclic_lons,\n",
    "    lats,\n",
    "    cyc_rno3_bl_son_mean.data * 100 / cyc_sens_bl_son_mean.data,\n",
    "    transform=ccrs.PlateCarree(),\n",
    "    levels=np.arange(0, 110, 10),\n",
    ")\n",
    "\n",
    "p01x = ax[0, 1].contour(\n",
    "    lons,\n",
    "    lats,\n",
    "    rno3_bl_djf_mean.data * 100 / sens_bl_djf_mean.data,\n",
    "    transform=ccrs.PlateCarree(),\n",
    "    levels=[10, 50, 80],\n",
    "    colors=\"w\",\n",
    ")\n",
    "p11x = ax[1, 1].contour(\n",
    "    lons,\n",
    "    lats,\n",
    "    rno3_bl_mam_mean.data * 100 / sens_bl_mam_mean.data,\n",
    "    transform=ccrs.PlateCarree(),\n",
    "    levels=[10, 50, 80],\n",
    "    colors=\"w\",\n",
    ")\n",
    "p21x = ax[2, 1].contour(\n",
    "    lons,\n",
    "    lats,\n",
    "    rno3_bl_jja_mean.data * 100 / sens_bl_jja_mean.data,\n",
    "    transform=ccrs.PlateCarree(),\n",
    "    levels=[10, 50, 80],\n",
    "    colors=\"w\",\n",
    ")\n",
    "p31x = ax[3, 1].contour(\n",
    "    lons,\n",
    "    lats,\n",
    "    rno3_bl_son_mean.data * 100 / sens_bl_son_mean.data,\n",
    "    transform=ccrs.PlateCarree(),\n",
    "    levels=[10, 50, 80],\n",
    "    colors=\"w\",\n",
    ")\n",
    "ax[0, 1].clabel(p01x, inline=1, fmt=\"%1.0f\")\n",
    "ax[1, 1].clabel(p11x, inline=1, fmt=\"%1.0f\")\n",
    "ax[2, 1].clabel(p21x, inline=1, fmt=\"%1.0f\")\n",
    "ax[3, 1].clabel(p31x, inline=1, fmt=\"%1.0f\")\n",
    "\n",
    "fig.subplots_adjust(hspace=0.1, wspace=-0.1)\n",
    "cax00 = fig.add_axes([0.215, 0.1, 0.23, 0.01])\n",
    "fig.colorbar(p00, cax=cax00, orientation=\"horizontal\", label=\"$NO_y$, ppbv\")\n",
    "cax01 = fig.add_axes([0.58, 0.1, 0.23, 0.01])\n",
    "fig.colorbar(\n",
    "    p01, cax=cax01, orientation=\"horizontal\", label=\"$\\sum$$C_1$-$C_3$ $RONO_2$ % of $NO_y$\"\n",
    ")\n",
    "fig.suptitle(f\"Boundary layer (0-2 km)\\n{sens_exp}\", y=0.92, weight=\"bold\")\n",
    "for iax in ax.flatten():\n",
    "    iax.coastlines(color=\"k\")"
   ]
  },
  {
   "cell_type": "code",
   "execution_count": null,
   "metadata": {},
   "outputs": [],
   "source": []
  }
 ],
 "metadata": {
  "kernelspec": {
   "display_name": "Python 3",
   "language": "python",
   "name": "python3"
  },
  "language_info": {
   "codemirror_mode": {
    "name": "ipython",
    "version": 3
   },
   "file_extension": ".py",
   "mimetype": "text/x-python",
   "name": "python",
   "nbconvert_exporter": "python",
   "pygments_lexer": "ipython3",
   "version": "3.7.6"
  }
 },
 "nbformat": 4,
 "nbformat_minor": 4
}
