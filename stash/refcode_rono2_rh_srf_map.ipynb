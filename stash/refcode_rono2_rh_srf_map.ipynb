{
 "cells": [
  {
   "cell_type": "markdown",
   "metadata": {},
   "source": [
    "#### RONO2/RH surface map"
   ]
  },
  {
   "cell_type": "code",
   "execution_count": null,
   "metadata": {},
   "outputs": [],
   "source": [
    "l = 0\n",
    "c4s_srf_ratio = cyclic_sbuono2[0,l,...]/cyclic_nc4h10[0,l,...]\n",
    "c5nB_srf_ratio = cyclic_n2peono2[0,l,...]/cyclic_nc5h12[0,l,...]\n",
    "c5nC_srf_ratio = cyclic_n3peono2[0,l,...]/cyclic_nc5h12[0,l,...]\n",
    "c5i_srf_ratio = cyclic_ipeono2[0,l,...]/cyclic_ic5h12[0,l,...]"
   ]
  },
  {
   "cell_type": "code",
   "execution_count": null,
   "metadata": {},
   "outputs": [],
   "source": [
    "np.nanmax(c4s_srf_ratio), np.nanmax(c5nB_srf_ratio), np.nanmax(c5nC_srf_ratio), np.nanmax(c5i_srf_ratio)"
   ]
  },
  {
   "cell_type": "code",
   "execution_count": null,
   "metadata": {},
   "outputs": [],
   "source": [
    "np.unravel_index(c4s_srf_ratio.argmax(), c4s_srf_ratio.shape), np.unravel_index(c5nB_srf_ratio.argmax(), c5nB_srf_ratio.shape), \\\n",
    "np.unravel_index(c5nC_srf_ratio.argmax(), c5nC_srf_ratio.shape), np.unravel_index(c5i_srf_ratio.argmax(), c5i_srf_ratio.shape)"
   ]
  },
  {
   "cell_type": "code",
   "execution_count": null,
   "metadata": {},
   "outputs": [],
   "source": [
    "c5nB_srf_ratio.max(), c5nB_srf_ratio[63, 146]"
   ]
  },
  {
   "cell_type": "code",
   "execution_count": null,
   "metadata": {},
   "outputs": [],
   "source": [
    "cb_nc4h10.coord('latitude').points[63]"
   ]
  },
  {
   "cell_type": "code",
   "execution_count": null,
   "metadata": {},
   "outputs": [],
   "source": [
    "cb_nc4h10.coord('longitude').points[146]"
   ]
  },
  {
   "cell_type": "code",
   "execution_count": null,
   "metadata": {},
   "outputs": [],
   "source": [
    "cb_sbuono2[0,l,63,146].data*coeff_sbuono2, cb_nc4h10[0,l,63,146].data*coeff_nc4h10"
   ]
  },
  {
   "cell_type": "code",
   "execution_count": null,
   "metadata": {},
   "outputs": [],
   "source": [
    "sorted(c4s_srf_ratio.flatten())[-2], sorted(c5nB_srf_ratio.flatten())[-2], \\\n",
    "sorted(c5nC_srf_ratio.flatten())[-2], sorted(c5i_srf_ratio.flatten())[-2]"
   ]
  },
  {
   "cell_type": "code",
   "execution_count": null,
   "metadata": {},
   "outputs": [],
   "source": [
    "class MidpointNormalize2(colors.Normalize):\n",
    "    def __init__(self, vmin=None, vmax=None, midpoint=None, clip=False):\n",
    "        self.midpoint = midpoint\n",
    "        colors.Normalize.__init__(self, vmin, vmax, clip)\n",
    "\n",
    "    def __call__(self, value, clip=None):\n",
    "        result, is_scalar = self.process_value(value)\n",
    "        (vmin,), _ = self.process_value(self.vmin)\n",
    "        (vmax,), _ = self.process_value(self.vmax)\n",
    "        resdat = np.asarray(result.data)\n",
    "        result = np.ma.array(resdat, mask=result.mask, copy=False)\n",
    "        x, y = [self.vmin, self.midpoint, self.vmax], [0, 0.5, 1]\n",
    "        res = np.interp(result, x, y)\n",
    "        result = np.ma.array(res, mask=result.mask, copy=False)\n",
    "        if is_scalar:\n",
    "            result = result[0]\n",
    "        return result"
   ]
  },
  {
   "cell_type": "code",
   "execution_count": null,
   "metadata": {},
   "outputs": [],
   "source": [
    "ratio_map_kwargs = dict(transform=ccrs.PlateCarree(), cmap='coolwarm')\n",
    "# Plot sampling locations and model surface concentration (hybrid height level 0)\n",
    "fig, axes = plt.subplots(nrows=2, ncols=2, figsize=(20,8), subplot_kw=dict(projection=ccrs.Robinson(central_longitude=270)), facecolor='w')\n",
    "p00 = axes[0,0].pcolormesh(cyclic_lons, cb_nc4h10.coord('latitude').points, c4s_srf_ratio, norm=MidpointNormalize2(midpoint=1., vmin=0, vmax=sorted(c4s_srf_ratio.flatten())[-2]), **ratio_map_kwargs);\n",
    "p01 = axes[0,1].pcolormesh(cyclic_lons, cb_nc4h10.coord('latitude').points, c5nB_srf_ratio, norm=MidpointNormalize2(midpoint=1., vmin=0, vmax=sorted(c5nB_srf_ratio.flatten())[-2]), **ratio_map_kwargs);\n",
    "p10 = axes[1,0].pcolormesh(cyclic_lons, cb_nc4h10.coord('latitude').points, c5i_srf_ratio, norm=MidpointNormalize2(midpoint=1., vmin=0, vmax=sorted(c5i_srf_ratio.flatten())[-2]), **ratio_map_kwargs);\n",
    "p11 = axes[1,1].pcolormesh(cyclic_lons, cb_nc4h10.coord('latitude').points, c5nC_srf_ratio, norm=MidpointNormalize2(midpoint=1., vmin=0, vmax=sorted(c5nC_srf_ratio.flatten())[-2]), **ratio_map_kwargs);\n",
    "axes[0,0].set_title(f'{str_sbuono2}/{str_nc4h10}\\n{ukca_date.strftime(\"%B %Y\")} (mean) surface', fontsize=10);\n",
    "axes[0,1].set_title(f'{str_n2peono2}/{str_nc5h12}\\n{ukca_date.strftime(\"%B %Y\")} (mean) surface', fontsize=10);\n",
    "axes[1,0].set_title(f'{str_ipeono2}/{str_ic5h12}\\n{ukca_date.strftime(\"%B %Y\")} (mean) surface', fontsize=10);\n",
    "axes[1,1].set_title(f'{str_n3peono2}/{str_nc5h12}\\n{ukca_date.strftime(\"%B %Y\")} (mean) surface', fontsize=10);\n",
    "for ax in axes.flatten():\n",
    "    ax.coastlines();\n",
    "    ax.set_global();\n",
    "cb00 = fig.colorbar(p00, ax=axes[0,0], shrink=0.9);\n",
    "cb01 = fig.colorbar(p01, ax=axes[0,1], shrink=0.9);\n",
    "cb10 = fig.colorbar(p10, ax=axes[1,0], shrink=0.9);\n",
    "cb11 = fig.colorbar(p11, ax=axes[1,1], shrink=0.9);\n",
    "fig.subplots_adjust(wspace=-0.2);\n",
    "fig.tight_layout();\n",
    "fig.savefig('srf_ratio_maps_january.png')"
   ]
  },
  {
   "cell_type": "code",
   "execution_count": null,
   "metadata": {},
   "outputs": [],
   "source": [
    "ratio_map_kwargs = dict(transform=ccrs.PlateCarree(), cmap='Blues')\n",
    "fig, axes = plt.subplots(nrows=2, ncols=2, figsize=(20,8), subplot_kw=dict(projection=ccrs.Robinson(central_longitude=270)), facecolor='w')\n",
    "p00 = axes[0,0].pcolormesh(cyclic_lons, cb_nc4h10.coord('latitude').points, cyclic_nc4h10[0,0,...], vmin=0, vmax=100, **ratio_map_kwargs);\n",
    "p01 = axes[0,1].pcolormesh(cyclic_lons, cb_nc4h10.coord('latitude').points, cyclic_nc5h12[0,0,...], vmin=0, vmax=100, **ratio_map_kwargs);\n",
    "p10 = axes[1,0].pcolormesh(cyclic_lons, cb_nc4h10.coord('latitude').points, cyclic_ic5h12[0,0,...], vmin=0, vmax=100, **ratio_map_kwargs);\n",
    "axes[0,0].set_title(f'{str_sbuono2}/{str_nc4h10}\\n{ukca_date.strftime(\"%B %Y\")} (mean) surface', fontsize=10);\n",
    "axes[0,1].set_title(f'{str_n2peono2}/{str_nc5h12}\\n{ukca_date.strftime(\"%B %Y\")} (mean) surface', fontsize=10);\n",
    "axes[1,0].set_title(f'{str_ipeono2}/{str_ic5h12}\\n{ukca_date.strftime(\"%B %Y\")} (mean) surface', fontsize=10);\n",
    "for ax in axes.flatten()[0:3]:\n",
    "    ax.coastlines();\n",
    "    ax.set_global();\n",
    "cb00 = fig.colorbar(p00, ax=axes[0,0], shrink=0.9, extend='max');\n",
    "cb01 = fig.colorbar(p01, ax=axes[0,1], shrink=0.9, extend='max');\n",
    "cb10 = fig.colorbar(p10, ax=axes[1,0], shrink=0.9, extend='max');\n",
    "fig.subplots_adjust(wspace=-0.2);\n",
    "fig.tight_layout();\n",
    "# fig.savefig('srf_ratio_maps_january.png')"
   ]
  },
  {
   "cell_type": "code",
   "execution_count": null,
   "metadata": {},
   "outputs": [],
   "source": [
    "ratio_map_kwargs = dict(transform=ccrs.PlateCarree(), cmap='Blues')\n",
    "fig, axes = plt.subplots(nrows=2, ncols=2, figsize=(20,8), subplot_kw=dict(projection=ccrs.Robinson(central_longitude=270)), facecolor='w')\n",
    "p00 = axes[0,0].pcolormesh(cyclic_lons, cb_nc4h10.coord('latitude').points, cyclic_sbuono2[0,0,...], vmin=0, vmax=2, **ratio_map_kwargs);\n",
    "p01 = axes[0,1].pcolormesh(cyclic_lons, cb_nc4h10.coord('latitude').points, cyclic_n2peono2[0,0,...], vmin=0, vmax=2, **ratio_map_kwargs);\n",
    "p10 = axes[1,0].pcolormesh(cyclic_lons, cb_nc4h10.coord('latitude').points, cyclic_ipeono2[0,0,...], vmin=0, vmax=2, **ratio_map_kwargs);\n",
    "p11 = axes[1,1].pcolormesh(cyclic_lons, cb_nc4h10.coord('latitude').points, cyclic_n3peono2[0,0,...], vmin=0, vmax=2, **ratio_map_kwargs);\n",
    "axes[0,0].set_title(f'{str_sbuono2}\\n{ukca_date.strftime(\"%B %Y\")} (mean) surface', fontsize=10);\n",
    "axes[0,1].set_title(f'{str_n2peono2}\\n{ukca_date.strftime(\"%B %Y\")} (mean) surface', fontsize=10);\n",
    "axes[1,0].set_title(f'{str_ipeono2}\\n{ukca_date.strftime(\"%B %Y\")} (mean) surface', fontsize=10);\n",
    "axes[1,1].set_title(f'{str_n3peono2}\\n{ukca_date.strftime(\"%B %Y\")} (mean) surface', fontsize=10);\n",
    "for ax in axes.flatten():\n",
    "    ax.coastlines();\n",
    "    ax.set_global();\n",
    "cb00 = fig.colorbar(p00, ax=axes[0,0], shrink=0.9, label='pptv', extend='max');\n",
    "cb01 = fig.colorbar(p01, ax=axes[0,1], shrink=0.9, label='pptv', extend='max');\n",
    "cb10 = fig.colorbar(p10, ax=axes[1,0], shrink=0.9, label='pptv', extend='max');\n",
    "cb11 = fig.colorbar(p11, ax=axes[1,1], shrink=0.9, label='pptv', extend='max');\n",
    "fig.subplots_adjust(wspace=-0.2);\n",
    "fig.tight_layout();\n",
    "# fig.savefig('srf_ratio_maps_january.png')"
   ]
  },
  {
   "cell_type": "code",
   "execution_count": null,
   "metadata": {},
   "outputs": [],
   "source": [
    "prssr = iris.load_cube(str(path_to_ukca_run / fname_ukca_run), 'air_pressure_at_sea_level')"
   ]
  },
  {
   "cell_type": "code",
   "execution_count": null,
   "metadata": {},
   "outputs": [],
   "source": [
    "cyclic_prssr = cartopy.util.add_cyclic_point(prssr.data/100)"
   ]
  },
  {
   "cell_type": "code",
   "execution_count": null,
   "metadata": {},
   "outputs": [],
   "source": [
    "cyclic_prssr.min(), cyclic_prssr.max()"
   ]
  },
  {
   "cell_type": "code",
   "execution_count": null,
   "metadata": {},
   "outputs": [],
   "source": [
    "np.arange(980, 1044, 4)"
   ]
  },
  {
   "cell_type": "code",
   "execution_count": null,
   "metadata": {},
   "outputs": [],
   "source": [
    "ratio_map1_kwargs = dict(transform=ccrs.PlateCarree(), cmap='Blues')\n",
    "fig, axes = plt.subplots(nrows=2, ncols=2, figsize=(15,10), subplot_kw=dict(projection=ccrs.Stereographic(central_latitude=90, central_longitude=-40.0)), facecolor='w')\n",
    "CS = axes[0,0].contour(cyclic_lons, cb_nc4h10.coord('latitude').points, cyclic_prssr[0,0,...], levels=np.arange(980, 1044, 4), cmap='gray_r', transform=ccrs.PlateCarree())#, norm=MidpointNormalize(midpoint=1004))\n",
    "# plt.clabel(CS, CS.levels, inline=1, fontsize=10)\n",
    "\n",
    "p00 = axes[0,0].pcolormesh(cyclic_lons, cb_nc4h10.coord('latitude').points, cyclic_sbuono2[0,0,...]/cyclic_nc4h10[0,0,...], vmin=0, vmax=0.1, **ratio_map1_kwargs)\n",
    "p01 = axes[0,1].pcolormesh(cyclic_lons, cb_nc4h10.coord('latitude').points, cyclic_n2peono2[0,0,...]/cyclic_nc5h12[0,0,...], vmin=0, vmax=0.1, **ratio_map1_kwargs)\n",
    "p10 = axes[1,0].pcolormesh(cyclic_lons, cb_nc4h10.coord('latitude').points, cyclic_ipeono2[0,0,...]/cyclic_ic5h12[0,0,...], vmin=0, vmax=0.1, **ratio_map1_kwargs)\n",
    "p11 = axes[1,1].pcolormesh(cyclic_lons, cb_nc4h10.coord('latitude').points, cyclic_n3peono2[0,0,...]/cyclic_nc5h12[0,0,...], vmin=0, vmax=0.1, **ratio_map1_kwargs)\n",
    "\n",
    "fig.colorbar(p00, ax=axes[0,0], shrink=0.7, label='pptv/pptv', extend='max')\n",
    "fig.colorbar(p01, ax=axes[0,1], shrink=0.7, label='pptv/pptv', extend='max')\n",
    "fig.colorbar(p10, ax=axes[1,0], shrink=0.7, label='pptv/pptv', extend='max')\n",
    "fig.colorbar(p11, ax=axes[1,1], shrink=0.7, label='pptv/pptv', extend='max')\n",
    "axes[0,0].set_title(f'{str_sbuono2}/{str_nc4h10}\\n{ukca_date.strftime(\"%B %Y\")} (mean) surface + SLP (hPa)');\n",
    "axes[0,1].set_title(f'{str_n2peono2}/{str_nc5h12}\\n{ukca_date.strftime(\"%B %Y\")} (mean) surface');\n",
    "axes[1,0].set_title(f'{str_ipeono2}/{str_ic5h12}\\n{ukca_date.strftime(\"%B %Y\")} (mean) surface');\n",
    "axes[1,1].set_title(f'{str_n3peono2}/{str_nc5h12}\\n{ukca_date.strftime(\"%B %Y\")} (mean) surface');\n",
    "# common\n",
    "for ax in axes.flatten():\n",
    "    ax.coastlines()\n",
    "    ax.set_extent([0, 359, 0, 90], crs=ccrs.PlateCarree());\n",
    "    \n",
    "# axcb = fig.add_axes() # [0.3, 0.1, 0.5, 0.01]\n",
    "# fig.colorbar(CS, ax=axcb, orientation='horizontal')\n",
    "fig.subplots_adjust(wspace=-0.4);\n",
    "fig.tight_layout();\n",
    "# fig.savefig('rono2_rh_ratio_nh_jan.png')"
   ]
  }
 ],
 "metadata": {
  "anaconda-cloud": {},
  "kernelspec": {
   "display_name": "Python [default]",
   "language": "python",
   "name": "python3"
  },
  "language_info": {
   "codemirror_mode": {
    "name": "ipython",
    "version": 3
   },
   "file_extension": ".py",
   "mimetype": "text/x-python",
   "name": "python",
   "nbconvert_exporter": "python",
   "pygments_lexer": "ipython3",
   "version": "3.6.5"
  }
 },
 "nbformat": 4,
 "nbformat_minor": 2
}
