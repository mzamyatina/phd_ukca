{
 "cells": [
  {
   "cell_type": "code",
   "execution_count": 1,
   "metadata": {},
   "outputs": [],
   "source": [
    "import iris\n",
    "import numpy as np\n",
    "import xarray as xr\n",
    "import calendar\n",
    "import cartopy.util\n",
    "import cartopy.crs as ccrs\n",
    "import matplotlib as mpl\n",
    "import matplotlib.pyplot as plt\n",
    "from pathlib import Path"
   ]
  },
  {
   "cell_type": "code",
   "execution_count": 2,
   "metadata": {},
   "outputs": [],
   "source": [
    "# Read data\n",
    "path_to_geos = Path('../../external_data/GEOS-Chem')\n",
    "path_to_ukca = Path('../data')\n",
    "geos = xr.open_dataset(path_to_geos / 'ocean_rono2_2013.nc')\n",
    "ukca = iris.load_cube(str(path_to_ukca / 'xnvtc' / 'xnvtc_o3.nc'))\n",
    "# ukca_srf = xr.open_dataset('/local/mwe14avu/UEA/PhD/models/ukca/data/ukca_coords_n96e_marcus_180705.nc')"
   ]
  },
  {
   "cell_type": "code",
   "execution_count": null,
   "metadata": {},
   "outputs": [],
   "source": [
    "# 'GEOS-Chem: ', geos.data_vars, geos.coords\n",
    "# 'UKCA: ', ukca.data_vars, ukca.coords\n",
    "# GEOS-Chem: lon 2.5 lat 2 (at poles step is 1.5): (144, 91) \n",
    "# UKCA lon 3.75 lat 2.5 (96, 73)\n",
    "# GEOS-Chem data doesn't have a land mask and doesn't have fill_values where land is, so need to need to ensure that \n",
    "# non-zero fluxes don't appear on land in UKCA and that there aren't any missing grid boxes.\n",
    "# For that need to compare UKCA surface_altitude variable with GEOS-Chem fluxes.\n",
    "# geos.MeNO3_emission.lon.values\n",
    "# ukca.longitude.values"
   ]
  },
  {
   "cell_type": "code",
   "execution_count": null,
   "metadata": {},
   "outputs": [],
   "source": [
    "# Delete unnecessary UKCA coordinates leaving only time, latitude and longitude\n",
    "ukca.remove_coord('model_level_number')\n",
    "ukca.remove_coord('forecast_reference_time')\n",
    "ukca.remove_coord('forecast_period')\n",
    "ukca.remove_coord('level_height')\n",
    "ukca.remove_coord('sigma')"
   ]
  },
  {
   "cell_type": "code",
   "execution_count": 56,
   "metadata": {},
   "outputs": [
    {
     "data": {
      "text/html": [
       "\n",
       "<style>\n",
       "  a.iris {\n",
       "      text-decoration: none !important;\n",
       "  }\n",
       "  table.iris {\n",
       "      white-space: pre;\n",
       "      border: 1px solid;\n",
       "      border-color: #9c9c9c;\n",
       "      font-family: monaco, monospace;\n",
       "  }\n",
       "  th.iris {\n",
       "      background: #303f3f;\n",
       "      color: #e0e0e0;\n",
       "      border-left: 1px solid;\n",
       "      border-color: #9c9c9c;\n",
       "      font-size: 1.05em;\n",
       "      min-width: 50px;\n",
       "      max-width: 125px;\n",
       "  }\n",
       "  tr.iris :first-child {\n",
       "      border-right: 1px solid #9c9c9c !important;\n",
       "  }\n",
       "  td.iris-title {\n",
       "      background: #d5dcdf;\n",
       "      border-top: 1px solid #9c9c9c;\n",
       "      font-weight: bold;\n",
       "  }\n",
       "  .iris-word-cell {\n",
       "      text-align: left !important;\n",
       "      white-space: pre;\n",
       "  }\n",
       "  .iris-subheading-cell {\n",
       "      padding-left: 2em !important;\n",
       "  }\n",
       "  .iris-inclusion-cell {\n",
       "      padding-right: 1em !important;\n",
       "  }\n",
       "  .iris-panel-body {\n",
       "      padding-top: 0px;\n",
       "  }\n",
       "  .iris-panel-title {\n",
       "      padding-left: 3em;\n",
       "  }\n",
       "  .iris-panel-title {\n",
       "      margin-top: 7px;\n",
       "  }\n",
       "</style>\n",
       "<table class=\"iris\" id=\"139736037454792\">\n",
       "    <tr class=\"iris\">\n",
       "<th class=\"iris iris-word-cell\">Methyl Nitrate Oceanic Emission (kg/m2/s)</th>\n",
       "<th class=\"iris iris-word-cell\">time</th>\n",
       "<th class=\"iris iris-word-cell\">latitude</th>\n",
       "<th class=\"iris iris-word-cell\">longitude</th>\n",
       "</tr>\n",
       "    <tr class=\"iris\">\n",
       "<td class=\"iris-word-cell iris-subheading-cell\">Shape</td>\n",
       "<td class=\"iris iris-inclusion-cell\">12</td>\n",
       "<td class=\"iris iris-inclusion-cell\">73</td>\n",
       "<td class=\"iris iris-inclusion-cell\">96</td>\n",
       "</td>\n",
       "    <tr class=\"iris\">\n",
       "    <td class=\"iris-title iris-word-cell\">Dimension coordinates</td>\n",
       "    <td class=\"iris-title\"></td>\n",
       "    <td class=\"iris-title\"></td>\n",
       "    <td class=\"iris-title\"></td>\n",
       "</tr>\n",
       "<tr class=\"iris\">\n",
       "    <td class=\"iris-word-cell iris-subheading-cell\">\ttime</td>\n",
       "    <td class=\"iris-inclusion-cell\">x</td>\n",
       "    <td class=\"iris-inclusion-cell\">-</td>\n",
       "    <td class=\"iris-inclusion-cell\">-</td>\n",
       "</tr>\n",
       "<tr class=\"iris\">\n",
       "    <td class=\"iris-word-cell iris-subheading-cell\">\tlatitude</td>\n",
       "    <td class=\"iris-inclusion-cell\">-</td>\n",
       "    <td class=\"iris-inclusion-cell\">x</td>\n",
       "    <td class=\"iris-inclusion-cell\">-</td>\n",
       "</tr>\n",
       "<tr class=\"iris\">\n",
       "    <td class=\"iris-word-cell iris-subheading-cell\">\tlongitude</td>\n",
       "    <td class=\"iris-inclusion-cell\">-</td>\n",
       "    <td class=\"iris-inclusion-cell\">-</td>\n",
       "    <td class=\"iris-inclusion-cell\">x</td>\n",
       "</tr>\n",
       "</table>\n",
       "        "
      ],
      "text/plain": [
       "<iris 'Cube' of methyl nitrate oceanic emission / (kg/m2/s) (time: 12; latitude: 73; longitude: 96)>"
      ]
     },
     "execution_count": 56,
     "metadata": {},
     "output_type": "execute_result"
    }
   ],
   "source": [
    "# Convert GEOS-Chem xarray dataset to iris cube\n",
    "geos_meono2_emis = geos.MeNO3_emission.to_iris()\n",
    "geos_etono2_emis = geos.EtNO3_emission.to_iris()\n",
    "# Rename coordinates as iris expects\n",
    "geos_meono2_emis.coord('Time, instantaneous or at start of averaging period').rename('time')\n",
    "geos_meono2_emis.coord('Latitude').rename('latitude')\n",
    "geos_meono2_emis.coord('Longitude').rename('longitude')\n",
    "geos_etono2_emis.coord('Time, instantaneous or at start of averaging period').rename('time')\n",
    "geos_etono2_emis.coord('Latitude').rename('latitude')\n",
    "geos_etono2_emis.coord('Longitude').rename('longitude')\n",
    "# Regrid GEOS-Chem data onto UKCA grid\n",
    "ukca_grid = [('longitude', ukca.coord('longitude').points-180), ('latitude', ukca.coord('latitude').points)]\n",
    "_ukca_meono2_emis = geos_meono2_emis.interpolate(ukca_grid, iris.analysis.Linear())\n",
    "_ukca_etono2_emis = geos_etono2_emis.interpolate(ukca_grid, iris.analysis.Linear())\n",
    "# Variables to convert molecules cm-2 s-1 to kg m-2 s-1\n",
    "avogadro_number = iris.coords.AuxCoord(6.022*1e23, units='molec/mol', long_name='avogadro_number')\n",
    "molar_mass_meono2 = iris.coords.AuxCoord(77.0394, units='g/mol', long_name='molar_mass_of_methyl_nitrate')\n",
    "molar_mass_etono2 = iris.coords.AuxCoord(91.0660, units='g/mol', long_name='molar_mass_of_ethyl_nitrate')\n",
    "# Convert to kg m-2 s-1\n",
    "ukca_meono2_emis = _ukca_meono2_emis / avogadro_number * molar_mass_meono2 \n",
    "ukca_etono2_emis = _ukca_etono2_emis / avogadro_number * molar_mass_etono2 \n",
    "ukca_meono2_emis.convert_units('kg/m2/s')\n",
    "ukca_etono2_emis.convert_units('kg/m2/s')\n",
    "ukca_meono2_emis.rename('methyl nitrate oceanic emission')\n",
    "ukca_etono2_emis.rename('ethyl nitrate oceanic emission')\n",
    "ukca_meono2_emis"
   ]
  },
  {
   "cell_type": "code",
   "execution_count": 54,
   "metadata": {},
   "outputs": [],
   "source": [
    "# for i in iris.std_names.STD_NAMES.keys():\n",
    "#     if 'methyl_' in i:\n",
    "#         print(i)"
   ]
  },
  {
   "cell_type": "code",
   "execution_count": 57,
   "metadata": {},
   "outputs": [
    {
     "data": {
      "text/html": [
       "\n",
       "<style>\n",
       "  a.iris {\n",
       "      text-decoration: none !important;\n",
       "  }\n",
       "  table.iris {\n",
       "      white-space: pre;\n",
       "      border: 1px solid;\n",
       "      border-color: #9c9c9c;\n",
       "      font-family: monaco, monospace;\n",
       "  }\n",
       "  th.iris {\n",
       "      background: #303f3f;\n",
       "      color: #e0e0e0;\n",
       "      border-left: 1px solid;\n",
       "      border-color: #9c9c9c;\n",
       "      font-size: 1.05em;\n",
       "      min-width: 50px;\n",
       "      max-width: 125px;\n",
       "  }\n",
       "  tr.iris :first-child {\n",
       "      border-right: 1px solid #9c9c9c !important;\n",
       "  }\n",
       "  td.iris-title {\n",
       "      background: #d5dcdf;\n",
       "      border-top: 1px solid #9c9c9c;\n",
       "      font-weight: bold;\n",
       "  }\n",
       "  .iris-word-cell {\n",
       "      text-align: left !important;\n",
       "      white-space: pre;\n",
       "  }\n",
       "  .iris-subheading-cell {\n",
       "      padding-left: 2em !important;\n",
       "  }\n",
       "  .iris-inclusion-cell {\n",
       "      padding-right: 1em !important;\n",
       "  }\n",
       "  .iris-panel-body {\n",
       "      padding-top: 0px;\n",
       "  }\n",
       "  .iris-panel-title {\n",
       "      padding-left: 3em;\n",
       "  }\n",
       "  .iris-panel-title {\n",
       "      margin-top: 7px;\n",
       "  }\n",
       "</style>\n",
       "<table class=\"iris\" id=\"139736044962088\">\n",
       "    <tr class=\"iris\">\n",
       "<th class=\"iris iris-word-cell\">Ethyl Nitrate Oceanic Emission (kg/m2/s)</th>\n",
       "<th class=\"iris iris-word-cell\">time</th>\n",
       "<th class=\"iris iris-word-cell\">latitude</th>\n",
       "<th class=\"iris iris-word-cell\">longitude</th>\n",
       "</tr>\n",
       "    <tr class=\"iris\">\n",
       "<td class=\"iris-word-cell iris-subheading-cell\">Shape</td>\n",
       "<td class=\"iris iris-inclusion-cell\">12</td>\n",
       "<td class=\"iris iris-inclusion-cell\">73</td>\n",
       "<td class=\"iris iris-inclusion-cell\">96</td>\n",
       "</td>\n",
       "    <tr class=\"iris\">\n",
       "    <td class=\"iris-title iris-word-cell\">Dimension coordinates</td>\n",
       "    <td class=\"iris-title\"></td>\n",
       "    <td class=\"iris-title\"></td>\n",
       "    <td class=\"iris-title\"></td>\n",
       "</tr>\n",
       "<tr class=\"iris\">\n",
       "    <td class=\"iris-word-cell iris-subheading-cell\">\ttime</td>\n",
       "    <td class=\"iris-inclusion-cell\">x</td>\n",
       "    <td class=\"iris-inclusion-cell\">-</td>\n",
       "    <td class=\"iris-inclusion-cell\">-</td>\n",
       "</tr>\n",
       "<tr class=\"iris\">\n",
       "    <td class=\"iris-word-cell iris-subheading-cell\">\tlatitude</td>\n",
       "    <td class=\"iris-inclusion-cell\">-</td>\n",
       "    <td class=\"iris-inclusion-cell\">x</td>\n",
       "    <td class=\"iris-inclusion-cell\">-</td>\n",
       "</tr>\n",
       "<tr class=\"iris\">\n",
       "    <td class=\"iris-word-cell iris-subheading-cell\">\tlongitude</td>\n",
       "    <td class=\"iris-inclusion-cell\">-</td>\n",
       "    <td class=\"iris-inclusion-cell\">-</td>\n",
       "    <td class=\"iris-inclusion-cell\">x</td>\n",
       "</tr>\n",
       "</table>\n",
       "        "
      ],
      "text/plain": [
       "<iris 'Cube' of ethyl nitrate oceanic emission / (kg/m2/s) (time: 12; latitude: 73; longitude: 96)>"
      ]
     },
     "execution_count": 57,
     "metadata": {},
     "output_type": "execute_result"
    }
   ],
   "source": [
    "ukca_etono2_emis"
   ]
  },
  {
   "cell_type": "markdown",
   "metadata": {},
   "source": [
    "### Check global burdens\n",
    "\n",
    "Fisher et al (2018): global RONO2 oceanic emissions for year 2013: MeONO2 is 157 Gg N a-1, EtONO2 is 27 Gg N a-1."
   ]
  },
  {
   "cell_type": "code",
   "execution_count": 16,
   "metadata": {},
   "outputs": [],
   "source": [
    "# Variables to convert to kg of N\n",
    "avogadro_number_cb = iris.cube.Cube(6.022*1e23, units='molec/mol', long_name='avogadro_number')\n",
    "molar_mass_meono2_cb = iris.cube.Cube(77.0394, units='g/mol', long_name='molar_mass_of_methyl_nitrate')\n",
    "molar_mass_etono2_cb = iris.cube.Cube(91.0660, units='g/mol', long_name='molar_mass_of_ethyl_nitrate')\n",
    "molar_mass_n_cb = iris.cube.Cube(14.0067, units='g/mol', long_name='molar_mass_of_atomic_nitrogen')"
   ]
  },
  {
   "cell_type": "markdown",
   "metadata": {},
   "source": [
    "Start with GEOS-Chem:"
   ]
  },
  {
   "cell_type": "code",
   "execution_count": 17,
   "metadata": {},
   "outputs": [],
   "source": [
    "# Guess coordinate bounds\n",
    "for coord in ['longitude', 'latitude']:\n",
    "    if not geos_meono2_emis.coord(coord).has_bounds():\n",
    "        geos_meono2_emis.coord(coord).guess_bounds()\n",
    "    if not geos_etono2_emis.coord(coord).has_bounds():\n",
    "        geos_etono2_emis.coord(coord).guess_bounds()\n",
    "# Calculate emission per year by weighting monthly values by month's length and adding values up\n",
    "n_days_per_month = np.asarray([calendar.monthrange(2013, i)[1] for i in range(1, 13)]) # number of days in each month in year 2013\n",
    "geos_month_weights = iris.util.broadcast_to_shape(n_days_per_month, geos_meono2_emis.shape, (0,)) # weight of each month's length\n",
    "geos_meono2_emis_per_year = (geos_meono2_emis * \n",
    "                             iris.coords.AuxCoord(86400, units='s', long_name='seconds_per_day')).collapsed(['time'],\n",
    "                                                                                                            iris.analysis.SUM,\n",
    "                                                                                                            weights=geos_month_weights)\n",
    "geos_etono2_emis_per_year = (geos_etono2_emis * \n",
    "                             iris.coords.AuxCoord(86400, units='s', long_name='seconds_per_day')).collapsed(['time'],\n",
    "                                                                                                            iris.analysis.SUM,\n",
    "                                                                                                            weights=geos_month_weights)\n",
    "# Add up all grid cells accounting for their varying area sizes\n",
    "geos_norm_area_weights = iris.analysis.cartography.area_weights(geos_meono2_emis_per_year, normalize=True)\n",
    "geos_meono2_emis_per_year_area_sum = geos_meono2_emis_per_year.collapsed(['longitude', 'latitude'], \n",
    "                                                                         iris.analysis.SUM,\n",
    "                                                                         weights=geos_norm_area_weights)\n",
    "geos_etono2_emis_per_year_area_sum = geos_etono2_emis_per_year.collapsed(['longitude', 'latitude'], \n",
    "                                                                         iris.analysis.SUM,\n",
    "                                                                         weights=geos_norm_area_weights)"
   ]
  },
  {
   "cell_type": "code",
   "execution_count": 18,
   "metadata": {},
   "outputs": [],
   "source": [
    "# Calculate Earth's area\n",
    "area_weights = iris.analysis.cartography.area_weights(geos_meono2_emis_per_year, normalize=False)\n",
    "earth_area = iris.cube.Cube(area_weights.sum(), units='m2')"
   ]
  },
  {
   "cell_type": "code",
   "execution_count": 19,
   "metadata": {},
   "outputs": [
    {
     "name": "stdout",
     "output_type": "stream",
     "text": [
      "157.12963628790993 Gg\n",
      "26.948046324634973 Gg\n"
     ]
    }
   ],
   "source": [
    "# Calculate GEOS-Chem global burden\n",
    "geos_meono2_emis_burden = geos_meono2_emis_per_year_area_sum * earth_area / avogadro_number_cb * molar_mass_n_cb\n",
    "geos_etono2_emis_burden = geos_etono2_emis_per_year_area_sum * earth_area / avogadro_number_cb * molar_mass_n_cb\n",
    "geos_meono2_emis_burden.convert_units('Gg')\n",
    "geos_etono2_emis_burden.convert_units('Gg')\n",
    "print(geos_meono2_emis_burden.data, 'Gg')\n",
    "print(geos_etono2_emis_burden.data, 'Gg')"
   ]
  },
  {
   "cell_type": "markdown",
   "metadata": {},
   "source": [
    "Same for UKCA:"
   ]
  },
  {
   "cell_type": "code",
   "execution_count": 21,
   "metadata": {},
   "outputs": [
    {
     "name": "stdout",
     "output_type": "stream",
     "text": [
      "155.65567960242137 Gg\n",
      "26.69187679297173 Gg\n"
     ]
    }
   ],
   "source": [
    "# Guess coordinate bounds\n",
    "for coord in ['longitude', 'latitude']:\n",
    "    if not ukca_meono2_emis.coord(coord).has_bounds():\n",
    "        ukca_meono2_emis.coord(coord).guess_bounds()\n",
    "    if not ukca_etono2_emis.coord(coord).has_bounds():\n",
    "        ukca_etono2_emis.coord(coord).guess_bounds()\n",
    "# Calculate emission per year by weighting monthly values by month's length and adding values up\n",
    "ukca_month_weights = iris.util.broadcast_to_shape(n_days_per_month, ukca_meono2_emis.shape, (0,))\n",
    "ukca_meono2_emis_per_year = (ukca_meono2_emis * \n",
    "                             iris.coords.AuxCoord(86400, units='s', long_name='seconds_per_day')).collapsed(['time'],\n",
    "                                                                                                            iris.analysis.SUM,\n",
    "                                                                                                            weights=ukca_month_weights)\n",
    "ukca_etono2_emis_per_year = (ukca_etono2_emis * \n",
    "                             iris.coords.AuxCoord(86400, units='s', long_name='seconds_per_day')).collapsed(['time'],\n",
    "                                                                                                            iris.analysis.SUM,\n",
    "                                                                                                            weights=ukca_month_weights)\n",
    "# Add up all grid cells accounting for their varying area sizes\n",
    "ukca_norm_area_weights = iris.analysis.cartography.area_weights(ukca_meono2_emis_per_year, normalize=True)\n",
    "ukca_meono2_emis_per_year_area_sum = ukca_meono2_emis_per_year.collapsed(['longitude', 'latitude'],\n",
    "                                                                         iris.analysis.SUM, \n",
    "                                                                         weights=ukca_norm_area_weights)\n",
    "ukca_etono2_emis_per_year_area_sum = ukca_etono2_emis_per_year.collapsed(['longitude', 'latitude'],\n",
    "                                                                         iris.analysis.SUM, \n",
    "                                                                         weights=ukca_norm_area_weights)\n",
    "# Calculate UKCA global burden\n",
    "ukca_meono2_emis_burden = ukca_meono2_emis_per_year_area_sum * earth_area * avogadro_number_cb / molar_mass_meono2_cb * molar_mass_n_cb\n",
    "ukca_etono2_emis_burden = ukca_etono2_emis_per_year_area_sum * earth_area * avogadro_number_cb / molar_mass_etono2_cb * molar_mass_n_cb\n",
    "ukca_meono2_emis_burden.convert_units('Gg')\n",
    "ukca_etono2_emis_burden.convert_units('Gg')\n",
    "print(ukca_meono2_emis_burden.data, 'Gg')\n",
    "print(ukca_etono2_emis_burden.data, 'Gg')"
   ]
  },
  {
   "cell_type": "markdown",
   "metadata": {},
   "source": [
    "### Create perpetual year 2013 emissions"
   ]
  },
  {
   "cell_type": "code",
   "execution_count": 87,
   "metadata": {},
   "outputs": [],
   "source": [
    "from datetime import datetime\n",
    "import dateutil.parser"
   ]
  },
  {
   "cell_type": "code",
   "execution_count": 59,
   "metadata": {},
   "outputs": [],
   "source": [
    "perpetual_meono2 = np.repeat(ukca_meono2_emis.data, 10, axis=0)\n",
    "perpetual_etono2 = np.repeat(ukca_etono2_emis.data, 10, axis=0)"
   ]
  },
  {
   "cell_type": "code",
   "execution_count": 83,
   "metadata": {},
   "outputs": [
    {
     "data": {
      "text/plain": [
       "Unit('hours since 1970-01-01 00:00:00', calendar='360_day')"
      ]
     },
     "execution_count": 83,
     "metadata": {},
     "output_type": "execute_result"
    }
   ],
   "source": [
    "ukca.coord('time').units"
   ]
  },
  {
   "cell_type": "code",
   "execution_count": 84,
   "metadata": {},
   "outputs": [],
   "source": [
    "time = iris.coords.DimCoord(np.arange(1,121,1), standard_name='time', units=ukca.coord('time').units)"
   ]
  },
  {
   "cell_type": "code",
   "execution_count": 85,
   "metadata": {},
   "outputs": [
    {
     "data": {
      "text/html": [
       "\n",
       "<style>\n",
       "  a.iris {\n",
       "      text-decoration: none !important;\n",
       "  }\n",
       "  table.iris {\n",
       "      white-space: pre;\n",
       "      border: 1px solid;\n",
       "      border-color: #9c9c9c;\n",
       "      font-family: monaco, monospace;\n",
       "  }\n",
       "  th.iris {\n",
       "      background: #303f3f;\n",
       "      color: #e0e0e0;\n",
       "      border-left: 1px solid;\n",
       "      border-color: #9c9c9c;\n",
       "      font-size: 1.05em;\n",
       "      min-width: 50px;\n",
       "      max-width: 125px;\n",
       "  }\n",
       "  tr.iris :first-child {\n",
       "      border-right: 1px solid #9c9c9c !important;\n",
       "  }\n",
       "  td.iris-title {\n",
       "      background: #d5dcdf;\n",
       "      border-top: 1px solid #9c9c9c;\n",
       "      font-weight: bold;\n",
       "  }\n",
       "  .iris-word-cell {\n",
       "      text-align: left !important;\n",
       "      white-space: pre;\n",
       "  }\n",
       "  .iris-subheading-cell {\n",
       "      padding-left: 2em !important;\n",
       "  }\n",
       "  .iris-inclusion-cell {\n",
       "      padding-right: 1em !important;\n",
       "  }\n",
       "  .iris-panel-body {\n",
       "      padding-top: 0px;\n",
       "  }\n",
       "  .iris-panel-title {\n",
       "      padding-left: 3em;\n",
       "  }\n",
       "  .iris-panel-title {\n",
       "      margin-top: 7px;\n",
       "  }\n",
       "</style>\n",
       "<table class=\"iris\" id=\"139736037427240\">\n",
       "    <tr class=\"iris\">\n",
       "<th class=\"iris iris-word-cell\">Methyl Nitrate Oceanic Emission (kg/m2/s)</th>\n",
       "<th class=\"iris iris-word-cell\">time</th>\n",
       "<th class=\"iris iris-word-cell\">latitude</th>\n",
       "<th class=\"iris iris-word-cell\">longitude</th>\n",
       "</tr>\n",
       "    <tr class=\"iris\">\n",
       "<td class=\"iris-word-cell iris-subheading-cell\">Shape</td>\n",
       "<td class=\"iris iris-inclusion-cell\">120</td>\n",
       "<td class=\"iris iris-inclusion-cell\">73</td>\n",
       "<td class=\"iris iris-inclusion-cell\">96</td>\n",
       "</td>\n",
       "    <tr class=\"iris\">\n",
       "    <td class=\"iris-title iris-word-cell\">Dimension coordinates</td>\n",
       "    <td class=\"iris-title\"></td>\n",
       "    <td class=\"iris-title\"></td>\n",
       "    <td class=\"iris-title\"></td>\n",
       "</tr>\n",
       "<tr class=\"iris\">\n",
       "    <td class=\"iris-word-cell iris-subheading-cell\">\ttime</td>\n",
       "    <td class=\"iris-inclusion-cell\">x</td>\n",
       "    <td class=\"iris-inclusion-cell\">-</td>\n",
       "    <td class=\"iris-inclusion-cell\">-</td>\n",
       "</tr>\n",
       "<tr class=\"iris\">\n",
       "    <td class=\"iris-word-cell iris-subheading-cell\">\tlatitude</td>\n",
       "    <td class=\"iris-inclusion-cell\">-</td>\n",
       "    <td class=\"iris-inclusion-cell\">x</td>\n",
       "    <td class=\"iris-inclusion-cell\">-</td>\n",
       "</tr>\n",
       "<tr class=\"iris\">\n",
       "    <td class=\"iris-word-cell iris-subheading-cell\">\tlongitude</td>\n",
       "    <td class=\"iris-inclusion-cell\">-</td>\n",
       "    <td class=\"iris-inclusion-cell\">-</td>\n",
       "    <td class=\"iris-inclusion-cell\">x</td>\n",
       "</tr>\n",
       "</table>\n",
       "        "
      ],
      "text/plain": [
       "<iris 'Cube' of methyl_nitrate_oceanic_emission / (kg/m2/s) (time: 120; latitude: 73; longitude: 96)>"
      ]
     },
     "execution_count": 85,
     "metadata": {},
     "output_type": "execute_result"
    }
   ],
   "source": [
    "iris.cube.Cube(perpetual_meono2, long_name='methyl_nitrate_oceanic_emission', units='kg/m2/s',\n",
    "               dim_coords_and_dims=[(time, 0), (ukca.coord('latitude'), 1), (ukca.coord('longitude'), 2)])"
   ]
  },
  {
   "cell_type": "code",
   "execution_count": 93,
   "metadata": {},
   "outputs": [],
   "source": [
    "ukca_hours_since_1970_01_01 = dateutil.parser.parse(str(ukca.coord('time').units)[11:])"
   ]
  },
  {
   "cell_type": "code",
   "execution_count": 94,
   "metadata": {},
   "outputs": [
    {
     "data": {
      "text/plain": [
       "datetime.datetime(1970, 1, 1, 0, 0)"
      ]
     },
     "execution_count": 94,
     "metadata": {},
     "output_type": "execute_result"
    }
   ],
   "source": [
    "ukca_hours_since_1970_01_01"
   ]
  },
  {
   "cell_type": "code",
   "execution_count": null,
   "metadata": {},
   "outputs": [],
   "source": []
  },
  {
   "cell_type": "code",
   "execution_count": null,
   "metadata": {},
   "outputs": [],
   "source": []
  }
 ],
 "metadata": {
  "kernelspec": {
   "display_name": "Python 3",
   "language": "python",
   "name": "python3"
  },
  "language_info": {
   "codemirror_mode": {
    "name": "ipython",
    "version": 3
   },
   "file_extension": ".py",
   "mimetype": "text/x-python",
   "name": "python",
   "nbconvert_exporter": "python",
   "pygments_lexer": "ipython3",
   "version": "3.6.6"
  }
 },
 "nbformat": 4,
 "nbformat_minor": 2
}
