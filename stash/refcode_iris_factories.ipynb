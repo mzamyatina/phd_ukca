{
 "cells": [
  {
   "cell_type": "code",
   "execution_count": null,
   "metadata": {},
   "outputs": [],
   "source": [
    "from cf_units import Unit"
   ]
  },
  {
   "cell_type": "code",
   "execution_count": null,
   "metadata": {},
   "outputs": [],
   "source": [
    "# Correct hybrid_height units from 'unknown' to 'm'\n",
    "cb_meono2.coord('Hybrid height').units = Unit('m')\n",
    "\n",
    "# Add surface_altitude coordinate to a cube\n",
    "new_coord = iris.coords.AuxCoord(cb_srf_alt.data, standard_name='surface_altitude', units='m')\n",
    "cb_meono2.add_aux_coord(new_coord, data_dims=[2, 3])\n",
    "# Derive altitude coordinate from surface_altitude\n",
    "factory = iris.aux_factory.HybridHeightFactory(delta=cb_meono2.coord('Hybrid height'), \n",
    "                                               orography=cb_meono2.coord('surface_altitude'))\n",
    "cb_meono2.add_aux_factory(factory)\n",
    "# Relevel model data from hybrid_height to target levels (called here height)\n",
    "tgt_levels = np.arange(0, 14000, 100)\n",
    "height_coord = cb_meono2.coord('altitude').copy() # avoid duplication of coordinate names\n",
    "height_coord.rename('height')\n",
    "src_levels = height_coord\n",
    "\n",
    "cbr_meono2 = stratify.relevel(cb_meono2, src_levels, tgt_levels, axis='Hybrid height')"
   ]
  }
 ],
 "metadata": {
  "kernelspec": {
   "display_name": "Python 3",
   "language": "python",
   "name": "python3"
  },
  "language_info": {
   "codemirror_mode": {
    "name": "ipython",
    "version": 3
   },
   "file_extension": ".py",
   "mimetype": "text/x-python",
   "name": "python",
   "nbconvert_exporter": "python",
   "pygments_lexer": "ipython3",
   "version": "3.6.8"
  }
 },
 "nbformat": 4,
 "nbformat_minor": 2
}
