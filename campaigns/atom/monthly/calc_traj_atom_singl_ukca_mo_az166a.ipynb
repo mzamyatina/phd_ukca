{
 "cells": [
  {
   "cell_type": "code",
   "execution_count": 1,
   "metadata": {
    "nbpresent": {
     "id": "46246386-fec1-4d42-bf10-698a4054dbda"
    }
   },
   "outputs": [],
   "source": [
    "# Data processing\n",
    "import iris\n",
    "import numpy as np\n",
    "import xarray as xr\n",
    "import dateutil.parser\n",
    "import warnings\n",
    "warnings.filterwarnings('ignore', module='iris')\n",
    "from iris.experimental import stratify\n",
    "from iris.analysis import trajectory\n",
    "from pathlib import Path\n",
    "from datetime import datetime, timedelta\n",
    "## Scientific parameters\n",
    "M_air = 28.97 # molar mass of dry air [g mol-1]\n",
    "# Coefficients to convert mass mixing ratio to volume mixing ratio\n",
    "coeff_c2h6 = (M_air/30.0690)*1e12\n",
    "coeff_c3h8 = (M_air/44.0956)*1e12\n",
    "coeff_nc4h10 = (M_air/58.1222)*1e12\n",
    "coeff_ic4h10 = (M_air/58.1222)*1e12\n",
    "coeff_nc5h12 = (M_air/72.1488)*1e12\n",
    "coeff_ic5h12 = (M_air/72.1488)*1e12\n",
    "coeff_meono2 = (M_air/77.0394)*1e12\n",
    "coeff_sbuono2 = (M_air/119.1192)*1e12\n",
    "coeff_n2peono2 = (M_air/133.1457)*1e12\n",
    "coeff_n3peono2 = (M_air/133.1457)*1e12\n",
    "coeff_ipeono2 = (M_air/133.1457)*1e12"
   ]
  },
  {
   "cell_type": "markdown",
   "metadata": {},
   "source": [
    "#### Read data"
   ]
  },
  {
   "cell_type": "code",
   "execution_count": 2,
   "metadata": {},
   "outputs": [],
   "source": [
    "path_to_atom = Path('../../../obs/ATom/nc/data')\n",
    "# Select flight\n",
    "fname_atom_flight = 'MER-WAS_DC8_20160729_R14.nc'\n",
    "# Read ATom data\n",
    "atom_dsinf = xr.open_dataset(path_to_atom / fname_atom_flight, decode_times=True)\n",
    "atom_dsmms = xr.open_dataset(path_to_atom / fname_atom_flight, group='MMS', decode_cf=True)"
   ]
  },
  {
   "cell_type": "code",
   "execution_count": 3,
   "metadata": {
    "nbpresent": {
     "id": "5bf220d9-75c8-489e-81fb-58c0a9a4f83d"
    }
   },
   "outputs": [],
   "source": [
    "# Choose UKCA run\n",
    "ukca_run_name = 'az166a'\n",
    "ukca_run_yrmn = 'pm2016jul'\n",
    "path_to_ukca = Path('../data') / ukca_run_name\n",
    "fname_ukca_run = f'{ukca_run_name}.{ukca_run_yrmn}.pp'\n",
    "# Read UKCA data\n",
    "cb_c2h6 = iris.load_cube(str(path_to_ukca / fname_ukca_run), 'mass_fraction_of_ethane_in_air')*coeff_c2h6\n",
    "cb_c3h8 = iris.load_cube(str(path_to_ukca / fname_ukca_run), 'mass_fraction_of_propane_in_air')*coeff_c3h8\n",
    "cb_nc4h10 = iris.load_cube(str(path_to_ukca / fname_ukca_run), iris.AttributeConstraint(STASH='m01s34i173'))*coeff_nc4h10\n",
    "cb_ic4h10 = iris.load_cube(str(path_to_ukca / fname_ukca_run), iris.AttributeConstraint(STASH='m01s34i174'))*coeff_ic4h10\n",
    "cb_nc5h12 = iris.load_cube(str(path_to_ukca / fname_ukca_run), iris.AttributeConstraint(STASH='m01s34i175'))*coeff_nc5h12\n",
    "cb_ic5h12 = iris.load_cube(str(path_to_ukca / fname_ukca_run), iris.AttributeConstraint(STASH='m01s34i176'))*coeff_ic5h12\n",
    "cb_meono2 = iris.load_cube(str(path_to_ukca / fname_ukca_run), 'mass_fraction_of_methyl_nitrate_in_air')*coeff_meono2\n",
    "cb_sbuono2 = iris.load_cube(str(path_to_ukca / fname_ukca_run), iris.AttributeConstraint(STASH='m01s34i188'))*coeff_sbuono2\n",
    "cb_n2peono2 = iris.load_cube(str(path_to_ukca / fname_ukca_run), iris.AttributeConstraint(STASH='m01s34i189'))*coeff_n2peono2\n",
    "cb_n3peono2 = iris.load_cube(str(path_to_ukca / fname_ukca_run), iris.AttributeConstraint(STASH='m01s34i190'))*coeff_n3peono2\n",
    "cb_ipeono2 = iris.load_cube(str(path_to_ukca / fname_ukca_run), iris.AttributeConstraint(STASH='m01s34i191'))*coeff_ipeono2"
   ]
  },
  {
   "cell_type": "code",
   "execution_count": 18,
   "metadata": {},
   "outputs": [
    {
     "name": "stdout",
     "output_type": "stream",
     "text": [
      "160729_160729_1607_singl\n"
     ]
    }
   ],
   "source": [
    "# Extract datetimes from ATom and UKCA data\n",
    "atom_datetime = atom_dsinf.time.values.astype('<M8[us]').astype(datetime)\n",
    "atom_date_strt = atom_datetime[0]\n",
    "atom_date_stop = atom_datetime[-1]\n",
    "ukca_days_since = dateutil.parser.parse(str(cb_nc4h10.coord('time').units)[12:])\n",
    "_ukca_datetime = []\n",
    "for i, ii in enumerate(list(cb_nc4h10.coord('time').points)):\n",
    "    _ukca_datetime.append(ukca_days_since + timedelta(hours=float(f'{ii:1.3f}'))) # UKCA's 'hours since 1970-01-01' format is 1.3f\n",
    "ukca_datetime = np.array(_ukca_datetime, dtype=datetime)\n",
    "# Create a common timestamp/flight merge identifier for trajectories\n",
    "compared_common_id = f'{atom_date_strt.strftime(\"%y%m%d\")}_{atom_date_stop.strftime(\"%y%m%d\")}_{ukca_datetime[0].strftime(\"%y%m\")}_singl'\n",
    "print(compared_common_id)"
   ]
  },
  {
   "cell_type": "markdown",
   "metadata": {},
   "source": [
    "#### Process data\n",
    "##### 1. Relevel model data from level height to absolute height "
   ]
  },
  {
   "cell_type": "code",
   "execution_count": null,
   "metadata": {},
   "outputs": [],
   "source": [
    "# Relevel model data from level height to target levels\n",
    "tgt_levels = np.arange(0, 14000, 100) # [meters]\n",
    "cbr_c2h6 = stratify.relevel(cb_c2h6, cb_c2h6.coord('altitude'), tgt_levels, axis='level_height')\n",
    "cbr_c3h8 = stratify.relevel(cb_c3h8, cb_c3h8.coord('altitude'), tgt_levels, axis='level_height')\n",
    "cbr_nc4h10 = stratify.relevel(cb_nc4h10, cb_nc4h10.coord('altitude'), tgt_levels, axis='level_height')\n",
    "cbr_ic4h10 = stratify.relevel(cb_ic4h10, cb_ic4h10.coord('altitude'), tgt_levels, axis='level_height')\n",
    "cbr_nc5h12 = stratify.relevel(cb_nc5h12, cb_nc5h12.coord('altitude'), tgt_levels, axis='level_height')\n",
    "cbr_ic5h12 = stratify.relevel(cb_ic5h12, cb_ic5h12.coord('altitude'), tgt_levels, axis='level_height')\n",
    "cbr_meono2 = stratify.relevel(cb_meono2, cb_meono2.coord('altitude'), tgt_levels, axis='level_height')\n",
    "cbr_sbuono2 = stratify.relevel(cb_sbuono2, cb_sbuono2.coord('altitude'), tgt_levels, axis='level_height')\n",
    "cbr_n2peono2 = stratify.relevel(cb_n2peono2, cb_n2peono2.coord('altitude'), tgt_levels, axis='level_height')\n",
    "cbr_n3peono2 = stratify.relevel(cb_n3peono2, cb_n3peono2.coord('altitude'), tgt_levels, axis='level_height')\n",
    "cbr_ipeono2 = stratify.relevel(cb_ipeono2, cb_ipeono2.coord('altitude'), tgt_levels, axis='level_height')"
   ]
  },
  {
   "cell_type": "markdown",
   "metadata": {},
   "source": [
    "##### 2. Calculate trajectories"
   ]
  },
  {
   "cell_type": "code",
   "execution_count": 21,
   "metadata": {},
   "outputs": [],
   "source": [
    "# Reconstruct a flight trajectory from ATom geospacial and datetime data\n",
    "if compared_common_id == '160803_160803_1608_singl':\n",
    "    # Because ATom flight on 20160803 has one lat, lon, alt value equal to 'nan', have to interpolate between adjacent cells\n",
    "    # to replace 'nan' with an interpolated value.\n",
    "    sample_lats = atom_dsmms.G_LAT.interpolate_na(dim='time', method='linear').data\n",
    "    sample_lons = atom_dsmms.G_LONG.interpolate_na(dim='time', method='linear').data+360\n",
    "    sample_alts = atom_dsmms.G_ALT.interpolate_na(dim='time', method='linear').data\n",
    "else:\n",
    "    sample_lats = atom_dsmms.G_LAT.data \n",
    "    sample_lons = atom_dsmms.G_LONG.data+360\n",
    "    sample_alts = atom_dsmms.G_ALT.data\n",
    "sample_lats_lons_alts = [('latitude', sample_lats), ('longitude', sample_lons), ('altitude', sample_alts)]"
   ]
  },
  {
   "cell_type": "code",
   "execution_count": 27,
   "metadata": {},
   "outputs": [],
   "source": [
    "# Interpolate releveled model data to flight trajectory\n",
    "traj_c2h6 = trajectory.interpolate(cbr_c2h6, sample_lats_lons_alts)\n",
    "traj_c3h8 = trajectory.interpolate(cbr_c3h8, sample_lats_lons_alts)\n",
    "traj_nc4h10 = trajectory.interpolate(cbr_nc4h10, sample_lats_lons_alts)\n",
    "traj_ic4h10 = trajectory.interpolate(cbr_ic4h10, sample_lats_lons_alts)\n",
    "traj_nc5h12 = trajectory.interpolate(cbr_nc5h12, sample_lats_lons_alts)\n",
    "traj_ic5h12 = trajectory.interpolate(cbr_ic5h12, sample_lats_lons_alts)\n",
    "traj_meono2 = trajectory.interpolate(cbr_meono2, sample_lats_lons_alts)\n",
    "traj_sbuono2 = trajectory.interpolate(cbr_sbuono2, sample_lats_lons_alts)\n",
    "traj_n2peono2 = trajectory.interpolate(cbr_n2peono2, sample_lats_lons_alts)\n",
    "traj_n3peono2 = trajectory.interpolate(cbr_n3peono2, sample_lats_lons_alts)\n",
    "traj_ipeono2 = trajectory.interpolate(cbr_ipeono2, sample_lats_lons_alts)"
   ]
  },
  {
   "cell_type": "markdown",
   "metadata": {},
   "source": [
    "##### 3. Extract cross sections"
   ]
  },
  {
   "cell_type": "code",
   "execution_count": 28,
   "metadata": {},
   "outputs": [],
   "source": [
    "# Extract a cross section from model data along flight track\n",
    "sample_lats_lons = [('latitude', sample_lats), ('longitude', sample_lons)]\n",
    "crsc_c2h6 = trajectory.interpolate(cbr_c2h6, sample_lats_lons)\n",
    "crsc_c3h8 = trajectory.interpolate(cbr_c3h8, sample_lats_lons)\n",
    "crsc_nc4h10 = trajectory.interpolate(cbr_nc4h10, sample_lats_lons)\n",
    "crsc_ic4h10 = trajectory.interpolate(cbr_ic4h10, sample_lats_lons)\n",
    "crsc_nc5h12 = trajectory.interpolate(cbr_nc5h12, sample_lats_lons)\n",
    "crsc_ic5h12 = trajectory.interpolate(cbr_ic5h12, sample_lats_lons)\n",
    "crsc_meono2 = trajectory.interpolate(cbr_meono2, sample_lats_lons)\n",
    "crsc_sbuono2 = trajectory.interpolate(cbr_sbuono2, sample_lats_lons)\n",
    "crsc_n2peono2 = trajectory.interpolate(cbr_n2peono2, sample_lats_lons)\n",
    "crsc_n3peono2 = trajectory.interpolate(cbr_n3peono2, sample_lats_lons)\n",
    "crsc_ipeono2 = trajectory.interpolate(cbr_ipeono2, sample_lats_lons)"
   ]
  },
  {
   "cell_type": "markdown",
   "metadata": {},
   "source": [
    "#### Save processed data"
   ]
  },
  {
   "cell_type": "code",
   "execution_count": 29,
   "metadata": {},
   "outputs": [],
   "source": [
    "path_to_prcd = Path('../processed') / ukca_run_name"
   ]
  },
  {
   "cell_type": "code",
   "execution_count": 31,
   "metadata": {},
   "outputs": [],
   "source": [
    "# Save trajectories to .nc\n",
    "iris.save(traj_c2h6, str(path_to_prcd)+f'/{ukca_run_name}_{compared_common_id}_traj_c2h6.nc')\n",
    "iris.save(traj_c3h8, str(path_to_prcd)+f'/{ukca_run_name}_{compared_common_id}_traj_c3h8.nc')\n",
    "iris.save(traj_nc4h10, str(path_to_prcd)+f'/{ukca_run_name}_{compared_common_id}_traj_nc4h10.nc')\n",
    "iris.save(traj_ic4h10, str(path_to_prcd)+f'/{ukca_run_name}_{compared_common_id}_traj_ic4h10.nc')\n",
    "iris.save(traj_nc5h12, str(path_to_prcd)+f'/{ukca_run_name}_{compared_common_id}_traj_nc5h12.nc')\n",
    "iris.save(traj_ic5h12, str(path_to_prcd)+f'/{ukca_run_name}_{compared_common_id}_traj_ic5h12.nc')\n",
    "iris.save(traj_meono2, str(path_to_prcd)+f'/{ukca_run_name}_{compared_common_id}_traj_meono2.nc')\n",
    "iris.save(traj_sbuono2, str(path_to_prcd)+f'/{ukca_run_name}_{compared_common_id}_traj_sbuono2.nc')\n",
    "iris.save(traj_n2peono2, str(path_to_prcd)+f'/{ukca_run_name}_{compared_common_id}_traj_n2peono2.nc')\n",
    "iris.save(traj_n3peono2, str(path_to_prcd)+f'/{ukca_run_name}_{compared_common_id}_traj_n3peono2.nc')\n",
    "iris.save(traj_ipeono2, str(path_to_prcd)+f'/{ukca_run_name}_{compared_common_id}_traj_ipeono2.nc')"
   ]
  },
  {
   "cell_type": "code",
   "execution_count": 32,
   "metadata": {},
   "outputs": [],
   "source": [
    "# Save cross sections to .nc\n",
    "iris.save(crsc_c2h6, str(path_to_prcd)+f'/{ukca_run_name}_{compared_common_id}_crsc_c2h6.nc')\n",
    "iris.save(crsc_c3h8, str(path_to_prcd)+f'/{ukca_run_name}_{compared_common_id}_crsc_c3h8.nc')\n",
    "iris.save(crsc_nc4h10, str(path_to_prcd)+f'/{ukca_run_name}_{compared_common_id}_crsc_nc4h10.nc')\n",
    "iris.save(crsc_ic4h10, str(path_to_prcd)+f'/{ukca_run_name}_{compared_common_id}_crsc_ic4h10.nc')\n",
    "iris.save(crsc_nc5h12, str(path_to_prcd)+f'/{ukca_run_name}_{compared_common_id}_crsc_nc5h12.nc')\n",
    "iris.save(crsc_ic5h12, str(path_to_prcd)+f'/{ukca_run_name}_{compared_common_id}_crsc_ic5h12.nc')\n",
    "iris.save(crsc_meono2, str(path_to_prcd)+f'/{ukca_run_name}_{compared_common_id}_crsc_meono2.nc')\n",
    "iris.save(crsc_sbuono2, str(path_to_prcd)+f'/{ukca_run_name}_{compared_common_id}_crsc_sbuono2.nc')\n",
    "iris.save(crsc_n2peono2, str(path_to_prcd)+f'/{ukca_run_name}_{compared_common_id}_crsc_n2peono2.nc')\n",
    "iris.save(crsc_n3peono2, str(path_to_prcd)+f'/{ukca_run_name}_{compared_common_id}_crsc_n3peono2.nc')\n",
    "iris.save(crsc_ipeono2, str(path_to_prcd)+f'/{ukca_run_name}_{compared_common_id}_crsc_ipeono2.nc')"
   ]
  }
 ],
 "metadata": {
  "anaconda-cloud": {},
  "kernelspec": {
   "display_name": "Python 3",
   "language": "python",
   "name": "python3"
  },
  "language_info": {
   "codemirror_mode": {
    "name": "ipython",
    "version": 3
   },
   "file_extension": ".py",
   "mimetype": "text/x-python",
   "name": "python",
   "nbconvert_exporter": "python",
   "pygments_lexer": "ipython3",
   "version": "3.6.6"
  }
 },
 "nbformat": 4,
 "nbformat_minor": 2
}
