{
 "cells": [
  {
   "cell_type": "code",
   "execution_count": 1,
   "metadata": {},
   "outputs": [],
   "source": [
    "import iris\n",
    "import iris.coord_categorisation\n",
    "import cf_units\n",
    "import calendar\n",
    "import numpy as np\n",
    "import cartopy.util\n",
    "import cartopy.crs as ccrs\n",
    "import matplotlib as mpl\n",
    "import matplotlib.pyplot as plt\n",
    "import matplotlib.ticker as ticker\n",
    "from pathlib import Path\n",
    "from copy import copy\n",
    "plt.rcParams['mathtext.default'] = 'regular'"
   ]
  },
  {
   "cell_type": "code",
   "execution_count": 2,
   "metadata": {},
   "outputs": [],
   "source": [
    "from util_mypaths import path_to_raw"
   ]
  },
  {
   "cell_type": "markdown",
   "metadata": {},
   "source": [
    "#### Process data"
   ]
  },
  {
   "cell_type": "code",
   "execution_count": 3,
   "metadata": {},
   "outputs": [],
   "source": [
    "# Read data\n",
    "path_to_gfed = Path.cwd().parent.parent.parent / 'obs' /'GFEDs'\n",
    "path_to_ukca = Path.cwd().parent / 'processed'\n",
    "gfed = iris.load(str(path_to_gfed / 'GFED4.1s_1997-2016_multiyear_monthly_mean_dm_emissions.nc'))\n",
    "ukca = iris.load_cube(str(path_to_ukca / 'xojng' / 'xojng_o3.nc'))\n",
    "# Path to figures\n",
    "path_to_figs = Path.cwd().parent.parent.parent / 'results' / 'rono2_emis'\n",
    "publish = True\n",
    "if publish:\n",
    "    mpl.rcParams['xtick.labelsize'] = 12\n",
    "    mpl.rcParams['ytick.labelsize'] = 12\n",
    "    mpl.rcParams['axes.titlesize'] = 12\n",
    "    mpl.rcParams['axes.labelsize'] = 12\n",
    "    plt.rcParams['font.size'] = 12"
   ]
  },
  {
   "cell_type": "markdown",
   "metadata": {},
   "source": [
    "From Akagi et al. (2011) Table 1 Emission factors (g kg-1) for species emitted from different types of biomass burning. Emission factors are shown with an estimate of the natural variation in parenthesis, when available. Note that boreal and extratropical forest values are the same for C1-C3 RONO2.\n",
    "\n",
    "| RONO2   | tropical forest       | savannah            | crop residue | pasture maintenance | boreal forest | temperate forest | extratropical forest |\n",
    "|---------|-----------------------|---------------------|--------------|---------------------|---------------|------------------|----------------------|\n",
    "| MeONO2  | 8.29×10−3 (1.60×10−2) | 5.1×10−4 (3.7×10−4) | -            | -                   | 2.83×10−3     | -                | 2.83×10−3            |\n",
    "| EtONO2  | 5.70×10−3             | 3.51×10-4*          | -            | -                   | 1.78×10−3     | -                | 1.78×10−3            |\n",
    "| nPrONO2 | 3.00×10-4             | 1.85×10-5*          | -            | -                   | 3.23×10−4     | -                | 3.23×10−4            |\n",
    "| iPrONO2 | 1.00×10-3             | 6.15×10-5*          | -            | -                   | 3.23×10−3     | -                | 3.23×10−3            |\n",
    "* calculated in this work\n",
    "\n",
    "From Akagi et al. (2011): 'We split the category “extratropical forest” used by Andreae and Merlet (2001) into “boreal” (high latitude ∼50–70◦ forested regions) and “temperate” forest. We also derive EF for “extratropical” forest fires using a weighted average of boreal and temperate emission factors (86.5% and 13.5%, respectively) based on GFED3 biomass consumption estimates (van der Werf et al., 2010) to preserve the option of using this category'."
   ]
  },
  {
   "cell_type": "code",
   "execution_count": 4,
   "metadata": {},
   "outputs": [
    {
     "data": {
      "text/html": [
       "\n",
       "<style>\n",
       "    .accordion-140364186169168 {\n",
       "        color: var(--jp-ui-font-color2);\n",
       "        background: var(--jp-layout-color2);\n",
       "        cursor: pointer;\n",
       "        padding: 10px;\n",
       "        border: 1px solid var(--jp-border-color0);\n",
       "        width: 100%;\n",
       "        text-align: left;\n",
       "        font-size: 14px;\n",
       "        font-family: var(--jp-code-font-family);\n",
       "        font-weight: normal;\n",
       "        outline: none;\n",
       "        transition: 0.4s;\n",
       "    }\n",
       "    .active {\n",
       "        background: var(--jp-layout-color1);\n",
       "        font-weight: 900;\n",
       "    }\n",
       "    .accordion-140364186169168.active {\n",
       "        border: 1px solid var(--jp-brand-color1) !important;\n",
       "    }\n",
       "    .accordion-140364186169168:hover {\n",
       "        box-shadow: var(--jp-input-box-shadow);\n",
       "        border: 2px solid var(--jp-brand-color1);\n",
       "    }\n",
       "    .panel-140364186169168 {\n",
       "        padding: 0 18px;\n",
       "        margin-bottom: 5px;\n",
       "        background-color: var(--jp-layout-color1);\n",
       "        display: none;\n",
       "        overflow: hidden;\n",
       "        border: 1px solid var(--jp-brand-color2);\n",
       "    }\n",
       "</style>\n",
       "<script type=\"text/javascript\">\n",
       "    var accordion = document.getElementsByClassName(\"accordion-140364186169168\");\n",
       "    var i;\n",
       "\n",
       "    for (i = 0; i < accordion.length; i++) {\n",
       "        accordion[i].addEventListener(\"click\", function() {\n",
       "            this.classList.toggle(\"active\");\n",
       "\n",
       "            var panel = this.nextElementSibling;\n",
       "            if (panel.style.display === \"block\") {\n",
       "                panel.style.display = \"none\";\n",
       "            } else {\n",
       "                panel.style.display = \"block\";\n",
       "            }\n",
       "        });\n",
       "    }\n",
       "</script>\n",
       "\n",
       "<button class=\"accordion-140364186169168\">0: fractional contribution of peatland fires to dry matter emissions / (1) (time: 12; latitude: 720; longitude: 1440)</button>\n",
       "<div class=\"panel-140364186169168\">\n",
       "    <p>\n",
       "<style>\n",
       "  a.iris {\n",
       "      text-decoration: none !important;\n",
       "  }\n",
       "  table.iris {\n",
       "      white-space: pre;\n",
       "      border: 1px solid;\n",
       "      border-color: #9c9c9c;\n",
       "      font-family: monaco, monospace;\n",
       "  }\n",
       "  th.iris {\n",
       "      background: #303f3f;\n",
       "      color: #e0e0e0;\n",
       "      border-left: 1px solid;\n",
       "      border-color: #9c9c9c;\n",
       "      font-size: 1.05em;\n",
       "      min-width: 50px;\n",
       "      max-width: 125px;\n",
       "  }\n",
       "  tr.iris :first-child {\n",
       "      border-right: 1px solid #9c9c9c !important;\n",
       "  }\n",
       "  td.iris-title {\n",
       "      background: #d5dcdf;\n",
       "      border-top: 1px solid #9c9c9c;\n",
       "      font-weight: bold;\n",
       "  }\n",
       "  .iris-word-cell {\n",
       "      text-align: left !important;\n",
       "      white-space: pre;\n",
       "  }\n",
       "  .iris-subheading-cell {\n",
       "      padding-left: 2em !important;\n",
       "  }\n",
       "  .iris-inclusion-cell {\n",
       "      padding-right: 1em !important;\n",
       "  }\n",
       "  .iris-panel-body {\n",
       "      padding-top: 0px;\n",
       "  }\n",
       "  .iris-panel-title {\n",
       "      padding-left: 3em;\n",
       "  }\n",
       "  .iris-panel-title {\n",
       "      margin-top: 7px;\n",
       "  }\n",
       "</style>\n",
       "<table class=\"iris\" id=\"140365248727824\">\n",
       "    <tr class=\"iris\">\n",
       "<th class=\"iris iris-word-cell\">Fractional Contribution Of Peatland Fires To Dry Matter Emissions (1)</th>\n",
       "<th class=\"iris iris-word-cell\">time</th>\n",
       "<th class=\"iris iris-word-cell\">latitude</th>\n",
       "<th class=\"iris iris-word-cell\">longitude</th>\n",
       "</tr>\n",
       "    <tr class=\"iris\">\n",
       "<td class=\"iris-word-cell iris-subheading-cell\">Shape</td>\n",
       "<td class=\"iris iris-inclusion-cell\">12</td>\n",
       "<td class=\"iris iris-inclusion-cell\">720</td>\n",
       "<td class=\"iris iris-inclusion-cell\">1440</td>\n",
       "</tr>\n",
       "    <tr class=\"iris\">\n",
       "    <td class=\"iris-title iris-word-cell\">Dimension coordinates</td>\n",
       "    <td class=\"iris-title\"></td>\n",
       "    <td class=\"iris-title\"></td>\n",
       "    <td class=\"iris-title\"></td>\n",
       "</tr>\n",
       "<tr class=\"iris\">\n",
       "    <td class=\"iris-word-cell iris-subheading-cell\">\ttime</td>\n",
       "    <td class=\"iris-inclusion-cell\">x</td>\n",
       "    <td class=\"iris-inclusion-cell\">-</td>\n",
       "    <td class=\"iris-inclusion-cell\">-</td>\n",
       "</tr>\n",
       "<tr class=\"iris\">\n",
       "    <td class=\"iris-word-cell iris-subheading-cell\">\tlatitude</td>\n",
       "    <td class=\"iris-inclusion-cell\">-</td>\n",
       "    <td class=\"iris-inclusion-cell\">x</td>\n",
       "    <td class=\"iris-inclusion-cell\">-</td>\n",
       "</tr>\n",
       "<tr class=\"iris\">\n",
       "    <td class=\"iris-word-cell iris-subheading-cell\">\tlongitude</td>\n",
       "    <td class=\"iris-inclusion-cell\">-</td>\n",
       "    <td class=\"iris-inclusion-cell\">-</td>\n",
       "    <td class=\"iris-inclusion-cell\">x</td>\n",
       "</tr>\n",
       "</table>\n",
       "        </p>\n",
       "</div>\n",
       "    \n",
       "\n",
       "<button class=\"accordion-140364186169168\">1: fractional contribution of agricultural waste burning to dry matter emissions / (1) (time: 12; latitude: 720; longitude: 1440)</button>\n",
       "<div class=\"panel-140364186169168\">\n",
       "    <p>\n",
       "<style>\n",
       "  a.iris {\n",
       "      text-decoration: none !important;\n",
       "  }\n",
       "  table.iris {\n",
       "      white-space: pre;\n",
       "      border: 1px solid;\n",
       "      border-color: #9c9c9c;\n",
       "      font-family: monaco, monospace;\n",
       "  }\n",
       "  th.iris {\n",
       "      background: #303f3f;\n",
       "      color: #e0e0e0;\n",
       "      border-left: 1px solid;\n",
       "      border-color: #9c9c9c;\n",
       "      font-size: 1.05em;\n",
       "      min-width: 50px;\n",
       "      max-width: 125px;\n",
       "  }\n",
       "  tr.iris :first-child {\n",
       "      border-right: 1px solid #9c9c9c !important;\n",
       "  }\n",
       "  td.iris-title {\n",
       "      background: #d5dcdf;\n",
       "      border-top: 1px solid #9c9c9c;\n",
       "      font-weight: bold;\n",
       "  }\n",
       "  .iris-word-cell {\n",
       "      text-align: left !important;\n",
       "      white-space: pre;\n",
       "  }\n",
       "  .iris-subheading-cell {\n",
       "      padding-left: 2em !important;\n",
       "  }\n",
       "  .iris-inclusion-cell {\n",
       "      padding-right: 1em !important;\n",
       "  }\n",
       "  .iris-panel-body {\n",
       "      padding-top: 0px;\n",
       "  }\n",
       "  .iris-panel-title {\n",
       "      padding-left: 3em;\n",
       "  }\n",
       "  .iris-panel-title {\n",
       "      margin-top: 7px;\n",
       "  }\n",
       "</style>\n",
       "<table class=\"iris\" id=\"140364186154128\">\n",
       "    <tr class=\"iris\">\n",
       "<th class=\"iris iris-word-cell\">Fractional Contribution Of Agricultural Waste Burning To Dry Matter Emissions (1)</th>\n",
       "<th class=\"iris iris-word-cell\">time</th>\n",
       "<th class=\"iris iris-word-cell\">latitude</th>\n",
       "<th class=\"iris iris-word-cell\">longitude</th>\n",
       "</tr>\n",
       "    <tr class=\"iris\">\n",
       "<td class=\"iris-word-cell iris-subheading-cell\">Shape</td>\n",
       "<td class=\"iris iris-inclusion-cell\">12</td>\n",
       "<td class=\"iris iris-inclusion-cell\">720</td>\n",
       "<td class=\"iris iris-inclusion-cell\">1440</td>\n",
       "</tr>\n",
       "    <tr class=\"iris\">\n",
       "    <td class=\"iris-title iris-word-cell\">Dimension coordinates</td>\n",
       "    <td class=\"iris-title\"></td>\n",
       "    <td class=\"iris-title\"></td>\n",
       "    <td class=\"iris-title\"></td>\n",
       "</tr>\n",
       "<tr class=\"iris\">\n",
       "    <td class=\"iris-word-cell iris-subheading-cell\">\ttime</td>\n",
       "    <td class=\"iris-inclusion-cell\">x</td>\n",
       "    <td class=\"iris-inclusion-cell\">-</td>\n",
       "    <td class=\"iris-inclusion-cell\">-</td>\n",
       "</tr>\n",
       "<tr class=\"iris\">\n",
       "    <td class=\"iris-word-cell iris-subheading-cell\">\tlatitude</td>\n",
       "    <td class=\"iris-inclusion-cell\">-</td>\n",
       "    <td class=\"iris-inclusion-cell\">x</td>\n",
       "    <td class=\"iris-inclusion-cell\">-</td>\n",
       "</tr>\n",
       "<tr class=\"iris\">\n",
       "    <td class=\"iris-word-cell iris-subheading-cell\">\tlongitude</td>\n",
       "    <td class=\"iris-inclusion-cell\">-</td>\n",
       "    <td class=\"iris-inclusion-cell\">-</td>\n",
       "    <td class=\"iris-inclusion-cell\">x</td>\n",
       "</tr>\n",
       "</table>\n",
       "        </p>\n",
       "</div>\n",
       "    \n",
       "\n",
       "<button class=\"accordion-140364186169168\">2: fractional contribution of tropical forest fires to dry matter emissions / (1) (time: 12; latitude: 720; longitude: 1440)</button>\n",
       "<div class=\"panel-140364186169168\">\n",
       "    <p>\n",
       "<style>\n",
       "  a.iris {\n",
       "      text-decoration: none !important;\n",
       "  }\n",
       "  table.iris {\n",
       "      white-space: pre;\n",
       "      border: 1px solid;\n",
       "      border-color: #9c9c9c;\n",
       "      font-family: monaco, monospace;\n",
       "  }\n",
       "  th.iris {\n",
       "      background: #303f3f;\n",
       "      color: #e0e0e0;\n",
       "      border-left: 1px solid;\n",
       "      border-color: #9c9c9c;\n",
       "      font-size: 1.05em;\n",
       "      min-width: 50px;\n",
       "      max-width: 125px;\n",
       "  }\n",
       "  tr.iris :first-child {\n",
       "      border-right: 1px solid #9c9c9c !important;\n",
       "  }\n",
       "  td.iris-title {\n",
       "      background: #d5dcdf;\n",
       "      border-top: 1px solid #9c9c9c;\n",
       "      font-weight: bold;\n",
       "  }\n",
       "  .iris-word-cell {\n",
       "      text-align: left !important;\n",
       "      white-space: pre;\n",
       "  }\n",
       "  .iris-subheading-cell {\n",
       "      padding-left: 2em !important;\n",
       "  }\n",
       "  .iris-inclusion-cell {\n",
       "      padding-right: 1em !important;\n",
       "  }\n",
       "  .iris-panel-body {\n",
       "      padding-top: 0px;\n",
       "  }\n",
       "  .iris-panel-title {\n",
       "      padding-left: 3em;\n",
       "  }\n",
       "  .iris-panel-title {\n",
       "      margin-top: 7px;\n",
       "  }\n",
       "</style>\n",
       "<table class=\"iris\" id=\"140364186155024\">\n",
       "    <tr class=\"iris\">\n",
       "<th class=\"iris iris-word-cell\">Fractional Contribution Of Tropical Forest Fires To Dry Matter Emissions (1)</th>\n",
       "<th class=\"iris iris-word-cell\">time</th>\n",
       "<th class=\"iris iris-word-cell\">latitude</th>\n",
       "<th class=\"iris iris-word-cell\">longitude</th>\n",
       "</tr>\n",
       "    <tr class=\"iris\">\n",
       "<td class=\"iris-word-cell iris-subheading-cell\">Shape</td>\n",
       "<td class=\"iris iris-inclusion-cell\">12</td>\n",
       "<td class=\"iris iris-inclusion-cell\">720</td>\n",
       "<td class=\"iris iris-inclusion-cell\">1440</td>\n",
       "</tr>\n",
       "    <tr class=\"iris\">\n",
       "    <td class=\"iris-title iris-word-cell\">Dimension coordinates</td>\n",
       "    <td class=\"iris-title\"></td>\n",
       "    <td class=\"iris-title\"></td>\n",
       "    <td class=\"iris-title\"></td>\n",
       "</tr>\n",
       "<tr class=\"iris\">\n",
       "    <td class=\"iris-word-cell iris-subheading-cell\">\ttime</td>\n",
       "    <td class=\"iris-inclusion-cell\">x</td>\n",
       "    <td class=\"iris-inclusion-cell\">-</td>\n",
       "    <td class=\"iris-inclusion-cell\">-</td>\n",
       "</tr>\n",
       "<tr class=\"iris\">\n",
       "    <td class=\"iris-word-cell iris-subheading-cell\">\tlatitude</td>\n",
       "    <td class=\"iris-inclusion-cell\">-</td>\n",
       "    <td class=\"iris-inclusion-cell\">x</td>\n",
       "    <td class=\"iris-inclusion-cell\">-</td>\n",
       "</tr>\n",
       "<tr class=\"iris\">\n",
       "    <td class=\"iris-word-cell iris-subheading-cell\">\tlongitude</td>\n",
       "    <td class=\"iris-inclusion-cell\">-</td>\n",
       "    <td class=\"iris-inclusion-cell\">-</td>\n",
       "    <td class=\"iris-inclusion-cell\">x</td>\n",
       "</tr>\n",
       "</table>\n",
       "        </p>\n",
       "</div>\n",
       "    \n",
       "\n",
       "<button class=\"accordion-140364186169168\">3: grid cell area / (m2)               (latitude: 720; longitude: 1440)</button>\n",
       "<div class=\"panel-140364186169168\">\n",
       "    <p>\n",
       "<style>\n",
       "  a.iris {\n",
       "      text-decoration: none !important;\n",
       "  }\n",
       "  table.iris {\n",
       "      white-space: pre;\n",
       "      border: 1px solid;\n",
       "      border-color: #9c9c9c;\n",
       "      font-family: monaco, monospace;\n",
       "  }\n",
       "  th.iris {\n",
       "      background: #303f3f;\n",
       "      color: #e0e0e0;\n",
       "      border-left: 1px solid;\n",
       "      border-color: #9c9c9c;\n",
       "      font-size: 1.05em;\n",
       "      min-width: 50px;\n",
       "      max-width: 125px;\n",
       "  }\n",
       "  tr.iris :first-child {\n",
       "      border-right: 1px solid #9c9c9c !important;\n",
       "  }\n",
       "  td.iris-title {\n",
       "      background: #d5dcdf;\n",
       "      border-top: 1px solid #9c9c9c;\n",
       "      font-weight: bold;\n",
       "  }\n",
       "  .iris-word-cell {\n",
       "      text-align: left !important;\n",
       "      white-space: pre;\n",
       "  }\n",
       "  .iris-subheading-cell {\n",
       "      padding-left: 2em !important;\n",
       "  }\n",
       "  .iris-inclusion-cell {\n",
       "      padding-right: 1em !important;\n",
       "  }\n",
       "  .iris-panel-body {\n",
       "      padding-top: 0px;\n",
       "  }\n",
       "  .iris-panel-title {\n",
       "      padding-left: 3em;\n",
       "  }\n",
       "  .iris-panel-title {\n",
       "      margin-top: 7px;\n",
       "  }\n",
       "</style>\n",
       "<table class=\"iris\" id=\"140364186154832\">\n",
       "    <tr class=\"iris\">\n",
       "<th class=\"iris iris-word-cell\">Grid Cell Area (m2)</th>\n",
       "<th class=\"iris iris-word-cell\">latitude</th>\n",
       "<th class=\"iris iris-word-cell\">longitude</th>\n",
       "</tr>\n",
       "    <tr class=\"iris\">\n",
       "<td class=\"iris-word-cell iris-subheading-cell\">Shape</td>\n",
       "<td class=\"iris iris-inclusion-cell\">720</td>\n",
       "<td class=\"iris iris-inclusion-cell\">1440</td>\n",
       "</tr>\n",
       "    <tr class=\"iris\">\n",
       "    <td class=\"iris-title iris-word-cell\">Dimension coordinates</td>\n",
       "    <td class=\"iris-title\"></td>\n",
       "    <td class=\"iris-title\"></td>\n",
       "</tr>\n",
       "<tr class=\"iris\">\n",
       "    <td class=\"iris-word-cell iris-subheading-cell\">\tlatitude</td>\n",
       "    <td class=\"iris-inclusion-cell\">x</td>\n",
       "    <td class=\"iris-inclusion-cell\">-</td>\n",
       "</tr>\n",
       "<tr class=\"iris\">\n",
       "    <td class=\"iris-word-cell iris-subheading-cell\">\tlongitude</td>\n",
       "    <td class=\"iris-inclusion-cell\">-</td>\n",
       "    <td class=\"iris-inclusion-cell\">x</td>\n",
       "</tr>\n",
       "</table>\n",
       "        </p>\n",
       "</div>\n",
       "    \n",
       "\n",
       "<button class=\"accordion-140364186169168\">4: fractional contribution of savanna, grassland and shrubland fires to dry matter emissions / (1) (time: 12; latitude: 720; longitude: 1440)</button>\n",
       "<div class=\"panel-140364186169168\">\n",
       "    <p>\n",
       "<style>\n",
       "  a.iris {\n",
       "      text-decoration: none !important;\n",
       "  }\n",
       "  table.iris {\n",
       "      white-space: pre;\n",
       "      border: 1px solid;\n",
       "      border-color: #9c9c9c;\n",
       "      font-family: monaco, monospace;\n",
       "  }\n",
       "  th.iris {\n",
       "      background: #303f3f;\n",
       "      color: #e0e0e0;\n",
       "      border-left: 1px solid;\n",
       "      border-color: #9c9c9c;\n",
       "      font-size: 1.05em;\n",
       "      min-width: 50px;\n",
       "      max-width: 125px;\n",
       "  }\n",
       "  tr.iris :first-child {\n",
       "      border-right: 1px solid #9c9c9c !important;\n",
       "  }\n",
       "  td.iris-title {\n",
       "      background: #d5dcdf;\n",
       "      border-top: 1px solid #9c9c9c;\n",
       "      font-weight: bold;\n",
       "  }\n",
       "  .iris-word-cell {\n",
       "      text-align: left !important;\n",
       "      white-space: pre;\n",
       "  }\n",
       "  .iris-subheading-cell {\n",
       "      padding-left: 2em !important;\n",
       "  }\n",
       "  .iris-inclusion-cell {\n",
       "      padding-right: 1em !important;\n",
       "  }\n",
       "  .iris-panel-body {\n",
       "      padding-top: 0px;\n",
       "  }\n",
       "  .iris-panel-title {\n",
       "      padding-left: 3em;\n",
       "  }\n",
       "  .iris-panel-title {\n",
       "      margin-top: 7px;\n",
       "  }\n",
       "</style>\n",
       "<table class=\"iris\" id=\"140364185922512\">\n",
       "    <tr class=\"iris\">\n",
       "<th class=\"iris iris-word-cell\">Fractional Contribution Of Savanna, Grassland And Shrubland Fires To Dry Matter Emissions (1)</th>\n",
       "<th class=\"iris iris-word-cell\">time</th>\n",
       "<th class=\"iris iris-word-cell\">latitude</th>\n",
       "<th class=\"iris iris-word-cell\">longitude</th>\n",
       "</tr>\n",
       "    <tr class=\"iris\">\n",
       "<td class=\"iris-word-cell iris-subheading-cell\">Shape</td>\n",
       "<td class=\"iris iris-inclusion-cell\">12</td>\n",
       "<td class=\"iris iris-inclusion-cell\">720</td>\n",
       "<td class=\"iris iris-inclusion-cell\">1440</td>\n",
       "</tr>\n",
       "    <tr class=\"iris\">\n",
       "    <td class=\"iris-title iris-word-cell\">Dimension coordinates</td>\n",
       "    <td class=\"iris-title\"></td>\n",
       "    <td class=\"iris-title\"></td>\n",
       "    <td class=\"iris-title\"></td>\n",
       "</tr>\n",
       "<tr class=\"iris\">\n",
       "    <td class=\"iris-word-cell iris-subheading-cell\">\ttime</td>\n",
       "    <td class=\"iris-inclusion-cell\">x</td>\n",
       "    <td class=\"iris-inclusion-cell\">-</td>\n",
       "    <td class=\"iris-inclusion-cell\">-</td>\n",
       "</tr>\n",
       "<tr class=\"iris\">\n",
       "    <td class=\"iris-word-cell iris-subheading-cell\">\tlatitude</td>\n",
       "    <td class=\"iris-inclusion-cell\">-</td>\n",
       "    <td class=\"iris-inclusion-cell\">x</td>\n",
       "    <td class=\"iris-inclusion-cell\">-</td>\n",
       "</tr>\n",
       "<tr class=\"iris\">\n",
       "    <td class=\"iris-word-cell iris-subheading-cell\">\tlongitude</td>\n",
       "    <td class=\"iris-inclusion-cell\">-</td>\n",
       "    <td class=\"iris-inclusion-cell\">-</td>\n",
       "    <td class=\"iris-inclusion-cell\">x</td>\n",
       "</tr>\n",
       "</table>\n",
       "        </p>\n",
       "</div>\n",
       "    \n",
       "\n",
       "<button class=\"accordion-140364186169168\">5: dry matter emissions / (kg/m2/month) (time: 12; latitude: 720; longitude: 1440)</button>\n",
       "<div class=\"panel-140364186169168\">\n",
       "    <p>\n",
       "<style>\n",
       "  a.iris {\n",
       "      text-decoration: none !important;\n",
       "  }\n",
       "  table.iris {\n",
       "      white-space: pre;\n",
       "      border: 1px solid;\n",
       "      border-color: #9c9c9c;\n",
       "      font-family: monaco, monospace;\n",
       "  }\n",
       "  th.iris {\n",
       "      background: #303f3f;\n",
       "      color: #e0e0e0;\n",
       "      border-left: 1px solid;\n",
       "      border-color: #9c9c9c;\n",
       "      font-size: 1.05em;\n",
       "      min-width: 50px;\n",
       "      max-width: 125px;\n",
       "  }\n",
       "  tr.iris :first-child {\n",
       "      border-right: 1px solid #9c9c9c !important;\n",
       "  }\n",
       "  td.iris-title {\n",
       "      background: #d5dcdf;\n",
       "      border-top: 1px solid #9c9c9c;\n",
       "      font-weight: bold;\n",
       "  }\n",
       "  .iris-word-cell {\n",
       "      text-align: left !important;\n",
       "      white-space: pre;\n",
       "  }\n",
       "  .iris-subheading-cell {\n",
       "      padding-left: 2em !important;\n",
       "  }\n",
       "  .iris-inclusion-cell {\n",
       "      padding-right: 1em !important;\n",
       "  }\n",
       "  .iris-panel-body {\n",
       "      padding-top: 0px;\n",
       "  }\n",
       "  .iris-panel-title {\n",
       "      padding-left: 3em;\n",
       "  }\n",
       "  .iris-panel-title {\n",
       "      margin-top: 7px;\n",
       "  }\n",
       "</style>\n",
       "<table class=\"iris\" id=\"140364186195280\">\n",
       "    <tr class=\"iris\">\n",
       "<th class=\"iris iris-word-cell\">Dry Matter Emissions (kg/m2/month)</th>\n",
       "<th class=\"iris iris-word-cell\">time</th>\n",
       "<th class=\"iris iris-word-cell\">latitude</th>\n",
       "<th class=\"iris iris-word-cell\">longitude</th>\n",
       "</tr>\n",
       "    <tr class=\"iris\">\n",
       "<td class=\"iris-word-cell iris-subheading-cell\">Shape</td>\n",
       "<td class=\"iris iris-inclusion-cell\">12</td>\n",
       "<td class=\"iris iris-inclusion-cell\">720</td>\n",
       "<td class=\"iris iris-inclusion-cell\">1440</td>\n",
       "</tr>\n",
       "    <tr class=\"iris\">\n",
       "    <td class=\"iris-title iris-word-cell\">Dimension coordinates</td>\n",
       "    <td class=\"iris-title\"></td>\n",
       "    <td class=\"iris-title\"></td>\n",
       "    <td class=\"iris-title\"></td>\n",
       "</tr>\n",
       "<tr class=\"iris\">\n",
       "    <td class=\"iris-word-cell iris-subheading-cell\">\ttime</td>\n",
       "    <td class=\"iris-inclusion-cell\">x</td>\n",
       "    <td class=\"iris-inclusion-cell\">-</td>\n",
       "    <td class=\"iris-inclusion-cell\">-</td>\n",
       "</tr>\n",
       "<tr class=\"iris\">\n",
       "    <td class=\"iris-word-cell iris-subheading-cell\">\tlatitude</td>\n",
       "    <td class=\"iris-inclusion-cell\">-</td>\n",
       "    <td class=\"iris-inclusion-cell\">x</td>\n",
       "    <td class=\"iris-inclusion-cell\">-</td>\n",
       "</tr>\n",
       "<tr class=\"iris\">\n",
       "    <td class=\"iris-word-cell iris-subheading-cell\">\tlongitude</td>\n",
       "    <td class=\"iris-inclusion-cell\">-</td>\n",
       "    <td class=\"iris-inclusion-cell\">-</td>\n",
       "    <td class=\"iris-inclusion-cell\">x</td>\n",
       "</tr>\n",
       "</table>\n",
       "        </p>\n",
       "</div>\n",
       "    \n",
       "\n",
       "<button class=\"accordion-140364186169168\">6: fractional contribution of temperate forest fires to dry matter emissions / (1) (time: 12; latitude: 720; longitude: 1440)</button>\n",
       "<div class=\"panel-140364186169168\">\n",
       "    <p>\n",
       "<style>\n",
       "  a.iris {\n",
       "      text-decoration: none !important;\n",
       "  }\n",
       "  table.iris {\n",
       "      white-space: pre;\n",
       "      border: 1px solid;\n",
       "      border-color: #9c9c9c;\n",
       "      font-family: monaco, monospace;\n",
       "  }\n",
       "  th.iris {\n",
       "      background: #303f3f;\n",
       "      color: #e0e0e0;\n",
       "      border-left: 1px solid;\n",
       "      border-color: #9c9c9c;\n",
       "      font-size: 1.05em;\n",
       "      min-width: 50px;\n",
       "      max-width: 125px;\n",
       "  }\n",
       "  tr.iris :first-child {\n",
       "      border-right: 1px solid #9c9c9c !important;\n",
       "  }\n",
       "  td.iris-title {\n",
       "      background: #d5dcdf;\n",
       "      border-top: 1px solid #9c9c9c;\n",
       "      font-weight: bold;\n",
       "  }\n",
       "  .iris-word-cell {\n",
       "      text-align: left !important;\n",
       "      white-space: pre;\n",
       "  }\n",
       "  .iris-subheading-cell {\n",
       "      padding-left: 2em !important;\n",
       "  }\n",
       "  .iris-inclusion-cell {\n",
       "      padding-right: 1em !important;\n",
       "  }\n",
       "  .iris-panel-body {\n",
       "      padding-top: 0px;\n",
       "  }\n",
       "  .iris-panel-title {\n",
       "      padding-left: 3em;\n",
       "  }\n",
       "  .iris-panel-title {\n",
       "      margin-top: 7px;\n",
       "  }\n",
       "</style>\n",
       "<table class=\"iris\" id=\"140364185862032\">\n",
       "    <tr class=\"iris\">\n",
       "<th class=\"iris iris-word-cell\">Fractional Contribution Of Temperate Forest Fires To Dry Matter Emissions (1)</th>\n",
       "<th class=\"iris iris-word-cell\">time</th>\n",
       "<th class=\"iris iris-word-cell\">latitude</th>\n",
       "<th class=\"iris iris-word-cell\">longitude</th>\n",
       "</tr>\n",
       "    <tr class=\"iris\">\n",
       "<td class=\"iris-word-cell iris-subheading-cell\">Shape</td>\n",
       "<td class=\"iris iris-inclusion-cell\">12</td>\n",
       "<td class=\"iris iris-inclusion-cell\">720</td>\n",
       "<td class=\"iris iris-inclusion-cell\">1440</td>\n",
       "</tr>\n",
       "    <tr class=\"iris\">\n",
       "    <td class=\"iris-title iris-word-cell\">Dimension coordinates</td>\n",
       "    <td class=\"iris-title\"></td>\n",
       "    <td class=\"iris-title\"></td>\n",
       "    <td class=\"iris-title\"></td>\n",
       "</tr>\n",
       "<tr class=\"iris\">\n",
       "    <td class=\"iris-word-cell iris-subheading-cell\">\ttime</td>\n",
       "    <td class=\"iris-inclusion-cell\">x</td>\n",
       "    <td class=\"iris-inclusion-cell\">-</td>\n",
       "    <td class=\"iris-inclusion-cell\">-</td>\n",
       "</tr>\n",
       "<tr class=\"iris\">\n",
       "    <td class=\"iris-word-cell iris-subheading-cell\">\tlatitude</td>\n",
       "    <td class=\"iris-inclusion-cell\">-</td>\n",
       "    <td class=\"iris-inclusion-cell\">x</td>\n",
       "    <td class=\"iris-inclusion-cell\">-</td>\n",
       "</tr>\n",
       "<tr class=\"iris\">\n",
       "    <td class=\"iris-word-cell iris-subheading-cell\">\tlongitude</td>\n",
       "    <td class=\"iris-inclusion-cell\">-</td>\n",
       "    <td class=\"iris-inclusion-cell\">-</td>\n",
       "    <td class=\"iris-inclusion-cell\">x</td>\n",
       "</tr>\n",
       "</table>\n",
       "        </p>\n",
       "</div>\n",
       "    \n",
       "\n",
       "<button class=\"accordion-140364186169168\">7: fractional contribution of boreal forest fires to dry matter emissions / (1) (time: 12; latitude: 720; longitude: 1440)</button>\n",
       "<div class=\"panel-140364186169168\">\n",
       "    <p>\n",
       "<style>\n",
       "  a.iris {\n",
       "      text-decoration: none !important;\n",
       "  }\n",
       "  table.iris {\n",
       "      white-space: pre;\n",
       "      border: 1px solid;\n",
       "      border-color: #9c9c9c;\n",
       "      font-family: monaco, monospace;\n",
       "  }\n",
       "  th.iris {\n",
       "      background: #303f3f;\n",
       "      color: #e0e0e0;\n",
       "      border-left: 1px solid;\n",
       "      border-color: #9c9c9c;\n",
       "      font-size: 1.05em;\n",
       "      min-width: 50px;\n",
       "      max-width: 125px;\n",
       "  }\n",
       "  tr.iris :first-child {\n",
       "      border-right: 1px solid #9c9c9c !important;\n",
       "  }\n",
       "  td.iris-title {\n",
       "      background: #d5dcdf;\n",
       "      border-top: 1px solid #9c9c9c;\n",
       "      font-weight: bold;\n",
       "  }\n",
       "  .iris-word-cell {\n",
       "      text-align: left !important;\n",
       "      white-space: pre;\n",
       "  }\n",
       "  .iris-subheading-cell {\n",
       "      padding-left: 2em !important;\n",
       "  }\n",
       "  .iris-inclusion-cell {\n",
       "      padding-right: 1em !important;\n",
       "  }\n",
       "  .iris-panel-body {\n",
       "      padding-top: 0px;\n",
       "  }\n",
       "  .iris-panel-title {\n",
       "      padding-left: 3em;\n",
       "  }\n",
       "  .iris-panel-title {\n",
       "      margin-top: 7px;\n",
       "  }\n",
       "</style>\n",
       "<table class=\"iris\" id=\"140364185934992\">\n",
       "    <tr class=\"iris\">\n",
       "<th class=\"iris iris-word-cell\">Fractional Contribution Of Boreal Forest Fires To Dry Matter Emissions (1)</th>\n",
       "<th class=\"iris iris-word-cell\">time</th>\n",
       "<th class=\"iris iris-word-cell\">latitude</th>\n",
       "<th class=\"iris iris-word-cell\">longitude</th>\n",
       "</tr>\n",
       "    <tr class=\"iris\">\n",
       "<td class=\"iris-word-cell iris-subheading-cell\">Shape</td>\n",
       "<td class=\"iris iris-inclusion-cell\">12</td>\n",
       "<td class=\"iris iris-inclusion-cell\">720</td>\n",
       "<td class=\"iris iris-inclusion-cell\">1440</td>\n",
       "</tr>\n",
       "    <tr class=\"iris\">\n",
       "    <td class=\"iris-title iris-word-cell\">Dimension coordinates</td>\n",
       "    <td class=\"iris-title\"></td>\n",
       "    <td class=\"iris-title\"></td>\n",
       "    <td class=\"iris-title\"></td>\n",
       "</tr>\n",
       "<tr class=\"iris\">\n",
       "    <td class=\"iris-word-cell iris-subheading-cell\">\ttime</td>\n",
       "    <td class=\"iris-inclusion-cell\">x</td>\n",
       "    <td class=\"iris-inclusion-cell\">-</td>\n",
       "    <td class=\"iris-inclusion-cell\">-</td>\n",
       "</tr>\n",
       "<tr class=\"iris\">\n",
       "    <td class=\"iris-word-cell iris-subheading-cell\">\tlatitude</td>\n",
       "    <td class=\"iris-inclusion-cell\">-</td>\n",
       "    <td class=\"iris-inclusion-cell\">x</td>\n",
       "    <td class=\"iris-inclusion-cell\">-</td>\n",
       "</tr>\n",
       "<tr class=\"iris\">\n",
       "    <td class=\"iris-word-cell iris-subheading-cell\">\tlongitude</td>\n",
       "    <td class=\"iris-inclusion-cell\">-</td>\n",
       "    <td class=\"iris-inclusion-cell\">-</td>\n",
       "    <td class=\"iris-inclusion-cell\">x</td>\n",
       "</tr>\n",
       "</table>\n",
       "        </p>\n",
       "</div>\n",
       "    \n",
       "    "
      ],
      "text/plain": [
       "[<iris 'Cube' of fractional contribution of peatland fires to dry matter emissions / (1) (time: 12; latitude: 720; longitude: 1440)>,\n",
       "<iris 'Cube' of fractional contribution of agricultural waste burning to dry matter emissions / (1) (time: 12; latitude: 720; longitude: 1440)>,\n",
       "<iris 'Cube' of fractional contribution of tropical forest fires to dry matter emissions / (1) (time: 12; latitude: 720; longitude: 1440)>,\n",
       "<iris 'Cube' of grid cell area / (m2) (latitude: 720; longitude: 1440)>,\n",
       "<iris 'Cube' of fractional contribution of savanna, grassland and shrubland fires to dry matter emissions / (1) (time: 12; latitude: 720; longitude: 1440)>,\n",
       "<iris 'Cube' of dry matter emissions / (kg/m2/month) (time: 12; latitude: 720; longitude: 1440)>,\n",
       "<iris 'Cube' of fractional contribution of temperate forest fires to dry matter emissions / (1) (time: 12; latitude: 720; longitude: 1440)>,\n",
       "<iris 'Cube' of fractional contribution of boreal forest fires to dry matter emissions / (1) (time: 12; latitude: 720; longitude: 1440)>]"
      ]
     },
     "execution_count": 4,
     "metadata": {},
     "output_type": "execute_result"
    }
   ],
   "source": [
    "gfed"
   ]
  },
  {
   "cell_type": "code",
   "execution_count": 5,
   "metadata": {},
   "outputs": [],
   "source": [
    "# Extract GFED dry matter emissions, GFED grid cell area, GFED and UKCA coordinates\n",
    "dm = gfed.extract_strict('dry matter emissions')\n",
    "dm_fr_borf = gfed.extract_strict('fractional contribution of boreal forest fires to dry matter emissions')\n",
    "dm_fr_temf = gfed.extract_strict('fractional contribution of temperate forest fires to dry matter emissions')\n",
    "dm_fr_sava = gfed.extract_strict('fractional contribution of savanna, grassland and shrubland fires to dry matter emissions')\n",
    "dm_fr_trof = gfed.extract_strict('fractional contribution of tropical forest fires to dry matter emissions')\n",
    "gfed_grid_cell_area = gfed.extract_strict('grid cell area')\n",
    "gfed_lats = dm.coord('latitude').points\n",
    "gfed_lons = dm.coord('longitude').points\n",
    "ukca_lats = ukca.coord('latitude').points\n",
    "ukca_lons = ukca.coord('longitude').points\n",
    "# Restore time units. Note: in cf_units udunits.dat unit month is defined to be exactly year/12 (so all months have the same length as in 360_day calendar)\n",
    "dm.coord('time').units = cf_units.Unit('month') \n",
    "dm_fr_borf.coord('time').units = cf_units.Unit('month')\n",
    "dm_fr_temf.coord('time').units = cf_units.Unit('month')\n",
    "dm_fr_sava.coord('time').units = cf_units.Unit('month')\n",
    "dm_fr_trof.coord('time').units = cf_units.Unit('month')"
   ]
  },
  {
   "cell_type": "markdown",
   "metadata": {},
   "source": [
    "From https://www.geo.vu.nl/~gwerf/GFED/GFED4/ancill/code/get_GFED4s_CO_emissions.py\n",
    "\n",
    "```python\n",
    "# calculate CO emissions as the product of DM emissions (kg DM per \n",
    "# m2 per month), the fraction the specific source contributes to \n",
    "# this (unitless), and the emission factor (g CO per kg DM burned)\n",
    "CO_emissions += DM_emissions * contribution * EF_CO[source]\n",
    "```"
   ]
  },
  {
   "cell_type": "code",
   "execution_count": 6,
   "metadata": {},
   "outputs": [],
   "source": [
    "# Akagi et al. (2011) emission factors [g kg]\n",
    "meono2_ef_trof = iris.coords.AuxCoord(8.29*1e-3, units='g/kg', long_name='methyl nitrate tropical forest fire emission factor')\n",
    "meono2_ef_sava = iris.coords.AuxCoord(5.1*1e-4, units='g/kg', long_name='methyl nitrate savanna fire emission factor')\n",
    "meono2_ef_borf = iris.coords.AuxCoord(2.83*1e-3, units='g/kg', long_name='methyl nitrate boreal forest fire emission factor')\n",
    "etono2_ef_trof = iris.coords.AuxCoord(5.70*1e-3, units='g/kg', long_name='ethyl nitrate tropical forest fire emission factor')\n",
    "etono2_ef_borf = iris.coords.AuxCoord(1.78*1e-3, units='g/kg', long_name='ethyl nitrate boreal forest fire emission factor')\n",
    "nprono2_ef_trof = iris.coords.AuxCoord(0.0003, units='g/kg', long_name='npropyl nitrate tropical forest fire emission factor')\n",
    "nprono2_ef_borf = iris.coords.AuxCoord(3.23*1e-4, units='g/kg', long_name='npropyl nitrate boreal forest fire emission factor')\n",
    "iprono2_ef_trof = iris.coords.AuxCoord(0.001, units='g/kg', long_name='ipropyl nitrate tropical forest fire emission factor')\n",
    "iprono2_ef_borf = iris.coords.AuxCoord(3.23*1e-3, units='g/kg', long_name='ipropyl nitrate boreal forest fire emission factor')\n",
    "# Find savanna fire emission factors for C2-C3 RONO2 using the relationship between MeONO2 emission factors\n",
    "etono2_ef_sava = iris.coords.AuxCoord(etono2_ef_trof.points[0]*(meono2_ef_sava.points[0]/meono2_ef_trof.points[0]), units='g/kg', \n",
    "                                      long_name='ethyl nitrate savanna fire emission factor')\n",
    "nprono2_ef_sava = iris.coords.AuxCoord(nprono2_ef_trof.points[0]*(meono2_ef_sava.points[0]/meono2_ef_trof.points[0]), units='g/kg', \n",
    "                                       long_name='npropyl nitrate savanna fire emission factor')\n",
    "iprono2_ef_sava = iris.coords.AuxCoord(iprono2_ef_trof.points[0]*(meono2_ef_sava.points[0]/meono2_ef_trof.points[0]), units='g/kg', \n",
    "                                       long_name='ipropyl nitrate savanna fire emission factor')\n",
    "# Calculate dry matter emissions from individual sources\n",
    "dm_borf = dm*dm_fr_borf\n",
    "dm_temf = dm*dm_fr_temf\n",
    "dm_sava = dm*dm_fr_sava\n",
    "dm_trof = dm*dm_fr_trof\n",
    "# Add up RONO2 emissions from all biomass burning sources that have an emission factor\n",
    "gfed_meono2 = (dm_borf+dm_temf)*meono2_ef_borf + dm_trof*meono2_ef_trof + dm_sava*meono2_ef_sava\n",
    "gfed_etono2 = (dm_borf+dm_temf)*etono2_ef_borf + dm_trof*etono2_ef_trof + dm_sava*etono2_ef_sava\n",
    "gfed_nprono2 = (dm_borf+dm_temf)*nprono2_ef_borf + dm_trof*nprono2_ef_trof + dm_sava*nprono2_ef_sava\n",
    "gfed_iprono2 = (dm_borf+dm_temf)*iprono2_ef_borf + dm_trof*iprono2_ef_trof + dm_sava*iprono2_ef_sava\n",
    "gfed_meono2.convert_units('kg/m2/s')\n",
    "gfed_etono2.convert_units('kg/m2/s')\n",
    "gfed_nprono2.convert_units('kg/m2/s')\n",
    "gfed_iprono2.convert_units('kg/m2/s')"
   ]
  },
  {
   "cell_type": "code",
   "execution_count": 7,
   "metadata": {},
   "outputs": [
    {
     "name": "stdout",
     "output_type": "stream",
     "text": [
      " MeONO2 3.240912006710166 1.9435464843865158 0.9476173446989885\n",
      " EtONO2 2.2283713435763532 1.3363347359473015 0.5960278705173844\n",
      "nPrONO2 0.11728270229349208 0.07033340715512107 0.1081556192006265\n",
      "iPrONO2 0.39094234097830693 0.23444469051707004 1.0815561920062642\n"
     ]
    }
   ],
   "source": [
    "print(' MeONO2', np.sum((dm_trof*meono2_ef_trof).data), np.sum((dm_sava*meono2_ef_sava).data), np.sum(((dm_borf+dm_temf)*meono2_ef_borf).data))\n",
    "print(' EtONO2', np.sum((dm_trof*etono2_ef_trof).data), np.sum((dm_sava*etono2_ef_sava).data), np.sum(((dm_borf+dm_temf)*etono2_ef_borf).data))\n",
    "print('nPrONO2', np.sum((dm_trof*nprono2_ef_trof).data), np.sum((dm_sava*nprono2_ef_sava).data), np.sum(((dm_borf+dm_temf)*nprono2_ef_borf).data))\n",
    "print('iPrONO2', np.sum((dm_trof*iprono2_ef_trof).data), np.sum((dm_sava*iprono2_ef_sava).data), np.sum(((dm_borf+dm_temf)*iprono2_ef_borf).data))"
   ]
  },
  {
   "cell_type": "code",
   "execution_count": 8,
   "metadata": {},
   "outputs": [
    {
     "data": {
      "text/plain": [
       "3.5846593180060085"
      ]
     },
     "execution_count": 8,
     "metadata": {},
     "output_type": "execute_result"
    }
   ],
   "source": [
    "1.9435464843865158+1.3363347359473015+0.07033340715512107+0.23444469051707004"
   ]
  },
  {
   "cell_type": "code",
   "execution_count": 9,
   "metadata": {},
   "outputs": [
    {
     "data": {
      "text/plain": [
       "2.7333570264232634"
      ]
     },
     "execution_count": 9,
     "metadata": {},
     "output_type": "execute_result"
    }
   ],
   "source": [
    "0.9476173446989885+0.5960278705173844+0.1081556192006265+1.0815561920062642"
   ]
  },
  {
   "cell_type": "code",
   "execution_count": 10,
   "metadata": {},
   "outputs": [
    {
     "data": {
      "text/plain": [
       "0.18"
      ]
     },
     "execution_count": 10,
     "metadata": {},
     "output_type": "execute_result"
    }
   ],
   "source": [
    "180*1e9/1e12"
   ]
  },
  {
   "cell_type": "code",
   "execution_count": 11,
   "metadata": {},
   "outputs": [
    {
     "data": {
      "text/plain": [
       "array([-179.875, -179.625, -179.375, -179.125, -178.875, -178.625,\n",
       "       -178.375, -178.125, -177.875, -177.625, -177.375, -177.125,\n",
       "       -176.875, -176.625, -176.375, -176.125, -175.875, -175.625,\n",
       "       -175.375, -175.125], dtype=float32)"
      ]
     },
     "execution_count": 11,
     "metadata": {},
     "output_type": "execute_result"
    }
   ],
   "source": [
    "gfed_lons[0:20]"
   ]
  },
  {
   "cell_type": "code",
   "execution_count": 12,
   "metadata": {},
   "outputs": [
    {
     "data": {
      "text/plain": [
       "array([ 0.  ,  3.75,  7.5 , 11.25, 15.  , 18.75, 22.5 , 26.25, 30.  ,\n",
       "       33.75, 37.5 , 41.25, 45.  , 48.75, 52.5 , 56.25, 60.  , 63.75,\n",
       "       67.5 , 71.25], dtype=float32)"
      ]
     },
     "execution_count": 12,
     "metadata": {},
     "output_type": "execute_result"
    }
   ],
   "source": [
    "ukca_lons[0:20]"
   ]
  },
  {
   "cell_type": "code",
   "execution_count": 13,
   "metadata": {},
   "outputs": [],
   "source": [
    "def roll_cube_w2e(cube_in, inplace=False):\n",
    "    \"\"\"Take a cube which longitudes span -180...180 and roll them by 180 degrees west to east to 0...360.\n",
    "    Inspired by https://gist.github.com/dennissergeev/0e362a8a8a8f12b87221c1519b9903cf\"\"\"\n",
    "    if inplace:\n",
    "        cube = cube_in\n",
    "    else:\n",
    "        cube = cube_in.copy()\n",
    "    lon = cube.coord('longitude')\n",
    "    if (lon.points < 0.).any():\n",
    "        add = 180\n",
    "        cube.data = np.roll(cube.data, len(lon.points) // 2, axis=-1)\n",
    "        if lon.has_bounds():\n",
    "            bounds = lon.bounds + add\n",
    "        else:\n",
    "            bounds = None\n",
    "        cube.replace_coord(lon.copy(points=lon.points + add, bounds=bounds))\n",
    "    if not inplace:\n",
    "        return cube"
   ]
  },
  {
   "cell_type": "code",
   "execution_count": 14,
   "metadata": {},
   "outputs": [],
   "source": [
    "# Roll GFED data west to east and regrid it onto UKCA grid\n",
    "ukca_grid = [('longitude', ukca.coord('longitude').points), ('latitude', ukca.coord('latitude').points)]\n",
    "ukca_meono2 = roll_cube_w2e(gfed_meono2).interpolate(ukca_grid, iris.analysis.Linear())\n",
    "ukca_etono2 = roll_cube_w2e(gfed_etono2).interpolate(ukca_grid, iris.analysis.Linear())\n",
    "ukca_nprono2 = roll_cube_w2e(gfed_nprono2).interpolate(ukca_grid, iris.analysis.Linear())\n",
    "ukca_iprono2 = roll_cube_w2e(gfed_iprono2).interpolate(ukca_grid, iris.analysis.Linear())"
   ]
  },
  {
   "cell_type": "markdown",
   "metadata": {},
   "source": [
    "#### Check land mask"
   ]
  },
  {
   "cell_type": "code",
   "execution_count": 15,
   "metadata": {},
   "outputs": [
    {
     "name": "stderr",
     "output_type": "stream",
     "text": [
      "/home/maria/miniconda3/lib/python3.7/site-packages/iris/fileformats/_pyke_rules/compiled_krb/fc_rules_cf_fc.py:2190: UserWarning: Ignoring netCDF variable 'surface' invalid units 'level'\n",
      "  warnings.warn(msg)\n"
     ]
    }
   ],
   "source": [
    "# Read UM orography data\n",
    "ukca_orog = iris.util.squeeze(iris.load_cube(str(path_to_raw / 'um_orography_xnvtj.nc'), 'OROGRAPHY (/STRAT LOWER BC)'))"
   ]
  },
  {
   "cell_type": "code",
   "execution_count": 16,
   "metadata": {},
   "outputs": [
    {
     "data": {
      "image/png": "[encoded data removed]",
      "text/plain": [
       "<Figure size 576x576 with 1 Axes>"
      ]
     },
     "metadata": {
      "needs_background": "light"
     },
     "output_type": "display_data"
    }
   ],
   "source": [
    "# Mask UKCA heights that are equal to zero\n",
    "ukca_orog_masked = np.ma.masked_where(ukca_orog.data == 0., ukca_orog.data)\n",
    "ukca_ocean_mask = ukca_orog_masked.mask # ocean is True\n",
    "# Plot ocean mask\n",
    "fig, ax = plt.subplots(figsize=(8,8), subplot_kw=dict(projection=ccrs.Robinson(central_longitude=0)))\n",
    "ax.pcolormesh(ukca_lons, ukca_lats, ukca_ocean_mask, transform=ccrs.PlateCarree(), cmap='Blues');"
   ]
  },
  {
   "cell_type": "code",
   "execution_count": 17,
   "metadata": {},
   "outputs": [
    {
     "data": {
      "text/plain": [
       "-4.596230964546153e-15"
      ]
     },
     "execution_count": 17,
     "metadata": {},
     "output_type": "execute_result"
    }
   ],
   "source": [
    "ukca_meono2.data.min()"
   ]
  },
  {
   "cell_type": "code",
   "execution_count": 18,
   "metadata": {},
   "outputs": [],
   "source": [
    "# Remove negative values and apply UKCA ocean mask\n",
    "ukca_ocean_mask_brdcst = np.broadcast_to(ukca_ocean_mask, (12, 73, 96))\n",
    "ukca_meono2_corrd = np.ma.masked_where((ukca_meono2.data<=0.) & ukca_ocean_mask_brdcst, ukca_meono2.data).filled(fill_value=0.)\n",
    "ukca_etono2_corrd = np.ma.masked_where((ukca_etono2.data<=0.) & ukca_ocean_mask_brdcst, ukca_etono2.data).filled(fill_value=0.)\n",
    "ukca_nprono2_corrd = np.ma.masked_where((ukca_nprono2.data<=0.) & ukca_ocean_mask_brdcst, ukca_nprono2.data).filled(fill_value=0.)\n",
    "ukca_iprono2_corrd = np.ma.masked_where((ukca_iprono2.data<=0.) & ukca_ocean_mask_brdcst, ukca_iprono2.data).filled(fill_value=0.)"
   ]
  },
  {
   "cell_type": "code",
   "execution_count": 19,
   "metadata": {},
   "outputs": [
    {
     "data": {
      "image/png": "[encoded data removed]",
      "text/plain": [
       "<Figure size 720x720 with 2 Axes>"
      ]
     },
     "metadata": {
      "needs_background": "light"
     },
     "output_type": "display_data"
    }
   ],
   "source": [
    "# Overlay UKCA land mask with emissions\n",
    "fig, ax = plt.subplots(figsize=(10,10), subplot_kw=dict(projection=ccrs.Robinson(central_longitude=0)))\n",
    "ax.pcolormesh(ukca_lons, ukca_lats, ukca_ocean_mask, transform=ccrs.PlateCarree(), cmap='Blues')\n",
    "p1 = ax.pcolormesh(ukca_lons, ukca_lats, ukca_meono2_corrd[7,...], transform=ccrs.PlateCarree(), cmap='Reds', alpha=0.5);\n",
    "fig.colorbar(p1, shrink=0.4);"
   ]
  },
  {
   "cell_type": "markdown",
   "metadata": {},
   "source": [
    "Looks correct."
   ]
  },
  {
   "cell_type": "code",
   "execution_count": 20,
   "metadata": {},
   "outputs": [],
   "source": [
    "# Replace unmasked data in a cube with masked data\n",
    "ukca_meono2.data = ukca_meono2_corrd\n",
    "ukca_etono2.data = ukca_etono2_corrd\n",
    "ukca_nprono2.data = ukca_nprono2_corrd\n",
    "ukca_iprono2.data = ukca_iprono2_corrd"
   ]
  },
  {
   "cell_type": "markdown",
   "metadata": {},
   "source": [
    "#### Calculate and compare burdens"
   ]
  },
  {
   "cell_type": "code",
   "execution_count": 21,
   "metadata": {},
   "outputs": [],
   "source": [
    "gfed_cb_list = [gfed_meono2, gfed_etono2, gfed_nprono2, gfed_iprono2, gfed_grid_cell_area]\n",
    "for cb in gfed_cb_list:\n",
    "    for coord in ['latitude', 'longitude']:\n",
    "        if not cb.coord(coord).has_bounds():\n",
    "            cb.coord(coord).guess_bounds()\n",
    "        if not cb.coord(coord).has_bounds():\n",
    "            cb.coord(coord).guess_bounds()\n",
    "    cb.coord('latitude').units = 'degrees'\n",
    "    cb.coord('longitude').units = 'degrees'\n",
    "def calc_burden_gfed(cb):\n",
    "    # Calculate emission per grid cell per year\n",
    "    cb_per_yr = cb.collapsed('time', iris.analysis.SUM)\n",
    "    # Find area sum per year and multiply it by grid cell area\n",
    "    cb_per_yr_area_sum = cb_per_yr*gfed_grid_cell_area\n",
    "    # Calculate burden\n",
    "    cb_burden = cb_per_yr_area_sum.collapsed(['latitude', 'longitude'], iris.analysis.SUM)\n",
    "    cb_burden.convert_units('Gg/yr')\n",
    "    return f'{cb_burden.data:1.2f}, Gg/yr;'"
   ]
  },
  {
   "cell_type": "code",
   "execution_count": 22,
   "metadata": {},
   "outputs": [],
   "source": [
    "ukca_cb_list = [ukca_meono2, ukca_etono2, ukca_nprono2, ukca_iprono2]\n",
    "for cb in ukca_cb_list:\n",
    "    for coord in ['latitude', 'longitude']:\n",
    "        if not cb.coord(coord).has_bounds():\n",
    "            cb.coord(coord).guess_bounds()\n",
    "        if not cb.coord(coord).has_bounds():\n",
    "            cb.coord(coord).guess_bounds()\n",
    "    cb.coord('latitude').units = 'degrees'\n",
    "    cb.coord('longitude').units = 'degrees'\n",
    "def calc_burden_ukca(cb):\n",
    "    # Calculate emission per grid cell per year\n",
    "    cb_per_yr = cb.collapsed('time', iris.analysis.SUM)\n",
    "    # Calculate area weights and Earth's area\n",
    "    area_weights_norm = iris.analysis.cartography.area_weights(cb_per_yr, normalize=True)\n",
    "    area_weights_inm2 = iris.analysis.cartography.area_weights(cb_per_yr, normalize=False)\n",
    "    earth_area = iris.cube.Cube(area_weights_inm2.sum(), units='m2')\n",
    "    # Calculate burden: find area sum per year and multiply it by Earth's area\n",
    "    cb_per_yr_area_sum = cb_per_yr.collapsed(['latitude', 'longitude'], iris.analysis.SUM, weights=area_weights_norm)\n",
    "    cb_burden = cb_per_yr_area_sum*earth_area\n",
    "    cb_burden.convert_units('Gg/yr')\n",
    "    return f'{cb_burden.data:1.2f}, Gg/yr;', cb_burden.data"
   ]
  },
  {
   "cell_type": "code",
   "execution_count": 23,
   "metadata": {},
   "outputs": [
    {
     "name": "stderr",
     "output_type": "stream",
     "text": [
      "/home/maria/miniconda3/lib/python3.7/site-packages/iris/coords.py:1410: UserWarning: Collapsing a non-contiguous coordinate. Metadata may not be fully descriptive for 'time'.\n",
      "  warnings.warn(msg.format(self.name()))\n",
      "/home/maria/miniconda3/lib/python3.7/site-packages/iris/cube.py:3218: UserWarning: Collapsing spatial coordinate 'latitude' without weighting\n",
      "  warnings.warn(msg.format(coord.name()))\n",
      "/home/maria/miniconda3/lib/python3.7/site-packages/iris/coords.py:1410: UserWarning: Collapsing a non-contiguous coordinate. Metadata may not be fully descriptive for 'time'.\n",
      "  warnings.warn(msg.format(self.name()))\n",
      "/home/maria/miniconda3/lib/python3.7/site-packages/iris/cube.py:3218: UserWarning: Collapsing spatial coordinate 'latitude' without weighting\n",
      "  warnings.warn(msg.format(coord.name()))\n",
      "/home/maria/miniconda3/lib/python3.7/site-packages/iris/coords.py:1410: UserWarning: Collapsing a non-contiguous coordinate. Metadata may not be fully descriptive for 'time'.\n",
      "  warnings.warn(msg.format(self.name()))\n",
      "/home/maria/miniconda3/lib/python3.7/site-packages/iris/cube.py:3218: UserWarning: Collapsing spatial coordinate 'latitude' without weighting\n",
      "  warnings.warn(msg.format(coord.name()))\n",
      "/home/maria/miniconda3/lib/python3.7/site-packages/iris/coords.py:1410: UserWarning: Collapsing a non-contiguous coordinate. Metadata may not be fully descriptive for 'time'.\n",
      "  warnings.warn(msg.format(self.name()))\n",
      "/home/maria/miniconda3/lib/python3.7/site-packages/iris/cube.py:3218: UserWarning: Collapsing spatial coordinate 'latitude' without weighting\n",
      "  warnings.warn(msg.format(coord.name()))\n"
     ]
    },
    {
     "name": "stdout",
     "output_type": "stream",
     "text": [
      "52.36, Gg/yr; 35.69, Gg/yr; 2.31, Gg/yr; 11.78, Gg/yr;\n"
     ]
    }
   ],
   "source": [
    "print(calc_burden_gfed(gfed_meono2), calc_burden_gfed(gfed_etono2), calc_burden_gfed(gfed_nprono2), calc_burden_gfed(gfed_iprono2))"
   ]
  },
  {
   "cell_type": "code",
   "execution_count": 24,
   "metadata": {},
   "outputs": [
    {
     "name": "stdout",
     "output_type": "stream",
     "text": [
      "53.69, Gg/yr; 36.60, Gg/yr; 2.36, Gg/yr; 11.89, Gg/yr;\n"
     ]
    },
    {
     "name": "stderr",
     "output_type": "stream",
     "text": [
      "/home/maria/miniconda3/lib/python3.7/site-packages/iris/coords.py:1410: UserWarning: Collapsing a non-contiguous coordinate. Metadata may not be fully descriptive for 'time'.\n",
      "  warnings.warn(msg.format(self.name()))\n",
      "/home/maria/miniconda3/lib/python3.7/site-packages/iris/analysis/cartography.py:394: UserWarning: Using DEFAULT_SPHERICAL_EARTH_RADIUS.\n",
      "  warnings.warn(\"Using DEFAULT_SPHERICAL_EARTH_RADIUS.\")\n",
      "/home/maria/miniconda3/lib/python3.7/site-packages/iris/coords.py:1410: UserWarning: Collapsing a non-contiguous coordinate. Metadata may not be fully descriptive for 'time'.\n",
      "  warnings.warn(msg.format(self.name()))\n",
      "/home/maria/miniconda3/lib/python3.7/site-packages/iris/analysis/cartography.py:394: UserWarning: Using DEFAULT_SPHERICAL_EARTH_RADIUS.\n",
      "  warnings.warn(\"Using DEFAULT_SPHERICAL_EARTH_RADIUS.\")\n",
      "/home/maria/miniconda3/lib/python3.7/site-packages/iris/coords.py:1410: UserWarning: Collapsing a non-contiguous coordinate. Metadata may not be fully descriptive for 'time'.\n",
      "  warnings.warn(msg.format(self.name()))\n",
      "/home/maria/miniconda3/lib/python3.7/site-packages/iris/analysis/cartography.py:394: UserWarning: Using DEFAULT_SPHERICAL_EARTH_RADIUS.\n",
      "  warnings.warn(\"Using DEFAULT_SPHERICAL_EARTH_RADIUS.\")\n",
      "/home/maria/miniconda3/lib/python3.7/site-packages/iris/coords.py:1410: UserWarning: Collapsing a non-contiguous coordinate. Metadata may not be fully descriptive for 'time'.\n",
      "  warnings.warn(msg.format(self.name()))\n",
      "/home/maria/miniconda3/lib/python3.7/site-packages/iris/analysis/cartography.py:394: UserWarning: Using DEFAULT_SPHERICAL_EARTH_RADIUS.\n",
      "  warnings.warn(\"Using DEFAULT_SPHERICAL_EARTH_RADIUS.\")\n"
     ]
    }
   ],
   "source": [
    "print(calc_burden_ukca(ukca_meono2)[0], calc_burden_ukca(ukca_etono2)[0], calc_burden_ukca(ukca_nprono2)[0], calc_burden_ukca(ukca_iprono2)[0])"
   ]
  },
  {
   "cell_type": "code",
   "execution_count": 25,
   "metadata": {},
   "outputs": [],
   "source": [
    "# For converting RONO2 to N\n",
    "molar_mass_n = iris.coords.AuxCoord(14.007, units='g/mol', long_name='molar_mass_of_atomic_nitrogen')\n",
    "molar_mass_meono2 = iris.coords.AuxCoord(77.0394, units='g/mol', long_name='molar_mass_of_methyl_nitrate')\n",
    "molar_mass_etono2 = iris.coords.AuxCoord(91.0660, units='g/mol', long_name='molar_mass_of_ethyl_nitrate')\n",
    "molar_mass_prono2 = iris.coords.AuxCoord(105.0926, units='g/mol', long_name='molar_mass_of_propyl_nitrate')"
   ]
  },
  {
   "cell_type": "code",
   "execution_count": 26,
   "metadata": {},
   "outputs": [
    {
     "name": "stdout",
     "output_type": "stream",
     "text": [
      "GFED in Gg N yr-1\n",
      " MeONO2: 9.51988878418056\n",
      " EtONO2: 5.4895331957042135\n",
      "nPrONO2: 0.30788247697744653\n",
      "iPrONO2: 1.5700673501274112\n",
      "  Total: 16.88737180698963\n"
     ]
    }
   ],
   "source": [
    "# GFED in Gg N yr-1\n",
    "print('GFED in Gg N yr-1')\n",
    "print(' MeONO2:', 52.36/molar_mass_meono2.points[0]*molar_mass_n.points[0])\n",
    "print(' EtONO2:', 35.69/molar_mass_etono2.points[0]*molar_mass_n.points[0])\n",
    "print('nPrONO2:', 2.31/molar_mass_prono2.points[0]*molar_mass_n.points[0])\n",
    "print('iPrONO2:', 11.78/molar_mass_prono2.points[0]*molar_mass_n.points[0])\n",
    "print('  Total:', 52.36/molar_mass_meono2.points[0]*molar_mass_n.points[0]+35.69/molar_mass_etono2.points[0]*molar_mass_n.points[0]+\n",
    "                  2.31/molar_mass_prono2.points[0]*molar_mass_n.points[0]+11.78/molar_mass_prono2.points[0]*molar_mass_n.points[0])"
   ]
  },
  {
   "cell_type": "code",
   "execution_count": 27,
   "metadata": {},
   "outputs": [
    {
     "name": "stdout",
     "output_type": "stream",
     "text": [
      "UKCA in Gg N yr-1\n",
      " MeONO2: 9.761704140997981\n",
      " EtONO2: 5.629501680100147\n",
      "nPrONO2: 0.31454659985574623\n",
      "iPrONO2: 1.5847284204596708\n",
      "  Total: 17.290480841413547\n"
     ]
    }
   ],
   "source": [
    "# UKCA in Gg N yr-1\n",
    "print('UKCA in Gg N yr-1')\n",
    "print(' MeONO2:', 53.69/molar_mass_meono2.points[0]*molar_mass_n.points[0])\n",
    "print(' EtONO2:', 36.60/molar_mass_etono2.points[0]*molar_mass_n.points[0])\n",
    "print('nPrONO2:', 2.36/molar_mass_prono2.points[0]*molar_mass_n.points[0])\n",
    "print('iPrONO2:', 11.89/molar_mass_prono2.points[0]*molar_mass_n.points[0])\n",
    "print('  Total:', 53.69/molar_mass_meono2.points[0]*molar_mass_n.points[0]+36.60/molar_mass_etono2.points[0]*molar_mass_n.points[0]+\n",
    "                  2.36/molar_mass_prono2.points[0]*molar_mass_n.points[0]+11.89/molar_mass_prono2.points[0]*molar_mass_n.points[0])"
   ]
  },
  {
   "cell_type": "code",
   "execution_count": 28,
   "metadata": {},
   "outputs": [
    {
     "name": "stdout",
     "output_type": "stream",
     "text": [
      "16.89\n",
      "17.290000000000003\n"
     ]
    }
   ],
   "source": [
    "print(9.52+5.49+0.31+1.57)\n",
    "print(9.76+5.63+0.31+1.59) # 0.01?"
   ]
  },
  {
   "cell_type": "code",
   "execution_count": 29,
   "metadata": {},
   "outputs": [
    {
     "name": "stdout",
     "output_type": "stream",
     "text": [
      "% difference between GFEDs and UKCA\n",
      " MeONO2: 102.52100840336135\n",
      " EtONO2: 102.55009107468123\n",
      "iPrONO2: 101.27388535031847\n"
     ]
    }
   ],
   "source": [
    "print('% difference between GFEDs and UKCA')\n",
    "print(' MeONO2:', 9.76*100/9.52)\n",
    "print(' EtONO2:', 5.63*100/5.49)\n",
    "print('iPrONO2:', 1.59*100/1.57)"
   ]
  },
  {
   "cell_type": "code",
   "execution_count": 30,
   "metadata": {},
   "outputs": [
    {
     "data": {
      "text/plain": [
       "(2.540106951871664, 2.549733818996927, 2.164502164502167, 0.9337860780984784)"
      ]
     },
     "execution_count": 30,
     "metadata": {},
     "output_type": "execute_result"
    }
   ],
   "source": [
    "# Differences between GFED and UKCA burdens due to regridding [%]\n",
    "-100+53.69*100/52.36, -100+36.60*100/35.69, -100+2.36*100/2.31, -100+11.89*100/11.78"
   ]
  },
  {
   "cell_type": "code",
   "execution_count": 31,
   "metadata": {},
   "outputs": [],
   "source": [
    "# rono2_burden_ukca = calc_burden_ukca(ukca_meono2)[1]+calc_burden_ukca(ukca_etono2)[1]+calc_burden_ukca(ukca_nprono2)[1]+calc_burden_ukca(ukca_iprono2)[1]\n",
    "# print(f'{rono2_burden_ukca:1.2f}, Gg/yr')"
   ]
  },
  {
   "cell_type": "markdown",
   "metadata": {},
   "source": [
    "From Simpson et al. (2002):\n",
    "\n",
    "'...global savanna burning emissions for the five C1–C4 alkyl nitrates reported here are estimated to total roughly 6.6 Gg/yr (mainly as MeONO2) during the flaming stage, and 1.2 Gg/yr (mainly as C2–C4 alkyl nitrates) during the smoldering stage, for a total on the order of 8 Gg/yr (Table 3). For global biomass burning, summed C1–C4 alkyl nitrate emissions on the order of 18 Gg/yr are estimated. In both cases, MeONO2 emissions during the flaming stage comprise a majority (roughly two-thirds) of the total C1–C4 alkyl nitrate emissions'.\n",
    "\n",
    "?So, GFED/UKCA C1-C3 RONO2 biomass burning emissions are 5 times higher than Simpson et al. estimate."
   ]
  },
  {
   "cell_type": "markdown",
   "metadata": {},
   "source": [
    "#### Create perpetual year emissions"
   ]
  },
  {
   "cell_type": "code",
   "execution_count": 32,
   "metadata": {},
   "outputs": [],
   "source": [
    "# Repeat emissions data 10 times along time axis\n",
    "perpetual_meono2_arr = np.moveaxis(np.tile(np.moveaxis(ukca_meono2.data, 0, -1), 10), -1, 0)\n",
    "perpetual_etono2_arr = np.moveaxis(np.tile(np.moveaxis(ukca_etono2.data, 0, -1), 10), -1, 0)\n",
    "perpetual_nprono2_arr = np.moveaxis(np.tile(np.moveaxis(ukca_nprono2.data, 0, -1), 10), -1, 0)\n",
    "perpetual_iprono2_arr = np.moveaxis(np.tile(np.moveaxis(ukca_iprono2.data, 0, -1), 10), -1, 0)\n",
    "# Create a new time dimention or copy ukca.coord('time') if shapes are the same\n",
    "if perpetual_meono2_arr.shape == ukca.coord('time').shape:\n",
    "    time = ukca.coord('time')\n",
    "else:\n",
    "    start_date = ukca.coord('time').points[0]\n",
    "    hours_since_start_date = np.arange(start_date, start_date+10*12*30*24, 720) # montly intervals in hours using 360 day calendar\n",
    "    time = iris.coords.DimCoord(hours_since_start_date, standard_name='time', var_name='time', units=ukca.coord('time').units)"
   ]
  },
  {
   "cell_type": "code",
   "execution_count": 33,
   "metadata": {},
   "outputs": [],
   "source": [
    "# Create iris cubes\n",
    "perpetual_meono2_cb = iris.cube.Cube(perpetual_meono2_arr, long_name='methyl_nitrate_biomass_burning_emission', units='kg/m2/s',\n",
    "                                     dim_coords_and_dims=[(time, 0), (ukca.coord('latitude'), 1), (ukca.coord('longitude'), 2)])\n",
    "perpetual_etono2_cb = iris.cube.Cube(perpetual_etono2_arr, long_name='ethyl_nitrate_biomass_burning_emission', units='kg/m2/s',\n",
    "                                     dim_coords_and_dims=[(time, 0), (ukca.coord('latitude'), 1), (ukca.coord('longitude'), 2)])\n",
    "perpetual_nprono2_cb = iris.cube.Cube(perpetual_nprono2_arr, long_name='npropyl_nitrate_biomass_burning_emission', units='kg/m2/s',\n",
    "                                      dim_coords_and_dims=[(time, 0), (ukca.coord('latitude'), 1), (ukca.coord('longitude'), 2)])\n",
    "perpetual_iprono2_cb = iris.cube.Cube(perpetual_iprono2_arr, long_name='ipropyl_nitrate_biomass_burning_emission', units='kg/m2/s',\n",
    "                                      dim_coords_and_dims=[(time, 0), (ukca.coord('latitude'), 1), (ukca.coord('longitude'), 2)])"
   ]
  },
  {
   "cell_type": "code",
   "execution_count": 34,
   "metadata": {},
   "outputs": [],
   "source": [
    "# # Save iris cubes to .nc\n",
    "# iris.save(perpetual_meono2_cb, str(path_to_ukca / 'perpetual_meono2_biomass_burning_emissions.nc'))\n",
    "# iris.save(perpetual_etono2_cb, str(path_to_ukca / 'perpetual_etono2_biomass_burning_emissions.nc'))\n",
    "# iris.save(perpetual_nprono2_cb, str(path_to_ukca / 'perpetual_nprono2_biomass_burning_emissions.nc'))\n",
    "# iris.save(perpetual_iprono2_cb, str(path_to_ukca / 'perpetual_iprono2_biomass_burning_emissions.nc'))"
   ]
  },
  {
   "cell_type": "markdown",
   "metadata": {},
   "source": [
    "#### Plot figures"
   ]
  },
  {
   "cell_type": "code",
   "execution_count": 35,
   "metadata": {},
   "outputs": [],
   "source": [
    "# def plt_dm_map(lons, lats, cb, specie_latex, specie_str, source):\n",
    "#     fig, ax = plt.subplots(figsize=(10,10), subplot_kw=dict(projection=ccrs.Robinson(central_longitude=0)))\n",
    "#     p0 = ax.pcolormesh(lons, lats, cb, transform=ccrs.PlateCarree(), cmap='Reds')\n",
    "#     ax.coastlines(color='grey', alpha=0.2)\n",
    "#     ax.set_title(f'{source.upper()}\\n{specie_latex} emissions')\n",
    "#     fig.colorbar(p0, shrink=0.4, label='Dry matter, kg $m^{-2}$ $yr^{-1}$')\n",
    "#     fig.savefig(path_to_figs / f'{source}_dm_{specie_str}_biomass_burning_emissions_per_yr.png', bbox_inches='tight')\n",
    "    \n",
    "# # plt_dm_map(gfed_lons, gfed_lats, dm_borf.collapsed('time', iris.analysis.SUM).data, 'Boreal forest fire', 'borf', 'gfed')\n",
    "# # plt_dm_map(gfed_lons, gfed_lats, dm_temf.collapsed('time', iris.analysis.SUM).data, 'Temperate forest fire', 'temf', 'gfed')\n",
    "# # plt_dm_map(gfed_lons, gfed_lats, dm_trof.collapsed('time', iris.analysis.SUM).data, 'Tropical forest fire', 'trof', 'gfed')\n",
    "# # plt_dm_map(gfed_lons, gfed_lats, dm_sava.collapsed('time', iris.analysis.SUM).data, 'Savanna, grassland and shrubland fire', 'sava', 'gfed')\n",
    "# # plt_dm_map(gfed_lons, gfed_lats, (dm_borf+dm_temf+dm_trof+dm_sava).collapsed('time', iris.analysis.SUM).data, \n",
    "# #            'This study sum of biomass burning', 'all', 'gfed')"
   ]
  },
  {
   "cell_type": "code",
   "execution_count": 36,
   "metadata": {},
   "outputs": [],
   "source": [
    "lats = ukca.coord('latitude').points"
   ]
  },
  {
   "cell_type": "code",
   "execution_count": 37,
   "metadata": {},
   "outputs": [],
   "source": [
    "# Select the first 12 months\n",
    "meono2 = perpetual_meono2_cb[0:12,...]\n",
    "etono2 = perpetual_etono2_cb[0:12,...]\n",
    "nprono2 = perpetual_nprono2_cb[0:12,...]\n",
    "iprono2 = perpetual_iprono2_cb[0:12,...]\n",
    "# Add a season coordinate\n",
    "iris.coord_categorisation.add_season(meono2, 'time', name='season')\n",
    "iris.coord_categorisation.add_season(etono2, 'time', name='season')\n",
    "iris.coord_categorisation.add_season(nprono2, 'time', name='season')\n",
    "iris.coord_categorisation.add_season(iprono2, 'time', name='season')"
   ]
  },
  {
   "cell_type": "code",
   "execution_count": 38,
   "metadata": {},
   "outputs": [
    {
     "name": "stderr",
     "output_type": "stream",
     "text": [
      "/home/maria/miniconda3/lib/python3.7/site-packages/iris/coords.py:1410: UserWarning: Collapsing a non-contiguous coordinate. Metadata may not be fully descriptive for 'time'.\n",
      "  warnings.warn(msg.format(self.name()))\n",
      "/home/maria/miniconda3/lib/python3.7/site-packages/iris/coords.py:1410: UserWarning: Collapsing a non-contiguous coordinate. Metadata may not be fully descriptive for 'time'.\n",
      "  warnings.warn(msg.format(self.name()))\n",
      "/home/maria/miniconda3/lib/python3.7/site-packages/iris/coords.py:1410: UserWarning: Collapsing a non-contiguous coordinate. Metadata may not be fully descriptive for 'time'.\n",
      "  warnings.warn(msg.format(self.name()))\n",
      "/home/maria/miniconda3/lib/python3.7/site-packages/iris/coords.py:1410: UserWarning: Collapsing a non-contiguous coordinate. Metadata may not be fully descriptive for 'time'.\n",
      "  warnings.warn(msg.format(self.name()))\n"
     ]
    }
   ],
   "source": [
    "# Annual sum\n",
    "meono2_ann, lons = cartopy.util.add_cyclic_point(meono2.collapsed('time', iris.analysis.SUM).data, coord=meono2.coord('longitude').points)\n",
    "etono2_ann = cartopy.util.add_cyclic_point(etono2.collapsed('time', iris.analysis.SUM).data)\n",
    "nprono2_ann = cartopy.util.add_cyclic_point(nprono2.collapsed('time', iris.analysis.SUM).data)\n",
    "iprono2_ann = cartopy.util.add_cyclic_point(iprono2.collapsed('time', iris.analysis.SUM).data)\n",
    "# Mask zero emissions\n",
    "mskd_meono2_ann = np.ma.masked_where(meono2_ann.data<=0.00000000e+00, meono2_ann.data)\n",
    "mskd_etono2_ann = np.ma.masked_where(etono2_ann.data<=0.00000000e+00, etono2_ann.data)\n",
    "mskd_nprono2_ann = np.ma.masked_where(nprono2_ann.data<=0.00000000e+00, nprono2_ann.data)\n",
    "mskd_iprono2_ann = np.ma.masked_where(iprono2_ann.data<=0.00000000e+00, iprono2_ann.data)\n",
    "# Find max annual emission\n",
    "ann_max = max(meono2_ann.max(), etono2_ann.max(), nprono2_ann.max(), iprono2_ann.max())"
   ]
  },
  {
   "cell_type": "code",
   "execution_count": 39,
   "metadata": {},
   "outputs": [],
   "source": [
    "for_paper = True\n",
    "for_thesis = False"
   ]
  },
  {
   "cell_type": "code",
   "execution_count": 40,
   "metadata": {},
   "outputs": [
    {
     "data": {
      "image/png": "[encoded data removed]",
      "text/plain": [
       "<Figure size 1152x360 with 5 Axes>"
      ]
     },
     "metadata": {},
     "output_type": "display_data"
    }
   ],
   "source": [
    "if for_paper:\n",
    "    fig, ax = plt.subplots(nrows=1, ncols=4, figsize=(16,5), facecolor=\"w\", subplot_kw=dict(projection=ccrs.Robinson(central_longitude=180)))\n",
    "    # Hide zero emissions\n",
    "    cmap_hide = copy(plt.cm.inferno_r)\n",
    "    cmap_hide.set_bad('w', 0)\n",
    "    p00 = ax[0].pcolormesh(lons, lats, mskd_meono2_ann, transform=ccrs.PlateCarree(), vmin=0, vmax=ann_max, cmap=cmap_hide);\n",
    "    ax[1].pcolormesh(lons, lats, mskd_etono2_ann, transform=ccrs.PlateCarree(), vmin=0, vmax=ann_max, cmap=cmap_hide);\n",
    "    ax[2].pcolormesh(lons, lats, mskd_nprono2_ann, transform=ccrs.PlateCarree(), vmin=0, vmax=ann_max, cmap=cmap_hide);\n",
    "    ax[3].pcolormesh(lons, lats, mskd_iprono2_ann, transform=ccrs.PlateCarree(), vmin=0, vmax=ann_max, cmap=cmap_hide);\n",
    "    # common\n",
    "    ax[0].set_title(f'$MeONO_2$')\n",
    "    ax[1].set_title(f'$EtONO_2$')\n",
    "    ax[2].set_title(f'$nPrONO_2$')\n",
    "    ax[3].set_title(f'$iPrONO_2$')\n",
    "    for iax in ax.flatten(): iax.coastlines(color='grey')\n",
    "    fig.subplots_adjust(wspace=0.02) #hspace=-0.58\n",
    "    cb00_fmt = ticker.ScalarFormatter(useMathText=True)\n",
    "    cb00_fmt.set_powerlimits((0, 0))\n",
    "    cb00 = fig.colorbar(p00, ax=ax, orientation='horizontal', label=\"Annual biomass burning emissions [kg $m^{-2}$ $s^{-1}$]\", format=cb00_fmt, shrink=0.45, pad=0.05, aspect=50)\n",
    "#     fig.savefig(path_to_figs / f'rono2_bb_emis_ann_config_row.png', bbox_inches='tight', dpi=300)"
   ]
  },
  {
   "cell_type": "code",
   "execution_count": 41,
   "metadata": {},
   "outputs": [],
   "source": [
    "if for_thesis:\n",
    "    fig, ax = plt.subplots(nrows=2, ncols=2, figsize=(12,12), subplot_kw=dict(projection=ccrs.Robinson(central_longitude=180)))\n",
    "    # Hide zero emissions\n",
    "    cmap_hide = copy(plt.cm.inferno_r)\n",
    "    cmap_hide.set_bad('w', 0)\n",
    "    p00 = ax[0,0].pcolormesh(lons, lats, mskd_meono2_ann, transform=ccrs.PlateCarree(), vmin=0, vmax=ann_max, cmap=cmap_hide);\n",
    "    ax[0,1].pcolormesh(lons, lats, mskd_etono2_ann, transform=ccrs.PlateCarree(), vmin=0, vmax=ann_max, cmap=cmap_hide);\n",
    "    ax[1,0].pcolormesh(lons, lats, mskd_nprono2_ann, transform=ccrs.PlateCarree(), vmin=0, vmax=ann_max, cmap=cmap_hide);\n",
    "    ax[1,1].pcolormesh(lons, lats, mskd_iprono2_ann, transform=ccrs.PlateCarree(), vmin=0, vmax=ann_max, cmap=cmap_hide);\n",
    "    # common\n",
    "    ax[0,0].set_title(f'$MeONO_2$')\n",
    "    ax[0,1].set_title(f'$EtONO_2$')\n",
    "    ax[1,0].set_title(f'$nPrONO_2$')\n",
    "    ax[1,1].set_title(f'$iPrONO_2$')\n",
    "    for iax in ax.flatten(): iax.coastlines(color='grey') \n",
    "    cax = fig.add_axes([0.925, 0.35, 0.009, 0.31])\n",
    "    cb00 = fig.colorbar(p00, cax=cax, orientation='vertical')\n",
    "    cb00.ax.set_title('kg $m^{-2}$ $s^{-1}$  ', pad=15);\n",
    "    fig.suptitle('Biomass burning emissions: annual sum', x=0.3, y=0.76)#, weight='bold')\n",
    "    fig.subplots_adjust(hspace=-0.58, wspace=0.02)\n",
    "    fig.savefig(path_to_figs / f'rono2_bb_emis_ann.png', bbox_inches='tight', dpi=300)"
   ]
  },
  {
   "cell_type": "code",
   "execution_count": 42,
   "metadata": {},
   "outputs": [
    {
     "ename": "SyntaxError",
     "evalue": "'break' outside loop (<ipython-input-42-6aaf1f276005>, line 4)",
     "output_type": "error",
     "traceback": [
      "\u001b[0;36m  File \u001b[0;32m\"<ipython-input-42-6aaf1f276005>\"\u001b[0;36m, line \u001b[0;32m4\u001b[0m\n\u001b[0;31mSyntaxError\u001b[0m\u001b[0;31m:\u001b[0m 'break' outside loop\n"
     ]
    }
   ],
   "source": [
    "break"
   ]
  },
  {
   "cell_type": "code",
   "execution_count": null,
   "metadata": {},
   "outputs": [],
   "source": [
    "# Seasonal sum\n",
    "meono2_ssn = cartopy.util.add_cyclic_point(meono2.aggregated_by(['season'], iris.analysis.SUM).data)\n",
    "etono2_ssn = cartopy.util.add_cyclic_point(etono2.aggregated_by(['season'], iris.analysis.SUM).data)\n",
    "nprono2_ssn = cartopy.util.add_cyclic_point(nprono2.aggregated_by(['season'], iris.analysis.SUM).data)\n",
    "iprono2_ssn = cartopy.util.add_cyclic_point(iprono2.aggregated_by(['season'], iris.analysis.SUM).data)\n",
    "# Mask zero emissions\n",
    "mskd_meono2_ssn = np.ma.masked_where(meono2_ssn.data<=0.00000000e+00, meono2_ssn.data)\n",
    "mskd_etono2_ssn = np.ma.masked_where(etono2_ssn.data<=0.00000000e+00, etono2_ssn.data)\n",
    "mskd_nprono2_ssn = np.ma.masked_where(nprono2_ssn.data<=0.00000000e+00, nprono2_ssn.data)\n",
    "mskd_iprono2_ssn = np.ma.masked_where(iprono2_ssn.data<=0.00000000e+00, iprono2_ssn.data)\n",
    "# Find max ssnual emission\n",
    "ssn_max = max(meono2_ssn.max(), etono2_ssn.max(), nprono2_ssn.max(), iprono2_ssn.max())"
   ]
  },
  {
   "cell_type": "code",
   "execution_count": null,
   "metadata": {},
   "outputs": [],
   "source": [
    "for issn, ssn in enumerate(['DJF', 'MAM', 'JJA', 'SON']):\n",
    "    fig, ax = plt.subplots(nrows=2, ncols=2, figsize=(12,12), subplot_kw=dict(projection=ccrs.Robinson(central_longitude=0)))\n",
    "    # Hide zero emissions\n",
    "    cmap_hide = copy(plt.cm.inferno_r)\n",
    "    cmap_hide.set_bad('w', 0)\n",
    "    p00 = ax[0,0].pcolormesh(lons, lats, mskd_meono2_ssn[issn,...], transform=ccrs.PlateCarree(), vmin=0, vmax=ssn_max, cmap=cmap_hide);\n",
    "    ax[0,1].pcolormesh(lons, lats, mskd_etono2_ssn[issn,...], transform=ccrs.PlateCarree(), vmin=0, vmax=ssn_max, cmap=cmap_hide);\n",
    "    ax[1,0].pcolormesh(lons, lats, mskd_nprono2_ssn[issn,...], transform=ccrs.PlateCarree(), vmin=0, vmax=ssn_max, cmap=cmap_hide);\n",
    "    ax[1,1].pcolormesh(lons, lats, mskd_iprono2_ssn[issn,...], transform=ccrs.PlateCarree(), vmin=0, vmax=ssn_max, cmap=cmap_hide);\n",
    "    # common\n",
    "    ax[0,0].set_title('$MeONO_2$')\n",
    "    ax[0,1].set_title('$EtONO_2$')\n",
    "    ax[1,0].set_title('$nPrONO_2$')\n",
    "    ax[1,1].set_title('$iPrONO_2$')\n",
    "    for iax in ax.flatten(): iax.coastlines(color='grey') \n",
    "    cax = fig.add_axes([0.923, 0.35, 0.009, 0.31])\n",
    "    cb00 = fig.colorbar(p00, cax=cax, orientation='vertical')\n",
    "    cb00.ax.set_title('kg $m^{-2}$ $s^{-1}$  ', pad=15);\n",
    "    fig.suptitle(f'Biomass burning emissions: {ssn}', x=0.26, y=0.76)#, weight='bold')\n",
    "    fig.subplots_adjust(hspace=-0.58, wspace=0.02)\n",
    "    fig.savefig(path_to_figs / f'rono2_bb_emis_ssn_{issn+1}.png', bbox_inches='tight', dpi=300)"
   ]
  },
  {
   "cell_type": "code",
   "execution_count": null,
   "metadata": {},
   "outputs": [],
   "source": [
    "# Monthly\n",
    "meono2_mon = cartopy.util.add_cyclic_point(meono2.data)\n",
    "etono2_mon = cartopy.util.add_cyclic_point(etono2.data)\n",
    "nprono2_mon = cartopy.util.add_cyclic_point(nprono2.data)\n",
    "iprono2_mon = cartopy.util.add_cyclic_point(iprono2.data)\n",
    "# Mask zero emissions\n",
    "mskd_meono2_mon = np.ma.masked_where(meono2_mon.data<=0.00000000e+00, meono2_mon.data)\n",
    "mskd_etono2_mon = np.ma.masked_where(etono2_mon.data<=0.00000000e+00, etono2_mon.data)\n",
    "mskd_nprono2_mon = np.ma.masked_where(nprono2_mon.data<=0.00000000e+00, nprono2_mon.data)\n",
    "mskd_iprono2_mon = np.ma.masked_where(iprono2_mon.data<=0.00000000e+00, iprono2_mon.data)\n",
    "# Find max monthly emission\n",
    "mon_max = max(meono2_mon.max(), etono2_mon.max(), nprono2_mon.max(), iprono2_mon.max())"
   ]
  },
  {
   "cell_type": "code",
   "execution_count": null,
   "metadata": {},
   "outputs": [],
   "source": [
    "for imn, mn in enumerate([calendar.month_abbr[i] for i in range(13)][1:]):\n",
    "    fig, ax = plt.subplots(nrows=2, ncols=2, figsize=(12,12), subplot_kw=dict(projection=ccrs.Robinson(central_longitude=0)))\n",
    "    # Hide zero emissions\n",
    "    cmap_hide = copy(plt.cm.inferno_r)\n",
    "    cmap_hide.set_bad('w', 0)\n",
    "    p00 = ax[0,0].pcolormesh(lons, lats, mskd_meono2_mon[imn,...], transform=ccrs.PlateCarree(), vmin=0, vmax=mon_max, cmap=cmap_hide);\n",
    "    ax[0,1].pcolormesh(lons, lats, mskd_etono2_mon[imn,...], transform=ccrs.PlateCarree(), vmin=0, vmax=mon_max, cmap=cmap_hide);\n",
    "    ax[1,0].pcolormesh(lons, lats, mskd_nprono2_mon[imn,...], transform=ccrs.PlateCarree(), vmin=0, vmax=mon_max, cmap=cmap_hide);\n",
    "    ax[1,1].pcolormesh(lons, lats, mskd_iprono2_mon[imn,...], transform=ccrs.PlateCarree(), vmin=0, vmax=mon_max, cmap=cmap_hide);\n",
    "    # common\n",
    "    ax[0,0].set_title(f'$MeONO_2$')\n",
    "    ax[0,1].set_title(f'$EtONO_2$')\n",
    "    ax[1,0].set_title(f'$nPrONO_2$')\n",
    "    ax[1,1].set_title(f'$iPrONO_2$')\n",
    "    for iax in ax.flatten(): iax.coastlines(color='grey') \n",
    "    cax = fig.add_axes([0.923, 0.35, 0.009, 0.31])\n",
    "    cb00 = fig.colorbar(p00, cax=cax, orientation='vertical')\n",
    "    cb00.ax.set_title('kg $m^{-2}$ $s^{-1}$  ', pad=15);\n",
    "    fig.suptitle(f'Biomass burning emissions: {mn}', x=0.26, y=0.76)#, weight='bold')\n",
    "    fig.subplots_adjust(hspace=-0.58, wspace=0.02)\n",
    "    fig.savefig(path_to_figs / f'rono2_bb_emis_mon_{imn+1}.png', bbox_inches='tight', dpi=300)"
   ]
  },
  {
   "cell_type": "code",
   "execution_count": null,
   "metadata": {},
   "outputs": [],
   "source": [
    "# def plt_rono2_map(lons, lats, cb, specie_latex, specie_str, source):\n",
    "#     fig, ax = plt.subplots(figsize=(10,10), subplot_kw=dict(projection=ccrs.Robinson(central_longitude=0)))\n",
    "#     p0 = ax.pcolormesh(lons, lats, cb, transform=ccrs.PlateCarree(), cmap='Reds')\n",
    "#     ax.coastlines(color='grey', alpha=0.2)\n",
    "#     ax.set_title(f'{source.upper()}\\n{specie_latex} biomass burning emissions')\n",
    "#     fig.colorbar(p0, shrink=0.4, label='kg $m^{-2}$ $yr^{-1}$')\n",
    "# #     fig.savefig(path_to_figs / f'{source}_rono2_{specie_str}_biomass_burning_emissions_per_yr.png', bbox_inches='tight')\n",
    "    \n",
    "# # Plot at GFEDs resolution\n",
    "# # plt_rono2_map(gfed_lons, gfed_lats, gfed_meono2.collapsed('time', iris.analysis.SUM).data, '$MeONO_2$', 'c1', 'gfed')\n",
    "# # plt_rono2_map(gfed_lons, gfed_lats, gfed_etono2.collapsed('time', iris.analysis.SUM).data, '$EtONO_2$', 'c2', 'gfed')\n",
    "# # plt_rono2_map(gfed_lons, gfed_lats, gfed_nprono2.collapsed('time', iris.analysis.SUM).data, '$nPrONO_2$', 'c3n', 'gfed')\n",
    "# # plt_rono2_map(gfed_lons, gfed_lats, gfed_iprono2.collapsed('time', iris.analysis.SUM).data, '$iPrONO_2$', 'c3i', 'gfed')"
   ]
  }
 ],
 "metadata": {
  "@deathbeds/jupyterlab-fonts": {
   "styles": {
    ":root": {
     "--jp-code-font-size": "12px"
    }
   }
  },
  "kernelspec": {
   "display_name": "Python 3",
   "language": "python",
   "name": "python3"
  },
  "language_info": {
   "codemirror_mode": {
    "name": "ipython",
    "version": 3
   },
   "file_extension": ".py",
   "mimetype": "text/x-python",
   "name": "python",
   "nbconvert_exporter": "python",
   "pygments_lexer": "ipython3",
   "version": "3.7.9"
  }
 },
 "nbformat": 4,
 "nbformat_minor": 4
}
