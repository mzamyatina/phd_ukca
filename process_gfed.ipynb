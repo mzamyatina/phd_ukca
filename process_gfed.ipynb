{
 "cells": [
  {
   "cell_type": "code",
   "execution_count": 2,
   "metadata": {},
   "outputs": [],
   "source": [
    "import h5py\n",
    "import iris\n",
    "import numpy as np\n",
    "import xarray as xr\n",
    "import cartopy.crs as ccrs\n",
    "import matplotlib.pyplot as plt\n",
    "from pathlib import Path\n",
    "from tqdm import tqdm_notebook as tqdm\n",
    "plt.rcParams['mathtext.default'] = 'regular'"
   ]
  },
  {
   "cell_type": "markdown",
   "metadata": {},
   "source": [
    "From GFED README:\n",
    "\n",
    "'The emissions group contains, for 12 months (01,02,..,12), 5 datasets: emissions (carbon with units of g C m-2 month-1 and DM with units of kg DM m-2 month-1), small_fire_fraction (unitless), daily fraction (unitless), diurnal cycle (unitless), as well as a group partitioning which contains, for both C and DM, the datasets (all unitless):\n",
    "- SAVA (Savanna, grassland and shrubland fires)\n",
    "- BORF (Boreal forest fires)\n",
    "- TEMF (Temperature forest fires)\n",
    "- DEFO (Tropical forest fires [deforestation and degradation])\n",
    "- PEAT (Peat fires)\n",
    "- AGRI (Agricultural waste burning)'\n",
    "\n",
    "Burdned area group contains two variables: burned_fraction and source. burned_fraction is the fraction of each grid cell that burned in that month according to the GFED4s burned area data, burned_area_source indicates what data was used to construct the burned area maps excluding small fires'."
   ]
  },
  {
   "cell_type": "code",
   "execution_count": 3,
   "metadata": {},
   "outputs": [],
   "source": [
    "# Read data\n",
    "path_to_gfed = Path('../../external_data/GFED')\n",
    "path_to_ukca = Path('../data')\n",
    "ukca = iris.load_cube(str(path_to_ukca / 'xmeka' / 'xmeka_o3.nc'))"
   ]
  },
  {
   "cell_type": "code",
   "execution_count": 4,
   "metadata": {},
   "outputs": [
    {
     "data": {
      "application/vnd.jupyter.widget-view+json": {
       "model_id": "5c7bb27a6ba9423289b68a7e369d6f5f",
       "version_major": 2,
       "version_minor": 0
      },
      "text/plain": [
       "HBox(children=(IntProgress(value=0, description='files', max=20, style=ProgressStyle(description_width='initia…"
      ]
     },
     "metadata": {},
     "output_type": "display_data"
    },
    {
     "name": "stdout",
     "output_type": "stream",
     "text": [
      "\n"
     ]
    }
   ],
   "source": [
    "# Extract data on total dry matter emissions and source partitioning\n",
    "group_name = 'emissions'\n",
    "main_var = 'DM'\n",
    "auxi_vars = ['AGRI', 'BORF', 'DEFO', 'PEAT', 'SAVA', 'TEMF', ]\n",
    "\n",
    "monthly_dict = {}\n",
    "monthly_dict[main_var.lower()] = []\n",
    "for auxi_var in auxi_vars:\n",
    "    monthly_dict[f'{main_var}_{auxi_var}'.lower()] = []\n",
    "\n",
    "for fpath in tqdm(sorted(path_to_gfed.glob('*hdf5')), desc='files'):\n",
    "    arr_dict = {}\n",
    "    arr_dict[main_var.lower()] = []\n",
    "    for auxi_var in auxi_vars:\n",
    "        arr_dict[f'{main_var}_{auxi_var}'.lower()] = []\n",
    "\n",
    "    with h5py.File(fpath, 'r') as f:\n",
    "        lons = f['lon'].value[0, :]\n",
    "        lats = f['lat'].value[:, 0]\n",
    "        grid_cell_area = f['/ancill/grid_cell_area'].value\n",
    "        xr_coord_dims = dict(coords=dict(lon=lons, lat=lats), dims=('lat', 'lon'))\n",
    "\n",
    "        for month in f[group_name].keys():\n",
    "            # Read dry matter monthly emissions\n",
    "            arr_dict[main_var.lower()].append(xr.DataArray(f[group_name][month][main_var].value, \n",
    "                                                   **xr_coord_dims))\n",
    "            # Read monthly data on the fraction the specific source contributes to dry matter emissions\n",
    "            for auxi_var in auxi_vars:\n",
    "                arr_dict[f'{main_var}_{auxi_var}'.lower()].append(xr.DataArray(f[group_name][month]['partitioning'][f'{main_var}_{auxi_var}'].value,\n",
    "                                                       **xr_coord_dims))\n",
    "        for key, val in arr_dict.items():\n",
    "            monthly_dict[key].append(xr.concat(val, dim='month'))\n",
    "\n",
    "    yearly_dict = {}\n",
    "    for key, val in monthly_dict.items():\n",
    "        yearly_dict[key] = xr.concat(val, dim='year')\n",
    "        \n",
    "# Combine all data into an xarray dataset\n",
    "gfed = xr.Dataset(yearly_dict)\n",
    "gfed['month'] = np.arange(1,13,1)\n",
    "gfed['year'] = np.arange(1997, 2017, 1)"
   ]
  },
  {
   "cell_type": "code",
   "execution_count": 6,
   "metadata": {},
   "outputs": [
    {
     "name": "stderr",
     "output_type": "stream",
     "text": [
      "/local/mwe14avu/anaconda3/lib/python3.6/site-packages/ipykernel_launcher.py:2: FutureWarning: The inplace argument has been deprecated and will be removed in xarray 0.12.0.\n",
      "  \n"
     ]
    },
    {
     "data": {
      "text/plain": [
       "<xarray.Dataset>\n",
       "Dimensions:  (lat: 720, lon: 1440, time: 12)\n",
       "Coordinates:\n",
       "  * lon      (lon) float32 -179.875 -179.625 -179.375 ... 179.625 179.875\n",
       "  * lat      (lat) float32 89.875 89.625 89.375 ... -89.375 -89.625 -89.875\n",
       "  * time     (time) int64 1 2 3 4 5 6 7 8 9 10 11 12\n",
       "Data variables:\n",
       "    dm       (time, lat, lon) float32 0.0 0.0 0.0 0.0 0.0 ... 0.0 0.0 0.0 0.0\n",
       "    dm_agri  (time, lat, lon) float32 0.0 0.0 0.0 0.0 0.0 ... 0.0 0.0 0.0 0.0\n",
       "    dm_borf  (time, lat, lon) float32 0.0 0.0 0.0 0.0 0.0 ... 0.0 0.0 0.0 0.0\n",
       "    dm_defo  (time, lat, lon) float32 0.0 0.0 0.0 0.0 0.0 ... 0.0 0.0 0.0 0.0\n",
       "    dm_peat  (time, lat, lon) float32 0.0 0.0 0.0 0.0 0.0 ... 0.0 0.0 0.0 0.0\n",
       "    dm_sava  (time, lat, lon) float32 0.0 0.0 0.0 0.0 0.0 ... 0.0 0.0 0.0 0.0\n",
       "    dm_temf  (time, lat, lon) float32 0.0 0.0 0.0 0.0 0.0 ... 0.0 0.0 0.0 0.0"
      ]
     },
     "execution_count": 6,
     "metadata": {},
     "output_type": "execute_result"
    }
   ],
   "source": [
    "gfed_multiyear_monthly_mean = gfed.mean(dim='year')\n",
    "gfed_multiyear_monthly_mean.rename({'month':'time'}, inplace=True)\n",
    "gfed_multiyear_monthly_mean.rename({'lat':'latitude'}, inplace=True)\n",
    "gfed_multiyear_monthly_mean.rename({'lon':'longitude'}, inplace=True)\n",
    "# FutureWarning: The inplace argument has been deprecated and will be removed in xarray 0.12.0."
   ]
  },
  {
   "cell_type": "code",
   "execution_count": 41,
   "metadata": {},
   "outputs": [],
   "source": [
    "gfed_multiyear_monthly_mean.dm.attrs['long_name'] = 'dry matter emissions'\n",
    "gfed_multiyear_monthly_mean.dm.attrs['units'] = 'kg/m2/month'\n",
    "gfed_multiyear_monthly_mean.dm_agri.attrs['long_name'] = 'fractional contribution of agricultural waste burning to dry matter emissions'\n",
    "gfed_multiyear_monthly_mean.dm_borf.attrs['long_name'] = 'fractional contribution of boreal forest fires to dry matter emissions'\n",
    "gfed_multiyear_monthly_mean.dm_defo.attrs['long_name'] = 'fractional contribution of deforestation and degradation to dry matter emissions'\n",
    "gfed_multiyear_monthly_mean.dm_peat.attrs['long_name'] = 'fractional contribution of peatland fires to dry matter emissions'\n",
    "gfed_multiyear_monthly_mean.dm_sava.attrs['long_name'] = 'fractional contribution of savanna, grassland and shrubland fires to dry matter emissions'\n",
    "gfed_multiyear_monthly_mean.dm_temf.attrs['long_name'] = 'fractional contribution of temperate forest fires to dry matter emissions'\n",
    "gfed_multiyear_monthly_mean.dm_agri.attrs['units'] = '1'\n",
    "gfed_multiyear_monthly_mean.dm_borf.attrs['units'] = '1'\n",
    "gfed_multiyear_monthly_mean.dm_defo.attrs['units'] = '1'\n",
    "gfed_multiyear_monthly_mean.dm_peat.attrs['units'] = '1'\n",
    "gfed_multiyear_monthly_mean.dm_sava.attrs['units'] = '1'\n",
    "gfed_multiyear_monthly_mean.dm_temf.attrs['units'] = '1'"
   ]
  },
  {
   "cell_type": "code",
   "execution_count": 42,
   "metadata": {},
   "outputs": [],
   "source": [
    "gfed_multiyear_monthly_mean['grid_cell_area'] = (('lat', 'lon'), grid_cell_area)\n",
    "gfed_multiyear_monthly_mean.grid_cell_area.attrs['long_name'] = 'grid cell area'\n",
    "gfed_multiyear_monthly_mean.grid_cell_area.attrs['units'] = 'm2'"
   ]
  },
  {
   "cell_type": "code",
   "execution_count": 43,
   "metadata": {},
   "outputs": [],
   "source": [
    "gfed_multiyear_monthly_mean.to_netcdf(path=path_to_gfed / 'GFED4.1s_1997-2016_multiyear_monthly_mean_dm_emissions.nc', mode='w', format='NETCDF4')"
   ]
  },
  {
   "cell_type": "code",
   "execution_count": null,
   "metadata": {},
   "outputs": [],
   "source": []
  }
 ],
 "metadata": {
  "@deathbeds/jupyterlab-fonts": {
   "styles": {
    ":root": {
     "--jp-code-font-size": "12px"
    }
   }
  },
  "kernelspec": {
   "display_name": "Python 3",
   "language": "python",
   "name": "python3"
  },
  "language_info": {
   "codemirror_mode": {
    "name": "ipython",
    "version": 3
   },
   "file_extension": ".py",
   "mimetype": "text/x-python",
   "name": "python",
   "nbconvert_exporter": "python",
   "pygments_lexer": "ipython3",
   "version": "3.6.8"
  }
 },
 "nbformat": 4,
 "nbformat_minor": 2
}
