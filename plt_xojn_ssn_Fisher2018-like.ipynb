{
 "cells": [
  {
   "cell_type": "code",
   "execution_count": 1,
   "metadata": {},
   "outputs": [],
   "source": [
    "# Data processing\n",
    "import iris\n",
    "import iris.analysis\n",
    "import iris.coord_categorisation\n",
    "import warnings\n",
    "warnings.filterwarnings('ignore', module='iris')\n",
    "import numpy as np\n",
    "from pathlib import Path\n",
    "from scipy import stats\n",
    "# Visualization\n",
    "import cartopy.util\n",
    "import cartopy.crs as ccrs\n",
    "import matplotlib as mpl\n",
    "import matplotlib.pyplot as plt\n",
    "import matplotlib.colors as colors\n",
    "from matplotlib.ticker import FuncFormatter\n",
    "class MidpointNormalize(colors.Normalize):\n",
    "    def __init__(self, vmin=None, vmax=None, midpoint=None, clip=False):\n",
    "        self.midpoint = midpoint\n",
    "        colors.Normalize.__init__(self, vmin, vmax, clip)\n",
    "    def __call__(self, value, clip=None):\n",
    "        x, y = [self.vmin, self.midpoint, self.vmax], [0, 0.5, 1]\n",
    "        return np.ma.masked_array(np.interp(value, x, y))\n",
    "def m2km(x, pos):\n",
    "    '''Convert meters to kilometers when plotting axis labels'''\n",
    "    return int(x*1e-3)\n",
    "def custom_ctcklbls(x, pos):\n",
    "    '''Custom format for colorbar tick labels'''\n",
    "    return '{:1.1f}'.format(x)\n",
    "plt.rcParams['mathtext.default'] = 'regular'"
   ]
  },
  {
   "cell_type": "code",
   "execution_count": 96,
   "metadata": {},
   "outputs": [],
   "source": [
    "# Switches\n",
    "base_exp = 'FULL'\n",
    "var = 'nprono2'\n",
    "savefig = True\n",
    "publish = True\n",
    "# ch4 ppb\n",
    "# c2h6 ppb"
   ]
  },
  {
   "cell_type": "code",
   "execution_count": 97,
   "metadata": {},
   "outputs": [],
   "source": [
    "# Choose experiments\n",
    "job_dict = {'BASE OLD':'xojnd',\n",
    "            'BASE'    :'xojng',\n",
    "            'CHEM'    :'xojnh',\n",
    "            'MARI'    :'xojni',\n",
    "            'FIRE'    :'xojnc',\n",
    "            'FULL'    :'xojnl',\n",
    "            'ORIG'    :'xolnb',\n",
    "            'UPDT'    :'xolna'}\n",
    "base_job = job_dict[base_exp]\n",
    "# Choose variables\n",
    "var_dict = {'molar_mass': {'o3':47.997, 'no':30.006, 'no2':46.006, 'hono':47.013, 'ho2no2':79.01224, 'hno3':63.012, 'n2o5':108.01, \n",
    "                           'pan':121.0489, 'ppan':135.0755,\n",
    "                           'meono2':77.0394, 'etono2':91.0660, 'nprono2':105.0926, 'iprono2':105.0926,\n",
    "                           'ch4':16.0425, 'c2h6':30.0690},\n",
    "            'latex': {'o3':'$O_3$', 'no':'NO', 'no2':'$NO_2$', 'hono':'HONO', 'ho2no2':'$HO_2NO_2$', 'hno3':'$HNO_3$', 'n2o5':'N_2O_5', \n",
    "                      'pan':'PAN', 'ppan':'PPN', \n",
    "                      'nox':'$NO_x$', 'noy':'$NO_y$', 'meono2':'$MeONO_2$', 'etono2':'$EtONO_2$', 'nprono2':'$nPrONO_2$', 'iprono2':'$iPrONO_2$',\n",
    "                      'ch4':'$CH_4$', 'c2h6':'$C_2H_6$'}}\n",
    "M_air = 28.97 # molar mass of dry air [g mol-1]\n",
    "var_coeff = (M_air/var_dict['molar_mass'][var])*1e12\n",
    "# Read data\n",
    "path_to_ukca = Path.cwd().parent / 'raw'\n",
    "base = iris.load_cube(str(path_to_ukca / base_job / f'{base_job}_{var}.nc'), var)*var_coeff\n",
    "# Remove the first 2 years as a spin up\n",
    "base = base[24::,...]\n",
    "# Add season and year coordinates\n",
    "iris.coord_categorisation.add_season(base, 'time', name='season')\n",
    "iris.coord_categorisation.add_season_year(base, 'time', name='year')\n",
    "# Simplify dimensions\n",
    "nlons = base.coord('longitude').shape[0]\n",
    "nlats = base.coord('latitude').shape[0]\n",
    "nlevs = base.coord('level_height')[0:23].shape[0]\n",
    "lons = base.coord('longitude').points\n",
    "lats = base.coord('latitude').points"
   ]
  },
  {
   "cell_type": "code",
   "execution_count": 98,
   "metadata": {},
   "outputs": [],
   "source": [
    "# Path to figures\n",
    "path_to_figs = Path.cwd().parent.parent.parent / 'results' / 'xojn'\n",
    "path_to_figs.mkdir(exist_ok=True)\n",
    "if publish:\n",
    "    mpl.rcParams['xtick.labelsize'] = 12 # 25\n",
    "    mpl.rcParams['ytick.labelsize'] = 12 # 25\n",
    "    mpl.rcParams['axes.titlesize'] = 12 # 40\n",
    "    mpl.rcParams['axes.labelsize'] = 12 # 30\n",
    "    plt.rcParams['font.size'] = 12 # 30"
   ]
  },
  {
   "cell_type": "markdown",
   "metadata": {},
   "source": [
    "#### Annual means to compare to Fisher et al (2018): 0-2, 2-6, 6-10 km"
   ]
  },
  {
   "cell_type": "code",
   "execution_count": 99,
   "metadata": {},
   "outputs": [],
   "source": [
    "ann_mean_0_2 = base.aggregated_by(['year'], iris.analysis.MEAN)[:,0:10,...].collapsed(['year', 'level_height'], iris.analysis.MEAN)\n",
    "ann_mean_2_6 = base.aggregated_by(['year'], iris.analysis.MEAN)[:,10:17,...].collapsed(['year', 'level_height'], iris.analysis.MEAN)\n",
    "ann_mean_6_1 = base.aggregated_by(['year'], iris.analysis.MEAN)[:,17:22,...].collapsed(['year', 'level_height'], iris.analysis.MEAN)\n",
    "c_ann_mean_0_2, c_lons = cartopy.util.add_cyclic_point(ann_mean_0_2.data, coord=base.coord('longitude').points)\n",
    "c_ann_mean_2_6 = cartopy.util.add_cyclic_point(ann_mean_2_6.data)\n",
    "c_ann_mean_6_1 = cartopy.util.add_cyclic_point(ann_mean_6_1.data)"
   ]
  },
  {
   "cell_type": "code",
   "execution_count": 100,
   "metadata": {},
   "outputs": [],
   "source": [
    "if var == 'meono2':\n",
    "    cscale = 'sat' # 'saturated' or 'unsaturated'\n",
    "    if cscale == 'sat':\n",
    "        vmax0, vmax1, vmax2 = 10, 15, 20\n",
    "    else:\n",
    "        vmax0, vmax1, vmax2 = 40, 60, 80\n",
    "if var in ['etono2', 'nprono2', 'iprono2']:\n",
    "    cscale = 'sat'\n",
    "    vmax0, vmax1, vmax2 = 10, 15, 20"
   ]
  },
  {
   "cell_type": "code",
   "execution_count": null,
   "metadata": {},
   "outputs": [],
   "source": [
    "fig, ax = plt.subplots(nrows=3, ncols=1, figsize=(8,10), subplot_kw=dict(projection=ccrs.Robinson(central_longitude=230)), facecolor='w')\n",
    "p0 = ax[0].pcolormesh(c_lons, lats, c_ann_mean_6_1.data, vmin=0, vmax=vmax0, transform=ccrs.PlateCarree())\n",
    "p1 = ax[1].pcolormesh(c_lons, lats, c_ann_mean_2_6.data, vmin=0, vmax=vmax1, transform=ccrs.PlateCarree())\n",
    "p2 = ax[2].pcolormesh(c_lons, lats, c_ann_mean_0_2.data, vmin=0, vmax=vmax2, transform=ccrs.PlateCarree())\n",
    "ax[0].set_title(base_exp, loc='left', weight='bold')\n",
    "ax[0].set_title(var_dict['latex'][var], loc='center')\n",
    "cb0 = fig.colorbar(p0, ax=ax[0])\n",
    "cb1 = fig.colorbar(p1, ax=ax[1])\n",
    "cb2 = fig.colorbar(p2, ax=ax[2])\n",
    "fig.text(0.84, 0.873, 'pptv')\n",
    "fig.text(0.164, 0.87, '6-10 km')\n",
    "fig.text(0.164, 0.61, '2-6 km')\n",
    "fig.text(0.164, 0.35, '0-2 km')\n",
    "fig.subplots_adjust(hspace=0.1)\n",
    "for iax in ax.flatten(): iax.coastlines();\n",
    "if savefig: fig.savefig(path_to_figs / 'Fisher2018-like' / f'Fisher2018-like_{base_exp.lower()}_{var}_{cscale}.png', bbox_inches='tight')#, dpi=200)"
   ]
  },
  {
   "cell_type": "code",
   "execution_count": null,
   "metadata": {},
   "outputs": [],
   "source": [
    "break"
   ]
  },
  {
   "cell_type": "markdown",
   "metadata": {},
   "source": [
    "#### Boundary layer seasonal means"
   ]
  },
  {
   "cell_type": "code",
   "execution_count": null,
   "metadata": {},
   "outputs": [],
   "source": [
    "# Extract time series of boundary layer (0-2 km) seasonal means\n",
    "base_pbl_djf = (base.extract(iris.Constraint(season='djf')).aggregated_by(['year', 'season'], iris.analysis.MEAN)[:,0:10,...]).collapsed('level_height', iris.analysis.MEAN)\n",
    "base_pbl_mam = (base.extract(iris.Constraint(season='mam')).aggregated_by(['year', 'season'], iris.analysis.MEAN)[:,0:10,...]).collapsed('level_height', iris.analysis.MEAN)\n",
    "base_pbl_jja = (base.extract(iris.Constraint(season='jja')).aggregated_by(['year', 'season'], iris.analysis.MEAN)[:,0:10,...]).collapsed('level_height', iris.analysis.MEAN)\n",
    "base_pbl_son = (base.extract(iris.Constraint(season='son')).aggregated_by(['year', 'season'], iris.analysis.MEAN)[:,0:10,...]).collapsed('level_height', iris.analysis.MEAN)\n",
    "# Calculate boundary layer seasonal means\n",
    "base_pbl_djf_mean = base_pbl_djf.collapsed('year', iris.analysis.MEAN)\n",
    "base_pbl_mam_mean = base_pbl_mam.collapsed('year', iris.analysis.MEAN)\n",
    "base_pbl_jja_mean = base_pbl_jja.collapsed('year', iris.analysis.MEAN)\n",
    "base_pbl_son_mean = base_pbl_son.collapsed('year', iris.analysis.MEAN)\n",
    "# Add cyclic point for plotting on a global map\n",
    "cyc_base_pbl_djf_mean, cyclic_lons = cartopy.util.add_cyclic_point(base_pbl_djf_mean.data, coord=base_pbl_djf_mean.coord('longitude').points)\n",
    "cyc_base_pbl_mam_mean = cartopy.util.add_cyclic_point(base_pbl_mam_mean.data)\n",
    "cyc_base_pbl_jja_mean = cartopy.util.add_cyclic_point(base_pbl_jja_mean.data)\n",
    "cyc_base_pbl_son_mean = cartopy.util.add_cyclic_point(base_pbl_son_mean.data)\n",
    "# Find max boundary layer seasonal mean\n",
    "print(np.max(base_pbl_djf_mean.data))\n",
    "print(np.max(base_pbl_mam_mean.data))\n",
    "print(np.max(base_pbl_jja_mean.data))\n",
    "print(np.max(base_pbl_son_mean.data))"
   ]
  },
  {
   "cell_type": "markdown",
   "metadata": {},
   "source": [
    "- CHEM CH4: 2626.1548 2158.0188 2234.3745 2515.7778\n",
    "\n",
    "\n",
    "- CHEM C2H6: 27.912663 15.5676365 12.250808 22.321259\n",
    "\n",
    "\n",
    "- CHEM MeONO2: 18.90242 17.880545 21.308216 18.330566\n",
    "- MARI MeONO2: 32.170128 30.77222 35.45551 32.71014\n",
    "- FULL MeONO2: 38.524216 34.947975 41.333027 38.313625\n",
    "\n",
    "\n",
    "- CHEM iPrONO2: 28.194944 13.225853 17.393787 19.226295\n",
    "- MARI iPrONO2: 0.83687353 0.8266778 0.8976035 0.82841814\n",
    "- FULL: iPrONO2: 28.33859 12.866397 17.083832 20.194317"
   ]
  },
  {
   "cell_type": "code",
   "execution_count": null,
   "metadata": {},
   "outputs": [],
   "source": [
    "# Boundary layer seasonal mean difference plotting parameters\n",
    "if var == 'meono2':\n",
    "    pbl_mean_cf_kwargs = dict(transform=ccrs.PlateCarree(), cmap='Purples', levels=np.arange(0,50,5))\n",
    "elif var == 'iprono2':\n",
    "    pbl_mean_cf_kwargs = dict(transform=ccrs.PlateCarree(), cmap='Purples')#, levels=np.arange(0,35,5))\n",
    "elif var == 'ch4':\n",
    "    pbl_mean_cf_kwargs = dict(transform=ccrs.PlateCarree(), cmap='Purples', vmin=1750, vmax=2700)#, extend='max()')\n",
    "elif var == 'c2h6':\n",
    "    pbl_mean_cf_kwargs = dict(transform=ccrs.PlateCarree(), cmap='Purples', levels=np.arange(0,35,5))"
   ]
  },
  {
   "cell_type": "code",
   "execution_count": null,
   "metadata": {},
   "outputs": [],
   "source": [
    "fig, ax = plt.subplots(nrows=2, ncols=2, figsize=(12,12), subplot_kw=dict(projection=ccrs.Robinson(central_longitude=0)), facecolor='w')\n",
    "p00 = ax[0,0].pcolormesh(cyclic_lons, lats, cyc_base_pbl_djf_mean.data, **pbl_mean_cf_kwargs)\n",
    "ax[0,1].pcolormesh(cyclic_lons, lats, cyc_base_pbl_mam_mean.data, **pbl_mean_cf_kwargs)\n",
    "ax[1,0].pcolormesh(cyclic_lons, lats, cyc_base_pbl_jja_mean.data, **pbl_mean_cf_kwargs)\n",
    "ax[1,1].pcolormesh(cyclic_lons, lats, cyc_base_pbl_son_mean.data, **pbl_mean_cf_kwargs)\n",
    "fig.subplots_adjust(hspace=-0.9, wspace=-0.5)\n",
    "fig.tight_layout()\n",
    "cax0 = fig.add_axes([0.35, 0.21, 0.3, 0.01])\n",
    "fig.colorbar(p00, cax=cax0, orientation='horizontal', label=var_dict['str'][var]+', pptv')\n",
    "fig.suptitle(f'Boundary layer (0-2 km)\\n{base_exp}', y=0.8, weight='bold')\n",
    "ax[0,0].set_title('DJF')\n",
    "ax[0,1].set_title('MAM')\n",
    "ax[1,0].set_title('JJA')\n",
    "ax[1,1].set_title('SON')\n",
    "for iax in ax.flatten(): \n",
    "    iax.set_global()\n",
    "    iax.coastlines()\n",
    "if savefig: fig.savefig(path_to_figs / f'{base_exp.lower()}_{var}_pbl_ssn_mean.png', bbox_inches='tight')"
   ]
  },
  {
   "cell_type": "code",
   "execution_count": null,
   "metadata": {},
   "outputs": [],
   "source": [
    "break"
   ]
  },
  {
   "cell_type": "markdown",
   "metadata": {},
   "source": [
    "#### Free troposphere seasonal means"
   ]
  },
  {
   "cell_type": "code",
   "execution_count": null,
   "metadata": {},
   "outputs": [],
   "source": [
    "# Extract time series of free troposphere (5-10 km) seasonal means\n",
    "base_fre_djf = (base.extract(iris.Constraint(season='djf')).aggregated_by(['year', 'season'], iris.analysis.MEAN)[:,15:23,...]).collapsed('level_height', iris.analysis.MEAN)\n",
    "base_fre_mam = (base.extract(iris.Constraint(season='mam')).aggregated_by(['year', 'season'], iris.analysis.MEAN)[:,15:23,...]).collapsed('level_height', iris.analysis.MEAN)\n",
    "base_fre_jja = (base.extract(iris.Constraint(season='jja')).aggregated_by(['year', 'season'], iris.analysis.MEAN)[:,15:23,...]).collapsed('level_height', iris.analysis.MEAN)\n",
    "base_fre_son = (base.extract(iris.Constraint(season='son')).aggregated_by(['year', 'season'], iris.analysis.MEAN)[:,15:23,...]).collapsed('level_height', iris.analysis.MEAN)\n",
    "# Calculate free troposphere seasonal mean differences\n",
    "base_fre_djf_mean = base_fre_djf.collapsed('year', iris.analysis.MEAN)\n",
    "base_fre_mam_mean = base_fre_mam.collapsed('year', iris.analysis.MEAN)\n",
    "base_fre_jja_mean = base_fre_jja.collapsed('year', iris.analysis.MEAN)\n",
    "base_fre_son_mean = base_fre_son.collapsed('year', iris.analysis.MEAN)\n",
    "# Add cyclic point for plotting on a global map\n",
    "cyc_base_fre_djf_mean, cyclic_lons = cartopy.util.add_cyclic_point(base_fre_djf_mean.data, coord=base_fre_djf_mean.coord('longitude').points)\n",
    "cyc_base_fre_mam_mean = cartopy.util.add_cyclic_point(base_fre_mam_mean.data)\n",
    "cyc_base_fre_jja_mean = cartopy.util.add_cyclic_point(base_fre_jja_mean.data)\n",
    "cyc_base_fre_son_mean = cartopy.util.add_cyclic_point(base_fre_son_mean.data)\n",
    "# Find max free troposphere seasonal mean\n",
    "print(np.max(base_fre_djf_mean.data))\n",
    "print(np.max(base_fre_mam_mean.data))\n",
    "print(np.max(base_fre_jja_mean.data))\n",
    "print(np.max(base_fre_son_mean.data))"
   ]
  },
  {
   "cell_type": "code",
   "execution_count": null,
   "metadata": {},
   "outputs": [],
   "source": [
    "# Free troposphere seasonal mean difference plotting parameters\n",
    "fre_mean_cf_kwargs = dict(transform=ccrs.PlateCarree(), levels=np.arange(0,175,25))\n",
    "fre_diff_cf_kwargs = dict(transform=ccrs.PlateCarree(), cmap='RdBu_r')\n",
    "fre_pval_sc_kwargs = dict(transform=ccrs.PlateCarree(), s=10, c='k', marker='.', alpha=0.2)"
   ]
  },
  {
   "cell_type": "code",
   "execution_count": null,
   "metadata": {},
   "outputs": [],
   "source": [
    "# Find min and max absolute free troposphere seasonal mean difference\n",
    "print(min([np.min(cyc_fre_djf_diff.data), np.min(cyc_fre_mam_diff.data), np.min(cyc_fre_jja_diff.data), np.min(cyc_fre_son_diff.data)]))\n",
    "print(max([np.max(cyc_fre_djf_diff.data), np.max(cyc_fre_mam_diff.data), np.max(cyc_fre_jja_diff.data), np.max(cyc_fre_son_diff.data)]))\n",
    "# Find min and max % free troposphere seasonal mean difference\n",
    "print(min([np.min(cyc_fre_djf_diff.data/cyc_base_fre_djf_mean.data*100), np.min(cyc_fre_mam_diff.data/cyc_base_fre_mam_mean.data*100), \n",
    "           np.min(cyc_fre_jja_diff.data/cyc_base_fre_jja_mean.data*100), np.min(cyc_fre_son_diff.data/cyc_base_fre_son_mean.data*100)]))\n",
    "print(max([np.max(cyc_fre_djf_diff.data/cyc_base_fre_djf_mean.data*100), np.max(cyc_fre_mam_diff.data/cyc_base_fre_mam_mean.data*100), \n",
    "           np.max(cyc_fre_jja_diff.data/cyc_base_fre_jja_mean.data*100), np.max(cyc_fre_son_diff.data/cyc_base_fre_son_mean.data*100)]))"
   ]
  },
  {
   "cell_type": "code",
   "execution_count": null,
   "metadata": {},
   "outputs": [],
   "source": [
    "# Additional plotting parameteres for free troposphere seasonal mean summary\n",
    "fre_glb_absdiff_cf_kwargs = dict(transform=ccrs.PlateCarree(), cmap='RdBu_r', levels=np.arange(-12,14,2))\n",
    "fre_glb_pctdiff_cf_kwargs = dict(transform=ccrs.PlateCarree(), cmap='RdBu_r', levels=np.arange(-14,16,2))#, extend='both')"
   ]
  },
  {
   "cell_type": "code",
   "execution_count": null,
   "metadata": {},
   "outputs": [],
   "source": [
    "fig, ax = plt.subplots(nrows=4, ncols=3, figsize=(12,12), subplot_kw=dict(projection=ccrs.Robinson(central_longitude=0)), facecolor='w')\n",
    "ax[0,0].contourf(cyclic_lons, lats, cyc_base_fre_djf_mean.data, **fre_mean_cf_kwargs)\n",
    "ax[0,1].contourf(cyclic_lons, lats, cyc_fre_djf_diff.data, **fre_glb_absdiff_cf_kwargs)\n",
    "ax[0,2].contourf(cyclic_lons, lats, cyc_fre_djf_diff.data/cyc_base_fre_djf_mean.data*100, **fre_glb_pctdiff_cf_kwargs)\n",
    "\n",
    "ax[1,0].contourf(cyclic_lons, lats, cyc_base_fre_mam_mean.data, **fre_mean_cf_kwargs)\n",
    "ax[1,1].contourf(cyclic_lons, lats, cyc_fre_mam_diff.data, **fre_glb_absdiff_cf_kwargs)\n",
    "ax[1,2].contourf(cyclic_lons, lats, cyc_fre_mam_diff.data/cyc_base_fre_mam_mean.data*100, **fre_glb_pctdiff_cf_kwargs)\n",
    "\n",
    "ax[2,0].contourf(cyclic_lons, lats, cyc_base_fre_jja_mean.data, **fre_mean_cf_kwargs)\n",
    "ax[2,1].contourf(cyclic_lons, lats, cyc_fre_jja_diff.data, **fre_glb_absdiff_cf_kwargs)\n",
    "ax[2,2].contourf(cyclic_lons, lats, cyc_fre_jja_diff.data/cyc_base_fre_jja_mean.data*100, **fre_glb_pctdiff_cf_kwargs)\n",
    "\n",
    "p30 = ax[3,0].contourf(cyclic_lons, lats, cyc_base_fre_son_mean.data, **fre_mean_cf_kwargs)\n",
    "p31 = ax[3,1].contourf(cyclic_lons, lats, cyc_fre_son_diff.data, **fre_glb_absdiff_cf_kwargs)\n",
    "p32 = ax[3,2].contourf(cyclic_lons, lats, cyc_fre_son_diff.data/cyc_base_fre_son_mean.data*100, **fre_glb_pctdiff_cf_kwargs)\n",
    "\n",
    "fig.subplots_adjust(hspace=-0.8, wspace=-0.5)\n",
    "fig.tight_layout()\n",
    "cax0 = fig.add_axes([0.02, 0.12, 0.3, 0.01])\n",
    "cax1 = fig.add_axes([0.35, 0.12, 0.3, 0.01])\n",
    "cax2 = fig.add_axes([0.68, 0.12, 0.3, 0.01])\n",
    "fig.colorbar(p30, cax=cax0, orientation='horizontal', label=f'{str_var}, ppbv')\n",
    "fig.colorbar(p31, cax=cax1, orientation='horizontal', label=f'$\\Delta${str_var}, ppbv')\n",
    "fig.colorbar(p32, cax=cax2, orientation='horizontal', label=f'$\\Delta${str_var}, %')\n",
    "fig.text(0.02, 0.84, 'DJF')#, fontsize=12)\n",
    "fig.text(0.02, 0.66, 'MAM')#, fontsize=12)\n",
    "fig.text(0.02, 0.48, 'JJA')#, fontsize=12)\n",
    "fig.text(0.02, 0.31, 'SON')#, fontsize=12)\n",
    "fig.suptitle('Free troposphere (5-10 km)', y=0.9, weight='bold')\n",
    "ax[0,0].set_title(f'{base_plt}')\n",
    "ax[0,1].set_title(f'{sens_plt}-{base_plt}')\n",
    "ax[0,2].set_title(f'{sens_plt}-{base_plt}')\n",
    "for iax in ax[0,1:3].flatten(): iax.scatter(*stipple_fre(fre_djf_diff, fre_djf_p, fdr_fre), **fre_pval_sc_kwargs)\n",
    "for iax in ax[1,1:3].flatten(): iax.scatter(*stipple_fre(fre_mam_diff, fre_mam_p, fdr_fre), **fre_pval_sc_kwargs)\n",
    "for iax in ax[2,1:3].flatten(): iax.scatter(*stipple_fre(fre_jja_diff, fre_jja_p, fdr_fre), **fre_pval_sc_kwargs)\n",
    "for iax in ax[3,1:3].flatten(): iax.scatter(*stipple_fre(fre_son_diff, fre_son_p, fdr_fre), **fre_pval_sc_kwargs)\n",
    "for iax in ax.flatten(): iax.set_global()\n",
    "for iax in ax[:,0].flatten(): iax.coastlines(color='k')\n",
    "for iax in ax[0:4,1:].flatten(): iax.coastlines(color='grey')\n",
    "if savefig: fig.savefig(path_to_figs / f'{dir_var}_fre_seas_mean_all.png', bbox_inches='tight')"
   ]
  },
  {
   "cell_type": "code",
   "execution_count": null,
   "metadata": {},
   "outputs": [],
   "source": [
    "# Surface CH4\n",
    "# base_srf_ann_mean = base.aggregated_by(['year'], iris.analysis.MEAN)[:,0,...].collapsed('year', iris.analysis.MEAN)\n",
    "# c_base_srf_ann_mean, c_lons = cartopy.util.add_cyclic_point(base_srf_ann_mean.data, coord=base.coord('longitude').points)\n",
    "# fig, ax = plt.subplots(figsize=(10,10), subplot_kw=dict(projection=ccrs.Robinson(central_longitude=0)), facecolor='w')\n",
    "# p0 = ax.contourf(c_lons, lats, c_base_srf_ann_mean.data, transform=ccrs.PlateCarree(), levels=np.arange(1750, 2100, 50), cmap='jet')\n",
    "# # ax.contour(c_lons, lats, c_base_srf_ann_mean.data, colors='k', transform=ccrs.PlateCarree(), )\n",
    "# # ax.clabel(p0, fmt='%2i', colors='w')\n",
    "# ax.coastlines(color='grey');\n",
    "# fig.colorbar(p0, shrink=0.5);"
   ]
  }
 ],
 "metadata": {
  "@deathbeds/jupyterlab-fonts": {
   "styles": {
    ":root": {
     "--jp-code-font-size": "12px"
    }
   }
  },
  "kernelspec": {
   "display_name": "Python 3",
   "language": "python",
   "name": "python3"
  },
  "language_info": {
   "codemirror_mode": {
    "name": "ipython",
    "version": 3
   },
   "file_extension": ".py",
   "mimetype": "text/x-python",
   "name": "python",
   "nbconvert_exporter": "python",
   "pygments_lexer": "ipython3",
   "version": "3.7.3"
  }
 },
 "nbformat": 4,
 "nbformat_minor": 4
}
