{
 "cells": [
  {
   "cell_type": "code",
   "execution_count": 1,
   "metadata": {
    "nbpresent": {
     "id": "46246386-fec1-4d42-bf10-698a4054dbda"
    }
   },
   "outputs": [],
   "source": [
    "# Data processing\n",
    "import iris\n",
    "import numpy as np\n",
    "import xarray as xr\n",
    "import timeit\n",
    "import dateutil.parser\n",
    "import warnings\n",
    "warnings.filterwarnings('ignore', module='iris')\n",
    "from iris.experimental import stratify\n",
    "from iris.analysis import trajectory\n",
    "from pathlib import Path\n",
    "from datetime import datetime, timedelta\n",
    "# Visualization\n",
    "import matplotlib.pyplot as plt\n",
    "## Scientific parameters\n",
    "M_air = 28.97 # molar mass of dry air [kg]\n",
    "# Coefficients to convert mass mixing ratio to volume mixing ratio\n",
    "coeff_c2h6 = (M_air/30.0690)*1e12\n",
    "coeff_c3h8 = (M_air/44.0956)*1e12\n",
    "coeff_nc4h10 = (M_air/58.1222)*1e12\n",
    "coeff_ic4h10 = (M_air/58.1222)*1e12\n",
    "coeff_nc5h12 = (M_air/72.1488)*1e12\n",
    "coeff_ic5h12 = (M_air/72.1488)*1e12\n",
    "coeff_meono2 = (M_air/77.0394)*1e12\n",
    "coeff_sbuono2 = (M_air/119.1192)*1e12\n",
    "coeff_n2peono2 = (M_air/133.1457)*1e12\n",
    "coeff_n3peono2 = (M_air/133.1457)*1e12\n",
    "coeff_ipeono2 = (M_air/133.1457)*1e12"
   ]
  },
  {
   "cell_type": "markdown",
   "metadata": {},
   "source": [
    "#### Read data"
   ]
  },
  {
   "cell_type": "code",
   "execution_count": 2,
   "metadata": {},
   "outputs": [],
   "source": [
    "path_to_atom = Path('../../external_data/ATom/nc/data')\n",
    "# Select flights\n",
    "flist_atom_flights = ['MER-WAS_DC8_20170218_R8.nc', 'MER-WAS_DC8_20170219_R7.nc', 'MER-WAS_DC8_20170221_R8.nc']\n",
    "fpaths_atom_flights = [path_to_atom / i for i in flist_atom_flights]\n",
    "# Read ATom data\n",
    "atom_dsinf = xr.open_mfdataset(fpaths_atom_flights, decode_times=True)\n",
    "atom_dsmms = xr.open_mfdataset(fpaths_atom_flights, group='MMS', decode_cf=True)\n",
    "atom_dswas = xr.open_mfdataset(fpaths_atom_flights, group='WAS', decode_cf=True)"
   ]
  },
  {
   "cell_type": "code",
   "execution_count": 3,
   "metadata": {
    "nbpresent": {
     "id": "5bf220d9-75c8-489e-81fb-58c0a9a4f83d"
    }
   },
   "outputs": [],
   "source": [
    "# Choose UKCA run parameters\n",
    "ukca_run_name = 'ba897'; ukca_run_freq = 'T1H'; ukca_run_mnth = '201702'; levs = 'plevs'\n",
    "\n",
    "path_to_ukca = Path('../data') / ukca_run_name\n",
    "fname_ukca_run = f'{ukca_run_name}_{ukca_run_freq}_{ukca_run_mnth}_{levs}.nc'\n",
    "# Read UKCA data\n",
    "# cb_c2h6 = iris.load_cube(str(path_to_ukca / fname_ukca_run)+'alkanes.nc', 'C2H6 MASS MIXING RATIO AFTER TSTEP')*coeff_c2h6\n",
    "# cb_c3h8 = iris.load_cube(str(path_to_ukca / fname_ukca_run)+'alkanes.nc', 'C3H8 MASS MIXING RATIO AFTER TSTEP')*coeff_c3h8\n",
    "_cb_nc4h10 = iris.load_cube(str(path_to_ukca / fname_ukca_run), 'n-C4H10 MASS MIX RATIO ON PRESS LEVS')*coeff_nc4h10\n",
    "_cb_ic4h10 = iris.load_cube(str(path_to_ukca / fname_ukca_run), 'i-C4H10 MASS MIX RATIO ON PRESS LEVS')*coeff_ic4h10\n",
    "_cb_nc5h12 = iris.load_cube(str(path_to_ukca / fname_ukca_run), 'n-C5H12 MASS MIX RATIO ON PRESS LEVS')*coeff_nc5h12\n",
    "_cb_ic5h12 = iris.load_cube(str(path_to_ukca / fname_ukca_run), 'i-C5H12 MASS MIX RATIO ON PRESS LEVS')*coeff_ic5h12\n",
    "# cb_meono2 = iris.load_cube(str(path_to_ukca / fname_ukca_run)+'nitrates.nc', 'MeONO2 MASS MIXING RATIO AFTER TSTEP')*coeff_meono2\n",
    "_cb_sbuono2 = iris.load_cube(str(path_to_ukca / fname_ukca_run), 's-BuONO2 MMR ON PRESSURE LEVS')*coeff_sbuono2\n",
    "_cb_n2peono2 = iris.load_cube(str(path_to_ukca / fname_ukca_run), 'n-2PeONO2 MMR ON PRESSURE LEVS')*coeff_n2peono2\n",
    "_cb_n3peono2 = iris.load_cube(str(path_to_ukca / fname_ukca_run), 'n-3PeONO2 MMR ON PRESSURE LEVS')*coeff_n3peono2\n",
    "_cb_ipeono2 = iris.load_cube(str(path_to_ukca / fname_ukca_run), 'i-PeONO2 MMR ON PRESSURE LEVS')*coeff_ipeono2\n",
    "# Extract certain longitude range\n",
    "cb_nc4h10 = _cb_nc4h10.extract(iris.Constraint(longitude=lambda cell: 199.6875 <= cell <= 351.5625))\n",
    "cb_ic4h10 = _cb_ic4h10.extract(iris.Constraint(longitude=lambda cell: 199.6875 <= cell <= 351.5625))\n",
    "cb_nc5h12 = _cb_nc5h12.extract(iris.Constraint(longitude=lambda cell: 199.6875 <= cell <= 351.5625))\n",
    "cb_ic5h12 = _cb_ic5h12.extract(iris.Constraint(longitude=lambda cell: 199.6875 <= cell <= 351.5625))\n",
    "cb_sbuono2 = _cb_sbuono2.extract(iris.Constraint(longitude=lambda cell: 199.6875 <= cell <= 351.5625))\n",
    "cb_n2peono2 = _cb_n2peono2.extract(iris.Constraint(longitude=lambda cell: 199.6875 <= cell <= 351.5625))\n",
    "cb_n3peono2 = _cb_n3peono2.extract(iris.Constraint(longitude=lambda cell: 199.6875 <= cell <= 351.5625))\n",
    "cb_ipeono2 = _cb_ipeono2.extract(iris.Constraint(longitude=lambda cell: 199.6875 <= cell <= 351.5625))\n",
    "# Load altitude coordinate of UKCA's global domain\n",
    "_alt_coord = iris.load_cube(str(Path('../data')/'ukca_coords_n96e_marcus_180705.nc'),'mass_fraction_of_ozone_in_air').coord('altitude')"
   ]
  },
  {
   "cell_type": "code",
   "execution_count": 4,
   "metadata": {},
   "outputs": [
    {
     "name": "stdout",
     "output_type": "stream",
     "text": [
      "170218_170221_1702_merge_plev\n"
     ]
    }
   ],
   "source": [
    "# Extract datetimes from ATom and UKCA data\n",
    "atom_datetime = atom_dsinf.time.values.astype('<M8[us]').astype(datetime)\n",
    "atom_date_strt = atom_datetime[0]\n",
    "atom_date_stop = atom_datetime[-1]\n",
    "ukca_days_since = dateutil.parser.parse(str(cb_nc4h10.coord('t').units)[11:])\n",
    "_ukca_datetime = []\n",
    "for i, ii in enumerate(list(cb_nc4h10.coord('t').points)):\n",
    "    _ukca_datetime.append(ukca_days_since + timedelta(days=float(f'{ii:1.3f}'))) # UKCA's 'days since 1960-09-01' format is 1.3f\n",
    "ukca_datetime = np.array(_ukca_datetime, dtype=datetime)\n",
    "# Create a common timestamp/flight merge identifier for trajectories\n",
    "compared_common_id = f'{atom_date_strt.strftime(\"%y%m%d\")}_{atom_date_stop.strftime(\"%y%m%d\")}_{ukca_datetime[0].strftime(\"%y%m\")}_merge_plev'\n",
    "print(compared_common_id)"
   ]
  },
  {
   "cell_type": "markdown",
   "metadata": {},
   "source": [
    "##### 2. Calculate trajectories"
   ]
  },
  {
   "cell_type": "code",
   "execution_count": 11,
   "metadata": {},
   "outputs": [],
   "source": [
    "# Reconstruct a flight trajectory from ATom geospacial and datetime data\n",
    "sample_time = np.array([(i - ukca_days_since).total_seconds() / 86400. for i in atom_datetime])\n",
    "sample_lats = atom_dsmms.G_LAT.data \n",
    "sample_lons = atom_dsmms.G_LONG.data+360\n",
    "sample_plvs = atom_dsmms.P.data # [hPa] and cube.coord('Pressure') units mbar\n",
    "sample_time_lats_lons_plvs = [('t', sample_time), ('latitude', sample_lats), ('longitude', sample_lons), ('Pressure', sample_plvs)]"
   ]
  },
  {
   "cell_type": "code",
   "execution_count": 26,
   "metadata": {},
   "outputs": [
    {
     "name": "stderr",
     "output_type": "stream",
     "text": [
      "/local/mwe14avu/anaconda3/lib/python3.6/site-packages/numpy/ma/core.py:3169: FutureWarning: Using a non-tuple sequence for multidimensional indexing is deprecated; use `arr[tuple(seq)]` instead of `arr[seq]`. In the future this will be interpreted as an array index, `arr[np.array(seq)]`, which will result either in an error or a different result.\n",
      "  dout = self.data[indx]\n"
     ]
    },
    {
     "data": {
      "text/plain": [
       "1.7631189332166666"
      ]
     },
     "execution_count": 26,
     "metadata": {},
     "output_type": "execute_result"
    }
   ],
   "source": [
    "start_time = timeit.default_timer()\n",
    "# Interpolate releveled model data to flight trajectory\n",
    "# traj_c2h6 = trajectory.interpolate(cb_c2h6, sample_time_lats_lons_plvs)\n",
    "# traj_c3h8 = trajectory.interpolate(cb_c3h8, sample_time_lats_lons_plvs)\n",
    "# traj_nc4h10 = trajectory.interpolate(cb_nc4h10, sample_time_lats_lons_plvs)\n",
    "traj_ic4h10 = trajectory.interpolate(cb_ic4h10, sample_time_lats_lons_plvs)\n",
    "# traj_nc5h12 = trajectory.interpolate(cb_nc5h12, sample_time_lats_lons_plvs)\n",
    "# traj_ic5h12 = trajectory.interpolate(cb_ic5h12, sample_time_lats_lons_plvs)\n",
    "# # traj_meono2 = trajectory.interpolate(cb_meono2, sample_time_lats_lons_plvs)\n",
    "# traj_sbuono2 = trajectory.interpolate(cb_sbuono2, sample_time_lats_lons_plvs)\n",
    "# traj_n2peono2 = trajectory.interpolate(cb_n2peono2, sample_time_lats_lons_plvs)\n",
    "# traj_n3peono2 = trajectory.interpolate(cb_n3peono2, sample_time_lats_lons_plvs)\n",
    "# traj_ipeono2 = trajectory.interpolate(cb_ipeono2, sample_time_lats_lons_plvs)\n",
    "elapsed = timeit.default_timer() - start_time\n",
    "elapsed/60"
   ]
  },
  {
   "cell_type": "markdown",
   "metadata": {},
   "source": [
    "##### 3. Extract cross sections"
   ]
  },
  {
   "cell_type": "code",
   "execution_count": 27,
   "metadata": {},
   "outputs": [],
   "source": [
    "# Extract a cross section from model data along flight track\n",
    "sample_time_lats_lons = [('t', sample_time), ('latitude', sample_lats), ('longitude', sample_lons)]\n",
    "# crsc_c2h6 = trajectory.interpolate(cb_c2h6, sample_time_lats_lons)\n",
    "# crsc_c3h8 = trajectory.interpolate(cb_c3h8, sample_time_lats_lons)\n",
    "# crsc_nc4h10 = trajectory.interpolate(cb_nc4h10, sample_time_lats_lons)\n",
    "crsc_ic4h10 = trajectory.interpolate(cb_ic4h10, sample_time_lats_lons)\n",
    "# crsc_nc5h12 = trajectory.interpolate(cb_nc5h12, sample_time_lats_lons)\n",
    "# crsc_ic5h12 = trajectory.interpolate(cb_ic5h12, sample_time_lats_lons)\n",
    "# # crsc_meono2 = trajectory.interpolate(cb_meono2, sample_time_lats_lons)\n",
    "# crsc_sbuono2 = trajectory.interpolate(cb_sbuono2, sample_time_lats_lons)\n",
    "# crsc_n2peono2 = trajectory.interpolate(cb_n2peono2, sample_time_lats_lons)\n",
    "# crsc_n3peono2 = trajectory.interpolate(cb_n3peono2, sample_time_lats_lons)\n",
    "# crsc_ipeono2 = trajectory.interpolate(cb_ipeono2, sample_time_lats_lons)"
   ]
  },
  {
   "cell_type": "markdown",
   "metadata": {},
   "source": [
    "#### Save processed data"
   ]
  },
  {
   "cell_type": "code",
   "execution_count": 15,
   "metadata": {},
   "outputs": [],
   "source": [
    "path_to_prcd = Path('../processed') / ukca_run_name"
   ]
  },
  {
   "cell_type": "code",
   "execution_count": 28,
   "metadata": {},
   "outputs": [],
   "source": [
    "# Save trajectories to .nc\n",
    "# iris.save(traj_nc4h10, str(path_to_prcd)+f'/{ukca_run_name}_{compared_common_id}_plvs_traj_nc4h10.nc')\n",
    "iris.save(traj_ic4h10, str(path_to_prcd)+f'/{ukca_run_name}_{compared_common_id}_plvs_traj_ic4h10.nc')\n",
    "# iris.save(traj_nc5h12, str(path_to_prcd)+f'/{ukca_run_name}_{compared_common_id}_plvs_traj_nc5h12.nc')\n",
    "# iris.save(traj_ic5h12, str(path_to_prcd)+f'/{ukca_run_name}_{compared_common_id}_plvs_traj_ic5h12.nc')\n",
    "# iris.save(traj_sbuono2, str(path_to_prcd)+f'/{ukca_run_name}_{compared_common_id}_plvs_traj_sbuono2.nc')\n",
    "# iris.save(traj_n2peono2, str(path_to_prcd)+f'/{ukca_run_name}_{compared_common_id}_plvs_traj_n2peono2.nc')\n",
    "# iris.save(traj_n3peono2, str(path_to_prcd)+f'/{ukca_run_name}_{compared_common_id}_plvs_traj_n3peono2.nc')\n",
    "# iris.save(traj_ipeono2, str(path_to_prcd)+f'/{ukca_run_name}_{compared_common_id}_plvs_traj_ipeono2.nc')"
   ]
  },
  {
   "cell_type": "code",
   "execution_count": 29,
   "metadata": {},
   "outputs": [],
   "source": [
    "# Save cross sections to .nc\n",
    "# iris.save(crsc_nc4h10, str(path_to_prcd)+f'/{ukca_run_name}_{compared_common_id}_plvs_crsc_nc4h10.nc')\n",
    "iris.save(crsc_ic4h10, str(path_to_prcd)+f'/{ukca_run_name}_{compared_common_id}_plvs_crsc_ic4h10.nc')\n",
    "# iris.save(crsc_nc5h12, str(path_to_prcd)+f'/{ukca_run_name}_{compared_common_id}_plvs_crsc_nc5h12.nc')\n",
    "# iris.save(crsc_ic5h12, str(path_to_prcd)+f'/{ukca_run_name}_{compared_common_id}_plvs_crsc_ic5h12.nc')\n",
    "# iris.save(crsc_sbuono2, str(path_to_prcd)+f'/{ukca_run_name}_{compared_common_id}_plvs_crsc_sbuono2.nc')\n",
    "# iris.save(crsc_n2peono2, str(path_to_prcd)+f'/{ukca_run_name}_{compared_common_id}_plvs_crsc_n2peono2.nc')\n",
    "# iris.save(crsc_n3peono2, str(path_to_prcd)+f'/{ukca_run_name}_{compared_common_id}_plvs_crsc_n3peono2.nc')\n",
    "# iris.save(crsc_ipeono2, str(path_to_prcd)+f'/{ukca_run_name}_{compared_common_id}_plvs_crsc_ipeono2.nc')"
   ]
  },
  {
   "cell_type": "code",
   "execution_count": 36,
   "metadata": {},
   "outputs": [
    {
     "data": {
      "image/png": "[encoded data removed]",
      "text/plain": [
       "<Figure size 432x288 with 1 Axes>"
      ]
     },
     "metadata": {},
     "output_type": "display_data"
    }
   ],
   "source": [
    "plt.scatter(np.arange(0,435), atom_dsmms.P.data);"
   ]
  }
 ],
 "metadata": {
  "anaconda-cloud": {},
  "kernelspec": {
   "display_name": "Python [default]",
   "language": "python",
   "name": "python3"
  },
  "language_info": {
   "codemirror_mode": {
    "name": "ipython",
    "version": 3
   },
   "file_extension": ".py",
   "mimetype": "text/x-python",
   "name": "python",
   "nbconvert_exporter": "python",
   "pygments_lexer": "ipython3",
   "version": "3.6.5"
  }
 },
 "nbformat": 4,
 "nbformat_minor": 2
}
