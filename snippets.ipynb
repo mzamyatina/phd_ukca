{
 "cells": [
  {
   "cell_type": "code",
   "execution_count": null,
   "metadata": {},
   "outputs": [],
   "source": [
    "# def op_3d(cube, op):\n",
    "#     dims = [\"latitude\", \"longitude\", \"level_height\"]\n",
    "#     out = cube.collapsed(dims, getattr(iris.analysis, op.upper()))\n",
    "#     return out\n",
    "# op_3d(ch4_molecules_per_gridbox, \"mean\")"
   ]
  },
  {
   "cell_type": "code",
   "execution_count": null,
   "metadata": {},
   "outputs": [],
   "source": [
    "# o3_burden_annual_mean_xojng = o3_burden_annual_mean\n",
    "# %store -r o3_burden_annual_mean_xojnd\n",
    "\n",
    "# p = stats.shapiro(o3_burden_annual_mean_xojng - o3_burden_annual_mean_xojnd)[1]\n",
    "# print(p)\n",
    "# if p > 0.05:\n",
    "#     print(stats.ttest_rel(o3_burden_annual_mean_xojng, o3_burden_annual_mean_xojnd)[1])\n",
    "# else:\n",
    "#     print(stats.wilcoxon(o3_burden_annual_mean_xojng, o3_burden_annual_mean_xojnd)[1])"
   ]
  }
 ],
 "metadata": {
  "kernelspec": {
   "display_name": "Python 3",
   "language": "python",
   "name": "python3"
  },
  "language_info": {
   "codemirror_mode": {
    "name": "ipython",
    "version": 3
   },
   "file_extension": ".py",
   "mimetype": "text/x-python",
   "name": "python",
   "nbconvert_exporter": "python",
   "pygments_lexer": "ipython3",
   "version": "3.7.6"
  }
 },
 "nbformat": 4,
 "nbformat_minor": 4
}
