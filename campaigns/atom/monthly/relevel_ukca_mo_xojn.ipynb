{
 "cells": [
  {
   "cell_type": "code",
   "execution_count": 1,
   "metadata": {
    "nbpresent": {
     "id": "46246386-fec1-4d42-bf10-698a4054dbda"
    }
   },
   "outputs": [],
   "source": [
    "# Data processing\n",
    "import iris\n",
    "import numpy as np\n",
    "import warnings\n",
    "warnings.filterwarnings('ignore', module='iris')\n",
    "from iris.experimental import stratify\n",
    "from pathlib import Path\n",
    "## Scientific parameters\n",
    "M_air = 28.97 # molar mass of dry air [g mol-1]\n",
    "# Coefficients to convert mass mixing ratio to volume mixing ratio\n",
    "coeff_ch4 = (M_air/16.0425)*1e9\n",
    "coeff_c2h6 = (M_air/30.0690)*1e12\n",
    "coeff_c3h8 = (M_air/44.0956)*1e12\n",
    "coeff_meono2 = (M_air/77.0394)*1e12\n",
    "coeff_etono2 = (M_air/91.0660)*1e12\n",
    "coeff_nprono2 = (M_air/105.0926)*1e12\n",
    "coeff_iprono2 = (M_air/105.0926)*1e12"
   ]
  },
  {
   "cell_type": "markdown",
   "metadata": {},
   "source": [
    "#### Read data"
   ]
  },
  {
   "cell_type": "markdown",
   "metadata": {},
   "source": [
    "cubelist\n",
    "[<iris 'Cube' of mass_fraction_of_acetaldehyde_in_air / (kg kg-1) (time: 120; model_level_number: 60; latitude: 73; longitude: 96)>,\n",
    "<iris 'Cube' of mass_fraction_of_propanal_in_air / (kg kg-1) (time: 120; model_level_number: 60; latitude: 73; longitude: 96)>,\n",
    "<iris 'Cube' of mass_fraction_of_acetone_in_air / (kg kg-1) (time: 120; model_level_number: 60; latitude: 73; longitude: 96)>,\n",
    "<iris 'Cube' of mass_fraction_of_peroxypropionyl_nitrate_in_air / (kg kg-1) (time: 120; model_level_number: 60; latitude: 73; longitude: 96)>,\n",
    "<iris 'Cube' of mass_fraction_of_methyl_nitrate_in_air / (kg kg-1) (time: 120; model_level_number: 60; latitude: 73; longitude: 96)>,\n",
    "<iris 'Cube' of mass_fraction_of_methyl_ethyl_ketone_in_air / (kg kg-1) (time: 120; model_level_number: 60; latitude: 73; longitude: 96)>,\n",
    "<iris 'Cube' of m01s34i152 / (unknown) (time: 120; model_level_number: 60; latitude: 73; longitude: 96)>,\n",
    "<iris 'Cube' of m01s34i362 / (unknown) (time: 120; model_level_number: 60; latitude: 73; longitude: 96)>,\n",
    "<iris 'Cube' of m01s34i363 / (unknown) (time: 120; model_level_number: 60; latitude: 73; longitude: 96)>,\n",
    "<iris 'Cube' of air_temperature / (K) (time: 120; model_level_number: 60; latitude: 73; longitude: 96)>,\n",
    "<iris 'Cube' of mass_fraction_of_carbon_monoxide_in_air / (kg kg-1) (time: 120; model_level_number: 60; latitude: 73; longitude: 96)>,\n",
    "<iris 'Cube' of mass_fraction_of_dinitrogen_pentoxide_in_air / (kg kg-1) (time: 120; model_level_number: 60; latitude: 73; longitude: 96)>,\n",
    "<iris 'Cube' of mass_fraction_of_formaldehyde_in_air / (kg kg-1) (time: 120; model_level_number: 60; latitude: 73; longitude: 96)>,\n",
    "<iris 'Cube' of mass_fraction_of_hydroperoxyl_radical_in_air / (kg kg-1) (time: 120; model_level_number: 60; latitude: 73; longitude: 96)>,\n",
    "<iris 'Cube' of mass_fraction_of_hydroxyl_radical_in_air / (kg kg-1) (time: 120; model_level_number: 60; latitude: 73; longitude: 96)>,\n",
    "<iris 'Cube' of mass_fraction_of_methane_in_air / (kg kg-1) (time: 120; model_level_number: 60; latitude: 73; longitude: 96)>,\n",
    "<iris 'Cube' of mass_fraction_of_nitric_acid_in_air / (kg kg-1) (time: 120; model_level_number: 60; latitude: 73; longitude: 96)>,\n",
    "<iris 'Cube' of mass_fraction_of_nitrogen_monoxide_in_air / (kg kg-1) (time: 120; model_level_number: 60; latitude: 73; longitude: 96)>,\n",
    "<iris 'Cube' of mass_fraction_of_nitrous_acid_in_air / (kg kg-1) (time: 120; model_level_number: 60; latitude: 73; longitude: 96)>,\n",
    "<iris 'Cube' of mass_fraction_of_ozone_in_air / (kg kg-1) (time: 120; model_level_number: 60; latitude: 73; longitude: 96)>,\n",
    "<iris 'Cube' of mass_fraction_of_peroxyacetyl_nitrate_in_air / (kg kg-1) (time: 120; model_level_number: 60; latitude: 73; longitude: 96)>,\n",
    "<iris 'Cube' of mass_fraction_of_peroxynitric_acid_in_air / (kg kg-1) (time: 120; model_level_number: 60; latitude: 73; longitude: 96)>,\n",
    "<iris 'Cube' of mass_fraction_of_toluene_in_air / (kg kg-1) (time: 120; model_level_number: 60; latitude: 73; longitude: 96)>,\n",
    "<iris 'Cube' of tropopause_altitude / (m) (time: 120; latitude: 73; longitude: 96)>]"
   ]
  },
  {
   "cell_type": "code",
   "execution_count": 2,
   "metadata": {
    "nbpresent": {
     "id": "5bf220d9-75c8-489e-81fb-58c0a9a4f83d"
    }
   },
   "outputs": [],
   "source": [
    "# Choose UKCA run\n",
    "ukca_run_name = 'xojne'\n",
    "path_to_ukca = Path('../../../../data') / ukca_run_name\n",
    "fname_ukca_run = f'{ukca_run_name}_chem.pp'\n",
    "# Read UKCA data\n",
    "cubelist = iris.load(str(path_to_ukca / fname_ukca_run))\n",
    "cb_ch4 = iris.load_cube(str(path_to_ukca / fname_ukca_run), 'mass_fraction_of_methane_in_air')*coeff_ch4\n",
    "cb_c2h6 = iris.load_cube(str(path_to_ukca / fname_ukca_run), 'mass_fraction_of_ethane_in_air')*coeff_c2h6\n",
    "cb_c3h8 = iris.load_cube(str(path_to_ukca / fname_ukca_run), 'mass_fraction_of_propane_in_air')*coeff_c3h8\n",
    "cb_meono2 = cubelist.extract_strict('mass_fraction_of_methyl_nitrate_in_air')*coeff_meono2\n",
    "cb_etono2 = cubelist.extract_strict(iris.AttributeConstraint(STASH='m01s34i096'))*coeff_etono2\n",
    "cb_nprono2 = cubelist.extract_strict(iris.AttributeConstraint(STASH='m01s34i097'))*coeff_nprono2\n",
    "# cb_iprono2 = iris.load_cube(str(path_to_ukca / fname_ukca_run), iris.AttributeConstraint(STASH='m01s34i098'))*coeff_iprono2"
   ]
  },
  {
   "cell_type": "code",
   "execution_count": 3,
   "metadata": {},
   "outputs": [],
   "source": [
    "import matplotlib.pyplot as plt"
   ]
  },
  {
   "cell_type": "code",
   "execution_count": 4,
   "metadata": {},
   "outputs": [
    {
     "name": "stdout",
     "output_type": "stream",
     "text": [
      "27.5 86.25\n",
      "45.0 315.0\n"
     ]
    }
   ],
   "source": [
    "# Everest 28N 87E\n",
    "print(cb_ch4.coord('latitude').points[47], cb_ch4.coord('longitude').points[23])\n",
    "# Ocean 45N 45W (or 315E)\n",
    "print(cb_ch4.coord('latitude').points[54], cb_ch4.coord('longitude').points[84])"
   ]
  },
  {
   "cell_type": "code",
   "execution_count": 43,
   "metadata": {},
   "outputs": [
    {
     "data": {
      "image/png": "[encoded data removed]",
      "text/plain": [
       "<Figure size 432x288 with 1 Axes>"
      ]
     },
     "metadata": {
      "needs_background": "light"
     },
     "output_type": "display_data"
    }
   ],
   "source": [
    "plt.plot(cb_ch4.coord('altitude')[0:20,49,23].points/1000, cb_ch4.coord('model_level_number').points[0:20], marker='o', label='Everest');\n",
    "plt.plot(cb_ch4.coord('altitude')[0:20,54,84].points/1000, cb_ch4.coord('model_level_number').points[0:20], marker='o', label='ocean');\n",
    "# plt.plot(cb_ch4.coord('level_height').points/1000, marker='*');\n",
    "plt.legend();"
   ]
  },
  {
   "cell_type": "code",
   "execution_count": 20,
   "metadata": {},
   "outputs": [],
   "source": [
    "# Load surface_altitude coordinate\n",
    "orography = iris.load_cube(str(Path('../../../../data')/'um_orography_xnvtj.nc'))\n",
    "alt_cb = iris.util.squeeze(orography)\n",
    "alt_coord = iris.coords.AuxCoord(alt_cb.data, standard_name='surface_altitude', units='m')\n",
    "# Add surface_altitude coordinate to a cube\n",
    "cb_ch4.add_aux_coord(alt_coord, data_dims=[2,3])\n",
    "# cb_c2h6.add_aux_coord(alt_coord, data_dims=[2,3])\n",
    "# cb_c3h8.add_aux_coord(alt_coord, data_dims=[2,3])\n",
    "# cb_meono2.add_aux_coord(alt_coord, data_dims=[2,3])\n",
    "# cb_etono2.add_aux_coord(alt_coord, data_dims=[2,3])\n",
    "# cb_nprono2.add_aux_coord(alt_coord, data_dims=[2,3])\n",
    "# cb_iprono2.add_aux_coord(alt_coord, data_dims=[2,3])\n",
    "\n",
    "# Derive altitude coordinate from surface_altitude\n",
    "factory_ch4 = iris.aux_factory.HybridHeightFactory(delta=cb_ch4.coord('level_height'), sigma=cb_ch4.coord('sigma'), \n",
    "                                                   orography=cb_ch4.coord('surface_altitude'))\n",
    "# factory_c2h6 = iris.aux_factory.HybridHeightFactory(delta=cb_c2h6.coord('level_height'), orography=cb_c2h6.coord('surface_altitude'))\n",
    "# factory_c3h8 = iris.aux_factory.HybridHeightFactory(delta=cb_c3h8.coord('level_height'), orography=cb_c3h8.coord('surface_altitude'))\n",
    "# factory_meono2 = iris.aux_factory.HybridHeightFactory(delta=cb_meono2.coord('level_height'), orography=cb_meono2.coord('surface_altitude'))\n",
    "# factory_etono2 = iris.aux_factory.HybridHeightFactory(delta=cb_etono2.coord('level_height'), orography=cb_etono2.coord('surface_altitude'))\n",
    "# factory_nprono2 = iris.aux_factory.HybridHeightFactory(delta=cb_nprono2.coord('level_height'), orography=cb_nprono2.coord('surface_altitude'))\n",
    "# factory_iprono2 = iris.aux_factory.HybridHeightFactory(delta=cb_iprono2.coord('level_height'), orography=cb_iprono2.coord('surface_altitude'))\n",
    "\n",
    "cb_ch4.add_aux_factory(factory_ch4)\n",
    "# cb_c2h6.add_aux_factory(factory_c2h6)\n",
    "# cb_c3h8.add_aux_factory(factory_c3h8)\n",
    "# cb_meono2.add_aux_factory(factory_meono2)\n",
    "# cb_etono2.add_aux_factory(factory_etono2)\n",
    "# cb_nprono2.add_aux_factory(factory_nprono2)\n",
    "# cb_iprono2.add_aux_factory(factory_iprono2)"
   ]
  },
  {
   "cell_type": "markdown",
   "metadata": {},
   "source": [
    "#### Relevel model data from level height to tagret levels"
   ]
  },
  {
   "cell_type": "code",
   "execution_count": null,
   "metadata": {},
   "outputs": [],
   "source": [
    "# Relevel model data from level height to target levels\n",
    "tgt_levels = np.arange(0, 14000, 100) # [meters]\n",
    "# cbr_c2h6 = stratify.relevel(cb_c2h6, cb_c2h6.coord('altitude'), tgt_levels, axis='level_height')\n",
    "# cbr_c3h8 = stratify.relevel(cb_c3h8, cb_c3h8.coord('altitude'), tgt_levels, axis='level_height')\n",
    "cbr_meono2 = stratify.relevel(cb_meono2, cb_meono2.coord('altitude'), tgt_levels, axis='level_height')\n",
    "cbr_etono2 = stratify.relevel(cb_etono2, cb_etono2.coord('altitude'), tgt_levels, axis='level_height')\n",
    "cbr_nprono2 = stratify.relevel(cb_nprono2, cb_nprono2.coord('altitude'), tgt_levels, axis='level_height')\n",
    "# cbr_iprono2 = stratify.relevel(cb_iprono2, cb_iprono2.coord('altitude'), tgt_levels, axis='level_height')"
   ]
  },
  {
   "cell_type": "code",
   "execution_count": null,
   "metadata": {},
   "outputs": [],
   "source": [
    "# Rename cubes\n",
    "# cbr_c2h6.rename('c2h6')\n",
    "# cbr_c3h8.rename('c3h8')\n",
    "cbr_meono2.rename('meono2')\n",
    "cbr_etono2.rename('etono2')\n",
    "cbr_nprono2.rename('nprono2')\n",
    "# cbr_iprono2.rename('iprono2')\n",
    "cubelist = [cbr_meono2, cbr_etono2, cbr_nprono2] # cbr_c2h6, cbr_c3h8, cbr_iprono2"
   ]
  },
  {
   "cell_type": "markdown",
   "metadata": {},
   "source": [
    "#### Save processed data"
   ]
  },
  {
   "cell_type": "code",
   "execution_count": null,
   "metadata": {},
   "outputs": [],
   "source": [
    "path_to_prcd = Path('../../../../processed') / ukca_run_name"
   ]
  },
  {
   "cell_type": "code",
   "execution_count": null,
   "metadata": {},
   "outputs": [],
   "source": [
    "# Save releveled data to .nc\n",
    "iris.save(cubelist, str(path_to_prcd)+f'/{ukca_run_name}_relvl.nc')"
   ]
  }
 ],
 "metadata": {
  "@deathbeds/jupyterlab-fonts": {
   "styles": {
    ":root": {
     "--jp-code-font-size": "12px"
    }
   }
  },
  "anaconda-cloud": {},
  "kernelspec": {
   "display_name": "Python 3",
   "language": "python",
   "name": "python3"
  },
  "language_info": {
   "codemirror_mode": {
    "name": "ipython",
    "version": 3
   },
   "file_extension": ".py",
   "mimetype": "text/x-python",
   "name": "python",
   "nbconvert_exporter": "python",
   "pygments_lexer": "ipython3",
   "version": "3.6.8"
  }
 },
 "nbformat": 4,
 "nbformat_minor": 2
}
