{
 "cells": [
  {
   "cell_type": "code",
   "execution_count": 1,
   "metadata": {},
   "outputs": [],
   "source": [
    "from pathlib import Path\n",
    "\n",
    "import matplotlib as mpl\n",
    "import matplotlib.pyplot as plt\n",
    "import numpy as np\n",
    "import matplotlib.colors as colors\n",
    "\n",
    "plt.rcParams[\"mathtext.default\"] = \"regular\"\n",
    "path_to_results = Path(\"../../../results/rates\")"
   ]
  },
  {
   "cell_type": "code",
   "execution_count": 2,
   "metadata": {},
   "outputs": [],
   "source": [
    "def vmr_to_nd(vmr_gas, air_pressure, air_temperature):\n",
    "    \"\"\"Convert volume mixing ratio to number density [unitless to molecules cm-3]\"\"\"\n",
    "    avogadro_const = 6.022 * 1e23  # [mol-1]\n",
    "    gas_const = 8.314  # [J K-1 mol-1]\n",
    "    nd_gas = vmr_gas * air_pressure * avogadro_const / (gas_const * air_temperature)\n",
    "    return nd_gas"
   ]
  },
  {
   "cell_type": "code",
   "execution_count": 3,
   "metadata": {},
   "outputs": [],
   "source": [
    "def calc_air_number_density(air_pressure, air_temperature):\n",
    "    \"\"\"Calculate air number density M as a function of temperature and pressure\"\"\"\n",
    "    V = 1  # [m3] 10**6 cm3\n",
    "    avogadro_const = 6.022 * 1e23  # [mol-1]\n",
    "    gas_const = 8.314  # [J K-1 mol-1]\n",
    "    nd_air = air_pressure * V / (gas_const * air_temperature * 1e6) * avogadro_const\n",
    "    return nd_air"
   ]
  },
  {
   "cell_type": "code",
   "execution_count": 4,
   "metadata": {},
   "outputs": [],
   "source": [
    "k_hono_hv = 1e-4  # [s-1]\n",
    "\n",
    "\n",
    "def k_oh_hono(T):\n",
    "    \"\"\"New, JPL2015.\"\"\"\n",
    "    y = 1.8e-11 * np.exp(-390 / T)\n",
    "    return y\n",
    "\n",
    "\n",
    "def k3rd_order(T, M, Fc, klow, alpha_low, beta_low, khigh, alpha_high, beta_high):\n",
    "    \"\"\"Function for CheT generic rate coefficients (from Paul's .def footer)\"\"\"\n",
    "    k_low = klow * (T / 300.0) ** (alpha_low) * np.exp(-beta_low / T) * M\n",
    "    k_high = khigh * (T / 300.0) ** (alpha_high) * np.exp(-beta_high / T)\n",
    "    if Fc < 0.1:\n",
    "        k3rd_order = k_low\n",
    "    else:\n",
    "        if Fc > 1.0:\n",
    "            zfc = np.exp(-T / Fc)\n",
    "        else:\n",
    "            zfc = Fc\n",
    "        zo = k_low\n",
    "        zi = k_high\n",
    "        zr = zo / zi\n",
    "        k3rd_order = (zo / (1.0 + zr)) * zfc ** (1.0 / (1.0 + (np.log10(zr)) ** 2.0))\n",
    "    return k3rd_order"
   ]
  },
  {
   "cell_type": "code",
   "execution_count": 5,
   "metadata": {},
   "outputs": [],
   "source": [
    "sec2days = 24 * 60 * 60"
   ]
  },
  {
   "cell_type": "code",
   "execution_count": 6,
   "metadata": {},
   "outputs": [],
   "source": [
    "P = 1e5  # [Pa]\n",
    "T = 273  # [K]\n",
    "\n",
    "vmr_oh = 0.1 * 1e-12\n",
    "vmr_no = 10 * 1e-12\n",
    "vmr_hono = 0.5 * 1e-9"
   ]
  },
  {
   "cell_type": "code",
   "execution_count": 7,
   "metadata": {},
   "outputs": [],
   "source": [
    "# Pressure and temperature range\n",
    "pres_range = np.arange(250, 1e5, 500)  # [Pa]\n",
    "temp_range = np.arange(150, 320, 10)  # [K]\n",
    "nd_oh_range = [1e5, 1e6, 1e7]"
   ]
  },
  {
   "cell_type": "code",
   "execution_count": 8,
   "metadata": {},
   "outputs": [],
   "source": [
    "tau_hono = np.empty((len(nd_oh_range), len(pres_range), len(temp_range)))\n",
    "\n",
    "for i, T in enumerate(temp_range):\n",
    "    for j, P in enumerate(pres_range):\n",
    "        for k, nd_oh in enumerate(nd_oh_range):\n",
    "            M = calc_air_number_density(P, T)\n",
    "\n",
    "            #             nd_oh = 1e7  # [molecules cm-3] vmr_to_nd(vmr_oh, P, T)\n",
    "            k_hono_hv = 1e-3  # [s-1]\n",
    "            #         nd_no = vmr_to_nd(vmr_no, P, T)\n",
    "            #         nd_hono = vmr_to_nd(vmr_hono, P, T)\n",
    "\n",
    "            #         k_oh_no_m = k3rd_order(T, M, 0.6, 7.00e-31, -2.60, 0.00, 3.60e-11, -0.10, 0.00)\n",
    "\n",
    "            tau_hono_hv = 1 / k_hono_hv\n",
    "            tau_oh_hono = 1 / (k_oh_hono(T) * nd_oh)\n",
    "\n",
    "            tau_hono[k, j, i] = ((1 / tau_hono_hv) + (1 / tau_oh_hono) ** -1) / sec2days"
   ]
  },
  {
   "cell_type": "code",
   "execution_count": 72,
   "metadata": {},
   "outputs": [
    {
     "name": "stdout",
     "output_type": "stream",
     "text": [
      "0.226247741124419 86.57238963992857\n"
     ]
    },
    {
     "data": {
      "image/png": "[encoded data removed]",
      "text/plain": [
       "<Figure size 864x288 with 4 Axes>"
      ]
     },
     "metadata": {},
     "output_type": "display_data"
    }
   ],
   "source": [
    "fig, axes = plt.subplots(\n",
    "    nrows=1,\n",
    "    ncols=3,\n",
    "    figsize=(12, 4),\n",
    "    facecolor=\"white\",\n",
    "    sharex=True,\n",
    "    sharey=True,\n",
    "    constrained_layout=True,\n",
    ")\n",
    "\n",
    "common_min = np.min([tau_hono[0, ...].min(), tau_hono[1, ...].min(), tau_hono[2, ...].min()])\n",
    "common_max = np.max([tau_hono[0, ...].max(), tau_hono[1, ...].max(), tau_hono[2, ...].max()])\n",
    "print(common_min, common_max)\n",
    "\n",
    "logdata = True\n",
    "if logdata:\n",
    "    kwargs = {\"norm\": colors.LogNorm(vmin=common_min, vmax=common_max), \"shading\": \"auto\"}\n",
    "else:\n",
    "    kwargs = {\"vmin\": common_min, \"vmax\": common_max, \"shading\": \"auto\"}\n",
    "\n",
    "p0 = axes[0].pcolormesh(temp_range, pres_range, tau_hono[0, ...], **kwargs)\n",
    "p1 = axes[1].pcolormesh(temp_range, pres_range, tau_hono[1, ...], **kwargs)\n",
    "p2 = axes[2].pcolormesh(temp_range, pres_range, tau_hono[2, ...], **kwargs)\n",
    "\n",
    "axes[0].contour(temp_range, pres_range, tau_hono[0, ...], levels=[30,45,60,80], colors='k')\n",
    "axes[1].contour(temp_range, pres_range, tau_hono[1, ...], levels=[2.5,7], colors='k')\n",
    "axes[2].contour(temp_range, pres_range, tau_hono[2, ...], levels=[0.25,0.7], colors='k')\n",
    "\n",
    "fig.colorbar(p0, ax=axes, orientation=\"vertical\", label=\"$\\\\tau_{HONO}$ [days]\")\n",
    "\n",
    "axes[0].set_title(\"$k_{HONO+hv}$=$10^{-3}$ [$s^{-1}]$\\nOH=$10^5$ [$cm^{-3}$]\")\n",
    "axes[1].set_title(\"$k_{HONO+hv}$=$10^{-3}$ [$s^{-1}]$\\nOH=$10^6$ [$cm^{-3}$]\")\n",
    "axes[2].set_title(\"$k_{HONO+hv}$=$10^{-3}$ [$s^{-1}]$\\nOH=$10^7$ [$cm^{-3}$]\")\n",
    "axes[0].set_ylabel(\"Pressure [Pa]\")  # if ax.get_subplotspec().is_first_col():\n",
    "\n",
    "for ax in axes.flatten():\n",
    "    ax.set_xlabel(u\"Temperature [K]\")\n",
    "    ax.set_yscale(\"log\")\n",
    "    ax.set_ylim(1e5, 250)\n",
    "    ax.axvline(x=273, color=\"w\")\n",
    "    ax.axhline(y=23800, color=\"w\")  # 10 km"
   ]
  },
  {
   "cell_type": "code",
   "execution_count": 65,
   "metadata": {},
   "outputs": [
    {
     "data": {
      "text/plain": [
       "(2.2624773070775235, 8.657238974409525)"
      ]
     },
     "execution_count": 65,
     "metadata": {},
     "output_type": "execute_result"
    }
   ],
   "source": [
    "tau_hono[1, ...].min(), tau_hono[1, ...].max(),"
   ]
  },
  {
   "cell_type": "code",
   "execution_count": null,
   "metadata": {},
   "outputs": [],
   "source": []
  }
 ],
 "metadata": {
  "kernelspec": {
   "display_name": "Python 3",
   "language": "python",
   "name": "python3"
  },
  "language_info": {
   "codemirror_mode": {
    "name": "ipython",
    "version": 3
   },
   "file_extension": ".py",
   "mimetype": "text/x-python",
   "name": "python",
   "nbconvert_exporter": "python",
   "pygments_lexer": "ipython3",
   "version": "3.7.9"
  }
 },
 "nbformat": 4,
 "nbformat_minor": 4
}
