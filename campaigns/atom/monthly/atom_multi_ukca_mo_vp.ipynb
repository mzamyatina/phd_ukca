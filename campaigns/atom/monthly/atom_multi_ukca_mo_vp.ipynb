{
 "cells": [
  {
   "cell_type": "code",
   "execution_count": 1,
   "metadata": {
    "nbpresent": {
     "id": "46246386-fec1-4d42-bf10-698a4054dbda"
    }
   },
   "outputs": [],
   "source": [
    "# Data processing\n",
    "import numpy as np\n",
    "import pandas as pd\n",
    "import xarray as xr\n",
    "import iris\n",
    "import iris.pandas\n",
    "import warnings\n",
    "warnings.filterwarnings('ignore', module='iris')\n",
    "import dateutil.parser\n",
    "from datetime import datetime, timedelta\n",
    "from pathlib import Path\n",
    "from shapely.geometry import Point, Polygon\n",
    "# Visualization\n",
    "import cartopy.util\n",
    "import cartopy.crs as ccrs\n",
    "import matplotlib.pyplot as plt\n",
    "import matplotlib.colors as colors\n",
    "import matplotlib.patches as mpatches\n",
    "from matplotlib.dates import DateFormatter\n",
    "from matplotlib.ticker import FuncFormatter\n",
    "# Plotting parameters\n",
    "plt.rcParams['mathtext.default'] = 'regular'\n",
    "def m2km(x, pos):\n",
    "    '''Convert meters to kilometers when plotting axis labels'''\n",
    "    return int(x*1e-3) #'{:1.1f}'.format(x*1e-3)\n",
    "savefig = False\n",
    "# Species names\n",
    "str_c2h6 = '$C_2H_6$'; str_c3h8 = '$C_3H_8$'\n",
    "str_nc4h10 = '$nC_4H_{10}$'; str_ic4h10 = '$iC_4H_{10}$'\n",
    "str_nc5h12 = '$nC_5H_{12}$'; str_ic5h12 = '$iC_5H_{12}$'\n",
    "str_meono2 = '$MeONO_2$'; str_sbuono2 = '2-$BuONO_2$'\n",
    "str_n2peono2 = '2-$PenONO_2$'; str_n3peono2 = '3-$PenONO_2$'; str_ipeono2 = '3-Methyl-2-$BuONO_2$'"
   ]
  },
  {
   "cell_type": "markdown",
   "metadata": {},
   "source": [
    "#### Read data"
   ]
  },
  {
   "cell_type": "code",
   "execution_count": 2,
   "metadata": {},
   "outputs": [],
   "source": [
    "path_to_atom = Path('../../../../../../obs/ATom/nc/data')\n",
    "# Select flights\n",
    "fname_atom_flight = 'MER-WAS_DC8_201701*.nc'\n",
    "# Read ATom data\n",
    "atom_dsinf = xr.open_mfdataset(sorted(path_to_atom.glob(fname_atom_flight)), decode_times=True)\n",
    "atom_dsmms = xr.open_mfdataset(sorted(path_to_atom.glob(fname_atom_flight)), group='MMS', decode_cf=True)\n",
    "atom_dswas = xr.open_mfdataset(sorted(path_to_atom.glob(fname_atom_flight)), group='WAS', decode_cf=True)"
   ]
  },
  {
   "cell_type": "code",
   "execution_count": 3,
   "metadata": {
    "nbpresent": {
     "id": "5bf220d9-75c8-489e-81fb-58c0a9a4f83d"
    }
   },
   "outputs": [],
   "source": [
    "# Choose UKCA run\n",
    "ukca_run_name = 'az166a'\n",
    "ukca_run_yrmn = 'pm2017jan'\n",
    "path_to_ukca = Path('../../../../processed') / ukca_run_name\n",
    "fname_ukca_run = f'{ukca_run_name}_{ukca_run_yrmn}_relvl.nc'\n",
    "# Read UKCA data\n",
    "cb_c2h6 = iris.load_cube(str(path_to_ukca / fname_ukca_run), 'c2h6')\n",
    "cb_c3h8 = iris.load_cube(str(path_to_ukca / fname_ukca_run), 'c3h8')\n",
    "cb_nc4h10 = iris.load_cube(str(path_to_ukca / fname_ukca_run), 'nc4h10')\n",
    "cb_ic4h10 = iris.load_cube(str(path_to_ukca / fname_ukca_run), 'ic4h10')\n",
    "cb_nc5h12 = iris.load_cube(str(path_to_ukca / fname_ukca_run), 'nc5h12')\n",
    "cb_ic5h12 = iris.load_cube(str(path_to_ukca / fname_ukca_run), 'ic5h12')\n",
    "cb_meono2 = iris.load_cube(str(path_to_ukca / fname_ukca_run), 'meono2')\n",
    "cb_sbuono2 = iris.load_cube(str(path_to_ukca / fname_ukca_run), 'sbuono2')\n",
    "cb_n2peono2 = iris.load_cube(str(path_to_ukca / fname_ukca_run), 'n2peono2')\n",
    "cb_n3peono2 = iris.load_cube(str(path_to_ukca / fname_ukca_run), 'n3peono2')\n",
    "cb_ipeono2 = iris.load_cube(str(path_to_ukca / fname_ukca_run), 'ipeono2')\n",
    "# Load UKCA geospatial coordinates\n",
    "ukca_lats = iris.load_cube(str(Path('../../../../data') / 'ukca_coords_n96e_marcus_180705.nc'), 'mass_fraction_of_ozone_in_air').coord('latitude')\n",
    "ukca_lons = iris.load_cube(str(Path('../../../../data') / 'ukca_coords_n96e_marcus_180705.nc'), 'mass_fraction_of_ozone_in_air').coord('longitude')"
   ]
  },
  {
   "cell_type": "code",
   "execution_count": null,
   "metadata": {},
   "outputs": [],
   "source": [
    "# # Path to figures\n",
    "# path_to_figs = Path('../../../../../../results') / ukca_run_name / compared_common_id\n",
    "# path_to_figs.mkdir(exist_ok=True) # create a new folder if it doesn't exist\n",
    "# print(compared_common_id)"
   ]
  },
  {
   "cell_type": "markdown",
   "metadata": {},
   "source": [
    "#### Select geographical region for spacial averaging"
   ]
  },
  {
   "cell_type": "code",
   "execution_count": 4,
   "metadata": {},
   "outputs": [],
   "source": [
    "# Extract datetimes from ATom data\n",
    "atom_datetime = atom_dsinf.time.values.astype('<M8[us]').astype(datetime)\n",
    "atom_date_strt = atom_datetime[0]\n",
    "atom_date_stop = atom_datetime[-1]\n",
    "# Extract spatial coordinates from ATom data\n",
    "sample_lats = np.asarray(atom_dsmms.G_LAT.data) \n",
    "sample_lons = np.asarray(atom_dsmms.G_LONG.data+360)\n",
    "sample_alts = np.asarray(atom_dsmms.G_ALT.data)"
   ]
  },
  {
   "cell_type": "code",
   "execution_count": 5,
   "metadata": {},
   "outputs": [],
   "source": [
    "# Define a geographical region\n",
    "r1_llon, r1_ulon = 201.5625, 212.8125\n",
    "r1_llat, r1_ulat = 60.625, 71.875\n",
    "r1 = Polygon([(r1_llon, r1_llat), (r1_llon, r1_ulat), (r1_ulon, r1_ulat), (r1_ulon, r1_llat)])\n",
    "\n",
    "r2_llon, r2_ulon = 201.5625, 212.8125\n",
    "r2_llat, r2_ulat = 60.625, 71.875\n",
    "r2 = Polygon([(r2_llon, r2_llat), (r2_llon, r2_ulat), (r2_ulon, r2_ulat), (r2_ulon, r2_llat)])\n",
    "\n",
    "# Construct pairs of coordinate points\n",
    "sample_lon_lat_points = []\n",
    "for i, j in zip(sample_lons, sample_lats):\n",
    "    sample_lon_lat_points.append(Point(i, j))\n",
    "# Find points within a region\n",
    "r1_points_within = []\n",
    "for p in sample_lon_lat_points:\n",
    "    r1_points_within.append(p.within(r1))\n",
    "# Create UKCA lat lon grid\n",
    "grid_lons, grid_lats = np.meshgrid(ukca_lons.points, ukca_lats.points)"
   ]
  },
  {
   "cell_type": "code",
   "execution_count": 6,
   "metadata": {},
   "outputs": [],
   "source": [
    "def plot_region(lons, lats, points_within, ukca_llon, ukca_ulon, ukca_llat, ukca_ulat, llon, ulon, llat, ulat):\n",
    "    fig, ax = plt.subplots(figsize=(6,6), subplot_kw=dict(projection=ccrs.PlateCarree()), facecolor='w')\n",
    "    ax.scatter(lons, lats, transform=ccrs.PlateCarree())\n",
    "    ax.scatter(lons[points_within], lats[points_within], color='r', transform=ccrs.PlateCarree())\n",
    "    ax.add_patch(mpatches.Rectangle(xy=[ukca_llon, ukca_llat], width=ukca_ulat-ukca_llat, height=ukca_ulon-ukca_llon, facecolor='b', alpha=0.2, transform=ccrs.PlateCarree()))\n",
    "    ax.plot(grid_lons, grid_lats, color='b', alpha=0.7, transform=ccrs.PlateCarree())\n",
    "    ax.plot(grid_lons.T, grid_lats.T, color='b', alpha=0.7, transform=ccrs.PlateCarree())\n",
    "    ax.gridlines(draw_labels=True)\n",
    "    ax.coastlines()\n",
    "    ax.set_extent([llon, ulon, llat, ulat], crs=ccrs.PlateCarree());\n",
    "#     ax.set_extent([-160, -115, -2, 75], crs=ccrs.PlateCarree()) # both Jan flights"
   ]
  },
  {
   "cell_type": "code",
   "execution_count": 7,
   "metadata": {},
   "outputs": [
    {
     "data": {
      "image/png": "[encoded data removed]",
      "text/plain": [
       "<Figure size 432x432 with 1 Axes>"
      ]
     },
     "metadata": {},
     "output_type": "display_data"
    }
   ],
   "source": [
    "plot_region(sample_lons, sample_lats, r1_points_within, r1_llon, r1_ulon, r1_llat, r1_ulat, -160, -145, 60, 73)"
   ]
  },
  {
   "cell_type": "code",
   "execution_count": null,
   "metadata": {},
   "outputs": [],
   "source": [
    "plot_region(sample_lons, sample_lats, r1_points_within, r1_llon, r1_ulon, r1_llat, r1_ulat, -150, -115, 30, 65)"
   ]
  },
  {
   "cell_type": "markdown",
   "metadata": {},
   "source": [
    "#### Process ATom data"
   ]
  },
  {
   "cell_type": "code",
   "execution_count": 8,
   "metadata": {},
   "outputs": [],
   "source": [
    "# Convert ATom C2H6, C2H4, C2H2, C3H8, C3H6 to pptvC to match UKCA lumped species, namely C2H6=C2H6+C2H4+C2H2, C3H8=C3H8+C3H6\n",
    "atom_dswas_c2h6 = atom_dswas['Ethane_WAS']*2 + atom_dswas['Ethene_WAS']*2 + atom_dswas['Ethyne_WAS']*2\n",
    "atom_dswas_c3h8 = atom_dswas['Propane_WAS']*3 + atom_dswas['Propene_WAS']*3\n",
    "# Convert xarray dataset with observational data to pandas dataframe\n",
    "atom_c2h6 = atom_dswas_c2h6.to_dataframe(name='Lumped_C2H6_C2H4_C2H2')\n",
    "atom_c3h8 = atom_dswas_c3h8.to_dataframe(name='Lumped_C3H8_C3H6')\n",
    "atom_nc4h10 = atom_dswas['n-Butane_WAS'].to_dataframe()\n",
    "atom_ic4h10 = atom_dswas['i-Butane_WAS'].to_dataframe()\n",
    "atom_nc5h12 = atom_dswas['n-Pentane_WAS'].to_dataframe()\n",
    "atom_ic5h12 = atom_dswas['i-Pentane_WAS'].to_dataframe()\n",
    "atom_meono2 = atom_dswas['MeONO2_WAS'].to_dataframe()\n",
    "atom_sbuono2 = atom_dswas['2-BuONO2_WAS'].to_dataframe()\n",
    "atom_n2peono2 = atom_dswas['2-PenONO2_WAS'].to_dataframe()\n",
    "atom_n3peono2 = atom_dswas['3-PenONO2_WAS'].to_dataframe()\n",
    "atom_ipeono2 = atom_dswas['3-Methyl-2-BuONO2_WAS'].to_dataframe()"
   ]
  },
  {
   "cell_type": "code",
   "execution_count": null,
   "metadata": {},
   "outputs": [],
   "source": [
    "# Select longitudes and latitudes where ATom data is available\n",
    "lons_c2h6_notnan = np.where(atom_c2h6.Lumped_C2H6_C2H4_C2H2.isna()==False, sample_lons, atom_c2h6.Lumped_C2H6_C2H4_C2H2)\n",
    "lats_c2h6_notnan = np.where(atom_c2h6.Lumped_C2H6_C2H4_C2H2.isna()==False, sample_lats, atom_c2h6.Lumped_C2H6_C2H4_C2H2)\n",
    "lons_c3h8_notnan = np.where(atom_c3h8.Lumped_C3H8_C3H6.isna()==False, sample_lons, atom_c3h8.Lumped_C3H8_C3H6)\n",
    "lats_c3h8_notnan = np.where(atom_c3h8.Lumped_C3H8_C3H6.isna()==False, sample_lats, atom_c3h8.Lumped_C3H8_C3H6)\n",
    "lons_nc4h10_notnan = np.where(atom_nc4h10['n-Butane_WAS'].isna()==False, sample_lons, atom_nc4h10['n-Butane_WAS'])\n",
    "lats_nc4h10_notnan = np.where(atom_nc4h10['n-Butane_WAS'].isna()==False, sample_lats, atom_nc4h10['n-Butane_WAS'])\n",
    "lons_ic4h10_notnan = np.where(atom_ic4h10['i-Butane_WAS'].isna()==False, sample_lons, atom_ic4h10['i-Butane_WAS'])\n",
    "lats_ic4h10_notnan = np.where(atom_ic4h10['i-Butane_WAS'].isna()==False, sample_lats, atom_ic4h10['i-Butane_WAS'])\n",
    "lons_nc5h12_notnan = np.where(atom_nc5h12['n-Pentane_WAS'].isna()==False, sample_lons, atom_nc5h12['n-Pentane_WAS'])\n",
    "lats_nc5h12_notnan = np.where(atom_nc5h12['n-Pentane_WAS'].isna()==False, sample_lats, atom_nc5h12['n-Pentane_WAS'])\n",
    "lons_ic5h12_notnan = np.where(atom_ic5h12['i-Pentane_WAS'].isna()==False, sample_lons, atom_ic5h12['i-Pentane_WAS'])\n",
    "lats_ic5h12_notnan = np.where(atom_ic5h12['i-Pentane_WAS'].isna()==False, sample_lats, atom_ic5h12['i-Pentane_WAS'])\n",
    "lons_meono2_notnan = np.where(atom_meono2['MeONO2_WAS'].isna()==False, sample_lons, atom_meono2['MeONO2_WAS'])\n",
    "lats_meono2_notnan = np.where(atom_meono2['MeONO2_WAS'].isna()==False, sample_lats, atom_meono2['MeONO2_WAS'])\n",
    "lons_sbuono2_notnan = np.where(atom_sbuono2['2-BuONO2_WAS'].isna()==False, sample_lons, atom_sbuono2['2-BuONO2_WAS'])\n",
    "lats_sbuono2_notnan = np.where(atom_sbuono2['2-BuONO2_WAS'].isna()==False, sample_lats, atom_sbuono2['2-BuONO2_WAS'])\n",
    "lons_n2peono2_notnan = np.where(atom_n2peono2['2-PenONO2_WAS'].isna()==False, sample_lons, atom_n2peono2['2-PenONO2_WAS'])\n",
    "lats_n2peono2_notnan = np.where(atom_n2peono2['2-PenONO2_WAS'].isna()==False, sample_lats, atom_n2peono2['2-PenONO2_WAS'])\n",
    "lons_n3peono2_notnan = np.where(atom_n3peono2['3-PenONO2_WAS'].isna()==False, sample_lons, atom_n3peono2['3-PenONO2_WAS'])\n",
    "lats_n3peono2_notnan = np.where(atom_n3peono2['3-PenONO2_WAS'].isna()==False, sample_lats, atom_n3peono2['3-PenONO2_WAS'])\n",
    "lons_ipeono2_notnan = np.where(atom_ipeono2['3-Methyl-2-BuONO2_WAS'].isna()==False, sample_lons, atom_ipeono2['3-Methyl-2-BuONO2_WAS'])\n",
    "lats_ipeono2_notnan = np.where(atom_ipeono2['3-Methyl-2-BuONO2_WAS'].isna()==False, sample_lats, atom_ipeono2['3-Methyl-2-BuONO2_WAS'])"
   ]
  },
  {
   "cell_type": "code",
   "execution_count": null,
   "metadata": {},
   "outputs": [],
   "source": [
    "def plot_ts(atom, alts):\n",
    "    fig, ax = plt.subplots()\n",
    "    ax.plot(atom, marker='o')\n",
    "    ax2 = ax.twinx()\n",
    "    ax2.plot(alts, marker='o', color='grey', linestyle='--')"
   ]
  },
  {
   "cell_type": "code",
   "execution_count": null,
   "metadata": {},
   "outputs": [],
   "source": [
    "plot_ts(atom_meono2[r1_points_within].values, atom_dsmms.G_ALT[r1_points_within].data)"
   ]
  },
  {
   "cell_type": "code",
   "execution_count": 77,
   "metadata": {},
   "outputs": [],
   "source": [
    "# Choose bins\n",
    "alt_bins = np.arange(0, 14000, 500)\n",
    "alt_bin_inds = np.arange(0, len(alt_bins)-1, 1)\n",
    "alt_bin_mids = np.arange(250, 13500, 500)\n",
    "alt_obs_bin_inds = np.digitize(atom_dsmms.G_ALT.data[r1_points_within], alt_bins)\n",
    "# Bin observational data\n",
    "atom_meono2_r1_mean = atom_meono2[r1_points_within].groupby(alt_obs_bin_inds).mean().reindex(index=alt_bin_inds, fill_value=np.nan)\n",
    "atom_meono2_r1_min = atom_meono2[r1_points_within].groupby(alt_obs_bin_inds).min().reindex(index=alt_bin_inds, fill_value=np.nan)\n",
    "atom_meono2_r1_max = atom_meono2[r1_points_within].groupby(alt_obs_bin_inds).max().reindex(index=alt_bin_inds, fill_value=np.nan)\n",
    "atom_meono2_r1_std = atom_meono2[r1_points_within].groupby(alt_obs_bin_inds).std().reindex(index=alt_bin_inds, fill_value=np.nan)"
   ]
  },
  {
   "cell_type": "markdown",
   "metadata": {},
   "source": [
    "#### Process UKCA data"
   ]
  },
  {
   "cell_type": "code",
   "execution_count": 66,
   "metadata": {},
   "outputs": [],
   "source": [
    "arr_mean = []\n",
    "arr_std = []\n",
    "for i, (lbound, ubound) in enumerate(zip(alt_bins[:-1], alt_bins[1:])):\n",
    "    arr_mean.append(cb_meono2.extract(iris.Constraint(longitude=lambda cell: r1_llon <= cell <= r1_ulon, \n",
    "                                                 latitude=lambda cell: r1_llat <= cell <= r1_ulat,\n",
    "                                                 altitude=lambda cell: lbound < cell <= ubound)).collapsed(['longitude', \n",
    "                                                                                                            'latitude', \n",
    "                                                                                                            'altitude'], iris.analysis.MEAN))\n",
    "    arr_std.append(cb_meono2.extract(iris.Constraint(longitude=lambda cell: r1_llon <= cell <= r1_ulon, \n",
    "                                                 latitude=lambda cell: r1_llat <= cell <= r1_ulat,\n",
    "                                                 altitude=lambda cell: lbound < cell <= ubound)).collapsed(['longitude', \n",
    "                                                                                                            'latitude', \n",
    "                                                                                                            'altitude'], iris.analysis.STD_DEV))"
   ]
  },
  {
   "cell_type": "code",
   "execution_count": 67,
   "metadata": {},
   "outputs": [],
   "source": [
    "arr2_mean = iris.cube.CubeList(arr_mean).merge_cube()\n",
    "arr2_std = iris.cube.CubeList(arr_std).merge_cube()"
   ]
  },
  {
   "cell_type": "code",
   "execution_count": null,
   "metadata": {},
   "outputs": [],
   "source": [
    "# Calculate regional mean at each model level\n",
    "_ukca_meono2_r1 = cb_meono2.extract(iris.Constraint(longitude=lambda cell: r1_llon <= cell <= r1_ulon, \n",
    "                                                    latitude=lambda cell: r1_llat <= cell <= r1_ulat)).collapsed(['longitude', 'latitude'], iris.analysis.MEAN)\n",
    "# Convert iris cubes with model data to pandas dataframes\n",
    "ukca_meono2_r1 = _ukca_meono2_r1.copy()\n",
    "for coord in ukca_meono2_r1.coords():\n",
    "    if coord.name() in ['latitude', 'longitude', 'model_level_number', 'level_height', 'sigma', \n",
    "                        'surface_altitude', 'time', 'forecast_period', 'forecast_reference_time']:\n",
    "        ukca_meono2_r1.remove_coord(coord)\n",
    "ukca_meono2_r1_pd = iris.pandas.as_data_frame(ukca_meono2_r1)\n",
    "# Match model level altitudes with chosen altitide bins\n",
    "alt_mod_bin_inds = np.ones_like(_ukca_meono2_r1.coord('altitude').points) * np.nan\n",
    "for i, (lbound, ubound) in enumerate(zip(alt_bins[:-1], alt_bins[1:])):\n",
    "    for j, alt in enumerate(_ukca_meono2_r1.coord('altitude').points):\n",
    "        if lbound < alt <= ubound:\n",
    "            alt_mod_bin_inds[j] = i\n",
    "# Bin model data\n",
    "ukca_meono2_r1_mean = ukca_meono2_r1_pd.groupby(alt_mod_bin_inds).mean().reindex(index=alt_bin_inds, fill_value=np.nan).squeeze()\n",
    "ukca_meono2_r1_min = ukca_meono2_r1_pd.groupby(alt_mod_bin_inds).min().reindex(index=alt_bin_inds, fill_value=np.nan).squeeze()\n",
    "ukca_meono2_r1_max = ukca_meono2_r1_pd.groupby(alt_mod_bin_inds).max().reindex(index=alt_bin_inds, fill_value=np.nan).squeeze()"
   ]
  },
  {
   "cell_type": "markdown",
   "metadata": {},
   "source": [
    "#### Plot region average vertical profile"
   ]
  },
  {
   "cell_type": "code",
   "execution_count": 90,
   "metadata": {},
   "outputs": [],
   "source": [
    "def plot_vp(atom_mean, ukca_mean, atom_std, ukca_std, species, ppn, picname):\n",
    "    '''Plot area averaged vertical profile.'''\n",
    "    fig, ax = plt.subplots(figsize=(7,7), facecolor='w')\n",
    "    ax.errorbar(atom_mean, alt_bin_mids, xerr=atom_std)\n",
    "    ax.errorbar(ukca_mean, alt_bin_mids, xerr=ukca_std, color='r')\n",
    "    # common\n",
    "    ax.set_title(f'{species}, {ppn}', loc='right')\n",
    "    ax.set_title(f'{atom_date_strt.strftime(\"%b %Y\")}', loc='left')\n",
    "    ax.set_ylabel('Altitude, km')\n",
    "    ax.set_ylim(-200,13500)\n",
    "    ax.set_yticks(alt_bins)\n",
    "    ax.set_yticklabels(map(int,(alt_bins/1000)))\n",
    "    ax.legend(['ATom', f'UKCA {ukca_run_name} montly mean'], frameon=False)\n",
    "    for ytcklbl in ax.yaxis.get_ticklabels()[1::2]:\n",
    "        ytcklbl.set_visible(False)\n",
    "    if savefig: fig.savefig(path_to_figs / f'{ukca_run_name}_{compared_common_id}_{picname}.png', bbox_inches='tight')"
   ]
  },
  {
   "cell_type": "code",
   "execution_count": 92,
   "metadata": {},
   "outputs": [
    {
     "data": {
      "image/png": "[encoded data removed]",
      "text/plain": [
       "<Figure size 504x504 with 1 Axes>"
      ]
     },
     "metadata": {},
     "output_type": "display_data"
    }
   ],
   "source": [
    "plot_vp(atom_meono2_r1_mean.values, arr2_mean.data, atom_meono2_r1_std.values, arr2_std.data, str_meono2, 'pptv', 'vp_RONO2_C1')"
   ]
  }
 ],
 "metadata": {
  "anaconda-cloud": {},
  "kernelspec": {
   "display_name": "Python 3",
   "language": "python",
   "name": "python3"
  },
  "language_info": {
   "codemirror_mode": {
    "name": "ipython",
    "version": 3
   },
   "file_extension": ".py",
   "mimetype": "text/x-python",
   "name": "python",
   "nbconvert_exporter": "python",
   "pygments_lexer": "ipython3",
   "version": "3.6.6"
  }
 },
 "nbformat": 4,
 "nbformat_minor": 2
}
