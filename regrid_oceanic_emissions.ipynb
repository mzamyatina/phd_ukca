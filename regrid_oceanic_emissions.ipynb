{
 "cells": [
  {
   "cell_type": "code",
   "execution_count": 1,
   "metadata": {},
   "outputs": [],
   "source": [
    "import iris\n",
    "import numpy as np\n",
    "import xarray as xr\n",
    "import calendar\n",
    "import cartopy.util\n",
    "import cartopy.crs as ccrs\n",
    "import matplotlib as mpl\n",
    "import matplotlib.pyplot as plt\n",
    "from pathlib import Path\n",
    "from copy import copy"
   ]
  },
  {
   "cell_type": "code",
   "execution_count": 2,
   "metadata": {},
   "outputs": [],
   "source": [
    "# Read data\n",
    "path_to_geos = Path('../../external_data/GEOS-Chem')\n",
    "path_to_ukca = Path('../data')\n",
    "geos = xr.open_dataset(path_to_geos / 'ocean_rono2_2013.nc')\n",
    "ukca = iris.load_cube(str(path_to_ukca / 'xnvtc' / 'xnvtc_o3.nc'))"
   ]
  },
  {
   "cell_type": "code",
   "execution_count": 3,
   "metadata": {},
   "outputs": [],
   "source": [
    "# Delete unnecessary UKCA coordinates leaving only time, latitude and longitude (just for convenience)\n",
    "ukca.remove_coord('model_level_number')\n",
    "ukca.remove_coord('forecast_reference_time')\n",
    "ukca.remove_coord('forecast_period')\n",
    "ukca.remove_coord('level_height')\n",
    "ukca.remove_coord('sigma')"
   ]
  },
  {
   "cell_type": "code",
   "execution_count": 4,
   "metadata": {},
   "outputs": [
    {
     "data": {
      "text/plain": [
       "<xarray.Dataset>\n",
       "Dimensions:         (lat: 91, lon: 144, time: 12)\n",
       "Coordinates:\n",
       "  * time            (time) datetime64[ns] 2013-01-01 2013-02-01 ... 2013-12-01\n",
       "  * lat             (lat) float32 -89.5 -88.0 -86.0 -84.0 ... 86.0 88.0 89.5\n",
       "  * lon             (lon) float32 -180.0 -177.5 -175.0 ... 172.5 175.0 177.5\n",
       "Data variables:\n",
       "    date            (time) object ...\n",
       "    MeNO3_emission  (time, lat, lon) float32 ...\n",
       "    MeNO3_uptake    (time, lat, lon) float32 ...\n",
       "    EtNO3_emission  (time, lat, lon) float32 ...\n",
       "    EtNO3_uptake    (time, lat, lon) float32 ...\n",
       "Attributes:\n",
       "    Title:                     COARDS/netCDF file created by BPCH2COARDS (GAM...\n",
       "    Conventions:               COARDS\n",
       "    Format:                    NetCDF-4\n",
       "    Model:                     GEOSFP_47L\n",
       "    Delta_Lon:                 2.5\n",
       "    Delta_Lat:                 2.0\n",
       "    NLayers:                   47\n",
       "    Start_Date:                20130101\n",
       "    Start_Time:                0\n",
       "    End_Date:                  20130201\n",
       "    End_Time:                  0\n",
       "    Delta_Time:                744\n",
       "    nco_openmp_thread_number:  1\n",
       "    history:                   Mon Nov 12 11:27:28 2018: ncrename -v ACETSRCE...\n",
       "    NCO:                       \"4.6.4\""
      ]
     },
     "execution_count": 4,
     "metadata": {},
     "output_type": "execute_result"
    }
   ],
   "source": [
    "geos"
   ]
  },
  {
   "cell_type": "code",
   "execution_count": 5,
   "metadata": {},
   "outputs": [
    {
     "data": {
      "text/html": [
       "\n",
       "<style>\n",
       "  a.iris {\n",
       "      text-decoration: none !important;\n",
       "  }\n",
       "  table.iris {\n",
       "      white-space: pre;\n",
       "      border: 1px solid;\n",
       "      border-color: #9c9c9c;\n",
       "      font-family: monaco, monospace;\n",
       "  }\n",
       "  th.iris {\n",
       "      background: #303f3f;\n",
       "      color: #e0e0e0;\n",
       "      border-left: 1px solid;\n",
       "      border-color: #9c9c9c;\n",
       "      font-size: 1.05em;\n",
       "      min-width: 50px;\n",
       "      max-width: 125px;\n",
       "  }\n",
       "  tr.iris :first-child {\n",
       "      border-right: 1px solid #9c9c9c !important;\n",
       "  }\n",
       "  td.iris-title {\n",
       "      background: #d5dcdf;\n",
       "      border-top: 1px solid #9c9c9c;\n",
       "      font-weight: bold;\n",
       "  }\n",
       "  .iris-word-cell {\n",
       "      text-align: left !important;\n",
       "      white-space: pre;\n",
       "  }\n",
       "  .iris-subheading-cell {\n",
       "      padding-left: 2em !important;\n",
       "  }\n",
       "  .iris-inclusion-cell {\n",
       "      padding-right: 1em !important;\n",
       "  }\n",
       "  .iris-panel-body {\n",
       "      padding-top: 0px;\n",
       "  }\n",
       "  .iris-panel-title {\n",
       "      padding-left: 3em;\n",
       "  }\n",
       "  .iris-panel-title {\n",
       "      margin-top: 7px;\n",
       "  }\n",
       "</style>\n",
       "<table class=\"iris\" id=\"140644907728008\">\n",
       "    <tr class=\"iris\">\n",
       "<th class=\"iris iris-word-cell\">Mass Fraction Of Ozone In Air (kg kg-1)</th>\n",
       "<th class=\"iris iris-word-cell\">time</th>\n",
       "<th class=\"iris iris-word-cell\">--</th>\n",
       "<th class=\"iris iris-word-cell\">latitude</th>\n",
       "<th class=\"iris iris-word-cell\">longitude</th>\n",
       "</tr>\n",
       "    <tr class=\"iris\">\n",
       "<td class=\"iris-word-cell iris-subheading-cell\">Shape</td>\n",
       "<td class=\"iris iris-inclusion-cell\">119</td>\n",
       "<td class=\"iris iris-inclusion-cell\">60</td>\n",
       "<td class=\"iris iris-inclusion-cell\">73</td>\n",
       "<td class=\"iris iris-inclusion-cell\">96</td>\n",
       "</td>\n",
       "    <tr class=\"iris\">\n",
       "    <td class=\"iris-title iris-word-cell\">Dimension coordinates</td>\n",
       "    <td class=\"iris-title\"></td>\n",
       "    <td class=\"iris-title\"></td>\n",
       "    <td class=\"iris-title\"></td>\n",
       "    <td class=\"iris-title\"></td>\n",
       "</tr>\n",
       "<tr class=\"iris\">\n",
       "    <td class=\"iris-word-cell iris-subheading-cell\">\ttime</td>\n",
       "    <td class=\"iris-inclusion-cell\">x</td>\n",
       "    <td class=\"iris-inclusion-cell\">-</td>\n",
       "    <td class=\"iris-inclusion-cell\">-</td>\n",
       "    <td class=\"iris-inclusion-cell\">-</td>\n",
       "</tr>\n",
       "<tr class=\"iris\">\n",
       "    <td class=\"iris-word-cell iris-subheading-cell\">\tlatitude</td>\n",
       "    <td class=\"iris-inclusion-cell\">-</td>\n",
       "    <td class=\"iris-inclusion-cell\">-</td>\n",
       "    <td class=\"iris-inclusion-cell\">x</td>\n",
       "    <td class=\"iris-inclusion-cell\">-</td>\n",
       "</tr>\n",
       "<tr class=\"iris\">\n",
       "    <td class=\"iris-word-cell iris-subheading-cell\">\tlongitude</td>\n",
       "    <td class=\"iris-inclusion-cell\">-</td>\n",
       "    <td class=\"iris-inclusion-cell\">-</td>\n",
       "    <td class=\"iris-inclusion-cell\">-</td>\n",
       "    <td class=\"iris-inclusion-cell\">x</td>\n",
       "</tr>\n",
       "<tr class=\"iris\">\n",
       "    <td class=\"iris-title iris-word-cell\">Attributes</td>\n",
       "    <td class=\"iris-title\"></td>\n",
       "    <td class=\"iris-title\"></td>\n",
       "    <td class=\"iris-title\"></td>\n",
       "    <td class=\"iris-title\"></td>\n",
       "</tr>\n",
       "<tr class=\"iris\">\n",
       "    <td class=\"iris-word-cell iris-subheading-cell\">\tConventions</td>\n",
       "    <td class=\"iris-word-cell\" colspan=\"4\">CF-1.5</td>\n",
       "</tr>\n",
       "<tr class=\"iris\">\n",
       "    <td class=\"iris-word-cell iris-subheading-cell\">\tNCO</td>\n",
       "    <td class=\"iris-word-cell\" colspan=\"4\">4.7.3</td>\n",
       "</tr>\n",
       "<tr class=\"iris\">\n",
       "    <td class=\"iris-word-cell iris-subheading-cell\">\tSTASH</td>\n",
       "    <td class=\"iris-word-cell\" colspan=\"4\">m01s34i001</td>\n",
       "</tr>\n",
       "<tr class=\"iris\">\n",
       "    <td class=\"iris-word-cell iris-subheading-cell\">\thistory</td>\n",
       "    <td class=\"iris-word-cell\" colspan=\"4\">Sun Nov 25 17:05:36 2018: ncrcat /group_workspaces/jasmin2/ukca/vol2/ptg21/xnvtc/netcdf/xnvtc_pmk6_o3.nc.fix...</td>\n",
       "</tr>\n",
       "<tr class=\"iris\">\n",
       "    <td class=\"iris-word-cell iris-subheading-cell\">\tnco_openmp_thread_number</td>\n",
       "    <td class=\"iris-word-cell\" colspan=\"4\">1</td>\n",
       "</tr>\n",
       "<tr class=\"iris\">\n",
       "    <td class=\"iris-word-cell iris-subheading-cell\">\tsource</td>\n",
       "    <td class=\"iris-word-cell\" colspan=\"4\">Data from Met Office Unified Model</td>\n",
       "</tr>\n",
       "<tr class=\"iris\">\n",
       "    <td class=\"iris-word-cell iris-subheading-cell\">\tum_version</td>\n",
       "    <td class=\"iris-word-cell\" colspan=\"4\">7.3</td>\n",
       "</tr>\n",
       "<tr class=\"iris\">\n",
       "    <td class=\"iris-title iris-word-cell\">Cell methods</td>\n",
       "    <td class=\"iris-title\"></td>\n",
       "    <td class=\"iris-title\"></td>\n",
       "    <td class=\"iris-title\"></td>\n",
       "    <td class=\"iris-title\"></td>\n",
       "</tr>\n",
       "<tr class=\"iris\">\n",
       "    <td class=\"iris-word-cell iris-subheading-cell\">\tmean</td>\n",
       "    <td class=\"iris-word-cell\" colspan=\"4\">time (1 hour)</td>\n",
       "</tr>\n",
       "</table>\n",
       "        "
      ],
      "text/plain": [
       "<iris 'Cube' of mass_fraction_of_ozone_in_air / (kg kg-1) (time: 119; -- : 60; latitude: 73; longitude: 96)>"
      ]
     },
     "execution_count": 5,
     "metadata": {},
     "output_type": "execute_result"
    }
   ],
   "source": [
    "ukca"
   ]
  },
  {
   "cell_type": "markdown",
   "metadata": {},
   "source": [
    "So, GEOS-Chem's resolution is 2$\\times$2.5 degrees (lat$\\times$lon) (at the poles latitude step is 1.5 degrees). UKCA's v7.3 resolution is 2.5$\\times$3.75 degrees (lat$\\times$lon)."
   ]
  },
  {
   "cell_type": "code",
   "execution_count": 6,
   "metadata": {},
   "outputs": [
    {
     "data": {
      "text/plain": [
       "array([-180. , -177.5, -175. , -172.5, -170. , -167.5, -165. , -162.5,\n",
       "       -160. , -157.5, -155. , -152.5, -150. , -147.5, -145. , -142.5,\n",
       "       -140. , -137.5, -135. , -132.5, -130. , -127.5, -125. , -122.5,\n",
       "       -120. , -117.5, -115. , -112.5, -110. , -107.5, -105. , -102.5,\n",
       "       -100. ,  -97.5,  -95. ,  -92.5,  -90. ,  -87.5,  -85. ,  -82.5,\n",
       "        -80. ,  -77.5,  -75. ,  -72.5,  -70. ,  -67.5,  -65. ,  -62.5,\n",
       "        -60. ,  -57.5,  -55. ,  -52.5,  -50. ,  -47.5,  -45. ,  -42.5,\n",
       "        -40. ,  -37.5,  -35. ,  -32.5,  -30. ,  -27.5,  -25. ,  -22.5,\n",
       "        -20. ,  -17.5,  -15. ,  -12.5,  -10. ,   -7.5,   -5. ,   -2.5,\n",
       "          0. ,    2.5,    5. ,    7.5,   10. ,   12.5,   15. ,   17.5,\n",
       "         20. ,   22.5,   25. ,   27.5,   30. ,   32.5,   35. ,   37.5,\n",
       "         40. ,   42.5,   45. ,   47.5,   50. ,   52.5,   55. ,   57.5,\n",
       "         60. ,   62.5,   65. ,   67.5,   70. ,   72.5,   75. ,   77.5,\n",
       "         80. ,   82.5,   85. ,   87.5,   90. ,   92.5,   95. ,   97.5,\n",
       "        100. ,  102.5,  105. ,  107.5,  110. ,  112.5,  115. ,  117.5,\n",
       "        120. ,  122.5,  125. ,  127.5,  130. ,  132.5,  135. ,  137.5,\n",
       "        140. ,  142.5,  145. ,  147.5,  150. ,  152.5,  155. ,  157.5,\n",
       "        160. ,  162.5,  165. ,  167.5,  170. ,  172.5,  175. ,  177.5],\n",
       "      dtype=float32)"
      ]
     },
     "execution_count": 6,
     "metadata": {},
     "output_type": "execute_result"
    }
   ],
   "source": [
    "geos.MeNO3_emission.lon.values"
   ]
  },
  {
   "cell_type": "code",
   "execution_count": 7,
   "metadata": {},
   "outputs": [
    {
     "data": {
      "text/plain": [
       "array([  0.  ,   3.75,   7.5 ,  11.25,  15.  ,  18.75,  22.5 ,  26.25,\n",
       "        30.  ,  33.75,  37.5 ,  41.25,  45.  ,  48.75,  52.5 ,  56.25,\n",
       "        60.  ,  63.75,  67.5 ,  71.25,  75.  ,  78.75,  82.5 ,  86.25,\n",
       "        90.  ,  93.75,  97.5 , 101.25, 105.  , 108.75, 112.5 , 116.25,\n",
       "       120.  , 123.75, 127.5 , 131.25, 135.  , 138.75, 142.5 , 146.25,\n",
       "       150.  , 153.75, 157.5 , 161.25, 165.  , 168.75, 172.5 , 176.25,\n",
       "       180.  , 183.75, 187.5 , 191.25, 195.  , 198.75, 202.5 , 206.25,\n",
       "       210.  , 213.75, 217.5 , 221.25, 225.  , 228.75, 232.5 , 236.25,\n",
       "       240.  , 243.75, 247.5 , 251.25, 255.  , 258.75, 262.5 , 266.25,\n",
       "       270.  , 273.75, 277.5 , 281.25, 285.  , 288.75, 292.5 , 296.25,\n",
       "       300.  , 303.75, 307.5 , 311.25, 315.  , 318.75, 322.5 , 326.25,\n",
       "       330.  , 333.75, 337.5 , 341.25, 345.  , 348.75, 352.5 , 356.25],\n",
       "      dtype=float32)"
      ]
     },
     "execution_count": 7,
     "metadata": {},
     "output_type": "execute_result"
    }
   ],
   "source": [
    "ukca.coord('longitude').points"
   ]
  },
  {
   "cell_type": "code",
   "execution_count": 8,
   "metadata": {},
   "outputs": [],
   "source": [
    "def roll_cube_w2e(cube_in, inplace=False):\n",
    "    \"\"\"Takes a cube which longitudes span -180...180 and rolls them by 180 degrees west to east to 0...360.\n",
    "    Inspired by https://gist.github.com/dennissergeev/0e362a8a8a8f12b87221c1519b9903cf\"\"\"\n",
    "    if inplace:\n",
    "        cube = cube_in\n",
    "    else:\n",
    "        cube = cube_in.copy()\n",
    "    lon = cube.coord('longitude')\n",
    "    if (lon.points < 0.).any():\n",
    "        add = 180\n",
    "        cube.data = np.roll(cube.data, len(lon.points) // 2)\n",
    "        if lon.has_bounds():\n",
    "            bounds = lon.bounds + add\n",
    "        else:\n",
    "            bounds = None\n",
    "        cube.replace_coord(lon.copy(points=lon.points + add, bounds=bounds))\n",
    "    if not inplace:\n",
    "        return cube"
   ]
  },
  {
   "cell_type": "code",
   "execution_count": 9,
   "metadata": {},
   "outputs": [
    {
     "data": {
      "text/html": [
       "\n",
       "<style>\n",
       "  a.iris {\n",
       "      text-decoration: none !important;\n",
       "  }\n",
       "  table.iris {\n",
       "      white-space: pre;\n",
       "      border: 1px solid;\n",
       "      border-color: #9c9c9c;\n",
       "      font-family: monaco, monospace;\n",
       "  }\n",
       "  th.iris {\n",
       "      background: #303f3f;\n",
       "      color: #e0e0e0;\n",
       "      border-left: 1px solid;\n",
       "      border-color: #9c9c9c;\n",
       "      font-size: 1.05em;\n",
       "      min-width: 50px;\n",
       "      max-width: 125px;\n",
       "  }\n",
       "  tr.iris :first-child {\n",
       "      border-right: 1px solid #9c9c9c !important;\n",
       "  }\n",
       "  td.iris-title {\n",
       "      background: #d5dcdf;\n",
       "      border-top: 1px solid #9c9c9c;\n",
       "      font-weight: bold;\n",
       "  }\n",
       "  .iris-word-cell {\n",
       "      text-align: left !important;\n",
       "      white-space: pre;\n",
       "  }\n",
       "  .iris-subheading-cell {\n",
       "      padding-left: 2em !important;\n",
       "  }\n",
       "  .iris-inclusion-cell {\n",
       "      padding-right: 1em !important;\n",
       "  }\n",
       "  .iris-panel-body {\n",
       "      padding-top: 0px;\n",
       "  }\n",
       "  .iris-panel-title {\n",
       "      padding-left: 3em;\n",
       "  }\n",
       "  .iris-panel-title {\n",
       "      margin-top: 7px;\n",
       "  }\n",
       "</style>\n",
       "<table class=\"iris\" id=\"140644878632832\">\n",
       "    <tr class=\"iris\">\n",
       "<th class=\"iris iris-word-cell\">Methyl Nitrate Oceanic Emission (kg/m2/s)</th>\n",
       "<th class=\"iris iris-word-cell\">time</th>\n",
       "<th class=\"iris iris-word-cell\">latitude</th>\n",
       "<th class=\"iris iris-word-cell\">longitude</th>\n",
       "</tr>\n",
       "    <tr class=\"iris\">\n",
       "<td class=\"iris-word-cell iris-subheading-cell\">Shape</td>\n",
       "<td class=\"iris iris-inclusion-cell\">12</td>\n",
       "<td class=\"iris iris-inclusion-cell\">73</td>\n",
       "<td class=\"iris iris-inclusion-cell\">96</td>\n",
       "</td>\n",
       "    <tr class=\"iris\">\n",
       "    <td class=\"iris-title iris-word-cell\">Dimension coordinates</td>\n",
       "    <td class=\"iris-title\"></td>\n",
       "    <td class=\"iris-title\"></td>\n",
       "    <td class=\"iris-title\"></td>\n",
       "</tr>\n",
       "<tr class=\"iris\">\n",
       "    <td class=\"iris-word-cell iris-subheading-cell\">\ttime</td>\n",
       "    <td class=\"iris-inclusion-cell\">x</td>\n",
       "    <td class=\"iris-inclusion-cell\">-</td>\n",
       "    <td class=\"iris-inclusion-cell\">-</td>\n",
       "</tr>\n",
       "<tr class=\"iris\">\n",
       "    <td class=\"iris-word-cell iris-subheading-cell\">\tlatitude</td>\n",
       "    <td class=\"iris-inclusion-cell\">-</td>\n",
       "    <td class=\"iris-inclusion-cell\">x</td>\n",
       "    <td class=\"iris-inclusion-cell\">-</td>\n",
       "</tr>\n",
       "<tr class=\"iris\">\n",
       "    <td class=\"iris-word-cell iris-subheading-cell\">\tlongitude</td>\n",
       "    <td class=\"iris-inclusion-cell\">-</td>\n",
       "    <td class=\"iris-inclusion-cell\">-</td>\n",
       "    <td class=\"iris-inclusion-cell\">x</td>\n",
       "</tr>\n",
       "</table>\n",
       "        "
      ],
      "text/plain": [
       "<iris 'Cube' of methyl nitrate oceanic emission / (kg/m2/s) (time: 12; latitude: 73; longitude: 96)>"
      ]
     },
     "execution_count": 9,
     "metadata": {},
     "output_type": "execute_result"
    }
   ],
   "source": [
    "# Convert GEOS-Chem xarray dataset to iris cube\n",
    "geos_meono2_emis = geos.MeNO3_emission.to_iris()\n",
    "geos_etono2_emis = geos.EtNO3_emission.to_iris()\n",
    "# Rename coordinates as iris expects\n",
    "geos_meono2_emis.coord('Time, instantaneous or at start of averaging period').rename('time')\n",
    "geos_meono2_emis.coord('Latitude').rename('latitude')\n",
    "geos_meono2_emis.coord('Longitude').rename('longitude')\n",
    "geos_etono2_emis.coord('Time, instantaneous or at start of averaging period').rename('time')\n",
    "geos_etono2_emis.coord('Latitude').rename('latitude')\n",
    "geos_etono2_emis.coord('Longitude').rename('longitude')\n",
    "# Roll GEOS-Chem data west to east and regrid it onto UKCA grid\n",
    "ukca_grid = [('longitude', ukca.coord('longitude').points), ('latitude', ukca.coord('latitude').points)]\n",
    "_ukca_meono2_emis = roll_cube_w2e(geos_meono2_emis).interpolate(ukca_grid, iris.analysis.Linear())\n",
    "_ukca_etono2_emis = roll_cube_w2e(geos_etono2_emis).interpolate(ukca_grid, iris.analysis.Linear())\n",
    "# Variables to convert molecules cm-2 s-1 to kg m-2 s-1\n",
    "avogadro_number = iris.coords.AuxCoord(6.022*1e23, units='molec/mol', long_name='avogadro_number')\n",
    "molar_mass_meono2 = iris.coords.AuxCoord(77.0394, units='g/mol', long_name='molar_mass_of_methyl_nitrate')\n",
    "molar_mass_etono2 = iris.coords.AuxCoord(91.0660, units='g/mol', long_name='molar_mass_of_ethyl_nitrate')\n",
    "# Convert to kg m-2 s-1\n",
    "ukca_meono2_emis = _ukca_meono2_emis / avogadro_number * molar_mass_meono2 \n",
    "ukca_etono2_emis = _ukca_etono2_emis / avogadro_number * molar_mass_etono2 \n",
    "ukca_meono2_emis.convert_units('kg/m2/s')\n",
    "ukca_etono2_emis.convert_units('kg/m2/s')\n",
    "ukca_meono2_emis.rename('methyl nitrate oceanic emission')\n",
    "ukca_etono2_emis.rename('ethyl nitrate oceanic emission')\n",
    "ukca_meono2_emis"
   ]
  },
  {
   "cell_type": "code",
   "execution_count": 10,
   "metadata": {},
   "outputs": [
    {
     "data": {
      "image/png": "[encoded data removed]",
      "text/plain": [
       "<Figure size 432x288 with 1 Axes>"
      ]
     },
     "metadata": {
      "needs_background": "light"
     },
     "output_type": "display_data"
    }
   ],
   "source": [
    "# Quick look at the 'rolled' and regridded data\n",
    "plt.pcolormesh(ukca_meono2_emis.coord('longitude').points, ukca_meono2_emis.coord('latitude').points, ukca_meono2_emis.data[0, ...]);"
   ]
  },
  {
   "cell_type": "markdown",
   "metadata": {},
   "source": [
    "Looks correct."
   ]
  },
  {
   "cell_type": "markdown",
   "metadata": {},
   "source": [
    "### Check land masks"
   ]
  },
  {
   "cell_type": "code",
   "execution_count": 11,
   "metadata": {},
   "outputs": [
    {
     "name": "stderr",
     "output_type": "stream",
     "text": [
      "/local/mwe14avu/anaconda3/lib/python3.6/site-packages/iris/fileformats/_pyke_rules/compiled_krb/fc_rules_cf_fc.py:1932: UserWarning: Ignoring netCDF variable 'surface' invalid units 'level'\n",
      "  warnings.warn(msg)\n"
     ]
    }
   ],
   "source": [
    "# Read UM orography data\n",
    "ukca_orog = iris.load_cube(str(path_to_ukca / 'um_orography_xnvtj.nc'), 'OROGRAPHY (/STRAT LOWER BC)')"
   ]
  },
  {
   "cell_type": "code",
   "execution_count": 12,
   "metadata": {},
   "outputs": [],
   "source": [
    "# Mask UKCA heights that are equal to zero, i.e. ocean/water = True, land/depressions like the Dead Sea = False\n",
    "ukca_orog_masked = np.ma.masked_where(ukca_orog[0,0,...].data == 0., ukca_orog[0,0,...].data)\n",
    "ukca_ocean_mask = ukca_orog_masked.mask # ocean is True\n",
    "# Mask GEOS-Chem oceanic emissions that are equal to zero (in GEOS-Chem oceanic emissions are zero over land AND in the tropics)\n",
    "geos_rono2_masked = np.ma.masked_where(ukca_meono2_emis[0,...].data == 0., ukca_meono2_emis[0,...].data)\n",
    "geos_zero_emis = geos_rono2_masked.mask # zero emission is True\n",
    "# Find non-zero oceanic emissions over land (i.e. impossible values) that result from the difference in grid resolution\n",
    "correction_mask = np.broadcast_to((~ukca_ocean_mask) & (~geos_zero_emis), (12, 73, 96))\n",
    "# Apply correction mask to the data and replace masked values with zero\n",
    "ukca_meono2_emis_corrected = np.ma.masked_where(correction_mask, ukca_meono2_emis.data).filled(fill_value=0.)\n",
    "ukca_etono2_emis_corrected = np.ma.masked_where(correction_mask, ukca_etono2_emis.data).filled(fill_value=0.)"
   ]
  },
  {
   "cell_type": "code",
   "execution_count": 13,
   "metadata": {},
   "outputs": [
    {
     "data": {
      "image/png": "[encoded data removed]",
      "text/plain": [
       "<Figure size 432x288 with 1 Axes>"
      ]
     },
     "metadata": {
      "needs_background": "light"
     },
     "output_type": "display_data"
    }
   ],
   "source": [
    "# Visualize land(+tropics) correction mask\n",
    "lons = ukca.coord('longitude').points\n",
    "lats = ukca.coord('latitude').points\n",
    "fig, ax = plt.subplots(subplot_kw=dict(projection=ccrs.Robinson(central_longitude=0)))\n",
    "# Unmasked data\n",
    "ax.pcolormesh(lons, lats, ukca_meono2_emis[0,...].data, transform=ccrs.PlateCarree(), cmap='YlOrRd')\n",
    "# Black-greyish colors highlight areas where land mask correction is applied\n",
    "cmap_grid_diff = copy(plt.cm.gray) # changes from black to white\n",
    "cmap_grid_diff.set_bad(alpha=0)\n",
    "ax.pcolormesh(lons, lats, np.ma.masked_where(~correction_mask, ukca_meono2_emis.data)[0,...], transform=ccrs.PlateCarree(), cmap=cmap_grid_diff);"
   ]
  },
  {
   "cell_type": "code",
   "execution_count": 14,
   "metadata": {},
   "outputs": [
    {
     "data": {
      "image/png": "[encoded data removed]",
      "text/plain": [
       "<Figure size 432x288 with 1 Axes>"
      ]
     },
     "metadata": {
      "needs_background": "light"
     },
     "output_type": "display_data"
    }
   ],
   "source": [
    "fig, ax = plt.subplots(subplot_kw=dict(projection=ccrs.Robinson(central_longitude=0)))\n",
    "# Unmasked data\n",
    "ax.pcolormesh(lons, lats, ukca_meono2_emis[0,...].data, transform=ccrs.PlateCarree(), cmap='YlOrRd')\n",
    "# Black-greyish colors highlight areas where land mask correction is applied\n",
    "cmap_grid_diff = copy(plt.cm.gray) # changes from black to white\n",
    "cmap_grid_diff.set_bad(alpha=0)\n",
    "ax.pcolormesh(lons, lats, np.ma.masked_where(~correction_mask, ukca_meono2_emis.data)[0,...], transform=ccrs.PlateCarree(), cmap=cmap_grid_diff)\n",
    "# Masked data with fill value equal to zero where mask is applied\n",
    "cmap_corrected = copy(plt.cm.Greens)\n",
    "cmap_corrected.set_bad(alpha=0)\n",
    "ax.pcolormesh(lons, lats, ukca_meono2_emis_corrected[0,...], transform=ccrs.PlateCarree(), cmap=cmap_corrected);"
   ]
  },
  {
   "cell_type": "code",
   "execution_count": 15,
   "metadata": {},
   "outputs": [],
   "source": [
    "# Replace unmasked data in a cube with masked data\n",
    "ukca_meono2_emis.data = ukca_meono2_emis_corrected\n",
    "ukca_etono2_emis.data = ukca_etono2_emis_corrected"
   ]
  },
  {
   "cell_type": "markdown",
   "metadata": {},
   "source": [
    "### Check global burdens\n",
    "\n",
    "Fisher et al (2018): global burden due to oceanic emission for year 2013: MeONO2 is 157 Gg N a-1, EtONO2 is 27 Gg N a-1."
   ]
  },
  {
   "cell_type": "code",
   "execution_count": 16,
   "metadata": {},
   "outputs": [],
   "source": [
    "# Variables to convert to kg of N\n",
    "avogadro_number_cb = iris.cube.Cube(6.022*1e23, units='molec/mol', long_name='avogadro_number')\n",
    "molar_mass_meono2_cb = iris.cube.Cube(77.0394, units='g/mol', long_name='molar_mass_of_methyl_nitrate')\n",
    "molar_mass_etono2_cb = iris.cube.Cube(91.0660, units='g/mol', long_name='molar_mass_of_ethyl_nitrate')\n",
    "molar_mass_n_cb = iris.cube.Cube(14.0067, units='g/mol', long_name='molar_mass_of_atomic_nitrogen')"
   ]
  },
  {
   "cell_type": "markdown",
   "metadata": {},
   "source": [
    "Start with GEOS-Chem:"
   ]
  },
  {
   "cell_type": "code",
   "execution_count": 17,
   "metadata": {},
   "outputs": [
    {
     "name": "stderr",
     "output_type": "stream",
     "text": [
      "/local/mwe14avu/anaconda3/lib/python3.6/site-packages/iris/coords.py:1355: UserWarning: Collapsing a non-contiguous coordinate. Metadata may not be fully descriptive for 'time'.\n",
      "  warnings.warn(msg.format(self.name()))\n",
      "/local/mwe14avu/anaconda3/lib/python3.6/site-packages/iris/coords.py:1355: UserWarning: Collapsing a non-contiguous coordinate. Metadata may not be fully descriptive for 'time'.\n",
      "  warnings.warn(msg.format(self.name()))\n",
      "/local/mwe14avu/anaconda3/lib/python3.6/site-packages/iris/analysis/cartography.py:394: UserWarning: Using DEFAULT_SPHERICAL_EARTH_RADIUS.\n",
      "  warnings.warn(\"Using DEFAULT_SPHERICAL_EARTH_RADIUS.\")\n"
     ]
    }
   ],
   "source": [
    "# Guess coordinate bounds\n",
    "for coord in ['longitude', 'latitude']:\n",
    "    if not geos_meono2_emis.coord(coord).has_bounds():\n",
    "        geos_meono2_emis.coord(coord).guess_bounds()\n",
    "    if not geos_etono2_emis.coord(coord).has_bounds():\n",
    "        geos_etono2_emis.coord(coord).guess_bounds()\n",
    "# Calculate emission per year by weighting monthly values by month's length and adding values up\n",
    "n_days_per_month = np.asarray([calendar.monthrange(2013, i)[1] for i in range(1, 13)]) # number of days in each month in year 2013\n",
    "geos_month_weights = iris.util.broadcast_to_shape(n_days_per_month, geos_meono2_emis.shape, (0,)) # weight of each month's length\n",
    "geos_meono2_emis_per_year = (geos_meono2_emis * \n",
    "                             iris.coords.AuxCoord(86400, units='s', long_name='seconds_per_day')).collapsed(['time'],\n",
    "                                                                                                            iris.analysis.SUM,\n",
    "                                                                                                            weights=geos_month_weights)\n",
    "geos_etono2_emis_per_year = (geos_etono2_emis * \n",
    "                             iris.coords.AuxCoord(86400, units='s', long_name='seconds_per_day')).collapsed(['time'],\n",
    "                                                                                                            iris.analysis.SUM,\n",
    "                                                                                                            weights=geos_month_weights)\n",
    "# Add up all grid cells accounting for their varying area sizes\n",
    "geos_norm_area_weights = iris.analysis.cartography.area_weights(geos_meono2_emis_per_year, normalize=True)\n",
    "geos_meono2_emis_per_year_area_sum = geos_meono2_emis_per_year.collapsed(['longitude', 'latitude'], \n",
    "                                                                         iris.analysis.SUM,\n",
    "                                                                         weights=geos_norm_area_weights)\n",
    "geos_etono2_emis_per_year_area_sum = geos_etono2_emis_per_year.collapsed(['longitude', 'latitude'], \n",
    "                                                                         iris.analysis.SUM,\n",
    "                                                                         weights=geos_norm_area_weights)"
   ]
  },
  {
   "cell_type": "code",
   "execution_count": 18,
   "metadata": {},
   "outputs": [],
   "source": [
    "# Calculate Earth's area\n",
    "area_weights = iris.analysis.cartography.area_weights(geos_meono2_emis_per_year, normalize=False)\n",
    "earth_area = iris.cube.Cube(area_weights.sum(), units='m2')"
   ]
  },
  {
   "cell_type": "code",
   "execution_count": 19,
   "metadata": {},
   "outputs": [
    {
     "name": "stdout",
     "output_type": "stream",
     "text": [
      "GEOS-Chem MeONO2 global burden due to oceanic emission:  157.12963628790993 Gg\n",
      "GEOS-Chem EtONO2 global burden due to oceanic emission:  26.948046324634973 Gg\n"
     ]
    }
   ],
   "source": [
    "# Calculate GEOS-Chem global burden\n",
    "geos_meono2_emis_burden = geos_meono2_emis_per_year_area_sum * earth_area / avogadro_number_cb * molar_mass_n_cb\n",
    "geos_etono2_emis_burden = geos_etono2_emis_per_year_area_sum * earth_area / avogadro_number_cb * molar_mass_n_cb\n",
    "geos_meono2_emis_burden.convert_units('Gg')\n",
    "geos_etono2_emis_burden.convert_units('Gg')\n",
    "print('GEOS-Chem MeONO2 global burden due to oceanic emission: ', geos_meono2_emis_burden.data, 'Gg')\n",
    "print('GEOS-Chem EtONO2 global burden due to oceanic emission: ', geos_etono2_emis_burden.data, 'Gg')"
   ]
  },
  {
   "cell_type": "markdown",
   "metadata": {},
   "source": [
    "Same for UKCA:"
   ]
  },
  {
   "cell_type": "code",
   "execution_count": 20,
   "metadata": {},
   "outputs": [
    {
     "name": "stdout",
     "output_type": "stream",
     "text": [
      "UKCA MeONO2 global burden due to oceanic emission:  141.79829985462263 Gg\n",
      "UKCA EtONO2 global burden due to oceanic emission:  24.308998047013674 Gg\n"
     ]
    }
   ],
   "source": [
    "# Guess coordinate bounds\n",
    "for coord in ['longitude', 'latitude']:\n",
    "    if not ukca_meono2_emis.coord(coord).has_bounds():\n",
    "        ukca_meono2_emis.coord(coord).guess_bounds()\n",
    "    if not ukca_etono2_emis.coord(coord).has_bounds():\n",
    "        ukca_etono2_emis.coord(coord).guess_bounds()\n",
    "# Calculate emission per year by weighting monthly values by month's length and adding values up\n",
    "ukca_month_weights = iris.util.broadcast_to_shape(n_days_per_month, ukca_meono2_emis.shape, (0,))\n",
    "ukca_meono2_emis_per_year = (ukca_meono2_emis * \n",
    "                             iris.coords.AuxCoord(86400, units='s', long_name='seconds_per_day')).collapsed(['time'],\n",
    "                                                                                                            iris.analysis.SUM,\n",
    "                                                                                                            weights=ukca_month_weights)\n",
    "ukca_etono2_emis_per_year = (ukca_etono2_emis * \n",
    "                             iris.coords.AuxCoord(86400, units='s', long_name='seconds_per_day')).collapsed(['time'],\n",
    "                                                                                                            iris.analysis.SUM,\n",
    "                                                                                                            weights=ukca_month_weights)\n",
    "# Add up all grid cells accounting for their varying area sizes\n",
    "ukca_norm_area_weights = iris.analysis.cartography.area_weights(ukca_meono2_emis_per_year, normalize=True)\n",
    "ukca_meono2_emis_per_year_area_sum = ukca_meono2_emis_per_year.collapsed(['longitude', 'latitude'],\n",
    "                                                                         iris.analysis.SUM, \n",
    "                                                                         weights=ukca_norm_area_weights)\n",
    "ukca_etono2_emis_per_year_area_sum = ukca_etono2_emis_per_year.collapsed(['longitude', 'latitude'],\n",
    "                                                                         iris.analysis.SUM, \n",
    "                                                                         weights=ukca_norm_area_weights)\n",
    "# Calculate UKCA global burden\n",
    "ukca_meono2_emis_burden = ukca_meono2_emis_per_year_area_sum * earth_area * avogadro_number_cb / molar_mass_meono2_cb * molar_mass_n_cb\n",
    "ukca_etono2_emis_burden = ukca_etono2_emis_per_year_area_sum * earth_area * avogadro_number_cb / molar_mass_etono2_cb * molar_mass_n_cb\n",
    "ukca_meono2_emis_burden.convert_units('Gg')\n",
    "ukca_etono2_emis_burden.convert_units('Gg')\n",
    "print('UKCA MeONO2 global burden due to oceanic emission: ', ukca_meono2_emis_burden.data, 'Gg')\n",
    "print('UKCA EtONO2 global burden due to oceanic emission: ', ukca_etono2_emis_burden.data, 'Gg')"
   ]
  },
  {
   "cell_type": "markdown",
   "metadata": {},
   "source": [
    "So, we lost ~15 Gg (9.8%) of MeONO2 and ~2.6 Gg (9.8%) of EtONO2 after regridding and applying the land mask... Most of the difference comes from applying the UKCA land mask in the Indian Ocean."
   ]
  },
  {
   "cell_type": "markdown",
   "metadata": {},
   "source": [
    "### Create perpetual year 2013 emissions"
   ]
  },
  {
   "cell_type": "code",
   "execution_count": 21,
   "metadata": {},
   "outputs": [],
   "source": [
    "# Repeat emissions data 10 times along time axis\n",
    "perpetual_meono2_emis_arr = np.moveaxis(np.tile(np.moveaxis(ukca_meono2_emis.data, 0, -1), 10), -1, 0)\n",
    "perpetual_etono2_emis_arr = np.moveaxis(np.tile(np.moveaxis(ukca_etono2_emis.data, 0, -1), 10), -1, 0)\n",
    "# Create a new time dimention or copy ukca.coord('time') if shapes are the same\n",
    "if perpetual_meono2_emis_arr.shape == ukca.coord('time').shape:\n",
    "    time = ukca.coord('time')\n",
    "else:\n",
    "    start_date = ukca.coord('time').points[0]\n",
    "    hours_since_start_date = np.arange(start_date, start_date+10*12*30*24, 720) # montly intervals in hours using 360 day calendar\n",
    "    time = iris.coords.DimCoord(hours_since_start_date, standard_name='time', var_name='time', units=ukca.coord('time').units)"
   ]
  },
  {
   "cell_type": "code",
   "execution_count": 22,
   "metadata": {},
   "outputs": [],
   "source": [
    "# Create iris cubes\n",
    "perpetual_meono2_emis_cb = iris.cube.Cube(perpetual_meono2_emis_arr, long_name='methyl_nitrate_oceanic_emission', units='kg/m2/s',\n",
    "                                          dim_coords_and_dims=[(time, 0), (ukca.coord('latitude'), 1), (ukca.coord('longitude'), 2)])\n",
    "perpetual_etono2_emis_cb = iris.cube.Cube(perpetual_etono2_emis_arr, long_name='ethyl_nitrate_oceanic_emission', units='kg/m2/s',\n",
    "                                          dim_coords_and_dims=[(time, 0), (ukca.coord('latitude'), 1), (ukca.coord('longitude'), 2)])"
   ]
  },
  {
   "cell_type": "code",
   "execution_count": 23,
   "metadata": {},
   "outputs": [],
   "source": [
    "# Save iris cubes\n",
    "iris.save(perpetual_meono2_emis_cb, str(path_to_ukca / 'perpetual_meono2_oceanic_emissions.nc'))\n",
    "iris.save(perpetual_etono2_emis_cb, str(path_to_ukca / 'perpetual_etono2_oceanic_emissions.nc'))"
   ]
  }
 ],
 "metadata": {
  "kernelspec": {
   "display_name": "Python 3",
   "language": "python",
   "name": "python3"
  },
  "language_info": {
   "codemirror_mode": {
    "name": "ipython",
    "version": 3
   },
   "file_extension": ".py",
   "mimetype": "text/x-python",
   "name": "python",
   "nbconvert_exporter": "python",
   "pygments_lexer": "ipython3",
   "version": "3.6.6"
  }
 },
 "nbformat": 4,
 "nbformat_minor": 2
}
