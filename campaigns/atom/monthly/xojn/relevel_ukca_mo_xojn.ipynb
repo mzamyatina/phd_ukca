{
 "cells": [
  {
   "cell_type": "code",
   "execution_count": 1,
   "metadata": {
    "nbpresent": {
     "id": "46246386-fec1-4d42-bf10-698a4054dbda"
    }
   },
   "outputs": [],
   "source": [
    "# Data processing\n",
    "import iris\n",
    "import numpy as np\n",
    "import warnings\n",
    "warnings.filterwarnings('ignore', module='iris')\n",
    "from iris.experimental import stratify\n",
    "from pathlib import Path\n",
    "## Scientific parameters\n",
    "M_air = 28.97 # molar mass of dry air [g mol-1]\n",
    "# Coefficients to convert mass mixing ratio to volume mixing ratio\n",
    "coeff_ch4 = (M_air/16.0425)*1e9\n",
    "coeff_c2h6 = (M_air/30.0690)*1e12\n",
    "coeff_c3h8 = (M_air/44.0956)*1e12\n",
    "coeff_o3 = (M_air/47.997)*1e9\n",
    "coeff_oh = (M_air/17.007)*1e12\n",
    "coeff_meoo = (M_air/47.0333)*1e12\n",
    "coeff_etoo = (M_air/61.0599)*1e12\n",
    "coeff_proo = (M_air/75.0865)*1e12\n",
    "coeff_no = (M_air/30.006)*1e9\n",
    "coeff_meono2 = (M_air/77.0394)*1e12\n",
    "coeff_etono2 = (M_air/91.0660)*1e12\n",
    "coeff_prono2 = (M_air/105.0926)*1e12"
   ]
  },
  {
   "cell_type": "markdown",
   "metadata": {},
   "source": [
    "#### Read data"
   ]
  },
  {
   "cell_type": "code",
   "execution_count": 2,
   "metadata": {},
   "outputs": [],
   "source": [
    "# Choose UKCA run\n",
    "ukca_run_name = 'xojng'\n",
    "path_to_ukca = Path('../../../../../data') / ukca_run_name\n",
    "fname_ukca_run = f'{ukca_run_name}_chem_15yrs.pp'\n",
    "# Read UKCA data\n",
    "cubelist = iris.load(str(path_to_ukca / fname_ukca_run))"
   ]
  },
  {
   "cell_type": "code",
   "execution_count": 3,
   "metadata": {
    "nbpresent": {
     "id": "5bf220d9-75c8-489e-81fb-58c0a9a4f83d"
    }
   },
   "outputs": [],
   "source": [
    "# Choose variables\n",
    "rh = False\n",
    "ox = True\n",
    "nox = False\n",
    "rono2 = False\n",
    "if rh:\n",
    "    cb_ch4 = cubelist.extract_strict('mass_fraction_of_methane_in_air')*coeff_ch4\n",
    "    cb_c2h6 = cubelist.extract_strict('mass_fraction_of_ethane_in_air')*coeff_c2h6\n",
    "    cb_c3h8 = cubelist.extract_strict('mass_fraction_of_propane_in_air')*coeff_c3h8\n",
    "if ox:\n",
    "    cb_o3 = cubelist.extract_strict('mass_fraction_of_ozone_in_air')*coeff_o3\n",
    "    cb_oh = cubelist.extract_strict('mass_fraction_of_hydroxyl_radical_in_air')*coeff_oh\n",
    "#     cb_meoo = cubelist.extract_strict(iris.AttributeConstraint(STASH='m01s34i083'))*coeff_meoo\n",
    "#     cb_etoo = cubelist.extract_strict(iris.AttributeConstraint(STASH='m01s34i084'))*coeff_etoo\n",
    "#     cb_nproo = cubelist.extract_strict(iris.AttributeConstraint(STASH='m01s34i086'))*coeff_proo\n",
    "#     cb_iproo = cubelist.extract_strict(iris.AttributeConstraint(STASH='m01s34i087'))*coeff_proo\n",
    "if nox:\n",
    "    cb_no = cubelist.extract_strict('mass_fraction_of_nitrogen_monoxide_in_air')*coeff_no\n",
    "if rono2:\n",
    "    cb_meono2 = cubelist.extract_strict('mass_fraction_of_methyl_nitrate_in_air')*coeff_meono2\n",
    "    cb_etono2 = cubelist.extract_strict(iris.AttributeConstraint(STASH='m01s34i096'))*coeff_etono2\n",
    "    cb_nprono2 = cubelist.extract_strict(iris.AttributeConstraint(STASH='m01s34i097'))*coeff_prono2\n",
    "    cb_iprono2 = cubelist.extract_strict(iris.AttributeConstraint(STASH='m01s34i098'))*coeff_prono2\n",
    "# cb_iprono2 = iris.load_cube(str(path_to_ukca / fname_ukca_run), iris.AttributeConstraint(STASH='m01s34i098'))*coeff_prono2"
   ]
  },
  {
   "cell_type": "code",
   "execution_count": 4,
   "metadata": {},
   "outputs": [],
   "source": [
    "# Load surface_altitude coordinate\n",
    "orography = iris.load_cube(str(Path('../../../../../data')/'um_orography_xnvtj.nc'))\n",
    "alt_cb = iris.util.squeeze(orography)\n",
    "alt_coord = iris.coords.AuxCoord(alt_cb.data, standard_name='surface_altitude', units='m')\n",
    "# Add surface_altitude coordinate to a cube\n",
    "if rh:\n",
    "    cb_ch4.add_aux_coord(alt_coord, data_dims=[2,3])\n",
    "    cb_c2h6.add_aux_coord(alt_coord, data_dims=[2,3])\n",
    "    cb_c3h8.add_aux_coord(alt_coord, data_dims=[2,3])\n",
    "if ox:\n",
    "    cb_o3.add_aux_coord(alt_coord, data_dims=[2,3])\n",
    "    cb_oh.add_aux_coord(alt_coord, data_dims=[2,3])\n",
    "#     cb_meoo.add_aux_coord(alt_coord, data_dims=[2,3])\n",
    "#     cb_etoo.add_aux_coord(alt_coord, data_dims=[2,3])\n",
    "#     cb_nproo.add_aux_coord(alt_coord, data_dims=[2,3])\n",
    "#     cb_iproo.add_aux_coord(alt_coord, data_dims=[2,3])\n",
    "if nox:\n",
    "    cb_no.add_aux_coord(alt_coord, data_dims=[2,3])\n",
    "if rono2:\n",
    "    cb_meono2.add_aux_coord(alt_coord, data_dims=[2,3])\n",
    "    cb_etono2.add_aux_coord(alt_coord, data_dims=[2,3])\n",
    "    cb_nprono2.add_aux_coord(alt_coord, data_dims=[2,3])\n",
    "    cb_iprono2.add_aux_coord(alt_coord, data_dims=[2,3])\n",
    "# Derive altitude coordinate from surface_altitude\n",
    "# factory_kwargs = dict(delta=cb_ch4.coord('level_height'), sigma=cb_ch4.coord('sigma'), orography=cb_ch4.coord('surface_altitude'))\n",
    "# factory_ch4 = iris.aux_factory.HybridHeightFactory(**factory_kwargs)\n",
    "if rh:\n",
    "    factory_ch4 = iris.aux_factory.HybridHeightFactory(delta=cb_ch4.coord('level_height'), sigma=cb_ch4.coord('sigma'), \n",
    "                                                       orography=cb_ch4.coord('surface_altitude'))\n",
    "    factory_c2h6 = iris.aux_factory.HybridHeightFactory(delta=cb_c2h6.coord('level_height'), sigma=cb_c2h6.coord('sigma'), \n",
    "                                                        orography=cb_c2h6.coord('surface_altitude'))\n",
    "    factory_c3h8 = iris.aux_factory.HybridHeightFactory(delta=cb_c3h8.coord('level_height'), sigma=cb_c3h8.coord('sigma'), \n",
    "                                                        orography=cb_c3h8.coord('surface_altitude'))\n",
    "if ox:\n",
    "    factory_o3 = iris.aux_factory.HybridHeightFactory(delta=cb_o3.coord('level_height'), sigma=cb_o3.coord('sigma'), \n",
    "                                                      orography=cb_o3.coord('surface_altitude'))\n",
    "    factory_oh = iris.aux_factory.HybridHeightFactory(delta=cb_oh.coord('level_height'), sigma=cb_oh.coord('sigma'), \n",
    "                                                      orography=cb_oh.coord('surface_altitude'))\n",
    "#     factory_meoo = iris.aux_factory.HybridHeightFactory(delta=cb_meoo.coord('level_height'), sigma=cb_meoo.coord('sigma'), \n",
    "#                                                         orography=cb_meoo.coord('surface_altitude'))\n",
    "#     factory_etoo = iris.aux_factory.HybridHeightFactory(delta=cb_etoo.coord('level_height'), sigma=cb_etoo.coord('sigma'), \n",
    "#                                                         orography=cb_etoo.coord('surface_altitude'))\n",
    "#     factory_nproo = iris.aux_factory.HybridHeightFactory(delta=cb_nproo.coord('level_height'), sigma=cb_nproo.coord('sigma'), \n",
    "#                                                         orography=cb_nproo.coord('surface_altitude'))\n",
    "#     factory_iproo = iris.aux_factory.HybridHeightFactory(delta=cb_iproo.coord('level_height'), sigma=cb_iproo.coord('sigma'), \n",
    "#                                                         orography=cb_iproo.coord('surface_altitude'))\n",
    "if nox:\n",
    "    factory_no = iris.aux_factory.HybridHeightFactory(delta=cb_no.coord('level_height'), sigma=cb_no.coord('sigma'), \n",
    "                                                      orography=cb_no.coord('surface_altitude'))\n",
    "if rono2:\n",
    "    factory_meono2 = iris.aux_factory.HybridHeightFactory(delta=cb_meono2.coord('level_height'), sigma=cb_meono2.coord('sigma'), \n",
    "                                                          orography=cb_meono2.coord('surface_altitude'))\n",
    "    factory_etono2 = iris.aux_factory.HybridHeightFactory(delta=cb_etono2.coord('level_height'), sigma=cb_etono2.coord('sigma'), \n",
    "                                                          orography=cb_etono2.coord('surface_altitude'))\n",
    "    factory_nprono2 = iris.aux_factory.HybridHeightFactory(delta=cb_nprono2.coord('level_height'), sigma=cb_nprono2.coord('sigma'), \n",
    "                                                           orography=cb_nprono2.coord('surface_altitude'))\n",
    "    factory_iprono2 = iris.aux_factory.HybridHeightFactory(delta=cb_iprono2.coord('level_height'), sigma=cb_iprono2.coord('sigma'), \n",
    "                                                           orography=cb_iprono2.coord('surface_altitude'))\n",
    "if rh:\n",
    "    cb_ch4.add_aux_factory(factory_ch4)\n",
    "    cb_c2h6.add_aux_factory(factory_c2h6)\n",
    "    cb_c3h8.add_aux_factory(factory_c3h8)\n",
    "if ox:\n",
    "    cb_o3.add_aux_factory(factory_o3)\n",
    "    cb_oh.add_aux_factory(factory_oh)\n",
    "#     cb_meoo.add_aux_factory(factory_meoo)\n",
    "#     cb_etoo.add_aux_factory(factory_etoo)\n",
    "#     cb_nproo.add_aux_factory(factory_nproo)\n",
    "#     cb_iproo.add_aux_factory(factory_iproo)\n",
    "if nox:\n",
    "    cb_no.add_aux_factory(factory_no)\n",
    "if rono2:\n",
    "    cb_meono2.add_aux_factory(factory_meono2)\n",
    "    cb_etono2.add_aux_factory(factory_etono2)\n",
    "    cb_nprono2.add_aux_factory(factory_nprono2)\n",
    "    cb_iprono2.add_aux_factory(factory_iprono2)"
   ]
  },
  {
   "cell_type": "markdown",
   "metadata": {},
   "source": [
    "#### Relevel model data from level height to tagret levels"
   ]
  },
  {
   "cell_type": "code",
   "execution_count": 5,
   "metadata": {},
   "outputs": [],
   "source": [
    "# Relevel model data from level height to target levels\n",
    "tgt_levels = np.arange(0, 14000, 100) # [meters]\n",
    "if rh:\n",
    "    cbr_ch4 = stratify.relevel(cb_ch4, cb_ch4.coord('altitude'), tgt_levels, axis='level_height')\n",
    "    cbr_c2h6 = stratify.relevel(cb_c2h6, cb_c2h6.coord('altitude'), tgt_levels, axis='level_height')\n",
    "    cbr_c3h8 = stratify.relevel(cb_c3h8, cb_c3h8.coord('altitude'), tgt_levels, axis='level_height')\n",
    "if ox:\n",
    "    cbr_o3 = stratify.relevel(cb_o3, cb_o3.coord('altitude'), tgt_levels, axis='level_height')\n",
    "    cbr_oh = stratify.relevel(cb_oh, cb_oh.coord('altitude'), tgt_levels, axis='level_height')\n",
    "#     cbr_meoo = stratify.relevel(cb_meoo, cb_meoo.coord('altitude'), tgt_levels, axis='level_height')\n",
    "#     cbr_etoo = stratify.relevel(cb_etoo, cb_etoo.coord('altitude'), tgt_levels, axis='level_height')\n",
    "#     cbr_nproo = stratify.relevel(cb_nproo, cb_nproo.coord('altitude'), tgt_levels, axis='level_height')\n",
    "#     cbr_iproo = stratify.relevel(cb_iproo, cb_iproo.coord('altitude'), tgt_levels, axis='level_height')\n",
    "if nox:\n",
    "    cbr_no = stratify.relevel(cb_no, cb_no.coord('altitude'), tgt_levels, axis='level_height')\n",
    "if rono2:\n",
    "    cbr_meono2 = stratify.relevel(cb_meono2, cb_meono2.coord('altitude'), tgt_levels, axis='level_height')\n",
    "    cbr_etono2 = stratify.relevel(cb_etono2, cb_etono2.coord('altitude'), tgt_levels, axis='level_height')\n",
    "    cbr_nprono2 = stratify.relevel(cb_nprono2, cb_nprono2.coord('altitude'), tgt_levels, axis='level_height')\n",
    "    cbr_iprono2 = stratify.relevel(cb_iprono2, cb_iprono2.coord('altitude'), tgt_levels, axis='level_height')"
   ]
  },
  {
   "cell_type": "code",
   "execution_count": 6,
   "metadata": {},
   "outputs": [],
   "source": [
    "# Rename cubes\n",
    "if rh:\n",
    "    cbr_ch4.rename('ch4')\n",
    "    cbr_c2h6.rename('c2h6')\n",
    "    cbr_c3h8.rename('c3h8')\n",
    "    cubelist_rh = [cbr_ch4, cbr_c2h6, cbr_c3h8]\n",
    "if ox:\n",
    "    cbr_o3.rename('o3')\n",
    "    cbr_oh.rename('oh')\n",
    "#     cbr_meoo.rename('meoo')\n",
    "#     cbr_etoo.rename('etoo')\n",
    "#     cbr_nproo.rename('nproo')\n",
    "#     cbr_iproo.rename('iproo')\n",
    "    cubelist_ox = [cbr_o3, cbr_oh]#, cbr_meoo, cbr_etoo, cbr_nproo, cbr_iproo]\n",
    "if nox:\n",
    "    cbr_no.rename('no')\n",
    "    cubelist_nox = [cbr_no]\n",
    "if rono2:\n",
    "    cbr_meono2.rename('meono2')\n",
    "    cbr_etono2.rename('etono2')\n",
    "    cbr_nprono2.rename('nprono2')\n",
    "    cbr_iprono2.rename('iprono2')\n",
    "    cubelist_rono2 = [cbr_meono2, cbr_etono2, cbr_nprono2, cbr_iprono2]"
   ]
  },
  {
   "cell_type": "markdown",
   "metadata": {},
   "source": [
    "#### Save processed data"
   ]
  },
  {
   "cell_type": "code",
   "execution_count": 7,
   "metadata": {},
   "outputs": [],
   "source": [
    "# Save releveled data to .nc\n",
    "path_to_prcd = Path('../../../../../processed') / ukca_run_name\n",
    "if rh:\n",
    "    iris.save(cubelist_rh, str(path_to_prcd)+f'/{ukca_run_name}_relvl_rh.nc')\n",
    "if ox:\n",
    "    iris.save(cubelist_ox, str(path_to_prcd)+f'/{ukca_run_name}_relvl_ox.nc')\n",
    "if nox:\n",
    "    iris.save(cubelist_nox, str(path_to_prcd)+f'/{ukca_run_name}_relvl_nox.nc')\n",
    "if rono2:\n",
    "    iris.save(cubelist_rono2, str(path_to_prcd)+f'/{ukca_run_name}_relvl_rono2.nc')"
   ]
  },
  {
   "cell_type": "markdown",
   "metadata": {},
   "source": [
    "cubelist\n",
    "[<iris 'Cube' of mass_fraction_of_acetaldehyde_in_air / (kg kg-1) (time: 120; model_level_number: 60; latitude: 73; longitude: 96)>,\n",
    "<iris 'Cube' of mass_fraction_of_propanal_in_air / (kg kg-1) (time: 120; model_level_number: 60; latitude: 73; longitude: 96)>,\n",
    "<iris 'Cube' of mass_fraction_of_acetone_in_air / (kg kg-1) (time: 120; model_level_number: 60; latitude: 73; longitude: 96)>,\n",
    "<iris 'Cube' of mass_fraction_of_peroxypropionyl_nitrate_in_air / (kg kg-1) (time: 120; model_level_number: 60; latitude: 73; longitude: 96)>,\n",
    "<iris 'Cube' of mass_fraction_of_methyl_nitrate_in_air / (kg kg-1) (time: 120; model_level_number: 60; latitude: 73; longitude: 96)>,\n",
    "<iris 'Cube' of mass_fraction_of_methyl_ethyl_ketone_in_air / (kg kg-1) (time: 120; model_level_number: 60; latitude: 73; longitude: 96)>,\n",
    "<iris 'Cube' of m01s34i152 / (unknown) (time: 120; model_level_number: 60; latitude: 73; longitude: 96)>,\n",
    "<iris 'Cube' of m01s34i362 / (unknown) (time: 120; model_level_number: 60; latitude: 73; longitude: 96)>,\n",
    "<iris 'Cube' of m01s34i363 / (unknown) (time: 120; model_level_number: 60; latitude: 73; longitude: 96)>,\n",
    "<iris 'Cube' of air_temperature / (K) (time: 120; model_level_number: 60; latitude: 73; longitude: 96)>,\n",
    "<iris 'Cube' of mass_fraction_of_carbon_monoxide_in_air / (kg kg-1) (time: 120; model_level_number: 60; latitude: 73; longitude: 96)>,\n",
    "<iris 'Cube' of mass_fraction_of_dinitrogen_pentoxide_in_air / (kg kg-1) (time: 120; model_level_number: 60; latitude: 73; longitude: 96)>,\n",
    "<iris 'Cube' of mass_fraction_of_formaldehyde_in_air / (kg kg-1) (time: 120; model_level_number: 60; latitude: 73; longitude: 96)>,\n",
    "<iris 'Cube' of mass_fraction_of_hydroperoxyl_radical_in_air / (kg kg-1) (time: 120; model_level_number: 60; latitude: 73; longitude: 96)>,\n",
    "<iris 'Cube' of mass_fraction_of_hydroxyl_radical_in_air / (kg kg-1) (time: 120; model_level_number: 60; latitude: 73; longitude: 96)>,\n",
    "<iris 'Cube' of mass_fraction_of_methane_in_air / (kg kg-1) (time: 120; model_level_number: 60; latitude: 73; longitude: 96)>,\n",
    "<iris 'Cube' of mass_fraction_of_nitric_acid_in_air / (kg kg-1) (time: 120; model_level_number: 60; latitude: 73; longitude: 96)>,\n",
    "<iris 'Cube' of mass_fraction_of_nitrogen_monoxide_in_air / (kg kg-1) (time: 120; model_level_number: 60; latitude: 73; longitude: 96)>,\n",
    "<iris 'Cube' of mass_fraction_of_nitrous_acid_in_air / (kg kg-1) (time: 120; model_level_number: 60; latitude: 73; longitude: 96)>,\n",
    "<iris 'Cube' of mass_fraction_of_ozone_in_air / (kg kg-1) (time: 120; model_level_number: 60; latitude: 73; longitude: 96)>,\n",
    "<iris 'Cube' of mass_fraction_of_peroxyacetyl_nitrate_in_air / (kg kg-1) (time: 120; model_level_number: 60; latitude: 73; longitude: 96)>,\n",
    "<iris 'Cube' of mass_fraction_of_peroxynitric_acid_in_air / (kg kg-1) (time: 120; model_level_number: 60; latitude: 73; longitude: 96)>,\n",
    "<iris 'Cube' of mass_fraction_of_toluene_in_air / (kg kg-1) (time: 120; model_level_number: 60; latitude: 73; longitude: 96)>,\n",
    "<iris 'Cube' of tropopause_altitude / (m) (time: 120; latitude: 73; longitude: 96)>]"
   ]
  }
 ],
 "metadata": {
  "@deathbeds/jupyterlab-fonts": {
   "styles": {
    ":root": {
     "--jp-code-font-size": "12px"
    }
   }
  },
  "anaconda-cloud": {},
  "kernelspec": {
   "display_name": "Python 3",
   "language": "python",
   "name": "python3"
  },
  "language_info": {
   "codemirror_mode": {
    "name": "ipython",
    "version": 3
   },
   "file_extension": ".py",
   "mimetype": "text/x-python",
   "name": "python",
   "nbconvert_exporter": "python",
   "pygments_lexer": "ipython3",
   "version": "3.6.7"
  }
 },
 "nbformat": 4,
 "nbformat_minor": 2
}
